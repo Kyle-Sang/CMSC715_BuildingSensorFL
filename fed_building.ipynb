{
 "cells": [
  {
   "cell_type": "code",
   "execution_count": 2,
   "metadata": {},
   "outputs": [
    {
     "name": "stderr",
     "output_type": "stream",
     "text": [
      "/usr/local/lib/python3.8/dist-packages/tqdm/auto.py:22: TqdmWarning: IProgress not found. Please update jupyter and ipywidgets. See https://ipywidgets.readthedocs.io/en/stable/user_install.html\n",
      "  from .autonotebook import tqdm as notebook_tqdm\n"
     ]
    }
   ],
   "source": [
    "import os\n",
    "import numpy as np\n",
    "import matplotlib\n",
    "import matplotlib.pyplot as plt\n",
    "import copy\n",
    "import random\n",
    "import time\n",
    "import torchvision\n",
    "import torch\n",
    "import torch.nn as nn\n",
    "import torch.nn.functional as F\n",
    "import torchvision.models as models\n",
    "from tqdm import tqdm\n",
    "from torchvision.models import ResNet\n",
    "from torch.utils.data import Dataset, DataLoader\n",
    "from torch.utils.tensorboard import SummaryWriter\n",
    "from torchvision import transforms, utils, datasets\n",
    "from argparse import ArgumentParser\n",
    "from torchvision import transforms as tt\n",
    "import csv\n",
    "from collections import defaultdict\n",
    "import torch.nn.utils.prune as prune\n",
    "\n",
    "# set manual seed for reproducibility\n",
    "# seed = 42\n",
    "\n",
    "# # general reproducibility\n",
    "# random.seed(seed)\n",
    "# np.random.seed(seed)\n",
    "# torch.manual_seed(seed)\n",
    "\n",
    "# gpu training specific\n",
    "torch.backends.cudnn.deterministic = True\n",
    "torch.backends.cudnn.benchmark = False\n",
    "\n",
    "from PIL import Image\n",
    "import numpy as np\n",
    "import torchvision.transforms.functional as T\n",
    "import glob, random"
   ]
  },
  {
   "cell_type": "code",
   "execution_count": 3,
   "metadata": {},
   "outputs": [],
   "source": [
    "import pandas as pd\n",
    "import torch\n",
    "from torch.utils.data import Dataset, DataLoader\n",
    "\n",
    "class CustomDataset(Dataset):\n",
    "    def __init__(self, csv_file, idxs, transform=None):\n",
    "        self.dataset = pd.read_csv(csv_file, header=None)\n",
    "        self.transform = transform\n",
    "\n",
    "        self.idxs = list(idxs)\n",
    "\n",
    "\n",
    "    def __len__(self):\n",
    "        return len(self.idxs)\n",
    "\n",
    "    def __getitem__(self, item):\n",
    "        # Extract 11 input values and 1 target value\n",
    "        inputs = self.dataset.iloc[self.idxs[item], :-1].values.astype(np.float32)\n",
    "        target = self.dataset.iloc[self.idxs[item], -1].astype(np.float32)\n",
    "\n",
    "        return inputs, target"
   ]
  },
  {
   "cell_type": "code",
   "execution_count": 4,
   "metadata": {},
   "outputs": [],
   "source": [
    "class ClientUpdate(object):\n",
    "    def __init__(self, dataset, batchSize, learning_rate, epochs, idxs, sch_flag):\n",
    "        self.train_loader = DataLoader(CustomDataset(dataset, idxs), batch_size=batchSize, shuffle=True)\n",
    "        self.learning_rate = learning_rate\n",
    "        self.epochs = epochs\n",
    "        self.sch_flag = sch_flag\n",
    "\n",
    "    def train(self, model):\n",
    "\n",
    "        criterion = nn.MSELoss()\n",
    "        # optimizer = torch.optim.SGD(model.parameters(), lr=self.learning_rate, momentum=0.95, weight_decay = 5e-4)\n",
    "        optimizer = torch.optim.Adam(model.parameters(), lr=self.learning_rate)\n",
    "        # if self.sch_flag == True:\n",
    "        #    scheduler = torch.optim.lr_scheduler.ReduceLROnPlateau(optimizer, mode='min', factor=0.5)\n",
    "        # my_lr_scheduler = torch.optim.lr_scheduler.StepLR(optimizer, step_size=1, gamma=0.99)\n",
    "        e_loss = []\n",
    "        for epoch in range(1, self.epochs + 1):\n",
    "\n",
    "            train_loss = 0.0\n",
    "\n",
    "            model.train()\n",
    "            for data, labels in self.train_loader:\n",
    "                if data.size()[0] < 2:\n",
    "                    continue;\n",
    "\n",
    "                if torch.cuda.is_available():\n",
    "                    data, labels = data.cuda(), labels.cuda()\n",
    "\n",
    "                # clear the gradients\n",
    "                optimizer.zero_grad()\n",
    "                # make a forward pass\n",
    "                output = model(data)\n",
    "                # calculate the loss\n",
    "                loss = criterion(output, labels.unsqueeze(1))\n",
    "                # do a backwards pass\n",
    "                loss.backward()\n",
    "                # perform a single optimization step\n",
    "                optimizer.step()\n",
    "                # update training loss\n",
    "                train_loss += loss.item() * data.size(0)\n",
    "                # if self.sch_flag == True:\n",
    "                #  scheduler.step(train_loss)\n",
    "            # average losses\n",
    "            train_loss = train_loss / len(self.train_loader.dataset)\n",
    "            e_loss.append(train_loss)\n",
    "\n",
    "            # self.learning_rate = optimizer.param_groups[0]['lr']\n",
    "\n",
    "        total_loss = sum(e_loss) / len(e_loss)\n",
    "\n",
    "        return model.state_dict(), total_loss"
   ]
  },
  {
   "cell_type": "code",
   "execution_count": 5,
   "metadata": {},
   "outputs": [],
   "source": [
    "\"\"\"## Testing Loop\"\"\"\n",
    "\n",
    "\n",
    "def testing(model, dataset, bs, criterion, num_classes, classes):\n",
    "    # test loss\n",
    "\n",
    "    test_loss = 0.0\n",
    "    idxs = np.zeros(1614)\n",
    "    for i in range(6):\n",
    "        idxs[i * 269: (i + 1) * 269] = np.arange((i + 1) * 2688 - 269, (i + 1) * 2688)\n",
    "\n",
    "    idxs = np.arange(14515, 16128)\n",
    "        \n",
    "    test_loader = DataLoader(CustomDataset(dataset, idxs.astype(int)), batch_size=bs, shuffle=True)\n",
    "    l = len(test_loader)\n",
    "    model.eval()\n",
    "    mae = 0\n",
    "    for data, labels in test_loader:\n",
    "\n",
    "        if torch.cuda.is_available():\n",
    "            data, labels = data.cuda(), labels.cuda()\n",
    "            \n",
    "        output = model(data)\n",
    "        loss = criterion(output, labels.unsqueeze(1))\n",
    "        test_loss += loss.item() * data.size(0)\n",
    "\n",
    "        # print(output)\n",
    "        # print(labels)\n",
    "        # print(sum(output - labels))\n",
    "\n",
    "        mae += sum(abs(output.squeeze() - labels.squeeze())).item()\n",
    "\n",
    "    # avg test loss\n",
    "    test_loss = test_loss / len(test_loader.dataset)\n",
    "\n",
    "    return mae / len(test_loader.dataset), test_loss"
   ]
  },
  {
   "cell_type": "code",
   "execution_count": 6,
   "metadata": {},
   "outputs": [],
   "source": [
    "\"\"\"### Server Side Training\n",
    "\n",
    "Following Algorithm 1 from the paper\n",
    "\"\"\"\n",
    "\n",
    "def training(model, rounds, batch_size, lr, ds, data_dict, C, K, E, plt_title, plt_color, cifar_data_test,\n",
    "             test_batch_size, criterion, num_classes, classes_test, sch_flag, filename, cr):\n",
    "    \"\"\"\n",
    "    Function implements the Federated Averaging Algorithm from the FedAvg paper.\n",
    "    Specifically, this function is used for the server side training and weight update\n",
    "\n",
    "    Params:\n",
    "      - model:           PyTorch model to train\n",
    "      - rounds:          Number of communication rounds for the client update\n",
    "      - batch_size:      Batch size for client update training\n",
    "      - lr:              Learning rate used for client update training\n",
    "      - ds:              Dataset used for training\n",
    "      - data_dict:       Type of data partition used for training (IID or non-IID)\n",
    "      - C:               Fraction of clients randomly chosen to perform computation on each round\n",
    "      - K:               Total number of clients\n",
    "      - E:               Number of training passes each client makes over its local dataset per round\n",
    "      - tb_writer_name:  Directory name to save the tensorboard logs\n",
    "    Returns:\n",
    "      - model:           Trained model on the server\n",
    "    \"\"\"\n",
    "    for name, module in model.named_modules():\n",
    "        if isinstance(module, torch.nn.Conv2d):\n",
    "            prune.l1_unstructured(module, name='weight', amount=1-cr)\n",
    "        elif isinstance(module, torch.nn.Linear):\n",
    "            prune.l1_unstructured(module, name='weight', amount=1-cr)\n",
    "        elif isinstance(module, torch.nn.BatchNorm2d):\n",
    "            prune.l1_unstructured(module, name='weight', amount=1-cr)\n",
    "    \n",
    "    \n",
    "    # global model weights\n",
    "    global_weights = model.state_dict()\n",
    "    \n",
    "\n",
    "    # training loss\n",
    "    train_loss = []\n",
    "    test_loss = []\n",
    "    test_accuracy = []\n",
    "    best_accuracy = 9999\n",
    "    # measure time\n",
    "    start = time.time()\n",
    "\n",
    "    for curr_round in range(1, rounds + 1):\n",
    "\n",
    "        for name, module in model.named_modules():\n",
    "            if isinstance(module, torch.nn.Conv2d):\n",
    "                prune.remove(module, name='weight')\n",
    "            elif isinstance(module, torch.nn.Linear):\n",
    "                prune.remove(module, name='weight',)\n",
    "            elif isinstance(module, torch.nn.BatchNorm2d):\n",
    "                prune.remove(module, name='weight')\n",
    "\n",
    "        w, local_loss = [], []\n",
    "        # Retrieve the number of clients participating in the current training\n",
    "        m = max(int(C * K), 1)\n",
    "        # Sample a subset of K clients according with the value defined before\n",
    "        S_t = np.random.choice(range(K), m, replace=False)\n",
    "        # For the selected clients start a local training\n",
    "        for k in tqdm(S_t):\n",
    "            # Compute a local update\n",
    "            local_update = ClientUpdate(dataset=ds, batchSize=batch_size, learning_rate=lr, epochs=E, idxs=data_dict[k],\n",
    "                                        sch_flag=sch_flag)\n",
    "            # Update means retrieve the values of the network weights\n",
    "            weights, loss = local_update.train(model=copy.deepcopy(model))\n",
    "\n",
    "            w.append(copy.deepcopy(weights))\n",
    "            local_loss.append(copy.deepcopy(loss))\n",
    "        # lr = 0.999*lr\n",
    "        # updating the global weights\n",
    "        weights_avg = copy.deepcopy(w[0])\n",
    "        for k in weights_avg.keys():\n",
    "            for i in range(1, len(w)):\n",
    "                weights_avg[k] += w[i][k]\n",
    "\n",
    "            weights_avg[k] = torch.div(weights_avg[k], len(w))\n",
    "\n",
    "        global_weights = weights_avg\n",
    "\n",
    "        if curr_round == 100:\n",
    "            lr = lr / 2\n",
    "            E = E - 1\n",
    "\n",
    "        if curr_round == 150:\n",
    "            lr = lr / 2\n",
    "            E = E - 2\n",
    "\n",
    "        if curr_round == 175:\n",
    "            lr = lr / 5\n",
    "            E = E - 3\n",
    "\n",
    "        # move the updated weights to our model state dict\n",
    "        model.load_state_dict(global_weights)\n",
    "\n",
    "        for name, module in model.named_modules():\n",
    "            if isinstance(module, torch.nn.Conv2d):\n",
    "                prune.l1_unstructured(module, name='weight', amount=1-cr)\n",
    "            elif isinstance(module, torch.nn.Linear):\n",
    "                prune.l1_unstructured(module, name='weight', amount=1-cr)\n",
    "            elif isinstance(module, torch.nn.BatchNorm2d):\n",
    "                prune.l1_unstructured(module, name='weight', amount=1-cr)\n",
    "\n",
    "        # loss\n",
    "        loss_avg = sum(local_loss) / len(local_loss)\n",
    "        # print('Round: {}... \\tAverage Loss: {}'.format(curr_round, round(loss_avg, 3)), lr)\n",
    "        train_loss.append(loss_avg)\n",
    "\n",
    "        t_accuracy, t_loss = testing(model, cifar_data_test, test_batch_size, criterion, num_classes, classes_test)\n",
    "        test_accuracy.append(t_accuracy)\n",
    "        test_loss.append(t_loss)\n",
    "\n",
    "        if best_accuracy > t_accuracy:\n",
    "            best_accuracy = t_accuracy\n",
    "        # torch.save(model.state_dict(), plt_title)\n",
    "        if filename is not None:\n",
    "            with open(filename, 'a') as f:\n",
    "                # create the csv writer\n",
    "                writer = csv.writer(f)\n",
    "\n",
    "                # write a row to the csv file\n",
    "                writer.writerow([curr_round, loss_avg, t_loss, t_accuracy, best_accuracy])\n",
    "        print(f\"Current Round: {curr_round}, Average Loss: {loss_avg}, Test Loss: {t_loss}, Test Accuracy: {t_accuracy}, Best: {best_accuracy}\")\n",
    "        # print('best_accuracy:', best_accuracy, '---Round:', curr_round, '---lr', lr, '----localEpocs--', E)\n",
    "\n",
    "    end = time.time()\n",
    "    plt.rcParams.update({'font.size': 8})\n",
    "    # fig, ax = plt.subplots()\n",
    "    # x_axis = np.arange(1, rounds + 1)\n",
    "    # y_axis1 = np.array(train_loss)\n",
    "    # y_axis2 = np.array(test_accuracy)\n",
    "    # y_axis3 = np.array(test_loss)\n",
    "\n",
    "    # ax.plot(x_axis, y_axis1, 'tab:' + 'green', label='train_loss')\n",
    "    # ax.plot(x_axis, y_axis2, 'tab:' + 'blue', label='test_accuracy')\n",
    "    # ax.plot(x_axis, y_axis3, 'tab:' + 'red', label='test_loss')\n",
    "    # ax.legend(loc='upper left')\n",
    "    # ax.set(xlabel='Number of Rounds', ylabel='Train Loss',\n",
    "    #        title=plt_title)\n",
    "    # ax.grid()\n",
    "    # fig.savefig(plt_title+'.jpg', format='jpg')\n",
    "    print(\"Training Done!\")\n",
    "    print(f\"Best Accuracy: {best_accuracy}\")\n",
    "    print(\"Total time taken to Train: {}\".format(end - start))\n",
    "\n",
    "    return model"
   ]
  },
  {
   "cell_type": "code",
   "execution_count": 7,
   "metadata": {},
   "outputs": [],
   "source": [
    "data_dict = {}\n",
    "for i in range(6):\n",
    "    data_dict[i] = np.arange(i * 2688, (i + 1) * 2688 - 269)"
   ]
  },
  {
   "cell_type": "code",
   "execution_count": 8,
   "metadata": {},
   "outputs": [],
   "source": [
    "class RegressionModel(nn.Module):\n",
    "    def __init__(self, input_size):\n",
    "        super(RegressionModel, self).__init__()\n",
    "        self.fc1 = nn.Linear(input_size, 64)\n",
    "        self.relu1 = nn.ReLU()\n",
    "        self.fc2 = nn.Linear(64, 32)\n",
    "        self.relu2 = nn.ReLU()\n",
    "        self.fc3 = nn.Linear(32, 1)\n",
    "\n",
    "    def forward(self, x):\n",
    "        x = self.relu1(self.fc1(x))\n",
    "        x = self.relu2(self.fc2(x))\n",
    "        x = self.fc3(x)\n",
    "        return x"
   ]
  },
  {
   "cell_type": "code",
   "execution_count": 52,
   "metadata": {},
   "outputs": [
    {
     "name": "stderr",
     "output_type": "stream",
     "text": [
      "100%|██████████| 6/6 [00:01<00:00,  3.48it/s]\n"
     ]
    },
    {
     "name": "stdout",
     "output_type": "stream",
     "text": [
      "Current Round: 1, Average Loss: 716.0542008201659, Test Loss: 1885.3520388668207, Test Accuracy: 39.854440505915264, Best: 39.854440505915264\n"
     ]
    },
    {
     "name": "stderr",
     "output_type": "stream",
     "text": [
      "100%|██████████| 6/6 [00:01<00:00,  3.57it/s]\n"
     ]
    },
    {
     "name": "stdout",
     "output_type": "stream",
     "text": [
      "Current Round: 2, Average Loss: 381.92865688268256, Test Loss: 1210.8416231999167, Test Accuracy: 30.888493704529942, Best: 30.888493704529942\n"
     ]
    },
    {
     "name": "stderr",
     "output_type": "stream",
     "text": [
      "100%|██████████| 6/6 [00:01<00:00,  3.48it/s]\n"
     ]
    },
    {
     "name": "stdout",
     "output_type": "stream",
     "text": [
      "Current Round: 3, Average Loss: 256.7262716864988, Test Loss: 759.1903847512481, Test Accuracy: 23.673450633052557, Best: 23.673450633052557\n"
     ]
    },
    {
     "name": "stderr",
     "output_type": "stream",
     "text": [
      "100%|██████████| 6/6 [00:01<00:00,  3.55it/s]\n"
     ]
    },
    {
     "name": "stdout",
     "output_type": "stream",
     "text": [
      "Current Round: 4, Average Loss: 187.74726463418799, Test Loss: 499.9100821640855, Test Accuracy: 18.199962254350513, Best: 18.199962254350513\n"
     ]
    },
    {
     "name": "stderr",
     "output_type": "stream",
     "text": [
      "100%|██████████| 6/6 [00:01<00:00,  3.50it/s]\n"
     ]
    },
    {
     "name": "stdout",
     "output_type": "stream",
     "text": [
      "Current Round: 5, Average Loss: 147.9753803683819, Test Loss: 357.92495334491855, Test Accuracy: 14.666946051880034, Best: 14.666946051880034\n"
     ]
    },
    {
     "name": "stderr",
     "output_type": "stream",
     "text": [
      "100%|██████████| 6/6 [00:01<00:00,  3.48it/s]\n"
     ]
    },
    {
     "name": "stdout",
     "output_type": "stream",
     "text": [
      "Current Round: 6, Average Loss: 126.65970371872397, Test Loss: 261.0392914167992, Test Accuracy: 11.949981131665917, Best: 11.949981131665917\n"
     ]
    },
    {
     "name": "stderr",
     "output_type": "stream",
     "text": [
      "100%|██████████| 6/6 [00:01<00:00,  3.44it/s]\n"
     ]
    },
    {
     "name": "stdout",
     "output_type": "stream",
     "text": [
      "Current Round: 7, Average Loss: 114.1485709862816, Test Loss: 196.96403912988131, Test Accuracy: 10.050950458058637, Best: 10.050950458058637\n"
     ]
    },
    {
     "name": "stderr",
     "output_type": "stream",
     "text": [
      "100%|██████████| 6/6 [00:01<00:00,  3.38it/s]\n"
     ]
    },
    {
     "name": "stdout",
     "output_type": "stream",
     "text": [
      "Current Round: 8, Average Loss: 101.13725333458893, Test Loss: 165.70743349056502, Test Accuracy: 9.267746813087511, Best: 9.267746813087511\n"
     ]
    },
    {
     "name": "stderr",
     "output_type": "stream",
     "text": [
      "100%|██████████| 6/6 [00:01<00:00,  3.44it/s]\n"
     ]
    },
    {
     "name": "stdout",
     "output_type": "stream",
     "text": [
      "Current Round: 9, Average Loss: 94.60161785522867, Test Loss: 149.0046364515564, Test Accuracy: 9.029159004655765, Best: 9.029159004655765\n"
     ]
    },
    {
     "name": "stderr",
     "output_type": "stream",
     "text": [
      "100%|██████████| 6/6 [00:01<00:00,  3.53it/s]\n"
     ]
    },
    {
     "name": "stdout",
     "output_type": "stream",
     "text": [
      "Current Round: 10, Average Loss: 93.02910734783507, Test Loss: 142.37262525460238, Test Accuracy: 8.985986118718447, Best: 8.985986118718447\n"
     ]
    },
    {
     "name": "stderr",
     "output_type": "stream",
     "text": [
      "100%|██████████| 6/6 [00:01<00:00,  3.34it/s]\n"
     ]
    },
    {
     "name": "stdout",
     "output_type": "stream",
     "text": [
      "Current Round: 11, Average Loss: 88.10576266987488, Test Loss: 136.28788333787793, Test Accuracy: 8.933784938656265, Best: 8.933784938656265\n"
     ]
    },
    {
     "name": "stderr",
     "output_type": "stream",
     "text": [
      "100%|██████████| 6/6 [00:01<00:00,  3.52it/s]\n"
     ]
    },
    {
     "name": "stdout",
     "output_type": "stream",
     "text": [
      "Current Round: 12, Average Loss: 84.29795708011723, Test Loss: 132.56506325173407, Test Accuracy: 8.838365637532249, Best: 8.838365637532249\n"
     ]
    },
    {
     "name": "stderr",
     "output_type": "stream",
     "text": [
      "100%|██████████| 6/6 [00:01<00:00,  3.40it/s]\n"
     ]
    },
    {
     "name": "stdout",
     "output_type": "stream",
     "text": [
      "Current Round: 13, Average Loss: 83.03828228927766, Test Loss: 130.78885796603365, Test Accuracy: 8.797957310446133, Best: 8.797957310446133\n"
     ]
    },
    {
     "name": "stderr",
     "output_type": "stream",
     "text": [
      "100%|██████████| 6/6 [00:01<00:00,  3.38it/s]\n"
     ]
    },
    {
     "name": "stdout",
     "output_type": "stream",
     "text": [
      "Current Round: 14, Average Loss: 82.69162583991779, Test Loss: 128.4324224257041, Test Accuracy: 8.723936014754473, Best: 8.723936014754473\n"
     ]
    },
    {
     "name": "stderr",
     "output_type": "stream",
     "text": [
      "100%|██████████| 6/6 [00:01<00:00,  3.38it/s]\n"
     ]
    },
    {
     "name": "stdout",
     "output_type": "stream",
     "text": [
      "Current Round: 15, Average Loss: 80.59581173490078, Test Loss: 130.5223661528201, Test Accuracy: 8.729657928296625, Best: 8.723936014754473\n"
     ]
    },
    {
     "name": "stderr",
     "output_type": "stream",
     "text": [
      "100%|██████████| 6/6 [00:01<00:00,  3.53it/s]\n"
     ]
    },
    {
     "name": "stdout",
     "output_type": "stream",
     "text": [
      "Current Round: 16, Average Loss: 79.08637191409231, Test Loss: 128.49185423239086, Test Accuracy: 8.637147492192492, Best: 8.637147492192492\n"
     ]
    },
    {
     "name": "stderr",
     "output_type": "stream",
     "text": [
      "100%|██████████| 6/6 [00:01<00:00,  3.72it/s]\n"
     ]
    },
    {
     "name": "stdout",
     "output_type": "stream",
     "text": [
      "Current Round: 17, Average Loss: 78.6755176792957, Test Loss: 126.38581973904239, Test Accuracy: 8.552257086412318, Best: 8.552257086412318\n"
     ]
    },
    {
     "name": "stderr",
     "output_type": "stream",
     "text": [
      "100%|██████████| 6/6 [00:01<00:00,  3.72it/s]\n"
     ]
    },
    {
     "name": "stdout",
     "output_type": "stream",
     "text": [
      "Current Round: 18, Average Loss: 75.92676960743539, Test Loss: 126.35626152193097, Test Accuracy: 8.486419557195614, Best: 8.486419557195614\n"
     ]
    },
    {
     "name": "stderr",
     "output_type": "stream",
     "text": [
      "100%|██████████| 6/6 [00:01<00:00,  3.43it/s]\n"
     ]
    },
    {
     "name": "stdout",
     "output_type": "stream",
     "text": [
      "Current Round: 19, Average Loss: 75.83520817240851, Test Loss: 123.48944551217954, Test Accuracy: 8.284101878547904, Best: 8.284101878547904\n"
     ]
    },
    {
     "name": "stderr",
     "output_type": "stream",
     "text": [
      "100%|██████████| 6/6 [00:01<00:00,  3.40it/s]\n"
     ]
    },
    {
     "name": "stdout",
     "output_type": "stream",
     "text": [
      "Current Round: 20, Average Loss: 76.0130880784443, Test Loss: 124.91980449382626, Test Accuracy: 8.294017808292583, Best: 8.284101878547904\n"
     ]
    },
    {
     "name": "stderr",
     "output_type": "stream",
     "text": [
      "100%|██████████| 6/6 [00:01<00:00,  3.48it/s]\n"
     ]
    },
    {
     "name": "stdout",
     "output_type": "stream",
     "text": [
      "Current Round: 21, Average Loss: 74.9507681736362, Test Loss: 125.67361717661173, Test Accuracy: 8.288857350118985, Best: 8.284101878547904\n"
     ]
    },
    {
     "name": "stderr",
     "output_type": "stream",
     "text": [
      "100%|██████████| 6/6 [00:01<00:00,  3.47it/s]\n"
     ]
    },
    {
     "name": "stdout",
     "output_type": "stream",
     "text": [
      "Current Round: 22, Average Loss: 72.93213480283065, Test Loss: 127.59125357128615, Test Accuracy: 8.318718457606055, Best: 8.284101878547904\n"
     ]
    },
    {
     "name": "stderr",
     "output_type": "stream",
     "text": [
      "100%|██████████| 6/6 [00:01<00:00,  3.46it/s]\n"
     ]
    },
    {
     "name": "stdout",
     "output_type": "stream",
     "text": [
      "Current Round: 23, Average Loss: 71.8790537177227, Test Loss: 129.19917903443547, Test Accuracy: 8.323293728456179, Best: 8.284101878547904\n"
     ]
    },
    {
     "name": "stderr",
     "output_type": "stream",
     "text": [
      "100%|██████████| 6/6 [00:01<00:00,  3.49it/s]\n"
     ]
    },
    {
     "name": "stdout",
     "output_type": "stream",
     "text": [
      "Current Round: 24, Average Loss: 70.3543607935985, Test Loss: 131.69250992114067, Test Accuracy: 8.345930879443994, Best: 8.284101878547904\n"
     ]
    },
    {
     "name": "stderr",
     "output_type": "stream",
     "text": [
      "100%|██████████| 6/6 [00:01<00:00,  3.54it/s]\n"
     ]
    },
    {
     "name": "stdout",
     "output_type": "stream",
     "text": [
      "Current Round: 25, Average Loss: 70.7560997288533, Test Loss: 135.67423258453164, Test Accuracy: 8.41753720705394, Best: 8.284101878547904\n"
     ]
    },
    {
     "name": "stderr",
     "output_type": "stream",
     "text": [
      "100%|██████████| 6/6 [00:01<00:00,  3.47it/s]\n"
     ]
    },
    {
     "name": "stdout",
     "output_type": "stream",
     "text": [
      "Current Round: 26, Average Loss: 71.88303591158002, Test Loss: 135.60728274125148, Test Accuracy: 8.362161586718932, Best: 8.284101878547904\n"
     ]
    },
    {
     "name": "stderr",
     "output_type": "stream",
     "text": [
      "100%|██████████| 6/6 [00:01<00:00,  3.41it/s]\n"
     ]
    },
    {
     "name": "stdout",
     "output_type": "stream",
     "text": [
      "Current Round: 27, Average Loss: 70.74934545830784, Test Loss: 136.33309487851227, Test Accuracy: 8.328129701011687, Best: 8.284101878547904\n"
     ]
    },
    {
     "name": "stderr",
     "output_type": "stream",
     "text": [
      "100%|██████████| 6/6 [00:01<00:00,  3.47it/s]\n"
     ]
    },
    {
     "name": "stdout",
     "output_type": "stream",
     "text": [
      "Current Round: 28, Average Loss: 70.14466744318011, Test Loss: 136.24897769382952, Test Accuracy: 8.282378375160945, Best: 8.282378375160945\n"
     ]
    },
    {
     "name": "stderr",
     "output_type": "stream",
     "text": [
      "100%|██████████| 6/6 [00:01<00:00,  3.42it/s]\n"
     ]
    },
    {
     "name": "stdout",
     "output_type": "stream",
     "text": [
      "Current Round: 29, Average Loss: 71.92655171371614, Test Loss: 132.757295956482, Test Accuracy: 8.148409922622246, Best: 8.148409922622246\n"
     ]
    },
    {
     "name": "stderr",
     "output_type": "stream",
     "text": [
      "100%|██████████| 6/6 [00:01<00:00,  3.54it/s]\n"
     ]
    },
    {
     "name": "stdout",
     "output_type": "stream",
     "text": [
      "Current Round: 30, Average Loss: 70.08902284961702, Test Loss: 133.4548575385131, Test Accuracy: 8.099442008111852, Best: 8.099442008111852\n"
     ]
    },
    {
     "name": "stderr",
     "output_type": "stream",
     "text": [
      "100%|██████████| 6/6 [00:01<00:00,  3.39it/s]\n"
     ]
    },
    {
     "name": "stdout",
     "output_type": "stream",
     "text": [
      "Current Round: 31, Average Loss: 67.26586581768044, Test Loss: 132.79294268537632, Test Accuracy: 8.05190493833029, Best: 8.05190493833029\n"
     ]
    },
    {
     "name": "stderr",
     "output_type": "stream",
     "text": [
      "100%|██████████| 6/6 [00:01<00:00,  3.41it/s]\n"
     ]
    },
    {
     "name": "stdout",
     "output_type": "stream",
     "text": [
      "Current Round: 32, Average Loss: 67.9127855427061, Test Loss: 132.67654341228464, Test Accuracy: 8.011374656743424, Best: 8.011374656743424\n"
     ]
    },
    {
     "name": "stderr",
     "output_type": "stream",
     "text": [
      "100%|██████████| 6/6 [00:01<00:00,  3.40it/s]\n"
     ]
    },
    {
     "name": "stdout",
     "output_type": "stream",
     "text": [
      "Current Round: 33, Average Loss: 69.0490453233071, Test Loss: 133.9932768599181, Test Accuracy: 8.02530202901053, Best: 8.011374656743424\n"
     ]
    },
    {
     "name": "stderr",
     "output_type": "stream",
     "text": [
      "100%|██████████| 6/6 [00:01<00:00,  3.43it/s]\n"
     ]
    },
    {
     "name": "stdout",
     "output_type": "stream",
     "text": [
      "Current Round: 34, Average Loss: 67.90051880029996, Test Loss: 131.3306913023914, Test Accuracy: 7.889866128139189, Best: 7.889866128139189\n"
     ]
    },
    {
     "name": "stderr",
     "output_type": "stream",
     "text": [
      "100%|██████████| 6/6 [00:01<00:00,  3.44it/s]\n"
     ]
    },
    {
     "name": "stdout",
     "output_type": "stream",
     "text": [
      "Current Round: 35, Average Loss: 66.56390585327044, Test Loss: 131.6607439482707, Test Accuracy: 7.885121613777851, Best: 7.885121613777851\n"
     ]
    },
    {
     "name": "stderr",
     "output_type": "stream",
     "text": [
      "100%|██████████| 6/6 [00:01<00:00,  3.43it/s]\n"
     ]
    },
    {
     "name": "stdout",
     "output_type": "stream",
     "text": [
      "Current Round: 36, Average Loss: 66.74831347938935, Test Loss: 133.29819132927736, Test Accuracy: 7.895137025816585, Best: 7.885121613777851\n"
     ]
    },
    {
     "name": "stderr",
     "output_type": "stream",
     "text": [
      "100%|██████████| 6/6 [00:01<00:00,  3.39it/s]\n"
     ]
    },
    {
     "name": "stdout",
     "output_type": "stream",
     "text": [
      "Current Round: 37, Average Loss: 67.04580019232293, Test Loss: 131.89627695570513, Test Accuracy: 7.835675488912779, Best: 7.835675488912779\n"
     ]
    },
    {
     "name": "stderr",
     "output_type": "stream",
     "text": [
      "100%|██████████| 6/6 [00:01<00:00,  3.40it/s]\n"
     ]
    },
    {
     "name": "stdout",
     "output_type": "stream",
     "text": [
      "Current Round: 38, Average Loss: 67.89183606440426, Test Loss: 132.05796999950468, Test Accuracy: 7.8340089176371785, Best: 7.8340089176371785\n"
     ]
    },
    {
     "name": "stderr",
     "output_type": "stream",
     "text": [
      "100%|██████████| 6/6 [00:01<00:00,  3.34it/s]\n"
     ]
    },
    {
     "name": "stdout",
     "output_type": "stream",
     "text": [
      "Current Round: 39, Average Loss: 65.56467149322381, Test Loss: 132.28468274102707, Test Accuracy: 7.864687048665062, Best: 7.8340089176371785\n"
     ]
    },
    {
     "name": "stderr",
     "output_type": "stream",
     "text": [
      "100%|██████████| 6/6 [00:01<00:00,  3.41it/s]\n"
     ]
    },
    {
     "name": "stdout",
     "output_type": "stream",
     "text": [
      "Current Round: 40, Average Loss: 65.4310250615423, Test Loss: 132.49915432256486, Test Accuracy: 7.8754047313439655, Best: 7.8340089176371785\n"
     ]
    },
    {
     "name": "stderr",
     "output_type": "stream",
     "text": [
      "100%|██████████| 6/6 [00:01<00:00,  3.34it/s]\n"
     ]
    },
    {
     "name": "stdout",
     "output_type": "stream",
     "text": [
      "Current Round: 41, Average Loss: 65.0696554604486, Test Loss: 132.54350607244407, Test Accuracy: 7.859217496018723, Best: 7.8340089176371785\n"
     ]
    },
    {
     "name": "stderr",
     "output_type": "stream",
     "text": [
      "100%|██████████| 6/6 [00:01<00:00,  3.36it/s]\n"
     ]
    },
    {
     "name": "stdout",
     "output_type": "stream",
     "text": [
      "Current Round: 42, Average Loss: 65.64214787148767, Test Loss: 133.2499371978767, Test Accuracy: 7.847194839439723, Best: 7.8340089176371785\n"
     ]
    },
    {
     "name": "stderr",
     "output_type": "stream",
     "text": [
      "100%|██████████| 6/6 [00:01<00:00,  3.42it/s]\n"
     ]
    },
    {
     "name": "stdout",
     "output_type": "stream",
     "text": [
      "Current Round: 43, Average Loss: 66.49179192950808, Test Loss: 133.70024520248322, Test Accuracy: 7.85049390733759, Best: 7.8340089176371785\n"
     ]
    },
    {
     "name": "stderr",
     "output_type": "stream",
     "text": [
      "100%|██████████| 6/6 [00:01<00:00,  3.45it/s]\n"
     ]
    },
    {
     "name": "stdout",
     "output_type": "stream",
     "text": [
      "Current Round: 44, Average Loss: 64.21610853174953, Test Loss: 136.11442253167152, Test Accuracy: 7.902330719996267, Best: 7.8340089176371785\n"
     ]
    },
    {
     "name": "stderr",
     "output_type": "stream",
     "text": [
      "100%|██████████| 6/6 [00:01<00:00,  3.41it/s]\n"
     ]
    },
    {
     "name": "stdout",
     "output_type": "stream",
     "text": [
      "Current Round: 45, Average Loss: 63.45057309447561, Test Loss: 132.55305729764416, Test Accuracy: 7.800839968921231, Best: 7.800839968921231\n"
     ]
    },
    {
     "name": "stderr",
     "output_type": "stream",
     "text": [
      "100%|██████████| 6/6 [00:01<00:00,  3.56it/s]\n"
     ]
    },
    {
     "name": "stdout",
     "output_type": "stream",
     "text": [
      "Current Round: 46, Average Loss: 63.9396166950608, Test Loss: 133.64178927139352, Test Accuracy: 7.82942008972168, Best: 7.800839968921231\n"
     ]
    },
    {
     "name": "stderr",
     "output_type": "stream",
     "text": [
      "100%|██████████| 6/6 [00:01<00:00,  3.51it/s]\n"
     ]
    },
    {
     "name": "stdout",
     "output_type": "stream",
     "text": [
      "Current Round: 47, Average Loss: 64.29645304021486, Test Loss: 135.1478239164129, Test Accuracy: 7.8786417146893095, Best: 7.800839968921231\n"
     ]
    },
    {
     "name": "stderr",
     "output_type": "stream",
     "text": [
      "100%|██████████| 6/6 [00:01<00:00,  3.40it/s]\n"
     ]
    },
    {
     "name": "stdout",
     "output_type": "stream",
     "text": [
      "Current Round: 48, Average Loss: 63.807844350566974, Test Loss: 135.78536502776905, Test Accuracy: 7.8812996298259375, Best: 7.800839968921231\n"
     ]
    },
    {
     "name": "stderr",
     "output_type": "stream",
     "text": [
      "100%|██████████| 6/6 [00:01<00:00,  3.48it/s]\n"
     ]
    },
    {
     "name": "stdout",
     "output_type": "stream",
     "text": [
      "Current Round: 49, Average Loss: 64.22006410712692, Test Loss: 133.90111135796366, Test Accuracy: 7.811328098528743, Best: 7.800839968921231\n"
     ]
    },
    {
     "name": "stderr",
     "output_type": "stream",
     "text": [
      "100%|██████████| 6/6 [00:01<00:00,  3.48it/s]\n"
     ]
    },
    {
     "name": "stdout",
     "output_type": "stream",
     "text": [
      "Current Round: 50, Average Loss: 62.36985693382662, Test Loss: 133.66665383851182, Test Accuracy: 7.787755727472506, Best: 7.787755727472506\n"
     ]
    },
    {
     "name": "stderr",
     "output_type": "stream",
     "text": [
      "100%|██████████| 6/6 [00:01<00:00,  3.52it/s]\n"
     ]
    },
    {
     "name": "stdout",
     "output_type": "stream",
     "text": [
      "Current Round: 51, Average Loss: 63.63519577280587, Test Loss: 133.9116913403905, Test Accuracy: 7.788382826832295, Best: 7.787755727472506\n"
     ]
    },
    {
     "name": "stderr",
     "output_type": "stream",
     "text": [
      "100%|██████████| 6/6 [00:01<00:00,  3.40it/s]\n"
     ]
    },
    {
     "name": "stdout",
     "output_type": "stream",
     "text": [
      "Current Round: 52, Average Loss: 64.11292496978605, Test Loss: 131.72826243754213, Test Accuracy: 7.69437231420732, Best: 7.69437231420732\n"
     ]
    },
    {
     "name": "stderr",
     "output_type": "stream",
     "text": [
      "100%|██████████| 6/6 [00:01<00:00,  3.43it/s]\n"
     ]
    },
    {
     "name": "stdout",
     "output_type": "stream",
     "text": [
      "Current Round: 53, Average Loss: 63.842155533420396, Test Loss: 132.2298665390058, Test Accuracy: 7.749280511225023, Best: 7.69437231420732\n"
     ]
    },
    {
     "name": "stderr",
     "output_type": "stream",
     "text": [
      "100%|██████████| 6/6 [00:01<00:00,  3.41it/s]\n"
     ]
    },
    {
     "name": "stdout",
     "output_type": "stream",
     "text": [
      "Current Round: 54, Average Loss: 62.73859970836053, Test Loss: 129.18428813637485, Test Accuracy: 7.684939279284471, Best: 7.684939279284471\n"
     ]
    },
    {
     "name": "stderr",
     "output_type": "stream",
     "text": [
      "100%|██████████| 6/6 [00:01<00:00,  3.36it/s]\n"
     ]
    },
    {
     "name": "stdout",
     "output_type": "stream",
     "text": [
      "Current Round: 55, Average Loss: 63.02827905442279, Test Loss: 130.80914168131608, Test Accuracy: 7.7341009893972785, Best: 7.684939279284471\n"
     ]
    },
    {
     "name": "stderr",
     "output_type": "stream",
     "text": [
      "100%|██████████| 6/6 [00:01<00:00,  3.33it/s]\n"
     ]
    },
    {
     "name": "stdout",
     "output_type": "stream",
     "text": [
      "Current Round: 56, Average Loss: 62.747719746180046, Test Loss: 129.42110217824955, Test Accuracy: 7.6817609699537615, Best: 7.6817609699537615\n"
     ]
    },
    {
     "name": "stderr",
     "output_type": "stream",
     "text": [
      "100%|██████████| 6/6 [00:01<00:00,  3.38it/s]\n"
     ]
    },
    {
     "name": "stdout",
     "output_type": "stream",
     "text": [
      "Current Round: 57, Average Loss: 62.41218296272853, Test Loss: 130.46433313842746, Test Accuracy: 7.753893392532141, Best: 7.6817609699537615\n"
     ]
    },
    {
     "name": "stderr",
     "output_type": "stream",
     "text": [
      "100%|██████████| 6/6 [00:01<00:00,  3.33it/s]\n"
     ]
    },
    {
     "name": "stdout",
     "output_type": "stream",
     "text": [
      "Current Round: 58, Average Loss: 62.23090862922306, Test Loss: 132.65552331068665, Test Accuracy: 7.827226998046724, Best: 7.6817609699537615\n"
     ]
    },
    {
     "name": "stderr",
     "output_type": "stream",
     "text": [
      "100%|██████████| 6/6 [00:01<00:00,  3.35it/s]\n"
     ]
    },
    {
     "name": "stdout",
     "output_type": "stream",
     "text": [
      "Current Round: 59, Average Loss: 63.60816084880285, Test Loss: 129.09806975962587, Test Accuracy: 7.684356961256214, Best: 7.6817609699537615\n"
     ]
    },
    {
     "name": "stderr",
     "output_type": "stream",
     "text": [
      "100%|██████████| 6/6 [00:01<00:00,  3.43it/s]\n"
     ]
    },
    {
     "name": "stdout",
     "output_type": "stream",
     "text": [
      "Current Round: 60, Average Loss: 62.45939472238437, Test Loss: 127.22406523227876, Test Accuracy: 7.636841241016412, Best: 7.636841241016412\n"
     ]
    },
    {
     "name": "stderr",
     "output_type": "stream",
     "text": [
      "100%|██████████| 6/6 [00:01<00:00,  3.42it/s]\n"
     ]
    },
    {
     "name": "stdout",
     "output_type": "stream",
     "text": [
      "Current Round: 61, Average Loss: 62.15481118668337, Test Loss: 130.98750602218635, Test Accuracy: 7.732083272165821, Best: 7.636841241016412\n"
     ]
    },
    {
     "name": "stderr",
     "output_type": "stream",
     "text": [
      "100%|██████████| 6/6 [00:01<00:00,  3.42it/s]\n"
     ]
    },
    {
     "name": "stdout",
     "output_type": "stream",
     "text": [
      "Current Round: 62, Average Loss: 62.92064500114586, Test Loss: 126.31248361401634, Test Accuracy: 7.5782452787756185, Best: 7.5782452787756185\n"
     ]
    },
    {
     "name": "stderr",
     "output_type": "stream",
     "text": [
      "100%|██████████| 6/6 [00:01<00:00,  3.42it/s]\n"
     ]
    },
    {
     "name": "stdout",
     "output_type": "stream",
     "text": [
      "Current Round: 63, Average Loss: 62.019274572342475, Test Loss: 126.74540383033593, Test Accuracy: 7.602414009444037, Best: 7.5782452787756185\n"
     ]
    },
    {
     "name": "stderr",
     "output_type": "stream",
     "text": [
      "100%|██████████| 6/6 [00:01<00:00,  3.37it/s]\n"
     ]
    },
    {
     "name": "stdout",
     "output_type": "stream",
     "text": [
      "Current Round: 64, Average Loss: 61.495803407619384, Test Loss: 126.37680274731903, Test Accuracy: 7.6127125883043325, Best: 7.5782452787756185\n"
     ]
    },
    {
     "name": "stderr",
     "output_type": "stream",
     "text": [
      "100%|██████████| 6/6 [00:01<00:00,  3.35it/s]\n"
     ]
    },
    {
     "name": "stdout",
     "output_type": "stream",
     "text": [
      "Current Round: 65, Average Loss: 59.63839184694158, Test Loss: 127.43669265619441, Test Accuracy: 7.656607019266084, Best: 7.5782452787756185\n"
     ]
    },
    {
     "name": "stderr",
     "output_type": "stream",
     "text": [
      "100%|██████████| 6/6 [00:01<00:00,  3.56it/s]\n"
     ]
    },
    {
     "name": "stdout",
     "output_type": "stream",
     "text": [
      "Current Round: 66, Average Loss: 61.381411839569665, Test Loss: 127.69339103618223, Test Accuracy: 7.6435198754330695, Best: 7.5782452787756185\n"
     ]
    },
    {
     "name": "stderr",
     "output_type": "stream",
     "text": [
      "100%|██████████| 6/6 [00:01<00:00,  3.41it/s]\n"
     ]
    },
    {
     "name": "stdout",
     "output_type": "stream",
     "text": [
      "Current Round: 67, Average Loss: 61.84403172015027, Test Loss: 131.63675988658505, Test Accuracy: 7.732424741931712, Best: 7.5782452787756185\n"
     ]
    },
    {
     "name": "stderr",
     "output_type": "stream",
     "text": [
      "100%|██████████| 6/6 [00:01<00:00,  3.40it/s]\n"
     ]
    },
    {
     "name": "stdout",
     "output_type": "stream",
     "text": [
      "Current Round: 68, Average Loss: 60.70237569564529, Test Loss: 131.05264117877095, Test Accuracy: 7.75071632876863, Best: 7.5782452787756185\n"
     ]
    },
    {
     "name": "stderr",
     "output_type": "stream",
     "text": [
      "100%|██████████| 6/6 [00:01<00:00,  3.48it/s]\n"
     ]
    },
    {
     "name": "stdout",
     "output_type": "stream",
     "text": [
      "Current Round: 69, Average Loss: 60.41248705328965, Test Loss: 127.44439380792289, Test Accuracy: 7.622482883590452, Best: 7.5782452787756185\n"
     ]
    },
    {
     "name": "stderr",
     "output_type": "stream",
     "text": [
      "100%|██████████| 6/6 [00:01<00:00,  3.36it/s]\n"
     ]
    },
    {
     "name": "stdout",
     "output_type": "stream",
     "text": [
      "Current Round: 70, Average Loss: 60.65176600484755, Test Loss: 129.5395083340529, Test Accuracy: 7.697262772249319, Best: 7.5782452787756185\n"
     ]
    },
    {
     "name": "stderr",
     "output_type": "stream",
     "text": [
      "100%|██████████| 6/6 [00:01<00:00,  3.37it/s]\n"
     ]
    },
    {
     "name": "stdout",
     "output_type": "stream",
     "text": [
      "Current Round: 71, Average Loss: 60.31352142185748, Test Loss: 129.95860836337766, Test Accuracy: 7.707177917310297, Best: 7.5782452787756185\n"
     ]
    },
    {
     "name": "stderr",
     "output_type": "stream",
     "text": [
      "100%|██████████| 6/6 [00:01<00:00,  3.35it/s]\n"
     ]
    },
    {
     "name": "stdout",
     "output_type": "stream",
     "text": [
      "Current Round: 72, Average Loss: 60.5086412023739, Test Loss: 129.8229319545564, Test Accuracy: 7.7620124698719275, Best: 7.5782452787756185\n"
     ]
    },
    {
     "name": "stderr",
     "output_type": "stream",
     "text": [
      "100%|██████████| 6/6 [00:01<00:00,  3.37it/s]\n"
     ]
    },
    {
     "name": "stdout",
     "output_type": "stream",
     "text": [
      "Current Round: 73, Average Loss: 60.66708108053829, Test Loss: 129.81704386525794, Test Accuracy: 7.804713541099425, Best: 7.5782452787756185\n"
     ]
    },
    {
     "name": "stderr",
     "output_type": "stream",
     "text": [
      "100%|██████████| 6/6 [00:01<00:00,  3.37it/s]\n"
     ]
    },
    {
     "name": "stdout",
     "output_type": "stream",
     "text": [
      "Current Round: 74, Average Loss: 61.118626172046156, Test Loss: 129.48704394451175, Test Accuracy: 7.787095255420406, Best: 7.5782452787756185\n"
     ]
    },
    {
     "name": "stderr",
     "output_type": "stream",
     "text": [
      "100%|██████████| 6/6 [00:01<00:00,  3.35it/s]\n"
     ]
    },
    {
     "name": "stdout",
     "output_type": "stream",
     "text": [
      "Current Round: 75, Average Loss: 59.95036056768769, Test Loss: 124.89483930198926, Test Accuracy: 7.6217419885495925, Best: 7.5782452787756185\n"
     ]
    },
    {
     "name": "stderr",
     "output_type": "stream",
     "text": [
      "100%|██████████| 6/6 [00:01<00:00,  3.33it/s]\n"
     ]
    },
    {
     "name": "stdout",
     "output_type": "stream",
     "text": [
      "Current Round: 76, Average Loss: 60.79689193517689, Test Loss: 125.88103023993342, Test Accuracy: 7.63986245997924, Best: 7.5782452787756185\n"
     ]
    },
    {
     "name": "stderr",
     "output_type": "stream",
     "text": [
      "100%|██████████| 6/6 [00:01<00:00,  3.34it/s]\n"
     ]
    },
    {
     "name": "stdout",
     "output_type": "stream",
     "text": [
      "Current Round: 77, Average Loss: 59.908087946108026, Test Loss: 127.86873321833443, Test Accuracy: 7.686341466513708, Best: 7.5782452787756185\n"
     ]
    },
    {
     "name": "stderr",
     "output_type": "stream",
     "text": [
      "100%|██████████| 6/6 [00:01<00:00,  3.35it/s]\n"
     ]
    },
    {
     "name": "stdout",
     "output_type": "stream",
     "text": [
      "Current Round: 78, Average Loss: 60.587361107290455, Test Loss: 126.03817902478623, Test Accuracy: 7.581019553996374, Best: 7.5782452787756185\n"
     ]
    },
    {
     "name": "stderr",
     "output_type": "stream",
     "text": [
      "100%|██████████| 6/6 [00:01<00:00,  3.39it/s]\n"
     ]
    },
    {
     "name": "stdout",
     "output_type": "stream",
     "text": [
      "Current Round: 79, Average Loss: 59.763474958140414, Test Loss: 131.78855642936708, Test Accuracy: 7.754765998622889, Best: 7.5782452787756185\n"
     ]
    },
    {
     "name": "stderr",
     "output_type": "stream",
     "text": [
      "100%|██████████| 6/6 [00:01<00:00,  3.39it/s]\n"
     ]
    },
    {
     "name": "stdout",
     "output_type": "stream",
     "text": [
      "Current Round: 80, Average Loss: 57.84756000970979, Test Loss: 131.50800267510493, Test Accuracy: 7.758903392333228, Best: 7.5782452787756185\n"
     ]
    },
    {
     "name": "stderr",
     "output_type": "stream",
     "text": [
      "100%|██████████| 6/6 [00:01<00:00,  3.43it/s]\n"
     ]
    },
    {
     "name": "stdout",
     "output_type": "stream",
     "text": [
      "Current Round: 81, Average Loss: 59.96797108285532, Test Loss: 129.43481732263027, Test Accuracy: 7.700242811862421, Best: 7.5782452787756185\n"
     ]
    },
    {
     "name": "stderr",
     "output_type": "stream",
     "text": [
      "100%|██████████| 6/6 [00:01<00:00,  3.40it/s]\n"
     ]
    },
    {
     "name": "stdout",
     "output_type": "stream",
     "text": [
      "Current Round: 82, Average Loss: 58.83579686516915, Test Loss: 129.6193644773051, Test Accuracy: 7.720163709316703, Best: 7.5782452787756185\n"
     ]
    },
    {
     "name": "stderr",
     "output_type": "stream",
     "text": [
      "100%|██████████| 6/6 [00:01<00:00,  3.47it/s]\n"
     ]
    },
    {
     "name": "stdout",
     "output_type": "stream",
     "text": [
      "Current Round: 83, Average Loss: 59.00164814555186, Test Loss: 124.53595120226329, Test Accuracy: 7.524085343844238, Best: 7.524085343844238\n"
     ]
    },
    {
     "name": "stderr",
     "output_type": "stream",
     "text": [
      "100%|██████████| 6/6 [00:01<00:00,  3.48it/s]\n"
     ]
    },
    {
     "name": "stdout",
     "output_type": "stream",
     "text": [
      "Current Round: 84, Average Loss: 59.23446131278221, Test Loss: 128.54887849245742, Test Accuracy: 7.6766128138243195, Best: 7.524085343844238\n"
     ]
    },
    {
     "name": "stderr",
     "output_type": "stream",
     "text": [
      "100%|██████████| 6/6 [00:01<00:00,  3.41it/s]\n"
     ]
    },
    {
     "name": "stdout",
     "output_type": "stream",
     "text": [
      "Current Round: 85, Average Loss: 59.86472996100588, Test Loss: 125.56137076315217, Test Accuracy: 7.586827061876488, Best: 7.524085343844238\n"
     ]
    },
    {
     "name": "stderr",
     "output_type": "stream",
     "text": [
      "100%|██████████| 6/6 [00:01<00:00,  3.50it/s]\n"
     ]
    },
    {
     "name": "stdout",
     "output_type": "stream",
     "text": [
      "Current Round: 86, Average Loss: 58.615565604409255, Test Loss: 124.86071941587045, Test Accuracy: 7.620444079166304, Best: 7.524085343844238\n"
     ]
    },
    {
     "name": "stderr",
     "output_type": "stream",
     "text": [
      "100%|██████████| 6/6 [00:01<00:00,  3.45it/s]\n"
     ]
    },
    {
     "name": "stdout",
     "output_type": "stream",
     "text": [
      "Current Round: 87, Average Loss: 57.352511162663916, Test Loss: 125.81001696725465, Test Accuracy: 7.645881017049153, Best: 7.524085343844238\n"
     ]
    },
    {
     "name": "stderr",
     "output_type": "stream",
     "text": [
      "100%|██████████| 6/6 [00:01<00:00,  3.43it/s]\n"
     ]
    },
    {
     "name": "stdout",
     "output_type": "stream",
     "text": [
      "Current Round: 88, Average Loss: 59.91684309183213, Test Loss: 126.33721479815067, Test Accuracy: 7.658412382652916, Best: 7.524085343844238\n"
     ]
    },
    {
     "name": "stderr",
     "output_type": "stream",
     "text": [
      "100%|██████████| 6/6 [00:01<00:00,  3.44it/s]\n"
     ]
    },
    {
     "name": "stdout",
     "output_type": "stream",
     "text": [
      "Current Round: 89, Average Loss: 57.67346876186988, Test Loss: 123.57784040918276, Test Accuracy: 7.591785452179749, Best: 7.524085343844238\n"
     ]
    },
    {
     "name": "stderr",
     "output_type": "stream",
     "text": [
      "100%|██████████| 6/6 [00:01<00:00,  3.49it/s]\n"
     ]
    },
    {
     "name": "stdout",
     "output_type": "stream",
     "text": [
      "Current Round: 90, Average Loss: 57.973452872278536, Test Loss: 125.7988024924546, Test Accuracy: 7.696630057201362, Best: 7.524085343844238\n"
     ]
    },
    {
     "name": "stderr",
     "output_type": "stream",
     "text": [
      "100%|██████████| 6/6 [00:01<00:00,  3.51it/s]\n"
     ]
    },
    {
     "name": "stdout",
     "output_type": "stream",
     "text": [
      "Current Round: 91, Average Loss: 59.270130367273794, Test Loss: 125.92533311894097, Test Accuracy: 7.733382911634859, Best: 7.524085343844238\n"
     ]
    },
    {
     "name": "stderr",
     "output_type": "stream",
     "text": [
      "100%|██████████| 6/6 [00:01<00:00,  3.47it/s]\n"
     ]
    },
    {
     "name": "stdout",
     "output_type": "stream",
     "text": [
      "Current Round: 92, Average Loss: 57.46593897444856, Test Loss: 123.95660550590452, Test Accuracy: 7.663513013421381, Best: 7.524085343844238\n"
     ]
    },
    {
     "name": "stderr",
     "output_type": "stream",
     "text": [
      "100%|██████████| 6/6 [00:01<00:00,  3.48it/s]\n"
     ]
    },
    {
     "name": "stdout",
     "output_type": "stream",
     "text": [
      "Current Round: 93, Average Loss: 58.7640128453047, Test Loss: 118.61974856816462, Test Accuracy: 7.474500398505872, Best: 7.474500398505872\n"
     ]
    },
    {
     "name": "stderr",
     "output_type": "stream",
     "text": [
      "100%|██████████| 6/6 [00:01<00:00,  3.70it/s]\n"
     ]
    },
    {
     "name": "stdout",
     "output_type": "stream",
     "text": [
      "Current Round: 94, Average Loss: 56.91880490688872, Test Loss: 123.16697427997876, Test Accuracy: 7.640258160370138, Best: 7.474500398505872\n"
     ]
    },
    {
     "name": "stderr",
     "output_type": "stream",
     "text": [
      "100%|██████████| 6/6 [00:01<00:00,  3.53it/s]\n"
     ]
    },
    {
     "name": "stdout",
     "output_type": "stream",
     "text": [
      "Current Round: 95, Average Loss: 57.827839959927694, Test Loss: 119.25756325622584, Test Accuracy: 7.502275996344093, Best: 7.474500398505872\n"
     ]
    },
    {
     "name": "stderr",
     "output_type": "stream",
     "text": [
      "100%|██████████| 6/6 [00:01<00:00,  3.39it/s]\n"
     ]
    },
    {
     "name": "stdout",
     "output_type": "stream",
     "text": [
      "Current Round: 96, Average Loss: 56.77207669874056, Test Loss: 118.92643814084329, Test Accuracy: 7.4774281006615695, Best: 7.474500398505872\n"
     ]
    },
    {
     "name": "stderr",
     "output_type": "stream",
     "text": [
      "100%|██████████| 6/6 [00:01<00:00,  3.38it/s]\n"
     ]
    },
    {
     "name": "stdout",
     "output_type": "stream",
     "text": [
      "Current Round: 97, Average Loss: 57.258279313918926, Test Loss: 122.9700825776457, Test Accuracy: 7.568383527658834, Best: 7.474500398505872\n"
     ]
    },
    {
     "name": "stderr",
     "output_type": "stream",
     "text": [
      "100%|██████████| 6/6 [00:01<00:00,  3.41it/s]\n"
     ]
    },
    {
     "name": "stdout",
     "output_type": "stream",
     "text": [
      "Current Round: 98, Average Loss: 56.175350157472415, Test Loss: 123.22919446056365, Test Accuracy: 7.622207327255381, Best: 7.474500398505872\n"
     ]
    },
    {
     "name": "stderr",
     "output_type": "stream",
     "text": [
      "100%|██████████| 6/6 [00:01<00:00,  3.46it/s]\n"
     ]
    },
    {
     "name": "stdout",
     "output_type": "stream",
     "text": [
      "Current Round: 99, Average Loss: 57.0171185324996, Test Loss: 122.17384494511501, Test Accuracy: 7.577082918774535, Best: 7.474500398505872\n"
     ]
    },
    {
     "name": "stderr",
     "output_type": "stream",
     "text": [
      "100%|██████████| 6/6 [00:01<00:00,  3.45it/s]\n"
     ]
    },
    {
     "name": "stdout",
     "output_type": "stream",
     "text": [
      "Current Round: 100, Average Loss: 56.44131173203106, Test Loss: 123.52504613467687, Test Accuracy: 7.615109870277225, Best: 7.474500398505872\n"
     ]
    },
    {
     "name": "stderr",
     "output_type": "stream",
     "text": [
      "100%|██████████| 6/6 [00:01<00:00,  3.55it/s]\n"
     ]
    },
    {
     "name": "stdout",
     "output_type": "stream",
     "text": [
      "Current Round: 101, Average Loss: 55.94012390418997, Test Loss: 120.52439353518191, Test Accuracy: 7.523649853844625, Best: 7.474500398505872\n"
     ]
    },
    {
     "name": "stderr",
     "output_type": "stream",
     "text": [
      "100%|██████████| 6/6 [00:01<00:00,  3.75it/s]\n"
     ]
    },
    {
     "name": "stdout",
     "output_type": "stream",
     "text": [
      "Current Round: 102, Average Loss: 57.15594752951563, Test Loss: 119.02341251559972, Test Accuracy: 7.515226725752026, Best: 7.474500398505872\n"
     ]
    },
    {
     "name": "stderr",
     "output_type": "stream",
     "text": [
      "100%|██████████| 6/6 [00:01<00:00,  3.41it/s]\n"
     ]
    },
    {
     "name": "stdout",
     "output_type": "stream",
     "text": [
      "Current Round: 103, Average Loss: 56.05024344759801, Test Loss: 120.96159469226406, Test Accuracy: 7.5364352466153095, Best: 7.474500398505872\n"
     ]
    },
    {
     "name": "stderr",
     "output_type": "stream",
     "text": [
      "100%|██████████| 6/6 [00:01<00:00,  3.44it/s]\n"
     ]
    },
    {
     "name": "stdout",
     "output_type": "stream",
     "text": [
      "Current Round: 104, Average Loss: 56.84393724705934, Test Loss: 116.3313650066377, Test Accuracy: 7.444667674351802, Best: 7.444667674351802\n"
     ]
    },
    {
     "name": "stderr",
     "output_type": "stream",
     "text": [
      "100%|██████████| 6/6 [00:01<00:00,  3.48it/s]\n"
     ]
    },
    {
     "name": "stdout",
     "output_type": "stream",
     "text": [
      "Current Round: 105, Average Loss: 56.211427921333545, Test Loss: 113.13426934337748, Test Accuracy: 7.360217492672, Best: 7.360217492672\n"
     ]
    },
    {
     "name": "stderr",
     "output_type": "stream",
     "text": [
      "100%|██████████| 6/6 [00:01<00:00,  3.51it/s]\n"
     ]
    },
    {
     "name": "stdout",
     "output_type": "stream",
     "text": [
      "Current Round: 106, Average Loss: 55.495803081317426, Test Loss: 115.39941585369529, Test Accuracy: 7.391019873164105, Best: 7.360217492672\n"
     ]
    },
    {
     "name": "stderr",
     "output_type": "stream",
     "text": [
      "100%|██████████| 6/6 [00:01<00:00,  3.57it/s]\n"
     ]
    },
    {
     "name": "stdout",
     "output_type": "stream",
     "text": [
      "Current Round: 107, Average Loss: 56.577519455387424, Test Loss: 110.44039565967361, Test Accuracy: 7.268395495976066, Best: 7.268395495976066\n"
     ]
    },
    {
     "name": "stderr",
     "output_type": "stream",
     "text": [
      "100%|██████████| 6/6 [00:01<00:00,  3.50it/s]\n"
     ]
    },
    {
     "name": "stdout",
     "output_type": "stream",
     "text": [
      "Current Round: 108, Average Loss: 55.89667583998527, Test Loss: 111.64931617899252, Test Accuracy: 7.323924148540662, Best: 7.268395495976066\n"
     ]
    },
    {
     "name": "stderr",
     "output_type": "stream",
     "text": [
      "100%|██████████| 6/6 [00:01<00:00,  3.39it/s]\n"
     ]
    },
    {
     "name": "stdout",
     "output_type": "stream",
     "text": [
      "Current Round: 109, Average Loss: 56.02266512262734, Test Loss: 115.1176669780982, Test Accuracy: 7.412612714141127, Best: 7.268395495976066\n"
     ]
    },
    {
     "name": "stderr",
     "output_type": "stream",
     "text": [
      "100%|██████████| 6/6 [00:01<00:00,  3.43it/s]\n"
     ]
    },
    {
     "name": "stdout",
     "output_type": "stream",
     "text": [
      "Current Round: 110, Average Loss: 55.810474161045825, Test Loss: 115.85235659843669, Test Accuracy: 7.447910911531697, Best: 7.268395495976066\n"
     ]
    },
    {
     "name": "stderr",
     "output_type": "stream",
     "text": [
      "100%|██████████| 6/6 [00:01<00:00,  3.39it/s]\n"
     ]
    },
    {
     "name": "stdout",
     "output_type": "stream",
     "text": [
      "Current Round: 111, Average Loss: 55.53229756885543, Test Loss: 109.55096153091395, Test Accuracy: 7.2439285405949585, Best: 7.2439285405949585\n"
     ]
    },
    {
     "name": "stderr",
     "output_type": "stream",
     "text": [
      "100%|██████████| 6/6 [00:01<00:00,  3.42it/s]\n"
     ]
    },
    {
     "name": "stdout",
     "output_type": "stream",
     "text": [
      "Current Round: 112, Average Loss: 55.14802809722236, Test Loss: 116.22979153574548, Test Accuracy: 7.492172997532577, Best: 7.2439285405949585\n"
     ]
    },
    {
     "name": "stderr",
     "output_type": "stream",
     "text": [
      "100%|██████████| 6/6 [00:01<00:00,  3.43it/s]\n"
     ]
    },
    {
     "name": "stdout",
     "output_type": "stream",
     "text": [
      "Current Round: 113, Average Loss: 55.847969993343206, Test Loss: 116.80399841395158, Test Accuracy: 7.50074265348867, Best: 7.2439285405949585\n"
     ]
    },
    {
     "name": "stderr",
     "output_type": "stream",
     "text": [
      "100%|██████████| 6/6 [00:01<00:00,  3.40it/s]\n"
     ]
    },
    {
     "name": "stdout",
     "output_type": "stream",
     "text": [
      "Current Round: 114, Average Loss: 54.18839177603036, Test Loss: 112.7060007195195, Test Accuracy: 7.418294679719719, Best: 7.2439285405949585\n"
     ]
    },
    {
     "name": "stderr",
     "output_type": "stream",
     "text": [
      "100%|██████████| 6/6 [00:01<00:00,  3.42it/s]\n"
     ]
    },
    {
     "name": "stdout",
     "output_type": "stream",
     "text": [
      "Current Round: 115, Average Loss: 55.46716986080988, Test Loss: 116.20046803126371, Test Accuracy: 7.547809383387607, Best: 7.2439285405949585\n"
     ]
    },
    {
     "name": "stderr",
     "output_type": "stream",
     "text": [
      "100%|██████████| 6/6 [00:01<00:00,  3.50it/s]\n"
     ]
    },
    {
     "name": "stdout",
     "output_type": "stream",
     "text": [
      "Current Round: 116, Average Loss: 56.14903777818862, Test Loss: 113.66158056486475, Test Accuracy: 7.418228362129524, Best: 7.2439285405949585\n"
     ]
    },
    {
     "name": "stderr",
     "output_type": "stream",
     "text": [
      "100%|██████████| 6/6 [00:01<00:00,  3.43it/s]\n"
     ]
    },
    {
     "name": "stdout",
     "output_type": "stream",
     "text": [
      "Current Round: 117, Average Loss: 54.66122227574539, Test Loss: 112.45963455195616, Test Accuracy: 7.383495933504353, Best: 7.2439285405949585\n"
     ]
    },
    {
     "name": "stderr",
     "output_type": "stream",
     "text": [
      "100%|██████████| 6/6 [00:01<00:00,  3.41it/s]\n"
     ]
    },
    {
     "name": "stdout",
     "output_type": "stream",
     "text": [
      "Current Round: 118, Average Loss: 56.180221402416784, Test Loss: 106.3759989908526, Test Accuracy: 7.1515272700653645, Best: 7.1515272700653645\n"
     ]
    },
    {
     "name": "stderr",
     "output_type": "stream",
     "text": [
      "100%|██████████| 6/6 [00:01<00:00,  3.52it/s]\n"
     ]
    },
    {
     "name": "stdout",
     "output_type": "stream",
     "text": [
      "Current Round: 119, Average Loss: 55.18455223874874, Test Loss: 108.2082318957558, Test Accuracy: 7.190953707310937, Best: 7.1515272700653645\n"
     ]
    },
    {
     "name": "stderr",
     "output_type": "stream",
     "text": [
      "100%|██████████| 6/6 [00:01<00:00,  3.63it/s]\n"
     ]
    },
    {
     "name": "stdout",
     "output_type": "stream",
     "text": [
      "Current Round: 120, Average Loss: 55.1169890783141, Test Loss: 111.94741247549118, Test Accuracy: 7.309752912178654, Best: 7.1515272700653645\n"
     ]
    },
    {
     "name": "stderr",
     "output_type": "stream",
     "text": [
      "100%|██████████| 6/6 [00:01<00:00,  3.38it/s]\n"
     ]
    },
    {
     "name": "stdout",
     "output_type": "stream",
     "text": [
      "Current Round: 121, Average Loss: 55.15772770225501, Test Loss: 109.83541879100353, Test Accuracy: 7.264639631079918, Best: 7.1515272700653645\n"
     ]
    },
    {
     "name": "stderr",
     "output_type": "stream",
     "text": [
      "100%|██████████| 6/6 [00:01<00:00,  3.39it/s]\n"
     ]
    },
    {
     "name": "stdout",
     "output_type": "stream",
     "text": [
      "Current Round: 122, Average Loss: 54.17949706903252, Test Loss: 112.48224115320926, Test Accuracy: 7.341530340163977, Best: 7.1515272700653645\n"
     ]
    },
    {
     "name": "stderr",
     "output_type": "stream",
     "text": [
      "100%|██████████| 6/6 [00:01<00:00,  3.40it/s]\n"
     ]
    },
    {
     "name": "stdout",
     "output_type": "stream",
     "text": [
      "Current Round: 123, Average Loss: 54.32212339322134, Test Loss: 111.87282776668243, Test Accuracy: 7.333157857259114, Best: 7.1515272700653645\n"
     ]
    },
    {
     "name": "stderr",
     "output_type": "stream",
     "text": [
      "100%|██████████| 6/6 [00:01<00:00,  3.54it/s]\n"
     ]
    },
    {
     "name": "stdout",
     "output_type": "stream",
     "text": [
      "Current Round: 124, Average Loss: 55.93046145243998, Test Loss: 109.04226338527312, Test Accuracy: 7.307474720138304, Best: 7.1515272700653645\n"
     ]
    },
    {
     "name": "stderr",
     "output_type": "stream",
     "text": [
      "100%|██████████| 6/6 [00:01<00:00,  3.42it/s]\n"
     ]
    },
    {
     "name": "stdout",
     "output_type": "stream",
     "text": [
      "Current Round: 125, Average Loss: 53.721390636988666, Test Loss: 111.91747370465686, Test Accuracy: 7.383878636980588, Best: 7.1515272700653645\n"
     ]
    },
    {
     "name": "stderr",
     "output_type": "stream",
     "text": [
      "100%|██████████| 6/6 [00:01<00:00,  3.42it/s]\n"
     ]
    },
    {
     "name": "stdout",
     "output_type": "stream",
     "text": [
      "Current Round: 126, Average Loss: 54.06019463446476, Test Loss: 114.8201684845286, Test Accuracy: 7.493117867792406, Best: 7.1515272700653645\n"
     ]
    },
    {
     "name": "stderr",
     "output_type": "stream",
     "text": [
      "100%|██████████| 6/6 [00:01<00:00,  3.46it/s]\n"
     ]
    },
    {
     "name": "stdout",
     "output_type": "stream",
     "text": [
      "Current Round: 127, Average Loss: 56.34965095977342, Test Loss: 109.4245317528876, Test Accuracy: 7.3495516203888585, Best: 7.1515272700653645\n"
     ]
    },
    {
     "name": "stderr",
     "output_type": "stream",
     "text": [
      "100%|██████████| 6/6 [00:01<00:00,  3.40it/s]\n"
     ]
    },
    {
     "name": "stdout",
     "output_type": "stream",
     "text": [
      "Current Round: 128, Average Loss: 53.03762353516256, Test Loss: 106.81458488159525, Test Accuracy: 7.267682218492548, Best: 7.1515272700653645\n"
     ]
    },
    {
     "name": "stderr",
     "output_type": "stream",
     "text": [
      "100%|██████████| 6/6 [00:01<00:00,  3.39it/s]\n"
     ]
    },
    {
     "name": "stdout",
     "output_type": "stream",
     "text": [
      "Current Round: 129, Average Loss: 54.375151696769564, Test Loss: 103.16149467349865, Test Accuracy: 7.169007798848394, Best: 7.1515272700653645\n"
     ]
    },
    {
     "name": "stderr",
     "output_type": "stream",
     "text": [
      "100%|██████████| 6/6 [00:01<00:00,  3.47it/s]\n"
     ]
    },
    {
     "name": "stdout",
     "output_type": "stream",
     "text": [
      "Current Round: 130, Average Loss: 53.96240095943068, Test Loss: 103.85087658077607, Test Accuracy: 7.213472543595892, Best: 7.1515272700653645\n"
     ]
    },
    {
     "name": "stderr",
     "output_type": "stream",
     "text": [
      "100%|██████████| 6/6 [00:01<00:00,  3.42it/s]\n"
     ]
    },
    {
     "name": "stdout",
     "output_type": "stream",
     "text": [
      "Current Round: 131, Average Loss: 53.99083059031526, Test Loss: 103.10899090564024, Test Accuracy: 7.173770947084108, Best: 7.1515272700653645\n"
     ]
    },
    {
     "name": "stderr",
     "output_type": "stream",
     "text": [
      "100%|██████████| 6/6 [00:01<00:00,  3.44it/s]\n"
     ]
    },
    {
     "name": "stdout",
     "output_type": "stream",
     "text": [
      "Current Round: 132, Average Loss: 53.754955331082016, Test Loss: 103.06526098806697, Test Accuracy: 7.109134347908559, Best: 7.109134347908559\n"
     ]
    },
    {
     "name": "stderr",
     "output_type": "stream",
     "text": [
      "100%|██████████| 6/6 [00:01<00:00,  3.44it/s]\n"
     ]
    },
    {
     "name": "stdout",
     "output_type": "stream",
     "text": [
      "Current Round: 133, Average Loss: 52.59792794773232, Test Loss: 104.38033600394353, Test Accuracy: 7.186103196835429, Best: 7.109134347908559\n"
     ]
    },
    {
     "name": "stderr",
     "output_type": "stream",
     "text": [
      "100%|██████████| 6/6 [00:01<00:00,  3.53it/s]\n"
     ]
    },
    {
     "name": "stdout",
     "output_type": "stream",
     "text": [
      "Current Round: 134, Average Loss: 52.9080821361459, Test Loss: 108.21569798225502, Test Accuracy: 7.289293490082506, Best: 7.109134347908559\n"
     ]
    },
    {
     "name": "stderr",
     "output_type": "stream",
     "text": [
      "100%|██████████| 6/6 [00:01<00:00,  3.42it/s]\n"
     ]
    },
    {
     "name": "stdout",
     "output_type": "stream",
     "text": [
      "Current Round: 135, Average Loss: 53.56836272981257, Test Loss: 104.00625770371246, Test Accuracy: 7.176819989229224, Best: 7.109134347908559\n"
     ]
    },
    {
     "name": "stderr",
     "output_type": "stream",
     "text": [
      "100%|██████████| 6/6 [00:01<00:00,  3.49it/s]\n"
     ]
    },
    {
     "name": "stdout",
     "output_type": "stream",
     "text": [
      "Current Round: 136, Average Loss: 53.25993044546883, Test Loss: 110.46498657230754, Test Accuracy: 7.405148781512898, Best: 7.109134347908559\n"
     ]
    },
    {
     "name": "stderr",
     "output_type": "stream",
     "text": [
      "100%|██████████| 6/6 [00:01<00:00,  3.42it/s]\n"
     ]
    },
    {
     "name": "stdout",
     "output_type": "stream",
     "text": [
      "Current Round: 137, Average Loss: 53.89179443718399, Test Loss: 106.96412402694259, Test Accuracy: 7.266433106035991, Best: 7.109134347908559\n"
     ]
    },
    {
     "name": "stderr",
     "output_type": "stream",
     "text": [
      "100%|██████████| 6/6 [00:01<00:00,  3.36it/s]\n"
     ]
    },
    {
     "name": "stdout",
     "output_type": "stream",
     "text": [
      "Current Round: 138, Average Loss: 53.889726767842895, Test Loss: 104.2225402525108, Test Accuracy: 7.163563089004384, Best: 7.109134347908559\n"
     ]
    },
    {
     "name": "stderr",
     "output_type": "stream",
     "text": [
      "100%|██████████| 6/6 [00:01<00:00,  3.38it/s]\n"
     ]
    },
    {
     "name": "stdout",
     "output_type": "stream",
     "text": [
      "Current Round: 139, Average Loss: 52.740601328625985, Test Loss: 107.79080260499545, Test Accuracy: 7.318761433219673, Best: 7.109134347908559\n"
     ]
    },
    {
     "name": "stderr",
     "output_type": "stream",
     "text": [
      "100%|██████████| 6/6 [00:01<00:00,  3.38it/s]\n"
     ]
    },
    {
     "name": "stdout",
     "output_type": "stream",
     "text": [
      "Current Round: 140, Average Loss: 53.88962117886763, Test Loss: 98.4243186597598, Test Accuracy: 6.995259286154897, Best: 6.995259286154897\n"
     ]
    },
    {
     "name": "stderr",
     "output_type": "stream",
     "text": [
      "100%|██████████| 6/6 [00:01<00:00,  3.41it/s]\n"
     ]
    },
    {
     "name": "stdout",
     "output_type": "stream",
     "text": [
      "Current Round: 141, Average Loss: 53.26838713387443, Test Loss: 103.70089757918407, Test Accuracy: 7.129456329818404, Best: 6.995259286154897\n"
     ]
    },
    {
     "name": "stderr",
     "output_type": "stream",
     "text": [
      "100%|██████████| 6/6 [00:01<00:00,  3.48it/s]\n"
     ]
    },
    {
     "name": "stdout",
     "output_type": "stream",
     "text": [
      "Current Round: 142, Average Loss: 54.635441623444365, Test Loss: 104.68022012549466, Test Accuracy: 7.170065670651574, Best: 6.995259286154897\n"
     ]
    },
    {
     "name": "stderr",
     "output_type": "stream",
     "text": [
      "100%|██████████| 6/6 [00:01<00:00,  3.49it/s]\n"
     ]
    },
    {
     "name": "stdout",
     "output_type": "stream",
     "text": [
      "Current Round: 143, Average Loss: 54.40758805211227, Test Loss: 103.51250306447182, Test Accuracy: 7.109170077015476, Best: 6.995259286154897\n"
     ]
    },
    {
     "name": "stderr",
     "output_type": "stream",
     "text": [
      "100%|██████████| 6/6 [00:01<00:00,  3.39it/s]\n"
     ]
    },
    {
     "name": "stdout",
     "output_type": "stream",
     "text": [
      "Current Round: 144, Average Loss: 52.33326855549492, Test Loss: 108.59389758587363, Test Accuracy: 7.343113087366948, Best: 6.995259286154897\n"
     ]
    },
    {
     "name": "stderr",
     "output_type": "stream",
     "text": [
      "100%|██████████| 6/6 [00:01<00:00,  3.55it/s]\n"
     ]
    },
    {
     "name": "stdout",
     "output_type": "stream",
     "text": [
      "Current Round: 145, Average Loss: 52.755959647342785, Test Loss: 105.22780420971847, Test Accuracy: 7.213493585881986, Best: 6.995259286154897\n"
     ]
    },
    {
     "name": "stderr",
     "output_type": "stream",
     "text": [
      "100%|██████████| 6/6 [00:01<00:00,  3.46it/s]\n"
     ]
    },
    {
     "name": "stdout",
     "output_type": "stream",
     "text": [
      "Current Round: 146, Average Loss: 53.536690717888746, Test Loss: 106.66004378716963, Test Accuracy: 7.2418378477793794, Best: 6.995259286154897\n"
     ]
    },
    {
     "name": "stderr",
     "output_type": "stream",
     "text": [
      "100%|██████████| 6/6 [00:01<00:00,  3.47it/s]\n"
     ]
    },
    {
     "name": "stdout",
     "output_type": "stream",
     "text": [
      "Current Round: 147, Average Loss: 53.75259668807016, Test Loss: 108.28279384790632, Test Accuracy: 7.2125882546993285, Best: 6.995259286154897\n"
     ]
    },
    {
     "name": "stderr",
     "output_type": "stream",
     "text": [
      "100%|██████████| 6/6 [00:01<00:00,  3.50it/s]\n"
     ]
    },
    {
     "name": "stdout",
     "output_type": "stream",
     "text": [
      "Current Round: 148, Average Loss: 52.89023235807804, Test Loss: 107.3655419022011, Test Accuracy: 7.2284739682222385, Best: 6.995259286154897\n"
     ]
    },
    {
     "name": "stderr",
     "output_type": "stream",
     "text": [
      "100%|██████████| 6/6 [00:01<00:00,  3.50it/s]\n"
     ]
    },
    {
     "name": "stdout",
     "output_type": "stream",
     "text": [
      "Current Round: 149, Average Loss: 52.84852059628002, Test Loss: 109.79814590472161, Test Accuracy: 7.283692354015554, Best: 6.995259286154897\n"
     ]
    },
    {
     "name": "stderr",
     "output_type": "stream",
     "text": [
      "100%|██████████| 6/6 [00:01<00:00,  3.38it/s]\n"
     ]
    },
    {
     "name": "stdout",
     "output_type": "stream",
     "text": [
      "Current Round: 150, Average Loss: 53.198421050911854, Test Loss: 105.81578199553408, Test Accuracy: 7.12138957575499, Best: 6.995259286154897\n"
     ]
    },
    {
     "name": "stderr",
     "output_type": "stream",
     "text": [
      "100%|██████████| 6/6 [00:01<00:00,  3.41it/s]\n"
     ]
    },
    {
     "name": "stdout",
     "output_type": "stream",
     "text": [
      "Current Round: 151, Average Loss: 53.36988628556188, Test Loss: 103.40372857072101, Test Accuracy: 7.081336110054782, Best: 6.995259286154897\n"
     ]
    },
    {
     "name": "stderr",
     "output_type": "stream",
     "text": [
      "100%|██████████| 6/6 [00:01<00:00,  3.42it/s]\n"
     ]
    },
    {
     "name": "stdout",
     "output_type": "stream",
     "text": [
      "Current Round: 152, Average Loss: 54.64702412259797, Test Loss: 99.96273830478556, Test Accuracy: 6.9656902086335934, Best: 6.9656902086335934\n"
     ]
    },
    {
     "name": "stderr",
     "output_type": "stream",
     "text": [
      "100%|██████████| 6/6 [00:01<00:00,  3.45it/s]\n"
     ]
    },
    {
     "name": "stdout",
     "output_type": "stream",
     "text": [
      "Current Round: 153, Average Loss: 53.9014075220625, Test Loss: 101.17592414040142, Test Accuracy: 6.964548432398611, Best: 6.964548432398611\n"
     ]
    },
    {
     "name": "stderr",
     "output_type": "stream",
     "text": [
      "100%|██████████| 6/6 [00:01<00:00,  3.55it/s]\n"
     ]
    },
    {
     "name": "stdout",
     "output_type": "stream",
     "text": [
      "Current Round: 154, Average Loss: 52.63646241392136, Test Loss: 103.03931334118049, Test Accuracy: 7.041216733287258, Best: 6.964548432398611\n"
     ]
    },
    {
     "name": "stderr",
     "output_type": "stream",
     "text": [
      "100%|██████████| 6/6 [00:01<00:00,  3.38it/s]\n"
     ]
    },
    {
     "name": "stdout",
     "output_type": "stream",
     "text": [
      "Current Round: 155, Average Loss: 53.042179294405884, Test Loss: 105.71064956087383, Test Accuracy: 7.161166721707974, Best: 6.964548432398611\n"
     ]
    },
    {
     "name": "stderr",
     "output_type": "stream",
     "text": [
      "100%|██████████| 6/6 [00:01<00:00,  3.47it/s]\n"
     ]
    },
    {
     "name": "stdout",
     "output_type": "stream",
     "text": [
      "Current Round: 156, Average Loss: 52.4638908824366, Test Loss: 99.16128425929774, Test Accuracy: 6.924689873148222, Best: 6.924689873148222\n"
     ]
    },
    {
     "name": "stderr",
     "output_type": "stream",
     "text": [
      "100%|██████████| 6/6 [00:01<00:00,  3.53it/s]\n"
     ]
    },
    {
     "name": "stdout",
     "output_type": "stream",
     "text": [
      "Current Round: 157, Average Loss: 52.874655079411234, Test Loss: 97.57374865694209, Test Accuracy: 6.881372950481807, Best: 6.881372950481807\n"
     ]
    },
    {
     "name": "stderr",
     "output_type": "stream",
     "text": [
      "100%|██████████| 6/6 [00:01<00:00,  3.41it/s]\n"
     ]
    },
    {
     "name": "stdout",
     "output_type": "stream",
     "text": [
      "Current Round: 158, Average Loss: 52.90613506180993, Test Loss: 96.38145354177799, Test Accuracy: 6.875637642956135, Best: 6.875637642956135\n"
     ]
    },
    {
     "name": "stderr",
     "output_type": "stream",
     "text": [
      "100%|██████████| 6/6 [00:01<00:00,  3.43it/s]\n"
     ]
    },
    {
     "name": "stdout",
     "output_type": "stream",
     "text": [
      "Current Round: 159, Average Loss: 53.479385227938245, Test Loss: 89.84163024791665, Test Accuracy: 6.740645130918519, Best: 6.740645130918519\n"
     ]
    },
    {
     "name": "stderr",
     "output_type": "stream",
     "text": [
      "100%|██████████| 6/6 [00:01<00:00,  3.43it/s]\n"
     ]
    },
    {
     "name": "stdout",
     "output_type": "stream",
     "text": [
      "Current Round: 160, Average Loss: 51.72581972391854, Test Loss: 91.98122349830143, Test Accuracy: 6.808285218041478, Best: 6.740645130918519\n"
     ]
    },
    {
     "name": "stderr",
     "output_type": "stream",
     "text": [
      "100%|██████████| 6/6 [00:01<00:00,  3.43it/s]\n"
     ]
    },
    {
     "name": "stdout",
     "output_type": "stream",
     "text": [
      "Current Round: 161, Average Loss: 52.03597670106072, Test Loss: 95.31155420979889, Test Accuracy: 6.936799603619392, Best: 6.740645130918519\n"
     ]
    },
    {
     "name": "stderr",
     "output_type": "stream",
     "text": [
      "100%|██████████| 6/6 [00:01<00:00,  3.44it/s]\n"
     ]
    },
    {
     "name": "stdout",
     "output_type": "stream",
     "text": [
      "Current Round: 162, Average Loss: 52.954096276684204, Test Loss: 95.26660262738831, Test Accuracy: 6.898192144533367, Best: 6.740645130918519\n"
     ]
    },
    {
     "name": "stderr",
     "output_type": "stream",
     "text": [
      "100%|██████████| 6/6 [00:01<00:00,  3.43it/s]\n"
     ]
    },
    {
     "name": "stdout",
     "output_type": "stream",
     "text": [
      "Current Round: 163, Average Loss: 53.10392374517307, Test Loss: 102.48949889617117, Test Accuracy: 7.100508088368318, Best: 6.740645130918519\n"
     ]
    },
    {
     "name": "stderr",
     "output_type": "stream",
     "text": [
      "100%|██████████| 6/6 [00:01<00:00,  3.38it/s]\n"
     ]
    },
    {
     "name": "stdout",
     "output_type": "stream",
     "text": [
      "Current Round: 164, Average Loss: 52.57800263564778, Test Loss: 97.13986914459953, Test Accuracy: 6.939091860878719, Best: 6.740645130918519\n"
     ]
    },
    {
     "name": "stderr",
     "output_type": "stream",
     "text": [
      "100%|██████████| 6/6 [00:01<00:00,  3.39it/s]\n"
     ]
    },
    {
     "name": "stdout",
     "output_type": "stream",
     "text": [
      "Current Round: 165, Average Loss: 53.40604071047445, Test Loss: 98.43145136871229, Test Accuracy: 6.9693070616125326, Best: 6.740645130918519\n"
     ]
    },
    {
     "name": "stderr",
     "output_type": "stream",
     "text": [
      "100%|██████████| 6/6 [00:01<00:00,  3.39it/s]\n"
     ]
    },
    {
     "name": "stdout",
     "output_type": "stream",
     "text": [
      "Current Round: 166, Average Loss: 52.367395586328136, Test Loss: 101.85575087981522, Test Accuracy: 7.0427376701043, Best: 6.740645130918519\n"
     ]
    },
    {
     "name": "stderr",
     "output_type": "stream",
     "text": [
      "100%|██████████| 6/6 [00:01<00:00,  3.39it/s]\n"
     ]
    },
    {
     "name": "stdout",
     "output_type": "stream",
     "text": [
      "Current Round: 167, Average Loss: 51.30495142401193, Test Loss: 103.92925256079863, Test Accuracy: 7.178419737124532, Best: 6.740645130918519\n"
     ]
    },
    {
     "name": "stderr",
     "output_type": "stream",
     "text": [
      "100%|██████████| 6/6 [00:01<00:00,  3.37it/s]\n"
     ]
    },
    {
     "name": "stdout",
     "output_type": "stream",
     "text": [
      "Current Round: 168, Average Loss: 51.33015883630902, Test Loss: 96.86408576864144, Test Accuracy: 6.910470449643803, Best: 6.740645130918519\n"
     ]
    },
    {
     "name": "stderr",
     "output_type": "stream",
     "text": [
      "100%|██████████| 6/6 [00:01<00:00,  3.45it/s]\n"
     ]
    },
    {
     "name": "stdout",
     "output_type": "stream",
     "text": [
      "Current Round: 169, Average Loss: 51.95518734035568, Test Loss: 96.16747577088658, Test Accuracy: 6.9959177586816645, Best: 6.740645130918519\n"
     ]
    },
    {
     "name": "stderr",
     "output_type": "stream",
     "text": [
      "100%|██████████| 6/6 [00:01<00:00,  3.37it/s]\n"
     ]
    },
    {
     "name": "stdout",
     "output_type": "stream",
     "text": [
      "Current Round: 170, Average Loss: 51.71332949180651, Test Loss: 96.6611332646675, Test Accuracy: 6.955510882787693, Best: 6.740645130918519\n"
     ]
    },
    {
     "name": "stderr",
     "output_type": "stream",
     "text": [
      "100%|██████████| 6/6 [00:01<00:00,  3.38it/s]\n"
     ]
    },
    {
     "name": "stdout",
     "output_type": "stream",
     "text": [
      "Current Round: 171, Average Loss: 52.329895939760604, Test Loss: 100.15834219469383, Test Accuracy: 7.089121129580738, Best: 6.740645130918519\n"
     ]
    },
    {
     "name": "stderr",
     "output_type": "stream",
     "text": [
      "100%|██████████| 6/6 [00:01<00:00,  3.39it/s]\n"
     ]
    },
    {
     "name": "stdout",
     "output_type": "stream",
     "text": [
      "Current Round: 172, Average Loss: 51.63519181682171, Test Loss: 97.93756301283763, Test Accuracy: 7.0113419387420315, Best: 6.740645130918519\n"
     ]
    },
    {
     "name": "stderr",
     "output_type": "stream",
     "text": [
      "100%|██████████| 6/6 [00:01<00:00,  3.36it/s]\n"
     ]
    },
    {
     "name": "stdout",
     "output_type": "stream",
     "text": [
      "Current Round: 173, Average Loss: 51.39238219939924, Test Loss: 90.28924862577902, Test Accuracy: 6.722907266061398, Best: 6.722907266061398\n"
     ]
    },
    {
     "name": "stderr",
     "output_type": "stream",
     "text": [
      "100%|██████████| 6/6 [00:01<00:00,  3.38it/s]\n"
     ]
    },
    {
     "name": "stdout",
     "output_type": "stream",
     "text": [
      "Current Round: 174, Average Loss: 51.74069651229102, Test Loss: 90.54164497999307, Test Accuracy: 6.757780947206632, Best: 6.722907266061398\n"
     ]
    },
    {
     "name": "stderr",
     "output_type": "stream",
     "text": [
      "100%|██████████| 6/6 [00:01<00:00,  3.38it/s]\n"
     ]
    },
    {
     "name": "stdout",
     "output_type": "stream",
     "text": [
      "Current Round: 175, Average Loss: 51.499378786774336, Test Loss: 96.18684479174155, Test Accuracy: 6.892667862562442, Best: 6.722907266061398\n"
     ]
    },
    {
     "name": "stderr",
     "output_type": "stream",
     "text": [
      "100%|██████████| 6/6 [00:01<00:00,  3.66it/s]\n"
     ]
    },
    {
     "name": "stdout",
     "output_type": "stream",
     "text": [
      "Current Round: 176, Average Loss: 51.02605696396015, Test Loss: 96.45153820896903, Test Accuracy: 6.9269908470144355, Best: 6.722907266061398\n"
     ]
    },
    {
     "name": "stderr",
     "output_type": "stream",
     "text": [
      "100%|██████████| 6/6 [00:01<00:00,  3.42it/s]\n"
     ]
    },
    {
     "name": "stdout",
     "output_type": "stream",
     "text": [
      "Current Round: 177, Average Loss: 51.463237662181974, Test Loss: 90.64589840991255, Test Accuracy: 6.741788152720701, Best: 6.722907266061398\n"
     ]
    },
    {
     "name": "stderr",
     "output_type": "stream",
     "text": [
      "100%|██████████| 6/6 [00:01<00:00,  3.26it/s]\n"
     ]
    },
    {
     "name": "stdout",
     "output_type": "stream",
     "text": [
      "Current Round: 178, Average Loss: 51.29391056239252, Test Loss: 87.1655764806337, Test Accuracy: 6.6535333470341, Best: 6.6535333470341\n"
     ]
    },
    {
     "name": "stderr",
     "output_type": "stream",
     "text": [
      "100%|██████████| 6/6 [00:01<00:00,  3.30it/s]\n"
     ]
    },
    {
     "name": "stdout",
     "output_type": "stream",
     "text": [
      "Current Round: 179, Average Loss: 52.14190004876252, Test Loss: 87.21071713010618, Test Accuracy: 6.671285827806891, Best: 6.6535333470341\n"
     ]
    },
    {
     "name": "stderr",
     "output_type": "stream",
     "text": [
      "100%|██████████| 6/6 [00:01<00:00,  3.39it/s]\n"
     ]
    },
    {
     "name": "stdout",
     "output_type": "stream",
     "text": [
      "Current Round: 180, Average Loss: 51.230125458752696, Test Loss: 86.80219331011638, Test Accuracy: 6.631666975245896, Best: 6.631666975245896\n"
     ]
    },
    {
     "name": "stderr",
     "output_type": "stream",
     "text": [
      "100%|██████████| 6/6 [00:01<00:00,  3.42it/s]\n"
     ]
    },
    {
     "name": "stdout",
     "output_type": "stream",
     "text": [
      "Current Round: 181, Average Loss: 50.99379816399604, Test Loss: 87.61829513893029, Test Accuracy: 6.620224006113953, Best: 6.620224006113953\n"
     ]
    },
    {
     "name": "stderr",
     "output_type": "stream",
     "text": [
      "100%|██████████| 6/6 [00:01<00:00,  3.52it/s]\n"
     ]
    },
    {
     "name": "stdout",
     "output_type": "stream",
     "text": [
      "Current Round: 182, Average Loss: 51.31792755568505, Test Loss: 89.34994001523505, Test Accuracy: 6.687978862682092, Best: 6.620224006113953\n"
     ]
    },
    {
     "name": "stderr",
     "output_type": "stream",
     "text": [
      "100%|██████████| 6/6 [00:01<00:00,  3.47it/s]\n"
     ]
    },
    {
     "name": "stdout",
     "output_type": "stream",
     "text": [
      "Current Round: 183, Average Loss: 50.83659258003126, Test Loss: 95.39878403357504, Test Accuracy: 6.917066637911318, Best: 6.620224006113953\n"
     ]
    },
    {
     "name": "stderr",
     "output_type": "stream",
     "text": [
      "100%|██████████| 6/6 [00:01<00:00,  3.49it/s]\n"
     ]
    },
    {
     "name": "stdout",
     "output_type": "stream",
     "text": [
      "Current Round: 184, Average Loss: 51.81854836303734, Test Loss: 89.52612066120855, Test Accuracy: 6.70213869513189, Best: 6.620224006113953\n"
     ]
    },
    {
     "name": "stderr",
     "output_type": "stream",
     "text": [
      "100%|██████████| 6/6 [00:01<00:00,  3.41it/s]\n"
     ]
    },
    {
     "name": "stdout",
     "output_type": "stream",
     "text": [
      "Current Round: 185, Average Loss: 50.53912692416941, Test Loss: 90.65970115839991, Test Accuracy: 6.706306110084278, Best: 6.620224006113953\n"
     ]
    },
    {
     "name": "stderr",
     "output_type": "stream",
     "text": [
      "100%|██████████| 6/6 [00:01<00:00,  3.43it/s]\n"
     ]
    },
    {
     "name": "stdout",
     "output_type": "stream",
     "text": [
      "Current Round: 186, Average Loss: 50.26359381983887, Test Loss: 88.50364097056834, Test Accuracy: 6.677338112094884, Best: 6.620224006113953\n"
     ]
    },
    {
     "name": "stderr",
     "output_type": "stream",
     "text": [
      "100%|██████████| 6/6 [00:01<00:00,  3.27it/s]\n"
     ]
    },
    {
     "name": "stdout",
     "output_type": "stream",
     "text": [
      "Current Round: 187, Average Loss: 50.98708082832252, Test Loss: 93.51398179941806, Test Accuracy: 6.8432902864364, Best: 6.620224006113953\n"
     ]
    },
    {
     "name": "stderr",
     "output_type": "stream",
     "text": [
      "100%|██████████| 6/6 [00:01<00:00,  3.42it/s]\n"
     ]
    },
    {
     "name": "stdout",
     "output_type": "stream",
     "text": [
      "Current Round: 188, Average Loss: 50.503478924630514, Test Loss: 98.74637424990146, Test Accuracy: 7.071397403211251, Best: 6.620224006113953\n"
     ]
    },
    {
     "name": "stderr",
     "output_type": "stream",
     "text": [
      "100%|██████████| 6/6 [00:01<00:00,  3.43it/s]\n"
     ]
    },
    {
     "name": "stdout",
     "output_type": "stream",
     "text": [
      "Current Round: 189, Average Loss: 50.12619054907196, Test Loss: 97.16731934637164, Test Accuracy: 7.005573851763833, Best: 6.620224006113953\n"
     ]
    },
    {
     "name": "stderr",
     "output_type": "stream",
     "text": [
      "100%|██████████| 6/6 [00:01<00:00,  3.40it/s]\n"
     ]
    },
    {
     "name": "stdout",
     "output_type": "stream",
     "text": [
      "Current Round: 190, Average Loss: 51.625904732964756, Test Loss: 96.73387611857264, Test Accuracy: 7.026199692982575, Best: 6.620224006113953\n"
     ]
    },
    {
     "name": "stderr",
     "output_type": "stream",
     "text": [
      "100%|██████████| 6/6 [00:01<00:00,  3.49it/s]\n"
     ]
    },
    {
     "name": "stdout",
     "output_type": "stream",
     "text": [
      "Current Round: 191, Average Loss: 51.14400264713182, Test Loss: 95.3064892405397, Test Accuracy: 6.896351018950546, Best: 6.620224006113953\n"
     ]
    },
    {
     "name": "stderr",
     "output_type": "stream",
     "text": [
      "100%|██████████| 6/6 [00:01<00:00,  3.50it/s]\n"
     ]
    },
    {
     "name": "stdout",
     "output_type": "stream",
     "text": [
      "Current Round: 192, Average Loss: 51.20405300259508, Test Loss: 90.40684460119668, Test Accuracy: 6.63423707671325, Best: 6.620224006113953\n"
     ]
    },
    {
     "name": "stderr",
     "output_type": "stream",
     "text": [
      "100%|██████████| 6/6 [00:01<00:00,  3.41it/s]\n"
     ]
    },
    {
     "name": "stdout",
     "output_type": "stream",
     "text": [
      "Current Round: 193, Average Loss: 50.86969884157805, Test Loss: 88.82612740428475, Test Accuracy: 6.5777932536941774, Best: 6.5777932536941774\n"
     ]
    },
    {
     "name": "stderr",
     "output_type": "stream",
     "text": [
      "100%|██████████| 6/6 [00:01<00:00,  3.40it/s]\n"
     ]
    },
    {
     "name": "stdout",
     "output_type": "stream",
     "text": [
      "Current Round: 194, Average Loss: 50.95000219036268, Test Loss: 95.5822813039671, Test Accuracy: 6.879318863633545, Best: 6.5777932536941774\n"
     ]
    },
    {
     "name": "stderr",
     "output_type": "stream",
     "text": [
      "100%|██████████| 6/6 [00:01<00:00,  3.44it/s]\n"
     ]
    },
    {
     "name": "stdout",
     "output_type": "stream",
     "text": [
      "Current Round: 195, Average Loss: 50.81930818652358, Test Loss: 94.9210802168485, Test Accuracy: 6.845942862414959, Best: 6.5777932536941774\n"
     ]
    },
    {
     "name": "stderr",
     "output_type": "stream",
     "text": [
      "100%|██████████| 6/6 [00:01<00:00,  3.43it/s]\n"
     ]
    },
    {
     "name": "stdout",
     "output_type": "stream",
     "text": [
      "Current Round: 196, Average Loss: 51.173722818565714, Test Loss: 93.03074239569462, Test Accuracy: 6.79767273970253, Best: 6.5777932536941774\n"
     ]
    },
    {
     "name": "stderr",
     "output_type": "stream",
     "text": [
      "100%|██████████| 6/6 [00:01<00:00,  3.50it/s]\n"
     ]
    },
    {
     "name": "stdout",
     "output_type": "stream",
     "text": [
      "Current Round: 197, Average Loss: 51.568133419499965, Test Loss: 95.18790891077808, Test Accuracy: 6.848322810441292, Best: 6.5777932536941774\n"
     ]
    },
    {
     "name": "stderr",
     "output_type": "stream",
     "text": [
      "100%|██████████| 6/6 [00:01<00:00,  3.40it/s]\n"
     ]
    },
    {
     "name": "stdout",
     "output_type": "stream",
     "text": [
      "Current Round: 198, Average Loss: 51.50794233539241, Test Loss: 88.72846349597651, Test Accuracy: 6.572236383714641, Best: 6.572236383714641\n"
     ]
    },
    {
     "name": "stderr",
     "output_type": "stream",
     "text": [
      "100%|██████████| 6/6 [00:01<00:00,  3.38it/s]\n"
     ]
    },
    {
     "name": "stdout",
     "output_type": "stream",
     "text": [
      "Current Round: 199, Average Loss: 51.461887184115206, Test Loss: 91.14693185979965, Test Accuracy: 6.692756969541717, Best: 6.572236383714641\n"
     ]
    },
    {
     "name": "stderr",
     "output_type": "stream",
     "text": [
      "100%|██████████| 6/6 [00:01<00:00,  3.39it/s]\n"
     ]
    },
    {
     "name": "stdout",
     "output_type": "stream",
     "text": [
      "Current Round: 200, Average Loss: 50.55242583527288, Test Loss: 86.46798145536061, Test Accuracy: 6.550427584547683, Best: 6.550427584547683\n",
      "Training Done!\n",
      "Best Accuracy: 6.550427584547683\n",
      "Total time taken to Train: 426.1056694984436\n",
      "Name is taken...trying again...\n"
     ]
    },
    {
     "name": "stderr",
     "output_type": "stream",
     "text": [
      "100%|██████████| 6/6 [00:01<00:00,  3.44it/s]\n"
     ]
    },
    {
     "name": "stdout",
     "output_type": "stream",
     "text": [
      "Current Round: 1, Average Loss: 1474.362710746438, Test Loss: 4505.244958662484, Test Accuracy: 65.65094594943626, Best: 65.65094594943626\n"
     ]
    },
    {
     "name": "stderr",
     "output_type": "stream",
     "text": [
      "100%|██████████| 6/6 [00:01<00:00,  3.35it/s]\n"
     ]
    },
    {
     "name": "stdout",
     "output_type": "stream",
     "text": [
      "Current Round: 2, Average Loss: 722.5718811921415, Test Loss: 3504.5487426606546, Test Accuracy: 57.44911521902167, Best: 57.44911521902167\n"
     ]
    },
    {
     "name": "stderr",
     "output_type": "stream",
     "text": [
      "100%|██████████| 6/6 [00:01<00:00,  3.43it/s]\n"
     ]
    },
    {
     "name": "stdout",
     "output_type": "stream",
     "text": [
      "Current Round: 3, Average Loss: 499.75323188175133, Test Loss: 2787.8027932168234, Test Accuracy: 50.767268359291805, Best: 50.767268359291805\n"
     ]
    },
    {
     "name": "stderr",
     "output_type": "stream",
     "text": [
      "100%|██████████| 6/6 [00:01<00:00,  3.39it/s]\n"
     ]
    },
    {
     "name": "stdout",
     "output_type": "stream",
     "text": [
      "Current Round: 4, Average Loss: 395.28663659407874, Test Loss: 2175.292348944417, Test Accuracy: 44.28776067665223, Best: 44.28776067665223\n"
     ]
    },
    {
     "name": "stderr",
     "output_type": "stream",
     "text": [
      "100%|██████████| 6/6 [00:01<00:00,  3.33it/s]\n"
     ]
    },
    {
     "name": "stdout",
     "output_type": "stream",
     "text": [
      "Current Round: 5, Average Loss: 302.6582233375864, Test Loss: 1713.3994044193992, Test Accuracy: 38.66014621219375, Best: 38.66014621219375\n"
     ]
    },
    {
     "name": "stderr",
     "output_type": "stream",
     "text": [
      "100%|██████████| 6/6 [00:01<00:00,  3.38it/s]\n"
     ]
    },
    {
     "name": "stdout",
     "output_type": "stream",
     "text": [
      "Current Round: 6, Average Loss: 260.0468038648584, Test Loss: 1352.7559145864795, Test Accuracy: 33.65338844053512, Best: 33.65338844053512\n"
     ]
    },
    {
     "name": "stderr",
     "output_type": "stream",
     "text": [
      "100%|██████████| 6/6 [00:01<00:00,  3.30it/s]\n"
     ]
    },
    {
     "name": "stdout",
     "output_type": "stream",
     "text": [
      "Current Round: 7, Average Loss: 227.48267251695833, Test Loss: 1069.284150003796, Test Accuracy: 29.29084902388751, Best: 29.29084902388751\n"
     ]
    },
    {
     "name": "stderr",
     "output_type": "stream",
     "text": [
      "100%|██████████| 6/6 [00:01<00:00,  3.58it/s]\n"
     ]
    },
    {
     "name": "stdout",
     "output_type": "stream",
     "text": [
      "Current Round: 8, Average Loss: 202.18547270681407, Test Loss: 865.5909237879359, Test Accuracy: 25.905622144318574, Best: 25.905622144318574\n"
     ]
    },
    {
     "name": "stderr",
     "output_type": "stream",
     "text": [
      "100%|██████████| 6/6 [00:01<00:00,  3.51it/s]\n"
     ]
    },
    {
     "name": "stdout",
     "output_type": "stream",
     "text": [
      "Current Round: 9, Average Loss: 173.64027122296758, Test Loss: 710.8081092645392, Test Accuracy: 23.185261441577026, Best: 23.185261441577026\n"
     ]
    },
    {
     "name": "stderr",
     "output_type": "stream",
     "text": [
      "100%|██████████| 6/6 [00:01<00:00,  3.51it/s]\n"
     ]
    },
    {
     "name": "stdout",
     "output_type": "stream",
     "text": [
      "Current Round: 10, Average Loss: 164.52261747767878, Test Loss: 598.7462926513643, Test Accuracy: 20.990200999944182, Best: 20.990200999944182\n"
     ]
    },
    {
     "name": "stderr",
     "output_type": "stream",
     "text": [
      "100%|██████████| 6/6 [00:01<00:00,  3.45it/s]\n"
     ]
    },
    {
     "name": "stdout",
     "output_type": "stream",
     "text": [
      "Current Round: 11, Average Loss: 149.1092322834336, Test Loss: 510.1262782720533, Test Accuracy: 19.1289858150364, Best: 19.1289858150364\n"
     ]
    },
    {
     "name": "stderr",
     "output_type": "stream",
     "text": [
      "100%|██████████| 6/6 [00:01<00:00,  3.38it/s]\n"
     ]
    },
    {
     "name": "stdout",
     "output_type": "stream",
     "text": [
      "Current Round: 12, Average Loss: 139.51092326708434, Test Loss: 452.09689837106987, Test Accuracy: 17.806106037957665, Best: 17.806106037957665\n"
     ]
    },
    {
     "name": "stderr",
     "output_type": "stream",
     "text": [
      "100%|██████████| 6/6 [00:01<00:00,  3.48it/s]\n"
     ]
    },
    {
     "name": "stdout",
     "output_type": "stream",
     "text": [
      "Current Round: 13, Average Loss: 133.76760387013272, Test Loss: 405.8058470087368, Test Accuracy: 16.752445972541896, Best: 16.752445972541896\n"
     ]
    },
    {
     "name": "stderr",
     "output_type": "stream",
     "text": [
      "100%|██████████| 6/6 [00:01<00:00,  3.55it/s]\n"
     ]
    },
    {
     "name": "stdout",
     "output_type": "stream",
     "text": [
      "Current Round: 14, Average Loss: 128.89947384921942, Test Loss: 371.48003014237094, Test Accuracy: 15.847063121299318, Best: 15.847063121299318\n"
     ]
    },
    {
     "name": "stderr",
     "output_type": "stream",
     "text": [
      "100%|██████████| 6/6 [00:01<00:00,  3.50it/s]\n"
     ]
    },
    {
     "name": "stdout",
     "output_type": "stream",
     "text": [
      "Current Round: 15, Average Loss: 123.96529646183943, Test Loss: 342.8653894674675, Test Accuracy: 15.120456771188804, Best: 15.120456771188804\n"
     ]
    },
    {
     "name": "stderr",
     "output_type": "stream",
     "text": [
      "100%|██████████| 6/6 [00:01<00:00,  3.51it/s]\n"
     ]
    },
    {
     "name": "stdout",
     "output_type": "stream",
     "text": [
      "Current Round: 16, Average Loss: 119.60191532992883, Test Loss: 315.96631233296284, Test Accuracy: 14.388094546331054, Best: 14.388094546331054\n"
     ]
    },
    {
     "name": "stderr",
     "output_type": "stream",
     "text": [
      "100%|██████████| 6/6 [00:01<00:00,  3.49it/s]\n"
     ]
    },
    {
     "name": "stdout",
     "output_type": "stream",
     "text": [
      "Current Round: 17, Average Loss: 120.90166274716377, Test Loss: 299.9505050957129, Test Accuracy: 13.936219405655228, Best: 13.936219405655228\n"
     ]
    },
    {
     "name": "stderr",
     "output_type": "stream",
     "text": [
      "100%|██████████| 6/6 [00:01<00:00,  3.47it/s]\n"
     ]
    },
    {
     "name": "stdout",
     "output_type": "stream",
     "text": [
      "Current Round: 18, Average Loss: 117.97405725789001, Test Loss: 284.6447539622751, Test Accuracy: 13.494312454185817, Best: 13.494312454185817\n"
     ]
    },
    {
     "name": "stderr",
     "output_type": "stream",
     "text": [
      "100%|██████████| 6/6 [00:01<00:00,  3.43it/s]\n"
     ]
    },
    {
     "name": "stdout",
     "output_type": "stream",
     "text": [
      "Current Round: 19, Average Loss: 112.66900994814803, Test Loss: 267.08676058312477, Test Accuracy: 12.968126809877681, Best: 12.968126809877681\n"
     ]
    },
    {
     "name": "stderr",
     "output_type": "stream",
     "text": [
      "100%|██████████| 6/6 [00:01<00:00,  3.37it/s]\n"
     ]
    },
    {
     "name": "stdout",
     "output_type": "stream",
     "text": [
      "Current Round: 20, Average Loss: 111.15529168902209, Test Loss: 255.75552020346586, Test Accuracy: 12.628912539287127, Best: 12.628912539287127\n"
     ]
    },
    {
     "name": "stderr",
     "output_type": "stream",
     "text": [
      "100%|██████████| 6/6 [00:01<00:00,  3.38it/s]\n"
     ]
    },
    {
     "name": "stdout",
     "output_type": "stream",
     "text": [
      "Current Round: 21, Average Loss: 106.53693086312167, Test Loss: 244.74955336642458, Test Accuracy: 12.300819141714102, Best: 12.300819141714102\n"
     ]
    },
    {
     "name": "stderr",
     "output_type": "stream",
     "text": [
      "100%|██████████| 6/6 [00:01<00:00,  3.30it/s]\n"
     ]
    },
    {
     "name": "stdout",
     "output_type": "stream",
     "text": [
      "Current Round: 22, Average Loss: 105.39156214399445, Test Loss: 235.32436236641294, Test Accuracy: 12.013671014684135, Best: 12.013671014684135\n"
     ]
    },
    {
     "name": "stderr",
     "output_type": "stream",
     "text": [
      "100%|██████████| 6/6 [00:01<00:00,  3.33it/s]\n"
     ]
    },
    {
     "name": "stdout",
     "output_type": "stream",
     "text": [
      "Current Round: 23, Average Loss: 104.72155119943375, Test Loss: 223.2331869257395, Test Accuracy: 11.570700015572662, Best: 11.570700015572662\n"
     ]
    },
    {
     "name": "stderr",
     "output_type": "stream",
     "text": [
      "100%|██████████| 6/6 [00:01<00:00,  3.32it/s]\n"
     ]
    },
    {
     "name": "stdout",
     "output_type": "stream",
     "text": [
      "Current Round: 24, Average Loss: 101.92149757415741, Test Loss: 210.8640429353921, Test Accuracy: 11.03729870121423, Best: 11.03729870121423\n"
     ]
    },
    {
     "name": "stderr",
     "output_type": "stream",
     "text": [
      "100%|██████████| 6/6 [00:01<00:00,  3.41it/s]\n"
     ]
    },
    {
     "name": "stdout",
     "output_type": "stream",
     "text": [
      "Current Round: 25, Average Loss: 99.02497192504764, Test Loss: 204.4164476339905, Test Accuracy: 10.760999996275116, Best: 10.760999996275116\n"
     ]
    },
    {
     "name": "stderr",
     "output_type": "stream",
     "text": [
      "100%|██████████| 6/6 [00:01<00:00,  3.38it/s]\n"
     ]
    },
    {
     "name": "stdout",
     "output_type": "stream",
     "text": [
      "Current Round: 26, Average Loss: 97.02693360591371, Test Loss: 199.67467400354082, Test Accuracy: 10.515988076929709, Best: 10.515988076929709\n"
     ]
    },
    {
     "name": "stderr",
     "output_type": "stream",
     "text": [
      "100%|██████████| 6/6 [00:01<00:00,  3.33it/s]\n"
     ]
    },
    {
     "name": "stdout",
     "output_type": "stream",
     "text": [
      "Current Round: 27, Average Loss: 96.4608589972414, Test Loss: 198.6979676686929, Test Accuracy: 10.454389361791598, Best: 10.454389361791598\n"
     ]
    },
    {
     "name": "stderr",
     "output_type": "stream",
     "text": [
      "100%|██████████| 6/6 [00:01<00:00,  3.27it/s]\n"
     ]
    },
    {
     "name": "stdout",
     "output_type": "stream",
     "text": [
      "Current Round: 28, Average Loss: 92.87349460229116, Test Loss: 193.08516886592594, Test Accuracy: 10.131657332145, Best: 10.131657332145\n"
     ]
    },
    {
     "name": "stderr",
     "output_type": "stream",
     "text": [
      "100%|██████████| 6/6 [00:01<00:00,  3.35it/s]\n"
     ]
    },
    {
     "name": "stdout",
     "output_type": "stream",
     "text": [
      "Current Round: 29, Average Loss: 91.9274507092595, Test Loss: 191.70630943926588, Test Accuracy: 9.998344728642385, Best: 9.998344728642385\n"
     ]
    },
    {
     "name": "stderr",
     "output_type": "stream",
     "text": [
      "100%|██████████| 6/6 [00:01<00:00,  3.33it/s]\n"
     ]
    },
    {
     "name": "stdout",
     "output_type": "stream",
     "text": [
      "Current Round: 30, Average Loss: 89.4841632143893, Test Loss: 189.36991256024905, Test Accuracy: 9.818316909903487, Best: 9.818316909903487\n"
     ]
    },
    {
     "name": "stderr",
     "output_type": "stream",
     "text": [
      "100%|██████████| 6/6 [00:01<00:00,  3.36it/s]\n"
     ]
    },
    {
     "name": "stdout",
     "output_type": "stream",
     "text": [
      "Current Round: 31, Average Loss: 88.31510512362634, Test Loss: 186.93104117461556, Test Accuracy: 9.668083377634874, Best: 9.668083377634874\n"
     ]
    },
    {
     "name": "stderr",
     "output_type": "stream",
     "text": [
      "100%|██████████| 6/6 [00:01<00:00,  3.49it/s]\n"
     ]
    },
    {
     "name": "stdout",
     "output_type": "stream",
     "text": [
      "Current Round: 32, Average Loss: 87.73058525340132, Test Loss: 184.58838596106352, Test Accuracy: 9.527157037822436, Best: 9.527157037822436\n"
     ]
    },
    {
     "name": "stderr",
     "output_type": "stream",
     "text": [
      "100%|██████████| 6/6 [00:01<00:00,  3.42it/s]\n"
     ]
    },
    {
     "name": "stdout",
     "output_type": "stream",
     "text": [
      "Current Round: 33, Average Loss: 84.21845157583078, Test Loss: 183.82856092164397, Test Accuracy: 9.361710403045313, Best: 9.361710403045313\n"
     ]
    },
    {
     "name": "stderr",
     "output_type": "stream",
     "text": [
      "100%|██████████| 6/6 [00:01<00:00,  3.44it/s]\n"
     ]
    },
    {
     "name": "stdout",
     "output_type": "stream",
     "text": [
      "Current Round: 34, Average Loss: 84.48662720453284, Test Loss: 180.59984269202715, Test Accuracy: 9.153018637069835, Best: 9.153018637069835\n"
     ]
    },
    {
     "name": "stderr",
     "output_type": "stream",
     "text": [
      "100%|██████████| 6/6 [00:01<00:00,  3.38it/s]\n"
     ]
    },
    {
     "name": "stdout",
     "output_type": "stream",
     "text": [
      "Current Round: 35, Average Loss: 81.21866993984933, Test Loss: 175.16952880390699, Test Accuracy: 8.95295088530473, Best: 8.95295088530473\n"
     ]
    },
    {
     "name": "stderr",
     "output_type": "stream",
     "text": [
      "100%|██████████| 6/6 [00:01<00:00,  3.27it/s]\n"
     ]
    },
    {
     "name": "stdout",
     "output_type": "stream",
     "text": [
      "Current Round: 36, Average Loss: 82.06080392117636, Test Loss: 171.37200395716758, Test Accuracy: 8.71419117441851, Best: 8.71419117441851\n"
     ]
    },
    {
     "name": "stderr",
     "output_type": "stream",
     "text": [
      "100%|██████████| 6/6 [00:01<00:00,  3.45it/s]\n"
     ]
    },
    {
     "name": "stdout",
     "output_type": "stream",
     "text": [
      "Current Round: 37, Average Loss: 79.65760241557501, Test Loss: 163.42644089240642, Test Accuracy: 8.546474903489578, Best: 8.546474903489578\n"
     ]
    },
    {
     "name": "stderr",
     "output_type": "stream",
     "text": [
      "100%|██████████| 6/6 [00:01<00:00,  3.57it/s]\n"
     ]
    },
    {
     "name": "stdout",
     "output_type": "stream",
     "text": [
      "Current Round: 38, Average Loss: 74.83115991088039, Test Loss: 155.72876282819476, Test Accuracy: 8.415035287982322, Best: 8.415035287982322\n"
     ]
    },
    {
     "name": "stderr",
     "output_type": "stream",
     "text": [
      "100%|██████████| 6/6 [00:01<00:00,  3.51it/s]\n"
     ]
    },
    {
     "name": "stdout",
     "output_type": "stream",
     "text": [
      "Current Round: 39, Average Loss: 74.22361239043907, Test Loss: 149.3766134941334, Test Accuracy: 8.214091129610233, Best: 8.214091129610233\n"
     ]
    },
    {
     "name": "stderr",
     "output_type": "stream",
     "text": [
      "100%|██████████| 6/6 [00:01<00:00,  3.52it/s]\n"
     ]
    },
    {
     "name": "stdout",
     "output_type": "stream",
     "text": [
      "Current Round: 40, Average Loss: 73.8778213861972, Test Loss: 144.5166620650182, Test Accuracy: 8.074657955429663, Best: 8.074657955429663\n"
     ]
    },
    {
     "name": "stderr",
     "output_type": "stream",
     "text": [
      "100%|██████████| 6/6 [00:01<00:00,  3.38it/s]\n"
     ]
    },
    {
     "name": "stdout",
     "output_type": "stream",
     "text": [
      "Current Round: 41, Average Loss: 71.58365289688899, Test Loss: 141.79615619662303, Test Accuracy: 7.954642977708629, Best: 7.954642977708629\n"
     ]
    },
    {
     "name": "stderr",
     "output_type": "stream",
     "text": [
      "100%|██████████| 6/6 [00:01<00:00,  3.39it/s]\n"
     ]
    },
    {
     "name": "stdout",
     "output_type": "stream",
     "text": [
      "Current Round: 42, Average Loss: 70.08462185542315, Test Loss: 135.25797792992185, Test Accuracy: 7.776823707968181, Best: 7.776823707968181\n"
     ]
    },
    {
     "name": "stderr",
     "output_type": "stream",
     "text": [
      "100%|██████████| 6/6 [00:01<00:00,  3.40it/s]\n"
     ]
    },
    {
     "name": "stdout",
     "output_type": "stream",
     "text": [
      "Current Round: 43, Average Loss: 69.17034085591634, Test Loss: 129.98227608017393, Test Accuracy: 7.63171074736074, Best: 7.63171074736074\n"
     ]
    },
    {
     "name": "stderr",
     "output_type": "stream",
     "text": [
      "100%|██████████| 6/6 [00:01<00:00,  3.43it/s]\n"
     ]
    },
    {
     "name": "stdout",
     "output_type": "stream",
     "text": [
      "Current Round: 44, Average Loss: 66.90777197235032, Test Loss: 125.33810675650133, Test Accuracy: 7.519526428449553, Best: 7.519526428449553\n"
     ]
    },
    {
     "name": "stderr",
     "output_type": "stream",
     "text": [
      "100%|██████████| 6/6 [00:01<00:00,  3.41it/s]\n"
     ]
    },
    {
     "name": "stdout",
     "output_type": "stream",
     "text": [
      "Current Round: 45, Average Loss: 67.73556291089498, Test Loss: 122.00675715513462, Test Accuracy: 7.4492859822666775, Best: 7.4492859822666775\n"
     ]
    },
    {
     "name": "stderr",
     "output_type": "stream",
     "text": [
      "100%|██████████| 6/6 [00:01<00:00,  3.36it/s]\n"
     ]
    },
    {
     "name": "stdout",
     "output_type": "stream",
     "text": [
      "Current Round: 46, Average Loss: 67.79838645381015, Test Loss: 119.0671974109645, Test Accuracy: 7.385848698858287, Best: 7.385848698858287\n"
     ]
    },
    {
     "name": "stderr",
     "output_type": "stream",
     "text": [
      "100%|██████████| 6/6 [00:01<00:00,  3.36it/s]\n"
     ]
    },
    {
     "name": "stdout",
     "output_type": "stream",
     "text": [
      "Current Round: 47, Average Loss: 65.57665705053343, Test Loss: 117.24720101310528, Test Accuracy: 7.369828336448622, Best: 7.369828336448622\n"
     ]
    },
    {
     "name": "stderr",
     "output_type": "stream",
     "text": [
      "100%|██████████| 6/6 [00:01<00:00,  3.46it/s]\n"
     ]
    },
    {
     "name": "stdout",
     "output_type": "stream",
     "text": [
      "Current Round: 48, Average Loss: 64.61342722012417, Test Loss: 110.10841608186433, Test Accuracy: 7.179457438775007, Best: 7.179457438775007\n"
     ]
    },
    {
     "name": "stderr",
     "output_type": "stream",
     "text": [
      "100%|██████████| 6/6 [00:01<00:00,  3.37it/s]\n"
     ]
    },
    {
     "name": "stdout",
     "output_type": "stream",
     "text": [
      "Current Round: 49, Average Loss: 63.414752483565046, Test Loss: 109.38175556169364, Test Accuracy: 7.185086480746925, Best: 7.179457438775007\n"
     ]
    },
    {
     "name": "stderr",
     "output_type": "stream",
     "text": [
      "100%|██████████| 6/6 [00:01<00:00,  3.43it/s]\n"
     ]
    },
    {
     "name": "stdout",
     "output_type": "stream",
     "text": [
      "Current Round: 50, Average Loss: 63.94262827598343, Test Loss: 110.51501849049973, Test Accuracy: 7.248787174437569, Best: 7.179457438775007\n"
     ]
    },
    {
     "name": "stderr",
     "output_type": "stream",
     "text": [
      "100%|██████████| 6/6 [00:01<00:00,  3.29it/s]\n"
     ]
    },
    {
     "name": "stdout",
     "output_type": "stream",
     "text": [
      "Current Round: 51, Average Loss: 62.92239914870844, Test Loss: 104.94234618618438, Test Accuracy: 7.101445931927422, Best: 7.101445931927422\n"
     ]
    },
    {
     "name": "stderr",
     "output_type": "stream",
     "text": [
      "100%|██████████| 6/6 [00:01<00:00,  3.24it/s]\n"
     ]
    },
    {
     "name": "stdout",
     "output_type": "stream",
     "text": [
      "Current Round: 52, Average Loss: 62.68911549617136, Test Loss: 101.40303645610736, Test Accuracy: 7.001307332678207, Best: 7.001307332678207\n"
     ]
    },
    {
     "name": "stderr",
     "output_type": "stream",
     "text": [
      "100%|██████████| 6/6 [00:01<00:00,  3.41it/s]\n"
     ]
    },
    {
     "name": "stdout",
     "output_type": "stream",
     "text": [
      "Current Round: 53, Average Loss: 60.402910605760844, Test Loss: 97.72400719139729, Test Accuracy: 6.934486512062422, Best: 6.934486512062422\n"
     ]
    },
    {
     "name": "stderr",
     "output_type": "stream",
     "text": [
      "100%|██████████| 6/6 [00:01<00:00,  3.42it/s]\n"
     ]
    },
    {
     "name": "stdout",
     "output_type": "stream",
     "text": [
      "Current Round: 54, Average Loss: 61.06799494433341, Test Loss: 98.24188248527639, Test Accuracy: 6.977840369223366, Best: 6.934486512062422\n"
     ]
    },
    {
     "name": "stderr",
     "output_type": "stream",
     "text": [
      "100%|██████████| 6/6 [00:01<00:00,  3.47it/s]\n"
     ]
    },
    {
     "name": "stdout",
     "output_type": "stream",
     "text": [
      "Current Round: 55, Average Loss: 61.58463094151347, Test Loss: 98.69382822096736, Test Accuracy: 7.041202221365814, Best: 6.934486512062422\n"
     ]
    },
    {
     "name": "stderr",
     "output_type": "stream",
     "text": [
      "100%|██████████| 6/6 [00:01<00:00,  3.47it/s]\n"
     ]
    },
    {
     "name": "stdout",
     "output_type": "stream",
     "text": [
      "Current Round: 56, Average Loss: 60.42873391721372, Test Loss: 95.2906216276461, Test Accuracy: 6.981434360017269, Best: 6.934486512062422\n"
     ]
    },
    {
     "name": "stderr",
     "output_type": "stream",
     "text": [
      "100%|██████████| 6/6 [00:01<00:00,  3.39it/s]\n"
     ]
    },
    {
     "name": "stdout",
     "output_type": "stream",
     "text": [
      "Current Round: 57, Average Loss: 60.804919835472134, Test Loss: 91.48078357406155, Test Accuracy: 6.8352973422744165, Best: 6.8352973422744165\n"
     ]
    },
    {
     "name": "stderr",
     "output_type": "stream",
     "text": [
      "100%|██████████| 6/6 [00:01<00:00,  3.39it/s]\n"
     ]
    },
    {
     "name": "stdout",
     "output_type": "stream",
     "text": [
      "Current Round: 58, Average Loss: 60.91709350918678, Test Loss: 91.19687946005972, Test Accuracy: 6.845813053986692, Best: 6.8352973422744165\n"
     ]
    },
    {
     "name": "stderr",
     "output_type": "stream",
     "text": [
      "100%|██████████| 6/6 [00:01<00:00,  3.40it/s]\n"
     ]
    },
    {
     "name": "stdout",
     "output_type": "stream",
     "text": [
      "Current Round: 59, Average Loss: 59.866977065197936, Test Loss: 87.80405882572411, Test Accuracy: 6.742561009441315, Best: 6.742561009441315\n"
     ]
    },
    {
     "name": "stderr",
     "output_type": "stream",
     "text": [
      "100%|██████████| 6/6 [00:01<00:00,  3.45it/s]\n"
     ]
    },
    {
     "name": "stdout",
     "output_type": "stream",
     "text": [
      "Current Round: 60, Average Loss: 60.52115465245399, Test Loss: 88.6515686751483, Test Accuracy: 6.770334844104715, Best: 6.742561009441315\n"
     ]
    },
    {
     "name": "stderr",
     "output_type": "stream",
     "text": [
      "100%|██████████| 6/6 [00:01<00:00,  3.47it/s]\n"
     ]
    },
    {
     "name": "stdout",
     "output_type": "stream",
     "text": [
      "Current Round: 61, Average Loss: 59.31153566498591, Test Loss: 86.89166856412182, Test Accuracy: 6.735744457410318, Best: 6.735744457410318\n"
     ]
    },
    {
     "name": "stderr",
     "output_type": "stream",
     "text": [
      "100%|██████████| 6/6 [00:01<00:00,  3.38it/s]\n"
     ]
    },
    {
     "name": "stdout",
     "output_type": "stream",
     "text": [
      "Current Round: 62, Average Loss: 60.1019615222226, Test Loss: 87.57725560646665, Test Accuracy: 6.771782509899494, Best: 6.735744457410318\n"
     ]
    },
    {
     "name": "stderr",
     "output_type": "stream",
     "text": [
      "100%|██████████| 6/6 [00:01<00:00,  3.43it/s]\n"
     ]
    },
    {
     "name": "stdout",
     "output_type": "stream",
     "text": [
      "Current Round: 63, Average Loss: 58.386163700771874, Test Loss: 86.22516725767206, Test Accuracy: 6.767639824301189, Best: 6.735744457410318\n"
     ]
    },
    {
     "name": "stderr",
     "output_type": "stream",
     "text": [
      "100%|██████████| 6/6 [00:01<00:00,  3.58it/s]\n"
     ]
    },
    {
     "name": "stdout",
     "output_type": "stream",
     "text": [
      "Current Round: 64, Average Loss: 57.55290829828164, Test Loss: 83.25432043709091, Test Accuracy: 6.672521094850448, Best: 6.672521094850448\n"
     ]
    },
    {
     "name": "stderr",
     "output_type": "stream",
     "text": [
      "100%|██████████| 6/6 [00:01<00:00,  3.38it/s]\n"
     ]
    },
    {
     "name": "stdout",
     "output_type": "stream",
     "text": [
      "Current Round: 65, Average Loss: 59.17194505599932, Test Loss: 82.86445607942942, Test Accuracy: 6.665960328434184, Best: 6.665960328434184\n"
     ]
    },
    {
     "name": "stderr",
     "output_type": "stream",
     "text": [
      "100%|██████████| 6/6 [00:01<00:00,  3.45it/s]\n"
     ]
    },
    {
     "name": "stdout",
     "output_type": "stream",
     "text": [
      "Current Round: 66, Average Loss: 59.046660134561364, Test Loss: 82.73319609882368, Test Accuracy: 6.655437138591705, Best: 6.655437138591705\n"
     ]
    },
    {
     "name": "stderr",
     "output_type": "stream",
     "text": [
      "100%|██████████| 6/6 [00:01<00:00,  3.51it/s]\n"
     ]
    },
    {
     "name": "stdout",
     "output_type": "stream",
     "text": [
      "Current Round: 67, Average Loss: 59.891248783691374, Test Loss: 82.44744451401255, Test Accuracy: 6.674682529737811, Best: 6.655437138591705\n"
     ]
    },
    {
     "name": "stderr",
     "output_type": "stream",
     "text": [
      "100%|██████████| 6/6 [00:01<00:00,  3.50it/s]\n"
     ]
    },
    {
     "name": "stdout",
     "output_type": "stream",
     "text": [
      "Current Round: 68, Average Loss: 58.39407006298294, Test Loss: 81.73516108830549, Test Accuracy: 6.643276183874042, Best: 6.643276183874042\n"
     ]
    },
    {
     "name": "stderr",
     "output_type": "stream",
     "text": [
      "100%|██████████| 6/6 [00:01<00:00,  3.46it/s]\n"
     ]
    },
    {
     "name": "stdout",
     "output_type": "stream",
     "text": [
      "Current Round: 69, Average Loss: 57.95334686588384, Test Loss: 82.96956764306074, Test Accuracy: 6.689638806689332, Best: 6.643276183874042\n"
     ]
    },
    {
     "name": "stderr",
     "output_type": "stream",
     "text": [
      "100%|██████████| 6/6 [00:01<00:00,  3.35it/s]\n"
     ]
    },
    {
     "name": "stdout",
     "output_type": "stream",
     "text": [
      "Current Round: 70, Average Loss: 58.59566896658586, Test Loss: 81.8102617054079, Test Accuracy: 6.662246276307136, Best: 6.643276183874042\n"
     ]
    },
    {
     "name": "stderr",
     "output_type": "stream",
     "text": [
      "100%|██████████| 6/6 [00:01<00:00,  3.28it/s]\n"
     ]
    },
    {
     "name": "stdout",
     "output_type": "stream",
     "text": [
      "Current Round: 71, Average Loss: 58.05926672459896, Test Loss: 81.50944253354525, Test Accuracy: 6.617541108728194, Best: 6.617541108728194\n"
     ]
    },
    {
     "name": "stderr",
     "output_type": "stream",
     "text": [
      "100%|██████████| 6/6 [00:01<00:00,  3.38it/s]\n"
     ]
    },
    {
     "name": "stdout",
     "output_type": "stream",
     "text": [
      "Current Round: 72, Average Loss: 58.41817326330196, Test Loss: 81.35926691489583, Test Accuracy: 6.5918453481265304, Best: 6.5918453481265304\n"
     ]
    },
    {
     "name": "stderr",
     "output_type": "stream",
     "text": [
      "100%|██████████| 6/6 [00:01<00:00,  3.39it/s]\n"
     ]
    },
    {
     "name": "stdout",
     "output_type": "stream",
     "text": [
      "Current Round: 73, Average Loss: 57.99540667437285, Test Loss: 79.86450588124282, Test Accuracy: 6.538791138886519, Best: 6.538791138886519\n"
     ]
    },
    {
     "name": "stderr",
     "output_type": "stream",
     "text": [
      "100%|██████████| 6/6 [00:01<00:00,  3.49it/s]\n"
     ]
    },
    {
     "name": "stdout",
     "output_type": "stream",
     "text": [
      "Current Round: 74, Average Loss: 57.572139500323225, Test Loss: 80.42705920299855, Test Accuracy: 6.555871155182225, Best: 6.538791138886519\n"
     ]
    },
    {
     "name": "stderr",
     "output_type": "stream",
     "text": [
      "100%|██████████| 6/6 [00:01<00:00,  3.56it/s]\n"
     ]
    },
    {
     "name": "stdout",
     "output_type": "stream",
     "text": [
      "Current Round: 75, Average Loss: 56.75661380484493, Test Loss: 78.58227688724999, Test Accuracy: 6.544036132547787, Best: 6.538791138886519\n"
     ]
    },
    {
     "name": "stderr",
     "output_type": "stream",
     "text": [
      "100%|██████████| 6/6 [00:01<00:00,  3.47it/s]\n"
     ]
    },
    {
     "name": "stdout",
     "output_type": "stream",
     "text": [
      "Current Round: 76, Average Loss: 57.89913599829839, Test Loss: 79.85342301814234, Test Accuracy: 6.592689150180368, Best: 6.538791138886519\n"
     ]
    },
    {
     "name": "stderr",
     "output_type": "stream",
     "text": [
      "100%|██████████| 6/6 [00:01<00:00,  3.44it/s]\n"
     ]
    },
    {
     "name": "stdout",
     "output_type": "stream",
     "text": [
      "Current Round: 77, Average Loss: 57.82514137615263, Test Loss: 77.87408492027792, Test Accuracy: 6.515052691415931, Best: 6.515052691415931\n"
     ]
    },
    {
     "name": "stderr",
     "output_type": "stream",
     "text": [
      "100%|██████████| 6/6 [00:01<00:00,  3.48it/s]\n"
     ]
    },
    {
     "name": "stdout",
     "output_type": "stream",
     "text": [
      "Current Round: 78, Average Loss: 57.25828814766074, Test Loss: 77.89155466744707, Test Accuracy: 6.50827737309528, Best: 6.50827737309528\n"
     ]
    },
    {
     "name": "stderr",
     "output_type": "stream",
     "text": [
      "100%|██████████| 6/6 [00:01<00:00,  3.55it/s]\n"
     ]
    },
    {
     "name": "stdout",
     "output_type": "stream",
     "text": [
      "Current Round: 79, Average Loss: 57.002697108287, Test Loss: 79.00866583735674, Test Accuracy: 6.527161299222168, Best: 6.50827737309528\n"
     ]
    },
    {
     "name": "stderr",
     "output_type": "stream",
     "text": [
      "100%|██████████| 6/6 [00:01<00:00,  3.43it/s]\n"
     ]
    },
    {
     "name": "stdout",
     "output_type": "stream",
     "text": [
      "Current Round: 80, Average Loss: 56.88596675549392, Test Loss: 77.67281638449138, Test Accuracy: 6.4811553033311124, Best: 6.4811553033311124\n"
     ]
    },
    {
     "name": "stderr",
     "output_type": "stream",
     "text": [
      "100%|██████████| 6/6 [00:01<00:00,  3.47it/s]\n"
     ]
    },
    {
     "name": "stdout",
     "output_type": "stream",
     "text": [
      "Current Round: 81, Average Loss: 57.6253742926604, Test Loss: 76.45928298512098, Test Accuracy: 6.447116747812415, Best: 6.447116747812415\n"
     ]
    },
    {
     "name": "stderr",
     "output_type": "stream",
     "text": [
      "100%|██████████| 6/6 [00:01<00:00,  3.37it/s]\n"
     ]
    },
    {
     "name": "stdout",
     "output_type": "stream",
     "text": [
      "Current Round: 82, Average Loss: 56.835362363817666, Test Loss: 77.5274839363946, Test Accuracy: 6.460544139479173, Best: 6.447116747812415\n"
     ]
    },
    {
     "name": "stderr",
     "output_type": "stream",
     "text": [
      "100%|██████████| 6/6 [00:01<00:00,  3.36it/s]\n"
     ]
    },
    {
     "name": "stdout",
     "output_type": "stream",
     "text": [
      "Current Round: 83, Average Loss: 58.476524113196064, Test Loss: 78.21589010165452, Test Accuracy: 6.513441716871297, Best: 6.447116747812415\n"
     ]
    },
    {
     "name": "stderr",
     "output_type": "stream",
     "text": [
      "100%|██████████| 6/6 [00:01<00:00,  3.36it/s]\n"
     ]
    },
    {
     "name": "stdout",
     "output_type": "stream",
     "text": [
      "Current Round: 84, Average Loss: 58.04278904277627, Test Loss: 77.45748047174827, Test Accuracy: 6.494823947419612, Best: 6.447116747812415\n"
     ]
    },
    {
     "name": "stderr",
     "output_type": "stream",
     "text": [
      "100%|██████████| 6/6 [00:01<00:00,  3.44it/s]\n"
     ]
    },
    {
     "name": "stdout",
     "output_type": "stream",
     "text": [
      "Current Round: 85, Average Loss: 57.113929495726694, Test Loss: 77.28781865046635, Test Accuracy: 6.484948667599514, Best: 6.447116747812415\n"
     ]
    },
    {
     "name": "stderr",
     "output_type": "stream",
     "text": [
      "100%|██████████| 6/6 [00:01<00:00,  3.43it/s]\n"
     ]
    },
    {
     "name": "stdout",
     "output_type": "stream",
     "text": [
      "Current Round: 86, Average Loss: 57.37146189831432, Test Loss: 76.91603797367662, Test Accuracy: 6.456662056319037, Best: 6.447116747812415\n"
     ]
    },
    {
     "name": "stderr",
     "output_type": "stream",
     "text": [
      "100%|██████████| 6/6 [00:01<00:00,  3.53it/s]\n"
     ]
    },
    {
     "name": "stdout",
     "output_type": "stream",
     "text": [
      "Current Round: 87, Average Loss: 57.04158708841262, Test Loss: 76.69007904534003, Test Accuracy: 6.465122400163275, Best: 6.447116747812415\n"
     ]
    },
    {
     "name": "stderr",
     "output_type": "stream",
     "text": [
      "100%|██████████| 6/6 [00:01<00:00,  3.45it/s]\n"
     ]
    },
    {
     "name": "stdout",
     "output_type": "stream",
     "text": [
      "Current Round: 88, Average Loss: 56.453715291679664, Test Loss: 75.21017510934169, Test Accuracy: 6.419178725175255, Best: 6.419178725175255\n"
     ]
    },
    {
     "name": "stderr",
     "output_type": "stream",
     "text": [
      "100%|██████████| 6/6 [00:01<00:00,  3.39it/s]\n"
     ]
    },
    {
     "name": "stdout",
     "output_type": "stream",
     "text": [
      "Current Round: 89, Average Loss: 56.682809265402035, Test Loss: 75.32062809574596, Test Accuracy: 6.422607211523045, Best: 6.419178725175255\n"
     ]
    },
    {
     "name": "stderr",
     "output_type": "stream",
     "text": [
      "100%|██████████| 6/6 [00:01<00:00,  3.39it/s]\n"
     ]
    },
    {
     "name": "stdout",
     "output_type": "stream",
     "text": [
      "Current Round: 90, Average Loss: 56.22050283887226, Test Loss: 75.1147741532828, Test Accuracy: 6.429106418084921, Best: 6.419178725175255\n"
     ]
    },
    {
     "name": "stderr",
     "output_type": "stream",
     "text": [
      "100%|██████████| 6/6 [00:01<00:00,  3.41it/s]\n"
     ]
    },
    {
     "name": "stdout",
     "output_type": "stream",
     "text": [
      "Current Round: 91, Average Loss: 56.686489910992016, Test Loss: 75.43366250876323, Test Accuracy: 6.448059434193513, Best: 6.419178725175255\n"
     ]
    },
    {
     "name": "stderr",
     "output_type": "stream",
     "text": [
      "100%|██████████| 6/6 [00:01<00:00,  3.41it/s]\n"
     ]
    },
    {
     "name": "stdout",
     "output_type": "stream",
     "text": [
      "Current Round: 92, Average Loss: 56.24927020890991, Test Loss: 76.99223083677751, Test Accuracy: 6.492895159431845, Best: 6.419178725175255\n"
     ]
    },
    {
     "name": "stderr",
     "output_type": "stream",
     "text": [
      "100%|██████████| 6/6 [00:01<00:00,  3.45it/s]\n"
     ]
    },
    {
     "name": "stdout",
     "output_type": "stream",
     "text": [
      "Current Round: 93, Average Loss: 56.12026384097905, Test Loss: 76.6888612046967, Test Accuracy: 6.49310986260056, Best: 6.419178725175255\n"
     ]
    },
    {
     "name": "stderr",
     "output_type": "stream",
     "text": [
      "100%|██████████| 6/6 [00:01<00:00,  3.35it/s]\n"
     ]
    },
    {
     "name": "stdout",
     "output_type": "stream",
     "text": [
      "Current Round: 94, Average Loss: 56.14049647829166, Test Loss: 76.04103457544572, Test Accuracy: 6.483587725898147, Best: 6.419178725175255\n"
     ]
    },
    {
     "name": "stderr",
     "output_type": "stream",
     "text": [
      "100%|██████████| 6/6 [00:01<00:00,  3.38it/s]\n"
     ]
    },
    {
     "name": "stdout",
     "output_type": "stream",
     "text": [
      "Current Round: 95, Average Loss: 55.99388200562898, Test Loss: 73.93490589724892, Test Accuracy: 6.411532906646918, Best: 6.411532906646918\n"
     ]
    },
    {
     "name": "stderr",
     "output_type": "stream",
     "text": [
      "100%|██████████| 6/6 [00:01<00:00,  3.49it/s]\n"
     ]
    },
    {
     "name": "stdout",
     "output_type": "stream",
     "text": [
      "Current Round: 96, Average Loss: 55.4753418880766, Test Loss: 73.08342855405685, Test Accuracy: 6.374193742225014, Best: 6.374193742225014\n"
     ]
    },
    {
     "name": "stderr",
     "output_type": "stream",
     "text": [
      "100%|██████████| 6/6 [00:01<00:00,  3.55it/s]\n"
     ]
    },
    {
     "name": "stdout",
     "output_type": "stream",
     "text": [
      "Current Round: 97, Average Loss: 55.86123657055723, Test Loss: 75.0482648646429, Test Accuracy: 6.447688432431132, Best: 6.374193742225014\n"
     ]
    },
    {
     "name": "stderr",
     "output_type": "stream",
     "text": [
      "100%|██████████| 6/6 [00:01<00:00,  3.42it/s]\n"
     ]
    },
    {
     "name": "stdout",
     "output_type": "stream",
     "text": [
      "Current Round: 98, Average Loss: 55.69308602706417, Test Loss: 74.46252088734356, Test Accuracy: 6.430230323857682, Best: 6.374193742225014\n"
     ]
    },
    {
     "name": "stderr",
     "output_type": "stream",
     "text": [
      "100%|██████████| 6/6 [00:01<00:00,  3.48it/s]\n"
     ]
    },
    {
     "name": "stdout",
     "output_type": "stream",
     "text": [
      "Current Round: 99, Average Loss: 56.917461848183414, Test Loss: 73.91855034873794, Test Accuracy: 6.3853176830721905, Best: 6.374193742225014\n"
     ]
    },
    {
     "name": "stderr",
     "output_type": "stream",
     "text": [
      "100%|██████████| 6/6 [00:01<00:00,  3.35it/s]\n"
     ]
    },
    {
     "name": "stdout",
     "output_type": "stream",
     "text": [
      "Current Round: 100, Average Loss: 54.63407308082534, Test Loss: 76.20458874029374, Test Accuracy: 6.482461683516757, Best: 6.374193742225014\n"
     ]
    },
    {
     "name": "stderr",
     "output_type": "stream",
     "text": [
      "100%|██████████| 6/6 [00:01<00:00,  3.35it/s]\n"
     ]
    },
    {
     "name": "stdout",
     "output_type": "stream",
     "text": [
      "Current Round: 101, Average Loss: 55.64297328232504, Test Loss: 73.5041929621531, Test Accuracy: 6.392925588614879, Best: 6.374193742225014\n"
     ]
    },
    {
     "name": "stderr",
     "output_type": "stream",
     "text": [
      "100%|██████████| 6/6 [00:01<00:00,  3.37it/s]\n"
     ]
    },
    {
     "name": "stdout",
     "output_type": "stream",
     "text": [
      "Current Round: 102, Average Loss: 55.92842888858376, Test Loss: 72.95011076925708, Test Accuracy: 6.3846472441189945, Best: 6.374193742225014\n"
     ]
    },
    {
     "name": "stderr",
     "output_type": "stream",
     "text": [
      "100%|██████████| 6/6 [00:01<00:00,  3.41it/s]\n"
     ]
    },
    {
     "name": "stdout",
     "output_type": "stream",
     "text": [
      "Current Round: 103, Average Loss: 54.92841007677635, Test Loss: 70.92741138741947, Test Accuracy: 6.306700315321836, Best: 6.306700315321836\n"
     ]
    },
    {
     "name": "stderr",
     "output_type": "stream",
     "text": [
      "100%|██████████| 6/6 [00:01<00:00,  3.38it/s]\n"
     ]
    },
    {
     "name": "stdout",
     "output_type": "stream",
     "text": [
      "Current Round: 104, Average Loss: 54.37676408258994, Test Loss: 70.6123307004751, Test Accuracy: 6.326664980163953, Best: 6.306700315321836\n"
     ]
    },
    {
     "name": "stderr",
     "output_type": "stream",
     "text": [
      "100%|██████████| 6/6 [00:01<00:00,  3.54it/s]\n"
     ]
    },
    {
     "name": "stdout",
     "output_type": "stream",
     "text": [
      "Current Round: 105, Average Loss: 55.144369400892934, Test Loss: 70.06656049641572, Test Accuracy: 6.311631681307541, Best: 6.306700315321836\n"
     ]
    },
    {
     "name": "stderr",
     "output_type": "stream",
     "text": [
      "100%|██████████| 6/6 [00:01<00:00,  3.55it/s]\n"
     ]
    },
    {
     "name": "stdout",
     "output_type": "stream",
     "text": [
      "Current Round: 106, Average Loss: 54.59020804192969, Test Loss: 70.27096517566393, Test Accuracy: 6.306023116743993, Best: 6.306023116743993\n"
     ]
    },
    {
     "name": "stderr",
     "output_type": "stream",
     "text": [
      "100%|██████████| 6/6 [00:01<00:00,  3.47it/s]\n"
     ]
    },
    {
     "name": "stdout",
     "output_type": "stream",
     "text": [
      "Current Round: 107, Average Loss: 54.64747873107576, Test Loss: 69.88028317863235, Test Accuracy: 6.28879866192332, Best: 6.28879866192332\n"
     ]
    },
    {
     "name": "stderr",
     "output_type": "stream",
     "text": [
      "100%|██████████| 6/6 [00:01<00:00,  3.42it/s]\n"
     ]
    },
    {
     "name": "stdout",
     "output_type": "stream",
     "text": [
      "Current Round: 108, Average Loss: 55.3831805741309, Test Loss: 69.38285573348496, Test Accuracy: 6.279522769365465, Best: 6.279522769365465\n"
     ]
    },
    {
     "name": "stderr",
     "output_type": "stream",
     "text": [
      "100%|██████████| 6/6 [00:01<00:00,  3.45it/s]\n"
     ]
    },
    {
     "name": "stdout",
     "output_type": "stream",
     "text": [
      "Current Round: 109, Average Loss: 54.537601532942006, Test Loss: 69.31180293711948, Test Accuracy: 6.240195027366743, Best: 6.240195027366743\n"
     ]
    },
    {
     "name": "stderr",
     "output_type": "stream",
     "text": [
      "100%|██████████| 6/6 [00:01<00:00,  3.40it/s]\n"
     ]
    },
    {
     "name": "stdout",
     "output_type": "stream",
     "text": [
      "Current Round: 110, Average Loss: 54.150029970263425, Test Loss: 68.75684645670424, Test Accuracy: 6.240735194644668, Best: 6.240195027366743\n"
     ]
    },
    {
     "name": "stderr",
     "output_type": "stream",
     "text": [
      "100%|██████████| 6/6 [00:01<00:00,  3.50it/s]\n"
     ]
    },
    {
     "name": "stdout",
     "output_type": "stream",
     "text": [
      "Current Round: 111, Average Loss: 55.976811170873695, Test Loss: 70.06229538033813, Test Accuracy: 6.33727218788648, Best: 6.240195027366743\n"
     ]
    },
    {
     "name": "stderr",
     "output_type": "stream",
     "text": [
      "100%|██████████| 6/6 [00:01<00:00,  3.43it/s]\n"
     ]
    },
    {
     "name": "stdout",
     "output_type": "stream",
     "text": [
      "Current Round: 112, Average Loss: 54.40549877922907, Test Loss: 67.75088298966638, Test Accuracy: 6.2520969490136356, Best: 6.240195027366743\n"
     ]
    },
    {
     "name": "stderr",
     "output_type": "stream",
     "text": [
      "100%|██████████| 6/6 [00:01<00:00,  3.40it/s]\n"
     ]
    },
    {
     "name": "stdout",
     "output_type": "stream",
     "text": [
      "Current Round: 113, Average Loss: 54.456954497155586, Test Loss: 66.99483743743899, Test Accuracy: 6.214023462458614, Best: 6.214023462458614\n"
     ]
    },
    {
     "name": "stderr",
     "output_type": "stream",
     "text": [
      "100%|██████████| 6/6 [00:01<00:00,  3.41it/s]\n"
     ]
    },
    {
     "name": "stdout",
     "output_type": "stream",
     "text": [
      "Current Round: 114, Average Loss: 53.65084053679275, Test Loss: 67.55429942197313, Test Accuracy: 6.277302797546765, Best: 6.214023462458614\n"
     ]
    },
    {
     "name": "stderr",
     "output_type": "stream",
     "text": [
      "100%|██████████| 6/6 [00:01<00:00,  3.38it/s]\n"
     ]
    },
    {
     "name": "stdout",
     "output_type": "stream",
     "text": [
      "Current Round: 115, Average Loss: 54.0625658296793, Test Loss: 67.79991131062161, Test Accuracy: 6.303364050580371, Best: 6.214023462458614\n"
     ]
    },
    {
     "name": "stderr",
     "output_type": "stream",
     "text": [
      "100%|██████████| 6/6 [00:01<00:00,  3.48it/s]\n"
     ]
    },
    {
     "name": "stdout",
     "output_type": "stream",
     "text": [
      "Current Round: 116, Average Loss: 54.248335608671205, Test Loss: 67.24520414484644, Test Accuracy: 6.261839274580151, Best: 6.214023462458614\n"
     ]
    },
    {
     "name": "stderr",
     "output_type": "stream",
     "text": [
      "100%|██████████| 6/6 [00:01<00:00,  3.44it/s]\n"
     ]
    },
    {
     "name": "stdout",
     "output_type": "stream",
     "text": [
      "Current Round: 117, Average Loss: 53.539355561541704, Test Loss: 68.38828572124253, Test Accuracy: 6.317280021298774, Best: 6.214023462458614\n"
     ]
    },
    {
     "name": "stderr",
     "output_type": "stream",
     "text": [
      "100%|██████████| 6/6 [00:01<00:00,  3.42it/s]\n"
     ]
    },
    {
     "name": "stdout",
     "output_type": "stream",
     "text": [
      "Current Round: 118, Average Loss: 53.66036342983159, Test Loss: 68.50669257650256, Test Accuracy: 6.343113096820969, Best: 6.214023462458614\n"
     ]
    },
    {
     "name": "stderr",
     "output_type": "stream",
     "text": [
      "100%|██████████| 6/6 [00:01<00:00,  3.45it/s]\n"
     ]
    },
    {
     "name": "stdout",
     "output_type": "stream",
     "text": [
      "Current Round: 119, Average Loss: 53.38333011793831, Test Loss: 68.88389536395988, Test Accuracy: 6.38511428454847, Best: 6.214023462458614\n"
     ]
    },
    {
     "name": "stderr",
     "output_type": "stream",
     "text": [
      "100%|██████████| 6/6 [00:01<00:00,  3.38it/s]\n"
     ]
    },
    {
     "name": "stdout",
     "output_type": "stream",
     "text": [
      "Current Round: 120, Average Loss: 53.13138110136319, Test Loss: 68.22976424013261, Test Accuracy: 6.354123865952427, Best: 6.214023462458614\n"
     ]
    },
    {
     "name": "stderr",
     "output_type": "stream",
     "text": [
      "100%|██████████| 6/6 [00:01<00:00,  3.49it/s]\n"
     ]
    },
    {
     "name": "stdout",
     "output_type": "stream",
     "text": [
      "Current Round: 121, Average Loss: 54.1346991730735, Test Loss: 67.87240780862291, Test Accuracy: 6.358459843726554, Best: 6.214023462458614\n"
     ]
    },
    {
     "name": "stderr",
     "output_type": "stream",
     "text": [
      "100%|██████████| 6/6 [00:01<00:00,  3.44it/s]\n"
     ]
    },
    {
     "name": "stdout",
     "output_type": "stream",
     "text": [
      "Current Round: 122, Average Loss: 54.15165782332897, Test Loss: 66.254132481922, Test Accuracy: 6.277139736964948, Best: 6.214023462458614\n"
     ]
    },
    {
     "name": "stderr",
     "output_type": "stream",
     "text": [
      "100%|██████████| 6/6 [00:01<00:00,  3.40it/s]\n"
     ]
    },
    {
     "name": "stdout",
     "output_type": "stream",
     "text": [
      "Current Round: 123, Average Loss: 53.32501626734204, Test Loss: 66.36286425599748, Test Accuracy: 6.293641067939768, Best: 6.214023462458614\n"
     ]
    },
    {
     "name": "stderr",
     "output_type": "stream",
     "text": [
      "100%|██████████| 6/6 [00:01<00:00,  3.51it/s]\n"
     ]
    },
    {
     "name": "stdout",
     "output_type": "stream",
     "text": [
      "Current Round: 124, Average Loss: 53.80451576043148, Test Loss: 65.09166593189539, Test Accuracy: 6.229098999515046, Best: 6.214023462458614\n"
     ]
    },
    {
     "name": "stderr",
     "output_type": "stream",
     "text": [
      "100%|██████████| 6/6 [00:01<00:00,  3.48it/s]\n"
     ]
    },
    {
     "name": "stdout",
     "output_type": "stream",
     "text": [
      "Current Round: 125, Average Loss: 52.99459251819341, Test Loss: 68.06345921324431, Test Accuracy: 6.377774001054161, Best: 6.214023462458614\n"
     ]
    },
    {
     "name": "stderr",
     "output_type": "stream",
     "text": [
      "100%|██████████| 6/6 [00:01<00:00,  3.43it/s]\n"
     ]
    },
    {
     "name": "stdout",
     "output_type": "stream",
     "text": [
      "Current Round: 126, Average Loss: 52.547699908308694, Test Loss: 65.13291545733209, Test Accuracy: 6.2547767620252115, Best: 6.214023462458614\n"
     ]
    },
    {
     "name": "stderr",
     "output_type": "stream",
     "text": [
      "100%|██████████| 6/6 [00:01<00:00,  3.40it/s]\n"
     ]
    },
    {
     "name": "stdout",
     "output_type": "stream",
     "text": [
      "Current Round: 127, Average Loss: 54.158874777307254, Test Loss: 63.085644631617726, Test Accuracy: 6.161317893859032, Best: 6.161317893859032\n"
     ]
    },
    {
     "name": "stderr",
     "output_type": "stream",
     "text": [
      "100%|██████████| 6/6 [00:01<00:00,  3.40it/s]\n"
     ]
    },
    {
     "name": "stdout",
     "output_type": "stream",
     "text": [
      "Current Round: 128, Average Loss: 52.909322506175386, Test Loss: 62.48702605611551, Test Accuracy: 6.135603967357007, Best: 6.135603967357007\n"
     ]
    },
    {
     "name": "stderr",
     "output_type": "stream",
     "text": [
      "100%|██████████| 6/6 [00:01<00:00,  3.57it/s]\n"
     ]
    },
    {
     "name": "stdout",
     "output_type": "stream",
     "text": [
      "Current Round: 129, Average Loss: 51.97190021413966, Test Loss: 61.83732397379319, Test Accuracy: 6.084624634356303, Best: 6.084624634356303\n"
     ]
    },
    {
     "name": "stderr",
     "output_type": "stream",
     "text": [
      "100%|██████████| 6/6 [00:01<00:00,  3.48it/s]\n"
     ]
    },
    {
     "name": "stdout",
     "output_type": "stream",
     "text": [
      "Current Round: 130, Average Loss: 52.42650269640697, Test Loss: 61.812154014740265, Test Accuracy: 6.076914155054861, Best: 6.076914155054861\n"
     ]
    },
    {
     "name": "stderr",
     "output_type": "stream",
     "text": [
      "100%|██████████| 6/6 [00:01<00:00,  3.42it/s]\n"
     ]
    },
    {
     "name": "stdout",
     "output_type": "stream",
     "text": [
      "Current Round: 131, Average Loss: 52.17231316531642, Test Loss: 62.80301092874346, Test Accuracy: 6.151059078608895, Best: 6.076914155054861\n"
     ]
    },
    {
     "name": "stderr",
     "output_type": "stream",
     "text": [
      "100%|██████████| 6/6 [00:01<00:00,  3.34it/s]\n"
     ]
    },
    {
     "name": "stdout",
     "output_type": "stream",
     "text": [
      "Current Round: 132, Average Loss: 52.490513321780725, Test Loss: 62.26836420657503, Test Accuracy: 6.140722811295936, Best: 6.076914155054861\n"
     ]
    },
    {
     "name": "stderr",
     "output_type": "stream",
     "text": [
      "100%|██████████| 6/6 [00:01<00:00,  3.44it/s]\n"
     ]
    },
    {
     "name": "stdout",
     "output_type": "stream",
     "text": [
      "Current Round: 133, Average Loss: 53.04170167326222, Test Loss: 63.61621501622087, Test Accuracy: 6.230904105279821, Best: 6.076914155054861\n"
     ]
    },
    {
     "name": "stderr",
     "output_type": "stream",
     "text": [
      "100%|██████████| 6/6 [00:01<00:00,  3.41it/s]\n"
     ]
    },
    {
     "name": "stdout",
     "output_type": "stream",
     "text": [
      "Current Round: 134, Average Loss: 52.579753927772536, Test Loss: 61.850229415604026, Test Accuracy: 6.145850511288554, Best: 6.076914155054861\n"
     ]
    },
    {
     "name": "stderr",
     "output_type": "stream",
     "text": [
      "100%|██████████| 6/6 [00:01<00:00,  3.49it/s]\n"
     ]
    },
    {
     "name": "stdout",
     "output_type": "stream",
     "text": [
      "Current Round: 135, Average Loss: 52.05316149378604, Test Loss: 60.491385673409354, Test Accuracy: 6.082826831822354, Best: 6.076914155054861\n"
     ]
    },
    {
     "name": "stderr",
     "output_type": "stream",
     "text": [
      "100%|██████████| 6/6 [00:01<00:00,  3.73it/s]\n"
     ]
    },
    {
     "name": "stdout",
     "output_type": "stream",
     "text": [
      "Current Round: 136, Average Loss: 52.158107928949164, Test Loss: 60.56983847216307, Test Accuracy: 6.087589259189006, Best: 6.076914155054861\n"
     ]
    },
    {
     "name": "stderr",
     "output_type": "stream",
     "text": [
      "100%|██████████| 6/6 [00:01<00:00,  3.36it/s]\n"
     ]
    },
    {
     "name": "stdout",
     "output_type": "stream",
     "text": [
      "Current Round: 137, Average Loss: 52.26627447680039, Test Loss: 59.35986897368515, Test Accuracy: 6.0255515087936, Best: 6.0255515087936\n"
     ]
    },
    {
     "name": "stderr",
     "output_type": "stream",
     "text": [
      "100%|██████████| 6/6 [00:01<00:00,  3.66it/s]\n"
     ]
    },
    {
     "name": "stdout",
     "output_type": "stream",
     "text": [
      "Current Round: 138, Average Loss: 52.06096475648703, Test Loss: 58.83563080828872, Test Accuracy: 6.004839836886381, Best: 6.004839836886381\n"
     ]
    },
    {
     "name": "stderr",
     "output_type": "stream",
     "text": [
      "100%|██████████| 6/6 [00:01<00:00,  3.62it/s]\n"
     ]
    },
    {
     "name": "stdout",
     "output_type": "stream",
     "text": [
      "Current Round: 139, Average Loss: 51.75819144657004, Test Loss: 58.998871504334915, Test Accuracy: 6.012055166591942, Best: 6.004839836886381\n"
     ]
    },
    {
     "name": "stderr",
     "output_type": "stream",
     "text": [
      "100%|██████████| 6/6 [00:01<00:00,  3.65it/s]\n"
     ]
    },
    {
     "name": "stdout",
     "output_type": "stream",
     "text": [
      "Current Round: 140, Average Loss: 52.16104365742138, Test Loss: 58.13178654129546, Test Accuracy: 5.975489631756826, Best: 5.975489631756826\n"
     ]
    },
    {
     "name": "stderr",
     "output_type": "stream",
     "text": [
      "100%|██████████| 6/6 [00:01<00:00,  3.71it/s]\n"
     ]
    },
    {
     "name": "stdout",
     "output_type": "stream",
     "text": [
      "Current Round: 141, Average Loss: 52.334018962744985, Test Loss: 58.86387801846164, Test Accuracy: 6.0162186652163445, Best: 5.975489631756826\n"
     ]
    },
    {
     "name": "stderr",
     "output_type": "stream",
     "text": [
      "100%|██████████| 6/6 [00:01<00:00,  3.59it/s]\n"
     ]
    },
    {
     "name": "stdout",
     "output_type": "stream",
     "text": [
      "Current Round: 142, Average Loss: 51.75346498527489, Test Loss: 58.29211076894657, Test Accuracy: 5.981596732819095, Best: 5.975489631756826\n"
     ]
    },
    {
     "name": "stderr",
     "output_type": "stream",
     "text": [
      "100%|██████████| 6/6 [00:01<00:00,  3.41it/s]\n"
     ]
    },
    {
     "name": "stdout",
     "output_type": "stream",
     "text": [
      "Current Round: 143, Average Loss: 52.255434060895084, Test Loss: 60.57829019900693, Test Accuracy: 6.1012712523544295, Best: 5.975489631756826\n"
     ]
    },
    {
     "name": "stderr",
     "output_type": "stream",
     "text": [
      "100%|██████████| 6/6 [00:01<00:00,  3.37it/s]\n"
     ]
    },
    {
     "name": "stdout",
     "output_type": "stream",
     "text": [
      "Current Round: 144, Average Loss: 51.58722400481304, Test Loss: 58.51642247986469, Test Accuracy: 5.9887497747106915, Best: 5.975489631756826\n"
     ]
    },
    {
     "name": "stderr",
     "output_type": "stream",
     "text": [
      "100%|██████████| 6/6 [00:01<00:00,  3.42it/s]\n"
     ]
    },
    {
     "name": "stdout",
     "output_type": "stream",
     "text": [
      "Current Round: 145, Average Loss: 51.41593928432044, Test Loss: 57.16347619431391, Test Accuracy: 5.922014226996175, Best: 5.922014226996175\n"
     ]
    },
    {
     "name": "stderr",
     "output_type": "stream",
     "text": [
      "100%|██████████| 6/6 [00:01<00:00,  3.33it/s]\n"
     ]
    },
    {
     "name": "stdout",
     "output_type": "stream",
     "text": [
      "Current Round: 146, Average Loss: 52.82243461301377, Test Loss: 57.78526143919991, Test Accuracy: 5.949684098159809, Best: 5.922014226996175\n"
     ]
    },
    {
     "name": "stderr",
     "output_type": "stream",
     "text": [
      "100%|██████████| 6/6 [00:01<00:00,  3.40it/s]\n"
     ]
    },
    {
     "name": "stdout",
     "output_type": "stream",
     "text": [
      "Current Round: 147, Average Loss: 51.15296334577721, Test Loss: 56.3957491599605, Test Accuracy: 5.88059055701803, Best: 5.88059055701803\n"
     ]
    },
    {
     "name": "stderr",
     "output_type": "stream",
     "text": [
      "100%|██████████| 6/6 [00:01<00:00,  3.50it/s]\n"
     ]
    },
    {
     "name": "stdout",
     "output_type": "stream",
     "text": [
      "Current Round: 148, Average Loss: 52.0949007564296, Test Loss: 56.08134461597734, Test Accuracy: 5.844011651834443, Best: 5.844011651834443\n"
     ]
    },
    {
     "name": "stderr",
     "output_type": "stream",
     "text": [
      "100%|██████████| 6/6 [00:01<00:00,  3.40it/s]\n"
     ]
    },
    {
     "name": "stdout",
     "output_type": "stream",
     "text": [
      "Current Round: 149, Average Loss: 51.505545672042096, Test Loss: 55.529719884977055, Test Accuracy: 5.820491275527368, Best: 5.820491275527368\n"
     ]
    },
    {
     "name": "stderr",
     "output_type": "stream",
     "text": [
      "100%|██████████| 6/6 [00:01<00:00,  3.49it/s]\n"
     ]
    },
    {
     "name": "stdout",
     "output_type": "stream",
     "text": [
      "Current Round: 150, Average Loss: 51.027834709541224, Test Loss: 55.770397165220096, Test Accuracy: 5.846327922305801, Best: 5.820491275527368\n"
     ]
    },
    {
     "name": "stderr",
     "output_type": "stream",
     "text": [
      "100%|██████████| 6/6 [00:01<00:00,  3.50it/s]\n"
     ]
    },
    {
     "name": "stdout",
     "output_type": "stream",
     "text": [
      "Current Round: 151, Average Loss: 50.96783459776276, Test Loss: 58.50027799922073, Test Accuracy: 5.994406545324692, Best: 5.820491275527368\n"
     ]
    },
    {
     "name": "stderr",
     "output_type": "stream",
     "text": [
      "100%|██████████| 6/6 [00:01<00:00,  3.60it/s]\n"
     ]
    },
    {
     "name": "stdout",
     "output_type": "stream",
     "text": [
      "Current Round: 152, Average Loss: 51.43583142246542, Test Loss: 59.54070258501783, Test Accuracy: 6.0488525092823355, Best: 5.820491275527368\n"
     ]
    },
    {
     "name": "stderr",
     "output_type": "stream",
     "text": [
      "100%|██████████| 6/6 [00:01<00:00,  3.62it/s]\n"
     ]
    },
    {
     "name": "stdout",
     "output_type": "stream",
     "text": [
      "Current Round: 153, Average Loss: 51.54427636955927, Test Loss: 59.039630764820686, Test Accuracy: 6.028040452222103, Best: 5.820491275527368\n"
     ]
    },
    {
     "name": "stderr",
     "output_type": "stream",
     "text": [
      "100%|██████████| 6/6 [00:01<00:00,  3.50it/s]\n"
     ]
    },
    {
     "name": "stdout",
     "output_type": "stream",
     "text": [
      "Current Round: 154, Average Loss: 51.3280489155046, Test Loss: 57.68499990974586, Test Accuracy: 5.972534824924398, Best: 5.820491275527368\n"
     ]
    },
    {
     "name": "stderr",
     "output_type": "stream",
     "text": [
      "100%|██████████| 6/6 [00:01<00:00,  3.41it/s]\n"
     ]
    },
    {
     "name": "stdout",
     "output_type": "stream",
     "text": [
      "Current Round: 155, Average Loss: 50.77205953710382, Test Loss: 57.57961150747637, Test Accuracy: 5.959982861373504, Best: 5.820491275527368\n"
     ]
    },
    {
     "name": "stderr",
     "output_type": "stream",
     "text": [
      "100%|██████████| 6/6 [00:01<00:00,  3.39it/s]\n"
     ]
    },
    {
     "name": "stdout",
     "output_type": "stream",
     "text": [
      "Current Round: 156, Average Loss: 50.88413162309144, Test Loss: 56.29705147807344, Test Accuracy: 5.895905408422005, Best: 5.820491275527368\n"
     ]
    },
    {
     "name": "stderr",
     "output_type": "stream",
     "text": [
      "100%|██████████| 6/6 [00:01<00:00,  3.43it/s]\n"
     ]
    },
    {
     "name": "stdout",
     "output_type": "stream",
     "text": [
      "Current Round: 157, Average Loss: 51.83655486593762, Test Loss: 55.936449158022725, Test Accuracy: 5.880033805024668, Best: 5.820491275527368\n"
     ]
    },
    {
     "name": "stderr",
     "output_type": "stream",
     "text": [
      "100%|██████████| 6/6 [00:01<00:00,  3.42it/s]\n"
     ]
    },
    {
     "name": "stdout",
     "output_type": "stream",
     "text": [
      "Current Round: 158, Average Loss: 50.82717519557491, Test Loss: 56.79361129308389, Test Accuracy: 5.926962099701647, Best: 5.820491275527368\n"
     ]
    },
    {
     "name": "stderr",
     "output_type": "stream",
     "text": [
      "100%|██████████| 6/6 [00:01<00:00,  3.42it/s]\n"
     ]
    },
    {
     "name": "stdout",
     "output_type": "stream",
     "text": [
      "Current Round: 159, Average Loss: 51.03228061744886, Test Loss: 56.75926306806597, Test Accuracy: 5.931225179887321, Best: 5.820491275527368\n"
     ]
    },
    {
     "name": "stderr",
     "output_type": "stream",
     "text": [
      "100%|██████████| 6/6 [00:01<00:00,  3.56it/s]\n"
     ]
    },
    {
     "name": "stdout",
     "output_type": "stream",
     "text": [
      "Current Round: 160, Average Loss: 51.086354166281616, Test Loss: 56.79725754442896, Test Accuracy: 5.927621919426333, Best: 5.820491275527368\n"
     ]
    },
    {
     "name": "stderr",
     "output_type": "stream",
     "text": [
      "100%|██████████| 6/6 [00:01<00:00,  3.74it/s]\n"
     ]
    },
    {
     "name": "stdout",
     "output_type": "stream",
     "text": [
      "Current Round: 161, Average Loss: 50.63757248497771, Test Loss: 56.461237699462764, Test Accuracy: 5.911448477516978, Best: 5.820491275527368\n"
     ]
    },
    {
     "name": "stderr",
     "output_type": "stream",
     "text": [
      "100%|██████████| 6/6 [00:01<00:00,  3.47it/s]\n"
     ]
    },
    {
     "name": "stdout",
     "output_type": "stream",
     "text": [
      "Current Round: 162, Average Loss: 50.29990012596112, Test Loss: 58.09014675642746, Test Accuracy: 5.998873896167476, Best: 5.820491275527368\n"
     ]
    },
    {
     "name": "stderr",
     "output_type": "stream",
     "text": [
      "100%|██████████| 6/6 [00:01<00:00,  3.46it/s]\n"
     ]
    },
    {
     "name": "stdout",
     "output_type": "stream",
     "text": [
      "Current Round: 163, Average Loss: 51.10411198569245, Test Loss: 59.52715379934033, Test Accuracy: 6.072966014290093, Best: 5.820491275527368\n"
     ]
    },
    {
     "name": "stderr",
     "output_type": "stream",
     "text": [
      "100%|██████████| 6/6 [00:01<00:00,  3.39it/s]\n"
     ]
    },
    {
     "name": "stdout",
     "output_type": "stream",
     "text": [
      "Current Round: 164, Average Loss: 50.792558716322354, Test Loss: 58.659210174998826, Test Accuracy: 6.034943522721566, Best: 5.820491275527368\n"
     ]
    },
    {
     "name": "stderr",
     "output_type": "stream",
     "text": [
      "100%|██████████| 6/6 [00:01<00:00,  3.60it/s]\n"
     ]
    },
    {
     "name": "stdout",
     "output_type": "stream",
     "text": [
      "Current Round: 165, Average Loss: 50.498681674437925, Test Loss: 58.021624623445845, Test Accuracy: 6.00362058259002, Best: 5.820491275527368\n"
     ]
    },
    {
     "name": "stderr",
     "output_type": "stream",
     "text": [
      "100%|██████████| 6/6 [00:01<00:00,  3.47it/s]\n"
     ]
    },
    {
     "name": "stdout",
     "output_type": "stream",
     "text": [
      "Current Round: 166, Average Loss: 51.15097278081404, Test Loss: 57.35250969599503, Test Accuracy: 5.969526406705306, Best: 5.820491275527368\n"
     ]
    },
    {
     "name": "stderr",
     "output_type": "stream",
     "text": [
      "100%|██████████| 6/6 [00:01<00:00,  3.63it/s]\n"
     ]
    },
    {
     "name": "stdout",
     "output_type": "stream",
     "text": [
      "Current Round: 167, Average Loss: 50.63043318817204, Test Loss: 58.12592499693936, Test Accuracy: 6.011362718679057, Best: 5.820491275527368\n"
     ]
    },
    {
     "name": "stderr",
     "output_type": "stream",
     "text": [
      "100%|██████████| 6/6 [00:01<00:00,  3.50it/s]\n"
     ]
    },
    {
     "name": "stdout",
     "output_type": "stream",
     "text": [
      "Current Round: 168, Average Loss: 50.23013422603169, Test Loss: 58.21428834697603, Test Accuracy: 6.009009660250488, Best: 5.820491275527368\n"
     ]
    },
    {
     "name": "stderr",
     "output_type": "stream",
     "text": [
      "100%|██████████| 6/6 [00:01<00:00,  3.32it/s]\n"
     ]
    },
    {
     "name": "stdout",
     "output_type": "stream",
     "text": [
      "Current Round: 169, Average Loss: 51.001383847600245, Test Loss: 56.10787941286481, Test Accuracy: 5.894403261470677, Best: 5.820491275527368\n"
     ]
    },
    {
     "name": "stderr",
     "output_type": "stream",
     "text": [
      "100%|██████████| 6/6 [00:02<00:00,  2.95it/s]\n"
     ]
    },
    {
     "name": "stdout",
     "output_type": "stream",
     "text": [
      "Current Round: 170, Average Loss: 51.386973451349185, Test Loss: 57.03929249255409, Test Accuracy: 5.949124654134114, Best: 5.820491275527368\n"
     ]
    },
    {
     "name": "stderr",
     "output_type": "stream",
     "text": [
      "100%|██████████| 6/6 [00:02<00:00,  2.90it/s]\n"
     ]
    },
    {
     "name": "stdout",
     "output_type": "stream",
     "text": [
      "Current Round: 171, Average Loss: 50.607481671460526, Test Loss: 56.82116859289904, Test Accuracy: 5.938844198631088, Best: 5.820491275527368\n"
     ]
    },
    {
     "name": "stderr",
     "output_type": "stream",
     "text": [
      "100%|██████████| 6/6 [00:01<00:00,  3.01it/s]\n"
     ]
    },
    {
     "name": "stdout",
     "output_type": "stream",
     "text": [
      "Current Round: 172, Average Loss: 51.35191995213474, Test Loss: 57.604376005288096, Test Accuracy: 5.977761560508605, Best: 5.820491275527368\n"
     ]
    },
    {
     "name": "stderr",
     "output_type": "stream",
     "text": [
      "100%|██████████| 6/6 [00:02<00:00,  2.97it/s]\n"
     ]
    },
    {
     "name": "stdout",
     "output_type": "stream",
     "text": [
      "Current Round: 173, Average Loss: 49.613108073480696, Test Loss: 58.62053094388827, Test Accuracy: 6.031255185530236, Best: 5.820491275527368\n"
     ]
    },
    {
     "name": "stderr",
     "output_type": "stream",
     "text": [
      "100%|██████████| 6/6 [00:02<00:00,  2.93it/s]\n"
     ]
    },
    {
     "name": "stdout",
     "output_type": "stream",
     "text": [
      "Current Round: 174, Average Loss: 50.59338135244237, Test Loss: 58.81225579042712, Test Accuracy: 6.0375981478590655, Best: 5.820491275527368\n"
     ]
    },
    {
     "name": "stderr",
     "output_type": "stream",
     "text": [
      "100%|██████████| 6/6 [00:01<00:00,  3.07it/s]\n"
     ]
    },
    {
     "name": "stdout",
     "output_type": "stream",
     "text": [
      "Current Round: 175, Average Loss: 49.90131179442398, Test Loss: 59.95485204855232, Test Accuracy: 6.102089533279967, Best: 5.820491275527368\n"
     ]
    },
    {
     "name": "stderr",
     "output_type": "stream",
     "text": [
      "100%|██████████| 6/6 [00:01<00:00,  3.02it/s]\n"
     ]
    },
    {
     "name": "stdout",
     "output_type": "stream",
     "text": [
      "Current Round: 176, Average Loss: 50.14686131750042, Test Loss: 56.1791672795974, Test Accuracy: 5.891523235940284, Best: 5.820491275527368\n"
     ]
    },
    {
     "name": "stderr",
     "output_type": "stream",
     "text": [
      "100%|██████████| 6/6 [00:02<00:00,  2.97it/s]\n"
     ]
    },
    {
     "name": "stdout",
     "output_type": "stream",
     "text": [
      "Current Round: 177, Average Loss: 50.763958364047504, Test Loss: 55.986845289953656, Test Accuracy: 5.880815851053193, Best: 5.820491275527368\n"
     ]
    },
    {
     "name": "stderr",
     "output_type": "stream",
     "text": [
      "100%|██████████| 6/6 [00:01<00:00,  3.00it/s]\n"
     ]
    },
    {
     "name": "stdout",
     "output_type": "stream",
     "text": [
      "Current Round: 178, Average Loss: 49.92989897297585, Test Loss: 56.02942339754681, Test Accuracy: 5.885064379137836, Best: 5.820491275527368\n"
     ]
    },
    {
     "name": "stderr",
     "output_type": "stream",
     "text": [
      "100%|██████████| 6/6 [00:02<00:00,  2.95it/s]\n"
     ]
    },
    {
     "name": "stdout",
     "output_type": "stream",
     "text": [
      "Current Round: 179, Average Loss: 50.11437799248203, Test Loss: 55.5493363568737, Test Accuracy: 5.8613191413170345, Best: 5.820491275527368\n"
     ]
    },
    {
     "name": "stderr",
     "output_type": "stream",
     "text": [
      "100%|██████████| 6/6 [00:02<00:00,  2.86it/s]\n"
     ]
    },
    {
     "name": "stdout",
     "output_type": "stream",
     "text": [
      "Current Round: 180, Average Loss: 50.795874061048295, Test Loss: 55.8531299102258, Test Accuracy: 5.887637638248032, Best: 5.820491275527368\n"
     ]
    },
    {
     "name": "stderr",
     "output_type": "stream",
     "text": [
      "100%|██████████| 6/6 [00:02<00:00,  2.92it/s]\n"
     ]
    },
    {
     "name": "stdout",
     "output_type": "stream",
     "text": [
      "Current Round: 181, Average Loss: 50.08240765504835, Test Loss: 57.6074220422503, Test Accuracy: 5.974453315120352, Best: 5.820491275527368\n"
     ]
    },
    {
     "name": "stderr",
     "output_type": "stream",
     "text": [
      "100%|██████████| 6/6 [00:01<00:00,  3.39it/s]\n"
     ]
    },
    {
     "name": "stdout",
     "output_type": "stream",
     "text": [
      "Current Round: 182, Average Loss: 50.35853696554443, Test Loss: 57.46102357095354, Test Accuracy: 5.969305728595644, Best: 5.820491275527368\n"
     ]
    },
    {
     "name": "stderr",
     "output_type": "stream",
     "text": [
      "100%|██████████| 6/6 [00:01<00:00,  3.39it/s]\n"
     ]
    },
    {
     "name": "stdout",
     "output_type": "stream",
     "text": [
      "Current Round: 183, Average Loss: 49.3861233308589, Test Loss: 56.755072688792346, Test Accuracy: 5.931661071682804, Best: 5.820491275527368\n"
     ]
    },
    {
     "name": "stderr",
     "output_type": "stream",
     "text": [
      "100%|██████████| 6/6 [00:01<00:00,  3.43it/s]\n"
     ]
    },
    {
     "name": "stdout",
     "output_type": "stream",
     "text": [
      "Current Round: 184, Average Loss: 50.486274329528875, Test Loss: 55.67604088718637, Test Accuracy: 5.868584043179007, Best: 5.820491275527368\n"
     ]
    },
    {
     "name": "stderr",
     "output_type": "stream",
     "text": [
      "100%|██████████| 6/6 [00:01<00:00,  3.51it/s]\n"
     ]
    },
    {
     "name": "stdout",
     "output_type": "stream",
     "text": [
      "Current Round: 185, Average Loss: 49.67757768829417, Test Loss: 55.083056259443325, Test Accuracy: 5.841793660633035, Best: 5.820491275527368\n"
     ]
    },
    {
     "name": "stderr",
     "output_type": "stream",
     "text": [
      "100%|██████████| 6/6 [00:01<00:00,  3.41it/s]\n"
     ]
    },
    {
     "name": "stdout",
     "output_type": "stream",
     "text": [
      "Current Round: 186, Average Loss: 50.19751122195941, Test Loss: 57.18752039555816, Test Accuracy: 5.959024608947678, Best: 5.820491275527368\n"
     ]
    },
    {
     "name": "stderr",
     "output_type": "stream",
     "text": [
      "100%|██████████| 6/6 [00:01<00:00,  3.42it/s]\n"
     ]
    },
    {
     "name": "stdout",
     "output_type": "stream",
     "text": [
      "Current Round: 187, Average Loss: 50.30596976223047, Test Loss: 56.256268425376064, Test Accuracy: 5.90458849135237, Best: 5.820491275527368\n"
     ]
    },
    {
     "name": "stderr",
     "output_type": "stream",
     "text": [
      "100%|██████████| 6/6 [00:01<00:00,  3.35it/s]\n"
     ]
    },
    {
     "name": "stdout",
     "output_type": "stream",
     "text": [
      "Current Round: 188, Average Loss: 49.81995379328481, Test Loss: 56.98039171729777, Test Accuracy: 5.942580172268136, Best: 5.820491275527368\n"
     ]
    },
    {
     "name": "stderr",
     "output_type": "stream",
     "text": [
      "100%|██████████| 6/6 [00:01<00:00,  3.37it/s]\n"
     ]
    },
    {
     "name": "stdout",
     "output_type": "stream",
     "text": [
      "Current Round: 189, Average Loss: 51.50753632941422, Test Loss: 54.86479453000216, Test Accuracy: 5.831322685345693, Best: 5.820491275527368\n"
     ]
    },
    {
     "name": "stderr",
     "output_type": "stream",
     "text": [
      "100%|██████████| 6/6 [00:01<00:00,  3.43it/s]\n"
     ]
    },
    {
     "name": "stdout",
     "output_type": "stream",
     "text": [
      "Current Round: 190, Average Loss: 49.87604512040799, Test Loss: 57.759247192789836, Test Accuracy: 5.9824529480018285, Best: 5.820491275527368\n"
     ]
    },
    {
     "name": "stderr",
     "output_type": "stream",
     "text": [
      "100%|██████████| 6/6 [00:01<00:00,  3.28it/s]\n"
     ]
    },
    {
     "name": "stdout",
     "output_type": "stream",
     "text": [
      "Current Round: 191, Average Loss: 49.40840473640913, Test Loss: 57.3808526335171, Test Accuracy: 5.952765863033328, Best: 5.820491275527368\n"
     ]
    },
    {
     "name": "stderr",
     "output_type": "stream",
     "text": [
      "100%|██████████| 6/6 [00:01<00:00,  3.36it/s]\n"
     ]
    },
    {
     "name": "stdout",
     "output_type": "stream",
     "text": [
      "Current Round: 192, Average Loss: 49.39479543260262, Test Loss: 58.405514580858906, Test Accuracy: 6.010595068760225, Best: 5.820491275527368\n"
     ]
    },
    {
     "name": "stderr",
     "output_type": "stream",
     "text": [
      "100%|██████████| 6/6 [00:01<00:00,  3.31it/s]\n"
     ]
    },
    {
     "name": "stdout",
     "output_type": "stream",
     "text": [
      "Current Round: 193, Average Loss: 49.8987851039723, Test Loss: 58.14121601564055, Test Accuracy: 5.994419525694817, Best: 5.820491275527368\n"
     ]
    },
    {
     "name": "stderr",
     "output_type": "stream",
     "text": [
      "100%|██████████| 6/6 [00:01<00:00,  3.30it/s]\n"
     ]
    },
    {
     "name": "stdout",
     "output_type": "stream",
     "text": [
      "Current Round: 194, Average Loss: 49.94589636985208, Test Loss: 57.03069081024383, Test Accuracy: 5.939336776733398, Best: 5.820491275527368\n"
     ]
    },
    {
     "name": "stderr",
     "output_type": "stream",
     "text": [
      "100%|██████████| 6/6 [00:01<00:00,  3.33it/s]\n"
     ]
    },
    {
     "name": "stdout",
     "output_type": "stream",
     "text": [
      "Current Round: 195, Average Loss: 50.01008330407313, Test Loss: 57.939570149967665, Test Accuracy: 5.9860704344001405, Best: 5.820491275527368\n"
     ]
    },
    {
     "name": "stderr",
     "output_type": "stream",
     "text": [
      "100%|██████████| 6/6 [00:01<00:00,  3.35it/s]\n"
     ]
    },
    {
     "name": "stdout",
     "output_type": "stream",
     "text": [
      "Current Round: 196, Average Loss: 49.65079154944607, Test Loss: 57.4895815722889, Test Accuracy: 5.964115788059163, Best: 5.820491275527368\n"
     ]
    },
    {
     "name": "stderr",
     "output_type": "stream",
     "text": [
      "100%|██████████| 6/6 [00:01<00:00,  3.32it/s]\n"
     ]
    },
    {
     "name": "stdout",
     "output_type": "stream",
     "text": [
      "Current Round: 197, Average Loss: 49.83969014062524, Test Loss: 58.46977106323454, Test Accuracy: 6.018447490725228, Best: 5.820491275527368\n"
     ]
    },
    {
     "name": "stderr",
     "output_type": "stream",
     "text": [
      "100%|██████████| 6/6 [00:01<00:00,  3.38it/s]\n"
     ]
    },
    {
     "name": "stdout",
     "output_type": "stream",
     "text": [
      "Current Round: 198, Average Loss: 49.24520577460556, Test Loss: 58.951272081607975, Test Accuracy: 6.037800825513724, Best: 5.820491275527368\n"
     ]
    },
    {
     "name": "stderr",
     "output_type": "stream",
     "text": [
      "100%|██████████| 6/6 [00:01<00:00,  3.39it/s]\n"
     ]
    },
    {
     "name": "stdout",
     "output_type": "stream",
     "text": [
      "Current Round: 199, Average Loss: 49.459068064159375, Test Loss: 57.1197311711051, Test Accuracy: 5.947306645994884, Best: 5.820491275527368\n"
     ]
    },
    {
     "name": "stderr",
     "output_type": "stream",
     "text": [
      "100%|██████████| 6/6 [00:01<00:00,  3.71it/s]\n"
     ]
    },
    {
     "name": "stdout",
     "output_type": "stream",
     "text": [
      "Current Round: 200, Average Loss: 49.98137113038413, Test Loss: 57.36673794727417, Test Accuracy: 5.961195252050993, Best: 5.820491275527368\n",
      "Training Done!\n",
      "Best Accuracy: 5.820491275527368\n",
      "Total time taken to Train: 429.9215819835663\n",
      "Name is taken...trying again...\n",
      "Name is taken...trying again...\n"
     ]
    },
    {
     "name": "stderr",
     "output_type": "stream",
     "text": [
      "100%|██████████| 6/6 [00:01<00:00,  3.46it/s]\n"
     ]
    },
    {
     "name": "stdout",
     "output_type": "stream",
     "text": [
      "Current Round: 1, Average Loss: 1373.7653894282512, Test Loss: 4255.0941683971305, Test Accuracy: 63.5408609714059, Best: 63.5408609714059\n"
     ]
    },
    {
     "name": "stderr",
     "output_type": "stream",
     "text": [
      "100%|██████████| 6/6 [00:01<00:00,  3.39it/s]\n"
     ]
    },
    {
     "name": "stdout",
     "output_type": "stream",
     "text": [
      "Current Round: 2, Average Loss: 676.9274637612066, Test Loss: 2676.545949186682, Test Accuracy: 49.32892940478697, Best: 49.32892940478697\n"
     ]
    },
    {
     "name": "stderr",
     "output_type": "stream",
     "text": [
      "100%|██████████| 6/6 [00:01<00:00,  3.42it/s]\n"
     ]
    },
    {
     "name": "stdout",
     "output_type": "stream",
     "text": [
      "Current Round: 3, Average Loss: 422.7923109909548, Test Loss: 1919.1856579786488, Test Accuracy: 40.95192290002381, Best: 40.95192290002381\n"
     ]
    },
    {
     "name": "stderr",
     "output_type": "stream",
     "text": [
      "100%|██████████| 6/6 [00:01<00:00,  3.46it/s]\n"
     ]
    },
    {
     "name": "stdout",
     "output_type": "stream",
     "text": [
      "Current Round: 4, Average Loss: 321.07080562518485, Test Loss: 1359.9118074230398, Test Accuracy: 33.553276319633774, Best: 33.553276319633774\n"
     ]
    },
    {
     "name": "stderr",
     "output_type": "stream",
     "text": [
      "100%|██████████| 6/6 [00:01<00:00,  3.43it/s]\n"
     ]
    },
    {
     "name": "stdout",
     "output_type": "stream",
     "text": [
      "Current Round: 5, Average Loss: 250.51524515376695, Test Loss: 979.3813294879861, Test Accuracy: 27.5204077558742, Best: 27.5204077558742\n"
     ]
    },
    {
     "name": "stderr",
     "output_type": "stream",
     "text": [
      "100%|██████████| 6/6 [00:01<00:00,  3.45it/s]\n"
     ]
    },
    {
     "name": "stdout",
     "output_type": "stream",
     "text": [
      "Current Round: 6, Average Loss: 209.54234999895456, Test Loss: 697.0268650681999, Test Accuracy: 22.26358305684105, Best: 22.26358305684105\n"
     ]
    },
    {
     "name": "stderr",
     "output_type": "stream",
     "text": [
      "100%|██████████| 6/6 [00:01<00:00,  3.46it/s]\n"
     ]
    },
    {
     "name": "stdout",
     "output_type": "stream",
     "text": [
      "Current Round: 7, Average Loss: 187.11828178010467, Test Loss: 516.2325586350877, Test Accuracy: 18.45219658209932, Best: 18.45219658209932\n"
     ]
    },
    {
     "name": "stderr",
     "output_type": "stream",
     "text": [
      "100%|██████████| 6/6 [00:01<00:00,  3.68it/s]\n"
     ]
    },
    {
     "name": "stdout",
     "output_type": "stream",
     "text": [
      "Current Round: 8, Average Loss: 166.33289721124802, Test Loss: 406.26254574332245, Test Accuracy: 16.015067392417784, Best: 16.015067392417784\n"
     ]
    },
    {
     "name": "stderr",
     "output_type": "stream",
     "text": [
      "100%|██████████| 6/6 [00:01<00:00,  3.57it/s]\n"
     ]
    },
    {
     "name": "stdout",
     "output_type": "stream",
     "text": [
      "Current Round: 9, Average Loss: 154.39587746255242, Test Loss: 341.08935636873764, Test Accuracy: 14.500826241210786, Best: 14.500826241210786\n"
     ]
    },
    {
     "name": "stderr",
     "output_type": "stream",
     "text": [
      "100%|██████████| 6/6 [00:01<00:00,  3.39it/s]\n"
     ]
    },
    {
     "name": "stdout",
     "output_type": "stream",
     "text": [
      "Current Round: 10, Average Loss: 141.48865117523417, Test Loss: 299.56408219229627, Test Accuracy: 13.530311775916571, Best: 13.530311775916571\n"
     ]
    },
    {
     "name": "stderr",
     "output_type": "stream",
     "text": [
      "100%|██████████| 6/6 [00:01<00:00,  3.39it/s]\n"
     ]
    },
    {
     "name": "stdout",
     "output_type": "stream",
     "text": [
      "Current Round: 11, Average Loss: 131.73959660277117, Test Loss: 270.8004846059737, Test Accuracy: 12.830161790717785, Best: 12.830161790717785\n"
     ]
    },
    {
     "name": "stderr",
     "output_type": "stream",
     "text": [
      "100%|██████████| 6/6 [00:01<00:00,  3.45it/s]\n"
     ]
    },
    {
     "name": "stdout",
     "output_type": "stream",
     "text": [
      "Current Round: 12, Average Loss: 129.69520411991425, Test Loss: 254.49600255869612, Test Accuracy: 12.406404291977818, Best: 12.406404291977818\n"
     ]
    },
    {
     "name": "stderr",
     "output_type": "stream",
     "text": [
      "100%|██████████| 6/6 [00:01<00:00,  3.46it/s]\n"
     ]
    },
    {
     "name": "stdout",
     "output_type": "stream",
     "text": [
      "Current Round: 13, Average Loss: 118.36469553245301, Test Loss: 244.7135975690653, Test Accuracy: 12.165204210056839, Best: 12.165204210056839\n"
     ]
    },
    {
     "name": "stderr",
     "output_type": "stream",
     "text": [
      "100%|██████████| 6/6 [00:01<00:00,  3.42it/s]\n"
     ]
    },
    {
     "name": "stdout",
     "output_type": "stream",
     "text": [
      "Current Round: 14, Average Loss: 113.63385692391167, Test Loss: 233.9991347402002, Test Accuracy: 11.855168903922799, Best: 11.855168903922799\n"
     ]
    },
    {
     "name": "stderr",
     "output_type": "stream",
     "text": [
      "100%|██████████| 6/6 [00:01<00:00,  3.46it/s]\n"
     ]
    },
    {
     "name": "stdout",
     "output_type": "stream",
     "text": [
      "Current Round: 15, Average Loss: 109.79505442876503, Test Loss: 231.90669560968263, Test Accuracy: 11.770169464924374, Best: 11.770169464924374\n"
     ]
    },
    {
     "name": "stderr",
     "output_type": "stream",
     "text": [
      "100%|██████████| 6/6 [00:01<00:00,  3.35it/s]\n"
     ]
    },
    {
     "name": "stdout",
     "output_type": "stream",
     "text": [
      "Current Round: 16, Average Loss: 104.5874399802434, Test Loss: 225.11623654644728, Test Accuracy: 11.547595419995995, Best: 11.547595419995995\n"
     ]
    },
    {
     "name": "stderr",
     "output_type": "stream",
     "text": [
      "100%|██████████| 6/6 [00:01<00:00,  3.42it/s]\n"
     ]
    },
    {
     "name": "stdout",
     "output_type": "stream",
     "text": [
      "Current Round: 17, Average Loss: 103.64181568176765, Test Loss: 214.12747668086226, Test Accuracy: 11.227981678467554, Best: 11.227981678467554\n"
     ]
    },
    {
     "name": "stderr",
     "output_type": "stream",
     "text": [
      "100%|██████████| 6/6 [00:01<00:00,  3.48it/s]\n"
     ]
    },
    {
     "name": "stdout",
     "output_type": "stream",
     "text": [
      "Current Round: 18, Average Loss: 98.63805940911118, Test Loss: 210.98325342504953, Test Accuracy: 11.135326324046913, Best: 11.135326324046913\n"
     ]
    },
    {
     "name": "stderr",
     "output_type": "stream",
     "text": [
      "100%|██████████| 6/6 [00:01<00:00,  3.41it/s]\n"
     ]
    },
    {
     "name": "stdout",
     "output_type": "stream",
     "text": [
      "Current Round: 19, Average Loss: 99.04019227920855, Test Loss: 196.89245125310683, Test Accuracy: 10.758835200483471, Best: 10.758835200483471\n"
     ]
    },
    {
     "name": "stderr",
     "output_type": "stream",
     "text": [
      "100%|██████████| 6/6 [00:01<00:00,  3.41it/s]\n"
     ]
    },
    {
     "name": "stdout",
     "output_type": "stream",
     "text": [
      "Current Round: 20, Average Loss: 96.99616826829033, Test Loss: 186.96188708020853, Test Accuracy: 10.524706983507196, Best: 10.524706983507196\n"
     ]
    },
    {
     "name": "stderr",
     "output_type": "stream",
     "text": [
      "100%|██████████| 6/6 [00:01<00:00,  3.43it/s]\n"
     ]
    },
    {
     "name": "stdout",
     "output_type": "stream",
     "text": [
      "Current Round: 21, Average Loss: 93.17221188541942, Test Loss: 185.4911671992036, Test Accuracy: 10.529845541442342, Best: 10.524706983507196\n"
     ]
    },
    {
     "name": "stderr",
     "output_type": "stream",
     "text": [
      "100%|██████████| 6/6 [00:01<00:00,  3.50it/s]\n"
     ]
    },
    {
     "name": "stdout",
     "output_type": "stream",
     "text": [
      "Current Round: 22, Average Loss: 92.39376236805332, Test Loss: 180.04254475710948, Test Accuracy: 10.391512897968884, Best: 10.391512897968884\n"
     ]
    },
    {
     "name": "stderr",
     "output_type": "stream",
     "text": [
      "100%|██████████| 6/6 [00:01<00:00,  3.52it/s]\n"
     ]
    },
    {
     "name": "stdout",
     "output_type": "stream",
     "text": [
      "Current Round: 23, Average Loss: 89.56165654819925, Test Loss: 174.79680906992309, Test Accuracy: 10.33079115904249, Best: 10.33079115904249\n"
     ]
    },
    {
     "name": "stderr",
     "output_type": "stream",
     "text": [
      "100%|██████████| 6/6 [00:01<00:00,  3.45it/s]\n"
     ]
    },
    {
     "name": "stdout",
     "output_type": "stream",
     "text": [
      "Current Round: 24, Average Loss: 90.8753454772766, Test Loss: 170.14512080297595, Test Accuracy: 10.22070730131355, Best: 10.22070730131355\n"
     ]
    },
    {
     "name": "stderr",
     "output_type": "stream",
     "text": [
      "100%|██████████| 6/6 [00:01<00:00,  3.46it/s]\n"
     ]
    },
    {
     "name": "stdout",
     "output_type": "stream",
     "text": [
      "Current Round: 25, Average Loss: 92.5888472127737, Test Loss: 168.14132973965363, Test Accuracy: 10.21874025763189, Best: 10.21874025763189\n"
     ]
    },
    {
     "name": "stderr",
     "output_type": "stream",
     "text": [
      "100%|██████████| 6/6 [00:01<00:00,  3.43it/s]\n"
     ]
    },
    {
     "name": "stdout",
     "output_type": "stream",
     "text": [
      "Current Round: 26, Average Loss: 85.34103846934374, Test Loss: 166.74826052186657, Test Accuracy: 10.220684859832422, Best: 10.21874025763189\n"
     ]
    },
    {
     "name": "stderr",
     "output_type": "stream",
     "text": [
      "100%|██████████| 6/6 [00:01<00:00,  3.64it/s]\n"
     ]
    },
    {
     "name": "stdout",
     "output_type": "stream",
     "text": [
      "Current Round: 27, Average Loss: 86.85255188690297, Test Loss: 154.8915363249578, Test Accuracy: 9.853013902496375, Best: 9.853013902496375\n"
     ]
    },
    {
     "name": "stderr",
     "output_type": "stream",
     "text": [
      "100%|██████████| 6/6 [00:01<00:00,  3.55it/s]\n"
     ]
    },
    {
     "name": "stdout",
     "output_type": "stream",
     "text": [
      "Current Round: 28, Average Loss: 85.21836923938555, Test Loss: 143.11612437925817, Test Accuracy: 9.42544224064294, Best: 9.42544224064294\n"
     ]
    },
    {
     "name": "stderr",
     "output_type": "stream",
     "text": [
      "100%|██████████| 6/6 [00:01<00:00,  3.48it/s]\n"
     ]
    },
    {
     "name": "stdout",
     "output_type": "stream",
     "text": [
      "Current Round: 29, Average Loss: 88.24809850403902, Test Loss: 133.08740002651788, Test Accuracy: 9.070649531103273, Best: 9.070649531103273\n"
     ]
    },
    {
     "name": "stderr",
     "output_type": "stream",
     "text": [
      "100%|██████████| 6/6 [00:01<00:00,  3.48it/s]\n"
     ]
    },
    {
     "name": "stdout",
     "output_type": "stream",
     "text": [
      "Current Round: 30, Average Loss: 83.1708174015974, Test Loss: 126.26863629379237, Test Accuracy: 8.833453158315969, Best: 8.833453158315969\n"
     ]
    },
    {
     "name": "stderr",
     "output_type": "stream",
     "text": [
      "100%|██████████| 6/6 [00:01<00:00,  3.58it/s]\n"
     ]
    },
    {
     "name": "stdout",
     "output_type": "stream",
     "text": [
      "Current Round: 31, Average Loss: 81.45238939500534, Test Loss: 115.97562707188773, Test Accuracy: 8.47073034548848, Best: 8.47073034548848\n"
     ]
    },
    {
     "name": "stderr",
     "output_type": "stream",
     "text": [
      "100%|██████████| 6/6 [00:01<00:00,  3.39it/s]\n"
     ]
    },
    {
     "name": "stdout",
     "output_type": "stream",
     "text": [
      "Current Round: 32, Average Loss: 78.90381352599533, Test Loss: 111.93867918158405, Test Accuracy: 8.281244601754302, Best: 8.281244601754302\n"
     ]
    },
    {
     "name": "stderr",
     "output_type": "stream",
     "text": [
      "100%|██████████| 6/6 [00:01<00:00,  3.50it/s]\n"
     ]
    },
    {
     "name": "stdout",
     "output_type": "stream",
     "text": [
      "Current Round: 33, Average Loss: 75.46560845145743, Test Loss: 108.2702093178261, Test Accuracy: 8.095908927208429, Best: 8.095908927208429\n"
     ]
    },
    {
     "name": "stderr",
     "output_type": "stream",
     "text": [
      "100%|██████████| 6/6 [00:01<00:00,  3.74it/s]\n"
     ]
    },
    {
     "name": "stdout",
     "output_type": "stream",
     "text": [
      "Current Round: 34, Average Loss: 77.99457599387544, Test Loss: 104.57018942495777, Test Accuracy: 7.893710222681511, Best: 7.893710222681511\n"
     ]
    },
    {
     "name": "stderr",
     "output_type": "stream",
     "text": [
      "100%|██████████| 6/6 [00:01<00:00,  3.43it/s]\n"
     ]
    },
    {
     "name": "stdout",
     "output_type": "stream",
     "text": [
      "Current Round: 35, Average Loss: 77.62319548221697, Test Loss: 102.909495466353, Test Accuracy: 7.793931537992154, Best: 7.793931537992154\n"
     ]
    },
    {
     "name": "stderr",
     "output_type": "stream",
     "text": [
      "100%|██████████| 6/6 [00:01<00:00,  3.39it/s]\n"
     ]
    },
    {
     "name": "stdout",
     "output_type": "stream",
     "text": [
      "Current Round: 36, Average Loss: 75.20391862878986, Test Loss: 101.41857113614401, Test Accuracy: 7.683201781583689, Best: 7.683201781583689\n"
     ]
    },
    {
     "name": "stderr",
     "output_type": "stream",
     "text": [
      "100%|██████████| 6/6 [00:01<00:00,  3.41it/s]\n"
     ]
    },
    {
     "name": "stdout",
     "output_type": "stream",
     "text": [
      "Current Round: 37, Average Loss: 73.55387868726156, Test Loss: 100.58933221832231, Test Accuracy: 7.6577945269616565, Best: 7.6577945269616565\n"
     ]
    },
    {
     "name": "stderr",
     "output_type": "stream",
     "text": [
      "100%|██████████| 6/6 [00:01<00:00,  3.46it/s]\n"
     ]
    },
    {
     "name": "stdout",
     "output_type": "stream",
     "text": [
      "Current Round: 38, Average Loss: 74.78153562486641, Test Loss: 99.01233009124334, Test Accuracy: 7.543606475678814, Best: 7.543606475678814\n"
     ]
    },
    {
     "name": "stderr",
     "output_type": "stream",
     "text": [
      "100%|██████████| 6/6 [00:01<00:00,  3.39it/s]\n"
     ]
    },
    {
     "name": "stdout",
     "output_type": "stream",
     "text": [
      "Current Round: 39, Average Loss: 72.52772286432054, Test Loss: 98.76970912240067, Test Accuracy: 7.515894931192882, Best: 7.515894931192882\n"
     ]
    },
    {
     "name": "stderr",
     "output_type": "stream",
     "text": [
      "100%|██████████| 6/6 [00:01<00:00,  3.36it/s]\n"
     ]
    },
    {
     "name": "stdout",
     "output_type": "stream",
     "text": [
      "Current Round: 40, Average Loss: 71.4465038446219, Test Loss: 99.4058395561911, Test Accuracy: 7.493603894258521, Best: 7.493603894258521\n"
     ]
    },
    {
     "name": "stderr",
     "output_type": "stream",
     "text": [
      "100%|██████████| 6/6 [00:01<00:00,  3.40it/s]\n"
     ]
    },
    {
     "name": "stdout",
     "output_type": "stream",
     "text": [
      "Current Round: 41, Average Loss: 71.84769950797444, Test Loss: 100.43724458622187, Test Accuracy: 7.50507458021502, Best: 7.493603894258521\n"
     ]
    },
    {
     "name": "stderr",
     "output_type": "stream",
     "text": [
      "100%|██████████| 6/6 [00:01<00:00,  3.45it/s]\n"
     ]
    },
    {
     "name": "stdout",
     "output_type": "stream",
     "text": [
      "Current Round: 42, Average Loss: 69.63463052021861, Test Loss: 100.36104274057821, Test Accuracy: 7.4677246831163595, Best: 7.4677246831163595\n"
     ]
    },
    {
     "name": "stderr",
     "output_type": "stream",
     "text": [
      "100%|██████████| 6/6 [00:01<00:00,  3.36it/s]\n"
     ]
    },
    {
     "name": "stdout",
     "output_type": "stream",
     "text": [
      "Current Round: 43, Average Loss: 69.46969636215626, Test Loss: 99.30653928154405, Test Accuracy: 7.404420169608152, Best: 7.404420169608152\n"
     ]
    },
    {
     "name": "stderr",
     "output_type": "stream",
     "text": [
      "100%|██████████| 6/6 [00:01<00:00,  3.50it/s]\n"
     ]
    },
    {
     "name": "stdout",
     "output_type": "stream",
     "text": [
      "Current Round: 44, Average Loss: 68.6799705207586, Test Loss: 97.01416273954263, Test Accuracy: 7.299183768706103, Best: 7.299183768706103\n"
     ]
    },
    {
     "name": "stderr",
     "output_type": "stream",
     "text": [
      "100%|██████████| 6/6 [00:01<00:00,  3.35it/s]\n"
     ]
    },
    {
     "name": "stdout",
     "output_type": "stream",
     "text": [
      "Current Round: 45, Average Loss: 68.26891589460416, Test Loss: 96.86126081327893, Test Accuracy: 7.271542592858146, Best: 7.271542592858146\n"
     ]
    },
    {
     "name": "stderr",
     "output_type": "stream",
     "text": [
      "100%|██████████| 6/6 [00:01<00:00,  3.36it/s]\n"
     ]
    },
    {
     "name": "stdout",
     "output_type": "stream",
     "text": [
      "Current Round: 46, Average Loss: 66.9469236006204, Test Loss: 96.797102918763, Test Accuracy: 7.249089660549991, Best: 7.249089660549991\n"
     ]
    },
    {
     "name": "stderr",
     "output_type": "stream",
     "text": [
      "100%|██████████| 6/6 [00:01<00:00,  3.42it/s]\n"
     ]
    },
    {
     "name": "stdout",
     "output_type": "stream",
     "text": [
      "Current Round: 47, Average Loss: 66.73728893971794, Test Loss: 97.9176592962791, Test Accuracy: 7.289320244960478, Best: 7.249089660549991\n"
     ]
    },
    {
     "name": "stderr",
     "output_type": "stream",
     "text": [
      "100%|██████████| 6/6 [00:01<00:00,  3.62it/s]\n"
     ]
    },
    {
     "name": "stdout",
     "output_type": "stream",
     "text": [
      "Current Round: 48, Average Loss: 66.20495318494191, Test Loss: 97.71328139697555, Test Accuracy: 7.262896607504163, Best: 7.249089660549991\n"
     ]
    },
    {
     "name": "stderr",
     "output_type": "stream",
     "text": [
      "100%|██████████| 6/6 [00:01<00:00,  3.43it/s]\n"
     ]
    },
    {
     "name": "stdout",
     "output_type": "stream",
     "text": [
      "Current Round: 49, Average Loss: 66.52692307252373, Test Loss: 97.13838760167259, Test Accuracy: 7.2112883883337995, Best: 7.2112883883337995\n"
     ]
    },
    {
     "name": "stderr",
     "output_type": "stream",
     "text": [
      "100%|██████████| 6/6 [00:01<00:00,  3.41it/s]\n"
     ]
    },
    {
     "name": "stdout",
     "output_type": "stream",
     "text": [
      "Current Round: 50, Average Loss: 64.51108039806938, Test Loss: 94.96217089664316, Test Accuracy: 7.074289607883534, Best: 7.074289607883534\n"
     ]
    },
    {
     "name": "stderr",
     "output_type": "stream",
     "text": [
      "100%|██████████| 6/6 [00:01<00:00,  3.33it/s]\n"
     ]
    },
    {
     "name": "stdout",
     "output_type": "stream",
     "text": [
      "Current Round: 51, Average Loss: 64.63585032282641, Test Loss: 96.31110568694965, Test Accuracy: 7.093653911699297, Best: 7.074289607883534\n"
     ]
    },
    {
     "name": "stderr",
     "output_type": "stream",
     "text": [
      "100%|██████████| 6/6 [00:01<00:00,  3.48it/s]\n"
     ]
    },
    {
     "name": "stdout",
     "output_type": "stream",
     "text": [
      "Current Round: 52, Average Loss: 64.09995697450421, Test Loss: 98.28556492495382, Test Accuracy: 7.145010138680648, Best: 7.074289607883534\n"
     ]
    },
    {
     "name": "stderr",
     "output_type": "stream",
     "text": [
      "100%|██████████| 6/6 [00:01<00:00,  3.44it/s]\n"
     ]
    },
    {
     "name": "stdout",
     "output_type": "stream",
     "text": [
      "Current Round: 53, Average Loss: 63.892803500009755, Test Loss: 99.519651109235, Test Accuracy: 7.146895466536247, Best: 7.074289607883534\n"
     ]
    },
    {
     "name": "stderr",
     "output_type": "stream",
     "text": [
      "100%|██████████| 6/6 [00:01<00:00,  3.49it/s]\n"
     ]
    },
    {
     "name": "stdout",
     "output_type": "stream",
     "text": [
      "Current Round: 54, Average Loss: 63.38055841762107, Test Loss: 99.74119689946595, Test Accuracy: 7.120067303360912, Best: 7.074289607883534\n"
     ]
    },
    {
     "name": "stderr",
     "output_type": "stream",
     "text": [
      "100%|██████████| 6/6 [00:01<00:00,  3.46it/s]\n"
     ]
    },
    {
     "name": "stdout",
     "output_type": "stream",
     "text": [
      "Current Round: 55, Average Loss: 64.50729223011905, Test Loss: 107.27734169932694, Test Accuracy: 7.459938200580734, Best: 7.074289607883534\n"
     ]
    },
    {
     "name": "stderr",
     "output_type": "stream",
     "text": [
      "100%|██████████| 6/6 [00:01<00:00,  3.41it/s]\n"
     ]
    },
    {
     "name": "stdout",
     "output_type": "stream",
     "text": [
      "Current Round: 56, Average Loss: 62.24886667861481, Test Loss: 105.97536971085604, Test Accuracy: 7.358425683987037, Best: 7.074289607883534\n"
     ]
    },
    {
     "name": "stderr",
     "output_type": "stream",
     "text": [
      "100%|██████████| 6/6 [00:01<00:00,  3.31it/s]\n"
     ]
    },
    {
     "name": "stdout",
     "output_type": "stream",
     "text": [
      "Current Round: 57, Average Loss: 62.88051524549308, Test Loss: 105.13472361422244, Test Accuracy: 7.279091363502701, Best: 7.074289607883534\n"
     ]
    },
    {
     "name": "stderr",
     "output_type": "stream",
     "text": [
      "100%|██████████| 6/6 [00:01<00:00,  3.48it/s]\n"
     ]
    },
    {
     "name": "stdout",
     "output_type": "stream",
     "text": [
      "Current Round: 58, Average Loss: 63.124932793163474, Test Loss: 103.25031992993428, Test Accuracy: 7.13520417810225, Best: 7.074289607883534\n"
     ]
    },
    {
     "name": "stderr",
     "output_type": "stream",
     "text": [
      "100%|██████████| 6/6 [00:01<00:00,  3.36it/s]\n"
     ]
    },
    {
     "name": "stdout",
     "output_type": "stream",
     "text": [
      "Current Round: 59, Average Loss: 61.196711263200605, Test Loss: 104.12076110639842, Test Accuracy: 7.133508592437782, Best: 7.074289607883534\n"
     ]
    },
    {
     "name": "stderr",
     "output_type": "stream",
     "text": [
      "100%|██████████| 6/6 [00:01<00:00,  3.29it/s]\n"
     ]
    },
    {
     "name": "stdout",
     "output_type": "stream",
     "text": [
      "Current Round: 60, Average Loss: 60.41401348913013, Test Loss: 104.07624532798215, Test Accuracy: 7.098141943211893, Best: 7.074289607883534\n"
     ]
    },
    {
     "name": "stderr",
     "output_type": "stream",
     "text": [
      "100%|██████████| 6/6 [00:01<00:00,  3.33it/s]\n"
     ]
    },
    {
     "name": "stdout",
     "output_type": "stream",
     "text": [
      "Current Round: 61, Average Loss: 59.68206024623302, Test Loss: 108.17928773731622, Test Accuracy: 7.241612915360499, Best: 7.074289607883534\n"
     ]
    },
    {
     "name": "stderr",
     "output_type": "stream",
     "text": [
      "100%|██████████| 6/6 [00:01<00:00,  3.39it/s]\n"
     ]
    },
    {
     "name": "stdout",
     "output_type": "stream",
     "text": [
      "Current Round: 62, Average Loss: 60.06539340273512, Test Loss: 108.64107575442277, Test Accuracy: 7.25723168988801, Best: 7.074289607883534\n"
     ]
    },
    {
     "name": "stderr",
     "output_type": "stream",
     "text": [
      "100%|██████████| 6/6 [00:01<00:00,  3.51it/s]\n"
     ]
    },
    {
     "name": "stdout",
     "output_type": "stream",
     "text": [
      "Current Round: 63, Average Loss: 59.528787259147464, Test Loss: 115.0754326647563, Test Accuracy: 7.565331174243043, Best: 7.074289607883534\n"
     ]
    },
    {
     "name": "stderr",
     "output_type": "stream",
     "text": [
      "100%|██████████| 6/6 [00:01<00:00,  3.34it/s]\n"
     ]
    },
    {
     "name": "stdout",
     "output_type": "stream",
     "text": [
      "Current Round: 64, Average Loss: 59.257383261795326, Test Loss: 113.43335185956228, Test Accuracy: 7.436574976092673, Best: 7.074289607883534\n"
     ]
    },
    {
     "name": "stderr",
     "output_type": "stream",
     "text": [
      "100%|██████████| 6/6 [00:01<00:00,  3.29it/s]\n"
     ]
    },
    {
     "name": "stdout",
     "output_type": "stream",
     "text": [
      "Current Round: 65, Average Loss: 59.09422117661425, Test Loss: 114.60448712552522, Test Accuracy: 7.498250618595469, Best: 7.074289607883534\n"
     ]
    },
    {
     "name": "stderr",
     "output_type": "stream",
     "text": [
      "100%|██████████| 6/6 [00:01<00:00,  3.40it/s]\n"
     ]
    },
    {
     "name": "stdout",
     "output_type": "stream",
     "text": [
      "Current Round: 66, Average Loss: 58.70643342594247, Test Loss: 112.14261687420023, Test Accuracy: 7.346778881446432, Best: 7.074289607883534\n"
     ]
    },
    {
     "name": "stderr",
     "output_type": "stream",
     "text": [
      "100%|██████████| 6/6 [00:01<00:00,  3.42it/s]\n"
     ]
    },
    {
     "name": "stdout",
     "output_type": "stream",
     "text": [
      "Current Round: 67, Average Loss: 58.344637045834666, Test Loss: 112.47029323796043, Test Accuracy: 7.328917795249816, Best: 7.074289607883534\n"
     ]
    },
    {
     "name": "stderr",
     "output_type": "stream",
     "text": [
      "100%|██████████| 6/6 [00:01<00:00,  3.43it/s]\n"
     ]
    },
    {
     "name": "stdout",
     "output_type": "stream",
     "text": [
      "Current Round: 68, Average Loss: 59.060148302083235, Test Loss: 111.12331924456734, Test Accuracy: 7.2426740535277565, Best: 7.074289607883534\n"
     ]
    },
    {
     "name": "stderr",
     "output_type": "stream",
     "text": [
      "100%|██████████| 6/6 [00:01<00:00,  3.35it/s]\n"
     ]
    },
    {
     "name": "stdout",
     "output_type": "stream",
     "text": [
      "Current Round: 69, Average Loss: 57.94226358537094, Test Loss: 114.46647203973087, Test Accuracy: 7.409869379565913, Best: 7.074289607883534\n"
     ]
    },
    {
     "name": "stderr",
     "output_type": "stream",
     "text": [
      "100%|██████████| 6/6 [00:01<00:00,  3.33it/s]\n"
     ]
    },
    {
     "name": "stdout",
     "output_type": "stream",
     "text": [
      "Current Round: 70, Average Loss: 57.92984201375226, Test Loss: 115.35545809602058, Test Accuracy: 7.432310865418766, Best: 7.074289607883534\n"
     ]
    },
    {
     "name": "stderr",
     "output_type": "stream",
     "text": [
      "100%|██████████| 6/6 [00:01<00:00,  3.33it/s]\n"
     ]
    },
    {
     "name": "stdout",
     "output_type": "stream",
     "text": [
      "Current Round: 71, Average Loss: 57.31855192801439, Test Loss: 114.71159189693915, Test Accuracy: 7.395575529285227, Best: 7.074289607883534\n"
     ]
    },
    {
     "name": "stderr",
     "output_type": "stream",
     "text": [
      "100%|██████████| 6/6 [00:01<00:00,  3.47it/s]\n"
     ]
    },
    {
     "name": "stdout",
     "output_type": "stream",
     "text": [
      "Current Round: 72, Average Loss: 58.82937053597891, Test Loss: 113.1359987891518, Test Accuracy: 7.332829379680875, Best: 7.074289607883534\n"
     ]
    },
    {
     "name": "stderr",
     "output_type": "stream",
     "text": [
      "100%|██████████| 6/6 [00:01<00:00,  3.49it/s]\n"
     ]
    },
    {
     "name": "stdout",
     "output_type": "stream",
     "text": [
      "Current Round: 73, Average Loss: 58.5794172210767, Test Loss: 115.9814700292518, Test Accuracy: 7.432513727426825, Best: 7.074289607883534\n"
     ]
    },
    {
     "name": "stderr",
     "output_type": "stream",
     "text": [
      "100%|██████████| 6/6 [00:01<00:00,  3.44it/s]\n"
     ]
    },
    {
     "name": "stdout",
     "output_type": "stream",
     "text": [
      "Current Round: 74, Average Loss: 56.76677151759236, Test Loss: 114.25323617133823, Test Accuracy: 7.31818046002583, Best: 7.074289607883534\n"
     ]
    },
    {
     "name": "stderr",
     "output_type": "stream",
     "text": [
      "100%|██████████| 6/6 [00:01<00:00,  3.44it/s]\n"
     ]
    },
    {
     "name": "stdout",
     "output_type": "stream",
     "text": [
      "Current Round: 75, Average Loss: 57.3869641515544, Test Loss: 112.78502227726959, Test Accuracy: 7.276386161719113, Best: 7.074289607883534\n"
     ]
    },
    {
     "name": "stderr",
     "output_type": "stream",
     "text": [
      "100%|██████████| 6/6 [00:01<00:00,  3.30it/s]\n"
     ]
    },
    {
     "name": "stdout",
     "output_type": "stream",
     "text": [
      "Current Round: 76, Average Loss: 57.09918956551585, Test Loss: 108.9646362045219, Test Accuracy: 7.051360162217378, Best: 7.051360162217378\n"
     ]
    },
    {
     "name": "stderr",
     "output_type": "stream",
     "text": [
      "100%|██████████| 6/6 [00:01<00:00,  3.46it/s]\n"
     ]
    },
    {
     "name": "stdout",
     "output_type": "stream",
     "text": [
      "Current Round: 77, Average Loss: 57.47202783580718, Test Loss: 108.62020952701846, Test Accuracy: 7.035940725711789, Best: 7.035940725711789\n"
     ]
    },
    {
     "name": "stderr",
     "output_type": "stream",
     "text": [
      "100%|██████████| 6/6 [00:01<00:00,  3.42it/s]\n"
     ]
    },
    {
     "name": "stdout",
     "output_type": "stream",
     "text": [
      "Current Round: 78, Average Loss: 57.15897500588904, Test Loss: 110.42638373063805, Test Accuracy: 7.117505665605396, Best: 7.035940725711789\n"
     ]
    },
    {
     "name": "stderr",
     "output_type": "stream",
     "text": [
      "100%|██████████| 6/6 [00:01<00:00,  3.45it/s]\n"
     ]
    },
    {
     "name": "stdout",
     "output_type": "stream",
     "text": [
      "Current Round: 79, Average Loss: 57.47156389173241, Test Loss: 110.31360696866425, Test Accuracy: 7.098185748415808, Best: 7.035940725711789\n"
     ]
    },
    {
     "name": "stderr",
     "output_type": "stream",
     "text": [
      "100%|██████████| 6/6 [00:01<00:00,  3.48it/s]\n"
     ]
    },
    {
     "name": "stdout",
     "output_type": "stream",
     "text": [
      "Current Round: 80, Average Loss: 57.191629425296945, Test Loss: 112.45856342552393, Test Accuracy: 7.218376060400754, Best: 7.035940725711789\n"
     ]
    },
    {
     "name": "stderr",
     "output_type": "stream",
     "text": [
      "100%|██████████| 6/6 [00:01<00:00,  3.40it/s]\n"
     ]
    },
    {
     "name": "stdout",
     "output_type": "stream",
     "text": [
      "Current Round: 81, Average Loss: 56.80520424516598, Test Loss: 109.00275974367113, Test Accuracy: 7.049385586044898, Best: 7.035940725711789\n"
     ]
    },
    {
     "name": "stderr",
     "output_type": "stream",
     "text": [
      "100%|██████████| 6/6 [00:01<00:00,  3.31it/s]\n"
     ]
    },
    {
     "name": "stdout",
     "output_type": "stream",
     "text": [
      "Current Round: 82, Average Loss: 56.34280787280428, Test Loss: 107.89478909587106, Test Accuracy: 6.983214979868987, Best: 6.983214979868987\n"
     ]
    },
    {
     "name": "stderr",
     "output_type": "stream",
     "text": [
      "100%|██████████| 6/6 [00:01<00:00,  3.45it/s]\n"
     ]
    },
    {
     "name": "stdout",
     "output_type": "stream",
     "text": [
      "Current Round: 83, Average Loss: 58.03068555648192, Test Loss: 107.15077628788009, Test Accuracy: 6.945938575962072, Best: 6.945938575962072\n"
     ]
    },
    {
     "name": "stderr",
     "output_type": "stream",
     "text": [
      "100%|██████████| 6/6 [00:01<00:00,  3.47it/s]\n"
     ]
    },
    {
     "name": "stdout",
     "output_type": "stream",
     "text": [
      "Current Round: 84, Average Loss: 55.90294424351112, Test Loss: 104.44533917817427, Test Accuracy: 6.802248870868517, Best: 6.802248870868517\n"
     ]
    },
    {
     "name": "stderr",
     "output_type": "stream",
     "text": [
      "100%|██████████| 6/6 [00:01<00:00,  3.75it/s]\n"
     ]
    },
    {
     "name": "stdout",
     "output_type": "stream",
     "text": [
      "Current Round: 85, Average Loss: 57.03674138760261, Test Loss: 102.69267623368397, Test Accuracy: 6.751125401871502, Best: 6.751125401871502\n"
     ]
    },
    {
     "name": "stderr",
     "output_type": "stream",
     "text": [
      "100%|██████████| 6/6 [00:01<00:00,  3.45it/s]\n"
     ]
    },
    {
     "name": "stdout",
     "output_type": "stream",
     "text": [
      "Current Round: 86, Average Loss: 55.78423252397453, Test Loss: 103.88203714389003, Test Accuracy: 6.812651013796215, Best: 6.751125401871502\n"
     ]
    },
    {
     "name": "stderr",
     "output_type": "stream",
     "text": [
      "100%|██████████| 6/6 [00:01<00:00,  3.40it/s]\n"
     ]
    },
    {
     "name": "stdout",
     "output_type": "stream",
     "text": [
      "Current Round: 87, Average Loss: 54.95238944967374, Test Loss: 106.86545086119328, Test Accuracy: 6.9903589624454545, Best: 6.751125401871502\n"
     ]
    },
    {
     "name": "stderr",
     "output_type": "stream",
     "text": [
      "100%|██████████| 6/6 [00:01<00:00,  3.38it/s]\n"
     ]
    },
    {
     "name": "stdout",
     "output_type": "stream",
     "text": [
      "Current Round: 88, Average Loss: 55.39519039980386, Test Loss: 106.68696158603203, Test Accuracy: 6.991944812930649, Best: 6.751125401871502\n"
     ]
    },
    {
     "name": "stderr",
     "output_type": "stream",
     "text": [
      "100%|██████████| 6/6 [00:01<00:00,  3.32it/s]\n"
     ]
    },
    {
     "name": "stdout",
     "output_type": "stream",
     "text": [
      "Current Round: 89, Average Loss: 54.85475661098522, Test Loss: 109.02119726141109, Test Accuracy: 7.107428518812895, Best: 6.751125401871502\n"
     ]
    },
    {
     "name": "stderr",
     "output_type": "stream",
     "text": [
      "100%|██████████| 6/6 [00:01<00:00,  3.38it/s]\n"
     ]
    },
    {
     "name": "stdout",
     "output_type": "stream",
     "text": [
      "Current Round: 90, Average Loss: 56.24934708416683, Test Loss: 108.87002782527325, Test Accuracy: 7.108830620955948, Best: 6.751125401871502\n"
     ]
    },
    {
     "name": "stderr",
     "output_type": "stream",
     "text": [
      "100%|██████████| 6/6 [00:01<00:00,  3.35it/s]\n"
     ]
    },
    {
     "name": "stdout",
     "output_type": "stream",
     "text": [
      "Current Round: 91, Average Loss: 55.62258024207157, Test Loss: 104.13030113414382, Test Accuracy: 6.88045173418123, Best: 6.751125401871502\n"
     ]
    },
    {
     "name": "stderr",
     "output_type": "stream",
     "text": [
      "100%|██████████| 6/6 [00:01<00:00,  3.44it/s]\n"
     ]
    },
    {
     "name": "stdout",
     "output_type": "stream",
     "text": [
      "Current Round: 92, Average Loss: 57.296263152350235, Test Loss: 106.98620515818047, Test Accuracy: 7.0478608321670855, Best: 6.751125401871502\n"
     ]
    },
    {
     "name": "stderr",
     "output_type": "stream",
     "text": [
      "100%|██████████| 6/6 [00:01<00:00,  3.42it/s]\n"
     ]
    },
    {
     "name": "stdout",
     "output_type": "stream",
     "text": [
      "Current Round: 93, Average Loss: 55.51360300649407, Test Loss: 104.3732507508779, Test Accuracy: 6.948020828700863, Best: 6.751125401871502\n"
     ]
    },
    {
     "name": "stderr",
     "output_type": "stream",
     "text": [
      "100%|██████████| 6/6 [00:01<00:00,  3.44it/s]\n"
     ]
    },
    {
     "name": "stdout",
     "output_type": "stream",
     "text": [
      "Current Round: 94, Average Loss: 55.62877962645772, Test Loss: 101.12302929118202, Test Accuracy: 6.821281669455981, Best: 6.751125401871502\n"
     ]
    },
    {
     "name": "stderr",
     "output_type": "stream",
     "text": [
      "100%|██████████| 6/6 [00:01<00:00,  3.48it/s]\n"
     ]
    },
    {
     "name": "stdout",
     "output_type": "stream",
     "text": [
      "Current Round: 95, Average Loss: 54.19832955731395, Test Loss: 104.61323594005232, Test Accuracy: 6.984912697415075, Best: 6.751125401871502\n"
     ]
    },
    {
     "name": "stderr",
     "output_type": "stream",
     "text": [
      "100%|██████████| 6/6 [00:01<00:00,  3.41it/s]\n"
     ]
    },
    {
     "name": "stdout",
     "output_type": "stream",
     "text": [
      "Current Round: 96, Average Loss: 54.74076675944902, Test Loss: 105.3142013062978, Test Accuracy: 7.039587725198549, Best: 6.751125401871502\n"
     ]
    },
    {
     "name": "stderr",
     "output_type": "stream",
     "text": [
      "100%|██████████| 6/6 [00:01<00:00,  3.45it/s]\n"
     ]
    },
    {
     "name": "stdout",
     "output_type": "stream",
     "text": [
      "Current Round: 97, Average Loss: 55.719510093838515, Test Loss: 103.25881404847904, Test Accuracy: 6.932833207141068, Best: 6.751125401871502\n"
     ]
    },
    {
     "name": "stderr",
     "output_type": "stream",
     "text": [
      "100%|██████████| 6/6 [00:01<00:00,  3.66it/s]\n"
     ]
    },
    {
     "name": "stdout",
     "output_type": "stream",
     "text": [
      "Current Round: 98, Average Loss: 55.39634703301982, Test Loss: 105.71098235370464, Test Accuracy: 7.089804948336425, Best: 6.751125401871502\n"
     ]
    },
    {
     "name": "stderr",
     "output_type": "stream",
     "text": [
      "100%|██████████| 6/6 [00:01<00:00,  3.51it/s]\n"
     ]
    },
    {
     "name": "stdout",
     "output_type": "stream",
     "text": [
      "Current Round: 99, Average Loss: 55.39658232814142, Test Loss: 101.62147362512344, Test Accuracy: 6.884533734422043, Best: 6.751125401871502\n"
     ]
    },
    {
     "name": "stderr",
     "output_type": "stream",
     "text": [
      "100%|██████████| 6/6 [00:01<00:00,  3.54it/s]\n"
     ]
    },
    {
     "name": "stdout",
     "output_type": "stream",
     "text": [
      "Current Round: 100, Average Loss: 54.73680266973252, Test Loss: 101.68076023448933, Test Accuracy: 6.911603532906949, Best: 6.751125401871502\n"
     ]
    },
    {
     "name": "stderr",
     "output_type": "stream",
     "text": [
      "100%|██████████| 6/6 [00:01<00:00,  3.56it/s]\n"
     ]
    },
    {
     "name": "stdout",
     "output_type": "stream",
     "text": [
      "Current Round: 101, Average Loss: 55.14663541036088, Test Loss: 105.66121088396734, Test Accuracy: 7.099384031331229, Best: 6.751125401871502\n"
     ]
    },
    {
     "name": "stderr",
     "output_type": "stream",
     "text": [
      "100%|██████████| 6/6 [00:01<00:00,  3.41it/s]\n"
     ]
    },
    {
     "name": "stdout",
     "output_type": "stream",
     "text": [
      "Current Round: 102, Average Loss: 55.17366212574398, Test Loss: 101.60900152152891, Test Accuracy: 6.922928726215197, Best: 6.751125401871502\n"
     ]
    },
    {
     "name": "stderr",
     "output_type": "stream",
     "text": [
      "100%|██████████| 6/6 [00:01<00:00,  3.44it/s]\n"
     ]
    },
    {
     "name": "stdout",
     "output_type": "stream",
     "text": [
      "Current Round: 103, Average Loss: 55.84512092562209, Test Loss: 100.0684914779809, Test Accuracy: 6.829447839635308, Best: 6.751125401871502\n"
     ]
    },
    {
     "name": "stderr",
     "output_type": "stream",
     "text": [
      "100%|██████████| 6/6 [00:01<00:00,  3.46it/s]\n"
     ]
    },
    {
     "name": "stdout",
     "output_type": "stream",
     "text": [
      "Current Round: 104, Average Loss: 54.46331878784062, Test Loss: 102.13714267507592, Test Accuracy: 6.901048239574409, Best: 6.751125401871502\n"
     ]
    },
    {
     "name": "stderr",
     "output_type": "stream",
     "text": [
      "100%|██████████| 6/6 [00:01<00:00,  3.36it/s]\n"
     ]
    },
    {
     "name": "stdout",
     "output_type": "stream",
     "text": [
      "Current Round: 105, Average Loss: 54.04920795454341, Test Loss: 98.672367220179, Test Accuracy: 6.789130940017794, Best: 6.751125401871502\n"
     ]
    },
    {
     "name": "stderr",
     "output_type": "stream",
     "text": [
      "100%|██████████| 6/6 [00:01<00:00,  3.34it/s]\n"
     ]
    },
    {
     "name": "stdout",
     "output_type": "stream",
     "text": [
      "Current Round: 106, Average Loss: 53.922868280186044, Test Loss: 101.8122750229515, Test Accuracy: 6.9405899591457745, Best: 6.751125401871502\n"
     ]
    },
    {
     "name": "stderr",
     "output_type": "stream",
     "text": [
      "100%|██████████| 6/6 [00:01<00:00,  3.37it/s]\n"
     ]
    },
    {
     "name": "stdout",
     "output_type": "stream",
     "text": [
      "Current Round: 107, Average Loss: 54.9122158265794, Test Loss: 101.27993352621185, Test Accuracy: 6.912219270897621, Best: 6.751125401871502\n"
     ]
    },
    {
     "name": "stderr",
     "output_type": "stream",
     "text": [
      "100%|██████████| 6/6 [00:01<00:00,  3.40it/s]\n"
     ]
    },
    {
     "name": "stdout",
     "output_type": "stream",
     "text": [
      "Current Round: 108, Average Loss: 55.47100060699366, Test Loss: 98.0387372259706, Test Accuracy: 6.794532395354581, Best: 6.751125401871502\n"
     ]
    },
    {
     "name": "stderr",
     "output_type": "stream",
     "text": [
      "100%|██████████| 6/6 [00:01<00:00,  3.44it/s]\n"
     ]
    },
    {
     "name": "stdout",
     "output_type": "stream",
     "text": [
      "Current Round: 109, Average Loss: 54.36803788877279, Test Loss: 98.72081905448304, Test Accuracy: 6.827110526877856, Best: 6.751125401871502\n"
     ]
    },
    {
     "name": "stderr",
     "output_type": "stream",
     "text": [
      "100%|██████████| 6/6 [00:01<00:00,  3.45it/s]\n"
     ]
    },
    {
     "name": "stdout",
     "output_type": "stream",
     "text": [
      "Current Round: 110, Average Loss: 54.17487001307365, Test Loss: 99.06535957558276, Test Accuracy: 6.841558617139246, Best: 6.751125401871502\n"
     ]
    },
    {
     "name": "stderr",
     "output_type": "stream",
     "text": [
      "100%|██████████| 6/6 [00:01<00:00,  3.40it/s]\n"
     ]
    },
    {
     "name": "stdout",
     "output_type": "stream",
     "text": [
      "Current Round: 111, Average Loss: 54.76357517489492, Test Loss: 96.98774898989308, Test Accuracy: 6.739371192204169, Best: 6.739371192204169\n"
     ]
    },
    {
     "name": "stderr",
     "output_type": "stream",
     "text": [
      "100%|██████████| 6/6 [00:01<00:00,  3.47it/s]\n"
     ]
    },
    {
     "name": "stdout",
     "output_type": "stream",
     "text": [
      "Current Round: 112, Average Loss: 54.751412456318484, Test Loss: 98.0526076097646, Test Accuracy: 6.772367018896999, Best: 6.739371192204169\n"
     ]
    },
    {
     "name": "stderr",
     "output_type": "stream",
     "text": [
      "100%|██████████| 6/6 [00:01<00:00,  3.47it/s]\n"
     ]
    },
    {
     "name": "stdout",
     "output_type": "stream",
     "text": [
      "Current Round: 113, Average Loss: 54.190845736101075, Test Loss: 98.11540130899742, Test Accuracy: 6.781953932184269, Best: 6.739371192204169\n"
     ]
    },
    {
     "name": "stderr",
     "output_type": "stream",
     "text": [
      "100%|██████████| 6/6 [00:01<00:00,  3.54it/s]\n"
     ]
    },
    {
     "name": "stdout",
     "output_type": "stream",
     "text": [
      "Current Round: 114, Average Loss: 54.3400241394616, Test Loss: 100.38135852291026, Test Accuracy: 6.906896161028591, Best: 6.739371192204169\n"
     ]
    },
    {
     "name": "stderr",
     "output_type": "stream",
     "text": [
      "100%|██████████| 6/6 [00:01<00:00,  3.63it/s]\n"
     ]
    },
    {
     "name": "stdout",
     "output_type": "stream",
     "text": [
      "Current Round: 115, Average Loss: 53.87128967343241, Test Loss: 101.47997201710035, Test Accuracy: 6.935441512305202, Best: 6.739371192204169\n"
     ]
    },
    {
     "name": "stderr",
     "output_type": "stream",
     "text": [
      "100%|██████████| 6/6 [00:01<00:00,  3.50it/s]\n"
     ]
    },
    {
     "name": "stdout",
     "output_type": "stream",
     "text": [
      "Current Round: 116, Average Loss: 54.30072374821564, Test Loss: 99.82783626377451, Test Accuracy: 6.84660490383446, Best: 6.739371192204169\n"
     ]
    },
    {
     "name": "stderr",
     "output_type": "stream",
     "text": [
      "100%|██████████| 6/6 [00:01<00:00,  3.41it/s]\n"
     ]
    },
    {
     "name": "stdout",
     "output_type": "stream",
     "text": [
      "Current Round: 117, Average Loss: 55.19934462055418, Test Loss: 101.22655169525711, Test Accuracy: 6.946461584192817, Best: 6.739371192204169\n"
     ]
    },
    {
     "name": "stderr",
     "output_type": "stream",
     "text": [
      "100%|██████████| 6/6 [00:01<00:00,  3.40it/s]\n"
     ]
    },
    {
     "name": "stdout",
     "output_type": "stream",
     "text": [
      "Current Round: 118, Average Loss: 54.51953871013277, Test Loss: 101.68770158959407, Test Accuracy: 6.97116205860691, Best: 6.739371192204169\n"
     ]
    },
    {
     "name": "stderr",
     "output_type": "stream",
     "text": [
      "100%|██████████| 6/6 [00:01<00:00,  3.47it/s]\n"
     ]
    },
    {
     "name": "stdout",
     "output_type": "stream",
     "text": [
      "Current Round: 119, Average Loss: 53.69328268766568, Test Loss: 102.01239603097277, Test Accuracy: 6.99859152112013, Best: 6.739371192204169\n"
     ]
    },
    {
     "name": "stderr",
     "output_type": "stream",
     "text": [
      "100%|██████████| 6/6 [00:01<00:00,  3.52it/s]\n"
     ]
    },
    {
     "name": "stdout",
     "output_type": "stream",
     "text": [
      "Current Round: 120, Average Loss: 54.984193405336924, Test Loss: 99.47659652752634, Test Accuracy: 6.860009428589169, Best: 6.739371192204169\n"
     ]
    },
    {
     "name": "stderr",
     "output_type": "stream",
     "text": [
      "100%|██████████| 6/6 [00:01<00:00,  3.40it/s]\n"
     ]
    },
    {
     "name": "stdout",
     "output_type": "stream",
     "text": [
      "Current Round: 121, Average Loss: 55.16989373700816, Test Loss: 101.04577156384805, Test Accuracy: 6.956535849872575, Best: 6.739371192204169\n"
     ]
    },
    {
     "name": "stderr",
     "output_type": "stream",
     "text": [
      "100%|██████████| 6/6 [00:01<00:00,  3.39it/s]\n"
     ]
    },
    {
     "name": "stdout",
     "output_type": "stream",
     "text": [
      "Current Round: 122, Average Loss: 54.13596669067376, Test Loss: 102.92756539018181, Test Accuracy: 7.028329239458842, Best: 6.739371192204169\n"
     ]
    },
    {
     "name": "stderr",
     "output_type": "stream",
     "text": [
      "100%|██████████| 6/6 [00:01<00:00,  3.40it/s]\n"
     ]
    },
    {
     "name": "stdout",
     "output_type": "stream",
     "text": [
      "Current Round: 123, Average Loss: 54.360190074437575, Test Loss: 98.0899045433032, Test Accuracy: 6.7721943672114, Best: 6.739371192204169\n"
     ]
    },
    {
     "name": "stderr",
     "output_type": "stream",
     "text": [
      "100%|██████████| 6/6 [00:01<00:00,  3.40it/s]\n"
     ]
    },
    {
     "name": "stdout",
     "output_type": "stream",
     "text": [
      "Current Round: 124, Average Loss: 55.09647244462235, Test Loss: 98.12227833042581, Test Accuracy: 6.787902550774141, Best: 6.739371192204169\n"
     ]
    },
    {
     "name": "stderr",
     "output_type": "stream",
     "text": [
      "100%|██████████| 6/6 [00:01<00:00,  3.49it/s]\n"
     ]
    },
    {
     "name": "stdout",
     "output_type": "stream",
     "text": [
      "Current Round: 125, Average Loss: 53.76782584555044, Test Loss: 102.75258521091244, Test Accuracy: 6.990723091134942, Best: 6.739371192204169\n"
     ]
    },
    {
     "name": "stderr",
     "output_type": "stream",
     "text": [
      "100%|██████████| 6/6 [00:01<00:00,  3.49it/s]\n"
     ]
    },
    {
     "name": "stdout",
     "output_type": "stream",
     "text": [
      "Current Round: 126, Average Loss: 55.54863899523223, Test Loss: 99.2634655437588, Test Accuracy: 6.819127672519235, Best: 6.739371192204169\n"
     ]
    },
    {
     "name": "stderr",
     "output_type": "stream",
     "text": [
      "100%|██████████| 6/6 [00:01<00:00,  3.37it/s]\n"
     ]
    },
    {
     "name": "stdout",
     "output_type": "stream",
     "text": [
      "Current Round: 127, Average Loss: 53.96362068404405, Test Loss: 104.17686616279452, Test Accuracy: 7.082813929447897, Best: 6.739371192204169\n"
     ]
    },
    {
     "name": "stderr",
     "output_type": "stream",
     "text": [
      "100%|██████████| 6/6 [00:01<00:00,  3.36it/s]\n"
     ]
    },
    {
     "name": "stdout",
     "output_type": "stream",
     "text": [
      "Current Round: 128, Average Loss: 54.718700759812, Test Loss: 106.35976824367043, Test Accuracy: 7.175901798215202, Best: 6.739371192204169\n"
     ]
    },
    {
     "name": "stderr",
     "output_type": "stream",
     "text": [
      "100%|██████████| 6/6 [00:01<00:00,  3.39it/s]\n"
     ]
    },
    {
     "name": "stdout",
     "output_type": "stream",
     "text": [
      "Current Round: 129, Average Loss: 53.646361091995395, Test Loss: 107.45351659345914, Test Accuracy: 7.246726885751868, Best: 6.739371192204169\n"
     ]
    },
    {
     "name": "stderr",
     "output_type": "stream",
     "text": [
      "100%|██████████| 6/6 [00:01<00:00,  3.40it/s]\n"
     ]
    },
    {
     "name": "stdout",
     "output_type": "stream",
     "text": [
      "Current Round: 130, Average Loss: 53.32754963556729, Test Loss: 104.26273990399406, Test Accuracy: 7.1274063081989505, Best: 6.739371192204169\n"
     ]
    },
    {
     "name": "stderr",
     "output_type": "stream",
     "text": [
      "100%|██████████| 6/6 [00:01<00:00,  3.37it/s]\n"
     ]
    },
    {
     "name": "stdout",
     "output_type": "stream",
     "text": [
      "Current Round: 131, Average Loss: 53.58686545809488, Test Loss: 106.55599530223097, Test Accuracy: 7.31911860611359, Best: 6.739371192204169\n"
     ]
    },
    {
     "name": "stderr",
     "output_type": "stream",
     "text": [
      "100%|██████████| 6/6 [00:01<00:00,  3.47it/s]\n"
     ]
    },
    {
     "name": "stdout",
     "output_type": "stream",
     "text": [
      "Current Round: 132, Average Loss: 53.01168652988258, Test Loss: 108.39054625984073, Test Accuracy: 7.3745584783353175, Best: 6.739371192204169\n"
     ]
    },
    {
     "name": "stderr",
     "output_type": "stream",
     "text": [
      "100%|██████████| 6/6 [00:01<00:00,  3.74it/s]\n"
     ]
    },
    {
     "name": "stdout",
     "output_type": "stream",
     "text": [
      "Current Round: 133, Average Loss: 53.55941961802808, Test Loss: 111.49212104353542, Test Accuracy: 7.4945400951815655, Best: 6.739371192204169\n"
     ]
    },
    {
     "name": "stderr",
     "output_type": "stream",
     "text": [
      "100%|██████████| 6/6 [00:01<00:00,  3.50it/s]\n"
     ]
    },
    {
     "name": "stdout",
     "output_type": "stream",
     "text": [
      "Current Round: 134, Average Loss: 53.11007538524495, Test Loss: 109.1720032017618, Test Accuracy: 7.368343216188188, Best: 6.739371192204169\n"
     ]
    },
    {
     "name": "stderr",
     "output_type": "stream",
     "text": [
      "100%|██████████| 6/6 [00:01<00:00,  3.39it/s]\n"
     ]
    },
    {
     "name": "stdout",
     "output_type": "stream",
     "text": [
      "Current Round: 135, Average Loss: 53.79234273548344, Test Loss: 105.57657970361126, Test Accuracy: 7.187393476824187, Best: 6.739371192204169\n"
     ]
    },
    {
     "name": "stderr",
     "output_type": "stream",
     "text": [
      "100%|██████████| 6/6 [00:01<00:00,  3.37it/s]\n"
     ]
    },
    {
     "name": "stdout",
     "output_type": "stream",
     "text": [
      "Current Round: 136, Average Loss: 54.260894963461055, Test Loss: 101.21365848421367, Test Accuracy: 6.975934230705176, Best: 6.739371192204169\n"
     ]
    },
    {
     "name": "stderr",
     "output_type": "stream",
     "text": [
      "100%|██████████| 6/6 [00:01<00:00,  3.58it/s]\n"
     ]
    },
    {
     "name": "stdout",
     "output_type": "stream",
     "text": [
      "Current Round: 137, Average Loss: 53.98896097308992, Test Loss: 96.40145715785846, Test Accuracy: 6.753669757677573, Best: 6.739371192204169\n"
     ]
    },
    {
     "name": "stderr",
     "output_type": "stream",
     "text": [
      "100%|██████████| 6/6 [00:01<00:00,  3.77it/s]\n"
     ]
    },
    {
     "name": "stdout",
     "output_type": "stream",
     "text": [
      "Current Round: 138, Average Loss: 53.800602031375014, Test Loss: 100.37805465879346, Test Accuracy: 6.988636328828379, Best: 6.739371192204169\n"
     ]
    },
    {
     "name": "stderr",
     "output_type": "stream",
     "text": [
      "100%|██████████| 6/6 [00:01<00:00,  3.42it/s]\n"
     ]
    },
    {
     "name": "stdout",
     "output_type": "stream",
     "text": [
      "Current Round: 139, Average Loss: 53.268265640931105, Test Loss: 102.26025865065878, Test Accuracy: 7.082170902427096, Best: 6.739371192204169\n"
     ]
    },
    {
     "name": "stderr",
     "output_type": "stream",
     "text": [
      "100%|██████████| 6/6 [00:01<00:00,  3.74it/s]\n"
     ]
    },
    {
     "name": "stdout",
     "output_type": "stream",
     "text": [
      "Current Round: 140, Average Loss: 54.22208472692524, Test Loss: 105.96070520835553, Test Accuracy: 7.250036152174334, Best: 6.739371192204169\n"
     ]
    },
    {
     "name": "stderr",
     "output_type": "stream",
     "text": [
      "100%|██████████| 6/6 [00:01<00:00,  3.75it/s]\n"
     ]
    },
    {
     "name": "stdout",
     "output_type": "stream",
     "text": [
      "Current Round: 141, Average Loss: 53.49499884291722, Test Loss: 102.235646911067, Test Accuracy: 7.019373847649443, Best: 6.739371192204169\n"
     ]
    },
    {
     "name": "stderr",
     "output_type": "stream",
     "text": [
      "100%|██████████| 6/6 [00:01<00:00,  3.40it/s]\n"
     ]
    },
    {
     "name": "stdout",
     "output_type": "stream",
     "text": [
      "Current Round: 142, Average Loss: 53.65446193122627, Test Loss: 105.20420903980482, Test Accuracy: 7.19788026396079, Best: 6.739371192204169\n"
     ]
    },
    {
     "name": "stderr",
     "output_type": "stream",
     "text": [
      "100%|██████████| 6/6 [00:01<00:00,  3.49it/s]\n"
     ]
    },
    {
     "name": "stdout",
     "output_type": "stream",
     "text": [
      "Current Round: 143, Average Loss: 54.00485364684753, Test Loss: 107.38435106483534, Test Accuracy: 7.304615115292158, Best: 6.739371192204169\n"
     ]
    },
    {
     "name": "stderr",
     "output_type": "stream",
     "text": [
      "100%|██████████| 6/6 [00:01<00:00,  3.37it/s]\n"
     ]
    },
    {
     "name": "stdout",
     "output_type": "stream",
     "text": [
      "Current Round: 144, Average Loss: 54.626313155653776, Test Loss: 104.69519901275635, Test Accuracy: 7.199088724129262, Best: 6.739371192204169\n"
     ]
    },
    {
     "name": "stderr",
     "output_type": "stream",
     "text": [
      "100%|██████████| 6/6 [00:01<00:00,  3.32it/s]\n"
     ]
    },
    {
     "name": "stdout",
     "output_type": "stream",
     "text": [
      "Current Round: 145, Average Loss: 52.98264527751244, Test Loss: 98.4875307997234, Test Accuracy: 6.889761101062118, Best: 6.739371192204169\n"
     ]
    },
    {
     "name": "stderr",
     "output_type": "stream",
     "text": [
      "100%|██████████| 6/6 [00:01<00:00,  3.47it/s]\n"
     ]
    },
    {
     "name": "stdout",
     "output_type": "stream",
     "text": [
      "Current Round: 146, Average Loss: 53.4182193044363, Test Loss: 100.02586082680223, Test Accuracy: 6.945488699306786, Best: 6.739371192204169\n"
     ]
    },
    {
     "name": "stderr",
     "output_type": "stream",
     "text": [
      "100%|██████████| 6/6 [00:01<00:00,  3.33it/s]\n"
     ]
    },
    {
     "name": "stdout",
     "output_type": "stream",
     "text": [
      "Current Round: 147, Average Loss: 53.35109395936155, Test Loss: 98.81524144080635, Test Accuracy: 6.85908463394184, Best: 6.739371192204169\n"
     ]
    },
    {
     "name": "stderr",
     "output_type": "stream",
     "text": [
      "100%|██████████| 6/6 [00:01<00:00,  3.39it/s]\n"
     ]
    },
    {
     "name": "stdout",
     "output_type": "stream",
     "text": [
      "Current Round: 148, Average Loss: 53.71078634630046, Test Loss: 101.39775239003193, Test Accuracy: 6.978176069673257, Best: 6.739371192204169\n"
     ]
    },
    {
     "name": "stderr",
     "output_type": "stream",
     "text": [
      "100%|██████████| 6/6 [00:01<00:00,  3.32it/s]\n"
     ]
    },
    {
     "name": "stdout",
     "output_type": "stream",
     "text": [
      "Current Round: 149, Average Loss: 53.81820750962576, Test Loss: 100.15228253909498, Test Accuracy: 6.9360448064414095, Best: 6.739371192204169\n"
     ]
    },
    {
     "name": "stderr",
     "output_type": "stream",
     "text": [
      "100%|██████████| 6/6 [00:01<00:00,  3.44it/s]\n"
     ]
    },
    {
     "name": "stdout",
     "output_type": "stream",
     "text": [
      "Current Round: 150, Average Loss: 54.10614835590112, Test Loss: 96.93975474613417, Test Accuracy: 6.7764376814037455, Best: 6.739371192204169\n"
     ]
    },
    {
     "name": "stderr",
     "output_type": "stream",
     "text": [
      "100%|██████████| 6/6 [00:01<00:00,  3.39it/s]\n"
     ]
    },
    {
     "name": "stdout",
     "output_type": "stream",
     "text": [
      "Current Round: 151, Average Loss: 54.11526641215571, Test Loss: 102.08877117220021, Test Accuracy: 7.058724220209701, Best: 6.739371192204169\n"
     ]
    },
    {
     "name": "stderr",
     "output_type": "stream",
     "text": [
      "100%|██████████| 6/6 [00:01<00:00,  3.43it/s]\n"
     ]
    },
    {
     "name": "stdout",
     "output_type": "stream",
     "text": [
      "Current Round: 152, Average Loss: 53.96337539420011, Test Loss: 97.0150477412114, Test Accuracy: 6.7859338479118865, Best: 6.739371192204169\n"
     ]
    },
    {
     "name": "stderr",
     "output_type": "stream",
     "text": [
      "100%|██████████| 6/6 [00:01<00:00,  3.37it/s]\n"
     ]
    },
    {
     "name": "stdout",
     "output_type": "stream",
     "text": [
      "Current Round: 153, Average Loss: 53.10475160189531, Test Loss: 97.62256365794748, Test Accuracy: 6.837743402266, Best: 6.739371192204169\n"
     ]
    },
    {
     "name": "stderr",
     "output_type": "stream",
     "text": [
      "100%|██████████| 6/6 [00:01<00:00,  3.27it/s]\n"
     ]
    },
    {
     "name": "stdout",
     "output_type": "stream",
     "text": [
      "Current Round: 154, Average Loss: 53.59108404412124, Test Loss: 97.24349566167763, Test Accuracy: 6.765607240622519, Best: 6.739371192204169\n"
     ]
    },
    {
     "name": "stderr",
     "output_type": "stream",
     "text": [
      "100%|██████████| 6/6 [00:01<00:00,  3.35it/s]\n"
     ]
    },
    {
     "name": "stdout",
     "output_type": "stream",
     "text": [
      "Current Round: 155, Average Loss: 54.078287263933056, Test Loss: 95.92368177916333, Test Accuracy: 6.6760711977177545, Best: 6.6760711977177545\n"
     ]
    },
    {
     "name": "stderr",
     "output_type": "stream",
     "text": [
      "100%|██████████| 6/6 [00:01<00:00,  3.46it/s]\n"
     ]
    },
    {
     "name": "stdout",
     "output_type": "stream",
     "text": [
      "Current Round: 156, Average Loss: 52.41952653487753, Test Loss: 98.44449356367502, Test Accuracy: 6.800994480705024, Best: 6.6760711977177545\n"
     ]
    },
    {
     "name": "stderr",
     "output_type": "stream",
     "text": [
      "100%|██████████| 6/6 [00:01<00:00,  3.46it/s]\n"
     ]
    },
    {
     "name": "stdout",
     "output_type": "stream",
     "text": [
      "Current Round: 157, Average Loss: 53.846702968251265, Test Loss: 98.61604048583837, Test Accuracy: 6.851320061098687, Best: 6.6760711977177545\n"
     ]
    },
    {
     "name": "stderr",
     "output_type": "stream",
     "text": [
      "100%|██████████| 6/6 [00:01<00:00,  3.54it/s]\n"
     ]
    },
    {
     "name": "stdout",
     "output_type": "stream",
     "text": [
      "Current Round: 158, Average Loss: 53.5828947007073, Test Loss: 99.498671832701, Test Accuracy: 6.899981495173004, Best: 6.6760711977177545\n"
     ]
    },
    {
     "name": "stderr",
     "output_type": "stream",
     "text": [
      "100%|██████████| 6/6 [00:01<00:00,  3.55it/s]\n"
     ]
    },
    {
     "name": "stdout",
     "output_type": "stream",
     "text": [
      "Current Round: 159, Average Loss: 53.25037253939516, Test Loss: 97.53888507608366, Test Accuracy: 6.79959642488274, Best: 6.6760711977177545\n"
     ]
    },
    {
     "name": "stderr",
     "output_type": "stream",
     "text": [
      "100%|██████████| 6/6 [00:01<00:00,  3.50it/s]\n"
     ]
    },
    {
     "name": "stdout",
     "output_type": "stream",
     "text": [
      "Current Round: 160, Average Loss: 52.2211282511166, Test Loss: 97.62195536987268, Test Accuracy: 6.809076748816054, Best: 6.6760711977177545\n"
     ]
    },
    {
     "name": "stderr",
     "output_type": "stream",
     "text": [
      "100%|██████████| 6/6 [00:01<00:00,  3.43it/s]\n"
     ]
    },
    {
     "name": "stdout",
     "output_type": "stream",
     "text": [
      "Current Round: 161, Average Loss: 54.54183952115498, Test Loss: 94.50678186768221, Test Accuracy: 6.660990586215826, Best: 6.660990586215826\n"
     ]
    },
    {
     "name": "stderr",
     "output_type": "stream",
     "text": [
      "100%|██████████| 6/6 [00:01<00:00,  3.50it/s]\n"
     ]
    },
    {
     "name": "stdout",
     "output_type": "stream",
     "text": [
      "Current Round: 162, Average Loss: 52.89019909157346, Test Loss: 98.28758516152017, Test Accuracy: 6.794333144782349, Best: 6.660990586215826\n"
     ]
    },
    {
     "name": "stderr",
     "output_type": "stream",
     "text": [
      "100%|██████████| 6/6 [00:01<00:00,  3.45it/s]\n"
     ]
    },
    {
     "name": "stdout",
     "output_type": "stream",
     "text": [
      "Current Round: 163, Average Loss: 53.06414678738401, Test Loss: 102.91579743346391, Test Accuracy: 7.058263807048585, Best: 6.660990586215826\n"
     ]
    },
    {
     "name": "stderr",
     "output_type": "stream",
     "text": [
      "100%|██████████| 6/6 [00:01<00:00,  3.41it/s]\n"
     ]
    },
    {
     "name": "stdout",
     "output_type": "stream",
     "text": [
      "Current Round: 164, Average Loss: 52.64563904799787, Test Loss: 102.3642884653334, Test Accuracy: 7.050030692950205, Best: 6.660990586215826\n"
     ]
    },
    {
     "name": "stderr",
     "output_type": "stream",
     "text": [
      "100%|██████████| 6/6 [00:01<00:00,  3.45it/s]\n"
     ]
    },
    {
     "name": "stdout",
     "output_type": "stream",
     "text": [
      "Current Round: 165, Average Loss: 52.191359182420605, Test Loss: 99.88842395181587, Test Accuracy: 6.933457980811817, Best: 6.660990586215826\n"
     ]
    },
    {
     "name": "stderr",
     "output_type": "stream",
     "text": [
      "100%|██████████| 6/6 [00:01<00:00,  3.39it/s]\n"
     ]
    },
    {
     "name": "stdout",
     "output_type": "stream",
     "text": [
      "Current Round: 166, Average Loss: 52.63253549460424, Test Loss: 97.24694256493741, Test Accuracy: 6.818925874088481, Best: 6.660990586215826\n"
     ]
    },
    {
     "name": "stderr",
     "output_type": "stream",
     "text": [
      "100%|██████████| 6/6 [00:01<00:00,  3.47it/s]\n"
     ]
    },
    {
     "name": "stdout",
     "output_type": "stream",
     "text": [
      "Current Round: 167, Average Loss: 52.562221232271405, Test Loss: 103.12608287395746, Test Accuracy: 7.092864385177064, Best: 6.660990586215826\n"
     ]
    },
    {
     "name": "stderr",
     "output_type": "stream",
     "text": [
      "100%|██████████| 6/6 [00:01<00:00,  3.47it/s]\n"
     ]
    },
    {
     "name": "stdout",
     "output_type": "stream",
     "text": [
      "Current Round: 168, Average Loss: 52.9902082292505, Test Loss: 101.51718883969748, Test Accuracy: 6.980003115856071, Best: 6.660990586215826\n"
     ]
    },
    {
     "name": "stderr",
     "output_type": "stream",
     "text": [
      "100%|██████████| 6/6 [00:01<00:00,  3.35it/s]\n"
     ]
    },
    {
     "name": "stdout",
     "output_type": "stream",
     "text": [
      "Current Round: 169, Average Loss: 53.219249473288976, Test Loss: 98.43715516862008, Test Accuracy: 6.8336730044718275, Best: 6.660990586215826\n"
     ]
    },
    {
     "name": "stderr",
     "output_type": "stream",
     "text": [
      "100%|██████████| 6/6 [00:01<00:00,  3.50it/s]\n"
     ]
    },
    {
     "name": "stdout",
     "output_type": "stream",
     "text": [
      "Current Round: 170, Average Loss: 52.97643897560357, Test Loss: 100.65758181560919, Test Accuracy: 6.973396159459224, Best: 6.660990586215826\n"
     ]
    },
    {
     "name": "stderr",
     "output_type": "stream",
     "text": [
      "100%|██████████| 6/6 [00:01<00:00,  3.47it/s]\n"
     ]
    },
    {
     "name": "stdout",
     "output_type": "stream",
     "text": [
      "Current Round: 171, Average Loss: 53.441119996249974, Test Loss: 94.69306618387463, Test Accuracy: 6.69430259316975, Best: 6.660990586215826\n"
     ]
    },
    {
     "name": "stderr",
     "output_type": "stream",
     "text": [
      "100%|██████████| 6/6 [00:01<00:00,  3.37it/s]\n"
     ]
    },
    {
     "name": "stdout",
     "output_type": "stream",
     "text": [
      "Current Round: 172, Average Loss: 52.6082345067888, Test Loss: 98.24681074296204, Test Accuracy: 6.848670023524628, Best: 6.660990586215826\n"
     ]
    },
    {
     "name": "stderr",
     "output_type": "stream",
     "text": [
      "100%|██████████| 6/6 [00:01<00:00,  3.41it/s]\n"
     ]
    },
    {
     "name": "stdout",
     "output_type": "stream",
     "text": [
      "Current Round: 173, Average Loss: 52.9767254756406, Test Loss: 101.58206837669782, Test Accuracy: 6.9978081042586355, Best: 6.660990586215826\n"
     ]
    },
    {
     "name": "stderr",
     "output_type": "stream",
     "text": [
      "100%|██████████| 6/6 [00:01<00:00,  3.42it/s]\n"
     ]
    },
    {
     "name": "stdout",
     "output_type": "stream",
     "text": [
      "Current Round: 174, Average Loss: 52.70479570822198, Test Loss: 104.58722691002038, Test Accuracy: 7.168974315071343, Best: 6.660990586215826\n"
     ]
    },
    {
     "name": "stderr",
     "output_type": "stream",
     "text": [
      "100%|██████████| 6/6 [00:01<00:00,  3.40it/s]\n"
     ]
    },
    {
     "name": "stdout",
     "output_type": "stream",
     "text": [
      "Current Round: 175, Average Loss: 52.93252256025997, Test Loss: 102.98376775881255, Test Accuracy: 7.161572897153569, Best: 6.660990586215826\n"
     ]
    },
    {
     "name": "stderr",
     "output_type": "stream",
     "text": [
      "100%|██████████| 6/6 [00:01<00:00,  3.38it/s]\n"
     ]
    },
    {
     "name": "stdout",
     "output_type": "stream",
     "text": [
      "Current Round: 176, Average Loss: 52.03391860667151, Test Loss: 98.16874003541902, Test Accuracy: 6.90519250635764, Best: 6.660990586215826\n"
     ]
    },
    {
     "name": "stderr",
     "output_type": "stream",
     "text": [
      "100%|██████████| 6/6 [00:01<00:00,  3.39it/s]\n"
     ]
    },
    {
     "name": "stdout",
     "output_type": "stream",
     "text": [
      "Current Round: 177, Average Loss: 53.79064447734907, Test Loss: 96.18454089454264, Test Accuracy: 6.816457675144427, Best: 6.660990586215826\n"
     ]
    },
    {
     "name": "stderr",
     "output_type": "stream",
     "text": [
      "100%|██████████| 6/6 [00:01<00:00,  3.40it/s]\n"
     ]
    },
    {
     "name": "stdout",
     "output_type": "stream",
     "text": [
      "Current Round: 178, Average Loss: 51.54970074606711, Test Loss: 95.816781996597, Test Accuracy: 6.808410424725274, Best: 6.660990586215826\n"
     ]
    },
    {
     "name": "stderr",
     "output_type": "stream",
     "text": [
      "100%|██████████| 6/6 [00:01<00:00,  3.40it/s]\n"
     ]
    },
    {
     "name": "stdout",
     "output_type": "stream",
     "text": [
      "Current Round: 179, Average Loss: 53.42665264661341, Test Loss: 93.02748513001086, Test Accuracy: 6.660312234247484, Best: 6.660312234247484\n"
     ]
    },
    {
     "name": "stderr",
     "output_type": "stream",
     "text": [
      "100%|██████████| 6/6 [00:01<00:00,  3.33it/s]\n"
     ]
    },
    {
     "name": "stdout",
     "output_type": "stream",
     "text": [
      "Current Round: 180, Average Loss: 51.70250979556645, Test Loss: 96.34407930329091, Test Accuracy: 6.822400654411079, Best: 6.660312234247484\n"
     ]
    },
    {
     "name": "stderr",
     "output_type": "stream",
     "text": [
      "100%|██████████| 6/6 [00:01<00:00,  3.50it/s]\n"
     ]
    },
    {
     "name": "stdout",
     "output_type": "stream",
     "text": [
      "Current Round: 181, Average Loss: 53.05508776599421, Test Loss: 94.24339882710711, Test Accuracy: 6.722196978411858, Best: 6.660312234247484\n"
     ]
    },
    {
     "name": "stderr",
     "output_type": "stream",
     "text": [
      "100%|██████████| 6/6 [00:01<00:00,  3.33it/s]\n"
     ]
    },
    {
     "name": "stdout",
     "output_type": "stream",
     "text": [
      "Current Round: 182, Average Loss: 52.90805377195702, Test Loss: 97.08322306296787, Test Accuracy: 6.85836227350814, Best: 6.660312234247484\n"
     ]
    },
    {
     "name": "stderr",
     "output_type": "stream",
     "text": [
      "100%|██████████| 6/6 [00:01<00:00,  3.33it/s]\n"
     ]
    },
    {
     "name": "stdout",
     "output_type": "stream",
     "text": [
      "Current Round: 183, Average Loss: 53.47325069338917, Test Loss: 98.44284233022505, Test Accuracy: 6.918813613267636, Best: 6.660312234247484\n"
     ]
    },
    {
     "name": "stderr",
     "output_type": "stream",
     "text": [
      "100%|██████████| 6/6 [00:01<00:00,  3.64it/s]\n"
     ]
    },
    {
     "name": "stdout",
     "output_type": "stream",
     "text": [
      "Current Round: 184, Average Loss: 51.96868667429072, Test Loss: 100.3388010174673, Test Accuracy: 7.022407678275599, Best: 6.660312234247484\n"
     ]
    },
    {
     "name": "stderr",
     "output_type": "stream",
     "text": [
      "100%|██████████| 6/6 [00:01<00:00,  3.38it/s]\n"
     ]
    },
    {
     "name": "stdout",
     "output_type": "stream",
     "text": [
      "Current Round: 185, Average Loss: 52.48739361117427, Test Loss: 98.59433611516312, Test Accuracy: 6.945714728392042, Best: 6.660312234247484\n"
     ]
    },
    {
     "name": "stderr",
     "output_type": "stream",
     "text": [
      "100%|██████████| 6/6 [00:01<00:00,  3.42it/s]\n"
     ]
    },
    {
     "name": "stdout",
     "output_type": "stream",
     "text": [
      "Current Round: 186, Average Loss: 53.25930072158366, Test Loss: 96.61792897164378, Test Accuracy: 6.801312197244448, Best: 6.660312234247484\n"
     ]
    },
    {
     "name": "stderr",
     "output_type": "stream",
     "text": [
      "100%|██████████| 6/6 [00:01<00:00,  3.38it/s]\n"
     ]
    },
    {
     "name": "stdout",
     "output_type": "stream",
     "text": [
      "Current Round: 187, Average Loss: 51.78040740009311, Test Loss: 100.2026560702667, Test Accuracy: 6.997220085456026, Best: 6.660312234247484\n"
     ]
    },
    {
     "name": "stderr",
     "output_type": "stream",
     "text": [
      "100%|██████████| 6/6 [00:01<00:00,  3.60it/s]\n"
     ]
    },
    {
     "name": "stdout",
     "output_type": "stream",
     "text": [
      "Current Round: 188, Average Loss: 53.444636758635056, Test Loss: 98.7591104728471, Test Accuracy: 6.9596337527590615, Best: 6.660312234247484\n"
     ]
    },
    {
     "name": "stderr",
     "output_type": "stream",
     "text": [
      "100%|██████████| 6/6 [00:01<00:00,  3.72it/s]\n"
     ]
    },
    {
     "name": "stdout",
     "output_type": "stream",
     "text": [
      "Current Round: 189, Average Loss: 51.89146770030749, Test Loss: 98.72852509687833, Test Accuracy: 6.986156560526757, Best: 6.660312234247484\n"
     ]
    },
    {
     "name": "stderr",
     "output_type": "stream",
     "text": [
      "100%|██████████| 6/6 [00:01<00:00,  3.47it/s]\n"
     ]
    },
    {
     "name": "stdout",
     "output_type": "stream",
     "text": [
      "Current Round: 190, Average Loss: 52.11416156005807, Test Loss: 97.95380075008157, Test Accuracy: 6.930634693585364, Best: 6.660312234247484\n"
     ]
    },
    {
     "name": "stderr",
     "output_type": "stream",
     "text": [
      "100%|██████████| 6/6 [00:01<00:00,  3.37it/s]\n"
     ]
    },
    {
     "name": "stdout",
     "output_type": "stream",
     "text": [
      "Current Round: 191, Average Loss: 53.47670831648429, Test Loss: 100.81286472527603, Test Accuracy: 7.082676456172522, Best: 6.660312234247484\n"
     ]
    },
    {
     "name": "stderr",
     "output_type": "stream",
     "text": [
      "100%|██████████| 6/6 [00:01<00:00,  3.40it/s]\n"
     ]
    },
    {
     "name": "stdout",
     "output_type": "stream",
     "text": [
      "Current Round: 192, Average Loss: 52.35182922961085, Test Loss: 96.34188266949731, Test Accuracy: 6.852682404358591, Best: 6.660312234247484\n"
     ]
    },
    {
     "name": "stderr",
     "output_type": "stream",
     "text": [
      "100%|██████████| 6/6 [00:01<00:00,  3.43it/s]\n"
     ]
    },
    {
     "name": "stdout",
     "output_type": "stream",
     "text": [
      "Current Round: 193, Average Loss: 52.29091608095583, Test Loss: 95.86965713158966, Test Accuracy: 6.832127881906881, Best: 6.660312234247484\n"
     ]
    },
    {
     "name": "stderr",
     "output_type": "stream",
     "text": [
      "100%|██████████| 6/6 [00:01<00:00,  3.52it/s]\n"
     ]
    },
    {
     "name": "stdout",
     "output_type": "stream",
     "text": [
      "Current Round: 194, Average Loss: 52.25170403445441, Test Loss: 93.65048963901076, Test Accuracy: 6.71688335328888, Best: 6.660312234247484\n"
     ]
    },
    {
     "name": "stderr",
     "output_type": "stream",
     "text": [
      "100%|██████████| 6/6 [00:01<00:00,  3.42it/s]\n"
     ]
    },
    {
     "name": "stdout",
     "output_type": "stream",
     "text": [
      "Current Round: 195, Average Loss: 52.631778676433974, Test Loss: 90.9142144574568, Test Accuracy: 6.564690283830872, Best: 6.564690283830872\n"
     ]
    },
    {
     "name": "stderr",
     "output_type": "stream",
     "text": [
      "100%|██████████| 6/6 [00:01<00:00,  3.39it/s]\n"
     ]
    },
    {
     "name": "stdout",
     "output_type": "stream",
     "text": [
      "Current Round: 196, Average Loss: 51.850080113642896, Test Loss: 94.08537039831003, Test Accuracy: 6.753562298553732, Best: 6.564690283830872\n"
     ]
    },
    {
     "name": "stderr",
     "output_type": "stream",
     "text": [
      "100%|██████████| 6/6 [00:01<00:00,  3.40it/s]\n"
     ]
    },
    {
     "name": "stdout",
     "output_type": "stream",
     "text": [
      "Current Round: 197, Average Loss: 51.1646116047305, Test Loss: 94.86131931159788, Test Accuracy: 6.768957632034094, Best: 6.564690283830872\n"
     ]
    },
    {
     "name": "stderr",
     "output_type": "stream",
     "text": [
      "100%|██████████| 6/6 [00:01<00:00,  3.50it/s]\n"
     ]
    },
    {
     "name": "stdout",
     "output_type": "stream",
     "text": [
      "Current Round: 198, Average Loss: 51.55374952996747, Test Loss: 98.21879818103977, Test Accuracy: 6.936217096510725, Best: 6.564690283830872\n"
     ]
    },
    {
     "name": "stderr",
     "output_type": "stream",
     "text": [
      "100%|██████████| 6/6 [00:01<00:00,  3.47it/s]\n"
     ]
    },
    {
     "name": "stdout",
     "output_type": "stream",
     "text": [
      "Current Round: 199, Average Loss: 52.90530630522758, Test Loss: 95.43494733673656, Test Accuracy: 6.827991180703543, Best: 6.564690283830872\n"
     ]
    },
    {
     "name": "stderr",
     "output_type": "stream",
     "text": [
      "100%|██████████| 6/6 [00:01<00:00,  3.50it/s]\n"
     ]
    },
    {
     "name": "stdout",
     "output_type": "stream",
     "text": [
      "Current Round: 200, Average Loss: 52.67846459588089, Test Loss: 95.96659515365552, Test Accuracy: 6.806343305509773, Best: 6.564690283830872\n",
      "Training Done!\n",
      "Best Accuracy: 6.564690283830872\n",
      "Total time taken to Train: 425.717246055603\n",
      "Name is taken...trying again...\n",
      "Name is taken...trying again...\n",
      "Name is taken...trying again...\n"
     ]
    },
    {
     "name": "stderr",
     "output_type": "stream",
     "text": [
      "100%|██████████| 6/6 [00:01<00:00,  3.48it/s]\n"
     ]
    },
    {
     "name": "stdout",
     "output_type": "stream",
     "text": [
      "Current Round: 1, Average Loss: 1119.8196182682016, Test Loss: 4317.693653886646, Test Accuracy: 64.08668551628179, Best: 64.08668551628179\n"
     ]
    },
    {
     "name": "stderr",
     "output_type": "stream",
     "text": [
      "100%|██████████| 6/6 [00:01<00:00,  3.44it/s]\n"
     ]
    },
    {
     "name": "stdout",
     "output_type": "stream",
     "text": [
      "Current Round: 2, Average Loss: 689.2679256101736, Test Loss: 2764.1365406362543, Test Accuracy: 50.43759795546975, Best: 50.43759795546975\n"
     ]
    },
    {
     "name": "stderr",
     "output_type": "stream",
     "text": [
      "100%|██████████| 6/6 [00:01<00:00,  3.34it/s]\n"
     ]
    },
    {
     "name": "stdout",
     "output_type": "stream",
     "text": [
      "Current Round: 3, Average Loss: 412.01762238878746, Test Loss: 2088.1714879524015, Test Accuracy: 43.141158280024, Best: 43.141158280024\n"
     ]
    },
    {
     "name": "stderr",
     "output_type": "stream",
     "text": [
      "100%|██████████| 6/6 [00:01<00:00,  3.32it/s]\n"
     ]
    },
    {
     "name": "stdout",
     "output_type": "stream",
     "text": [
      "Current Round: 4, Average Loss: 326.32825012490883, Test Loss: 1511.498972196709, Test Accuracy: 35.8646508846732, Best: 35.8646508846732\n"
     ]
    },
    {
     "name": "stderr",
     "output_type": "stream",
     "text": [
      "100%|██████████| 6/6 [00:01<00:00,  3.35it/s]\n"
     ]
    },
    {
     "name": "stdout",
     "output_type": "stream",
     "text": [
      "Current Round: 5, Average Loss: 266.5760058193672, Test Loss: 1067.2007726003985, Test Accuracy: 29.12175621448692, Best: 29.12175621448692\n"
     ]
    },
    {
     "name": "stderr",
     "output_type": "stream",
     "text": [
      "100%|██████████| 6/6 [00:01<00:00,  3.32it/s]\n"
     ]
    },
    {
     "name": "stdout",
     "output_type": "stream",
     "text": [
      "Current Round: 6, Average Loss: 216.9976929549887, Test Loss: 766.3984487656471, Test Accuracy: 23.80271935728846, Best: 23.80271935728846\n"
     ]
    },
    {
     "name": "stderr",
     "output_type": "stream",
     "text": [
      "100%|██████████| 6/6 [00:01<00:00,  3.60it/s]\n"
     ]
    },
    {
     "name": "stdout",
     "output_type": "stream",
     "text": [
      "Current Round: 7, Average Loss: 190.89585745562957, Test Loss: 565.9221686268089, Test Accuracy: 19.794128328155555, Best: 19.794128328155555\n"
     ]
    },
    {
     "name": "stderr",
     "output_type": "stream",
     "text": [
      "100%|██████████| 6/6 [00:01<00:00,  3.30it/s]\n"
     ]
    },
    {
     "name": "stdout",
     "output_type": "stream",
     "text": [
      "Current Round: 8, Average Loss: 164.75402440915707, Test Loss: 427.3096571992875, Test Accuracy: 16.608346274941976, Best: 16.608346274941976\n"
     ]
    },
    {
     "name": "stderr",
     "output_type": "stream",
     "text": [
      "100%|██████████| 6/6 [00:01<00:00,  3.45it/s]\n"
     ]
    },
    {
     "name": "stdout",
     "output_type": "stream",
     "text": [
      "Current Round: 9, Average Loss: 155.9605636004001, Test Loss: 353.71225971578076, Test Accuracy: 14.833069689064073, Best: 14.833069689064073\n"
     ]
    },
    {
     "name": "stderr",
     "output_type": "stream",
     "text": [
      "100%|██████████| 6/6 [00:01<00:00,  3.47it/s]\n"
     ]
    },
    {
     "name": "stdout",
     "output_type": "stream",
     "text": [
      "Current Round: 10, Average Loss: 141.26713752956846, Test Loss: 295.0105920329533, Test Accuracy: 13.282519634771525, Best: 13.282519634771525\n"
     ]
    },
    {
     "name": "stderr",
     "output_type": "stream",
     "text": [
      "100%|██████████| 6/6 [00:01<00:00,  3.54it/s]\n"
     ]
    },
    {
     "name": "stdout",
     "output_type": "stream",
     "text": [
      "Current Round: 11, Average Loss: 130.8751246031937, Test Loss: 257.5533082426492, Test Accuracy: 12.248907212135665, Best: 12.248907212135665\n"
     ]
    },
    {
     "name": "stderr",
     "output_type": "stream",
     "text": [
      "100%|██████████| 6/6 [00:01<00:00,  3.47it/s]\n"
     ]
    },
    {
     "name": "stdout",
     "output_type": "stream",
     "text": [
      "Current Round: 12, Average Loss: 126.53163463300264, Test Loss: 233.9981496554916, Test Accuracy: 11.610194746298713, Best: 11.610194746298713\n"
     ]
    },
    {
     "name": "stderr",
     "output_type": "stream",
     "text": [
      "100%|██████████| 6/6 [00:01<00:00,  3.44it/s]\n"
     ]
    },
    {
     "name": "stdout",
     "output_type": "stream",
     "text": [
      "Current Round: 13, Average Loss: 119.6494038067558, Test Loss: 214.82933925105146, Test Accuracy: 11.023253668935178, Best: 11.023253668935178\n"
     ]
    },
    {
     "name": "stderr",
     "output_type": "stream",
     "text": [
      "100%|██████████| 6/6 [00:01<00:00,  3.43it/s]\n"
     ]
    },
    {
     "name": "stdout",
     "output_type": "stream",
     "text": [
      "Current Round: 14, Average Loss: 111.66909821052862, Test Loss: 200.42629229722377, Test Accuracy: 10.567062266844946, Best: 10.567062266844946\n"
     ]
    },
    {
     "name": "stderr",
     "output_type": "stream",
     "text": [
      "100%|██████████| 6/6 [00:01<00:00,  3.40it/s]\n"
     ]
    },
    {
     "name": "stdout",
     "output_type": "stream",
     "text": [
      "Current Round: 15, Average Loss: 112.3935494135772, Test Loss: 193.53160308029553, Test Accuracy: 10.304864434356878, Best: 10.304864434356878\n"
     ]
    },
    {
     "name": "stderr",
     "output_type": "stream",
     "text": [
      "100%|██████████| 6/6 [00:01<00:00,  3.41it/s]\n"
     ]
    },
    {
     "name": "stdout",
     "output_type": "stream",
     "text": [
      "Current Round: 16, Average Loss: 103.28920078461567, Test Loss: 179.1433931824369, Test Accuracy: 9.842241923014322, Best: 9.842241923014322\n"
     ]
    },
    {
     "name": "stderr",
     "output_type": "stream",
     "text": [
      "100%|██████████| 6/6 [00:01<00:00,  3.44it/s]\n"
     ]
    },
    {
     "name": "stdout",
     "output_type": "stream",
     "text": [
      "Current Round: 17, Average Loss: 100.1356441925688, Test Loss: 170.18277771304255, Test Accuracy: 9.538587069127344, Best: 9.538587069127344\n"
     ]
    },
    {
     "name": "stderr",
     "output_type": "stream",
     "text": [
      "100%|██████████| 6/6 [00:01<00:00,  3.42it/s]\n"
     ]
    },
    {
     "name": "stdout",
     "output_type": "stream",
     "text": [
      "Current Round: 18, Average Loss: 100.21403663060185, Test Loss: 158.83681435664928, Test Accuracy: 9.214630531112501, Best: 9.214630531112501\n"
     ]
    },
    {
     "name": "stderr",
     "output_type": "stream",
     "text": [
      "100%|██████████| 6/6 [00:01<00:00,  3.54it/s]\n"
     ]
    },
    {
     "name": "stdout",
     "output_type": "stream",
     "text": [
      "Current Round: 19, Average Loss: 98.02343127358563, Test Loss: 146.68591206294082, Test Accuracy: 8.901490959536186, Best: 8.901490959536186\n"
     ]
    },
    {
     "name": "stderr",
     "output_type": "stream",
     "text": [
      "100%|██████████| 6/6 [00:01<00:00,  3.43it/s]\n"
     ]
    },
    {
     "name": "stdout",
     "output_type": "stream",
     "text": [
      "Current Round: 20, Average Loss: 97.1212929018243, Test Loss: 143.79752526457204, Test Accuracy: 8.8206093916958, Best: 8.8206093916958\n"
     ]
    },
    {
     "name": "stderr",
     "output_type": "stream",
     "text": [
      "100%|██████████| 6/6 [00:01<00:00,  3.42it/s]\n"
     ]
    },
    {
     "name": "stdout",
     "output_type": "stream",
     "text": [
      "Current Round: 21, Average Loss: 93.40258599484082, Test Loss: 137.00027504106325, Test Accuracy: 8.668710935514655, Best: 8.668710935514655\n"
     ]
    },
    {
     "name": "stderr",
     "output_type": "stream",
     "text": [
      "100%|██████████| 6/6 [00:01<00:00,  3.30it/s]\n"
     ]
    },
    {
     "name": "stdout",
     "output_type": "stream",
     "text": [
      "Current Round: 22, Average Loss: 92.397804138827, Test Loss: 135.78022406240083, Test Accuracy: 8.676068718400883, Best: 8.668710935514655\n"
     ]
    },
    {
     "name": "stderr",
     "output_type": "stream",
     "text": [
      "100%|██████████| 6/6 [00:01<00:00,  3.38it/s]\n"
     ]
    },
    {
     "name": "stdout",
     "output_type": "stream",
     "text": [
      "Current Round: 23, Average Loss: 92.91233350436549, Test Loss: 132.56085007562956, Test Accuracy: 8.641169154511065, Best: 8.641169154511065\n"
     ]
    },
    {
     "name": "stderr",
     "output_type": "stream",
     "text": [
      "100%|██████████| 6/6 [00:01<00:00,  3.37it/s]\n"
     ]
    },
    {
     "name": "stdout",
     "output_type": "stream",
     "text": [
      "Current Round: 24, Average Loss: 89.22301713076934, Test Loss: 126.4109309520734, Test Accuracy: 8.510172814389291, Best: 8.510172814389291\n"
     ]
    },
    {
     "name": "stderr",
     "output_type": "stream",
     "text": [
      "100%|██████████| 6/6 [00:01<00:00,  3.41it/s]\n"
     ]
    },
    {
     "name": "stdout",
     "output_type": "stream",
     "text": [
      "Current Round: 25, Average Loss: 88.4523239443252, Test Loss: 125.36131718745074, Test Accuracy: 8.500504948688114, Best: 8.500504948688114\n"
     ]
    },
    {
     "name": "stderr",
     "output_type": "stream",
     "text": [
      "100%|██████████| 6/6 [00:01<00:00,  3.33it/s]\n"
     ]
    },
    {
     "name": "stdout",
     "output_type": "stream",
     "text": [
      "Current Round: 26, Average Loss: 86.58430074689407, Test Loss: 122.15683264253012, Test Accuracy: 8.434421619665814, Best: 8.434421619665814\n"
     ]
    },
    {
     "name": "stderr",
     "output_type": "stream",
     "text": [
      "100%|██████████| 6/6 [00:01<00:00,  3.42it/s]\n"
     ]
    },
    {
     "name": "stdout",
     "output_type": "stream",
     "text": [
      "Current Round: 27, Average Loss: 86.92750444763108, Test Loss: 123.59925071095593, Test Accuracy: 8.492470482468162, Best: 8.434421619665814\n"
     ]
    },
    {
     "name": "stderr",
     "output_type": "stream",
     "text": [
      "100%|██████████| 6/6 [00:01<00:00,  3.55it/s]\n"
     ]
    },
    {
     "name": "stdout",
     "output_type": "stream",
     "text": [
      "Current Round: 28, Average Loss: 80.68027006319868, Test Loss: 118.69111751106739, Test Accuracy: 8.394369236450952, Best: 8.394369236450952\n"
     ]
    },
    {
     "name": "stderr",
     "output_type": "stream",
     "text": [
      "100%|██████████| 6/6 [00:01<00:00,  3.42it/s]\n"
     ]
    },
    {
     "name": "stdout",
     "output_type": "stream",
     "text": [
      "Current Round: 29, Average Loss: 83.73655530009138, Test Loss: 115.07557906828995, Test Accuracy: 8.317535953450824, Best: 8.317535953450824\n"
     ]
    },
    {
     "name": "stderr",
     "output_type": "stream",
     "text": [
      "100%|██████████| 6/6 [00:01<00:00,  3.62it/s]\n"
     ]
    },
    {
     "name": "stdout",
     "output_type": "stream",
     "text": [
      "Current Round: 30, Average Loss: 81.2085153432002, Test Loss: 112.47470332381155, Test Accuracy: 8.23883261556519, Best: 8.23883261556519\n"
     ]
    },
    {
     "name": "stderr",
     "output_type": "stream",
     "text": [
      "100%|██████████| 6/6 [00:01<00:00,  3.46it/s]\n"
     ]
    },
    {
     "name": "stdout",
     "output_type": "stream",
     "text": [
      "Current Round: 31, Average Loss: 76.81226067781546, Test Loss: 111.31180144282337, Test Accuracy: 8.216822864102312, Best: 8.216822864102312\n"
     ]
    },
    {
     "name": "stderr",
     "output_type": "stream",
     "text": [
      "100%|██████████| 6/6 [00:01<00:00,  3.41it/s]\n"
     ]
    },
    {
     "name": "stdout",
     "output_type": "stream",
     "text": [
      "Current Round: 32, Average Loss: 81.32266580748036, Test Loss: 113.19460006063755, Test Accuracy: 8.291857590610357, Best: 8.216822864102312\n"
     ]
    },
    {
     "name": "stderr",
     "output_type": "stream",
     "text": [
      "100%|██████████| 6/6 [00:01<00:00,  3.37it/s]\n"
     ]
    },
    {
     "name": "stdout",
     "output_type": "stream",
     "text": [
      "Current Round: 33, Average Loss: 82.46356446956231, Test Loss: 113.44415523575289, Test Accuracy: 8.269352420112014, Best: 8.216822864102312\n"
     ]
    },
    {
     "name": "stderr",
     "output_type": "stream",
     "text": [
      "100%|██████████| 6/6 [00:01<00:00,  3.44it/s]\n"
     ]
    },
    {
     "name": "stdout",
     "output_type": "stream",
     "text": [
      "Current Round: 34, Average Loss: 79.43728181739904, Test Loss: 114.85613785647986, Test Accuracy: 8.26563115220383, Best: 8.216822864102312\n"
     ]
    },
    {
     "name": "stderr",
     "output_type": "stream",
     "text": [
      "100%|██████████| 6/6 [00:01<00:00,  3.50it/s]\n"
     ]
    },
    {
     "name": "stdout",
     "output_type": "stream",
     "text": [
      "Current Round: 35, Average Loss: 78.50739170057116, Test Loss: 114.55168463868611, Test Accuracy: 8.266482890907865, Best: 8.216822864102312\n"
     ]
    },
    {
     "name": "stderr",
     "output_type": "stream",
     "text": [
      "100%|██████████| 6/6 [00:01<00:00,  3.32it/s]\n"
     ]
    },
    {
     "name": "stdout",
     "output_type": "stream",
     "text": [
      "Current Round: 36, Average Loss: 78.54090537580721, Test Loss: 113.50872599228275, Test Accuracy: 8.228622857227348, Best: 8.216822864102312\n"
     ]
    },
    {
     "name": "stderr",
     "output_type": "stream",
     "text": [
      "100%|██████████| 6/6 [00:01<00:00,  3.34it/s]\n"
     ]
    },
    {
     "name": "stdout",
     "output_type": "stream",
     "text": [
      "Current Round: 37, Average Loss: 76.93175476550465, Test Loss: 112.67503007291788, Test Accuracy: 8.222321492588653, Best: 8.216822864102312\n"
     ]
    },
    {
     "name": "stderr",
     "output_type": "stream",
     "text": [
      "100%|██████████| 6/6 [00:01<00:00,  3.30it/s]\n"
     ]
    },
    {
     "name": "stdout",
     "output_type": "stream",
     "text": [
      "Current Round: 38, Average Loss: 76.54715899664195, Test Loss: 107.808105662382, Test Accuracy: 8.048411947200732, Best: 8.048411947200732\n"
     ]
    },
    {
     "name": "stderr",
     "output_type": "stream",
     "text": [
      "100%|██████████| 6/6 [00:01<00:00,  3.44it/s]\n"
     ]
    },
    {
     "name": "stdout",
     "output_type": "stream",
     "text": [
      "Current Round: 39, Average Loss: 75.62134519568879, Test Loss: 107.17682506125581, Test Accuracy: 7.949791155487779, Best: 7.949791155487779\n"
     ]
    },
    {
     "name": "stderr",
     "output_type": "stream",
     "text": [
      "100%|██████████| 6/6 [00:01<00:00,  3.52it/s]\n"
     ]
    },
    {
     "name": "stdout",
     "output_type": "stream",
     "text": [
      "Current Round: 40, Average Loss: 72.1267717226619, Test Loss: 104.4867930600265, Test Accuracy: 7.861022346524944, Best: 7.861022346524944\n"
     ]
    },
    {
     "name": "stderr",
     "output_type": "stream",
     "text": [
      "100%|██████████| 6/6 [00:01<00:00,  3.55it/s]\n"
     ]
    },
    {
     "name": "stdout",
     "output_type": "stream",
     "text": [
      "Current Round: 41, Average Loss: 71.50949690041996, Test Loss: 103.3466461566698, Test Accuracy: 7.82956634814559, Best: 7.82956634814559\n"
     ]
    },
    {
     "name": "stderr",
     "output_type": "stream",
     "text": [
      "100%|██████████| 6/6 [00:01<00:00,  3.39it/s]\n"
     ]
    },
    {
     "name": "stdout",
     "output_type": "stream",
     "text": [
      "Current Round: 42, Average Loss: 75.4455244928512, Test Loss: 103.26420665284921, Test Accuracy: 7.800650264546182, Best: 7.800650264546182\n"
     ]
    },
    {
     "name": "stderr",
     "output_type": "stream",
     "text": [
      "100%|██████████| 6/6 [00:01<00:00,  3.45it/s]\n"
     ]
    },
    {
     "name": "stdout",
     "output_type": "stream",
     "text": [
      "Current Round: 43, Average Loss: 74.39507181776348, Test Loss: 102.94720564171432, Test Accuracy: 7.736714801528344, Best: 7.736714801528344\n"
     ]
    },
    {
     "name": "stderr",
     "output_type": "stream",
     "text": [
      "100%|██████████| 6/6 [00:01<00:00,  3.45it/s]\n"
     ]
    },
    {
     "name": "stdout",
     "output_type": "stream",
     "text": [
      "Current Round: 44, Average Loss: 74.05297613544735, Test Loss: 103.6007814766029, Test Accuracy: 7.741484995372824, Best: 7.736714801528344\n"
     ]
    },
    {
     "name": "stderr",
     "output_type": "stream",
     "text": [
      "100%|██████████| 6/6 [00:01<00:00,  3.38it/s]\n"
     ]
    },
    {
     "name": "stdout",
     "output_type": "stream",
     "text": [
      "Current Round: 45, Average Loss: 72.12157421383431, Test Loss: 101.31321132665931, Test Accuracy: 7.671879471751689, Best: 7.671879471751689\n"
     ]
    },
    {
     "name": "stderr",
     "output_type": "stream",
     "text": [
      "100%|██████████| 6/6 [00:01<00:00,  3.44it/s]\n"
     ]
    },
    {
     "name": "stdout",
     "output_type": "stream",
     "text": [
      "Current Round: 46, Average Loss: 73.20747096817472, Test Loss: 102.26764172411615, Test Accuracy: 7.6607272586562525, Best: 7.6607272586562525\n"
     ]
    },
    {
     "name": "stderr",
     "output_type": "stream",
     "text": [
      "100%|██████████| 6/6 [00:01<00:00,  3.39it/s]\n"
     ]
    },
    {
     "name": "stdout",
     "output_type": "stream",
     "text": [
      "Current Round: 47, Average Loss: 74.72264921515708, Test Loss: 100.50177374847182, Test Accuracy: 7.586828775417701, Best: 7.586828775417701\n"
     ]
    },
    {
     "name": "stderr",
     "output_type": "stream",
     "text": [
      "100%|██████████| 6/6 [00:01<00:00,  3.40it/s]\n"
     ]
    },
    {
     "name": "stdout",
     "output_type": "stream",
     "text": [
      "Current Round: 48, Average Loss: 71.36838711045637, Test Loss: 100.92249097600893, Test Accuracy: 7.595969314764275, Best: 7.586828775417701\n"
     ]
    },
    {
     "name": "stderr",
     "output_type": "stream",
     "text": [
      "100%|██████████| 6/6 [00:01<00:00,  3.42it/s]\n"
     ]
    },
    {
     "name": "stdout",
     "output_type": "stream",
     "text": [
      "Current Round: 49, Average Loss: 72.38470075871969, Test Loss: 101.36614062459365, Test Accuracy: 7.684377901911588, Best: 7.586828775417701\n"
     ]
    },
    {
     "name": "stderr",
     "output_type": "stream",
     "text": [
      "100%|██████████| 6/6 [00:01<00:00,  3.42it/s]\n"
     ]
    },
    {
     "name": "stdout",
     "output_type": "stream",
     "text": [
      "Current Round: 50, Average Loss: 70.05668354047566, Test Loss: 101.46647492986602, Test Accuracy: 7.6860980798468415, Best: 7.586828775417701\n"
     ]
    },
    {
     "name": "stderr",
     "output_type": "stream",
     "text": [
      "100%|██████████| 6/6 [00:01<00:00,  3.42it/s]\n"
     ]
    },
    {
     "name": "stdout",
     "output_type": "stream",
     "text": [
      "Current Round: 51, Average Loss: 69.75569016463307, Test Loss: 101.95504311641132, Test Accuracy: 7.669166522398314, Best: 7.586828775417701\n"
     ]
    },
    {
     "name": "stderr",
     "output_type": "stream",
     "text": [
      "100%|██████████| 6/6 [00:01<00:00,  3.56it/s]\n"
     ]
    },
    {
     "name": "stdout",
     "output_type": "stream",
     "text": [
      "Current Round: 52, Average Loss: 70.55292703298164, Test Loss: 100.73406784679588, Test Accuracy: 7.641813469642157, Best: 7.586828775417701\n"
     ]
    },
    {
     "name": "stderr",
     "output_type": "stream",
     "text": [
      "100%|██████████| 6/6 [00:01<00:00,  3.37it/s]\n"
     ]
    },
    {
     "name": "stdout",
     "output_type": "stream",
     "text": [
      "Current Round: 53, Average Loss: 69.18352812929423, Test Loss: 99.81344401485562, Test Accuracy: 7.637987630813391, Best: 7.586828775417701\n"
     ]
    },
    {
     "name": "stderr",
     "output_type": "stream",
     "text": [
      "100%|██████████| 6/6 [00:01<00:00,  3.27it/s]\n"
     ]
    },
    {
     "name": "stdout",
     "output_type": "stream",
     "text": [
      "Current Round: 54, Average Loss: 68.141477714742, Test Loss: 100.2653038755724, Test Accuracy: 7.6598360375991685, Best: 7.586828775417701\n"
     ]
    },
    {
     "name": "stderr",
     "output_type": "stream",
     "text": [
      "100%|██████████| 6/6 [00:01<00:00,  3.30it/s]\n"
     ]
    },
    {
     "name": "stdout",
     "output_type": "stream",
     "text": [
      "Current Round: 55, Average Loss: 69.0905316436818, Test Loss: 99.82054952795177, Test Accuracy: 7.595346989684832, Best: 7.586828775417701\n"
     ]
    },
    {
     "name": "stderr",
     "output_type": "stream",
     "text": [
      "100%|██████████| 6/6 [00:01<00:00,  3.36it/s]\n"
     ]
    },
    {
     "name": "stdout",
     "output_type": "stream",
     "text": [
      "Current Round: 56, Average Loss: 69.23447502830624, Test Loss: 98.70583065136658, Test Accuracy: 7.535963862063421, Best: 7.535963862063421\n"
     ]
    },
    {
     "name": "stderr",
     "output_type": "stream",
     "text": [
      "100%|██████████| 6/6 [00:01<00:00,  3.37it/s]\n"
     ]
    },
    {
     "name": "stdout",
     "output_type": "stream",
     "text": [
      "Current Round: 57, Average Loss: 69.55405132537607, Test Loss: 96.88676334222342, Test Accuracy: 7.424933269269109, Best: 7.424933269269109\n"
     ]
    },
    {
     "name": "stderr",
     "output_type": "stream",
     "text": [
      "100%|██████████| 6/6 [00:01<00:00,  3.56it/s]\n"
     ]
    },
    {
     "name": "stdout",
     "output_type": "stream",
     "text": [
      "Current Round: 58, Average Loss: 67.51744199242658, Test Loss: 100.07307457225224, Test Accuracy: 7.583090745531198, Best: 7.424933269269109\n"
     ]
    },
    {
     "name": "stderr",
     "output_type": "stream",
     "text": [
      "100%|██████████| 6/6 [00:01<00:00,  3.53it/s]\n"
     ]
    },
    {
     "name": "stdout",
     "output_type": "stream",
     "text": [
      "Current Round: 59, Average Loss: 65.27303113296075, Test Loss: 98.83835707369458, Test Accuracy: 7.50685397340758, Best: 7.424933269269109\n"
     ]
    },
    {
     "name": "stderr",
     "output_type": "stream",
     "text": [
      "100%|██████████| 6/6 [00:01<00:00,  3.42it/s]\n"
     ]
    },
    {
     "name": "stdout",
     "output_type": "stream",
     "text": [
      "Current Round: 60, Average Loss: 67.0072093560575, Test Loss: 97.87178405821484, Test Accuracy: 7.468499714261685, Best: 7.424933269269109\n"
     ]
    },
    {
     "name": "stderr",
     "output_type": "stream",
     "text": [
      "100%|██████████| 6/6 [00:01<00:00,  3.29it/s]\n"
     ]
    },
    {
     "name": "stdout",
     "output_type": "stream",
     "text": [
      "Current Round: 61, Average Loss: 64.99128796184657, Test Loss: 101.15724936890493, Test Accuracy: 7.618033242491541, Best: 7.424933269269109\n"
     ]
    },
    {
     "name": "stderr",
     "output_type": "stream",
     "text": [
      "100%|██████████| 6/6 [00:01<00:00,  3.28it/s]\n"
     ]
    },
    {
     "name": "stdout",
     "output_type": "stream",
     "text": [
      "Current Round: 62, Average Loss: 67.410416358789, Test Loss: 101.81292006726085, Test Accuracy: 7.64195791998465, Best: 7.424933269269109\n"
     ]
    },
    {
     "name": "stderr",
     "output_type": "stream",
     "text": [
      "100%|██████████| 6/6 [00:01<00:00,  3.42it/s]\n"
     ]
    },
    {
     "name": "stdout",
     "output_type": "stream",
     "text": [
      "Current Round: 63, Average Loss: 65.03154036761218, Test Loss: 103.38029897309346, Test Accuracy: 7.74360924287061, Best: 7.424933269269109\n"
     ]
    },
    {
     "name": "stderr",
     "output_type": "stream",
     "text": [
      "100%|██████████| 6/6 [00:01<00:00,  3.38it/s]\n"
     ]
    },
    {
     "name": "stdout",
     "output_type": "stream",
     "text": [
      "Current Round: 64, Average Loss: 66.73062942749839, Test Loss: 99.83672939839195, Test Accuracy: 7.5244114153742645, Best: 7.424933269269109\n"
     ]
    },
    {
     "name": "stderr",
     "output_type": "stream",
     "text": [
      "100%|██████████| 6/6 [00:01<00:00,  3.38it/s]\n"
     ]
    },
    {
     "name": "stdout",
     "output_type": "stream",
     "text": [
      "Current Round: 65, Average Loss: 62.90099436549817, Test Loss: 100.80139164935885, Test Accuracy: 7.589961542368231, Best: 7.424933269269109\n"
     ]
    },
    {
     "name": "stderr",
     "output_type": "stream",
     "text": [
      "100%|██████████| 6/6 [00:01<00:00,  3.49it/s]\n"
     ]
    },
    {
     "name": "stdout",
     "output_type": "stream",
     "text": [
      "Current Round: 66, Average Loss: 63.95140572443176, Test Loss: 100.03498139862972, Test Accuracy: 7.5527128411048405, Best: 7.424933269269109\n"
     ]
    },
    {
     "name": "stderr",
     "output_type": "stream",
     "text": [
      "100%|██████████| 6/6 [00:01<00:00,  3.51it/s]\n"
     ]
    },
    {
     "name": "stdout",
     "output_type": "stream",
     "text": [
      "Current Round: 67, Average Loss: 63.62319371535034, Test Loss: 102.08439926788802, Test Accuracy: 7.648622508090373, Best: 7.424933269269109\n"
     ]
    },
    {
     "name": "stderr",
     "output_type": "stream",
     "text": [
      "100%|██████████| 6/6 [00:01<00:00,  3.43it/s]\n"
     ]
    },
    {
     "name": "stdout",
     "output_type": "stream",
     "text": [
      "Current Round: 68, Average Loss: 64.63006373011608, Test Loss: 102.36795422453272, Test Accuracy: 7.697724026818258, Best: 7.424933269269109\n"
     ]
    },
    {
     "name": "stderr",
     "output_type": "stream",
     "text": [
      "100%|██████████| 6/6 [00:01<00:00,  3.52it/s]\n"
     ]
    },
    {
     "name": "stdout",
     "output_type": "stream",
     "text": [
      "Current Round: 69, Average Loss: 62.403561438872856, Test Loss: 106.77878925075022, Test Accuracy: 7.922306918743375, Best: 7.424933269269109\n"
     ]
    },
    {
     "name": "stderr",
     "output_type": "stream",
     "text": [
      "100%|██████████| 6/6 [00:01<00:00,  3.45it/s]\n"
     ]
    },
    {
     "name": "stdout",
     "output_type": "stream",
     "text": [
      "Current Round: 70, Average Loss: 62.75889416492986, Test Loss: 101.60825544364907, Test Accuracy: 7.682850084931139, Best: 7.424933269269109\n"
     ]
    },
    {
     "name": "stderr",
     "output_type": "stream",
     "text": [
      "100%|██████████| 6/6 [00:01<00:00,  3.44it/s]\n"
     ]
    },
    {
     "name": "stdout",
     "output_type": "stream",
     "text": [
      "Current Round: 71, Average Loss: 62.52871103905704, Test Loss: 100.53321127490113, Test Accuracy: 7.593838149287, Best: 7.424933269269109\n"
     ]
    },
    {
     "name": "stderr",
     "output_type": "stream",
     "text": [
      "100%|██████████| 6/6 [00:01<00:00,  3.39it/s]\n"
     ]
    },
    {
     "name": "stdout",
     "output_type": "stream",
     "text": [
      "Current Round: 72, Average Loss: 63.12739697727468, Test Loss: 98.47305607761093, Test Accuracy: 7.478967276647632, Best: 7.424933269269109\n"
     ]
    },
    {
     "name": "stderr",
     "output_type": "stream",
     "text": [
      "100%|██████████| 6/6 [00:01<00:00,  3.40it/s]\n"
     ]
    },
    {
     "name": "stdout",
     "output_type": "stream",
     "text": [
      "Current Round: 73, Average Loss: 62.17868229283994, Test Loss: 97.48460480147254, Test Accuracy: 7.394223379822912, Best: 7.394223379822912\n"
     ]
    },
    {
     "name": "stderr",
     "output_type": "stream",
     "text": [
      "100%|██████████| 6/6 [00:01<00:00,  3.40it/s]\n"
     ]
    },
    {
     "name": "stdout",
     "output_type": "stream",
     "text": [
      "Current Round: 74, Average Loss: 62.54823818209416, Test Loss: 96.98537700967644, Test Accuracy: 7.384301616947595, Best: 7.384301616947595\n"
     ]
    },
    {
     "name": "stderr",
     "output_type": "stream",
     "text": [
      "100%|██████████| 6/6 [00:01<00:00,  3.55it/s]\n"
     ]
    },
    {
     "name": "stdout",
     "output_type": "stream",
     "text": [
      "Current Round: 75, Average Loss: 62.624247685204175, Test Loss: 96.97865402091023, Test Accuracy: 7.3836239125796554, Best: 7.3836239125796554\n"
     ]
    },
    {
     "name": "stderr",
     "output_type": "stream",
     "text": [
      "100%|██████████| 6/6 [00:01<00:00,  3.42it/s]\n"
     ]
    },
    {
     "name": "stdout",
     "output_type": "stream",
     "text": [
      "Current Round: 76, Average Loss: 62.06751435555685, Test Loss: 105.03852967256415, Test Accuracy: 7.733558895862679, Best: 7.3836239125796554\n"
     ]
    },
    {
     "name": "stderr",
     "output_type": "stream",
     "text": [
      "100%|██████████| 6/6 [00:01<00:00,  3.38it/s]\n"
     ]
    },
    {
     "name": "stdout",
     "output_type": "stream",
     "text": [
      "Current Round: 77, Average Loss: 61.60106736180933, Test Loss: 102.71883490729657, Test Accuracy: 7.621133218172019, Best: 7.3836239125796554\n"
     ]
    },
    {
     "name": "stderr",
     "output_type": "stream",
     "text": [
      "100%|██████████| 6/6 [00:01<00:00,  3.38it/s]\n"
     ]
    },
    {
     "name": "stdout",
     "output_type": "stream",
     "text": [
      "Current Round: 78, Average Loss: 60.711590683195766, Test Loss: 104.51521042292151, Test Accuracy: 7.684384075386965, Best: 7.3836239125796554\n"
     ]
    },
    {
     "name": "stderr",
     "output_type": "stream",
     "text": [
      "100%|██████████| 6/6 [00:01<00:00,  3.31it/s]\n"
     ]
    },
    {
     "name": "stdout",
     "output_type": "stream",
     "text": [
      "Current Round: 79, Average Loss: 61.888318824689215, Test Loss: 105.64293813010241, Test Accuracy: 7.807327405227604, Best: 7.3836239125796554\n"
     ]
    },
    {
     "name": "stderr",
     "output_type": "stream",
     "text": [
      "100%|██████████| 6/6 [00:01<00:00,  3.38it/s]\n"
     ]
    },
    {
     "name": "stdout",
     "output_type": "stream",
     "text": [
      "Current Round: 80, Average Loss: 60.92988892963016, Test Loss: 105.45817362104081, Test Accuracy: 7.846771760205502, Best: 7.3836239125796554\n"
     ]
    },
    {
     "name": "stderr",
     "output_type": "stream",
     "text": [
      "100%|██████████| 6/6 [00:01<00:00,  3.32it/s]\n"
     ]
    },
    {
     "name": "stdout",
     "output_type": "stream",
     "text": [
      "Current Round: 81, Average Loss: 59.67178590491207, Test Loss: 97.92912088868195, Test Accuracy: 7.479466640373145, Best: 7.3836239125796554\n"
     ]
    },
    {
     "name": "stderr",
     "output_type": "stream",
     "text": [
      "100%|██████████| 6/6 [00:01<00:00,  3.51it/s]\n"
     ]
    },
    {
     "name": "stdout",
     "output_type": "stream",
     "text": [
      "Current Round: 82, Average Loss: 61.940198010758984, Test Loss: 95.37129288660697, Test Accuracy: 7.39517749375127, Best: 7.3836239125796554\n"
     ]
    },
    {
     "name": "stderr",
     "output_type": "stream",
     "text": [
      "100%|██████████| 6/6 [00:01<00:00,  3.49it/s]\n"
     ]
    },
    {
     "name": "stdout",
     "output_type": "stream",
     "text": [
      "Current Round: 83, Average Loss: 60.32976818886345, Test Loss: 93.62364744216832, Test Accuracy: 7.2946359499679625, Best: 7.2946359499679625\n"
     ]
    },
    {
     "name": "stderr",
     "output_type": "stream",
     "text": [
      "100%|██████████| 6/6 [00:01<00:00,  3.46it/s]\n"
     ]
    },
    {
     "name": "stdout",
     "output_type": "stream",
     "text": [
      "Current Round: 84, Average Loss: 59.535066908838594, Test Loss: 94.26334754156487, Test Accuracy: 7.311000727070899, Best: 7.2946359499679625\n"
     ]
    },
    {
     "name": "stderr",
     "output_type": "stream",
     "text": [
      "100%|██████████| 6/6 [00:01<00:00,  3.50it/s]\n"
     ]
    },
    {
     "name": "stdout",
     "output_type": "stream",
     "text": [
      "Current Round: 85, Average Loss: 58.90713997791996, Test Loss: 92.12195889194423, Test Accuracy: 7.157190632495148, Best: 7.157190632495148\n"
     ]
    },
    {
     "name": "stderr",
     "output_type": "stream",
     "text": [
      "100%|██████████| 6/6 [00:01<00:00,  3.61it/s]\n"
     ]
    },
    {
     "name": "stdout",
     "output_type": "stream",
     "text": [
      "Current Round: 86, Average Loss: 60.22827758896823, Test Loss: 91.19962896405612, Test Accuracy: 7.114451572649837, Best: 7.114451572649837\n"
     ]
    },
    {
     "name": "stderr",
     "output_type": "stream",
     "text": [
      "100%|██████████| 6/6 [00:01<00:00,  3.47it/s]\n"
     ]
    },
    {
     "name": "stdout",
     "output_type": "stream",
     "text": [
      "Current Round: 87, Average Loss: 59.702900787317766, Test Loss: 93.25406853429963, Test Accuracy: 7.2100749435330265, Best: 7.114451572649837\n"
     ]
    },
    {
     "name": "stderr",
     "output_type": "stream",
     "text": [
      "100%|██████████| 6/6 [00:01<00:00,  3.44it/s]\n"
     ]
    },
    {
     "name": "stdout",
     "output_type": "stream",
     "text": [
      "Current Round: 88, Average Loss: 60.21998858993927, Test Loss: 91.4236120970128, Test Accuracy: 7.146373557335382, Best: 7.114451572649837\n"
     ]
    },
    {
     "name": "stderr",
     "output_type": "stream",
     "text": [
      "100%|██████████| 6/6 [00:01<00:00,  3.49it/s]\n"
     ]
    },
    {
     "name": "stdout",
     "output_type": "stream",
     "text": [
      "Current Round: 89, Average Loss: 59.767211071466214, Test Loss: 93.86155051827579, Test Accuracy: 7.25324792873756, Best: 7.114451572649837\n"
     ]
    },
    {
     "name": "stderr",
     "output_type": "stream",
     "text": [
      "100%|██████████| 6/6 [00:01<00:00,  3.49it/s]\n"
     ]
    },
    {
     "name": "stdout",
     "output_type": "stream",
     "text": [
      "Current Round: 90, Average Loss: 59.26692576787517, Test Loss: 96.08427034533563, Test Accuracy: 7.377305492888005, Best: 7.114451572649837\n"
     ]
    },
    {
     "name": "stderr",
     "output_type": "stream",
     "text": [
      "100%|██████████| 6/6 [00:01<00:00,  3.42it/s]\n"
     ]
    },
    {
     "name": "stdout",
     "output_type": "stream",
     "text": [
      "Current Round: 91, Average Loss: 59.40984868904735, Test Loss: 97.2995380192021, Test Accuracy: 7.448823600305796, Best: 7.114451572649837\n"
     ]
    },
    {
     "name": "stderr",
     "output_type": "stream",
     "text": [
      "100%|██████████| 6/6 [00:01<00:00,  3.32it/s]\n"
     ]
    },
    {
     "name": "stdout",
     "output_type": "stream",
     "text": [
      "Current Round: 92, Average Loss: 58.473741652273326, Test Loss: 97.5525635188951, Test Accuracy: 7.423561885602116, Best: 7.114451572649837\n"
     ]
    },
    {
     "name": "stderr",
     "output_type": "stream",
     "text": [
      "100%|██████████| 6/6 [00:01<00:00,  3.37it/s]\n"
     ]
    },
    {
     "name": "stdout",
     "output_type": "stream",
     "text": [
      "Current Round: 93, Average Loss: 60.37191763327636, Test Loss: 96.24846767256315, Test Accuracy: 7.409264653145602, Best: 7.114451572649837\n"
     ]
    },
    {
     "name": "stderr",
     "output_type": "stream",
     "text": [
      "100%|██████████| 6/6 [00:01<00:00,  3.51it/s]\n"
     ]
    },
    {
     "name": "stdout",
     "output_type": "stream",
     "text": [
      "Current Round: 94, Average Loss: 59.050053516005256, Test Loss: 95.75239218686058, Test Accuracy: 7.395322074086545, Best: 7.114451572649837\n"
     ]
    },
    {
     "name": "stderr",
     "output_type": "stream",
     "text": [
      "100%|██████████| 6/6 [00:01<00:00,  3.70it/s]\n"
     ]
    },
    {
     "name": "stdout",
     "output_type": "stream",
     "text": [
      "Current Round: 95, Average Loss: 60.88703811827386, Test Loss: 94.70619166182652, Test Accuracy: 7.394260550667953, Best: 7.114451572649837\n"
     ]
    },
    {
     "name": "stderr",
     "output_type": "stream",
     "text": [
      "100%|██████████| 6/6 [00:01<00:00,  3.39it/s]\n"
     ]
    },
    {
     "name": "stdout",
     "output_type": "stream",
     "text": [
      "Current Round: 96, Average Loss: 58.933898879260546, Test Loss: 93.58857615074187, Test Accuracy: 7.330381086176952, Best: 7.114451572649837\n"
     ]
    },
    {
     "name": "stderr",
     "output_type": "stream",
     "text": [
      "100%|██████████| 6/6 [00:01<00:00,  3.49it/s]\n"
     ]
    },
    {
     "name": "stdout",
     "output_type": "stream",
     "text": [
      "Current Round: 97, Average Loss: 57.643214691403124, Test Loss: 92.23600306033931, Test Accuracy: 7.252510167704491, Best: 7.114451572649837\n"
     ]
    },
    {
     "name": "stderr",
     "output_type": "stream",
     "text": [
      "100%|██████████| 6/6 [00:01<00:00,  3.33it/s]\n"
     ]
    },
    {
     "name": "stdout",
     "output_type": "stream",
     "text": [
      "Current Round: 98, Average Loss: 58.59962190634886, Test Loss: 91.44526109342085, Test Accuracy: 7.180332810166748, Best: 7.114451572649837\n"
     ]
    },
    {
     "name": "stderr",
     "output_type": "stream",
     "text": [
      "100%|██████████| 6/6 [00:01<00:00,  3.39it/s]\n"
     ]
    },
    {
     "name": "stdout",
     "output_type": "stream",
     "text": [
      "Current Round: 99, Average Loss: 56.84183619248074, Test Loss: 92.2903649779279, Test Accuracy: 7.21877379576956, Best: 7.114451572649837\n"
     ]
    },
    {
     "name": "stderr",
     "output_type": "stream",
     "text": [
      "100%|██████████| 6/6 [00:01<00:00,  3.31it/s]\n"
     ]
    },
    {
     "name": "stdout",
     "output_type": "stream",
     "text": [
      "Current Round: 100, Average Loss: 56.94997000257322, Test Loss: 92.31752687175626, Test Accuracy: 7.21245110758766, Best: 7.114451572649837\n"
     ]
    },
    {
     "name": "stderr",
     "output_type": "stream",
     "text": [
      "100%|██████████| 6/6 [00:01<00:00,  3.61it/s]\n"
     ]
    },
    {
     "name": "stdout",
     "output_type": "stream",
     "text": [
      "Current Round: 101, Average Loss: 56.949791099342804, Test Loss: 94.16896309483856, Test Accuracy: 7.299112556296802, Best: 7.114451572649837\n"
     ]
    },
    {
     "name": "stderr",
     "output_type": "stream",
     "text": [
      "100%|██████████| 6/6 [00:01<00:00,  3.64it/s]\n"
     ]
    },
    {
     "name": "stdout",
     "output_type": "stream",
     "text": [
      "Current Round: 102, Average Loss: 56.70988389666093, Test Loss: 93.86156981526338, Test Accuracy: 7.3009639607633945, Best: 7.114451572649837\n"
     ]
    },
    {
     "name": "stderr",
     "output_type": "stream",
     "text": [
      "100%|██████████| 6/6 [00:01<00:00,  3.47it/s]\n"
     ]
    },
    {
     "name": "stdout",
     "output_type": "stream",
     "text": [
      "Current Round: 103, Average Loss: 56.329857726752216, Test Loss: 87.50190303750715, Test Accuracy: 7.0004733415341285, Best: 7.0004733415341285\n"
     ]
    },
    {
     "name": "stderr",
     "output_type": "stream",
     "text": [
      "100%|██████████| 6/6 [00:01<00:00,  3.56it/s]\n"
     ]
    },
    {
     "name": "stdout",
     "output_type": "stream",
     "text": [
      "Current Round: 104, Average Loss: 57.7464102699981, Test Loss: 88.18197857607917, Test Accuracy: 7.033851365913098, Best: 7.0004733415341285\n"
     ]
    },
    {
     "name": "stderr",
     "output_type": "stream",
     "text": [
      "100%|██████████| 6/6 [00:01<00:00,  3.45it/s]\n"
     ]
    },
    {
     "name": "stdout",
     "output_type": "stream",
     "text": [
      "Current Round: 105, Average Loss: 57.9746847492909, Test Loss: 86.9379241503175, Test Accuracy: 6.963620976444513, Best: 6.963620976444513\n"
     ]
    },
    {
     "name": "stderr",
     "output_type": "stream",
     "text": [
      "100%|██████████| 6/6 [00:01<00:00,  3.45it/s]\n"
     ]
    },
    {
     "name": "stdout",
     "output_type": "stream",
     "text": [
      "Current Round: 106, Average Loss: 56.835462681892665, Test Loss: 87.83489952851295, Test Accuracy: 7.016224789058113, Best: 6.963620976444513\n"
     ]
    },
    {
     "name": "stderr",
     "output_type": "stream",
     "text": [
      "100%|██████████| 6/6 [00:01<00:00,  3.41it/s]\n"
     ]
    },
    {
     "name": "stdout",
     "output_type": "stream",
     "text": [
      "Current Round: 107, Average Loss: 56.5344586468965, Test Loss: 90.77488294784834, Test Accuracy: 7.154861509282941, Best: 6.963620976444513\n"
     ]
    },
    {
     "name": "stderr",
     "output_type": "stream",
     "text": [
      "100%|██████████| 6/6 [00:01<00:00,  3.58it/s]\n"
     ]
    },
    {
     "name": "stdout",
     "output_type": "stream",
     "text": [
      "Current Round: 108, Average Loss: 56.65643567593446, Test Loss: 96.40572271340953, Test Accuracy: 7.433252166785863, Best: 6.963620976444513\n"
     ]
    },
    {
     "name": "stderr",
     "output_type": "stream",
     "text": [
      "100%|██████████| 6/6 [00:01<00:00,  3.43it/s]\n"
     ]
    },
    {
     "name": "stdout",
     "output_type": "stream",
     "text": [
      "Current Round: 109, Average Loss: 55.87181718753228, Test Loss: 92.21039837519402, Test Accuracy: 7.257787775372927, Best: 6.963620976444513\n"
     ]
    },
    {
     "name": "stderr",
     "output_type": "stream",
     "text": [
      "100%|██████████| 6/6 [00:01<00:00,  3.29it/s]\n"
     ]
    },
    {
     "name": "stdout",
     "output_type": "stream",
     "text": [
      "Current Round: 110, Average Loss: 57.69351868703705, Test Loss: 91.41812661648387, Test Accuracy: 7.193832718897634, Best: 6.963620976444513\n"
     ]
    },
    {
     "name": "stderr",
     "output_type": "stream",
     "text": [
      "100%|██████████| 6/6 [00:01<00:00,  3.43it/s]\n"
     ]
    },
    {
     "name": "stdout",
     "output_type": "stream",
     "text": [
      "Current Round: 111, Average Loss: 55.73667135182139, Test Loss: 90.41136242735489, Test Accuracy: 7.1512946987979324, Best: 6.963620976444513\n"
     ]
    },
    {
     "name": "stderr",
     "output_type": "stream",
     "text": [
      "100%|██████████| 6/6 [00:01<00:00,  3.44it/s]\n"
     ]
    },
    {
     "name": "stdout",
     "output_type": "stream",
     "text": [
      "Current Round: 112, Average Loss: 56.0518540915862, Test Loss: 86.24223196664606, Test Accuracy: 6.91429319228086, Best: 6.91429319228086\n"
     ]
    },
    {
     "name": "stderr",
     "output_type": "stream",
     "text": [
      "100%|██████████| 6/6 [00:01<00:00,  3.44it/s]\n"
     ]
    },
    {
     "name": "stdout",
     "output_type": "stream",
     "text": [
      "Current Round: 113, Average Loss: 55.28741087037307, Test Loss: 84.12900633535716, Test Accuracy: 6.8317972322674345, Best: 6.8317972322674345\n"
     ]
    },
    {
     "name": "stderr",
     "output_type": "stream",
     "text": [
      "100%|██████████| 6/6 [00:01<00:00,  3.49it/s]\n"
     ]
    },
    {
     "name": "stdout",
     "output_type": "stream",
     "text": [
      "Current Round: 114, Average Loss: 56.685042412300426, Test Loss: 86.88596157906312, Test Accuracy: 6.956888286302228, Best: 6.8317972322674345\n"
     ]
    },
    {
     "name": "stderr",
     "output_type": "stream",
     "text": [
      "100%|██████████| 6/6 [00:01<00:00,  3.46it/s]\n"
     ]
    },
    {
     "name": "stdout",
     "output_type": "stream",
     "text": [
      "Current Round: 115, Average Loss: 56.608817949001995, Test Loss: 85.44229034967766, Test Accuracy: 6.908586511529216, Best: 6.8317972322674345\n"
     ]
    },
    {
     "name": "stderr",
     "output_type": "stream",
     "text": [
      "100%|██████████| 6/6 [00:01<00:00,  3.36it/s]\n"
     ]
    },
    {
     "name": "stdout",
     "output_type": "stream",
     "text": [
      "Current Round: 116, Average Loss: 55.0891243772466, Test Loss: 87.45474110160582, Test Accuracy: 6.995820039562429, Best: 6.8317972322674345\n"
     ]
    },
    {
     "name": "stderr",
     "output_type": "stream",
     "text": [
      "100%|██████████| 6/6 [00:01<00:00,  3.43it/s]\n"
     ]
    },
    {
     "name": "stdout",
     "output_type": "stream",
     "text": [
      "Current Round: 117, Average Loss: 55.635273311853375, Test Loss: 88.48307553037097, Test Accuracy: 7.02381961496346, Best: 6.8317972322674345\n"
     ]
    },
    {
     "name": "stderr",
     "output_type": "stream",
     "text": [
      "100%|██████████| 6/6 [00:01<00:00,  3.36it/s]\n"
     ]
    },
    {
     "name": "stdout",
     "output_type": "stream",
     "text": [
      "Current Round: 118, Average Loss: 54.77058665049673, Test Loss: 90.65145729682519, Test Accuracy: 7.166459065830841, Best: 6.8317972322674345\n"
     ]
    },
    {
     "name": "stderr",
     "output_type": "stream",
     "text": [
      "100%|██████████| 6/6 [00:01<00:00,  3.42it/s]\n"
     ]
    },
    {
     "name": "stdout",
     "output_type": "stream",
     "text": [
      "Current Round: 119, Average Loss: 55.35652097007107, Test Loss: 88.55932285794538, Test Accuracy: 7.05653240482751, Best: 6.8317972322674345\n"
     ]
    },
    {
     "name": "stderr",
     "output_type": "stream",
     "text": [
      "100%|██████████| 6/6 [00:01<00:00,  3.41it/s]\n"
     ]
    },
    {
     "name": "stdout",
     "output_type": "stream",
     "text": [
      "Current Round: 120, Average Loss: 55.25214336443099, Test Loss: 86.55429149179949, Test Accuracy: 6.960903382803576, Best: 6.8317972322674345\n"
     ]
    },
    {
     "name": "stderr",
     "output_type": "stream",
     "text": [
      "100%|██████████| 6/6 [00:01<00:00,  3.31it/s]\n"
     ]
    },
    {
     "name": "stdout",
     "output_type": "stream",
     "text": [
      "Current Round: 121, Average Loss: 56.78215828325625, Test Loss: 84.81175966333723, Test Accuracy: 6.893741515489316, Best: 6.8317972322674345\n"
     ]
    },
    {
     "name": "stderr",
     "output_type": "stream",
     "text": [
      "100%|██████████| 6/6 [00:01<00:00,  3.30it/s]\n"
     ]
    },
    {
     "name": "stdout",
     "output_type": "stream",
     "text": [
      "Current Round: 122, Average Loss: 55.425256106615954, Test Loss: 79.35670973519336, Test Accuracy: 6.632548002505391, Best: 6.632548002505391\n"
     ]
    },
    {
     "name": "stderr",
     "output_type": "stream",
     "text": [
      "100%|██████████| 6/6 [00:01<00:00,  3.30it/s]\n"
     ]
    },
    {
     "name": "stdout",
     "output_type": "stream",
     "text": [
      "Current Round: 123, Average Loss: 55.270877044457485, Test Loss: 82.16898600682339, Test Accuracy: 6.741773818062141, Best: 6.632548002505391\n"
     ]
    },
    {
     "name": "stderr",
     "output_type": "stream",
     "text": [
      "100%|██████████| 6/6 [00:01<00:00,  3.41it/s]\n"
     ]
    },
    {
     "name": "stdout",
     "output_type": "stream",
     "text": [
      "Current Round: 124, Average Loss: 54.77015385674398, Test Loss: 80.01616498296146, Test Accuracy: 6.6557717163766625, Best: 6.632548002505391\n"
     ]
    },
    {
     "name": "stderr",
     "output_type": "stream",
     "text": [
      "100%|██████████| 6/6 [00:01<00:00,  3.49it/s]\n"
     ]
    },
    {
     "name": "stdout",
     "output_type": "stream",
     "text": [
      "Current Round: 125, Average Loss: 55.02789614649701, Test Loss: 79.20139535972122, Test Accuracy: 6.616177857882324, Best: 6.616177857882324\n"
     ]
    },
    {
     "name": "stderr",
     "output_type": "stream",
     "text": [
      "100%|██████████| 6/6 [00:01<00:00,  3.47it/s]\n"
     ]
    },
    {
     "name": "stdout",
     "output_type": "stream",
     "text": [
      "Current Round: 126, Average Loss: 56.6369312290845, Test Loss: 78.12973046637009, Test Accuracy: 6.590700284255925, Best: 6.590700284255925\n"
     ]
    },
    {
     "name": "stderr",
     "output_type": "stream",
     "text": [
      "100%|██████████| 6/6 [00:01<00:00,  3.46it/s]\n"
     ]
    },
    {
     "name": "stdout",
     "output_type": "stream",
     "text": [
      "Current Round: 127, Average Loss: 55.78755159523922, Test Loss: 80.45053294910375, Test Accuracy: 6.6942000974066636, Best: 6.590700284255925\n"
     ]
    },
    {
     "name": "stderr",
     "output_type": "stream",
     "text": [
      "100%|██████████| 6/6 [00:01<00:00,  3.42it/s]\n"
     ]
    },
    {
     "name": "stdout",
     "output_type": "stream",
     "text": [
      "Current Round: 128, Average Loss: 55.61722641600974, Test Loss: 82.22908228859906, Test Accuracy: 6.76442964310392, Best: 6.590700284255925\n"
     ]
    },
    {
     "name": "stderr",
     "output_type": "stream",
     "text": [
      "100%|██████████| 6/6 [00:01<00:00,  3.67it/s]\n"
     ]
    },
    {
     "name": "stdout",
     "output_type": "stream",
     "text": [
      "Current Round: 129, Average Loss: 54.623776650714596, Test Loss: 84.18636007911654, Test Accuracy: 6.826123858029957, Best: 6.590700284255925\n"
     ]
    },
    {
     "name": "stderr",
     "output_type": "stream",
     "text": [
      "100%|██████████| 6/6 [00:01<00:00,  3.69it/s]\n"
     ]
    },
    {
     "name": "stdout",
     "output_type": "stream",
     "text": [
      "Current Round: 130, Average Loss: 55.045766334626, Test Loss: 85.43635873191862, Test Accuracy: 6.9055625296289005, Best: 6.590700284255925\n"
     ]
    },
    {
     "name": "stderr",
     "output_type": "stream",
     "text": [
      "100%|██████████| 6/6 [00:01<00:00,  3.72it/s]\n"
     ]
    },
    {
     "name": "stdout",
     "output_type": "stream",
     "text": [
      "Current Round: 131, Average Loss: 55.51239990622967, Test Loss: 85.96634207983516, Test Accuracy: 6.922894951727015, Best: 6.590700284255925\n"
     ]
    },
    {
     "name": "stderr",
     "output_type": "stream",
     "text": [
      "100%|██████████| 6/6 [00:01<00:00,  3.40it/s]\n"
     ]
    },
    {
     "name": "stdout",
     "output_type": "stream",
     "text": [
      "Current Round: 132, Average Loss: 56.00680778327027, Test Loss: 90.19596638849012, Test Accuracy: 7.111237898191998, Best: 6.590700284255925\n"
     ]
    },
    {
     "name": "stderr",
     "output_type": "stream",
     "text": [
      "100%|██████████| 6/6 [00:01<00:00,  3.32it/s]\n"
     ]
    },
    {
     "name": "stdout",
     "output_type": "stream",
     "text": [
      "Current Round: 133, Average Loss: 55.01936049716473, Test Loss: 91.95916668420641, Test Accuracy: 7.198239675094056, Best: 6.590700284255925\n"
     ]
    },
    {
     "name": "stderr",
     "output_type": "stream",
     "text": [
      "100%|██████████| 6/6 [00:01<00:00,  3.35it/s]\n"
     ]
    },
    {
     "name": "stdout",
     "output_type": "stream",
     "text": [
      "Current Round: 134, Average Loss: 54.61622786843876, Test Loss: 90.2691632753245, Test Accuracy: 7.11513581447294, Best: 6.590700284255925\n"
     ]
    },
    {
     "name": "stderr",
     "output_type": "stream",
     "text": [
      "100%|██████████| 6/6 [00:01<00:00,  3.39it/s]\n"
     ]
    },
    {
     "name": "stdout",
     "output_type": "stream",
     "text": [
      "Current Round: 135, Average Loss: 54.98207101735494, Test Loss: 85.86161312706943, Test Accuracy: 6.930888564760948, Best: 6.590700284255925\n"
     ]
    },
    {
     "name": "stderr",
     "output_type": "stream",
     "text": [
      "100%|██████████| 6/6 [00:01<00:00,  3.56it/s]\n"
     ]
    },
    {
     "name": "stdout",
     "output_type": "stream",
     "text": [
      "Current Round: 136, Average Loss: 54.28082083193777, Test Loss: 86.03360791502882, Test Accuracy: 6.906430607243837, Best: 6.590700284255925\n"
     ]
    },
    {
     "name": "stderr",
     "output_type": "stream",
     "text": [
      "100%|██████████| 6/6 [00:01<00:00,  3.47it/s]\n"
     ]
    },
    {
     "name": "stdout",
     "output_type": "stream",
     "text": [
      "Current Round: 137, Average Loss: 54.41040853726662, Test Loss: 85.34903153946999, Test Accuracy: 6.879606551840403, Best: 6.590700284255925\n"
     ]
    },
    {
     "name": "stderr",
     "output_type": "stream",
     "text": [
      "100%|██████████| 6/6 [00:01<00:00,  3.40it/s]\n"
     ]
    },
    {
     "name": "stdout",
     "output_type": "stream",
     "text": [
      "Current Round: 138, Average Loss: 54.397056298724415, Test Loss: 88.4341112917827, Test Accuracy: 7.008587394062028, Best: 6.590700284255925\n"
     ]
    },
    {
     "name": "stderr",
     "output_type": "stream",
     "text": [
      "100%|██████████| 6/6 [00:01<00:00,  3.39it/s]\n"
     ]
    },
    {
     "name": "stdout",
     "output_type": "stream",
     "text": [
      "Current Round: 139, Average Loss: 54.17478684723928, Test Loss: 82.07023884447423, Test Accuracy: 6.736341901871351, Best: 6.590700284255925\n"
     ]
    },
    {
     "name": "stderr",
     "output_type": "stream",
     "text": [
      "100%|██████████| 6/6 [00:01<00:00,  3.41it/s]\n"
     ]
    },
    {
     "name": "stdout",
     "output_type": "stream",
     "text": [
      "Current Round: 140, Average Loss: 54.35363008740421, Test Loss: 80.92164933873522, Test Accuracy: 6.68089884837173, Best: 6.590700284255925\n"
     ]
    },
    {
     "name": "stderr",
     "output_type": "stream",
     "text": [
      "100%|██████████| 6/6 [00:01<00:00,  3.38it/s]\n"
     ]
    },
    {
     "name": "stdout",
     "output_type": "stream",
     "text": [
      "Current Round: 141, Average Loss: 54.40058275738974, Test Loss: 85.02581015039037, Test Accuracy: 6.889899314114595, Best: 6.590700284255925\n"
     ]
    },
    {
     "name": "stderr",
     "output_type": "stream",
     "text": [
      "100%|██████████| 6/6 [00:01<00:00,  3.41it/s]\n"
     ]
    },
    {
     "name": "stdout",
     "output_type": "stream",
     "text": [
      "Current Round: 142, Average Loss: 53.9381742823694, Test Loss: 82.52414990674308, Test Accuracy: 6.773380496983487, Best: 6.590700284255925\n"
     ]
    },
    {
     "name": "stderr",
     "output_type": "stream",
     "text": [
      "100%|██████████| 6/6 [00:01<00:00,  3.44it/s]\n"
     ]
    },
    {
     "name": "stdout",
     "output_type": "stream",
     "text": [
      "Current Round: 143, Average Loss: 54.26910241747159, Test Loss: 84.73584733339767, Test Accuracy: 6.861032015624395, Best: 6.590700284255925\n"
     ]
    },
    {
     "name": "stderr",
     "output_type": "stream",
     "text": [
      "100%|██████████| 6/6 [00:01<00:00,  3.45it/s]\n"
     ]
    },
    {
     "name": "stdout",
     "output_type": "stream",
     "text": [
      "Current Round: 144, Average Loss: 54.21480258338721, Test Loss: 87.48900356611595, Test Accuracy: 6.997644814416821, Best: 6.590700284255925\n"
     ]
    },
    {
     "name": "stderr",
     "output_type": "stream",
     "text": [
      "100%|██████████| 6/6 [00:01<00:00,  3.40it/s]\n"
     ]
    },
    {
     "name": "stdout",
     "output_type": "stream",
     "text": [
      "Current Round: 145, Average Loss: 55.294287737792104, Test Loss: 85.36644083264721, Test Accuracy: 6.901805170997515, Best: 6.590700284255925\n"
     ]
    },
    {
     "name": "stderr",
     "output_type": "stream",
     "text": [
      "100%|██████████| 6/6 [00:01<00:00,  3.39it/s]\n"
     ]
    },
    {
     "name": "stdout",
     "output_type": "stream",
     "text": [
      "Current Round: 146, Average Loss: 54.0137107870673, Test Loss: 89.28076184896436, Test Accuracy: 7.125544350681991, Best: 6.590700284255925\n"
     ]
    },
    {
     "name": "stderr",
     "output_type": "stream",
     "text": [
      "100%|██████████| 6/6 [00:01<00:00,  3.47it/s]\n"
     ]
    },
    {
     "name": "stdout",
     "output_type": "stream",
     "text": [
      "Current Round: 147, Average Loss: 53.77204946803377, Test Loss: 89.13040897797659, Test Accuracy: 7.132275568360585, Best: 6.590700284255925\n"
     ]
    },
    {
     "name": "stderr",
     "output_type": "stream",
     "text": [
      "100%|██████████| 6/6 [00:01<00:00,  3.49it/s]\n"
     ]
    },
    {
     "name": "stdout",
     "output_type": "stream",
     "text": [
      "Current Round: 148, Average Loss: 54.16229512216106, Test Loss: 84.86575788276961, Test Accuracy: 6.9217733527352525, Best: 6.590700284255925\n"
     ]
    },
    {
     "name": "stderr",
     "output_type": "stream",
     "text": [
      "100%|██████████| 6/6 [00:01<00:00,  3.27it/s]\n"
     ]
    },
    {
     "name": "stdout",
     "output_type": "stream",
     "text": [
      "Current Round: 149, Average Loss: 54.68289629394922, Test Loss: 85.48092995307961, Test Accuracy: 6.953244059206976, Best: 6.590700284255925\n"
     ]
    },
    {
     "name": "stderr",
     "output_type": "stream",
     "text": [
      "100%|██████████| 6/6 [00:01<00:00,  3.37it/s]\n"
     ]
    },
    {
     "name": "stdout",
     "output_type": "stream",
     "text": [
      "Current Round: 150, Average Loss: 53.66720436462706, Test Loss: 85.34176667546103, Test Accuracy: 6.946700775638093, Best: 6.590700284255925\n"
     ]
    },
    {
     "name": "stderr",
     "output_type": "stream",
     "text": [
      "100%|██████████| 6/6 [00:01<00:00,  3.31it/s]\n"
     ]
    },
    {
     "name": "stdout",
     "output_type": "stream",
     "text": [
      "Current Round: 151, Average Loss: 54.297933933310105, Test Loss: 87.64412951248305, Test Accuracy: 7.052085573936188, Best: 6.590700284255925\n"
     ]
    },
    {
     "name": "stderr",
     "output_type": "stream",
     "text": [
      "100%|██████████| 6/6 [00:01<00:00,  3.40it/s]\n"
     ]
    },
    {
     "name": "stdout",
     "output_type": "stream",
     "text": [
      "Current Round: 152, Average Loss: 53.98140752212032, Test Loss: 88.51720023403566, Test Accuracy: 7.115491323459252, Best: 6.590700284255925\n"
     ]
    },
    {
     "name": "stderr",
     "output_type": "stream",
     "text": [
      "100%|██████████| 6/6 [00:01<00:00,  3.53it/s]\n"
     ]
    },
    {
     "name": "stdout",
     "output_type": "stream",
     "text": [
      "Current Round: 153, Average Loss: 53.153061614592445, Test Loss: 82.93230986765262, Test Accuracy: 6.838590331237112, Best: 6.590700284255925\n"
     ]
    },
    {
     "name": "stderr",
     "output_type": "stream",
     "text": [
      "100%|██████████| 6/6 [00:01<00:00,  3.45it/s]\n"
     ]
    },
    {
     "name": "stdout",
     "output_type": "stream",
     "text": [
      "Current Round: 154, Average Loss: 52.97020947941411, Test Loss: 81.30232792319049, Test Accuracy: 6.764535409958094, Best: 6.590700284255925\n"
     ]
    },
    {
     "name": "stderr",
     "output_type": "stream",
     "text": [
      "100%|██████████| 6/6 [00:01<00:00,  3.58it/s]\n"
     ]
    },
    {
     "name": "stdout",
     "output_type": "stream",
     "text": [
      "Current Round: 155, Average Loss: 53.79282456533761, Test Loss: 81.14754205258261, Test Accuracy: 6.731475740264931, Best: 6.590700284255925\n"
     ]
    },
    {
     "name": "stderr",
     "output_type": "stream",
     "text": [
      "100%|██████████| 6/6 [00:01<00:00,  3.66it/s]\n"
     ]
    },
    {
     "name": "stdout",
     "output_type": "stream",
     "text": [
      "Current Round: 156, Average Loss: 53.847527061494986, Test Loss: 80.62866030594674, Test Accuracy: 6.743189151106861, Best: 6.590700284255925\n"
     ]
    },
    {
     "name": "stderr",
     "output_type": "stream",
     "text": [
      "100%|██████████| 6/6 [00:01<00:00,  3.70it/s]\n"
     ]
    },
    {
     "name": "stdout",
     "output_type": "stream",
     "text": [
      "Current Round: 157, Average Loss: 53.705628634911854, Test Loss: 87.79949453903323, Test Accuracy: 7.047396821751175, Best: 6.590700284255925\n"
     ]
    },
    {
     "name": "stderr",
     "output_type": "stream",
     "text": [
      "100%|██████████| 6/6 [00:01<00:00,  3.43it/s]\n"
     ]
    },
    {
     "name": "stdout",
     "output_type": "stream",
     "text": [
      "Current Round: 158, Average Loss: 53.84972963251243, Test Loss: 84.97624987814359, Test Accuracy: 6.95071801347508, Best: 6.590700284255925\n"
     ]
    },
    {
     "name": "stderr",
     "output_type": "stream",
     "text": [
      "100%|██████████| 6/6 [00:01<00:00,  3.40it/s]\n"
     ]
    },
    {
     "name": "stdout",
     "output_type": "stream",
     "text": [
      "Current Round: 159, Average Loss: 53.54829668594619, Test Loss: 82.96012130167331, Test Accuracy: 6.9004949666605855, Best: 6.590700284255925\n"
     ]
    },
    {
     "name": "stderr",
     "output_type": "stream",
     "text": [
      "100%|██████████| 6/6 [00:01<00:00,  3.39it/s]\n"
     ]
    },
    {
     "name": "stdout",
     "output_type": "stream",
     "text": [
      "Current Round: 160, Average Loss: 53.603016803986414, Test Loss: 82.1070884307004, Test Accuracy: 6.87408730177188, Best: 6.590700284255925\n"
     ]
    },
    {
     "name": "stderr",
     "output_type": "stream",
     "text": [
      "100%|██████████| 6/6 [00:01<00:00,  3.39it/s]\n"
     ]
    },
    {
     "name": "stdout",
     "output_type": "stream",
     "text": [
      "Current Round: 161, Average Loss: 53.52099433259989, Test Loss: 82.55803775435598, Test Accuracy: 6.865952024967992, Best: 6.590700284255925\n"
     ]
    },
    {
     "name": "stderr",
     "output_type": "stream",
     "text": [
      "100%|██████████| 6/6 [00:01<00:00,  3.40it/s]\n"
     ]
    },
    {
     "name": "stdout",
     "output_type": "stream",
     "text": [
      "Current Round: 162, Average Loss: 53.745572400484036, Test Loss: 76.92442744722892, Test Accuracy: 6.590284725694999, Best: 6.590284725694999\n"
     ]
    },
    {
     "name": "stderr",
     "output_type": "stream",
     "text": [
      "100%|██████████| 6/6 [00:01<00:00,  3.54it/s]\n"
     ]
    },
    {
     "name": "stdout",
     "output_type": "stream",
     "text": [
      "Current Round: 163, Average Loss: 53.99054137875559, Test Loss: 80.71536675445468, Test Accuracy: 6.7702078813366136, Best: 6.590284725694999\n"
     ]
    },
    {
     "name": "stderr",
     "output_type": "stream",
     "text": [
      "100%|██████████| 6/6 [00:01<00:00,  3.40it/s]\n"
     ]
    },
    {
     "name": "stdout",
     "output_type": "stream",
     "text": [
      "Current Round: 164, Average Loss: 53.3339482788148, Test Loss: 79.70989083601197, Test Accuracy: 6.764828427869, Best: 6.590284725694999\n"
     ]
    },
    {
     "name": "stderr",
     "output_type": "stream",
     "text": [
      "100%|██████████| 6/6 [00:01<00:00,  3.45it/s]\n"
     ]
    },
    {
     "name": "stdout",
     "output_type": "stream",
     "text": [
      "Current Round: 165, Average Loss: 54.100253247091125, Test Loss: 80.92954867277318, Test Accuracy: 6.828381884644614, Best: 6.590284725694999\n"
     ]
    },
    {
     "name": "stderr",
     "output_type": "stream",
     "text": [
      "100%|██████████| 6/6 [00:01<00:00,  3.41it/s]\n"
     ]
    },
    {
     "name": "stdout",
     "output_type": "stream",
     "text": [
      "Current Round: 166, Average Loss: 53.034885609923634, Test Loss: 84.54369258085703, Test Accuracy: 6.995706333694552, Best: 6.590284725694999\n"
     ]
    },
    {
     "name": "stderr",
     "output_type": "stream",
     "text": [
      "100%|██████████| 6/6 [00:01<00:00,  3.41it/s]\n"
     ]
    },
    {
     "name": "stdout",
     "output_type": "stream",
     "text": [
      "Current Round: 167, Average Loss: 53.77128406142308, Test Loss: 84.29054301227484, Test Accuracy: 6.955869797584883, Best: 6.590284725694999\n"
     ]
    },
    {
     "name": "stderr",
     "output_type": "stream",
     "text": [
      "100%|██████████| 6/6 [00:01<00:00,  3.41it/s]\n"
     ]
    },
    {
     "name": "stdout",
     "output_type": "stream",
     "text": [
      "Current Round: 168, Average Loss: 53.97485632395078, Test Loss: 86.73456615676741, Test Accuracy: 7.099499507464441, Best: 6.590284725694999\n"
     ]
    },
    {
     "name": "stderr",
     "output_type": "stream",
     "text": [
      "100%|██████████| 6/6 [00:01<00:00,  3.38it/s]\n"
     ]
    },
    {
     "name": "stdout",
     "output_type": "stream",
     "text": [
      "Current Round: 169, Average Loss: 53.38601307608101, Test Loss: 85.47967365986835, Test Accuracy: 7.058225950787058, Best: 6.590284725694999\n"
     ]
    },
    {
     "name": "stderr",
     "output_type": "stream",
     "text": [
      "100%|██████████| 6/6 [00:01<00:00,  3.44it/s]\n"
     ]
    },
    {
     "name": "stdout",
     "output_type": "stream",
     "text": [
      "Current Round: 170, Average Loss: 54.13902278484942, Test Loss: 84.49959916549433, Test Accuracy: 7.025354146661959, Best: 6.590284725694999\n"
     ]
    },
    {
     "name": "stderr",
     "output_type": "stream",
     "text": [
      "100%|██████████| 6/6 [00:01<00:00,  3.65it/s]\n"
     ]
    },
    {
     "name": "stdout",
     "output_type": "stream",
     "text": [
      "Current Round: 171, Average Loss: 53.25114741199877, Test Loss: 82.06774195643256, Test Accuracy: 6.912860402387314, Best: 6.590284725694999\n"
     ]
    },
    {
     "name": "stderr",
     "output_type": "stream",
     "text": [
      "100%|██████████| 6/6 [00:01<00:00,  3.51it/s]\n"
     ]
    },
    {
     "name": "stdout",
     "output_type": "stream",
     "text": [
      "Current Round: 172, Average Loss: 53.41519517942584, Test Loss: 80.49306397439157, Test Accuracy: 6.854006640825426, Best: 6.590284725694999\n"
     ]
    },
    {
     "name": "stderr",
     "output_type": "stream",
     "text": [
      "100%|██████████| 6/6 [00:01<00:00,  3.43it/s]\n"
     ]
    },
    {
     "name": "stdout",
     "output_type": "stream",
     "text": [
      "Current Round: 173, Average Loss: 55.188762230503166, Test Loss: 76.79829681946295, Test Accuracy: 6.699390806082309, Best: 6.590284725694999\n"
     ]
    },
    {
     "name": "stderr",
     "output_type": "stream",
     "text": [
      "100%|██████████| 6/6 [00:01<00:00,  3.42it/s]\n"
     ]
    },
    {
     "name": "stdout",
     "output_type": "stream",
     "text": [
      "Current Round: 174, Average Loss: 52.42169417473539, Test Loss: 79.59573956931187, Test Accuracy: 6.841296946396763, Best: 6.590284725694999\n"
     ]
    },
    {
     "name": "stderr",
     "output_type": "stream",
     "text": [
      "100%|██████████| 6/6 [00:01<00:00,  3.45it/s]\n"
     ]
    },
    {
     "name": "stdout",
     "output_type": "stream",
     "text": [
      "Current Round: 175, Average Loss: 53.77304525918765, Test Loss: 83.96910752038283, Test Accuracy: 7.032784517517468, Best: 6.590284725694999\n"
     ]
    },
    {
     "name": "stderr",
     "output_type": "stream",
     "text": [
      "100%|██████████| 6/6 [00:01<00:00,  3.40it/s]\n"
     ]
    },
    {
     "name": "stdout",
     "output_type": "stream",
     "text": [
      "Current Round: 176, Average Loss: 53.23342581729645, Test Loss: 81.16788472555568, Test Accuracy: 6.918719486676184, Best: 6.590284725694999\n"
     ]
    },
    {
     "name": "stderr",
     "output_type": "stream",
     "text": [
      "100%|██████████| 6/6 [00:01<00:00,  3.41it/s]\n"
     ]
    },
    {
     "name": "stdout",
     "output_type": "stream",
     "text": [
      "Current Round: 177, Average Loss: 52.91841911648658, Test Loss: 84.14770323124885, Test Accuracy: 7.052650631286546, Best: 6.590284725694999\n"
     ]
    },
    {
     "name": "stderr",
     "output_type": "stream",
     "text": [
      "100%|██████████| 6/6 [00:01<00:00,  3.43it/s]\n"
     ]
    },
    {
     "name": "stdout",
     "output_type": "stream",
     "text": [
      "Current Round: 178, Average Loss: 53.322634002271066, Test Loss: 85.40447201770229, Test Accuracy: 7.1321305767754195, Best: 6.590284725694999\n"
     ]
    },
    {
     "name": "stderr",
     "output_type": "stream",
     "text": [
      "100%|██████████| 6/6 [00:01<00:00,  3.43it/s]\n"
     ]
    },
    {
     "name": "stdout",
     "output_type": "stream",
     "text": [
      "Current Round: 179, Average Loss: 53.61409768017425, Test Loss: 87.48653259848001, Test Accuracy: 7.240583644332792, Best: 6.590284725694999\n"
     ]
    },
    {
     "name": "stderr",
     "output_type": "stream",
     "text": [
      "100%|██████████| 6/6 [00:01<00:00,  3.44it/s]\n"
     ]
    },
    {
     "name": "stdout",
     "output_type": "stream",
     "text": [
      "Current Round: 180, Average Loss: 53.63921723747543, Test Loss: 84.38123081337841, Test Accuracy: 7.0875890157479775, Best: 6.590284725694999\n"
     ]
    },
    {
     "name": "stderr",
     "output_type": "stream",
     "text": [
      "100%|██████████| 6/6 [00:01<00:00,  3.34it/s]\n"
     ]
    },
    {
     "name": "stdout",
     "output_type": "stream",
     "text": [
      "Current Round: 181, Average Loss: 52.68896076109877, Test Loss: 86.33895612473668, Test Accuracy: 7.202806111162037, Best: 6.590284725694999\n"
     ]
    },
    {
     "name": "stderr",
     "output_type": "stream",
     "text": [
      "100%|██████████| 6/6 [00:01<00:00,  3.36it/s]\n"
     ]
    },
    {
     "name": "stdout",
     "output_type": "stream",
     "text": [
      "Current Round: 182, Average Loss: 53.11294448994992, Test Loss: 84.16039416460318, Test Accuracy: 7.061333009892384, Best: 6.590284725694999\n"
     ]
    },
    {
     "name": "stderr",
     "output_type": "stream",
     "text": [
      "100%|██████████| 6/6 [00:01<00:00,  3.36it/s]\n"
     ]
    },
    {
     "name": "stdout",
     "output_type": "stream",
     "text": [
      "Current Round: 183, Average Loss: 53.32384656220407, Test Loss: 82.7452205848295, Test Accuracy: 6.9941012490046806, Best: 6.590284725694999\n"
     ]
    },
    {
     "name": "stderr",
     "output_type": "stream",
     "text": [
      "100%|██████████| 6/6 [00:01<00:00,  3.36it/s]\n"
     ]
    },
    {
     "name": "stdout",
     "output_type": "stream",
     "text": [
      "Current Round: 184, Average Loss: 53.26840734508094, Test Loss: 83.58851502871296, Test Accuracy: 7.046367524724911, Best: 6.590284725694999\n"
     ]
    },
    {
     "name": "stderr",
     "output_type": "stream",
     "text": [
      "100%|██████████| 6/6 [00:01<00:00,  3.64it/s]\n"
     ]
    },
    {
     "name": "stdout",
     "output_type": "stream",
     "text": [
      "Current Round: 185, Average Loss: 52.37199933597564, Test Loss: 81.00173164025651, Test Accuracy: 6.918090787223428, Best: 6.590284725694999\n"
     ]
    },
    {
     "name": "stderr",
     "output_type": "stream",
     "text": [
      "100%|██████████| 6/6 [00:01<00:00,  3.38it/s]\n"
     ]
    },
    {
     "name": "stdout",
     "output_type": "stream",
     "text": [
      "Current Round: 186, Average Loss: 54.45803621075806, Test Loss: 80.66116792478748, Test Accuracy: 6.902838689243927, Best: 6.590284725694999\n"
     ]
    },
    {
     "name": "stderr",
     "output_type": "stream",
     "text": [
      "100%|██████████| 6/6 [00:01<00:00,  3.47it/s]\n"
     ]
    },
    {
     "name": "stdout",
     "output_type": "stream",
     "text": [
      "Current Round: 187, Average Loss: 52.57771241870221, Test Loss: 78.87194787254477, Test Accuracy: 6.806327013868972, Best: 6.590284725694999\n"
     ]
    },
    {
     "name": "stderr",
     "output_type": "stream",
     "text": [
      "100%|██████████| 6/6 [00:01<00:00,  3.45it/s]\n"
     ]
    },
    {
     "name": "stdout",
     "output_type": "stream",
     "text": [
      "Current Round: 188, Average Loss: 52.50520546350561, Test Loss: 79.64691873093665, Test Accuracy: 6.885750807203177, Best: 6.590284725694999\n"
     ]
    },
    {
     "name": "stderr",
     "output_type": "stream",
     "text": [
      "100%|██████████| 6/6 [00:01<00:00,  3.49it/s]\n"
     ]
    },
    {
     "name": "stdout",
     "output_type": "stream",
     "text": [
      "Current Round: 189, Average Loss: 53.35070941158116, Test Loss: 77.1534272348312, Test Accuracy: 6.758022771596613, Best: 6.590284725694999\n"
     ]
    },
    {
     "name": "stderr",
     "output_type": "stream",
     "text": [
      "100%|██████████| 6/6 [00:01<00:00,  3.48it/s]\n"
     ]
    },
    {
     "name": "stdout",
     "output_type": "stream",
     "text": [
      "Current Round: 190, Average Loss: 53.06376821311098, Test Loss: 77.12837585044593, Test Accuracy: 6.77008135581696, Best: 6.590284725694999\n"
     ]
    },
    {
     "name": "stderr",
     "output_type": "stream",
     "text": [
      "100%|██████████| 6/6 [00:01<00:00,  3.54it/s]\n"
     ]
    },
    {
     "name": "stdout",
     "output_type": "stream",
     "text": [
      "Current Round: 191, Average Loss: 53.29450454783535, Test Loss: 81.10498114669974, Test Accuracy: 6.991910473564744, Best: 6.590284725694999\n"
     ]
    },
    {
     "name": "stderr",
     "output_type": "stream",
     "text": [
      "100%|██████████| 6/6 [00:01<00:00,  3.50it/s]\n"
     ]
    },
    {
     "name": "stdout",
     "output_type": "stream",
     "text": [
      "Current Round: 192, Average Loss: 52.580384298479395, Test Loss: 80.8865960632512, Test Accuracy: 6.975845121835096, Best: 6.590284725694999\n"
     ]
    },
    {
     "name": "stderr",
     "output_type": "stream",
     "text": [
      "100%|██████████| 6/6 [00:01<00:00,  3.47it/s]\n"
     ]
    },
    {
     "name": "stdout",
     "output_type": "stream",
     "text": [
      "Current Round: 193, Average Loss: 52.986591354618234, Test Loss: 76.851510582134, Test Accuracy: 6.7865020203619935, Best: 6.590284725694999\n"
     ]
    },
    {
     "name": "stderr",
     "output_type": "stream",
     "text": [
      "100%|██████████| 6/6 [00:01<00:00,  3.40it/s]\n"
     ]
    },
    {
     "name": "stdout",
     "output_type": "stream",
     "text": [
      "Current Round: 194, Average Loss: 52.18094017552627, Test Loss: 79.67079607572734, Test Accuracy: 6.950307399366868, Best: 6.590284725694999\n"
     ]
    },
    {
     "name": "stderr",
     "output_type": "stream",
     "text": [
      "100%|██████████| 6/6 [00:01<00:00,  3.40it/s]\n"
     ]
    },
    {
     "name": "stdout",
     "output_type": "stream",
     "text": [
      "Current Round: 195, Average Loss: 53.736256367611254, Test Loss: 77.68585880724609, Test Accuracy: 6.8517185882417095, Best: 6.590284725694999\n"
     ]
    },
    {
     "name": "stderr",
     "output_type": "stream",
     "text": [
      "100%|██████████| 6/6 [00:01<00:00,  3.50it/s]\n"
     ]
    },
    {
     "name": "stdout",
     "output_type": "stream",
     "text": [
      "Current Round: 196, Average Loss: 53.468310279197006, Test Loss: 74.19542559889945, Test Accuracy: 6.6857635564225015, Best: 6.590284725694999\n"
     ]
    },
    {
     "name": "stderr",
     "output_type": "stream",
     "text": [
      "100%|██████████| 6/6 [00:01<00:00,  3.43it/s]\n"
     ]
    },
    {
     "name": "stdout",
     "output_type": "stream",
     "text": [
      "Current Round: 197, Average Loss: 53.28198779956588, Test Loss: 73.37072224945494, Test Accuracy: 6.6130864664524465, Best: 6.590284725694999\n"
     ]
    },
    {
     "name": "stderr",
     "output_type": "stream",
     "text": [
      "100%|██████████| 6/6 [00:01<00:00,  3.49it/s]\n"
     ]
    },
    {
     "name": "stdout",
     "output_type": "stream",
     "text": [
      "Current Round: 198, Average Loss: 52.67581962609367, Test Loss: 72.57030809111201, Test Accuracy: 6.6063761776117, Best: 6.590284725694999\n"
     ]
    },
    {
     "name": "stderr",
     "output_type": "stream",
     "text": [
      "100%|██████████| 6/6 [00:01<00:00,  3.45it/s]\n"
     ]
    },
    {
     "name": "stdout",
     "output_type": "stream",
     "text": [
      "Current Round: 199, Average Loss: 52.941813043413276, Test Loss: 77.07472248310789, Test Accuracy: 6.813523463895625, Best: 6.590284725694999\n"
     ]
    },
    {
     "name": "stderr",
     "output_type": "stream",
     "text": [
      "100%|██████████| 6/6 [00:01<00:00,  3.39it/s]\n"
     ]
    },
    {
     "name": "stdout",
     "output_type": "stream",
     "text": [
      "Current Round: 200, Average Loss: 52.42496073894861, Test Loss: 75.48970977851228, Test Accuracy: 6.736136423463124, Best: 6.590284725694999\n",
      "Training Done!\n",
      "Best Accuracy: 6.590284725694999\n",
      "Total time taken to Train: 426.5553524494171\n",
      "Name is taken...trying again...\n",
      "Name is taken...trying again...\n",
      "Name is taken...trying again...\n",
      "Name is taken...trying again...\n"
     ]
    },
    {
     "name": "stderr",
     "output_type": "stream",
     "text": [
      "100%|██████████| 6/6 [00:01<00:00,  3.50it/s]\n"
     ]
    },
    {
     "name": "stdout",
     "output_type": "stream",
     "text": [
      "Current Round: 1, Average Loss: 1513.3539822897637, Test Loss: 4545.140608814717, Test Accuracy: 65.83553404967581, Best: 65.83553404967581\n"
     ]
    },
    {
     "name": "stderr",
     "output_type": "stream",
     "text": [
      "100%|██████████| 6/6 [00:01<00:00,  3.41it/s]\n"
     ]
    },
    {
     "name": "stdout",
     "output_type": "stream",
     "text": [
      "Current Round: 2, Average Loss: 700.0085894022333, Test Loss: 3299.3953839270157, Test Accuracy: 55.492796090751185, Best: 55.492796090751185\n"
     ]
    },
    {
     "name": "stderr",
     "output_type": "stream",
     "text": [
      "100%|██████████| 6/6 [00:01<00:00,  3.40it/s]\n"
     ]
    },
    {
     "name": "stdout",
     "output_type": "stream",
     "text": [
      "Current Round: 3, Average Loss: 427.05465471552344, Test Loss: 2304.602173986045, Test Accuracy: 45.73541476262694, Best: 45.73541476262694\n"
     ]
    },
    {
     "name": "stderr",
     "output_type": "stream",
     "text": [
      "100%|██████████| 6/6 [00:01<00:00,  3.39it/s]\n"
     ]
    },
    {
     "name": "stdout",
     "output_type": "stream",
     "text": [
      "Current Round: 4, Average Loss: 288.2056793646821, Test Loss: 1530.180865735665, Test Accuracy: 36.39723515894629, Best: 36.39723515894629\n"
     ]
    },
    {
     "name": "stderr",
     "output_type": "stream",
     "text": [
      "100%|██████████| 6/6 [00:01<00:00,  3.40it/s]\n"
     ]
    },
    {
     "name": "stdout",
     "output_type": "stream",
     "text": [
      "Current Round: 5, Average Loss: 232.38831731316077, Test Loss: 1008.6136339511422, Test Accuracy: 28.64988958318585, Best: 28.64988958318585\n"
     ]
    },
    {
     "name": "stderr",
     "output_type": "stream",
     "text": [
      "100%|██████████| 6/6 [00:01<00:00,  3.39it/s]\n"
     ]
    },
    {
     "name": "stdout",
     "output_type": "stream",
     "text": [
      "Current Round: 6, Average Loss: 192.04909586397204, Test Loss: 640.7190818089387, Test Accuracy: 21.626866348909473, Best: 21.626866348909473\n"
     ]
    },
    {
     "name": "stderr",
     "output_type": "stream",
     "text": [
      "100%|██████████| 6/6 [00:01<00:00,  3.57it/s]\n"
     ]
    },
    {
     "name": "stdout",
     "output_type": "stream",
     "text": [
      "Current Round: 7, Average Loss: 172.86501961975236, Test Loss: 428.0548259592263, Test Accuracy: 16.433161327830035, Best: 16.433161327830035\n"
     ]
    },
    {
     "name": "stderr",
     "output_type": "stream",
     "text": [
      "100%|██████████| 6/6 [00:01<00:00,  3.40it/s]\n"
     ]
    },
    {
     "name": "stdout",
     "output_type": "stream",
     "text": [
      "Current Round: 8, Average Loss: 160.8656864799677, Test Loss: 328.1266599665344, Test Accuracy: 13.703699007944252, Best: 13.703699007944252\n"
     ]
    },
    {
     "name": "stderr",
     "output_type": "stream",
     "text": [
      "100%|██████████| 6/6 [00:01<00:00,  3.67it/s]\n"
     ]
    },
    {
     "name": "stdout",
     "output_type": "stream",
     "text": [
      "Current Round: 9, Average Loss: 146.9960401410716, Test Loss: 274.17391519151545, Test Accuracy: 12.213659586664173, Best: 12.213659586664173\n"
     ]
    },
    {
     "name": "stderr",
     "output_type": "stream",
     "text": [
      "100%|██████████| 6/6 [00:01<00:00,  3.52it/s]\n"
     ]
    },
    {
     "name": "stdout",
     "output_type": "stream",
     "text": [
      "Current Round: 10, Average Loss: 137.42871725978117, Test Loss: 254.33519939016065, Test Accuracy: 11.64925309598372, Best: 11.64925309598372\n"
     ]
    },
    {
     "name": "stderr",
     "output_type": "stream",
     "text": [
      "100%|██████████| 6/6 [00:01<00:00,  3.43it/s]\n"
     ]
    },
    {
     "name": "stdout",
     "output_type": "stream",
     "text": [
      "Current Round: 11, Average Loss: 129.11624812817004, Test Loss: 250.19006795426913, Test Accuracy: 11.57951331109067, Best: 11.57951331109067\n"
     ]
    },
    {
     "name": "stderr",
     "output_type": "stream",
     "text": [
      "100%|██████████| 6/6 [00:01<00:00,  3.57it/s]\n"
     ]
    },
    {
     "name": "stdout",
     "output_type": "stream",
     "text": [
      "Current Round: 12, Average Loss: 120.06828039395872, Test Loss: 245.11592492080828, Test Accuracy: 11.519373930372122, Best: 11.519373930372122\n"
     ]
    },
    {
     "name": "stderr",
     "output_type": "stream",
     "text": [
      "100%|██████████| 6/6 [00:01<00:00,  3.42it/s]\n"
     ]
    },
    {
     "name": "stdout",
     "output_type": "stream",
     "text": [
      "Current Round: 13, Average Loss: 113.4703181712148, Test Loss: 245.4381726411491, Test Accuracy: 11.600091468593593, Best: 11.519373930372122\n"
     ]
    },
    {
     "name": "stderr",
     "output_type": "stream",
     "text": [
      "100%|██████████| 6/6 [00:01<00:00,  3.47it/s]\n"
     ]
    },
    {
     "name": "stdout",
     "output_type": "stream",
     "text": [
      "Current Round: 14, Average Loss: 106.67007775606983, Test Loss: 243.00272911166613, Test Accuracy: 11.486519843081412, Best: 11.486519843081412\n"
     ]
    },
    {
     "name": "stderr",
     "output_type": "stream",
     "text": [
      "100%|██████████| 6/6 [00:01<00:00,  3.49it/s]\n"
     ]
    },
    {
     "name": "stdout",
     "output_type": "stream",
     "text": [
      "Current Round: 15, Average Loss: 102.11955581731202, Test Loss: 230.96928587646363, Test Accuracy: 11.081413347038637, Best: 11.081413347038637\n"
     ]
    },
    {
     "name": "stderr",
     "output_type": "stream",
     "text": [
      "100%|██████████| 6/6 [00:01<00:00,  3.64it/s]\n"
     ]
    },
    {
     "name": "stdout",
     "output_type": "stream",
     "text": [
      "Current Round: 16, Average Loss: 97.77967308585073, Test Loss: 219.55659386338354, Test Accuracy: 10.693546023362927, Best: 10.693546023362927\n"
     ]
    },
    {
     "name": "stderr",
     "output_type": "stream",
     "text": [
      "100%|██████████| 6/6 [00:01<00:00,  3.59it/s]\n"
     ]
    },
    {
     "name": "stdout",
     "output_type": "stream",
     "text": [
      "Current Round: 17, Average Loss: 95.95566395989162, Test Loss: 207.04513949704216, Test Accuracy: 10.33522809393787, Best: 10.33522809393787\n"
     ]
    },
    {
     "name": "stderr",
     "output_type": "stream",
     "text": [
      "100%|██████████| 6/6 [00:01<00:00,  3.45it/s]\n"
     ]
    },
    {
     "name": "stdout",
     "output_type": "stream",
     "text": [
      "Current Round: 18, Average Loss: 91.82187381821656, Test Loss: 198.07139846749945, Test Accuracy: 10.099487867201718, Best: 10.099487867201718\n"
     ]
    },
    {
     "name": "stderr",
     "output_type": "stream",
     "text": [
      "100%|██████████| 6/6 [00:01<00:00,  3.46it/s]\n"
     ]
    },
    {
     "name": "stdout",
     "output_type": "stream",
     "text": [
      "Current Round: 19, Average Loss: 90.26080997301983, Test Loss: 188.73524218220194, Test Accuracy: 9.854911922374475, Best: 9.854911922374475\n"
     ]
    },
    {
     "name": "stderr",
     "output_type": "stream",
     "text": [
      "100%|██████████| 6/6 [00:01<00:00,  3.41it/s]\n"
     ]
    },
    {
     "name": "stdout",
     "output_type": "stream",
     "text": [
      "Current Round: 20, Average Loss: 86.35126555956508, Test Loss: 177.8366063371384, Test Accuracy: 9.59465441414267, Best: 9.59465441414267\n"
     ]
    },
    {
     "name": "stderr",
     "output_type": "stream",
     "text": [
      "100%|██████████| 6/6 [00:01<00:00,  3.57it/s]\n"
     ]
    },
    {
     "name": "stdout",
     "output_type": "stream",
     "text": [
      "Current Round: 21, Average Loss: 82.64384051908125, Test Loss: 171.62594567316836, Test Accuracy: 9.450751029278118, Best: 9.450751029278118\n"
     ]
    },
    {
     "name": "stderr",
     "output_type": "stream",
     "text": [
      "100%|██████████| 6/6 [00:01<00:00,  3.47it/s]\n"
     ]
    },
    {
     "name": "stdout",
     "output_type": "stream",
     "text": [
      "Current Round: 22, Average Loss: 81.92444259371003, Test Loss: 163.92912026029887, Test Accuracy: 9.269876491920064, Best: 9.269876491920064\n"
     ]
    },
    {
     "name": "stderr",
     "output_type": "stream",
     "text": [
      "100%|██████████| 6/6 [00:01<00:00,  3.37it/s]\n"
     ]
    },
    {
     "name": "stdout",
     "output_type": "stream",
     "text": [
      "Current Round: 23, Average Loss: 81.57351206997235, Test Loss: 158.33590426974118, Test Accuracy: 9.128696115486683, Best: 9.128696115486683\n"
     ]
    },
    {
     "name": "stderr",
     "output_type": "stream",
     "text": [
      "100%|██████████| 6/6 [00:01<00:00,  3.41it/s]\n"
     ]
    },
    {
     "name": "stdout",
     "output_type": "stream",
     "text": [
      "Current Round: 24, Average Loss: 76.15397262208567, Test Loss: 154.43620609162465, Test Accuracy: 9.038716029057273, Best: 9.038716029057273\n"
     ]
    },
    {
     "name": "stderr",
     "output_type": "stream",
     "text": [
      "100%|██████████| 6/6 [00:01<00:00,  3.41it/s]\n"
     ]
    },
    {
     "name": "stdout",
     "output_type": "stream",
     "text": [
      "Current Round: 25, Average Loss: 74.88963439527976, Test Loss: 148.9216684327545, Test Accuracy: 8.891999520038288, Best: 8.891999520038288\n"
     ]
    },
    {
     "name": "stderr",
     "output_type": "stream",
     "text": [
      "100%|██████████| 6/6 [00:01<00:00,  3.49it/s]\n"
     ]
    },
    {
     "name": "stdout",
     "output_type": "stream",
     "text": [
      "Current Round: 26, Average Loss: 75.00604701268865, Test Loss: 144.32097610513665, Test Accuracy: 8.742265342041167, Best: 8.742265342041167\n"
     ]
    },
    {
     "name": "stderr",
     "output_type": "stream",
     "text": [
      "100%|██████████| 6/6 [00:01<00:00,  3.40it/s]\n"
     ]
    },
    {
     "name": "stdout",
     "output_type": "stream",
     "text": [
      "Current Round: 27, Average Loss: 71.8650240010428, Test Loss: 136.55263814532523, Test Accuracy: 8.47435814149613, Best: 8.47435814149613\n"
     ]
    },
    {
     "name": "stderr",
     "output_type": "stream",
     "text": [
      "100%|██████████| 6/6 [00:01<00:00,  3.41it/s]\n"
     ]
    },
    {
     "name": "stdout",
     "output_type": "stream",
     "text": [
      "Current Round: 28, Average Loss: 71.3823143144736, Test Loss: 130.14124428871395, Test Accuracy: 8.259574916135275, Best: 8.259574916135275\n"
     ]
    },
    {
     "name": "stderr",
     "output_type": "stream",
     "text": [
      "100%|██████████| 6/6 [00:01<00:00,  3.43it/s]\n"
     ]
    },
    {
     "name": "stdout",
     "output_type": "stream",
     "text": [
      "Current Round: 29, Average Loss: 69.83284898978448, Test Loss: 122.49680026103148, Test Accuracy: 8.005662568292063, Best: 8.005662568292063\n"
     ]
    },
    {
     "name": "stderr",
     "output_type": "stream",
     "text": [
      "100%|██████████| 6/6 [00:01<00:00,  3.48it/s]\n"
     ]
    },
    {
     "name": "stdout",
     "output_type": "stream",
     "text": [
      "Current Round: 30, Average Loss: 68.65466055552032, Test Loss: 116.09272427245735, Test Accuracy: 7.781034958850053, Best: 7.781034958850053\n"
     ]
    },
    {
     "name": "stderr",
     "output_type": "stream",
     "text": [
      "100%|██████████| 6/6 [00:01<00:00,  3.42it/s]\n"
     ]
    },
    {
     "name": "stdout",
     "output_type": "stream",
     "text": [
      "Current Round: 31, Average Loss: 66.24449660880877, Test Loss: 111.08977498161656, Test Accuracy: 7.577561266212511, Best: 7.577561266212511\n"
     ]
    },
    {
     "name": "stderr",
     "output_type": "stream",
     "text": [
      "100%|██████████| 6/6 [00:01<00:00,  3.40it/s]\n"
     ]
    },
    {
     "name": "stdout",
     "output_type": "stream",
     "text": [
      "Current Round: 32, Average Loss: 66.49594090388007, Test Loss: 108.3287224144002, Test Accuracy: 7.44586239782851, Best: 7.44586239782851\n"
     ]
    },
    {
     "name": "stderr",
     "output_type": "stream",
     "text": [
      "100%|██████████| 6/6 [00:01<00:00,  3.39it/s]\n"
     ]
    },
    {
     "name": "stdout",
     "output_type": "stream",
     "text": [
      "Current Round: 33, Average Loss: 64.98164756445577, Test Loss: 104.35125658775486, Test Accuracy: 7.3003782936483805, Best: 7.3003782936483805\n"
     ]
    },
    {
     "name": "stderr",
     "output_type": "stream",
     "text": [
      "100%|██████████| 6/6 [00:01<00:00,  3.39it/s]\n"
     ]
    },
    {
     "name": "stdout",
     "output_type": "stream",
     "text": [
      "Current Round: 34, Average Loss: 64.66128751642533, Test Loss: 102.88800103235829, Test Accuracy: 7.178865626546678, Best: 7.178865626546678\n"
     ]
    },
    {
     "name": "stderr",
     "output_type": "stream",
     "text": [
      "100%|██████████| 6/6 [00:01<00:00,  3.37it/s]\n"
     ]
    },
    {
     "name": "stdout",
     "output_type": "stream",
     "text": [
      "Current Round: 35, Average Loss: 64.37879623314788, Test Loss: 98.33037395458645, Test Accuracy: 7.030521421184327, Best: 7.030521421184327\n"
     ]
    },
    {
     "name": "stderr",
     "output_type": "stream",
     "text": [
      "100%|██████████| 6/6 [00:01<00:00,  3.28it/s]\n"
     ]
    },
    {
     "name": "stdout",
     "output_type": "stream",
     "text": [
      "Current Round: 36, Average Loss: 61.37034163607108, Test Loss: 98.06466987347657, Test Accuracy: 6.986741305874774, Best: 6.986741305874774\n"
     ]
    },
    {
     "name": "stderr",
     "output_type": "stream",
     "text": [
      "100%|██████████| 6/6 [00:01<00:00,  3.35it/s]\n"
     ]
    },
    {
     "name": "stdout",
     "output_type": "stream",
     "text": [
      "Current Round: 37, Average Loss: 61.92276562365746, Test Loss: 96.37433808821322, Test Accuracy: 6.913219007565334, Best: 6.913219007565334\n"
     ]
    },
    {
     "name": "stderr",
     "output_type": "stream",
     "text": [
      "100%|██████████| 6/6 [00:01<00:00,  3.46it/s]\n"
     ]
    },
    {
     "name": "stdout",
     "output_type": "stream",
     "text": [
      "Current Round: 38, Average Loss: 61.93874647237224, Test Loss: 96.25645967317189, Test Accuracy: 6.931096406674296, Best: 6.913219007565334\n"
     ]
    },
    {
     "name": "stderr",
     "output_type": "stream",
     "text": [
      "100%|██████████| 6/6 [00:01<00:00,  3.39it/s]\n"
     ]
    },
    {
     "name": "stdout",
     "output_type": "stream",
     "text": [
      "Current Round: 39, Average Loss: 61.43407964824694, Test Loss: 93.88410932244791, Test Accuracy: 6.85781080631223, Best: 6.85781080631223\n"
     ]
    },
    {
     "name": "stderr",
     "output_type": "stream",
     "text": [
      "100%|██████████| 6/6 [00:01<00:00,  3.47it/s]\n"
     ]
    },
    {
     "name": "stdout",
     "output_type": "stream",
     "text": [
      "Current Round: 40, Average Loss: 60.554018537088474, Test Loss: 91.39628582482389, Test Accuracy: 6.73416089479808, Best: 6.73416089479808\n"
     ]
    },
    {
     "name": "stderr",
     "output_type": "stream",
     "text": [
      "100%|██████████| 6/6 [00:01<00:00,  3.42it/s]\n"
     ]
    },
    {
     "name": "stdout",
     "output_type": "stream",
     "text": [
      "Current Round: 41, Average Loss: 59.90319668768654, Test Loss: 89.33985354460988, Test Accuracy: 6.655034515494307, Best: 6.655034515494307\n"
     ]
    },
    {
     "name": "stderr",
     "output_type": "stream",
     "text": [
      "100%|██████████| 6/6 [00:01<00:00,  3.57it/s]\n"
     ]
    },
    {
     "name": "stdout",
     "output_type": "stream",
     "text": [
      "Current Round: 42, Average Loss: 59.842298222652595, Test Loss: 90.60138236231354, Test Accuracy: 6.714518144080483, Best: 6.655034515494307\n"
     ]
    },
    {
     "name": "stderr",
     "output_type": "stream",
     "text": [
      "100%|██████████| 6/6 [00:01<00:00,  3.50it/s]\n"
     ]
    },
    {
     "name": "stdout",
     "output_type": "stream",
     "text": [
      "Current Round: 43, Average Loss: 59.88325895020599, Test Loss: 95.47382804418105, Test Accuracy: 6.916871072043569, Best: 6.655034515494307\n"
     ]
    },
    {
     "name": "stderr",
     "output_type": "stream",
     "text": [
      "100%|██████████| 6/6 [00:01<00:00,  3.47it/s]\n"
     ]
    },
    {
     "name": "stdout",
     "output_type": "stream",
     "text": [
      "Current Round: 44, Average Loss: 60.29045553166002, Test Loss: 96.61672601286585, Test Accuracy: 6.921878169460368, Best: 6.655034515494307\n"
     ]
    },
    {
     "name": "stderr",
     "output_type": "stream",
     "text": [
      "100%|██████████| 6/6 [00:01<00:00,  3.42it/s]\n"
     ]
    },
    {
     "name": "stdout",
     "output_type": "stream",
     "text": [
      "Current Round: 45, Average Loss: 59.66533703690343, Test Loss: 95.49791184919188, Test Accuracy: 6.905417126793844, Best: 6.655034515494307\n"
     ]
    },
    {
     "name": "stderr",
     "output_type": "stream",
     "text": [
      "100%|██████████| 6/6 [00:01<00:00,  3.44it/s]\n"
     ]
    },
    {
     "name": "stdout",
     "output_type": "stream",
     "text": [
      "Current Round: 46, Average Loss: 60.25834011739158, Test Loss: 100.14605854844842, Test Accuracy: 7.132464048439981, Best: 6.655034515494307\n"
     ]
    },
    {
     "name": "stderr",
     "output_type": "stream",
     "text": [
      "100%|██████████| 6/6 [00:01<00:00,  3.36it/s]\n"
     ]
    },
    {
     "name": "stdout",
     "output_type": "stream",
     "text": [
      "Current Round: 47, Average Loss: 59.27968323031979, Test Loss: 98.01638932390395, Test Accuracy: 7.030065401779232, Best: 6.655034515494307\n"
     ]
    },
    {
     "name": "stderr",
     "output_type": "stream",
     "text": [
      "100%|██████████| 6/6 [00:01<00:00,  3.69it/s]\n"
     ]
    },
    {
     "name": "stdout",
     "output_type": "stream",
     "text": [
      "Current Round: 48, Average Loss: 60.026477996386724, Test Loss: 99.65922457289962, Test Accuracy: 7.018430698021342, Best: 6.655034515494307\n"
     ]
    },
    {
     "name": "stderr",
     "output_type": "stream",
     "text": [
      "100%|██████████| 6/6 [00:01<00:00,  3.69it/s]\n"
     ]
    },
    {
     "name": "stdout",
     "output_type": "stream",
     "text": [
      "Current Round: 49, Average Loss: 59.03311852796423, Test Loss: 97.2715429999442, Test Accuracy: 6.978054082083436, Best: 6.655034515494307\n"
     ]
    },
    {
     "name": "stderr",
     "output_type": "stream",
     "text": [
      "100%|██████████| 6/6 [00:01<00:00,  3.55it/s]\n"
     ]
    },
    {
     "name": "stdout",
     "output_type": "stream",
     "text": [
      "Current Round: 50, Average Loss: 58.23472117170315, Test Loss: 100.16592378443444, Test Accuracy: 7.09635813262826, Best: 6.655034515494307\n"
     ]
    },
    {
     "name": "stderr",
     "output_type": "stream",
     "text": [
      "100%|██████████| 6/6 [00:01<00:00,  3.39it/s]\n"
     ]
    },
    {
     "name": "stdout",
     "output_type": "stream",
     "text": [
      "Current Round: 51, Average Loss: 59.26306259709316, Test Loss: 98.49400465154405, Test Accuracy: 6.998746186531757, Best: 6.655034515494307\n"
     ]
    },
    {
     "name": "stderr",
     "output_type": "stream",
     "text": [
      "100%|██████████| 6/6 [00:01<00:00,  3.42it/s]\n"
     ]
    },
    {
     "name": "stdout",
     "output_type": "stream",
     "text": [
      "Current Round: 52, Average Loss: 58.30084162013367, Test Loss: 94.62492277470442, Test Accuracy: 6.820099096759101, Best: 6.655034515494307\n"
     ]
    },
    {
     "name": "stderr",
     "output_type": "stream",
     "text": [
      "100%|██████████| 6/6 [00:01<00:00,  3.38it/s]\n"
     ]
    },
    {
     "name": "stdout",
     "output_type": "stream",
     "text": [
      "Current Round: 53, Average Loss: 58.57416416794797, Test Loss: 98.65318764280413, Test Accuracy: 7.013399329770453, Best: 6.655034515494307\n"
     ]
    },
    {
     "name": "stderr",
     "output_type": "stream",
     "text": [
      "100%|██████████| 6/6 [00:01<00:00,  3.47it/s]\n"
     ]
    },
    {
     "name": "stdout",
     "output_type": "stream",
     "text": [
      "Current Round: 54, Average Loss: 57.3792284255483, Test Loss: 95.93437910070031, Test Accuracy: 6.93181340195137, Best: 6.655034515494307\n"
     ]
    },
    {
     "name": "stderr",
     "output_type": "stream",
     "text": [
      "100%|██████████| 6/6 [00:01<00:00,  3.36it/s]\n"
     ]
    },
    {
     "name": "stdout",
     "output_type": "stream",
     "text": [
      "Current Round: 55, Average Loss: 58.488168168038364, Test Loss: 94.53612911889545, Test Accuracy: 6.855108450188808, Best: 6.655034515494307\n"
     ]
    },
    {
     "name": "stderr",
     "output_type": "stream",
     "text": [
      "100%|██████████| 6/6 [00:01<00:00,  3.39it/s]\n"
     ]
    },
    {
     "name": "stdout",
     "output_type": "stream",
     "text": [
      "Current Round: 56, Average Loss: 57.70979458677616, Test Loss: 92.63343263905186, Test Accuracy: 6.791684702574247, Best: 6.655034515494307\n"
     ]
    },
    {
     "name": "stderr",
     "output_type": "stream",
     "text": [
      "100%|██████████| 6/6 [00:01<00:00,  3.36it/s]\n"
     ]
    },
    {
     "name": "stdout",
     "output_type": "stream",
     "text": [
      "Current Round: 57, Average Loss: 58.01888470296871, Test Loss: 95.18871372139088, Test Accuracy: 6.917448800144881, Best: 6.655034515494307\n"
     ]
    },
    {
     "name": "stderr",
     "output_type": "stream",
     "text": [
      "100%|██████████| 6/6 [00:01<00:00,  3.36it/s]\n"
     ]
    },
    {
     "name": "stdout",
     "output_type": "stream",
     "text": [
      "Current Round: 58, Average Loss: 57.86193150029755, Test Loss: 98.29844912231577, Test Accuracy: 7.023384897830023, Best: 6.655034515494307\n"
     ]
    },
    {
     "name": "stderr",
     "output_type": "stream",
     "text": [
      "100%|██████████| 6/6 [00:01<00:00,  3.38it/s]\n"
     ]
    },
    {
     "name": "stdout",
     "output_type": "stream",
     "text": [
      "Current Round: 59, Average Loss: 57.61209659180859, Test Loss: 97.0953258353723, Test Accuracy: 6.965006380423885, Best: 6.655034515494307\n"
     ]
    },
    {
     "name": "stderr",
     "output_type": "stream",
     "text": [
      "100%|██████████| 6/6 [00:01<00:00,  3.51it/s]\n"
     ]
    },
    {
     "name": "stdout",
     "output_type": "stream",
     "text": [
      "Current Round: 60, Average Loss: 57.27361386809875, Test Loss: 98.20905066166613, Test Accuracy: 7.024263055794301, Best: 6.655034515494307\n"
     ]
    },
    {
     "name": "stderr",
     "output_type": "stream",
     "text": [
      "100%|██████████| 6/6 [00:01<00:00,  3.45it/s]\n"
     ]
    },
    {
     "name": "stdout",
     "output_type": "stream",
     "text": [
      "Current Round: 61, Average Loss: 57.38385829508954, Test Loss: 99.65247869914423, Test Accuracy: 7.112690671521344, Best: 6.655034515494307\n"
     ]
    },
    {
     "name": "stderr",
     "output_type": "stream",
     "text": [
      "100%|██████████| 6/6 [00:01<00:00,  3.44it/s]\n"
     ]
    },
    {
     "name": "stdout",
     "output_type": "stream",
     "text": [
      "Current Round: 62, Average Loss: 55.94153505214666, Test Loss: 98.20239838683814, Test Accuracy: 7.0157158413193335, Best: 6.655034515494307\n"
     ]
    },
    {
     "name": "stderr",
     "output_type": "stream",
     "text": [
      "100%|██████████| 6/6 [00:01<00:00,  3.46it/s]\n"
     ]
    },
    {
     "name": "stdout",
     "output_type": "stream",
     "text": [
      "Current Round: 63, Average Loss: 56.80794836237228, Test Loss: 101.00013696779456, Test Accuracy: 7.08854484321755, Best: 6.655034515494307\n"
     ]
    },
    {
     "name": "stderr",
     "output_type": "stream",
     "text": [
      "100%|██████████| 6/6 [00:01<00:00,  3.54it/s]\n"
     ]
    },
    {
     "name": "stdout",
     "output_type": "stream",
     "text": [
      "Current Round: 64, Average Loss: 56.75916715743901, Test Loss: 105.92708938344482, Test Accuracy: 7.258561530225487, Best: 6.655034515494307\n"
     ]
    },
    {
     "name": "stderr",
     "output_type": "stream",
     "text": [
      "100%|██████████| 6/6 [00:01<00:00,  3.52it/s]\n"
     ]
    },
    {
     "name": "stdout",
     "output_type": "stream",
     "text": [
      "Current Round: 65, Average Loss: 56.8960558190332, Test Loss: 102.88531031504462, Test Accuracy: 7.0236765874510505, Best: 6.655034515494307\n"
     ]
    },
    {
     "name": "stderr",
     "output_type": "stream",
     "text": [
      "100%|██████████| 6/6 [00:01<00:00,  3.55it/s]\n"
     ]
    },
    {
     "name": "stdout",
     "output_type": "stream",
     "text": [
      "Current Round: 66, Average Loss: 57.12221093267814, Test Loss: 103.31704378425336, Test Accuracy: 7.0233209602894835, Best: 6.655034515494307\n"
     ]
    },
    {
     "name": "stderr",
     "output_type": "stream",
     "text": [
      "100%|██████████| 6/6 [00:01<00:00,  3.38it/s]\n"
     ]
    },
    {
     "name": "stdout",
     "output_type": "stream",
     "text": [
      "Current Round: 67, Average Loss: 56.880930285488624, Test Loss: 104.57641528545194, Test Accuracy: 7.051952889122189, Best: 6.655034515494307\n"
     ]
    },
    {
     "name": "stderr",
     "output_type": "stream",
     "text": [
      "100%|██████████| 6/6 [00:01<00:00,  3.39it/s]\n"
     ]
    },
    {
     "name": "stdout",
     "output_type": "stream",
     "text": [
      "Current Round: 68, Average Loss: 57.82746821834937, Test Loss: 102.0244088204303, Test Accuracy: 6.908747033706533, Best: 6.655034515494307\n"
     ]
    },
    {
     "name": "stderr",
     "output_type": "stream",
     "text": [
      "100%|██████████| 6/6 [00:01<00:00,  3.46it/s]\n"
     ]
    },
    {
     "name": "stdout",
     "output_type": "stream",
     "text": [
      "Current Round: 69, Average Loss: 57.913829194361035, Test Loss: 101.4342186304024, Test Accuracy: 6.877284058260061, Best: 6.655034515494307\n"
     ]
    },
    {
     "name": "stderr",
     "output_type": "stream",
     "text": [
      "100%|██████████| 6/6 [00:01<00:00,  3.46it/s]\n"
     ]
    },
    {
     "name": "stdout",
     "output_type": "stream",
     "text": [
      "Current Round: 70, Average Loss: 56.059333986317434, Test Loss: 101.04953597445396, Test Accuracy: 6.8360587927193155, Best: 6.655034515494307\n"
     ]
    },
    {
     "name": "stderr",
     "output_type": "stream",
     "text": [
      "100%|██████████| 6/6 [00:01<00:00,  3.43it/s]\n"
     ]
    },
    {
     "name": "stdout",
     "output_type": "stream",
     "text": [
      "Current Round: 71, Average Loss: 56.9997759016483, Test Loss: 102.72946619636654, Test Accuracy: 6.884660860271998, Best: 6.655034515494307\n"
     ]
    },
    {
     "name": "stderr",
     "output_type": "stream",
     "text": [
      "100%|██████████| 6/6 [00:01<00:00,  3.39it/s]\n"
     ]
    },
    {
     "name": "stdout",
     "output_type": "stream",
     "text": [
      "Current Round: 72, Average Loss: 56.6832890533228, Test Loss: 100.86984372808705, Test Accuracy: 6.789273308112276, Best: 6.655034515494307\n"
     ]
    },
    {
     "name": "stderr",
     "output_type": "stream",
     "text": [
      "100%|██████████| 6/6 [00:01<00:00,  3.44it/s]\n"
     ]
    },
    {
     "name": "stdout",
     "output_type": "stream",
     "text": [
      "Current Round: 73, Average Loss: 56.79506604711231, Test Loss: 99.1148749956448, Test Accuracy: 6.7659473986430685, Best: 6.655034515494307\n"
     ]
    },
    {
     "name": "stderr",
     "output_type": "stream",
     "text": [
      "100%|██████████| 6/6 [00:01<00:00,  3.51it/s]\n"
     ]
    },
    {
     "name": "stdout",
     "output_type": "stream",
     "text": [
      "Current Round: 74, Average Loss: 57.003176994226486, Test Loss: 101.94735443296634, Test Accuracy: 6.9051262525820825, Best: 6.655034515494307\n"
     ]
    },
    {
     "name": "stderr",
     "output_type": "stream",
     "text": [
      "100%|██████████| 6/6 [00:01<00:00,  3.39it/s]\n"
     ]
    },
    {
     "name": "stdout",
     "output_type": "stream",
     "text": [
      "Current Round: 75, Average Loss: 56.63606641560986, Test Loss: 100.69185573471505, Test Accuracy: 6.849620507109121, Best: 6.655034515494307\n"
     ]
    },
    {
     "name": "stderr",
     "output_type": "stream",
     "text": [
      "100%|██████████| 6/6 [00:01<00:00,  3.48it/s]\n"
     ]
    },
    {
     "name": "stdout",
     "output_type": "stream",
     "text": [
      "Current Round: 76, Average Loss: 55.40073971842313, Test Loss: 104.06612404128894, Test Accuracy: 7.008455163041012, Best: 6.655034515494307\n"
     ]
    },
    {
     "name": "stderr",
     "output_type": "stream",
     "text": [
      "100%|██████████| 6/6 [00:01<00:00,  3.33it/s]\n"
     ]
    },
    {
     "name": "stdout",
     "output_type": "stream",
     "text": [
      "Current Round: 77, Average Loss: 57.063419376997246, Test Loss: 99.52062221706062, Test Accuracy: 6.7963261728393105, Best: 6.655034515494307\n"
     ]
    },
    {
     "name": "stderr",
     "output_type": "stream",
     "text": [
      "100%|██████████| 6/6 [00:01<00:00,  3.37it/s]\n"
     ]
    },
    {
     "name": "stdout",
     "output_type": "stream",
     "text": [
      "Current Round: 78, Average Loss: 56.29970641107915, Test Loss: 100.82401826445017, Test Accuracy: 6.86251537271001, Best: 6.655034515494307\n"
     ]
    },
    {
     "name": "stderr",
     "output_type": "stream",
     "text": [
      "100%|██████████| 6/6 [00:01<00:00,  3.52it/s]\n"
     ]
    },
    {
     "name": "stdout",
     "output_type": "stream",
     "text": [
      "Current Round: 79, Average Loss: 56.47787663705654, Test Loss: 102.7409344255091, Test Accuracy: 6.919638911439879, Best: 6.655034515494307\n"
     ]
    },
    {
     "name": "stderr",
     "output_type": "stream",
     "text": [
      "100%|██████████| 6/6 [00:01<00:00,  3.52it/s]\n"
     ]
    },
    {
     "name": "stdout",
     "output_type": "stream",
     "text": [
      "Current Round: 80, Average Loss: 56.31294432583058, Test Loss: 104.38917378410974, Test Accuracy: 7.107230575258995, Best: 6.655034515494307\n"
     ]
    },
    {
     "name": "stderr",
     "output_type": "stream",
     "text": [
      "100%|██████████| 6/6 [00:01<00:00,  3.48it/s]\n"
     ]
    },
    {
     "name": "stdout",
     "output_type": "stream",
     "text": [
      "Current Round: 81, Average Loss: 55.89555430566704, Test Loss: 98.05101934838417, Test Accuracy: 6.774657642974287, Best: 6.655034515494307\n"
     ]
    },
    {
     "name": "stderr",
     "output_type": "stream",
     "text": [
      "100%|██████████| 6/6 [00:01<00:00,  3.43it/s]\n"
     ]
    },
    {
     "name": "stdout",
     "output_type": "stream",
     "text": [
      "Current Round: 82, Average Loss: 56.43084571715375, Test Loss: 102.41045648286112, Test Accuracy: 6.959820696560128, Best: 6.655034515494307\n"
     ]
    },
    {
     "name": "stderr",
     "output_type": "stream",
     "text": [
      "100%|██████████| 6/6 [00:01<00:00,  3.40it/s]\n"
     ]
    },
    {
     "name": "stdout",
     "output_type": "stream",
     "text": [
      "Current Round: 83, Average Loss: 56.51397703642423, Test Loss: 102.98906452826408, Test Accuracy: 7.008323704886171, Best: 6.655034515494307\n"
     ]
    },
    {
     "name": "stderr",
     "output_type": "stream",
     "text": [
      "100%|██████████| 6/6 [00:01<00:00,  3.33it/s]\n"
     ]
    },
    {
     "name": "stdout",
     "output_type": "stream",
     "text": [
      "Current Round: 84, Average Loss: 54.720940801481966, Test Loss: 98.2302265774731, Test Accuracy: 6.8084486544206095, Best: 6.655034515494307\n"
     ]
    },
    {
     "name": "stderr",
     "output_type": "stream",
     "text": [
      "100%|██████████| 6/6 [00:01<00:00,  3.37it/s]\n"
     ]
    },
    {
     "name": "stdout",
     "output_type": "stream",
     "text": [
      "Current Round: 85, Average Loss: 56.82377973209979, Test Loss: 101.25981091863049, Test Accuracy: 6.935392892641353, Best: 6.655034515494307\n"
     ]
    },
    {
     "name": "stderr",
     "output_type": "stream",
     "text": [
      "100%|██████████| 6/6 [00:01<00:00,  3.42it/s]\n"
     ]
    },
    {
     "name": "stdout",
     "output_type": "stream",
     "text": [
      "Current Round: 86, Average Loss: 54.71177266132606, Test Loss: 98.9692705068668, Test Accuracy: 6.840022601159532, Best: 6.655034515494307\n"
     ]
    },
    {
     "name": "stderr",
     "output_type": "stream",
     "text": [
      "100%|██████████| 6/6 [00:01<00:00,  3.35it/s]\n"
     ]
    },
    {
     "name": "stdout",
     "output_type": "stream",
     "text": [
      "Current Round: 87, Average Loss: 55.682517244875946, Test Loss: 98.30767105983932, Test Accuracy: 6.781474596801153, Best: 6.655034515494307\n"
     ]
    },
    {
     "name": "stderr",
     "output_type": "stream",
     "text": [
      "100%|██████████| 6/6 [00:01<00:00,  3.44it/s]\n"
     ]
    },
    {
     "name": "stdout",
     "output_type": "stream",
     "text": [
      "Current Round: 88, Average Loss: 55.856129571132236, Test Loss: 101.9575082257187, Test Accuracy: 6.925105939862749, Best: 6.655034515494307\n"
     ]
    },
    {
     "name": "stderr",
     "output_type": "stream",
     "text": [
      "100%|██████████| 6/6 [00:01<00:00,  3.44it/s]\n"
     ]
    },
    {
     "name": "stdout",
     "output_type": "stream",
     "text": [
      "Current Round: 89, Average Loss: 54.97911956616796, Test Loss: 104.34208997365785, Test Accuracy: 6.991810431119974, Best: 6.655034515494307\n"
     ]
    },
    {
     "name": "stderr",
     "output_type": "stream",
     "text": [
      "100%|██████████| 6/6 [00:01<00:00,  3.66it/s]\n"
     ]
    },
    {
     "name": "stdout",
     "output_type": "stream",
     "text": [
      "Current Round: 90, Average Loss: 55.08651605325246, Test Loss: 101.88984819649357, Test Accuracy: 6.887637243542677, Best: 6.655034515494307\n"
     ]
    },
    {
     "name": "stderr",
     "output_type": "stream",
     "text": [
      "100%|██████████| 6/6 [00:01<00:00,  3.40it/s]\n"
     ]
    },
    {
     "name": "stdout",
     "output_type": "stream",
     "text": [
      "Current Round: 91, Average Loss: 56.15479841675167, Test Loss: 100.21030106485038, Test Accuracy: 6.759263458157413, Best: 6.655034515494307\n"
     ]
    },
    {
     "name": "stderr",
     "output_type": "stream",
     "text": [
      "100%|██████████| 6/6 [00:01<00:00,  3.54it/s]\n"
     ]
    },
    {
     "name": "stdout",
     "output_type": "stream",
     "text": [
      "Current Round: 92, Average Loss: 54.760276770910416, Test Loss: 103.1358884997075, Test Accuracy: 6.9158628929355626, Best: 6.655034515494307\n"
     ]
    },
    {
     "name": "stderr",
     "output_type": "stream",
     "text": [
      "100%|██████████| 6/6 [00:01<00:00,  3.41it/s]\n"
     ]
    },
    {
     "name": "stdout",
     "output_type": "stream",
     "text": [
      "Current Round: 93, Average Loss: 54.477777840366066, Test Loss: 98.93889412459313, Test Accuracy: 6.729013249185744, Best: 6.655034515494307\n"
     ]
    },
    {
     "name": "stderr",
     "output_type": "stream",
     "text": [
      "100%|██████████| 6/6 [00:01<00:00,  3.45it/s]\n"
     ]
    },
    {
     "name": "stdout",
     "output_type": "stream",
     "text": [
      "Current Round: 94, Average Loss: 55.761661125638845, Test Loss: 97.78934213171495, Test Accuracy: 6.660489603489305, Best: 6.655034515494307\n"
     ]
    },
    {
     "name": "stderr",
     "output_type": "stream",
     "text": [
      "100%|██████████| 6/6 [00:01<00:00,  3.41it/s]\n"
     ]
    },
    {
     "name": "stdout",
     "output_type": "stream",
     "text": [
      "Current Round: 95, Average Loss: 55.153959626351174, Test Loss: 97.50749653908557, Test Accuracy: 6.734873181972953, Best: 6.655034515494307\n"
     ]
    },
    {
     "name": "stderr",
     "output_type": "stream",
     "text": [
      "100%|██████████| 6/6 [00:01<00:00,  3.37it/s]\n"
     ]
    },
    {
     "name": "stdout",
     "output_type": "stream",
     "text": [
      "Current Round: 96, Average Loss: 55.17556076081343, Test Loss: 98.83468209508352, Test Accuracy: 6.796850502269419, Best: 6.655034515494307\n"
     ]
    },
    {
     "name": "stderr",
     "output_type": "stream",
     "text": [
      "100%|██████████| 6/6 [00:01<00:00,  3.35it/s]\n"
     ]
    },
    {
     "name": "stdout",
     "output_type": "stream",
     "text": [
      "Current Round: 97, Average Loss: 55.4077484991098, Test Loss: 98.73041007994262, Test Accuracy: 6.778289799648885, Best: 6.655034515494307\n"
     ]
    },
    {
     "name": "stderr",
     "output_type": "stream",
     "text": [
      "100%|██████████| 6/6 [00:01<00:00,  3.27it/s]\n"
     ]
    },
    {
     "name": "stdout",
     "output_type": "stream",
     "text": [
      "Current Round: 98, Average Loss: 54.42223053989914, Test Loss: 99.01273298860889, Test Accuracy: 6.845124141877468, Best: 6.655034515494307\n"
     ]
    },
    {
     "name": "stderr",
     "output_type": "stream",
     "text": [
      "100%|██████████| 6/6 [00:01<00:00,  3.35it/s]\n"
     ]
    },
    {
     "name": "stdout",
     "output_type": "stream",
     "text": [
      "Current Round: 99, Average Loss: 55.20683203969627, Test Loss: 96.10392447375453, Test Accuracy: 6.747653639744944, Best: 6.655034515494307\n"
     ]
    },
    {
     "name": "stderr",
     "output_type": "stream",
     "text": [
      "100%|██████████| 6/6 [00:01<00:00,  3.39it/s]\n"
     ]
    },
    {
     "name": "stdout",
     "output_type": "stream",
     "text": [
      "Current Round: 100, Average Loss: 54.02423097832038, Test Loss: 96.5317526850734, Test Accuracy: 6.751396699170345, Best: 6.655034515494307\n"
     ]
    },
    {
     "name": "stderr",
     "output_type": "stream",
     "text": [
      "100%|██████████| 6/6 [00:01<00:00,  3.37it/s]\n"
     ]
    },
    {
     "name": "stdout",
     "output_type": "stream",
     "text": [
      "Current Round: 101, Average Loss: 55.055696924379646, Test Loss: 94.57227556854302, Test Accuracy: 6.7074379454167214, Best: 6.655034515494307\n"
     ]
    },
    {
     "name": "stderr",
     "output_type": "stream",
     "text": [
      "100%|██████████| 6/6 [00:01<00:00,  3.42it/s]\n"
     ]
    },
    {
     "name": "stdout",
     "output_type": "stream",
     "text": [
      "Current Round: 102, Average Loss: 55.04604083880324, Test Loss: 94.59450356902317, Test Accuracy: 6.697842766952042, Best: 6.655034515494307\n"
     ]
    },
    {
     "name": "stderr",
     "output_type": "stream",
     "text": [
      "100%|██████████| 6/6 [00:01<00:00,  3.38it/s]\n"
     ]
    },
    {
     "name": "stdout",
     "output_type": "stream",
     "text": [
      "Current Round: 103, Average Loss: 54.75218577093866, Test Loss: 99.89873166550343, Test Accuracy: 6.932939352156061, Best: 6.655034515494307\n"
     ]
    },
    {
     "name": "stderr",
     "output_type": "stream",
     "text": [
      "100%|██████████| 6/6 [00:01<00:00,  3.39it/s]\n"
     ]
    },
    {
     "name": "stdout",
     "output_type": "stream",
     "text": [
      "Current Round: 104, Average Loss: 54.04561922407945, Test Loss: 100.63886459886363, Test Accuracy: 6.969004594408151, Best: 6.655034515494307\n"
     ]
    },
    {
     "name": "stderr",
     "output_type": "stream",
     "text": [
      "100%|██████████| 6/6 [00:01<00:00,  3.39it/s]\n"
     ]
    },
    {
     "name": "stdout",
     "output_type": "stream",
     "text": [
      "Current Round: 105, Average Loss: 54.584075026231574, Test Loss: 98.9068695856062, Test Accuracy: 6.876806800397946, Best: 6.655034515494307\n"
     ]
    },
    {
     "name": "stderr",
     "output_type": "stream",
     "text": [
      "100%|██████████| 6/6 [00:01<00:00,  3.48it/s]\n"
     ]
    },
    {
     "name": "stdout",
     "output_type": "stream",
     "text": [
      "Current Round: 106, Average Loss: 55.36038058267672, Test Loss: 97.45813813271022, Test Accuracy: 6.845367691626189, Best: 6.655034515494307\n"
     ]
    },
    {
     "name": "stderr",
     "output_type": "stream",
     "text": [
      "100%|██████████| 6/6 [00:01<00:00,  3.43it/s]\n"
     ]
    },
    {
     "name": "stdout",
     "output_type": "stream",
     "text": [
      "Current Round: 107, Average Loss: 54.36271214284761, Test Loss: 102.11656824945295, Test Accuracy: 7.074823684408762, Best: 6.655034515494307\n"
     ]
    },
    {
     "name": "stderr",
     "output_type": "stream",
     "text": [
      "100%|██████████| 6/6 [00:01<00:00,  3.52it/s]\n"
     ]
    },
    {
     "name": "stdout",
     "output_type": "stream",
     "text": [
      "Current Round: 108, Average Loss: 54.81614540456756, Test Loss: 98.12132119301526, Test Accuracy: 6.799363858342319, Best: 6.655034515494307\n"
     ]
    },
    {
     "name": "stderr",
     "output_type": "stream",
     "text": [
      "100%|██████████| 6/6 [00:01<00:00,  3.41it/s]\n"
     ]
    },
    {
     "name": "stdout",
     "output_type": "stream",
     "text": [
      "Current Round: 109, Average Loss: 52.878628685435956, Test Loss: 94.77167204189976, Test Accuracy: 6.669339769687204, Best: 6.655034515494307\n"
     ]
    },
    {
     "name": "stderr",
     "output_type": "stream",
     "text": [
      "100%|██████████| 6/6 [00:01<00:00,  3.43it/s]\n"
     ]
    },
    {
     "name": "stdout",
     "output_type": "stream",
     "text": [
      "Current Round: 110, Average Loss: 54.82841997569104, Test Loss: 97.60213886112288, Test Accuracy: 6.778328164064012, Best: 6.655034515494307\n"
     ]
    },
    {
     "name": "stderr",
     "output_type": "stream",
     "text": [
      "100%|██████████| 6/6 [00:01<00:00,  3.44it/s]\n"
     ]
    },
    {
     "name": "stdout",
     "output_type": "stream",
     "text": [
      "Current Round: 111, Average Loss: 53.84529961970649, Test Loss: 95.00562215125584, Test Accuracy: 6.710636160187562, Best: 6.655034515494307\n"
     ]
    },
    {
     "name": "stderr",
     "output_type": "stream",
     "text": [
      "100%|██████████| 6/6 [00:01<00:00,  3.43it/s]\n"
     ]
    },
    {
     "name": "stdout",
     "output_type": "stream",
     "text": [
      "Current Round: 112, Average Loss: 54.66788875910472, Test Loss: 91.06460999588735, Test Accuracy: 6.56339261788861, Best: 6.56339261788861\n"
     ]
    },
    {
     "name": "stderr",
     "output_type": "stream",
     "text": [
      "100%|██████████| 6/6 [00:01<00:00,  3.40it/s]\n"
     ]
    },
    {
     "name": "stdout",
     "output_type": "stream",
     "text": [
      "Current Round: 113, Average Loss: 54.705138937014596, Test Loss: 98.34873621288313, Test Accuracy: 6.885040907168477, Best: 6.56339261788861\n"
     ]
    },
    {
     "name": "stderr",
     "output_type": "stream",
     "text": [
      "100%|██████████| 6/6 [00:01<00:00,  3.60it/s]\n"
     ]
    },
    {
     "name": "stdout",
     "output_type": "stream",
     "text": [
      "Current Round: 114, Average Loss: 52.6291792561434, Test Loss: 99.28290494697116, Test Accuracy: 6.877137866014293, Best: 6.56339261788861\n"
     ]
    },
    {
     "name": "stderr",
     "output_type": "stream",
     "text": [
      "100%|██████████| 6/6 [00:01<00:00,  3.32it/s]\n"
     ]
    },
    {
     "name": "stdout",
     "output_type": "stream",
     "text": [
      "Current Round: 115, Average Loss: 54.18510221781211, Test Loss: 93.95705856114182, Test Accuracy: 6.620971939673064, Best: 6.56339261788861\n"
     ]
    },
    {
     "name": "stderr",
     "output_type": "stream",
     "text": [
      "100%|██████████| 6/6 [00:01<00:00,  3.38it/s]\n"
     ]
    },
    {
     "name": "stdout",
     "output_type": "stream",
     "text": [
      "Current Round: 116, Average Loss: 53.8087282215611, Test Loss: 96.70236331291838, Test Accuracy: 6.810223850028074, Best: 6.56339261788861\n"
     ]
    },
    {
     "name": "stderr",
     "output_type": "stream",
     "text": [
      "100%|██████████| 6/6 [00:01<00:00,  3.41it/s]\n"
     ]
    },
    {
     "name": "stdout",
     "output_type": "stream",
     "text": [
      "Current Round: 117, Average Loss: 55.1214809959809, Test Loss: 97.57568729658469, Test Accuracy: 6.835317221715991, Best: 6.56339261788861\n"
     ]
    },
    {
     "name": "stderr",
     "output_type": "stream",
     "text": [
      "100%|██████████| 6/6 [00:01<00:00,  3.44it/s]\n"
     ]
    },
    {
     "name": "stdout",
     "output_type": "stream",
     "text": [
      "Current Round: 118, Average Loss: 54.568940681351336, Test Loss: 96.63636185590737, Test Accuracy: 6.757658510550838, Best: 6.56339261788861\n"
     ]
    },
    {
     "name": "stderr",
     "output_type": "stream",
     "text": [
      "100%|██████████| 6/6 [00:01<00:00,  3.41it/s]\n"
     ]
    },
    {
     "name": "stdout",
     "output_type": "stream",
     "text": [
      "Current Round: 119, Average Loss: 52.533952862693695, Test Loss: 95.30177028780535, Test Accuracy: 6.721822046140461, Best: 6.56339261788861\n"
     ]
    },
    {
     "name": "stderr",
     "output_type": "stream",
     "text": [
      "100%|██████████| 6/6 [00:01<00:00,  3.35it/s]\n"
     ]
    },
    {
     "name": "stdout",
     "output_type": "stream",
     "text": [
      "Current Round: 120, Average Loss: 53.04437972889207, Test Loss: 89.59227184996544, Test Accuracy: 6.517077520434298, Best: 6.517077520434298\n"
     ]
    },
    {
     "name": "stderr",
     "output_type": "stream",
     "text": [
      "100%|██████████| 6/6 [00:01<00:00,  3.50it/s]\n"
     ]
    },
    {
     "name": "stdout",
     "output_type": "stream",
     "text": [
      "Current Round: 121, Average Loss: 52.996213899001084, Test Loss: 87.11604881772709, Test Accuracy: 6.407514775404995, Best: 6.407514775404995\n"
     ]
    },
    {
     "name": "stderr",
     "output_type": "stream",
     "text": [
      "100%|██████████| 6/6 [00:01<00:00,  3.38it/s]\n"
     ]
    },
    {
     "name": "stdout",
     "output_type": "stream",
     "text": [
      "Current Round: 122, Average Loss: 53.876612930894474, Test Loss: 92.48117920451669, Test Accuracy: 6.682540501212837, Best: 6.407514775404995\n"
     ]
    },
    {
     "name": "stderr",
     "output_type": "stream",
     "text": [
      "100%|██████████| 6/6 [00:01<00:00,  3.36it/s]\n"
     ]
    },
    {
     "name": "stdout",
     "output_type": "stream",
     "text": [
      "Current Round: 123, Average Loss: 53.813265853731764, Test Loss: 89.36128323596454, Test Accuracy: 6.5590080180871295, Best: 6.407514775404995\n"
     ]
    },
    {
     "name": "stderr",
     "output_type": "stream",
     "text": [
      "100%|██████████| 6/6 [00:01<00:00,  3.41it/s]\n"
     ]
    },
    {
     "name": "stdout",
     "output_type": "stream",
     "text": [
      "Current Round: 124, Average Loss: 53.39263880637328, Test Loss: 90.25937920597369, Test Accuracy: 6.570516643027834, Best: 6.407514775404995\n"
     ]
    },
    {
     "name": "stderr",
     "output_type": "stream",
     "text": [
      "100%|██████████| 6/6 [00:01<00:00,  3.45it/s]\n"
     ]
    },
    {
     "name": "stdout",
     "output_type": "stream",
     "text": [
      "Current Round: 125, Average Loss: 53.96111192364197, Test Loss: 94.5995492039553, Test Accuracy: 6.787939534902277, Best: 6.407514775404995\n"
     ]
    },
    {
     "name": "stderr",
     "output_type": "stream",
     "text": [
      "100%|██████████| 6/6 [00:01<00:00,  3.46it/s]\n"
     ]
    },
    {
     "name": "stdout",
     "output_type": "stream",
     "text": [
      "Current Round: 126, Average Loss: 53.372835123754164, Test Loss: 96.04198103553308, Test Accuracy: 6.882641216783866, Best: 6.407514775404995\n"
     ]
    },
    {
     "name": "stderr",
     "output_type": "stream",
     "text": [
      "100%|██████████| 6/6 [00:01<00:00,  3.48it/s]\n"
     ]
    },
    {
     "name": "stdout",
     "output_type": "stream",
     "text": [
      "Current Round: 127, Average Loss: 53.78540488985988, Test Loss: 96.22800561202439, Test Accuracy: 6.925777404577167, Best: 6.407514775404995\n"
     ]
    },
    {
     "name": "stderr",
     "output_type": "stream",
     "text": [
      "100%|██████████| 6/6 [00:01<00:00,  3.34it/s]\n"
     ]
    },
    {
     "name": "stdout",
     "output_type": "stream",
     "text": [
      "Current Round: 128, Average Loss: 53.22023153571167, Test Loss: 90.58004345696983, Test Accuracy: 6.63501523950286, Best: 6.407514775404995\n"
     ]
    },
    {
     "name": "stderr",
     "output_type": "stream",
     "text": [
      "100%|██████████| 6/6 [00:01<00:00,  3.40it/s]\n"
     ]
    },
    {
     "name": "stdout",
     "output_type": "stream",
     "text": [
      "Current Round: 129, Average Loss: 52.96158485407998, Test Loss: 95.48346596632194, Test Accuracy: 6.820910492794221, Best: 6.407514775404995\n"
     ]
    },
    {
     "name": "stderr",
     "output_type": "stream",
     "text": [
      "100%|██████████| 6/6 [00:01<00:00,  3.40it/s]\n"
     ]
    },
    {
     "name": "stdout",
     "output_type": "stream",
     "text": [
      "Current Round: 130, Average Loss: 53.67402967710837, Test Loss: 93.59261136792388, Test Accuracy: 6.751090206916743, Best: 6.407514775404995\n"
     ]
    },
    {
     "name": "stderr",
     "output_type": "stream",
     "text": [
      "100%|██████████| 6/6 [00:01<00:00,  3.54it/s]\n"
     ]
    },
    {
     "name": "stdout",
     "output_type": "stream",
     "text": [
      "Current Round: 131, Average Loss: 53.55651321510678, Test Loss: 93.36066008648169, Test Accuracy: 6.780045134722817, Best: 6.407514775404995\n"
     ]
    },
    {
     "name": "stderr",
     "output_type": "stream",
     "text": [
      "100%|██████████| 6/6 [00:01<00:00,  3.46it/s]\n"
     ]
    },
    {
     "name": "stdout",
     "output_type": "stream",
     "text": [
      "Current Round: 132, Average Loss: 52.949236792277524, Test Loss: 95.18277223459462, Test Accuracy: 6.831373250174257, Best: 6.407514775404995\n"
     ]
    },
    {
     "name": "stderr",
     "output_type": "stream",
     "text": [
      "100%|██████████| 6/6 [00:01<00:00,  3.59it/s]\n"
     ]
    },
    {
     "name": "stdout",
     "output_type": "stream",
     "text": [
      "Current Round: 133, Average Loss: 52.88533876841433, Test Loss: 94.91298698113661, Test Accuracy: 6.8734166170141515, Best: 6.407514775404995\n"
     ]
    },
    {
     "name": "stderr",
     "output_type": "stream",
     "text": [
      "100%|██████████| 6/6 [00:01<00:00,  3.65it/s]\n"
     ]
    },
    {
     "name": "stdout",
     "output_type": "stream",
     "text": [
      "Current Round: 134, Average Loss: 53.84757657903308, Test Loss: 92.3559405751794, Test Accuracy: 6.789920251461062, Best: 6.407514775404995\n"
     ]
    },
    {
     "name": "stderr",
     "output_type": "stream",
     "text": [
      "100%|██████████| 6/6 [00:01<00:00,  3.44it/s]\n"
     ]
    },
    {
     "name": "stdout",
     "output_type": "stream",
     "text": [
      "Current Round: 135, Average Loss: 53.03053231848424, Test Loss: 88.37418066438339, Test Accuracy: 6.585440218522498, Best: 6.407514775404995\n"
     ]
    },
    {
     "name": "stderr",
     "output_type": "stream",
     "text": [
      "100%|██████████| 6/6 [00:01<00:00,  3.45it/s]\n"
     ]
    },
    {
     "name": "stdout",
     "output_type": "stream",
     "text": [
      "Current Round: 136, Average Loss: 52.953738847842665, Test Loss: 88.34922323764626, Test Accuracy: 6.563242476225786, Best: 6.407514775404995\n"
     ]
    },
    {
     "name": "stderr",
     "output_type": "stream",
     "text": [
      "100%|██████████| 6/6 [00:01<00:00,  3.46it/s]\n"
     ]
    },
    {
     "name": "stdout",
     "output_type": "stream",
     "text": [
      "Current Round: 137, Average Loss: 53.132550083048436, Test Loss: 90.6631389644177, Test Accuracy: 6.6273833018401005, Best: 6.407514775404995\n"
     ]
    },
    {
     "name": "stderr",
     "output_type": "stream",
     "text": [
      "100%|██████████| 6/6 [00:01<00:00,  3.34it/s]\n"
     ]
    },
    {
     "name": "stdout",
     "output_type": "stream",
     "text": [
      "Current Round: 138, Average Loss: 53.09080569251635, Test Loss: 89.43437492899145, Test Accuracy: 6.591707014535292, Best: 6.407514775404995\n"
     ]
    },
    {
     "name": "stderr",
     "output_type": "stream",
     "text": [
      "100%|██████████| 6/6 [00:01<00:00,  3.43it/s]\n"
     ]
    },
    {
     "name": "stdout",
     "output_type": "stream",
     "text": [
      "Current Round: 139, Average Loss: 52.338044033442145, Test Loss: 95.47122283664889, Test Accuracy: 6.899302925762191, Best: 6.407514775404995\n"
     ]
    },
    {
     "name": "stderr",
     "output_type": "stream",
     "text": [
      "100%|██████████| 6/6 [00:01<00:00,  3.55it/s]\n"
     ]
    },
    {
     "name": "stdout",
     "output_type": "stream",
     "text": [
      "Current Round: 140, Average Loss: 52.119035606198985, Test Loss: 95.98734480973513, Test Accuracy: 6.926090460284492, Best: 6.407514775404995\n"
     ]
    },
    {
     "name": "stderr",
     "output_type": "stream",
     "text": [
      "100%|██████████| 6/6 [00:01<00:00,  3.49it/s]\n"
     ]
    },
    {
     "name": "stdout",
     "output_type": "stream",
     "text": [
      "Current Round: 141, Average Loss: 53.61439120127213, Test Loss: 95.50273537362985, Test Accuracy: 6.811456096512087, Best: 6.407514775404995\n"
     ]
    },
    {
     "name": "stderr",
     "output_type": "stream",
     "text": [
      "100%|██████████| 6/6 [00:01<00:00,  3.41it/s]\n"
     ]
    },
    {
     "name": "stdout",
     "output_type": "stream",
     "text": [
      "Current Round: 142, Average Loss: 52.13093748864054, Test Loss: 95.08031703699541, Test Accuracy: 6.789761031575067, Best: 6.407514775404995\n"
     ]
    },
    {
     "name": "stderr",
     "output_type": "stream",
     "text": [
      "100%|██████████| 6/6 [00:01<00:00,  3.36it/s]\n"
     ]
    },
    {
     "name": "stdout",
     "output_type": "stream",
     "text": [
      "Current Round: 143, Average Loss: 52.72030519870781, Test Loss: 91.11569470308301, Test Accuracy: 6.646785199568322, Best: 6.407514775404995\n"
     ]
    },
    {
     "name": "stderr",
     "output_type": "stream",
     "text": [
      "100%|██████████| 6/6 [00:01<00:00,  3.42it/s]\n"
     ]
    },
    {
     "name": "stdout",
     "output_type": "stream",
     "text": [
      "Current Round: 144, Average Loss: 52.10724860392804, Test Loss: 92.05135570160232, Test Accuracy: 6.74491506290554, Best: 6.407514775404995\n"
     ]
    },
    {
     "name": "stderr",
     "output_type": "stream",
     "text": [
      "100%|██████████| 6/6 [00:01<00:00,  3.41it/s]\n"
     ]
    },
    {
     "name": "stdout",
     "output_type": "stream",
     "text": [
      "Current Round: 145, Average Loss: 52.52623517358535, Test Loss: 93.69585429905663, Test Accuracy: 6.812579201056612, Best: 6.407514775404995\n"
     ]
    },
    {
     "name": "stderr",
     "output_type": "stream",
     "text": [
      "100%|██████████| 6/6 [00:01<00:00,  3.40it/s]\n"
     ]
    },
    {
     "name": "stdout",
     "output_type": "stream",
     "text": [
      "Current Round: 146, Average Loss: 51.75772960064118, Test Loss: 95.37179119587914, Test Accuracy: 6.86094230406051, Best: 6.407514775404995\n"
     ]
    },
    {
     "name": "stderr",
     "output_type": "stream",
     "text": [
      "100%|██████████| 6/6 [00:01<00:00,  3.44it/s]\n"
     ]
    },
    {
     "name": "stdout",
     "output_type": "stream",
     "text": [
      "Current Round: 147, Average Loss: 51.907138899500524, Test Loss: 95.95165656339447, Test Accuracy: 6.824759203262046, Best: 6.407514775404995\n"
     ]
    },
    {
     "name": "stderr",
     "output_type": "stream",
     "text": [
      "100%|██████████| 6/6 [00:01<00:00,  3.42it/s]\n"
     ]
    },
    {
     "name": "stdout",
     "output_type": "stream",
     "text": [
      "Current Round: 148, Average Loss: 52.85262226493328, Test Loss: 90.31250296569345, Test Accuracy: 6.570159983014529, Best: 6.407514775404995\n"
     ]
    },
    {
     "name": "stderr",
     "output_type": "stream",
     "text": [
      "100%|██████████| 6/6 [00:01<00:00,  3.32it/s]\n"
     ]
    },
    {
     "name": "stdout",
     "output_type": "stream",
     "text": [
      "Current Round: 149, Average Loss: 52.47659757729648, Test Loss: 88.07669401130508, Test Accuracy: 6.525894365936998, Best: 6.407514775404995\n"
     ]
    },
    {
     "name": "stderr",
     "output_type": "stream",
     "text": [
      "100%|██████████| 6/6 [00:01<00:00,  3.45it/s]\n"
     ]
    },
    {
     "name": "stdout",
     "output_type": "stream",
     "text": [
      "Current Round: 150, Average Loss: 52.15246423548766, Test Loss: 88.73114278277352, Test Accuracy: 6.541672601428026, Best: 6.407514775404995\n"
     ]
    },
    {
     "name": "stderr",
     "output_type": "stream",
     "text": [
      "100%|██████████| 6/6 [00:01<00:00,  3.49it/s]\n"
     ]
    },
    {
     "name": "stdout",
     "output_type": "stream",
     "text": [
      "Current Round: 151, Average Loss: 51.51170400665108, Test Loss: 90.51295575696301, Test Accuracy: 6.600541297978776, Best: 6.407514775404995\n"
     ]
    },
    {
     "name": "stderr",
     "output_type": "stream",
     "text": [
      "100%|██████████| 6/6 [00:01<00:00,  3.57it/s]\n"
     ]
    },
    {
     "name": "stdout",
     "output_type": "stream",
     "text": [
      "Current Round: 152, Average Loss: 51.528247834368976, Test Loss: 92.96828298336396, Test Accuracy: 6.709381441496857, Best: 6.407514775404995\n"
     ]
    },
    {
     "name": "stderr",
     "output_type": "stream",
     "text": [
      "100%|██████████| 6/6 [00:01<00:00,  3.48it/s]\n"
     ]
    },
    {
     "name": "stdout",
     "output_type": "stream",
     "text": [
      "Current Round: 153, Average Loss: 51.39893385807772, Test Loss: 98.36801747141274, Test Accuracy: 6.936017179430048, Best: 6.407514775404995\n"
     ]
    },
    {
     "name": "stderr",
     "output_type": "stream",
     "text": [
      "100%|██████████| 6/6 [00:01<00:00,  3.39it/s]\n"
     ]
    },
    {
     "name": "stdout",
     "output_type": "stream",
     "text": [
      "Current Round: 154, Average Loss: 51.34020139127293, Test Loss: 94.87431153322684, Test Accuracy: 6.798821429189991, Best: 6.407514775404995\n"
     ]
    },
    {
     "name": "stderr",
     "output_type": "stream",
     "text": [
      "100%|██████████| 6/6 [00:01<00:00,  3.51it/s]\n"
     ]
    },
    {
     "name": "stdout",
     "output_type": "stream",
     "text": [
      "Current Round: 155, Average Loss: 51.85472912109636, Test Loss: 93.89940485362854, Test Accuracy: 6.7105825228023415, Best: 6.407514775404995\n"
     ]
    },
    {
     "name": "stderr",
     "output_type": "stream",
     "text": [
      "100%|██████████| 6/6 [00:01<00:00,  3.49it/s]\n"
     ]
    },
    {
     "name": "stdout",
     "output_type": "stream",
     "text": [
      "Current Round: 156, Average Loss: 51.469304487431565, Test Loss: 96.05346388198998, Test Accuracy: 6.813896451002308, Best: 6.407514775404995\n"
     ]
    },
    {
     "name": "stderr",
     "output_type": "stream",
     "text": [
      "100%|██████████| 6/6 [00:01<00:00,  3.45it/s]\n"
     ]
    },
    {
     "name": "stdout",
     "output_type": "stream",
     "text": [
      "Current Round: 157, Average Loss: 51.787747397179025, Test Loss: 91.4506867048821, Test Accuracy: 6.643520024333893, Best: 6.407514775404995\n"
     ]
    },
    {
     "name": "stderr",
     "output_type": "stream",
     "text": [
      "100%|██████████| 6/6 [00:01<00:00,  3.40it/s]\n"
     ]
    },
    {
     "name": "stdout",
     "output_type": "stream",
     "text": [
      "Current Round: 158, Average Loss: 53.15286120327607, Test Loss: 88.47805308185914, Test Accuracy: 6.556480365171751, Best: 6.407514775404995\n"
     ]
    },
    {
     "name": "stderr",
     "output_type": "stream",
     "text": [
      "100%|██████████| 6/6 [00:01<00:00,  3.42it/s]\n"
     ]
    },
    {
     "name": "stdout",
     "output_type": "stream",
     "text": [
      "Current Round: 159, Average Loss: 52.0985618373555, Test Loss: 90.73193147034377, Test Accuracy: 6.69813200561826, Best: 6.407514775404995\n"
     ]
    },
    {
     "name": "stderr",
     "output_type": "stream",
     "text": [
      "100%|██████████| 6/6 [00:01<00:00,  3.41it/s]\n"
     ]
    },
    {
     "name": "stdout",
     "output_type": "stream",
     "text": [
      "Current Round: 160, Average Loss: 51.82498212709594, Test Loss: 94.8040346214744, Test Accuracy: 6.852637871195097, Best: 6.407514775404995\n"
     ]
    },
    {
     "name": "stderr",
     "output_type": "stream",
     "text": [
      "100%|██████████| 6/6 [00:01<00:00,  3.43it/s]\n"
     ]
    },
    {
     "name": "stdout",
     "output_type": "stream",
     "text": [
      "Current Round: 161, Average Loss: 51.87487697768871, Test Loss: 93.01755749935555, Test Accuracy: 6.786241415560319, Best: 6.407514775404995\n"
     ]
    },
    {
     "name": "stderr",
     "output_type": "stream",
     "text": [
      "100%|██████████| 6/6 [00:01<00:00,  3.42it/s]\n"
     ]
    },
    {
     "name": "stdout",
     "output_type": "stream",
     "text": [
      "Current Round: 162, Average Loss: 51.627492841912705, Test Loss: 99.30270634848242, Test Accuracy: 7.082087742499407, Best: 6.407514775404995\n"
     ]
    },
    {
     "name": "stderr",
     "output_type": "stream",
     "text": [
      "100%|██████████| 6/6 [00:01<00:00,  3.56it/s]\n"
     ]
    },
    {
     "name": "stdout",
     "output_type": "stream",
     "text": [
      "Current Round: 163, Average Loss: 51.612410759686014, Test Loss: 93.50786273427022, Test Accuracy: 6.803702116898887, Best: 6.407514775404995\n"
     ]
    },
    {
     "name": "stderr",
     "output_type": "stream",
     "text": [
      "100%|██████████| 6/6 [00:01<00:00,  3.61it/s]\n"
     ]
    },
    {
     "name": "stdout",
     "output_type": "stream",
     "text": [
      "Current Round: 164, Average Loss: 52.14631199826875, Test Loss: 91.12670941922302, Test Accuracy: 6.6798489463078194, Best: 6.407514775404995\n"
     ]
    },
    {
     "name": "stderr",
     "output_type": "stream",
     "text": [
      "100%|██████████| 6/6 [00:01<00:00,  3.59it/s]\n"
     ]
    },
    {
     "name": "stdout",
     "output_type": "stream",
     "text": [
      "Current Round: 165, Average Loss: 51.00693322341764, Test Loss: 91.5980417999073, Test Accuracy: 6.691147992158911, Best: 6.407514775404995\n"
     ]
    },
    {
     "name": "stderr",
     "output_type": "stream",
     "text": [
      "100%|██████████| 6/6 [00:01<00:00,  3.35it/s]\n"
     ]
    },
    {
     "name": "stdout",
     "output_type": "stream",
     "text": [
      "Current Round: 166, Average Loss: 51.35871559847185, Test Loss: 92.2204328930557, Test Accuracy: 6.750885645548503, Best: 6.407514775404995\n"
     ]
    },
    {
     "name": "stderr",
     "output_type": "stream",
     "text": [
      "100%|██████████| 6/6 [00:01<00:00,  3.43it/s]\n"
     ]
    },
    {
     "name": "stdout",
     "output_type": "stream",
     "text": [
      "Current Round: 167, Average Loss: 51.105367416091674, Test Loss: 91.29877704487193, Test Accuracy: 6.707926172306103, Best: 6.407514775404995\n"
     ]
    },
    {
     "name": "stderr",
     "output_type": "stream",
     "text": [
      "100%|██████████| 6/6 [00:01<00:00,  3.42it/s]\n"
     ]
    },
    {
     "name": "stdout",
     "output_type": "stream",
     "text": [
      "Current Round: 168, Average Loss: 51.48411911289866, Test Loss: 91.49924436597502, Test Accuracy: 6.755228106417177, Best: 6.407514775404995\n"
     ]
    },
    {
     "name": "stderr",
     "output_type": "stream",
     "text": [
      "100%|██████████| 6/6 [00:01<00:00,  3.39it/s]\n"
     ]
    },
    {
     "name": "stdout",
     "output_type": "stream",
     "text": [
      "Current Round: 169, Average Loss: 51.427949455793986, Test Loss: 93.91145045595542, Test Accuracy: 6.832551748188307, Best: 6.407514775404995\n"
     ]
    },
    {
     "name": "stderr",
     "output_type": "stream",
     "text": [
      "100%|██████████| 6/6 [00:01<00:00,  3.29it/s]\n"
     ]
    },
    {
     "name": "stdout",
     "output_type": "stream",
     "text": [
      "Current Round: 170, Average Loss: 51.59406891844236, Test Loss: 94.73571907964337, Test Accuracy: 6.849559436500294, Best: 6.407514775404995\n"
     ]
    },
    {
     "name": "stderr",
     "output_type": "stream",
     "text": [
      "100%|██████████| 6/6 [00:01<00:00,  3.30it/s]\n"
     ]
    },
    {
     "name": "stdout",
     "output_type": "stream",
     "text": [
      "Current Round: 171, Average Loss: 51.707778705288355, Test Loss: 95.47407320108901, Test Accuracy: 6.861382083821917, Best: 6.407514775404995\n"
     ]
    },
    {
     "name": "stderr",
     "output_type": "stream",
     "text": [
      "100%|██████████| 6/6 [00:01<00:00,  3.43it/s]\n"
     ]
    },
    {
     "name": "stdout",
     "output_type": "stream",
     "text": [
      "Current Round: 172, Average Loss: 51.51180274397509, Test Loss: 94.13945536386531, Test Accuracy: 6.771597026744592, Best: 6.407514775404995\n"
     ]
    },
    {
     "name": "stderr",
     "output_type": "stream",
     "text": [
      "100%|██████████| 6/6 [00:01<00:00,  3.34it/s]\n"
     ]
    },
    {
     "name": "stdout",
     "output_type": "stream",
     "text": [
      "Current Round: 173, Average Loss: 51.5858677494406, Test Loss: 93.13382949258167, Test Accuracy: 6.789583697785823, Best: 6.407514775404995\n"
     ]
    },
    {
     "name": "stderr",
     "output_type": "stream",
     "text": [
      "100%|██████████| 6/6 [00:01<00:00,  3.27it/s]\n"
     ]
    },
    {
     "name": "stdout",
     "output_type": "stream",
     "text": [
      "Current Round: 174, Average Loss: 50.98427442448419, Test Loss: 94.47738075679193, Test Accuracy: 6.808352998641344, Best: 6.407514775404995\n"
     ]
    },
    {
     "name": "stderr",
     "output_type": "stream",
     "text": [
      "100%|██████████| 6/6 [00:01<00:00,  3.32it/s]\n"
     ]
    },
    {
     "name": "stdout",
     "output_type": "stream",
     "text": [
      "Current Round: 175, Average Loss: 50.76195305451983, Test Loss: 96.52215380761703, Test Accuracy: 6.8811728348667, Best: 6.407514775404995\n"
     ]
    },
    {
     "name": "stderr",
     "output_type": "stream",
     "text": [
      "100%|██████████| 6/6 [00:01<00:00,  3.40it/s]\n"
     ]
    },
    {
     "name": "stdout",
     "output_type": "stream",
     "text": [
      "Current Round: 176, Average Loss: 52.044968594364086, Test Loss: 96.02479224323378, Test Accuracy: 6.869208727036562, Best: 6.407514775404995\n"
     ]
    },
    {
     "name": "stderr",
     "output_type": "stream",
     "text": [
      "100%|██████████| 6/6 [00:01<00:00,  3.31it/s]\n"
     ]
    },
    {
     "name": "stdout",
     "output_type": "stream",
     "text": [
      "Current Round: 177, Average Loss: 51.834010010795915, Test Loss: 94.51801259535027, Test Accuracy: 6.825150620981663, Best: 6.407514775404995\n"
     ]
    },
    {
     "name": "stderr",
     "output_type": "stream",
     "text": [
      "100%|██████████| 6/6 [00:01<00:00,  3.35it/s]\n"
     ]
    },
    {
     "name": "stdout",
     "output_type": "stream",
     "text": [
      "Current Round: 178, Average Loss: 50.588035099365435, Test Loss: 91.76167440065443, Test Accuracy: 6.710184943424872, Best: 6.407514775404995\n"
     ]
    },
    {
     "name": "stderr",
     "output_type": "stream",
     "text": [
      "100%|██████████| 6/6 [00:01<00:00,  3.56it/s]\n"
     ]
    },
    {
     "name": "stdout",
     "output_type": "stream",
     "text": [
      "Current Round: 179, Average Loss: 51.267220983364645, Test Loss: 94.34664295260163, Test Accuracy: 6.833584087045662, Best: 6.407514775404995\n"
     ]
    },
    {
     "name": "stderr",
     "output_type": "stream",
     "text": [
      "100%|██████████| 6/6 [00:01<00:00,  3.45it/s]\n"
     ]
    },
    {
     "name": "stdout",
     "output_type": "stream",
     "text": [
      "Current Round: 180, Average Loss: 51.38196379931091, Test Loss: 95.89568568269412, Test Accuracy: 6.919793999918922, Best: 6.407514775404995\n"
     ]
    },
    {
     "name": "stderr",
     "output_type": "stream",
     "text": [
      "100%|██████████| 6/6 [00:01<00:00,  3.45it/s]\n"
     ]
    },
    {
     "name": "stdout",
     "output_type": "stream",
     "text": [
      "Current Round: 181, Average Loss: 51.37495575395352, Test Loss: 97.10340183114003, Test Accuracy: 6.958078540390752, Best: 6.407514775404995\n"
     ]
    },
    {
     "name": "stderr",
     "output_type": "stream",
     "text": [
      "100%|██████████| 6/6 [00:01<00:00,  3.40it/s]\n"
     ]
    },
    {
     "name": "stdout",
     "output_type": "stream",
     "text": [
      "Current Round: 182, Average Loss: 51.3866195469105, Test Loss: 89.69385171529308, Test Accuracy: 6.643956667724004, Best: 6.407514775404995\n"
     ]
    },
    {
     "name": "stderr",
     "output_type": "stream",
     "text": [
      "100%|██████████| 6/6 [00:01<00:00,  3.58it/s]\n"
     ]
    },
    {
     "name": "stdout",
     "output_type": "stream",
     "text": [
      "Current Round: 183, Average Loss: 50.59500499577896, Test Loss: 88.90270205103772, Test Accuracy: 6.653109088410823, Best: 6.407514775404995\n"
     ]
    },
    {
     "name": "stderr",
     "output_type": "stream",
     "text": [
      "100%|██████████| 6/6 [00:01<00:00,  3.42it/s]\n"
     ]
    },
    {
     "name": "stdout",
     "output_type": "stream",
     "text": [
      "Current Round: 184, Average Loss: 50.95702485235267, Test Loss: 90.18084138613355, Test Accuracy: 6.64436765290252, Best: 6.407514775404995\n"
     ]
    },
    {
     "name": "stderr",
     "output_type": "stream",
     "text": [
      "100%|██████████| 6/6 [00:01<00:00,  3.44it/s]\n"
     ]
    },
    {
     "name": "stdout",
     "output_type": "stream",
     "text": [
      "Current Round: 185, Average Loss: 50.714037274401, Test Loss: 92.24349295714457, Test Accuracy: 6.840266238357941, Best: 6.407514775404995\n"
     ]
    },
    {
     "name": "stderr",
     "output_type": "stream",
     "text": [
      "100%|██████████| 6/6 [00:01<00:00,  3.36it/s]\n"
     ]
    },
    {
     "name": "stdout",
     "output_type": "stream",
     "text": [
      "Current Round: 186, Average Loss: 50.813682172455145, Test Loss: 96.30355546133225, Test Accuracy: 6.994324543514511, Best: 6.407514775404995\n"
     ]
    },
    {
     "name": "stderr",
     "output_type": "stream",
     "text": [
      "100%|██████████| 6/6 [00:01<00:00,  3.40it/s]\n"
     ]
    },
    {
     "name": "stdout",
     "output_type": "stream",
     "text": [
      "Current Round: 187, Average Loss: 51.18048730158716, Test Loss: 92.44345297515184, Test Accuracy: 6.777459450666198, Best: 6.407514775404995\n"
     ]
    },
    {
     "name": "stderr",
     "output_type": "stream",
     "text": [
      "100%|██████████| 6/6 [00:01<00:00,  3.26it/s]\n"
     ]
    },
    {
     "name": "stdout",
     "output_type": "stream",
     "text": [
      "Current Round: 188, Average Loss: 51.07301373368077, Test Loss: 90.20590190678983, Test Accuracy: 6.658743928060804, Best: 6.407514775404995\n"
     ]
    },
    {
     "name": "stderr",
     "output_type": "stream",
     "text": [
      "100%|██████████| 6/6 [00:01<00:00,  3.27it/s]\n"
     ]
    },
    {
     "name": "stdout",
     "output_type": "stream",
     "text": [
      "Current Round: 189, Average Loss: 50.76572802695292, Test Loss: 90.0080278241243, Test Accuracy: 6.670042328674997, Best: 6.407514775404995\n"
     ]
    },
    {
     "name": "stderr",
     "output_type": "stream",
     "text": [
      "100%|██████████| 6/6 [00:01<00:00,  3.27it/s]\n"
     ]
    },
    {
     "name": "stdout",
     "output_type": "stream",
     "text": [
      "Current Round: 190, Average Loss: 50.43397558679984, Test Loss: 85.09266918355685, Test Accuracy: 6.461722727306418, Best: 6.407514775404995\n"
     ]
    },
    {
     "name": "stderr",
     "output_type": "stream",
     "text": [
      "100%|██████████| 6/6 [00:01<00:00,  3.37it/s]\n"
     ]
    },
    {
     "name": "stdout",
     "output_type": "stream",
     "text": [
      "Current Round: 191, Average Loss: 50.62380120089614, Test Loss: 91.48848086442739, Test Accuracy: 6.769512814660055, Best: 6.407514775404995\n"
     ]
    },
    {
     "name": "stderr",
     "output_type": "stream",
     "text": [
      "100%|██████████| 6/6 [00:01<00:00,  3.35it/s]\n"
     ]
    },
    {
     "name": "stdout",
     "output_type": "stream",
     "text": [
      "Current Round: 192, Average Loss: 50.84766892250435, Test Loss: 93.96733696436895, Test Accuracy: 6.8746684758636585, Best: 6.407514775404995\n"
     ]
    },
    {
     "name": "stderr",
     "output_type": "stream",
     "text": [
      "100%|██████████| 6/6 [00:01<00:00,  3.27it/s]\n"
     ]
    },
    {
     "name": "stdout",
     "output_type": "stream",
     "text": [
      "Current Round: 193, Average Loss: 50.68857464291627, Test Loss: 93.08941394571663, Test Accuracy: 6.8361954104058364, Best: 6.407514775404995\n"
     ]
    },
    {
     "name": "stderr",
     "output_type": "stream",
     "text": [
      "100%|██████████| 6/6 [00:01<00:00,  3.27it/s]\n"
     ]
    },
    {
     "name": "stdout",
     "output_type": "stream",
     "text": [
      "Current Round: 194, Average Loss: 52.40597229206284, Test Loss: 91.82626312378392, Test Accuracy: 6.788262127352765, Best: 6.407514775404995\n"
     ]
    },
    {
     "name": "stderr",
     "output_type": "stream",
     "text": [
      "100%|██████████| 6/6 [00:01<00:00,  3.56it/s]\n"
     ]
    },
    {
     "name": "stdout",
     "output_type": "stream",
     "text": [
      "Current Round: 195, Average Loss: 49.82803580181747, Test Loss: 91.23199199762338, Test Accuracy: 6.796025544441913, Best: 6.407514775404995\n"
     ]
    },
    {
     "name": "stderr",
     "output_type": "stream",
     "text": [
      "100%|██████████| 6/6 [00:01<00:00,  3.57it/s]\n"
     ]
    },
    {
     "name": "stdout",
     "output_type": "stream",
     "text": [
      "Current Round: 196, Average Loss: 50.533385560978076, Test Loss: 89.37261075679042, Test Accuracy: 6.714915177488268, Best: 6.407514775404995\n"
     ]
    },
    {
     "name": "stderr",
     "output_type": "stream",
     "text": [
      "100%|██████████| 6/6 [00:01<00:00,  3.44it/s]\n"
     ]
    },
    {
     "name": "stdout",
     "output_type": "stream",
     "text": [
      "Current Round: 197, Average Loss: 50.409481004954394, Test Loss: 89.06132448619853, Test Accuracy: 6.693154251117541, Best: 6.407514775404995\n"
     ]
    },
    {
     "name": "stderr",
     "output_type": "stream",
     "text": [
      "100%|██████████| 6/6 [00:01<00:00,  3.44it/s]\n"
     ]
    },
    {
     "name": "stdout",
     "output_type": "stream",
     "text": [
      "Current Round: 198, Average Loss: 49.71550360030833, Test Loss: 85.87844011377742, Test Accuracy: 6.488156270212696, Best: 6.407514775404995\n"
     ]
    },
    {
     "name": "stderr",
     "output_type": "stream",
     "text": [
      "100%|██████████| 6/6 [00:01<00:00,  3.48it/s]\n"
     ]
    },
    {
     "name": "stdout",
     "output_type": "stream",
     "text": [
      "Current Round: 199, Average Loss: 50.04502063348173, Test Loss: 84.64384446150012, Test Accuracy: 6.414830450083982, Best: 6.407514775404995\n"
     ]
    },
    {
     "name": "stderr",
     "output_type": "stream",
     "text": [
      "100%|██████████| 6/6 [00:01<00:00,  3.68it/s]\n"
     ]
    },
    {
     "name": "stdout",
     "output_type": "stream",
     "text": [
      "Current Round: 200, Average Loss: 50.88039788855523, Test Loss: 85.75224516216707, Test Accuracy: 6.4813884749288455, Best: 6.407514775404995\n",
      "Training Done!\n",
      "Best Accuracy: 6.407514775404995\n",
      "Total time taken to Train: 426.51221799850464\n"
     ]
    }
   ],
   "source": [
    "# H = [args.commrounds, args.clientfr, args.numclient, args.clientepochs, args.clientbs, args.clientlr]\n",
    "for i in range(5):\n",
    "    model = RegressionModel(11)\n",
    "    model.cuda()\n",
    "    criterion = nn.MSELoss()\n",
    "    cr = 0.25\n",
    "    num = 1\n",
    "    filename = f\"BuildingFL_CR{cr}_{num}\"\n",
    "    while os.path.isfile(filename):\n",
    "        print('Name is taken...trying again...')\n",
    "        num += 1\n",
    "        filename = f\"BuildingFL_CR{cr}_{num}\"\n",
    "\n",
    "\n",
    "    training(model, 200, 16, 0.001, './data/dataloader.csv', data_dict, 1.0, 6, 1, 'plot_str', \"green\", './data/dataloader.csv', 2, criterion, 10, 10, False, filename, cr)"
   ]
  },
  {
   "cell_type": "code",
   "execution_count": 51,
   "metadata": {},
   "outputs": [
    {
     "name": "stderr",
     "output_type": "stream",
     "text": [
      "100%|██████████| 6/6 [00:01<00:00,  3.51it/s]\n"
     ]
    },
    {
     "name": "stdout",
     "output_type": "stream",
     "text": [
      "Current Round: 1, Average Loss: 1506.1762074405733, Test Loss: 5751.266207972719, Test Accuracy: 74.5306768405541, Best: 74.5306768405541\n"
     ]
    },
    {
     "name": "stderr",
     "output_type": "stream",
     "text": [
      "100%|██████████| 6/6 [00:01<00:00,  3.44it/s]\n"
     ]
    },
    {
     "name": "stdout",
     "output_type": "stream",
     "text": [
      "Current Round: 2, Average Loss: 1272.4035921657942, Test Loss: 5723.42590044629, Test Accuracy: 74.33152765796382, Best: 74.33152765796382\n"
     ]
    },
    {
     "name": "stderr",
     "output_type": "stream",
     "text": [
      "100%|██████████| 6/6 [00:01<00:00,  3.44it/s]\n"
     ]
    },
    {
     "name": "stdout",
     "output_type": "stream",
     "text": [
      "Current Round: 3, Average Loss: 1096.1554477723716, Test Loss: 5659.794302296314, Test Accuracy: 73.87465978289183, Best: 73.87465978289183\n"
     ]
    },
    {
     "name": "stderr",
     "output_type": "stream",
     "text": [
      "100%|██████████| 6/6 [00:01<00:00,  3.47it/s]\n"
     ]
    },
    {
     "name": "stdout",
     "output_type": "stream",
     "text": [
      "Current Round: 4, Average Loss: 935.0713270328516, Test Loss: 5555.06947328551, Test Accuracy: 73.12524295414543, Best: 73.12524295414543\n"
     ]
    },
    {
     "name": "stderr",
     "output_type": "stream",
     "text": [
      "100%|██████████| 6/6 [00:01<00:00,  3.44it/s]\n"
     ]
    },
    {
     "name": "stdout",
     "output_type": "stream",
     "text": [
      "Current Round: 5, Average Loss: 826.7254037434888, Test Loss: 5411.333551456494, Test Accuracy: 72.10302478643746, Best: 72.10302478643746\n"
     ]
    },
    {
     "name": "stderr",
     "output_type": "stream",
     "text": [
      "100%|██████████| 6/6 [00:01<00:00,  3.56it/s]\n"
     ]
    },
    {
     "name": "stdout",
     "output_type": "stream",
     "text": [
      "Current Round: 6, Average Loss: 725.1305516021416, Test Loss: 5230.620676865513, Test Accuracy: 70.81827696903045, Best: 70.81827696903045\n"
     ]
    },
    {
     "name": "stderr",
     "output_type": "stream",
     "text": [
      "100%|██████████| 6/6 [00:01<00:00,  3.49it/s]\n"
     ]
    },
    {
     "name": "stdout",
     "output_type": "stream",
     "text": [
      "Current Round: 7, Average Loss: 644.1405701323844, Test Loss: 5004.053240505441, Test Accuracy: 69.1942352332738, Best: 69.1942352332738\n"
     ]
    },
    {
     "name": "stderr",
     "output_type": "stream",
     "text": [
      "100%|██████████| 6/6 [00:01<00:00,  3.49it/s]\n"
     ]
    },
    {
     "name": "stdout",
     "output_type": "stream",
     "text": [
      "Current Round: 8, Average Loss: 588.6545683266917, Test Loss: 4730.429670860924, Test Accuracy: 67.1770900078718, Best: 67.1770900078718\n"
     ]
    },
    {
     "name": "stderr",
     "output_type": "stream",
     "text": [
      "100%|██████████| 6/6 [00:01<00:00,  3.52it/s]\n"
     ]
    },
    {
     "name": "stdout",
     "output_type": "stream",
     "text": [
      "Current Round: 9, Average Loss: 513.1440783658762, Test Loss: 3929.2830824160665, Test Accuracy: 61.1300188653088, Best: 61.1300188653088\n"
     ]
    },
    {
     "name": "stderr",
     "output_type": "stream",
     "text": [
      "100%|██████████| 6/6 [00:01<00:00,  3.37it/s]\n"
     ]
    },
    {
     "name": "stdout",
     "output_type": "stream",
     "text": [
      "Current Round: 10, Average Loss: 426.07638535086267, Test Loss: 3704.9611052521395, Test Accuracy: 59.26607084687905, Best: 59.26607084687905\n"
     ]
    },
    {
     "name": "stderr",
     "output_type": "stream",
     "text": [
      "100%|██████████| 6/6 [00:01<00:00,  3.49it/s]\n"
     ]
    },
    {
     "name": "stdout",
     "output_type": "stream",
     "text": [
      "Current Round: 11, Average Loss: 384.4429532858365, Test Loss: 3493.847575626113, Test Accuracy: 57.45080899187771, Best: 57.45080899187771\n"
     ]
    },
    {
     "name": "stderr",
     "output_type": "stream",
     "text": [
      "100%|██████████| 6/6 [00:01<00:00,  3.49it/s]\n"
     ]
    },
    {
     "name": "stdout",
     "output_type": "stream",
     "text": [
      "Current Round: 12, Average Loss: 362.03239522631446, Test Loss: 3291.630173542538, Test Accuracy: 55.6504569922238, Best: 55.6504569922238\n"
     ]
    },
    {
     "name": "stderr",
     "output_type": "stream",
     "text": [
      "100%|██████████| 6/6 [00:01<00:00,  3.38it/s]\n"
     ]
    },
    {
     "name": "stdout",
     "output_type": "stream",
     "text": [
      "Current Round: 13, Average Loss: 347.415282496904, Test Loss: 3098.445155865789, Test Accuracy: 53.86844999462255, Best: 53.86844999462255\n"
     ]
    },
    {
     "name": "stderr",
     "output_type": "stream",
     "text": [
      "100%|██████████| 6/6 [00:01<00:00,  3.38it/s]\n"
     ]
    },
    {
     "name": "stdout",
     "output_type": "stream",
     "text": [
      "Current Round: 14, Average Loss: 319.3533844550287, Test Loss: 2917.9259564140916, Test Accuracy: 52.14279037957741, Best: 52.14279037957741\n"
     ]
    },
    {
     "name": "stderr",
     "output_type": "stream",
     "text": [
      "100%|██████████| 6/6 [00:01<00:00,  3.44it/s]\n"
     ]
    },
    {
     "name": "stdout",
     "output_type": "stream",
     "text": [
      "Current Round: 15, Average Loss: 304.6944803979355, Test Loss: 2752.577037712012, Test Accuracy: 50.50512611408068, Best: 50.50512611408068\n"
     ]
    },
    {
     "name": "stderr",
     "output_type": "stream",
     "text": [
      "100%|██████████| 6/6 [00:01<00:00,  3.45it/s]\n"
     ]
    },
    {
     "name": "stdout",
     "output_type": "stream",
     "text": [
      "Current Round: 16, Average Loss: 294.657215688221, Test Loss: 2592.9536241722817, Test Accuracy: 48.866467361261115, Best: 48.866467361261115\n"
     ]
    },
    {
     "name": "stderr",
     "output_type": "stream",
     "text": [
      "100%|██████████| 6/6 [00:01<00:00,  3.42it/s]\n"
     ]
    },
    {
     "name": "stdout",
     "output_type": "stream",
     "text": [
      "Current Round: 17, Average Loss: 272.31013954975265, Test Loss: 2446.0413028759585, Test Accuracy: 47.30266062891321, Best: 47.30266062891321\n"
     ]
    },
    {
     "name": "stderr",
     "output_type": "stream",
     "text": [
      "100%|██████████| 6/6 [00:01<00:00,  3.50it/s]\n"
     ]
    },
    {
     "name": "stdout",
     "output_type": "stream",
     "text": [
      "Current Round: 18, Average Loss: 267.5376112481788, Test Loss: 2309.5510179030407, Test Accuracy: 45.79639990474507, Best: 45.79639990474507\n"
     ]
    },
    {
     "name": "stderr",
     "output_type": "stream",
     "text": [
      "100%|██████████| 6/6 [00:01<00:00,  3.43it/s]\n"
     ]
    },
    {
     "name": "stdout",
     "output_type": "stream",
     "text": [
      "Current Round: 19, Average Loss: 257.324668111035, Test Loss: 2189.259190139865, Test Accuracy: 44.42236497351967, Best: 44.42236497351967\n"
     ]
    },
    {
     "name": "stderr",
     "output_type": "stream",
     "text": [
      "100%|██████████| 6/6 [00:01<00:00,  3.37it/s]\n"
     ]
    },
    {
     "name": "stdout",
     "output_type": "stream",
     "text": [
      "Current Round: 20, Average Loss: 248.37658438512378, Test Loss: 2074.255352696226, Test Accuracy: 43.06284173447847, Best: 43.06284173447847\n"
     ]
    },
    {
     "name": "stderr",
     "output_type": "stream",
     "text": [
      "100%|██████████| 6/6 [00:01<00:00,  3.35it/s]\n"
     ]
    },
    {
     "name": "stdout",
     "output_type": "stream",
     "text": [
      "Current Round: 21, Average Loss: 240.950956334617, Test Loss: 1961.1334868174652, Test Accuracy: 41.675815830443426, Best: 41.675815830443426\n"
     ]
    },
    {
     "name": "stderr",
     "output_type": "stream",
     "text": [
      "100%|██████████| 6/6 [00:01<00:00,  3.36it/s]\n"
     ]
    },
    {
     "name": "stdout",
     "output_type": "stream",
     "text": [
      "Current Round: 22, Average Loss: 237.001423353135, Test Loss: 1857.2345298568555, Test Accuracy: 40.35550141600428, Best: 40.35550141600428\n"
     ]
    },
    {
     "name": "stderr",
     "output_type": "stream",
     "text": [
      "100%|██████████| 6/6 [00:01<00:00,  3.56it/s]\n"
     ]
    },
    {
     "name": "stdout",
     "output_type": "stream",
     "text": [
      "Current Round: 23, Average Loss: 232.3644317307879, Test Loss: 1765.842901671834, Test Accuracy: 39.15527899882755, Best: 39.15527899882755\n"
     ]
    },
    {
     "name": "stderr",
     "output_type": "stream",
     "text": [
      "100%|██████████| 6/6 [00:01<00:00,  3.52it/s]\n"
     ]
    },
    {
     "name": "stdout",
     "output_type": "stream",
     "text": [
      "Current Round: 24, Average Loss: 216.91788600833846, Test Loss: 1684.1726694621118, Test Accuracy: 38.05014626126012, Best: 38.05014626126012\n"
     ]
    },
    {
     "name": "stderr",
     "output_type": "stream",
     "text": [
      "100%|██████████| 6/6 [00:01<00:00,  3.34it/s]\n"
     ]
    },
    {
     "name": "stdout",
     "output_type": "stream",
     "text": [
      "Current Round: 25, Average Loss: 226.3641229676563, Test Loss: 1605.1745760514686, Test Accuracy: 36.95002735828083, Best: 36.95002735828083\n"
     ]
    },
    {
     "name": "stderr",
     "output_type": "stream",
     "text": [
      "100%|██████████| 6/6 [00:01<00:00,  3.30it/s]\n"
     ]
    },
    {
     "name": "stdout",
     "output_type": "stream",
     "text": [
      "Current Round: 26, Average Loss: 217.77116735447726, Test Loss: 1533.575911114207, Test Accuracy: 35.925182091997755, Best: 35.925182091997755\n"
     ]
    },
    {
     "name": "stderr",
     "output_type": "stream",
     "text": [
      "100%|██████████| 6/6 [00:01<00:00,  3.37it/s]\n"
     ]
    },
    {
     "name": "stdout",
     "output_type": "stream",
     "text": [
      "Current Round: 27, Average Loss: 211.01853935669587, Test Loss: 1466.7121976452984, Test Accuracy: 34.95051746770204, Best: 34.95051746770204\n"
     ]
    },
    {
     "name": "stderr",
     "output_type": "stream",
     "text": [
      "100%|██████████| 6/6 [00:01<00:00,  3.38it/s]\n"
     ]
    },
    {
     "name": "stdout",
     "output_type": "stream",
     "text": [
      "Current Round: 28, Average Loss: 208.3422435233789, Test Loss: 1406.9337915159956, Test Accuracy: 34.06059579955601, Best: 34.06059579955601\n"
     ]
    },
    {
     "name": "stderr",
     "output_type": "stream",
     "text": [
      "100%|██████████| 6/6 [00:01<00:00,  3.43it/s]\n"
     ]
    },
    {
     "name": "stdout",
     "output_type": "stream",
     "text": [
      "Current Round: 29, Average Loss: 201.70078697378054, Test Loss: 1350.3905631068915, Test Accuracy: 33.20498506198585, Best: 33.20498506198585\n"
     ]
    },
    {
     "name": "stderr",
     "output_type": "stream",
     "text": [
      "100%|██████████| 6/6 [00:01<00:00,  3.48it/s]\n"
     ]
    },
    {
     "name": "stdout",
     "output_type": "stream",
     "text": [
      "Current Round: 30, Average Loss: 198.94965038165515, Test Loss: 1299.0720101915476, Test Accuracy: 32.420882370392185, Best: 32.420882370392185\n"
     ]
    },
    {
     "name": "stderr",
     "output_type": "stream",
     "text": [
      "100%|██████████| 6/6 [00:01<00:00,  3.44it/s]\n"
     ]
    },
    {
     "name": "stdout",
     "output_type": "stream",
     "text": [
      "Current Round: 31, Average Loss: 197.9108375474016, Test Loss: 1251.5121105600615, Test Accuracy: 31.683784319417924, Best: 31.683784319417924\n"
     ]
    },
    {
     "name": "stderr",
     "output_type": "stream",
     "text": [
      "100%|██████████| 6/6 [00:01<00:00,  3.40it/s]\n"
     ]
    },
    {
     "name": "stdout",
     "output_type": "stream",
     "text": [
      "Current Round: 32, Average Loss: 200.6466669415383, Test Loss: 1206.6007482441237, Test Accuracy: 30.97938674680953, Best: 30.97938674680953\n"
     ]
    },
    {
     "name": "stderr",
     "output_type": "stream",
     "text": [
      "100%|██████████| 6/6 [00:01<00:00,  3.40it/s]\n"
     ]
    },
    {
     "name": "stdout",
     "output_type": "stream",
     "text": [
      "Current Round: 33, Average Loss: 196.0675141853752, Test Loss: 1169.4894833759747, Test Accuracy: 30.39051601405185, Best: 30.39051601405185\n"
     ]
    },
    {
     "name": "stderr",
     "output_type": "stream",
     "text": [
      "100%|██████████| 6/6 [00:01<00:00,  3.39it/s]\n"
     ]
    },
    {
     "name": "stdout",
     "output_type": "stream",
     "text": [
      "Current Round: 34, Average Loss: 191.05606277957835, Test Loss: 1135.57509739721, Test Accuracy: 29.839772235062043, Best: 29.839772235062043\n"
     ]
    },
    {
     "name": "stderr",
     "output_type": "stream",
     "text": [
      "100%|██████████| 6/6 [00:01<00:00,  3.38it/s]\n"
     ]
    },
    {
     "name": "stdout",
     "output_type": "stream",
     "text": [
      "Current Round: 35, Average Loss: 191.53926208384917, Test Loss: 1102.4937794743269, Test Accuracy: 29.297748908382072, Best: 29.297748908382072\n"
     ]
    },
    {
     "name": "stderr",
     "output_type": "stream",
     "text": [
      "100%|██████████| 6/6 [00:01<00:00,  3.35it/s]\n"
     ]
    },
    {
     "name": "stdout",
     "output_type": "stream",
     "text": [
      "Current Round: 36, Average Loss: 190.319027572554, Test Loss: 1075.682850339008, Test Accuracy: 28.851291890481146, Best: 28.851291890481146\n"
     ]
    },
    {
     "name": "stderr",
     "output_type": "stream",
     "text": [
      "100%|██████████| 6/6 [00:01<00:00,  3.51it/s]\n"
     ]
    },
    {
     "name": "stdout",
     "output_type": "stream",
     "text": [
      "Current Round: 37, Average Loss: 191.03664748669, Test Loss: 1046.3758154199027, Test Accuracy: 28.36243619056144, Best: 28.36243619056144\n"
     ]
    },
    {
     "name": "stderr",
     "output_type": "stream",
     "text": [
      "100%|██████████| 6/6 [00:01<00:00,  3.43it/s]\n"
     ]
    },
    {
     "name": "stdout",
     "output_type": "stream",
     "text": [
      "Current Round: 38, Average Loss: 189.5251602353152, Test Loss: 1019.1715423933783, Test Accuracy: 27.895800603514417, Best: 27.895800603514417\n"
     ]
    },
    {
     "name": "stderr",
     "output_type": "stream",
     "text": [
      "100%|██████████| 6/6 [00:01<00:00,  3.39it/s]\n"
     ]
    },
    {
     "name": "stdout",
     "output_type": "stream",
     "text": [
      "Current Round: 39, Average Loss: 185.8717396948905, Test Loss: 997.3376567467143, Test Accuracy: 27.52421516881704, Best: 27.52421516881704\n"
     ]
    },
    {
     "name": "stderr",
     "output_type": "stream",
     "text": [
      "100%|██████████| 6/6 [00:01<00:00,  3.41it/s]\n"
     ]
    },
    {
     "name": "stdout",
     "output_type": "stream",
     "text": [
      "Current Round: 40, Average Loss: 183.20418632452655, Test Loss: 980.9574108974641, Test Accuracy: 27.246493237907853, Best: 27.246493237907853\n"
     ]
    },
    {
     "name": "stderr",
     "output_type": "stream",
     "text": [
      "100%|██████████| 6/6 [00:01<00:00,  3.41it/s]\n"
     ]
    },
    {
     "name": "stdout",
     "output_type": "stream",
     "text": [
      "Current Round: 41, Average Loss: 181.4587905905341, Test Loss: 964.6969765872317, Test Accuracy: 26.964880299243195, Best: 26.964880299243195\n"
     ]
    },
    {
     "name": "stderr",
     "output_type": "stream",
     "text": [
      "100%|██████████| 6/6 [00:01<00:00,  3.51it/s]\n"
     ]
    },
    {
     "name": "stdout",
     "output_type": "stream",
     "text": [
      "Current Round: 42, Average Loss: 181.96255850716366, Test Loss: 948.2459711289908, Test Accuracy: 26.685593436050887, Best: 26.685593436050887\n"
     ]
    },
    {
     "name": "stderr",
     "output_type": "stream",
     "text": [
      "100%|██████████| 6/6 [00:01<00:00,  3.46it/s]\n"
     ]
    },
    {
     "name": "stdout",
     "output_type": "stream",
     "text": [
      "Current Round: 43, Average Loss: 179.37037635102521, Test Loss: 931.5078884140119, Test Accuracy: 26.395372185122124, Best: 26.395372185122124\n"
     ]
    },
    {
     "name": "stderr",
     "output_type": "stream",
     "text": [
      "100%|██████████| 6/6 [00:01<00:00,  3.56it/s]\n"
     ]
    },
    {
     "name": "stdout",
     "output_type": "stream",
     "text": [
      "Current Round: 44, Average Loss: 183.9752832028727, Test Loss: 917.4656640328144, Test Accuracy: 26.150673378208165, Best: 26.150673378208165\n"
     ]
    },
    {
     "name": "stderr",
     "output_type": "stream",
     "text": [
      "100%|██████████| 6/6 [00:01<00:00,  3.48it/s]\n"
     ]
    },
    {
     "name": "stdout",
     "output_type": "stream",
     "text": [
      "Current Round: 45, Average Loss: 179.00932791424597, Test Loss: 906.7238489763149, Test Accuracy: 25.961570661750425, Best: 25.961570661750425\n"
     ]
    },
    {
     "name": "stderr",
     "output_type": "stream",
     "text": [
      "100%|██████████| 6/6 [00:01<00:00,  3.46it/s]\n"
     ]
    },
    {
     "name": "stdout",
     "output_type": "stream",
     "text": [
      "Current Round: 46, Average Loss: 179.23533124846173, Test Loss: 893.4900092304565, Test Accuracy: 25.726068406890906, Best: 25.726068406890906\n"
     ]
    },
    {
     "name": "stderr",
     "output_type": "stream",
     "text": [
      "100%|██████████| 6/6 [00:01<00:00,  3.43it/s]\n"
     ]
    },
    {
     "name": "stdout",
     "output_type": "stream",
     "text": [
      "Current Round: 47, Average Loss: 176.42488372432672, Test Loss: 884.5830168919049, Test Accuracy: 25.572581876166247, Best: 25.572581876166247\n"
     ]
    },
    {
     "name": "stderr",
     "output_type": "stream",
     "text": [
      "100%|██████████| 6/6 [00:01<00:00,  3.50it/s]\n"
     ]
    },
    {
     "name": "stdout",
     "output_type": "stream",
     "text": [
      "Current Round: 48, Average Loss: 175.8058939898689, Test Loss: 876.4693185116131, Test Accuracy: 25.432380607727882, Best: 25.432380607727882\n"
     ]
    },
    {
     "name": "stderr",
     "output_type": "stream",
     "text": [
      "100%|██████████| 6/6 [00:01<00:00,  3.40it/s]\n"
     ]
    },
    {
     "name": "stdout",
     "output_type": "stream",
     "text": [
      "Current Round: 49, Average Loss: 175.72476228623577, Test Loss: 864.4550493587792, Test Accuracy: 25.219221701261574, Best: 25.219221701261574\n"
     ]
    },
    {
     "name": "stderr",
     "output_type": "stream",
     "text": [
      "100%|██████████| 6/6 [00:01<00:00,  3.44it/s]\n"
     ]
    },
    {
     "name": "stdout",
     "output_type": "stream",
     "text": [
      "Current Round: 50, Average Loss: 175.2810481490553, Test Loss: 854.8435889158993, Test Accuracy: 25.047448502154154, Best: 25.047448502154154\n"
     ]
    },
    {
     "name": "stderr",
     "output_type": "stream",
     "text": [
      "100%|██████████| 6/6 [00:01<00:00,  3.36it/s]\n"
     ]
    },
    {
     "name": "stdout",
     "output_type": "stream",
     "text": [
      "Current Round: 51, Average Loss: 171.9788633751051, Test Loss: 847.0000781782497, Test Accuracy: 24.90856003554485, Best: 24.90856003554485\n"
     ]
    },
    {
     "name": "stderr",
     "output_type": "stream",
     "text": [
      "100%|██████████| 6/6 [00:01<00:00,  3.37it/s]\n"
     ]
    },
    {
     "name": "stdout",
     "output_type": "stream",
     "text": [
      "Current Round: 52, Average Loss: 174.63717179037545, Test Loss: 836.2031453199398, Test Accuracy: 24.715146198296342, Best: 24.715146198296342\n"
     ]
    },
    {
     "name": "stderr",
     "output_type": "stream",
     "text": [
      "100%|██████████| 6/6 [00:01<00:00,  3.37it/s]\n"
     ]
    },
    {
     "name": "stdout",
     "output_type": "stream",
     "text": [
      "Current Round: 53, Average Loss: 169.25838510592942, Test Loss: 829.092697421562, Test Accuracy: 24.59371832194086, Best: 24.59371832194086\n"
     ]
    },
    {
     "name": "stderr",
     "output_type": "stream",
     "text": [
      "100%|██████████| 6/6 [00:01<00:00,  3.36it/s]\n"
     ]
    },
    {
     "name": "stdout",
     "output_type": "stream",
     "text": [
      "Current Round: 54, Average Loss: 172.82889953999378, Test Loss: 817.7378176862866, Test Accuracy: 24.390518226292645, Best: 24.390518226292645\n"
     ]
    },
    {
     "name": "stderr",
     "output_type": "stream",
     "text": [
      "100%|██████████| 6/6 [00:01<00:00,  3.36it/s]\n"
     ]
    },
    {
     "name": "stdout",
     "output_type": "stream",
     "text": [
      "Current Round: 55, Average Loss: 174.7832217585109, Test Loss: 807.509237514848, Test Accuracy: 24.20927267299118, Best: 24.20927267299118\n"
     ]
    },
    {
     "name": "stderr",
     "output_type": "stream",
     "text": [
      "100%|██████████| 6/6 [00:01<00:00,  3.37it/s]\n"
     ]
    },
    {
     "name": "stdout",
     "output_type": "stream",
     "text": [
      "Current Round: 56, Average Loss: 171.7968193515201, Test Loss: 774.6478419554094, Test Accuracy: 23.48178796165495, Best: 23.48178796165495\n"
     ]
    },
    {
     "name": "stderr",
     "output_type": "stream",
     "text": [
      "100%|██████████| 6/6 [00:01<00:00,  3.45it/s]\n"
     ]
    },
    {
     "name": "stdout",
     "output_type": "stream",
     "text": [
      "Current Round: 57, Average Loss: 169.36352376686864, Test Loss: 740.413415145549, Test Accuracy: 22.710363938758217, Best: 22.710363938758217\n"
     ]
    },
    {
     "name": "stderr",
     "output_type": "stream",
     "text": [
      "100%|██████████| 6/6 [00:01<00:00,  3.45it/s]\n"
     ]
    },
    {
     "name": "stdout",
     "output_type": "stream",
     "text": [
      "Current Round: 58, Average Loss: 169.52314960311, Test Loss: 707.9035787786249, Test Accuracy: 21.956698652832333, Best: 21.956698652832333\n"
     ]
    },
    {
     "name": "stderr",
     "output_type": "stream",
     "text": [
      "100%|██████████| 6/6 [00:01<00:00,  3.44it/s]\n"
     ]
    },
    {
     "name": "stdout",
     "output_type": "stream",
     "text": [
      "Current Round: 59, Average Loss: 166.45949038024182, Test Loss: 640.7785219163848, Test Accuracy: 20.360184751035554, Best: 20.360184751035554\n"
     ]
    },
    {
     "name": "stderr",
     "output_type": "stream",
     "text": [
      "100%|██████████| 6/6 [00:01<00:00,  3.58it/s]\n"
     ]
    },
    {
     "name": "stdout",
     "output_type": "stream",
     "text": [
      "Current Round: 60, Average Loss: 162.68197590203857, Test Loss: 589.913726101873, Test Accuracy: 19.117553578581212, Best: 19.117553578581212\n"
     ]
    },
    {
     "name": "stderr",
     "output_type": "stream",
     "text": [
      "100%|██████████| 6/6 [00:01<00:00,  3.67it/s]\n"
     ]
    },
    {
     "name": "stdout",
     "output_type": "stream",
     "text": [
      "Current Round: 61, Average Loss: 162.14532976977108, Test Loss: 546.3188446599164, Test Accuracy: 18.075569764979857, Best: 18.075569764979857\n"
     ]
    },
    {
     "name": "stderr",
     "output_type": "stream",
     "text": [
      "100%|██████████| 6/6 [00:01<00:00,  3.57it/s]\n"
     ]
    },
    {
     "name": "stdout",
     "output_type": "stream",
     "text": [
      "Current Round: 62, Average Loss: 157.13456331647032, Test Loss: 514.3581368083866, Test Accuracy: 17.300367043364005, Best: 17.300367043364005\n"
     ]
    },
    {
     "name": "stderr",
     "output_type": "stream",
     "text": [
      "100%|██████████| 6/6 [00:01<00:00,  3.39it/s]\n"
     ]
    },
    {
     "name": "stdout",
     "output_type": "stream",
     "text": [
      "Current Round: 63, Average Loss: 156.13743098189192, Test Loss: 491.4897638404975, Test Accuracy: 16.741232224408876, Best: 16.741232224408876\n"
     ]
    },
    {
     "name": "stderr",
     "output_type": "stream",
     "text": [
      "100%|██████████| 6/6 [00:01<00:00,  3.40it/s]\n"
     ]
    },
    {
     "name": "stdout",
     "output_type": "stream",
     "text": [
      "Current Round: 64, Average Loss: 154.2953079455448, Test Loss: 469.1731196093313, Test Accuracy: 16.19510558458066, Best: 16.19510558458066\n"
     ]
    },
    {
     "name": "stderr",
     "output_type": "stream",
     "text": [
      "100%|██████████| 6/6 [00:01<00:00,  3.48it/s]\n"
     ]
    },
    {
     "name": "stdout",
     "output_type": "stream",
     "text": [
      "Current Round: 65, Average Loss: 152.75693675678951, Test Loss: 447.3547951015361, Test Accuracy: 15.677884958638282, Best: 15.677884958638282\n"
     ]
    },
    {
     "name": "stderr",
     "output_type": "stream",
     "text": [
      "100%|██████████| 6/6 [00:01<00:00,  3.58it/s]\n"
     ]
    },
    {
     "name": "stdout",
     "output_type": "stream",
     "text": [
      "Current Round: 66, Average Loss: 146.7125543731294, Test Loss: 432.50839156619605, Test Accuracy: 15.328662529606211, Best: 15.328662529606211\n"
     ]
    },
    {
     "name": "stderr",
     "output_type": "stream",
     "text": [
      "100%|██████████| 6/6 [00:01<00:00,  3.31it/s]\n"
     ]
    },
    {
     "name": "stdout",
     "output_type": "stream",
     "text": [
      "Current Round: 67, Average Loss: 143.75334772223266, Test Loss: 419.92433095912656, Test Accuracy: 15.04810800280565, Best: 15.04810800280565\n"
     ]
    },
    {
     "name": "stderr",
     "output_type": "stream",
     "text": [
      "100%|██████████| 6/6 [00:01<00:00,  3.32it/s]\n"
     ]
    },
    {
     "name": "stdout",
     "output_type": "stream",
     "text": [
      "Current Round: 68, Average Loss: 143.18990555219582, Test Loss: 407.5088754370624, Test Accuracy: 14.799752049877446, Best: 14.799752049877446\n"
     ]
    },
    {
     "name": "stderr",
     "output_type": "stream",
     "text": [
      "100%|██████████| 6/6 [00:01<00:00,  3.38it/s]\n"
     ]
    },
    {
     "name": "stdout",
     "output_type": "stream",
     "text": [
      "Current Round: 69, Average Loss: 142.68117728028986, Test Loss: 397.99668299830654, Test Accuracy: 14.64206937579565, Best: 14.64206937579565\n"
     ]
    },
    {
     "name": "stderr",
     "output_type": "stream",
     "text": [
      "100%|██████████| 6/6 [00:01<00:00,  3.28it/s]\n"
     ]
    },
    {
     "name": "stdout",
     "output_type": "stream",
     "text": [
      "Current Round: 70, Average Loss: 138.8272350222443, Test Loss: 390.9522138428695, Test Accuracy: 14.550464918474578, Best: 14.550464918474578\n"
     ]
    },
    {
     "name": "stderr",
     "output_type": "stream",
     "text": [
      "100%|██████████| 6/6 [00:01<00:00,  3.41it/s]\n"
     ]
    },
    {
     "name": "stdout",
     "output_type": "stream",
     "text": [
      "Current Round: 71, Average Loss: 138.02665837434955, Test Loss: 385.10208982821723, Test Accuracy: 14.486989814257237, Best: 14.486989814257237\n"
     ]
    },
    {
     "name": "stderr",
     "output_type": "stream",
     "text": [
      "100%|██████████| 6/6 [00:01<00:00,  3.35it/s]\n"
     ]
    },
    {
     "name": "stdout",
     "output_type": "stream",
     "text": [
      "Current Round: 72, Average Loss: 136.01434402004554, Test Loss: 380.4559940588851, Test Accuracy: 14.458466093779496, Best: 14.458466093779496\n"
     ]
    },
    {
     "name": "stderr",
     "output_type": "stream",
     "text": [
      "100%|██████████| 6/6 [00:01<00:00,  3.36it/s]\n"
     ]
    },
    {
     "name": "stdout",
     "output_type": "stream",
     "text": [
      "Current Round: 73, Average Loss: 132.2178252547901, Test Loss: 377.6176110819961, Test Accuracy: 14.466174970624467, Best: 14.458466093779496\n"
     ]
    },
    {
     "name": "stderr",
     "output_type": "stream",
     "text": [
      "100%|██████████| 6/6 [00:01<00:00,  3.35it/s]\n"
     ]
    },
    {
     "name": "stdout",
     "output_type": "stream",
     "text": [
      "Current Round: 74, Average Loss: 132.72400655049307, Test Loss: 374.43681841534755, Test Accuracy: 14.473071586391445, Best: 14.458466093779496\n"
     ]
    },
    {
     "name": "stderr",
     "output_type": "stream",
     "text": [
      "100%|██████████| 6/6 [00:01<00:00,  3.56it/s]\n"
     ]
    },
    {
     "name": "stdout",
     "output_type": "stream",
     "text": [
      "Current Round: 75, Average Loss: 134.35351405850747, Test Loss: 372.17517449471364, Test Accuracy: 14.477174255484542, Best: 14.458466093779496\n"
     ]
    },
    {
     "name": "stderr",
     "output_type": "stream",
     "text": [
      "100%|██████████| 6/6 [00:01<00:00,  3.45it/s]\n"
     ]
    },
    {
     "name": "stdout",
     "output_type": "stream",
     "text": [
      "Current Round: 76, Average Loss: 131.4933785703929, Test Loss: 370.2226050629233, Test Accuracy: 14.505233452665761, Best: 14.458466093779496\n"
     ]
    },
    {
     "name": "stderr",
     "output_type": "stream",
     "text": [
      "100%|██████████| 6/6 [00:01<00:00,  3.38it/s]\n"
     ]
    },
    {
     "name": "stdout",
     "output_type": "stream",
     "text": [
      "Current Round: 77, Average Loss: 130.3745881692099, Test Loss: 367.91151340181165, Test Accuracy: 14.530470241844432, Best: 14.458466093779496\n"
     ]
    },
    {
     "name": "stderr",
     "output_type": "stream",
     "text": [
      "100%|██████████| 6/6 [00:01<00:00,  3.43it/s]\n"
     ]
    },
    {
     "name": "stdout",
     "output_type": "stream",
     "text": [
      "Current Round: 78, Average Loss: 129.8638599419932, Test Loss: 367.8455777224615, Test Accuracy: 14.561480112087624, Best: 14.458466093779496\n"
     ]
    },
    {
     "name": "stderr",
     "output_type": "stream",
     "text": [
      "100%|██████████| 6/6 [00:01<00:00,  3.46it/s]\n"
     ]
    },
    {
     "name": "stdout",
     "output_type": "stream",
     "text": [
      "Current Round: 79, Average Loss: 127.35489094203145, Test Loss: 368.3858111242416, Test Accuracy: 14.604728857085313, Best: 14.458466093779496\n"
     ]
    },
    {
     "name": "stderr",
     "output_type": "stream",
     "text": [
      "100%|██████████| 6/6 [00:01<00:00,  3.45it/s]\n"
     ]
    },
    {
     "name": "stdout",
     "output_type": "stream",
     "text": [
      "Current Round: 80, Average Loss: 127.54037841377925, Test Loss: 366.37568402205403, Test Accuracy: 14.627140201157353, Best: 14.458466093779496\n"
     ]
    },
    {
     "name": "stderr",
     "output_type": "stream",
     "text": [
      "100%|██████████| 6/6 [00:01<00:00,  3.51it/s]\n"
     ]
    },
    {
     "name": "stdout",
     "output_type": "stream",
     "text": [
      "Current Round: 81, Average Loss: 125.42584965303611, Test Loss: 364.56979891966193, Test Accuracy: 14.641927924741157, Best: 14.458466093779496\n"
     ]
    },
    {
     "name": "stderr",
     "output_type": "stream",
     "text": [
      "100%|██████████| 6/6 [00:01<00:00,  3.46it/s]\n"
     ]
    },
    {
     "name": "stdout",
     "output_type": "stream",
     "text": [
      "Current Round: 82, Average Loss: 126.45770109023408, Test Loss: 327.0384572262621, Test Accuracy: 14.213445895075651, Best: 14.213445895075651\n"
     ]
    },
    {
     "name": "stderr",
     "output_type": "stream",
     "text": [
      "100%|██████████| 6/6 [00:01<00:00,  3.45it/s]\n"
     ]
    },
    {
     "name": "stdout",
     "output_type": "stream",
     "text": [
      "Current Round: 83, Average Loss: 123.10089636446935, Test Loss: 326.8733281587727, Test Accuracy: 14.242019182982794, Best: 14.213445895075651\n"
     ]
    },
    {
     "name": "stderr",
     "output_type": "stream",
     "text": [
      "100%|██████████| 6/6 [00:01<00:00,  3.58it/s]\n"
     ]
    },
    {
     "name": "stdout",
     "output_type": "stream",
     "text": [
      "Current Round: 84, Average Loss: 123.51283646602349, Test Loss: 326.24034377445076, Test Accuracy: 14.283305195332165, Best: 14.213445895075651\n"
     ]
    },
    {
     "name": "stderr",
     "output_type": "stream",
     "text": [
      "100%|██████████| 6/6 [00:01<00:00,  3.43it/s]\n"
     ]
    },
    {
     "name": "stdout",
     "output_type": "stream",
     "text": [
      "Current Round: 85, Average Loss: 118.56494215808823, Test Loss: 327.3720590323764, Test Accuracy: 14.333167989605569, Best: 14.213445895075651\n"
     ]
    },
    {
     "name": "stderr",
     "output_type": "stream",
     "text": [
      "100%|██████████| 6/6 [00:01<00:00,  3.34it/s]\n"
     ]
    },
    {
     "name": "stdout",
     "output_type": "stream",
     "text": [
      "Current Round: 86, Average Loss: 115.5550858623909, Test Loss: 328.684811997, Test Accuracy: 14.363575766373154, Best: 14.213445895075651\n"
     ]
    },
    {
     "name": "stderr",
     "output_type": "stream",
     "text": [
      "100%|██████████| 6/6 [00:01<00:00,  3.38it/s]\n"
     ]
    },
    {
     "name": "stdout",
     "output_type": "stream",
     "text": [
      "Current Round: 87, Average Loss: 114.51025521248863, Test Loss: 329.91201009367774, Test Accuracy: 14.370546624562998, Best: 14.213445895075651\n"
     ]
    },
    {
     "name": "stderr",
     "output_type": "stream",
     "text": [
      "100%|██████████| 6/6 [00:01<00:00,  3.40it/s]\n"
     ]
    },
    {
     "name": "stdout",
     "output_type": "stream",
     "text": [
      "Current Round: 88, Average Loss: 110.28428054095728, Test Loss: 331.9931031116913, Test Accuracy: 14.36448098647107, Best: 14.213445895075651\n"
     ]
    },
    {
     "name": "stderr",
     "output_type": "stream",
     "text": [
      "100%|██████████| 6/6 [00:01<00:00,  3.41it/s]\n"
     ]
    },
    {
     "name": "stdout",
     "output_type": "stream",
     "text": [
      "Current Round: 89, Average Loss: 108.12188315105713, Test Loss: 335.5773238689446, Test Accuracy: 14.411239040237673, Best: 14.213445895075651\n"
     ]
    },
    {
     "name": "stderr",
     "output_type": "stream",
     "text": [
      "100%|██████████| 6/6 [00:01<00:00,  3.40it/s]\n"
     ]
    },
    {
     "name": "stdout",
     "output_type": "stream",
     "text": [
      "Current Round: 90, Average Loss: 110.04659525527103, Test Loss: 337.7811971746265, Test Accuracy: 14.38866058689954, Best: 14.213445895075651\n"
     ]
    },
    {
     "name": "stderr",
     "output_type": "stream",
     "text": [
      "100%|██████████| 6/6 [00:01<00:00,  3.46it/s]\n"
     ]
    },
    {
     "name": "stdout",
     "output_type": "stream",
     "text": [
      "Current Round: 91, Average Loss: 107.3312797667288, Test Loss: 341.35844680480426, Test Accuracy: 14.399526683519026, Best: 14.213445895075651\n"
     ]
    },
    {
     "name": "stderr",
     "output_type": "stream",
     "text": [
      "100%|██████████| 6/6 [00:01<00:00,  3.52it/s]\n"
     ]
    },
    {
     "name": "stdout",
     "output_type": "stream",
     "text": [
      "Current Round: 92, Average Loss: 105.59525227582832, Test Loss: 344.45044711154634, Test Accuracy: 14.374254843559408, Best: 14.213445895075651\n"
     ]
    },
    {
     "name": "stderr",
     "output_type": "stream",
     "text": [
      "100%|██████████| 6/6 [00:01<00:00,  3.57it/s]\n"
     ]
    },
    {
     "name": "stdout",
     "output_type": "stream",
     "text": [
      "Current Round: 93, Average Loss: 106.56339540549902, Test Loss: 347.4900070287592, Test Accuracy: 14.363226908290253, Best: 14.213445895075651\n"
     ]
    },
    {
     "name": "stderr",
     "output_type": "stream",
     "text": [
      "100%|██████████| 6/6 [00:01<00:00,  3.31it/s]\n"
     ]
    },
    {
     "name": "stdout",
     "output_type": "stream",
     "text": [
      "Current Round: 94, Average Loss: 102.3785776290352, Test Loss: 349.6735370718635, Test Accuracy: 14.32261799997852, Best: 14.213445895075651\n"
     ]
    },
    {
     "name": "stderr",
     "output_type": "stream",
     "text": [
      "100%|██████████| 6/6 [00:01<00:00,  3.43it/s]\n"
     ]
    },
    {
     "name": "stdout",
     "output_type": "stream",
     "text": [
      "Current Round: 95, Average Loss: 107.01636040682173, Test Loss: 351.9798051104817, Test Accuracy: 14.299358571181362, Best: 14.213445895075651\n"
     ]
    },
    {
     "name": "stderr",
     "output_type": "stream",
     "text": [
      "100%|██████████| 6/6 [00:01<00:00,  3.40it/s]\n"
     ]
    },
    {
     "name": "stdout",
     "output_type": "stream",
     "text": [
      "Current Round: 96, Average Loss: 101.89274708291987, Test Loss: 355.2999571076002, Test Accuracy: 14.287529833107042, Best: 14.213445895075651\n"
     ]
    },
    {
     "name": "stderr",
     "output_type": "stream",
     "text": [
      "100%|██████████| 6/6 [00:01<00:00,  3.40it/s]\n"
     ]
    },
    {
     "name": "stdout",
     "output_type": "stream",
     "text": [
      "Current Round: 97, Average Loss: 101.66202990805395, Test Loss: 357.9113848646445, Test Accuracy: 14.271539723562928, Best: 14.213445895075651\n"
     ]
    },
    {
     "name": "stderr",
     "output_type": "stream",
     "text": [
      "100%|██████████| 6/6 [00:01<00:00,  3.37it/s]\n"
     ]
    },
    {
     "name": "stdout",
     "output_type": "stream",
     "text": [
      "Current Round: 98, Average Loss: 103.42255355248325, Test Loss: 360.91674046665247, Test Accuracy: 14.250559328213944, Best: 14.213445895075651\n"
     ]
    },
    {
     "name": "stderr",
     "output_type": "stream",
     "text": [
      "100%|██████████| 6/6 [00:01<00:00,  3.36it/s]\n"
     ]
    },
    {
     "name": "stdout",
     "output_type": "stream",
     "text": [
      "Current Round: 99, Average Loss: 101.11921219275774, Test Loss: 364.18932933627156, Test Accuracy: 14.249898244014016, Best: 14.213445895075651\n"
     ]
    },
    {
     "name": "stderr",
     "output_type": "stream",
     "text": [
      "100%|██████████| 6/6 [00:01<00:00,  3.40it/s]\n"
     ]
    },
    {
     "name": "stdout",
     "output_type": "stream",
     "text": [
      "Current Round: 100, Average Loss: 100.81285444044516, Test Loss: 365.1681926785201, Test Accuracy: 14.190761521255512, Best: 14.190761521255512\n"
     ]
    },
    {
     "name": "stderr",
     "output_type": "stream",
     "text": [
      "100%|██████████| 6/6 [00:01<00:00,  3.62it/s]\n"
     ]
    },
    {
     "name": "stdout",
     "output_type": "stream",
     "text": [
      "Current Round: 101, Average Loss: 103.6804457929684, Test Loss: 367.32124245661635, Test Accuracy: 14.164845127450784, Best: 14.164845127450784\n"
     ]
    },
    {
     "name": "stderr",
     "output_type": "stream",
     "text": [
      "100%|██████████| 6/6 [00:01<00:00,  3.45it/s]\n"
     ]
    },
    {
     "name": "stdout",
     "output_type": "stream",
     "text": [
      "Current Round: 102, Average Loss: 104.05674261650599, Test Loss: 368.8514393096815, Test Accuracy: 14.128271481066093, Best: 14.128271481066093\n"
     ]
    },
    {
     "name": "stderr",
     "output_type": "stream",
     "text": [
      "100%|██████████| 6/6 [00:01<00:00,  3.38it/s]\n"
     ]
    },
    {
     "name": "stdout",
     "output_type": "stream",
     "text": [
      "Current Round: 103, Average Loss: 105.43192809978693, Test Loss: 371.5847051414803, Test Accuracy: 14.120282034891689, Best: 14.120282034891689\n"
     ]
    },
    {
     "name": "stderr",
     "output_type": "stream",
     "text": [
      "100%|██████████| 6/6 [00:01<00:00,  3.32it/s]\n"
     ]
    },
    {
     "name": "stdout",
     "output_type": "stream",
     "text": [
      "Current Round: 104, Average Loss: 102.72354713070403, Test Loss: 373.47039258613484, Test Accuracy: 14.084897652286875, Best: 14.084897652286875\n"
     ]
    },
    {
     "name": "stderr",
     "output_type": "stream",
     "text": [
      "100%|██████████| 6/6 [00:01<00:00,  3.28it/s]\n"
     ]
    },
    {
     "name": "stdout",
     "output_type": "stream",
     "text": [
      "Current Round: 105, Average Loss: 101.61575001587433, Test Loss: 376.2612404793067, Test Accuracy: 14.076069825939381, Best: 14.076069825939381\n"
     ]
    },
    {
     "name": "stderr",
     "output_type": "stream",
     "text": [
      "100%|██████████| 6/6 [00:01<00:00,  3.33it/s]\n"
     ]
    },
    {
     "name": "stdout",
     "output_type": "stream",
     "text": [
      "Current Round: 106, Average Loss: 103.02707027795968, Test Loss: 376.54789519634517, Test Accuracy: 14.025684070705333, Best: 14.025684070705333\n"
     ]
    },
    {
     "name": "stderr",
     "output_type": "stream",
     "text": [
      "100%|██████████| 6/6 [00:01<00:00,  3.36it/s]\n"
     ]
    },
    {
     "name": "stdout",
     "output_type": "stream",
     "text": [
      "Current Round: 107, Average Loss: 101.66858589752691, Test Loss: 377.3995057039027, Test Accuracy: 14.0102121856576, Best: 14.0102121856576\n"
     ]
    },
    {
     "name": "stderr",
     "output_type": "stream",
     "text": [
      "100%|██████████| 6/6 [00:01<00:00,  3.25it/s]\n"
     ]
    },
    {
     "name": "stdout",
     "output_type": "stream",
     "text": [
      "Current Round: 108, Average Loss: 101.72464201682624, Test Loss: 377.02836116891274, Test Accuracy: 13.966126218604332, Best: 13.966126218604332\n"
     ]
    },
    {
     "name": "stderr",
     "output_type": "stream",
     "text": [
      "100%|██████████| 6/6 [00:01<00:00,  3.34it/s]\n"
     ]
    },
    {
     "name": "stdout",
     "output_type": "stream",
     "text": [
      "Current Round: 109, Average Loss: 101.91746450282001, Test Loss: 376.36752686687413, Test Accuracy: 13.915036977888484, Best: 13.915036977888484\n"
     ]
    },
    {
     "name": "stderr",
     "output_type": "stream",
     "text": [
      "100%|██████████| 6/6 [00:01<00:00,  3.43it/s]\n"
     ]
    },
    {
     "name": "stdout",
     "output_type": "stream",
     "text": [
      "Current Round: 110, Average Loss: 103.14016602613289, Test Loss: 377.6558234402829, Test Accuracy: 13.891965558833201, Best: 13.891965558833201\n"
     ]
    },
    {
     "name": "stderr",
     "output_type": "stream",
     "text": [
      "100%|██████████| 6/6 [00:01<00:00,  3.42it/s]\n"
     ]
    },
    {
     "name": "stdout",
     "output_type": "stream",
     "text": [
      "Current Round: 111, Average Loss: 103.46639092447872, Test Loss: 379.7744835342039, Test Accuracy: 13.888048410711088, Best: 13.888048410711088\n"
     ]
    },
    {
     "name": "stderr",
     "output_type": "stream",
     "text": [
      "100%|██████████| 6/6 [00:01<00:00,  3.48it/s]\n"
     ]
    },
    {
     "name": "stdout",
     "output_type": "stream",
     "text": [
      "Current Round: 112, Average Loss: 101.60818064901082, Test Loss: 380.36331499084514, Test Accuracy: 13.878249051402493, Best: 13.878249051402493\n"
     ]
    },
    {
     "name": "stderr",
     "output_type": "stream",
     "text": [
      "100%|██████████| 6/6 [00:01<00:00,  3.41it/s]\n"
     ]
    },
    {
     "name": "stdout",
     "output_type": "stream",
     "text": [
      "Current Round: 113, Average Loss: 105.7010931116795, Test Loss: 380.09501223581873, Test Accuracy: 13.8499267110151, Best: 13.8499267110151\n"
     ]
    },
    {
     "name": "stderr",
     "output_type": "stream",
     "text": [
      "100%|██████████| 6/6 [00:01<00:00,  3.43it/s]\n"
     ]
    },
    {
     "name": "stdout",
     "output_type": "stream",
     "text": [
      "Current Round: 114, Average Loss: 107.61166204610475, Test Loss: 379.82760858458215, Test Accuracy: 13.80345947709964, Best: 13.80345947709964\n"
     ]
    },
    {
     "name": "stderr",
     "output_type": "stream",
     "text": [
      "100%|██████████| 6/6 [00:01<00:00,  3.53it/s]\n"
     ]
    },
    {
     "name": "stdout",
     "output_type": "stream",
     "text": [
      "Current Round: 115, Average Loss: 102.67276267077585, Test Loss: 381.6944054531342, Test Accuracy: 13.81043135396019, Best: 13.80345947709964\n"
     ]
    },
    {
     "name": "stderr",
     "output_type": "stream",
     "text": [
      "100%|██████████| 6/6 [00:01<00:00,  3.47it/s]\n"
     ]
    },
    {
     "name": "stdout",
     "output_type": "stream",
     "text": [
      "Current Round: 116, Average Loss: 103.77238166728132, Test Loss: 383.7915604126904, Test Accuracy: 13.812574698579356, Best: 13.80345947709964\n"
     ]
    },
    {
     "name": "stderr",
     "output_type": "stream",
     "text": [
      "100%|██████████| 6/6 [00:01<00:00,  3.46it/s]\n"
     ]
    },
    {
     "name": "stdout",
     "output_type": "stream",
     "text": [
      "Current Round: 117, Average Loss: 101.17987113848557, Test Loss: 383.77622327574124, Test Accuracy: 13.784353405126408, Best: 13.784353405126408\n"
     ]
    },
    {
     "name": "stderr",
     "output_type": "stream",
     "text": [
      "100%|██████████| 6/6 [00:01<00:00,  3.50it/s]\n"
     ]
    },
    {
     "name": "stdout",
     "output_type": "stream",
     "text": [
      "Current Round: 118, Average Loss: 103.61280809954144, Test Loss: 383.6733328429555, Test Accuracy: 13.746917320449999, Best: 13.746917320449999\n"
     ]
    },
    {
     "name": "stderr",
     "output_type": "stream",
     "text": [
      "100%|██████████| 6/6 [00:01<00:00,  3.56it/s]\n"
     ]
    },
    {
     "name": "stdout",
     "output_type": "stream",
     "text": [
      "Current Round: 119, Average Loss: 102.00397739880863, Test Loss: 385.880230720897, Test Accuracy: 13.782938665321472, Best: 13.746917320449999\n"
     ]
    },
    {
     "name": "stderr",
     "output_type": "stream",
     "text": [
      "100%|██████████| 6/6 [00:01<00:00,  3.39it/s]\n"
     ]
    },
    {
     "name": "stdout",
     "output_type": "stream",
     "text": [
      "Current Round: 120, Average Loss: 106.14812260940907, Test Loss: 386.4048868513388, Test Accuracy: 13.77469418276346, Best: 13.746917320449999\n"
     ]
    },
    {
     "name": "stderr",
     "output_type": "stream",
     "text": [
      "100%|██████████| 6/6 [00:01<00:00,  3.66it/s]\n"
     ]
    },
    {
     "name": "stdout",
     "output_type": "stream",
     "text": [
      "Current Round: 121, Average Loss: 101.8761808183283, Test Loss: 386.07137691708743, Test Accuracy: 13.738397328827018, Best: 13.738397328827018\n"
     ]
    },
    {
     "name": "stderr",
     "output_type": "stream",
     "text": [
      "100%|██████████| 6/6 [00:01<00:00,  3.34it/s]\n"
     ]
    },
    {
     "name": "stdout",
     "output_type": "stream",
     "text": [
      "Current Round: 122, Average Loss: 99.07520770901768, Test Loss: 385.5646452601293, Test Accuracy: 13.698329051040215, Best: 13.698329051040215\n"
     ]
    },
    {
     "name": "stderr",
     "output_type": "stream",
     "text": [
      "100%|██████████| 6/6 [00:01<00:00,  3.41it/s]\n"
     ]
    },
    {
     "name": "stdout",
     "output_type": "stream",
     "text": [
      "Current Round: 123, Average Loss: 104.22547221752144, Test Loss: 386.31266427874715, Test Accuracy: 13.702745019281664, Best: 13.698329051040215\n"
     ]
    },
    {
     "name": "stderr",
     "output_type": "stream",
     "text": [
      "100%|██████████| 6/6 [00:01<00:00,  3.39it/s]\n"
     ]
    },
    {
     "name": "stdout",
     "output_type": "stream",
     "text": [
      "Current Round: 124, Average Loss: 98.57687459380332, Test Loss: 386.2270503028987, Test Accuracy: 13.676866973347527, Best: 13.676866973347527\n"
     ]
    },
    {
     "name": "stderr",
     "output_type": "stream",
     "text": [
      "100%|██████████| 6/6 [00:01<00:00,  3.45it/s]\n"
     ]
    },
    {
     "name": "stdout",
     "output_type": "stream",
     "text": [
      "Current Round: 125, Average Loss: 98.19968621271182, Test Loss: 385.0165523103031, Test Accuracy: 13.615742668047861, Best: 13.615742668047861\n"
     ]
    },
    {
     "name": "stderr",
     "output_type": "stream",
     "text": [
      "100%|██████████| 6/6 [00:01<00:00,  3.53it/s]\n"
     ]
    },
    {
     "name": "stdout",
     "output_type": "stream",
     "text": [
      "Current Round: 126, Average Loss: 107.43518729345914, Test Loss: 385.9902749471874, Test Accuracy: 13.630380049070904, Best: 13.615742668047861\n"
     ]
    },
    {
     "name": "stderr",
     "output_type": "stream",
     "text": [
      "100%|██████████| 6/6 [00:01<00:00,  3.44it/s]\n"
     ]
    },
    {
     "name": "stdout",
     "output_type": "stream",
     "text": [
      "Current Round: 127, Average Loss: 103.27377662603497, Test Loss: 385.0414143652924, Test Accuracy: 13.602526691914196, Best: 13.602526691914196\n"
     ]
    },
    {
     "name": "stderr",
     "output_type": "stream",
     "text": [
      "100%|██████████| 6/6 [00:01<00:00,  3.61it/s]\n"
     ]
    },
    {
     "name": "stdout",
     "output_type": "stream",
     "text": [
      "Current Round: 128, Average Loss: 102.77119786597751, Test Loss: 384.68584101535424, Test Accuracy: 13.562349201282752, Best: 13.562349201282752\n"
     ]
    },
    {
     "name": "stderr",
     "output_type": "stream",
     "text": [
      "100%|██████████| 6/6 [00:01<00:00,  3.58it/s]\n"
     ]
    },
    {
     "name": "stdout",
     "output_type": "stream",
     "text": [
      "Current Round: 129, Average Loss: 101.33535012834835, Test Loss: 384.1535666586446, Test Accuracy: 13.529589216948441, Best: 13.529589216948441\n"
     ]
    },
    {
     "name": "stderr",
     "output_type": "stream",
     "text": [
      "100%|██████████| 6/6 [00:01<00:00,  3.43it/s]\n"
     ]
    },
    {
     "name": "stdout",
     "output_type": "stream",
     "text": [
      "Current Round: 130, Average Loss: 103.18226395150066, Test Loss: 386.22661702201935, Test Accuracy: 13.55059569830345, Best: 13.529589216948441\n"
     ]
    },
    {
     "name": "stderr",
     "output_type": "stream",
     "text": [
      "100%|██████████| 6/6 [00:01<00:00,  3.46it/s]\n"
     ]
    },
    {
     "name": "stdout",
     "output_type": "stream",
     "text": [
      "Current Round: 131, Average Loss: 104.64863690486276, Test Loss: 386.6850979075556, Test Accuracy: 13.556909237357026, Best: 13.529589216948441\n"
     ]
    },
    {
     "name": "stderr",
     "output_type": "stream",
     "text": [
      "100%|██████████| 6/6 [00:01<00:00,  3.43it/s]\n"
     ]
    },
    {
     "name": "stdout",
     "output_type": "stream",
     "text": [
      "Current Round: 132, Average Loss: 102.27413364325785, Test Loss: 385.6254417534636, Test Accuracy: 13.493432135977857, Best: 13.493432135977857\n"
     ]
    },
    {
     "name": "stderr",
     "output_type": "stream",
     "text": [
      "100%|██████████| 6/6 [00:01<00:00,  3.47it/s]\n"
     ]
    },
    {
     "name": "stdout",
     "output_type": "stream",
     "text": [
      "Current Round: 133, Average Loss: 100.52943791143326, Test Loss: 385.91957169686253, Test Accuracy: 13.489388904311548, Best: 13.489388904311548\n"
     ]
    },
    {
     "name": "stderr",
     "output_type": "stream",
     "text": [
      "100%|██████████| 6/6 [00:01<00:00,  3.40it/s]\n"
     ]
    },
    {
     "name": "stdout",
     "output_type": "stream",
     "text": [
      "Current Round: 134, Average Loss: 102.25858759108006, Test Loss: 387.2759973124634, Test Accuracy: 13.522404532450283, Best: 13.489388904311548\n"
     ]
    },
    {
     "name": "stderr",
     "output_type": "stream",
     "text": [
      "100%|██████████| 6/6 [00:01<00:00,  3.56it/s]\n"
     ]
    },
    {
     "name": "stdout",
     "output_type": "stream",
     "text": [
      "Current Round: 135, Average Loss: 101.72715646734049, Test Loss: 387.07747453990333, Test Accuracy: 13.509533616246786, Best: 13.489388904311548\n"
     ]
    },
    {
     "name": "stderr",
     "output_type": "stream",
     "text": [
      "100%|██████████| 6/6 [00:01<00:00,  3.41it/s]\n"
     ]
    },
    {
     "name": "stdout",
     "output_type": "stream",
     "text": [
      "Current Round: 136, Average Loss: 99.17893526622113, Test Loss: 387.29048491774944, Test Accuracy: 13.517446855925568, Best: 13.489388904311548\n"
     ]
    },
    {
     "name": "stderr",
     "output_type": "stream",
     "text": [
      "100%|██████████| 6/6 [00:01<00:00,  3.45it/s]\n"
     ]
    },
    {
     "name": "stdout",
     "output_type": "stream",
     "text": [
      "Current Round: 137, Average Loss: 99.83352705869561, Test Loss: 386.0644280644228, Test Accuracy: 13.461988505820802, Best: 13.461988505820802\n"
     ]
    },
    {
     "name": "stderr",
     "output_type": "stream",
     "text": [
      "100%|██████████| 6/6 [00:01<00:00,  3.66it/s]\n"
     ]
    },
    {
     "name": "stdout",
     "output_type": "stream",
     "text": [
      "Current Round: 138, Average Loss: 101.18037282715852, Test Loss: 384.3615793187305, Test Accuracy: 13.397421833307769, Best: 13.397421833307769\n"
     ]
    },
    {
     "name": "stderr",
     "output_type": "stream",
     "text": [
      "100%|██████████| 6/6 [00:01<00:00,  3.43it/s]\n"
     ]
    },
    {
     "name": "stdout",
     "output_type": "stream",
     "text": [
      "Current Round: 139, Average Loss: 98.78015270899427, Test Loss: 385.1723830052542, Test Accuracy: 13.438988393715027, Best: 13.397421833307769\n"
     ]
    },
    {
     "name": "stderr",
     "output_type": "stream",
     "text": [
      "100%|██████████| 6/6 [00:01<00:00,  3.44it/s]\n"
     ]
    },
    {
     "name": "stdout",
     "output_type": "stream",
     "text": [
      "Current Round: 140, Average Loss: 97.12604472386504, Test Loss: 385.26797344715624, Test Accuracy: 13.431936798190243, Best: 13.397421833307769\n"
     ]
    },
    {
     "name": "stderr",
     "output_type": "stream",
     "text": [
      "100%|██████████| 6/6 [00:01<00:00,  3.38it/s]\n"
     ]
    },
    {
     "name": "stdout",
     "output_type": "stream",
     "text": [
      "Current Round: 141, Average Loss: 100.37917017532607, Test Loss: 384.7323224345843, Test Accuracy: 13.41924483004999, Best: 13.397421833307769\n"
     ]
    },
    {
     "name": "stderr",
     "output_type": "stream",
     "text": [
      "100%|██████████| 6/6 [00:01<00:00,  3.37it/s]\n"
     ]
    },
    {
     "name": "stdout",
     "output_type": "stream",
     "text": [
      "Current Round: 142, Average Loss: 96.31977988005637, Test Loss: 384.2651440936246, Test Accuracy: 13.402030032511242, Best: 13.397421833307769\n"
     ]
    },
    {
     "name": "stderr",
     "output_type": "stream",
     "text": [
      "100%|██████████| 6/6 [00:01<00:00,  3.31it/s]\n"
     ]
    },
    {
     "name": "stdout",
     "output_type": "stream",
     "text": [
      "Current Round: 143, Average Loss: 98.95994605731583, Test Loss: 384.62403231150154, Test Accuracy: 13.405499045881344, Best: 13.397421833307769\n"
     ]
    },
    {
     "name": "stderr",
     "output_type": "stream",
     "text": [
      "100%|██████████| 6/6 [00:01<00:00,  3.62it/s]\n"
     ]
    },
    {
     "name": "stdout",
     "output_type": "stream",
     "text": [
      "Current Round: 144, Average Loss: 97.9231785685789, Test Loss: 384.5573086466137, Test Accuracy: 13.417155271716869, Best: 13.397421833307769\n"
     ]
    },
    {
     "name": "stderr",
     "output_type": "stream",
     "text": [
      "100%|██████████| 6/6 [00:01<00:00,  3.67it/s]\n"
     ]
    },
    {
     "name": "stdout",
     "output_type": "stream",
     "text": [
      "Current Round: 145, Average Loss: 99.9264058540458, Test Loss: 384.06384253431725, Test Accuracy: 13.384655093319502, Best: 13.384655093319502\n"
     ]
    },
    {
     "name": "stderr",
     "output_type": "stream",
     "text": [
      "100%|██████████| 6/6 [00:01<00:00,  3.46it/s]\n"
     ]
    },
    {
     "name": "stdout",
     "output_type": "stream",
     "text": [
      "Current Round: 146, Average Loss: 95.71948132482758, Test Loss: 382.84673426936405, Test Accuracy: 13.366053504423876, Best: 13.366053504423876\n"
     ]
    },
    {
     "name": "stderr",
     "output_type": "stream",
     "text": [
      "100%|██████████| 6/6 [00:01<00:00,  3.41it/s]\n"
     ]
    },
    {
     "name": "stdout",
     "output_type": "stream",
     "text": [
      "Current Round: 147, Average Loss: 97.35938222371827, Test Loss: 382.25327191883156, Test Accuracy: 13.345921191436503, Best: 13.345921191436503\n"
     ]
    },
    {
     "name": "stderr",
     "output_type": "stream",
     "text": [
      "100%|██████████| 6/6 [00:01<00:00,  3.58it/s]\n"
     ]
    },
    {
     "name": "stdout",
     "output_type": "stream",
     "text": [
      "Current Round: 148, Average Loss: 98.78902135940724, Test Loss: 383.67819753746693, Test Accuracy: 13.363844248737397, Best: 13.345921191436503\n"
     ]
    },
    {
     "name": "stderr",
     "output_type": "stream",
     "text": [
      "100%|██████████| 6/6 [00:01<00:00,  3.42it/s]\n"
     ]
    },
    {
     "name": "stdout",
     "output_type": "stream",
     "text": [
      "Current Round: 149, Average Loss: 97.4862461920627, Test Loss: 383.4073567662245, Test Accuracy: 13.350414391934798, Best: 13.345921191436503\n"
     ]
    },
    {
     "name": "stderr",
     "output_type": "stream",
     "text": [
      "100%|██████████| 6/6 [00:01<00:00,  3.43it/s]\n"
     ]
    },
    {
     "name": "stdout",
     "output_type": "stream",
     "text": [
      "Current Round: 150, Average Loss: 102.69485439090538, Test Loss: 384.7549522545147, Test Accuracy: 13.366026652642194, Best: 13.345921191436503\n"
     ]
    },
    {
     "name": "stderr",
     "output_type": "stream",
     "text": [
      "100%|██████████| 6/6 [00:01<00:00,  3.42it/s]\n"
     ]
    },
    {
     "name": "stdout",
     "output_type": "stream",
     "text": [
      "Current Round: 151, Average Loss: 101.61913483527569, Test Loss: 385.7609919201963, Test Accuracy: 13.382992419463847, Best: 13.345921191436503\n"
     ]
    },
    {
     "name": "stderr",
     "output_type": "stream",
     "text": [
      "100%|██████████| 6/6 [00:01<00:00,  3.51it/s]\n"
     ]
    },
    {
     "name": "stdout",
     "output_type": "stream",
     "text": [
      "Current Round: 152, Average Loss: 99.8590857327206, Test Loss: 385.95994635342703, Test Accuracy: 13.38469239652083, Best: 13.345921191436503\n"
     ]
    },
    {
     "name": "stderr",
     "output_type": "stream",
     "text": [
      "100%|██████████| 6/6 [00:01<00:00,  3.50it/s]\n"
     ]
    },
    {
     "name": "stdout",
     "output_type": "stream",
     "text": [
      "Current Round: 153, Average Loss: 96.9227193830032, Test Loss: 385.34768790324233, Test Accuracy: 13.36250720443631, Best: 13.345921191436503\n"
     ]
    },
    {
     "name": "stderr",
     "output_type": "stream",
     "text": [
      "100%|██████████| 6/6 [00:01<00:00,  3.40it/s]\n"
     ]
    },
    {
     "name": "stdout",
     "output_type": "stream",
     "text": [
      "Current Round: 154, Average Loss: 96.61951313725808, Test Loss: 386.1469084909636, Test Accuracy: 13.379900879133146, Best: 13.345921191436503\n"
     ]
    },
    {
     "name": "stderr",
     "output_type": "stream",
     "text": [
      "100%|██████████| 6/6 [00:01<00:00,  3.45it/s]\n"
     ]
    },
    {
     "name": "stdout",
     "output_type": "stream",
     "text": [
      "Current Round: 155, Average Loss: 98.17200503356531, Test Loss: 386.4111807303136, Test Accuracy: 13.390073745519551, Best: 13.345921191436503\n"
     ]
    },
    {
     "name": "stderr",
     "output_type": "stream",
     "text": [
      "100%|██████████| 6/6 [00:01<00:00,  3.44it/s]\n"
     ]
    },
    {
     "name": "stdout",
     "output_type": "stream",
     "text": [
      "Current Round: 156, Average Loss: 99.58892662071469, Test Loss: 386.7906183719709, Test Accuracy: 13.38773908225134, Best: 13.345921191436503\n"
     ]
    },
    {
     "name": "stderr",
     "output_type": "stream",
     "text": [
      "100%|██████████| 6/6 [00:01<00:00,  3.40it/s]\n"
     ]
    },
    {
     "name": "stdout",
     "output_type": "stream",
     "text": [
      "Current Round: 157, Average Loss: 96.26393608575815, Test Loss: 387.6531858717125, Test Accuracy: 13.396891460395066, Best: 13.345921191436503\n"
     ]
    },
    {
     "name": "stderr",
     "output_type": "stream",
     "text": [
      "100%|██████████| 6/6 [00:01<00:00,  3.45it/s]\n"
     ]
    },
    {
     "name": "stdout",
     "output_type": "stream",
     "text": [
      "Current Round: 158, Average Loss: 101.19236731506238, Test Loss: 387.64535098084303, Test Accuracy: 13.383610750219637, Best: 13.345921191436503\n"
     ]
    },
    {
     "name": "stderr",
     "output_type": "stream",
     "text": [
      "100%|██████████| 6/6 [00:01<00:00,  3.51it/s]\n"
     ]
    },
    {
     "name": "stdout",
     "output_type": "stream",
     "text": [
      "Current Round: 159, Average Loss: 94.7909302357325, Test Loss: 385.5013376754308, Test Accuracy: 13.304678658127342, Best: 13.304678658127342\n"
     ]
    },
    {
     "name": "stderr",
     "output_type": "stream",
     "text": [
      "100%|██████████| 6/6 [00:01<00:00,  3.45it/s]\n"
     ]
    },
    {
     "name": "stdout",
     "output_type": "stream",
     "text": [
      "Current Round: 160, Average Loss: 94.37036659672553, Test Loss: 384.74714979587543, Test Accuracy: 13.302051336201002, Best: 13.302051336201002\n"
     ]
    },
    {
     "name": "stderr",
     "output_type": "stream",
     "text": [
      "100%|██████████| 6/6 [00:01<00:00,  3.38it/s]\n"
     ]
    },
    {
     "name": "stdout",
     "output_type": "stream",
     "text": [
      "Current Round: 161, Average Loss: 98.62666012765423, Test Loss: 384.46785470043784, Test Accuracy: 13.310390514955202, Best: 13.302051336201002\n"
     ]
    },
    {
     "name": "stderr",
     "output_type": "stream",
     "text": [
      "100%|██████████| 6/6 [00:01<00:00,  3.45it/s]\n"
     ]
    },
    {
     "name": "stdout",
     "output_type": "stream",
     "text": [
      "Current Round: 162, Average Loss: 98.2665043365402, Test Loss: 385.3379124032133, Test Accuracy: 13.320277130145861, Best: 13.302051336201002\n"
     ]
    },
    {
     "name": "stderr",
     "output_type": "stream",
     "text": [
      "100%|██████████| 6/6 [00:01<00:00,  3.41it/s]\n"
     ]
    },
    {
     "name": "stdout",
     "output_type": "stream",
     "text": [
      "Current Round: 163, Average Loss: 93.93501068945511, Test Loss: 385.0281065034748, Test Accuracy: 13.305871223723873, Best: 13.302051336201002\n"
     ]
    },
    {
     "name": "stderr",
     "output_type": "stream",
     "text": [
      "100%|██████████| 6/6 [00:01<00:00,  3.52it/s]\n"
     ]
    },
    {
     "name": "stdout",
     "output_type": "stream",
     "text": [
      "Current Round: 164, Average Loss: 100.80953157462248, Test Loss: 384.9465756569672, Test Accuracy: 13.302805310879203, Best: 13.302051336201002\n"
     ]
    },
    {
     "name": "stderr",
     "output_type": "stream",
     "text": [
      "100%|██████████| 6/6 [00:01<00:00,  3.38it/s]\n"
     ]
    },
    {
     "name": "stdout",
     "output_type": "stream",
     "text": [
      "Current Round: 165, Average Loss: 99.73213348333478, Test Loss: 384.2557564979001, Test Accuracy: 13.308919521364876, Best: 13.302051336201002\n"
     ]
    },
    {
     "name": "stderr",
     "output_type": "stream",
     "text": [
      "100%|██████████| 6/6 [00:01<00:00,  3.43it/s]\n"
     ]
    },
    {
     "name": "stdout",
     "output_type": "stream",
     "text": [
      "Current Round: 166, Average Loss: 95.69613114680669, Test Loss: 384.33770906518976, Test Accuracy: 13.2796987606838, Best: 13.2796987606838\n"
     ]
    },
    {
     "name": "stderr",
     "output_type": "stream",
     "text": [
      "100%|██████████| 6/6 [00:01<00:00,  3.41it/s]\n"
     ]
    },
    {
     "name": "stdout",
     "output_type": "stream",
     "text": [
      "Current Round: 167, Average Loss: 95.6140287366307, Test Loss: 383.84797114469893, Test Accuracy: 13.283478485164146, Best: 13.2796987606838\n"
     ]
    },
    {
     "name": "stderr",
     "output_type": "stream",
     "text": [
      "100%|██████████| 6/6 [00:01<00:00,  3.57it/s]\n"
     ]
    },
    {
     "name": "stdout",
     "output_type": "stream",
     "text": [
      "Current Round: 168, Average Loss: 95.98337038210211, Test Loss: 382.94180445232723, Test Accuracy: 13.254343413361239, Best: 13.254343413361239\n"
     ]
    },
    {
     "name": "stderr",
     "output_type": "stream",
     "text": [
      "100%|██████████| 6/6 [00:01<00:00,  3.41it/s]\n"
     ]
    },
    {
     "name": "stdout",
     "output_type": "stream",
     "text": [
      "Current Round: 169, Average Loss: 96.79237578942524, Test Loss: 382.9345420126375, Test Accuracy: 13.24821152385726, Best: 13.24821152385726\n"
     ]
    },
    {
     "name": "stderr",
     "output_type": "stream",
     "text": [
      "100%|██████████| 6/6 [00:01<00:00,  3.37it/s]\n"
     ]
    },
    {
     "name": "stdout",
     "output_type": "stream",
     "text": [
      "Current Round: 170, Average Loss: 93.76115973606507, Test Loss: 381.78209513233793, Test Accuracy: 13.244449679293155, Best: 13.244449679293155\n"
     ]
    },
    {
     "name": "stderr",
     "output_type": "stream",
     "text": [
      "100%|██████████| 6/6 [00:01<00:00,  3.42it/s]\n"
     ]
    },
    {
     "name": "stdout",
     "output_type": "stream",
     "text": [
      "Current Round: 171, Average Loss: 97.74284322080787, Test Loss: 382.2490707850234, Test Accuracy: 13.238104589809716, Best: 13.238104589809716\n"
     ]
    },
    {
     "name": "stderr",
     "output_type": "stream",
     "text": [
      "100%|██████████| 6/6 [00:01<00:00,  3.44it/s]\n"
     ]
    },
    {
     "name": "stdout",
     "output_type": "stream",
     "text": [
      "Current Round: 172, Average Loss: 96.37890902938176, Test Loss: 382.5270117804907, Test Accuracy: 13.238962636708917, Best: 13.238104589809716\n"
     ]
    },
    {
     "name": "stderr",
     "output_type": "stream",
     "text": [
      "100%|██████████| 6/6 [00:01<00:00,  3.44it/s]\n"
     ]
    },
    {
     "name": "stdout",
     "output_type": "stream",
     "text": [
      "Current Round: 173, Average Loss: 96.26749727644506, Test Loss: 382.51134630173556, Test Accuracy: 13.24119262033531, Best: 13.238104589809716\n"
     ]
    },
    {
     "name": "stderr",
     "output_type": "stream",
     "text": [
      "100%|██████████| 6/6 [00:01<00:00,  3.45it/s]\n"
     ]
    },
    {
     "name": "stdout",
     "output_type": "stream",
     "text": [
      "Current Round: 174, Average Loss: 97.56759365751213, Test Loss: 382.3864466333773, Test Accuracy: 13.233179021502073, Best: 13.233179021502073\n"
     ]
    },
    {
     "name": "stderr",
     "output_type": "stream",
     "text": [
      "100%|██████████| 6/6 [00:01<00:00,  3.44it/s]\n"
     ]
    },
    {
     "name": "stdout",
     "output_type": "stream",
     "text": [
      "Current Round: 175, Average Loss: 96.20412247348462, Test Loss: 381.7473137197552, Test Accuracy: 13.22806538200142, Best: 13.22806538200142\n"
     ]
    },
    {
     "name": "stderr",
     "output_type": "stream",
     "text": [
      "100%|██████████| 6/6 [00:01<00:00,  3.46it/s]\n"
     ]
    },
    {
     "name": "stdout",
     "output_type": "stream",
     "text": [
      "Current Round: 176, Average Loss: 95.77206945176194, Test Loss: 380.83081876784286, Test Accuracy: 13.232601669198075, Best: 13.22806538200142\n"
     ]
    },
    {
     "name": "stderr",
     "output_type": "stream",
     "text": [
      "100%|██████████| 6/6 [00:01<00:00,  3.40it/s]\n"
     ]
    },
    {
     "name": "stdout",
     "output_type": "stream",
     "text": [
      "Current Round: 177, Average Loss: 92.50104014709565, Test Loss: 380.96546951561356, Test Accuracy: 13.228738744610451, Best: 13.22806538200142\n"
     ]
    },
    {
     "name": "stderr",
     "output_type": "stream",
     "text": [
      "100%|██████████| 6/6 [00:01<00:00,  3.51it/s]\n"
     ]
    },
    {
     "name": "stdout",
     "output_type": "stream",
     "text": [
      "Current Round: 178, Average Loss: 93.43950130513372, Test Loss: 381.14224760586114, Test Accuracy: 13.235066022719296, Best: 13.22806538200142\n"
     ]
    },
    {
     "name": "stderr",
     "output_type": "stream",
     "text": [
      "100%|██████████| 6/6 [00:01<00:00,  3.45it/s]\n"
     ]
    },
    {
     "name": "stdout",
     "output_type": "stream",
     "text": [
      "Current Round: 179, Average Loss: 93.76247458289079, Test Loss: 380.2442638340788, Test Accuracy: 13.22557162647649, Best: 13.22557162647649\n"
     ]
    },
    {
     "name": "stderr",
     "output_type": "stream",
     "text": [
      "100%|██████████| 6/6 [00:01<00:00,  3.49it/s]\n"
     ]
    },
    {
     "name": "stdout",
     "output_type": "stream",
     "text": [
      "Current Round: 180, Average Loss: 96.0733424881626, Test Loss: 379.8268293978039, Test Accuracy: 13.217412539722012, Best: 13.217412539722012\n"
     ]
    },
    {
     "name": "stderr",
     "output_type": "stream",
     "text": [
      "100%|██████████| 6/6 [00:01<00:00,  3.37it/s]\n"
     ]
    },
    {
     "name": "stdout",
     "output_type": "stream",
     "text": [
      "Current Round: 181, Average Loss: 96.61844816729602, Test Loss: 379.15672486344675, Test Accuracy: 13.208251823132219, Best: 13.208251823132219\n"
     ]
    },
    {
     "name": "stderr",
     "output_type": "stream",
     "text": [
      "100%|██████████| 6/6 [00:01<00:00,  3.54it/s]\n"
     ]
    },
    {
     "name": "stdout",
     "output_type": "stream",
     "text": [
      "Current Round: 182, Average Loss: 95.92593736479034, Test Loss: 379.44421184258687, Test Accuracy: 13.215473359402228, Best: 13.208251823132219\n"
     ]
    },
    {
     "name": "stderr",
     "output_type": "stream",
     "text": [
      "100%|██████████| 6/6 [00:01<00:00,  3.48it/s]\n"
     ]
    },
    {
     "name": "stdout",
     "output_type": "stream",
     "text": [
      "Current Round: 183, Average Loss: 94.55218851466111, Test Loss: 380.24156609085264, Test Accuracy: 13.227394943048225, Best: 13.208251823132219\n"
     ]
    },
    {
     "name": "stderr",
     "output_type": "stream",
     "text": [
      "100%|██████████| 6/6 [00:01<00:00,  3.40it/s]\n"
     ]
    },
    {
     "name": "stdout",
     "output_type": "stream",
     "text": [
      "Current Round: 184, Average Loss: 92.66491417295434, Test Loss: 378.5689832189269, Test Accuracy: 13.22610406509267, Best: 13.208251823132219\n"
     ]
    },
    {
     "name": "stderr",
     "output_type": "stream",
     "text": [
      "100%|██████████| 6/6 [00:01<00:00,  3.45it/s]\n"
     ]
    },
    {
     "name": "stdout",
     "output_type": "stream",
     "text": [
      "Current Round: 185, Average Loss: 94.08786275969305, Test Loss: 378.4172199266966, Test Accuracy: 13.233164932648046, Best: 13.208251823132219\n"
     ]
    },
    {
     "name": "stderr",
     "output_type": "stream",
     "text": [
      "100%|██████████| 6/6 [00:01<00:00,  3.32it/s]\n"
     ]
    },
    {
     "name": "stdout",
     "output_type": "stream",
     "text": [
      "Current Round: 186, Average Loss: 94.36061854376122, Test Loss: 377.37893957062136, Test Accuracy: 13.216364715179102, Best: 13.208251823132219\n"
     ]
    },
    {
     "name": "stderr",
     "output_type": "stream",
     "text": [
      "100%|██████████| 6/6 [00:01<00:00,  3.49it/s]\n"
     ]
    },
    {
     "name": "stdout",
     "output_type": "stream",
     "text": [
      "Current Round: 187, Average Loss: 94.07833673676562, Test Loss: 375.65195970570545, Test Accuracy: 13.182707501757692, Best: 13.182707501757692\n"
     ]
    },
    {
     "name": "stderr",
     "output_type": "stream",
     "text": [
      "100%|██████████| 6/6 [00:01<00:00,  3.38it/s]\n"
     ]
    },
    {
     "name": "stdout",
     "output_type": "stream",
     "text": [
      "Current Round: 188, Average Loss: 96.02585761225451, Test Loss: 375.5494604786902, Test Accuracy: 13.17063714255483, Best: 13.17063714255483\n"
     ]
    },
    {
     "name": "stderr",
     "output_type": "stream",
     "text": [
      "100%|██████████| 6/6 [00:01<00:00,  3.46it/s]\n"
     ]
    },
    {
     "name": "stdout",
     "output_type": "stream",
     "text": [
      "Current Round: 189, Average Loss: 94.26197829571113, Test Loss: 376.14336834379844, Test Accuracy: 13.190340651898579, Best: 13.17063714255483\n"
     ]
    },
    {
     "name": "stderr",
     "output_type": "stream",
     "text": [
      "100%|██████████| 6/6 [00:01<00:00,  3.47it/s]\n"
     ]
    },
    {
     "name": "stdout",
     "output_type": "stream",
     "text": [
      "Current Round: 190, Average Loss: 93.92265281162103, Test Loss: 376.0799378070754, Test Accuracy: 13.205234747393867, Best: 13.17063714255483\n"
     ]
    },
    {
     "name": "stderr",
     "output_type": "stream",
     "text": [
      "100%|██████████| 6/6 [00:01<00:00,  3.51it/s]\n"
     ]
    },
    {
     "name": "stdout",
     "output_type": "stream",
     "text": [
      "Current Round: 191, Average Loss: 94.52073265505146, Test Loss: 375.64937545626873, Test Accuracy: 13.200881546757921, Best: 13.17063714255483\n"
     ]
    },
    {
     "name": "stderr",
     "output_type": "stream",
     "text": [
      "100%|██████████| 6/6 [00:01<00:00,  3.43it/s]\n"
     ]
    },
    {
     "name": "stdout",
     "output_type": "stream",
     "text": [
      "Current Round: 192, Average Loss: 94.11628876728543, Test Loss: 374.7317946452781, Test Accuracy: 13.180912327441437, Best: 13.17063714255483\n"
     ]
    },
    {
     "name": "stderr",
     "output_type": "stream",
     "text": [
      "100%|██████████| 6/6 [00:01<00:00,  3.38it/s]\n"
     ]
    },
    {
     "name": "stdout",
     "output_type": "stream",
     "text": [
      "Current Round: 193, Average Loss: 93.47864073738343, Test Loss: 374.6522026830336, Test Accuracy: 13.194683252214055, Best: 13.17063714255483\n"
     ]
    },
    {
     "name": "stderr",
     "output_type": "stream",
     "text": [
      "100%|██████████| 6/6 [00:01<00:00,  3.28it/s]\n"
     ]
    },
    {
     "name": "stdout",
     "output_type": "stream",
     "text": [
      "Current Round: 194, Average Loss: 93.42258294646825, Test Loss: 374.160635674707, Test Accuracy: 13.178596506036051, Best: 13.17063714255483\n"
     ]
    },
    {
     "name": "stderr",
     "output_type": "stream",
     "text": [
      "100%|██████████| 6/6 [00:01<00:00,  3.33it/s]\n"
     ]
    },
    {
     "name": "stdout",
     "output_type": "stream",
     "text": [
      "Current Round: 195, Average Loss: 93.97083379612229, Test Loss: 373.2070487364665, Test Accuracy: 13.162901191758696, Best: 13.162901191758696\n"
     ]
    },
    {
     "name": "stderr",
     "output_type": "stream",
     "text": [
      "100%|██████████| 6/6 [00:01<00:00,  3.39it/s]\n"
     ]
    },
    {
     "name": "stdout",
     "output_type": "stream",
     "text": [
      "Current Round: 196, Average Loss: 92.75847589738017, Test Loss: 374.14281814047763, Test Accuracy: 13.170668014658723, Best: 13.162901191758696\n"
     ]
    },
    {
     "name": "stderr",
     "output_type": "stream",
     "text": [
      "100%|██████████| 6/6 [00:01<00:00,  3.40it/s]\n"
     ]
    },
    {
     "name": "stdout",
     "output_type": "stream",
     "text": [
      "Current Round: 197, Average Loss: 92.99355513053739, Test Loss: 373.68830182358084, Test Accuracy: 13.153952746290848, Best: 13.153952746290848\n"
     ]
    },
    {
     "name": "stderr",
     "output_type": "stream",
     "text": [
      "100%|██████████| 6/6 [00:01<00:00,  3.37it/s]\n"
     ]
    },
    {
     "name": "stdout",
     "output_type": "stream",
     "text": [
      "Current Round: 198, Average Loss: 93.34548067524197, Test Loss: 373.2137578184794, Test Accuracy: 13.153448055224791, Best: 13.153448055224791\n"
     ]
    },
    {
     "name": "stderr",
     "output_type": "stream",
     "text": [
      "100%|██████████| 6/6 [00:01<00:00,  3.35it/s]\n"
     ]
    },
    {
     "name": "stdout",
     "output_type": "stream",
     "text": [
      "Current Round: 199, Average Loss: 91.09998752802419, Test Loss: 372.52548878346346, Test Accuracy: 13.13620364533038, Best: 13.13620364533038\n"
     ]
    },
    {
     "name": "stderr",
     "output_type": "stream",
     "text": [
      "100%|██████████| 6/6 [00:01<00:00,  3.38it/s]\n"
     ]
    },
    {
     "name": "stdout",
     "output_type": "stream",
     "text": [
      "Current Round: 200, Average Loss: 92.16441524733489, Test Loss: 370.6658102725038, Test Accuracy: 13.095954490860155, Best: 13.095954490860155\n",
      "Training Done!\n",
      "Best Accuracy: 13.095954490860155\n",
      "Total time taken to Train: 426.5371165275574\n",
      "Name is taken...trying again...\n"
     ]
    },
    {
     "name": "stderr",
     "output_type": "stream",
     "text": [
      "100%|██████████| 6/6 [00:01<00:00,  3.36it/s]\n"
     ]
    },
    {
     "name": "stdout",
     "output_type": "stream",
     "text": [
      "Current Round: 1, Average Loss: 1642.432973935812, Test Loss: 5752.471337527591, Test Accuracy: 74.52087069089528, Best: 74.52087069089528\n"
     ]
    },
    {
     "name": "stderr",
     "output_type": "stream",
     "text": [
      "100%|██████████| 6/6 [00:01<00:00,  3.33it/s]\n"
     ]
    },
    {
     "name": "stdout",
     "output_type": "stream",
     "text": [
      "Current Round: 2, Average Loss: 1132.6223240169395, Test Loss: 5445.892014514115, Test Accuracy: 72.29728058693281, Best: 72.29728058693281\n"
     ]
    },
    {
     "name": "stderr",
     "output_type": "stream",
     "text": [
      "100%|██████████| 6/6 [00:01<00:00,  3.38it/s]\n"
     ]
    },
    {
     "name": "stdout",
     "output_type": "stream",
     "text": [
      "Current Round: 3, Average Loss: 811.906763165027, Test Loss: 4928.258838979728, Test Accuracy: 68.36238422890135, Best: 68.36238422890135\n"
     ]
    },
    {
     "name": "stderr",
     "output_type": "stream",
     "text": [
      "100%|██████████| 6/6 [00:01<00:00,  3.46it/s]\n"
     ]
    },
    {
     "name": "stdout",
     "output_type": "stream",
     "text": [
      "Current Round: 4, Average Loss: 614.620605399626, Test Loss: 4258.7845980846305, Test Accuracy: 63.062845241920066, Best: 63.062845241920066\n"
     ]
    },
    {
     "name": "stderr",
     "output_type": "stream",
     "text": [
      "100%|██████████| 6/6 [00:01<00:00,  3.36it/s]\n"
     ]
    },
    {
     "name": "stdout",
     "output_type": "stream",
     "text": [
      "Current Round: 5, Average Loss: 460.73899819756633, Test Loss: 3597.930899732323, Test Accuracy: 57.376968974665346, Best: 57.376968974665346\n"
     ]
    },
    {
     "name": "stderr",
     "output_type": "stream",
     "text": [
      "100%|██████████| 6/6 [00:01<00:00,  3.34it/s]\n"
     ]
    },
    {
     "name": "stdout",
     "output_type": "stream",
     "text": [
      "Current Round: 6, Average Loss: 380.52820231734813, Test Loss: 2950.2555237194565, Test Accuracy: 51.24764797678667, Best: 51.24764797678667\n"
     ]
    },
    {
     "name": "stderr",
     "output_type": "stream",
     "text": [
      "100%|██████████| 6/6 [00:01<00:00,  3.51it/s]\n"
     ]
    },
    {
     "name": "stdout",
     "output_type": "stream",
     "text": [
      "Current Round: 7, Average Loss: 314.50759025774533, Test Loss: 2323.5452401351454, Test Accuracy: 44.67800781599799, Best: 44.67800781599799\n"
     ]
    },
    {
     "name": "stderr",
     "output_type": "stream",
     "text": [
      "100%|██████████| 6/6 [00:01<00:00,  3.48it/s]\n"
     ]
    },
    {
     "name": "stdout",
     "output_type": "stream",
     "text": [
      "Current Round: 8, Average Loss: 260.4138621019729, Test Loss: 1780.5820654735542, Test Accuracy: 38.417134451600255, Best: 38.417134451600255\n"
     ]
    },
    {
     "name": "stderr",
     "output_type": "stream",
     "text": [
      "100%|██████████| 6/6 [00:01<00:00,  3.40it/s]\n"
     ]
    },
    {
     "name": "stdout",
     "output_type": "stream",
     "text": [
      "Current Round: 9, Average Loss: 228.62272210237452, Test Loss: 1323.285009930125, Test Accuracy: 32.26545565722157, Best: 32.26545565722157\n"
     ]
    },
    {
     "name": "stderr",
     "output_type": "stream",
     "text": [
      "100%|██████████| 6/6 [00:01<00:00,  3.40it/s]\n"
     ]
    },
    {
     "name": "stdout",
     "output_type": "stream",
     "text": [
      "Current Round: 10, Average Loss: 205.30115048241746, Test Loss: 763.8246240438582, Test Accuracy: 23.326553070559967, Best: 23.326553070559967\n"
     ]
    },
    {
     "name": "stderr",
     "output_type": "stream",
     "text": [
      "100%|██████████| 6/6 [00:01<00:00,  3.41it/s]\n"
     ]
    },
    {
     "name": "stdout",
     "output_type": "stream",
     "text": [
      "Current Round: 11, Average Loss: 180.70360308769764, Test Loss: 436.1429905256226, Test Accuracy: 16.270439939723435, Best: 16.270439939723435\n"
     ]
    },
    {
     "name": "stderr",
     "output_type": "stream",
     "text": [
      "100%|██████████| 6/6 [00:01<00:00,  3.59it/s]\n"
     ]
    },
    {
     "name": "stdout",
     "output_type": "stream",
     "text": [
      "Current Round: 12, Average Loss: 167.4975414202531, Test Loss: 350.12119084351053, Test Accuracy: 13.931225463507936, Best: 13.931225463507936\n"
     ]
    },
    {
     "name": "stderr",
     "output_type": "stream",
     "text": [
      "100%|██████████| 6/6 [00:01<00:00,  3.39it/s]\n"
     ]
    },
    {
     "name": "stdout",
     "output_type": "stream",
     "text": [
      "Current Round: 13, Average Loss: 160.7056224161195, Test Loss: 292.46430594973555, Test Accuracy: 12.408666953426016, Best: 12.408666953426016\n"
     ]
    },
    {
     "name": "stderr",
     "output_type": "stream",
     "text": [
      "100%|██████████| 6/6 [00:01<00:00,  3.41it/s]\n"
     ]
    },
    {
     "name": "stdout",
     "output_type": "stream",
     "text": [
      "Current Round: 14, Average Loss: 157.09734737253788, Test Loss: 256.2134757446866, Test Accuracy: 11.521182477400354, Best: 11.521182477400354\n"
     ]
    },
    {
     "name": "stderr",
     "output_type": "stream",
     "text": [
      "100%|██████████| 6/6 [00:01<00:00,  3.59it/s]\n"
     ]
    },
    {
     "name": "stdout",
     "output_type": "stream",
     "text": [
      "Current Round: 15, Average Loss: 151.78158173147798, Test Loss: 237.4776478065628, Test Accuracy: 11.11954096022444, Best: 11.11954096022444\n"
     ]
    },
    {
     "name": "stderr",
     "output_type": "stream",
     "text": [
      "100%|██████████| 6/6 [00:01<00:00,  3.54it/s]\n"
     ]
    },
    {
     "name": "stdout",
     "output_type": "stream",
     "text": [
      "Current Round: 16, Average Loss: 149.31768160377536, Test Loss: 225.23930775554206, Test Accuracy: 10.892375244083901, Best: 10.892375244083901\n"
     ]
    },
    {
     "name": "stderr",
     "output_type": "stream",
     "text": [
      "100%|██████████| 6/6 [00:01<00:00,  3.33it/s]\n"
     ]
    },
    {
     "name": "stdout",
     "output_type": "stream",
     "text": [
      "Current Round: 17, Average Loss: 144.7120847332752, Test Loss: 220.6346077480373, Test Accuracy: 10.816589393284833, Best: 10.816589393284833\n"
     ]
    },
    {
     "name": "stderr",
     "output_type": "stream",
     "text": [
      "100%|██████████| 6/6 [00:01<00:00,  3.34it/s]\n"
     ]
    },
    {
     "name": "stdout",
     "output_type": "stream",
     "text": [
      "Current Round: 18, Average Loss: 142.31057624638171, Test Loss: 219.00720103382326, Test Accuracy: 10.791733378962217, Best: 10.791733378962217\n"
     ]
    },
    {
     "name": "stderr",
     "output_type": "stream",
     "text": [
      "100%|██████████| 6/6 [00:01<00:00,  3.39it/s]\n"
     ]
    },
    {
     "name": "stdout",
     "output_type": "stream",
     "text": [
      "Current Round: 19, Average Loss: 138.4221281647863, Test Loss: 218.56035073070132, Test Accuracy: 10.786543833131093, Best: 10.786543833131093\n"
     ]
    },
    {
     "name": "stderr",
     "output_type": "stream",
     "text": [
      "100%|██████████| 6/6 [00:01<00:00,  3.48it/s]\n"
     ]
    },
    {
     "name": "stdout",
     "output_type": "stream",
     "text": [
      "Current Round: 20, Average Loss: 132.87697003465374, Test Loss: 221.01778849524524, Test Accuracy: 10.817996012086171, Best: 10.786543833131093\n"
     ]
    },
    {
     "name": "stderr",
     "output_type": "stream",
     "text": [
      "100%|██████████| 6/6 [00:01<00:00,  3.48it/s]\n"
     ]
    },
    {
     "name": "stdout",
     "output_type": "stream",
     "text": [
      "Current Round: 21, Average Loss: 132.64913422302126, Test Loss: 227.91516433517037, Test Accuracy: 10.898363437203521, Best: 10.786543833131093\n"
     ]
    },
    {
     "name": "stderr",
     "output_type": "stream",
     "text": [
      "100%|██████████| 6/6 [00:01<00:00,  3.36it/s]\n"
     ]
    },
    {
     "name": "stdout",
     "output_type": "stream",
     "text": [
      "Current Round: 22, Average Loss: 128.07450944207434, Test Loss: 233.1057731500161, Test Accuracy: 10.959721814596373, Best: 10.786543833131093\n"
     ]
    },
    {
     "name": "stderr",
     "output_type": "stream",
     "text": [
      "100%|██████████| 6/6 [00:01<00:00,  3.39it/s]\n"
     ]
    },
    {
     "name": "stdout",
     "output_type": "stream",
     "text": [
      "Current Round: 23, Average Loss: 123.43873966083522, Test Loss: 235.1652251007093, Test Accuracy: 10.9725922840974, Best: 10.786543833131093\n"
     ]
    },
    {
     "name": "stderr",
     "output_type": "stream",
     "text": [
      "100%|██████████| 6/6 [00:01<00:00,  3.54it/s]\n"
     ]
    },
    {
     "name": "stdout",
     "output_type": "stream",
     "text": [
      "Current Round: 24, Average Loss: 121.08899509537167, Test Loss: 234.88053541603733, Test Accuracy: 10.95454294471788, Best: 10.786543833131093\n"
     ]
    },
    {
     "name": "stderr",
     "output_type": "stream",
     "text": [
      "100%|██████████| 6/6 [00:01<00:00,  3.36it/s]\n"
     ]
    },
    {
     "name": "stdout",
     "output_type": "stream",
     "text": [
      "Current Round: 25, Average Loss: 121.80876162624793, Test Loss: 235.11153718901167, Test Accuracy: 10.960311506760608, Best: 10.786543833131093\n"
     ]
    },
    {
     "name": "stderr",
     "output_type": "stream",
     "text": [
      "100%|██████████| 6/6 [00:01<00:00,  3.35it/s]\n"
     ]
    },
    {
     "name": "stdout",
     "output_type": "stream",
     "text": [
      "Current Round: 26, Average Loss: 118.50620862014107, Test Loss: 238.89458970875103, Test Accuracy: 11.065742237417227, Best: 10.786543833131093\n"
     ]
    },
    {
     "name": "stderr",
     "output_type": "stream",
     "text": [
      "100%|██████████| 6/6 [00:01<00:00,  3.39it/s]\n"
     ]
    },
    {
     "name": "stdout",
     "output_type": "stream",
     "text": [
      "Current Round: 27, Average Loss: 117.21379442025729, Test Loss: 240.55645382917652, Test Accuracy: 11.12937834596693, Best: 10.786543833131093\n"
     ]
    },
    {
     "name": "stderr",
     "output_type": "stream",
     "text": [
      "100%|██████████| 6/6 [00:01<00:00,  3.46it/s]\n"
     ]
    },
    {
     "name": "stdout",
     "output_type": "stream",
     "text": [
      "Current Round: 28, Average Loss: 112.46674584337086, Test Loss: 238.49983847668437, Test Accuracy: 11.098441857830743, Best: 10.786543833131093\n"
     ]
    },
    {
     "name": "stderr",
     "output_type": "stream",
     "text": [
      "100%|██████████| 6/6 [00:01<00:00,  3.42it/s]\n"
     ]
    },
    {
     "name": "stdout",
     "output_type": "stream",
     "text": [
      "Current Round: 29, Average Loss: 113.21501997355934, Test Loss: 237.9536143438302, Test Accuracy: 11.111817323289987, Best: 10.786543833131093\n"
     ]
    },
    {
     "name": "stderr",
     "output_type": "stream",
     "text": [
      "100%|██████████| 6/6 [00:01<00:00,  3.40it/s]\n"
     ]
    },
    {
     "name": "stdout",
     "output_type": "stream",
     "text": [
      "Current Round: 30, Average Loss: 112.63116382537373, Test Loss: 240.05066455466743, Test Accuracy: 11.206028405323051, Best: 10.786543833131093\n"
     ]
    },
    {
     "name": "stderr",
     "output_type": "stream",
     "text": [
      "100%|██████████| 6/6 [00:01<00:00,  3.47it/s]\n"
     ]
    },
    {
     "name": "stdout",
     "output_type": "stream",
     "text": [
      "Current Round: 31, Average Loss: 111.21064026092587, Test Loss: 238.16757139300435, Test Accuracy: 11.181598842956467, Best: 10.786543833131093\n"
     ]
    },
    {
     "name": "stderr",
     "output_type": "stream",
     "text": [
      "100%|██████████| 6/6 [00:01<00:00,  3.45it/s]\n"
     ]
    },
    {
     "name": "stdout",
     "output_type": "stream",
     "text": [
      "Current Round: 32, Average Loss: 111.00390461375927, Test Loss: 242.2077955846505, Test Accuracy: 11.333275455819924, Best: 10.786543833131093\n"
     ]
    },
    {
     "name": "stderr",
     "output_type": "stream",
     "text": [
      "100%|██████████| 6/6 [00:01<00:00,  3.41it/s]\n"
     ]
    },
    {
     "name": "stdout",
     "output_type": "stream",
     "text": [
      "Current Round: 33, Average Loss: 109.42541346452084, Test Loss: 240.9521379960514, Test Accuracy: 11.321042428377098, Best: 10.786543833131093\n"
     ]
    },
    {
     "name": "stderr",
     "output_type": "stream",
     "text": [
      "100%|██████████| 6/6 [00:01<00:00,  3.43it/s]\n"
     ]
    },
    {
     "name": "stdout",
     "output_type": "stream",
     "text": [
      "Current Round: 34, Average Loss: 107.32782077040245, Test Loss: 238.07637502875323, Test Accuracy: 11.267323187883607, Best: 10.786543833131093\n"
     ]
    },
    {
     "name": "stderr",
     "output_type": "stream",
     "text": [
      "100%|██████████| 6/6 [00:01<00:00,  3.42it/s]\n"
     ]
    },
    {
     "name": "stdout",
     "output_type": "stream",
     "text": [
      "Current Round: 35, Average Loss: 108.85801549251535, Test Loss: 238.5163094675286, Test Accuracy: 11.307725629841972, Best: 10.786543833131093\n"
     ]
    },
    {
     "name": "stderr",
     "output_type": "stream",
     "text": [
      "100%|██████████| 6/6 [00:01<00:00,  3.45it/s]\n"
     ]
    },
    {
     "name": "stdout",
     "output_type": "stream",
     "text": [
      "Current Round: 36, Average Loss: 109.07285880014162, Test Loss: 237.13664675130056, Test Accuracy: 11.293309371267553, Best: 10.786543833131093\n"
     ]
    },
    {
     "name": "stderr",
     "output_type": "stream",
     "text": [
      "100%|██████████| 6/6 [00:01<00:00,  3.46it/s]\n"
     ]
    },
    {
     "name": "stdout",
     "output_type": "stream",
     "text": [
      "Current Round: 37, Average Loss: 106.08359829367924, Test Loss: 237.53225753857964, Test Accuracy: 11.322564972377622, Best: 10.786543833131093\n"
     ]
    },
    {
     "name": "stderr",
     "output_type": "stream",
     "text": [
      "100%|██████████| 6/6 [00:01<00:00,  3.39it/s]\n"
     ]
    },
    {
     "name": "stdout",
     "output_type": "stream",
     "text": [
      "Current Round: 38, Average Loss: 106.19114433117473, Test Loss: 235.22901180777998, Test Accuracy: 11.270471617782574, Best: 10.786543833131093\n"
     ]
    },
    {
     "name": "stderr",
     "output_type": "stream",
     "text": [
      "100%|██████████| 6/6 [00:01<00:00,  3.38it/s]\n"
     ]
    },
    {
     "name": "stdout",
     "output_type": "stream",
     "text": [
      "Current Round: 39, Average Loss: 104.3652446338653, Test Loss: 235.5560214170145, Test Accuracy: 11.29428470474489, Best: 10.786543833131093\n"
     ]
    },
    {
     "name": "stderr",
     "output_type": "stream",
     "text": [
      "100%|██████████| 6/6 [00:01<00:00,  3.31it/s]\n"
     ]
    },
    {
     "name": "stdout",
     "output_type": "stream",
     "text": [
      "Current Round: 40, Average Loss: 104.95541928050045, Test Loss: 220.85694031857759, Test Accuracy: 10.945732579946222, Best: 10.786543833131093\n"
     ]
    },
    {
     "name": "stderr",
     "output_type": "stream",
     "text": [
      "100%|██████████| 6/6 [00:01<00:00,  3.24it/s]\n"
     ]
    },
    {
     "name": "stdout",
     "output_type": "stream",
     "text": [
      "Current Round: 41, Average Loss: 103.94191133731225, Test Loss: 200.42645546235838, Test Accuracy: 10.416872705225607, Best: 10.416872705225607\n"
     ]
    },
    {
     "name": "stderr",
     "output_type": "stream",
     "text": [
      "100%|██████████| 6/6 [00:01<00:00,  3.32it/s]\n"
     ]
    },
    {
     "name": "stdout",
     "output_type": "stream",
     "text": [
      "Current Round: 42, Average Loss: 102.39844968986853, Test Loss: 186.35057690377027, Test Accuracy: 10.076173132384724, Best: 10.076173132384724\n"
     ]
    },
    {
     "name": "stderr",
     "output_type": "stream",
     "text": [
      "100%|██████████| 6/6 [00:01<00:00,  3.44it/s]\n"
     ]
    },
    {
     "name": "stdout",
     "output_type": "stream",
     "text": [
      "Current Round: 43, Average Loss: 102.9922046077897, Test Loss: 173.72713879422923, Test Accuracy: 9.787275876845273, Best: 9.787275876845273\n"
     ]
    },
    {
     "name": "stderr",
     "output_type": "stream",
     "text": [
      "100%|██████████| 6/6 [00:01<00:00,  3.43it/s]\n"
     ]
    },
    {
     "name": "stdout",
     "output_type": "stream",
     "text": [
      "Current Round: 44, Average Loss: 99.6044510299548, Test Loss: 160.8950825578809, Test Accuracy: 9.545526431247943, Best: 9.545526431247943\n"
     ]
    },
    {
     "name": "stderr",
     "output_type": "stream",
     "text": [
      "100%|██████████| 6/6 [00:01<00:00,  3.42it/s]\n"
     ]
    },
    {
     "name": "stdout",
     "output_type": "stream",
     "text": [
      "Current Round: 45, Average Loss: 99.09334811567028, Test Loss: 150.54125501370564, Test Accuracy: 9.430679092029067, Best: 9.430679092029067\n"
     ]
    },
    {
     "name": "stderr",
     "output_type": "stream",
     "text": [
      "100%|██████████| 6/6 [00:01<00:00,  3.43it/s]\n"
     ]
    },
    {
     "name": "stdout",
     "output_type": "stream",
     "text": [
      "Current Round: 46, Average Loss: 96.80979020559083, Test Loss: 141.8769720516905, Test Accuracy: 9.287172017339733, Best: 9.287172017339733\n"
     ]
    },
    {
     "name": "stderr",
     "output_type": "stream",
     "text": [
      "100%|██████████| 6/6 [00:01<00:00,  3.40it/s]\n"
     ]
    },
    {
     "name": "stdout",
     "output_type": "stream",
     "text": [
      "Current Round: 47, Average Loss: 96.9863056339179, Test Loss: 136.53255458155826, Test Accuracy: 9.229786276078727, Best: 9.229786276078727\n"
     ]
    },
    {
     "name": "stderr",
     "output_type": "stream",
     "text": [
      "100%|██████████| 6/6 [00:01<00:00,  3.44it/s]\n"
     ]
    },
    {
     "name": "stdout",
     "output_type": "stream",
     "text": [
      "Current Round: 48, Average Loss: 95.69692239423618, Test Loss: 135.40597486577218, Test Accuracy: 9.23186884789071, Best: 9.229786276078727\n"
     ]
    },
    {
     "name": "stderr",
     "output_type": "stream",
     "text": [
      "100%|██████████| 6/6 [00:01<00:00,  3.50it/s]\n"
     ]
    },
    {
     "name": "stdout",
     "output_type": "stream",
     "text": [
      "Current Round: 49, Average Loss: 94.94255434062275, Test Loss: 131.2326549190054, Test Accuracy: 9.131015118169962, Best: 9.131015118169962\n"
     ]
    },
    {
     "name": "stderr",
     "output_type": "stream",
     "text": [
      "100%|██████████| 6/6 [00:01<00:00,  3.44it/s]\n"
     ]
    },
    {
     "name": "stdout",
     "output_type": "stream",
     "text": [
      "Current Round: 50, Average Loss: 94.92588151288095, Test Loss: 130.79783941541314, Test Accuracy: 9.128434659823165, Best: 9.128434659823165\n"
     ]
    },
    {
     "name": "stderr",
     "output_type": "stream",
     "text": [
      "100%|██████████| 6/6 [00:01<00:00,  3.31it/s]\n"
     ]
    },
    {
     "name": "stdout",
     "output_type": "stream",
     "text": [
      "Current Round: 51, Average Loss: 94.97704520349713, Test Loss: 130.4981447273249, Test Accuracy: 9.08429371764078, Best: 9.08429371764078\n"
     ]
    },
    {
     "name": "stderr",
     "output_type": "stream",
     "text": [
      "100%|██████████| 6/6 [00:01<00:00,  3.34it/s]\n"
     ]
    },
    {
     "name": "stdout",
     "output_type": "stream",
     "text": [
      "Current Round: 52, Average Loss: 94.59202743986019, Test Loss: 131.60748636310797, Test Accuracy: 9.108205168959229, Best: 9.08429371764078\n"
     ]
    },
    {
     "name": "stderr",
     "output_type": "stream",
     "text": [
      "100%|██████████| 6/6 [00:01<00:00,  3.40it/s]\n"
     ]
    },
    {
     "name": "stdout",
     "output_type": "stream",
     "text": [
      "Current Round: 53, Average Loss: 93.5765011274767, Test Loss: 132.88137599785236, Test Accuracy: 9.097587209651904, Best: 9.08429371764078\n"
     ]
    },
    {
     "name": "stderr",
     "output_type": "stream",
     "text": [
      "100%|██████████| 6/6 [00:01<00:00,  3.36it/s]\n"
     ]
    },
    {
     "name": "stdout",
     "output_type": "stream",
     "text": [
      "Current Round: 54, Average Loss: 93.98861200850217, Test Loss: 133.33692774329856, Test Accuracy: 9.092425508274612, Best: 9.08429371764078\n"
     ]
    },
    {
     "name": "stderr",
     "output_type": "stream",
     "text": [
      "100%|██████████| 6/6 [00:01<00:00,  3.42it/s]\n"
     ]
    },
    {
     "name": "stdout",
     "output_type": "stream",
     "text": [
      "Current Round: 55, Average Loss: 94.11872384474924, Test Loss: 134.07053627378434, Test Accuracy: 9.08765752430742, Best: 9.08429371764078\n"
     ]
    },
    {
     "name": "stderr",
     "output_type": "stream",
     "text": [
      "100%|██████████| 6/6 [00:01<00:00,  3.51it/s]\n"
     ]
    },
    {
     "name": "stdout",
     "output_type": "stream",
     "text": [
      "Current Round: 56, Average Loss: 93.47859347752014, Test Loss: 135.15338119949402, Test Accuracy: 9.123950289380003, Best: 9.08429371764078\n"
     ]
    },
    {
     "name": "stderr",
     "output_type": "stream",
     "text": [
      "100%|██████████| 6/6 [00:01<00:00,  3.39it/s]\n"
     ]
    },
    {
     "name": "stdout",
     "output_type": "stream",
     "text": [
      "Current Round: 57, Average Loss: 93.86168712378368, Test Loss: 136.51863796811418, Test Accuracy: 9.124040679269859, Best: 9.08429371764078\n"
     ]
    },
    {
     "name": "stderr",
     "output_type": "stream",
     "text": [
      "100%|██████████| 6/6 [00:01<00:00,  3.38it/s]\n"
     ]
    },
    {
     "name": "stdout",
     "output_type": "stream",
     "text": [
      "Current Round: 58, Average Loss: 93.7515774390841, Test Loss: 136.71971733445275, Test Accuracy: 9.106466307515992, Best: 9.08429371764078\n"
     ]
    },
    {
     "name": "stderr",
     "output_type": "stream",
     "text": [
      "100%|██████████| 6/6 [00:01<00:00,  3.24it/s]\n"
     ]
    },
    {
     "name": "stdout",
     "output_type": "stream",
     "text": [
      "Current Round: 59, Average Loss: 92.56378696620898, Test Loss: 137.09181384637012, Test Accuracy: 9.079789389760373, Best: 9.079789389760373\n"
     ]
    },
    {
     "name": "stderr",
     "output_type": "stream",
     "text": [
      "100%|██████████| 6/6 [00:01<00:00,  3.29it/s]\n"
     ]
    },
    {
     "name": "stdout",
     "output_type": "stream",
     "text": [
      "Current Round: 60, Average Loss: 92.16114316190983, Test Loss: 137.92166122698134, Test Accuracy: 9.076606611041479, Best: 9.076606611041479\n"
     ]
    },
    {
     "name": "stderr",
     "output_type": "stream",
     "text": [
      "100%|██████████| 6/6 [00:01<00:00,  3.32it/s]\n"
     ]
    },
    {
     "name": "stdout",
     "output_type": "stream",
     "text": [
      "Current Round: 61, Average Loss: 92.35953286739851, Test Loss: 138.4727483670212, Test Accuracy: 9.083235819839043, Best: 9.076606611041479\n"
     ]
    },
    {
     "name": "stderr",
     "output_type": "stream",
     "text": [
      "100%|██████████| 6/6 [00:01<00:00,  3.37it/s]\n"
     ]
    },
    {
     "name": "stdout",
     "output_type": "stream",
     "text": [
      "Current Round: 62, Average Loss: 92.48283614365869, Test Loss: 139.50018119477798, Test Accuracy: 9.105683462622736, Best: 9.076606611041479\n"
     ]
    },
    {
     "name": "stderr",
     "output_type": "stream",
     "text": [
      "100%|██████████| 6/6 [00:01<00:00,  3.31it/s]\n"
     ]
    },
    {
     "name": "stdout",
     "output_type": "stream",
     "text": [
      "Current Round: 63, Average Loss: 92.64120064028798, Test Loss: 139.99072060768194, Test Accuracy: 9.095593153470215, Best: 9.076606611041479\n"
     ]
    },
    {
     "name": "stderr",
     "output_type": "stream",
     "text": [
      "100%|██████████| 6/6 [00:01<00:00,  3.29it/s]\n"
     ]
    },
    {
     "name": "stdout",
     "output_type": "stream",
     "text": [
      "Current Round: 64, Average Loss: 91.9727460756863, Test Loss: 140.52265080829903, Test Accuracy: 9.061671482733782, Best: 9.061671482733782\n"
     ]
    },
    {
     "name": "stderr",
     "output_type": "stream",
     "text": [
      "100%|██████████| 6/6 [00:01<00:00,  3.41it/s]\n"
     ]
    },
    {
     "name": "stdout",
     "output_type": "stream",
     "text": [
      "Current Round: 65, Average Loss: 93.5017192988286, Test Loss: 141.3804025250075, Test Accuracy: 9.096584809313919, Best: 9.061671482733782\n"
     ]
    },
    {
     "name": "stderr",
     "output_type": "stream",
     "text": [
      "100%|██████████| 6/6 [00:01<00:00,  3.28it/s]\n"
     ]
    },
    {
     "name": "stdout",
     "output_type": "stream",
     "text": [
      "Current Round: 66, Average Loss: 91.32397163940952, Test Loss: 142.4686700439189, Test Accuracy: 9.161289004735934, Best: 9.061671482733782\n"
     ]
    },
    {
     "name": "stderr",
     "output_type": "stream",
     "text": [
      "100%|██████████| 6/6 [00:01<00:00,  3.30it/s]\n"
     ]
    },
    {
     "name": "stdout",
     "output_type": "stream",
     "text": [
      "Current Round: 67, Average Loss: 91.90199879376507, Test Loss: 142.3268892887652, Test Accuracy: 9.132153167157368, Best: 9.061671482733782\n"
     ]
    },
    {
     "name": "stderr",
     "output_type": "stream",
     "text": [
      "100%|██████████| 6/6 [00:01<00:00,  3.27it/s]\n"
     ]
    },
    {
     "name": "stdout",
     "output_type": "stream",
     "text": [
      "Current Round: 68, Average Loss: 89.99340566137333, Test Loss: 143.56781568729966, Test Accuracy: 9.171687228972141, Best: 9.061671482733782\n"
     ]
    },
    {
     "name": "stderr",
     "output_type": "stream",
     "text": [
      "100%|██████████| 6/6 [00:01<00:00,  3.45it/s]\n"
     ]
    },
    {
     "name": "stdout",
     "output_type": "stream",
     "text": [
      "Current Round: 69, Average Loss: 90.09019782475177, Test Loss: 144.2803765092936, Test Accuracy: 9.180417085668855, Best: 9.061671482733782\n"
     ]
    },
    {
     "name": "stderr",
     "output_type": "stream",
     "text": [
      "100%|██████████| 6/6 [00:01<00:00,  3.49it/s]\n"
     ]
    },
    {
     "name": "stdout",
     "output_type": "stream",
     "text": [
      "Current Round: 70, Average Loss: 90.9249255798138, Test Loss: 144.6191859665561, Test Accuracy: 9.165713261789843, Best: 9.061671482733782\n"
     ]
    },
    {
     "name": "stderr",
     "output_type": "stream",
     "text": [
      "100%|██████████| 6/6 [00:01<00:00,  3.50it/s]\n"
     ]
    },
    {
     "name": "stdout",
     "output_type": "stream",
     "text": [
      "Current Round: 71, Average Loss: 90.57153064777195, Test Loss: 144.59396199196982, Test Accuracy: 9.158162496346966, Best: 9.061671482733782\n"
     ]
    },
    {
     "name": "stderr",
     "output_type": "stream",
     "text": [
      "100%|██████████| 6/6 [00:01<00:00,  3.46it/s]\n"
     ]
    },
    {
     "name": "stdout",
     "output_type": "stream",
     "text": [
      "Current Round: 72, Average Loss: 89.68420877525001, Test Loss: 144.64244908229432, Test Accuracy: 9.163157076640642, Best: 9.061671482733782\n"
     ]
    },
    {
     "name": "stderr",
     "output_type": "stream",
     "text": [
      "100%|██████████| 6/6 [00:01<00:00,  3.40it/s]\n"
     ]
    },
    {
     "name": "stdout",
     "output_type": "stream",
     "text": [
      "Current Round: 73, Average Loss: 89.7800803336293, Test Loss: 144.03214095985282, Test Accuracy: 9.117457972435556, Best: 9.061671482733782\n"
     ]
    },
    {
     "name": "stderr",
     "output_type": "stream",
     "text": [
      "100%|██████████| 6/6 [00:01<00:00,  3.47it/s]\n"
     ]
    },
    {
     "name": "stdout",
     "output_type": "stream",
     "text": [
      "Current Round: 74, Average Loss: 90.86882241494699, Test Loss: 144.62988433854878, Test Accuracy: 9.134427187611179, Best: 9.061671482733782\n"
     ]
    },
    {
     "name": "stderr",
     "output_type": "stream",
     "text": [
      "100%|██████████| 6/6 [00:01<00:00,  3.56it/s]\n"
     ]
    },
    {
     "name": "stdout",
     "output_type": "stream",
     "text": [
      "Current Round: 75, Average Loss: 88.48471792745937, Test Loss: 145.39341903404394, Test Accuracy: 9.157257505509047, Best: 9.061671482733782\n"
     ]
    },
    {
     "name": "stderr",
     "output_type": "stream",
     "text": [
      "100%|██████████| 6/6 [00:01<00:00,  3.47it/s]\n"
     ]
    },
    {
     "name": "stdout",
     "output_type": "stream",
     "text": [
      "Current Round: 76, Average Loss: 88.59737101904828, Test Loss: 145.41801765128102, Test Accuracy: 9.16706725242265, Best: 9.061671482733782\n"
     ]
    },
    {
     "name": "stderr",
     "output_type": "stream",
     "text": [
      "100%|██████████| 6/6 [00:01<00:00,  3.62it/s]\n"
     ]
    },
    {
     "name": "stdout",
     "output_type": "stream",
     "text": [
      "Current Round: 77, Average Loss: 89.10222637815976, Test Loss: 145.93278455338643, Test Accuracy: 9.182792122331547, Best: 9.061671482733782\n"
     ]
    },
    {
     "name": "stderr",
     "output_type": "stream",
     "text": [
      "100%|██████████| 6/6 [00:01<00:00,  3.61it/s]\n"
     ]
    },
    {
     "name": "stdout",
     "output_type": "stream",
     "text": [
      "Current Round: 78, Average Loss: 88.35472383225802, Test Loss: 147.3586530103781, Test Accuracy: 9.242946714569054, Best: 9.061671482733782\n"
     ]
    },
    {
     "name": "stderr",
     "output_type": "stream",
     "text": [
      "100%|██████████| 6/6 [00:01<00:00,  3.44it/s]\n"
     ]
    },
    {
     "name": "stdout",
     "output_type": "stream",
     "text": [
      "Current Round: 79, Average Loss: 86.22620514153088, Test Loss: 146.59799156513392, Test Accuracy: 9.191805824175791, Best: 9.061671482733782\n"
     ]
    },
    {
     "name": "stderr",
     "output_type": "stream",
     "text": [
      "100%|██████████| 6/6 [00:01<00:00,  3.39it/s]\n"
     ]
    },
    {
     "name": "stdout",
     "output_type": "stream",
     "text": [
      "Current Round: 80, Average Loss: 87.6549317262152, Test Loss: 147.38116625073232, Test Accuracy: 9.234850830305021, Best: 9.061671482733782\n"
     ]
    },
    {
     "name": "stderr",
     "output_type": "stream",
     "text": [
      "100%|██████████| 6/6 [00:01<00:00,  3.41it/s]\n"
     ]
    },
    {
     "name": "stdout",
     "output_type": "stream",
     "text": [
      "Current Round: 81, Average Loss: 85.89248491673983, Test Loss: 146.52253504642175, Test Accuracy: 9.193249954166909, Best: 9.061671482733782\n"
     ]
    },
    {
     "name": "stderr",
     "output_type": "stream",
     "text": [
      "100%|██████████| 6/6 [00:01<00:00,  3.37it/s]\n"
     ]
    },
    {
     "name": "stdout",
     "output_type": "stream",
     "text": [
      "Current Round: 82, Average Loss: 87.18725870462822, Test Loss: 143.9806790151789, Test Accuracy: 9.052651756314983, Best: 9.052651756314983\n"
     ]
    },
    {
     "name": "stderr",
     "output_type": "stream",
     "text": [
      "100%|██████████| 6/6 [00:01<00:00,  3.40it/s]\n"
     ]
    },
    {
     "name": "stdout",
     "output_type": "stream",
     "text": [
      "Current Round: 83, Average Loss: 85.60189522260539, Test Loss: 142.98117891795093, Test Accuracy: 8.991760218453674, Best: 8.991760218453674\n"
     ]
    },
    {
     "name": "stderr",
     "output_type": "stream",
     "text": [
      "100%|██████████| 6/6 [00:01<00:00,  3.40it/s]\n"
     ]
    },
    {
     "name": "stdout",
     "output_type": "stream",
     "text": [
      "Current Round: 84, Average Loss: 83.74712084633137, Test Loss: 141.7416535798354, Test Accuracy: 8.935129862883425, Best: 8.935129862883425\n"
     ]
    },
    {
     "name": "stderr",
     "output_type": "stream",
     "text": [
      "100%|██████████| 6/6 [00:01<00:00,  3.51it/s]\n"
     ]
    },
    {
     "name": "stdout",
     "output_type": "stream",
     "text": [
      "Current Round: 85, Average Loss: 81.83080823595274, Test Loss: 140.48551405238823, Test Accuracy: 8.850746081516498, Best: 8.850746081516498\n"
     ]
    },
    {
     "name": "stderr",
     "output_type": "stream",
     "text": [
      "100%|██████████| 6/6 [00:01<00:00,  3.40it/s]\n"
     ]
    },
    {
     "name": "stdout",
     "output_type": "stream",
     "text": [
      "Current Round: 86, Average Loss: 80.77836086356773, Test Loss: 138.35412008471354, Test Accuracy: 8.72686834938021, Best: 8.72686834938021\n"
     ]
    },
    {
     "name": "stderr",
     "output_type": "stream",
     "text": [
      "100%|██████████| 6/6 [00:01<00:00,  3.41it/s]\n"
     ]
    },
    {
     "name": "stdout",
     "output_type": "stream",
     "text": [
      "Current Round: 87, Average Loss: 76.77973621332137, Test Loss: 135.43652462139448, Test Accuracy: 8.561896304067922, Best: 8.561896304067922\n"
     ]
    },
    {
     "name": "stderr",
     "output_type": "stream",
     "text": [
      "100%|██████████| 6/6 [00:01<00:00,  3.52it/s]\n"
     ]
    },
    {
     "name": "stdout",
     "output_type": "stream",
     "text": [
      "Current Round: 88, Average Loss: 76.23901739885316, Test Loss: 132.94642717120743, Test Accuracy: 8.399877614395917, Best: 8.399877614395917\n"
     ]
    },
    {
     "name": "stderr",
     "output_type": "stream",
     "text": [
      "100%|██████████| 6/6 [00:01<00:00,  3.54it/s]\n"
     ]
    },
    {
     "name": "stdout",
     "output_type": "stream",
     "text": [
      "Current Round: 89, Average Loss: 75.51552702451814, Test Loss: 134.66150850460136, Test Accuracy: 8.38121858996234, Best: 8.38121858996234\n"
     ]
    },
    {
     "name": "stderr",
     "output_type": "stream",
     "text": [
      "100%|██████████| 6/6 [00:01<00:00,  3.43it/s]\n"
     ]
    },
    {
     "name": "stdout",
     "output_type": "stream",
     "text": [
      "Current Round: 90, Average Loss: 74.43264094223017, Test Loss: 133.15979176841427, Test Accuracy: 8.27611586181943, Best: 8.27611586181943\n"
     ]
    },
    {
     "name": "stderr",
     "output_type": "stream",
     "text": [
      "100%|██████████| 6/6 [00:01<00:00,  3.41it/s]\n"
     ]
    },
    {
     "name": "stdout",
     "output_type": "stream",
     "text": [
      "Current Round: 91, Average Loss: 71.38519531185344, Test Loss: 134.89549460268725, Test Accuracy: 8.29224331937315, Best: 8.27611586181943\n"
     ]
    },
    {
     "name": "stderr",
     "output_type": "stream",
     "text": [
      "100%|██████████| 6/6 [00:01<00:00,  3.44it/s]\n"
     ]
    },
    {
     "name": "stdout",
     "output_type": "stream",
     "text": [
      "Current Round: 92, Average Loss: 70.90724483296219, Test Loss: 135.29402526311492, Test Accuracy: 8.272777621187686, Best: 8.272777621187686\n"
     ]
    },
    {
     "name": "stderr",
     "output_type": "stream",
     "text": [
      "100%|██████████| 6/6 [00:01<00:00,  3.39it/s]\n"
     ]
    },
    {
     "name": "stdout",
     "output_type": "stream",
     "text": [
      "Current Round: 93, Average Loss: 69.870178825142, Test Loss: 135.90651326990414, Test Accuracy: 8.242775213910448, Best: 8.242775213910448\n"
     ]
    },
    {
     "name": "stderr",
     "output_type": "stream",
     "text": [
      "100%|██████████| 6/6 [00:01<00:00,  3.37it/s]\n"
     ]
    },
    {
     "name": "stdout",
     "output_type": "stream",
     "text": [
      "Current Round: 94, Average Loss: 68.90041556370822, Test Loss: 138.95713832826715, Test Accuracy: 8.322848519723507, Best: 8.242775213910448\n"
     ]
    },
    {
     "name": "stderr",
     "output_type": "stream",
     "text": [
      "100%|██████████| 6/6 [00:01<00:00,  3.37it/s]\n"
     ]
    },
    {
     "name": "stdout",
     "output_type": "stream",
     "text": [
      "Current Round: 95, Average Loss: 68.32238008116202, Test Loss: 142.57806680559224, Test Accuracy: 8.415279683865874, Best: 8.242775213910448\n"
     ]
    },
    {
     "name": "stderr",
     "output_type": "stream",
     "text": [
      "100%|██████████| 6/6 [00:01<00:00,  3.43it/s]\n"
     ]
    },
    {
     "name": "stdout",
     "output_type": "stream",
     "text": [
      "Current Round: 96, Average Loss: 67.6915777038736, Test Loss: 144.73864944799902, Test Accuracy: 8.518919355068656, Best: 8.242775213910448\n"
     ]
    },
    {
     "name": "stderr",
     "output_type": "stream",
     "text": [
      "100%|██████████| 6/6 [00:01<00:00,  3.40it/s]\n"
     ]
    },
    {
     "name": "stdout",
     "output_type": "stream",
     "text": [
      "Current Round: 97, Average Loss: 68.29759384742432, Test Loss: 148.27073239475084, Test Accuracy: 8.642536061699358, Best: 8.242775213910448\n"
     ]
    },
    {
     "name": "stderr",
     "output_type": "stream",
     "text": [
      "100%|██████████| 6/6 [00:01<00:00,  3.47it/s]\n"
     ]
    },
    {
     "name": "stdout",
     "output_type": "stream",
     "text": [
      "Current Round: 98, Average Loss: 67.13282924436318, Test Loss: 147.86511212781238, Test Accuracy: 8.589438155976666, Best: 8.242775213910448\n"
     ]
    },
    {
     "name": "stderr",
     "output_type": "stream",
     "text": [
      "100%|██████████| 6/6 [00:01<00:00,  3.55it/s]\n"
     ]
    },
    {
     "name": "stdout",
     "output_type": "stream",
     "text": [
      "Current Round: 99, Average Loss: 65.87508162352209, Test Loss: 148.90579179610683, Test Accuracy: 8.671407642860839, Best: 8.242775213910448\n"
     ]
    },
    {
     "name": "stderr",
     "output_type": "stream",
     "text": [
      "100%|██████████| 6/6 [00:01<00:00,  3.57it/s]\n"
     ]
    },
    {
     "name": "stdout",
     "output_type": "stream",
     "text": [
      "Current Round: 100, Average Loss: 66.06751953788381, Test Loss: 150.12470408613058, Test Accuracy: 8.753514884277495, Best: 8.242775213910448\n"
     ]
    },
    {
     "name": "stderr",
     "output_type": "stream",
     "text": [
      "100%|██████████| 6/6 [00:01<00:00,  3.51it/s]\n"
     ]
    },
    {
     "name": "stdout",
     "output_type": "stream",
     "text": [
      "Current Round: 101, Average Loss: 65.0530778738492, Test Loss: 156.3500713276154, Test Accuracy: 9.023055262134273, Best: 8.242775213910448\n"
     ]
    },
    {
     "name": "stderr",
     "output_type": "stream",
     "text": [
      "100%|██████████| 6/6 [00:01<00:00,  3.73it/s]\n"
     ]
    },
    {
     "name": "stdout",
     "output_type": "stream",
     "text": [
      "Current Round: 102, Average Loss: 63.62761304502368, Test Loss: 153.46061885822218, Test Accuracy: 8.953678965420824, Best: 8.242775213910448\n"
     ]
    },
    {
     "name": "stderr",
     "output_type": "stream",
     "text": [
      "100%|██████████| 6/6 [00:01<00:00,  3.71it/s]\n"
     ]
    },
    {
     "name": "stdout",
     "output_type": "stream",
     "text": [
      "Current Round: 103, Average Loss: 64.60330826457216, Test Loss: 148.98682957954122, Test Accuracy: 8.841880072743772, Best: 8.242775213910448\n"
     ]
    },
    {
     "name": "stderr",
     "output_type": "stream",
     "text": [
      "100%|██████████| 6/6 [00:01<00:00,  3.53it/s]\n"
     ]
    },
    {
     "name": "stdout",
     "output_type": "stream",
     "text": [
      "Current Round: 104, Average Loss: 63.807072525003385, Test Loss: 153.22879057864125, Test Accuracy: 9.038806851468564, Best: 8.242775213910448\n"
     ]
    },
    {
     "name": "stderr",
     "output_type": "stream",
     "text": [
      "100%|██████████| 6/6 [00:01<00:00,  3.40it/s]\n"
     ]
    },
    {
     "name": "stdout",
     "output_type": "stream",
     "text": [
      "Current Round: 105, Average Loss: 63.36388876432556, Test Loss: 163.10753884808827, Test Accuracy: 9.465677088816665, Best: 8.242775213910448\n"
     ]
    },
    {
     "name": "stderr",
     "output_type": "stream",
     "text": [
      "100%|██████████| 6/6 [00:01<00:00,  3.38it/s]\n"
     ]
    },
    {
     "name": "stdout",
     "output_type": "stream",
     "text": [
      "Current Round: 106, Average Loss: 63.57028697938881, Test Loss: 159.67890792112, Test Accuracy: 9.299137940341803, Best: 8.242775213910448\n"
     ]
    },
    {
     "name": "stderr",
     "output_type": "stream",
     "text": [
      "100%|██████████| 6/6 [00:01<00:00,  3.36it/s]\n"
     ]
    },
    {
     "name": "stdout",
     "output_type": "stream",
     "text": [
      "Current Round: 107, Average Loss: 63.55775687312462, Test Loss: 156.93677583935093, Test Accuracy: 9.232135711253944, Best: 8.242775213910448\n"
     ]
    },
    {
     "name": "stderr",
     "output_type": "stream",
     "text": [
      "100%|██████████| 6/6 [00:01<00:00,  3.39it/s]\n"
     ]
    },
    {
     "name": "stdout",
     "output_type": "stream",
     "text": [
      "Current Round: 108, Average Loss: 62.05248546606912, Test Loss: 159.5093710406267, Test Accuracy: 9.387820133932461, Best: 8.242775213910448\n"
     ]
    },
    {
     "name": "stderr",
     "output_type": "stream",
     "text": [
      "100%|██████████| 6/6 [00:01<00:00,  3.37it/s]\n"
     ]
    },
    {
     "name": "stdout",
     "output_type": "stream",
     "text": [
      "Current Round: 109, Average Loss: 62.62411025629336, Test Loss: 155.3899134458441, Test Accuracy: 9.231762780871385, Best: 8.242775213910448\n"
     ]
    },
    {
     "name": "stderr",
     "output_type": "stream",
     "text": [
      "100%|██████████| 6/6 [00:01<00:00,  3.37it/s]\n"
     ]
    },
    {
     "name": "stdout",
     "output_type": "stream",
     "text": [
      "Current Round: 110, Average Loss: 62.01002425823524, Test Loss: 150.76771224516327, Test Accuracy: 9.048194830893289, Best: 8.242775213910448\n"
     ]
    },
    {
     "name": "stderr",
     "output_type": "stream",
     "text": [
      "100%|██████████| 6/6 [00:01<00:00,  3.59it/s]\n"
     ]
    },
    {
     "name": "stdout",
     "output_type": "stream",
     "text": [
      "Current Round: 111, Average Loss: 63.04056067366204, Test Loss: 150.34555931675538, Test Accuracy: 9.029274218439909, Best: 8.242775213910448\n"
     ]
    },
    {
     "name": "stderr",
     "output_type": "stream",
     "text": [
      "100%|██████████| 6/6 [00:01<00:00,  3.39it/s]\n"
     ]
    },
    {
     "name": "stdout",
     "output_type": "stream",
     "text": [
      "Current Round: 112, Average Loss: 62.89733387449153, Test Loss: 153.2961808262483, Test Accuracy: 9.229743092476657, Best: 8.242775213910448\n"
     ]
    },
    {
     "name": "stderr",
     "output_type": "stream",
     "text": [
      "100%|██████████| 6/6 [00:01<00:00,  3.37it/s]\n"
     ]
    },
    {
     "name": "stdout",
     "output_type": "stream",
     "text": [
      "Current Round: 113, Average Loss: 63.553721791541136, Test Loss: 142.33313954738804, Test Accuracy: 8.722084395208913, Best: 8.242775213910448\n"
     ]
    },
    {
     "name": "stderr",
     "output_type": "stream",
     "text": [
      "100%|██████████| 6/6 [00:01<00:00,  3.42it/s]\n"
     ]
    },
    {
     "name": "stdout",
     "output_type": "stream",
     "text": [
      "Current Round: 114, Average Loss: 61.58518671808746, Test Loss: 142.25690158317846, Test Accuracy: 8.716407151913554, Best: 8.242775213910448\n"
     ]
    },
    {
     "name": "stderr",
     "output_type": "stream",
     "text": [
      "100%|██████████| 6/6 [00:01<00:00,  3.66it/s]\n"
     ]
    },
    {
     "name": "stdout",
     "output_type": "stream",
     "text": [
      "Current Round: 115, Average Loss: 60.95027180553814, Test Loss: 141.75510735508365, Test Accuracy: 8.709694440480058, Best: 8.242775213910448\n"
     ]
    },
    {
     "name": "stderr",
     "output_type": "stream",
     "text": [
      "100%|██████████| 6/6 [00:01<00:00,  3.56it/s]\n"
     ]
    },
    {
     "name": "stdout",
     "output_type": "stream",
     "text": [
      "Current Round: 116, Average Loss: 62.18128258117192, Test Loss: 139.37867599483835, Test Accuracy: 8.606869188235446, Best: 8.242775213910448\n"
     ]
    },
    {
     "name": "stderr",
     "output_type": "stream",
     "text": [
      "100%|██████████| 6/6 [00:01<00:00,  3.59it/s]\n"
     ]
    },
    {
     "name": "stdout",
     "output_type": "stream",
     "text": [
      "Current Round: 117, Average Loss: 62.180108421644235, Test Loss: 138.86174800501308, Test Accuracy: 8.579261073097125, Best: 8.242775213910448\n"
     ]
    },
    {
     "name": "stderr",
     "output_type": "stream",
     "text": [
      "100%|██████████| 6/6 [00:01<00:00,  3.45it/s]\n"
     ]
    },
    {
     "name": "stdout",
     "output_type": "stream",
     "text": [
      "Current Round: 118, Average Loss: 62.25968118763273, Test Loss: 144.10830271773068, Test Accuracy: 8.827172233269561, Best: 8.242775213910448\n"
     ]
    },
    {
     "name": "stderr",
     "output_type": "stream",
     "text": [
      "100%|██████████| 6/6 [00:01<00:00,  3.39it/s]\n"
     ]
    },
    {
     "name": "stdout",
     "output_type": "stream",
     "text": [
      "Current Round: 119, Average Loss: 61.509082078243786, Test Loss: 143.457443919139, Test Accuracy: 8.82044615857811, Best: 8.242775213910448\n"
     ]
    },
    {
     "name": "stderr",
     "output_type": "stream",
     "text": [
      "100%|██████████| 6/6 [00:01<00:00,  3.41it/s]\n"
     ]
    },
    {
     "name": "stdout",
     "output_type": "stream",
     "text": [
      "Current Round: 120, Average Loss: 61.92958761145297, Test Loss: 136.53332694369234, Test Accuracy: 8.479919360325091, Best: 8.242775213910448\n"
     ]
    },
    {
     "name": "stderr",
     "output_type": "stream",
     "text": [
      "100%|██████████| 6/6 [00:01<00:00,  3.53it/s]\n"
     ]
    },
    {
     "name": "stdout",
     "output_type": "stream",
     "text": [
      "Current Round: 121, Average Loss: 62.423155324426546, Test Loss: 139.76325243416034, Test Accuracy: 8.6592396378074, Best: 8.242775213910448\n"
     ]
    },
    {
     "name": "stderr",
     "output_type": "stream",
     "text": [
      "100%|██████████| 6/6 [00:01<00:00,  3.50it/s]\n"
     ]
    },
    {
     "name": "stdout",
     "output_type": "stream",
     "text": [
      "Current Round: 122, Average Loss: 61.259470608406225, Test Loss: 142.00183826583395, Test Accuracy: 8.747895071793076, Best: 8.242775213910448\n"
     ]
    },
    {
     "name": "stderr",
     "output_type": "stream",
     "text": [
      "100%|██████████| 6/6 [00:01<00:00,  3.41it/s]\n"
     ]
    },
    {
     "name": "stdout",
     "output_type": "stream",
     "text": [
      "Current Round: 123, Average Loss: 61.27203144671685, Test Loss: 143.2834953363463, Test Accuracy: 8.766044302353038, Best: 8.242775213910448\n"
     ]
    },
    {
     "name": "stderr",
     "output_type": "stream",
     "text": [
      "100%|██████████| 6/6 [00:01<00:00,  3.38it/s]\n"
     ]
    },
    {
     "name": "stdout",
     "output_type": "stream",
     "text": [
      "Current Round: 124, Average Loss: 61.444979540848685, Test Loss: 142.18593401500615, Test Accuracy: 8.698584555397836, Best: 8.242775213910448\n"
     ]
    },
    {
     "name": "stderr",
     "output_type": "stream",
     "text": [
      "100%|██████████| 6/6 [00:01<00:00,  3.37it/s]\n"
     ]
    },
    {
     "name": "stdout",
     "output_type": "stream",
     "text": [
      "Current Round: 125, Average Loss: 62.70708156502641, Test Loss: 140.6316718617858, Test Accuracy: 8.655235531604866, Best: 8.242775213910448\n"
     ]
    },
    {
     "name": "stderr",
     "output_type": "stream",
     "text": [
      "100%|██████████| 6/6 [00:01<00:00,  3.37it/s]\n"
     ]
    },
    {
     "name": "stdout",
     "output_type": "stream",
     "text": [
      "Current Round: 126, Average Loss: 62.41673573794503, Test Loss: 141.60447602847398, Test Accuracy: 8.707866512709835, Best: 8.242775213910448\n"
     ]
    },
    {
     "name": "stderr",
     "output_type": "stream",
     "text": [
      "100%|██████████| 6/6 [00:01<00:00,  3.51it/s]\n"
     ]
    },
    {
     "name": "stdout",
     "output_type": "stream",
     "text": [
      "Current Round: 127, Average Loss: 61.513705756392575, Test Loss: 148.91263633170666, Test Accuracy: 9.04755021323354, Best: 8.242775213910448\n"
     ]
    },
    {
     "name": "stderr",
     "output_type": "stream",
     "text": [
      "100%|██████████| 6/6 [00:01<00:00,  3.50it/s]\n"
     ]
    },
    {
     "name": "stdout",
     "output_type": "stream",
     "text": [
      "Current Round: 128, Average Loss: 61.767169752117034, Test Loss: 145.36390188641042, Test Accuracy: 8.85372770467803, Best: 8.242775213910448\n"
     ]
    },
    {
     "name": "stderr",
     "output_type": "stream",
     "text": [
      "100%|██████████| 6/6 [00:01<00:00,  3.55it/s]\n"
     ]
    },
    {
     "name": "stdout",
     "output_type": "stream",
     "text": [
      "Current Round: 129, Average Loss: 60.82089244358398, Test Loss: 150.7623271659372, Test Accuracy: 9.133299273333733, Best: 8.242775213910448\n"
     ]
    },
    {
     "name": "stderr",
     "output_type": "stream",
     "text": [
      "100%|██████████| 6/6 [00:01<00:00,  3.37it/s]\n"
     ]
    },
    {
     "name": "stdout",
     "output_type": "stream",
     "text": [
      "Current Round: 130, Average Loss: 60.588204020489265, Test Loss: 140.2863227629196, Test Accuracy: 8.63101664026726, Best: 8.242775213910448\n"
     ]
    },
    {
     "name": "stderr",
     "output_type": "stream",
     "text": [
      "100%|██████████| 6/6 [00:01<00:00,  3.36it/s]\n"
     ]
    },
    {
     "name": "stdout",
     "output_type": "stream",
     "text": [
      "Current Round: 131, Average Loss: 61.03908872926335, Test Loss: 141.8175485238082, Test Accuracy: 8.69054597904248, Best: 8.242775213910448\n"
     ]
    },
    {
     "name": "stderr",
     "output_type": "stream",
     "text": [
      "100%|██████████| 6/6 [00:01<00:00,  3.46it/s]\n"
     ]
    },
    {
     "name": "stdout",
     "output_type": "stream",
     "text": [
      "Current Round: 132, Average Loss: 60.873681497833395, Test Loss: 148.638949915102, Test Accuracy: 9.026089931804746, Best: 8.242775213910448\n"
     ]
    },
    {
     "name": "stderr",
     "output_type": "stream",
     "text": [
      "100%|██████████| 6/6 [00:01<00:00,  3.37it/s]\n"
     ]
    },
    {
     "name": "stdout",
     "output_type": "stream",
     "text": [
      "Current Round: 133, Average Loss: 60.571723607218225, Test Loss: 145.291456177376, Test Accuracy: 8.823203839629409, Best: 8.242775213910448\n"
     ]
    },
    {
     "name": "stderr",
     "output_type": "stream",
     "text": [
      "100%|██████████| 6/6 [00:01<00:00,  3.47it/s]\n"
     ]
    },
    {
     "name": "stdout",
     "output_type": "stream",
     "text": [
      "Current Round: 134, Average Loss: 60.75543728317623, Test Loss: 147.23798579199163, Test Accuracy: 8.910176959031872, Best: 8.242775213910448\n"
     ]
    },
    {
     "name": "stderr",
     "output_type": "stream",
     "text": [
      "100%|██████████| 6/6 [00:01<00:00,  3.48it/s]\n"
     ]
    },
    {
     "name": "stdout",
     "output_type": "stream",
     "text": [
      "Current Round: 135, Average Loss: 62.23390544273972, Test Loss: 143.25348410430877, Test Accuracy: 8.702066147342196, Best: 8.242775213910448\n"
     ]
    },
    {
     "name": "stderr",
     "output_type": "stream",
     "text": [
      "100%|██████████| 6/6 [00:01<00:00,  3.63it/s]\n"
     ]
    },
    {
     "name": "stdout",
     "output_type": "stream",
     "text": [
      "Current Round: 136, Average Loss: 60.4426128364585, Test Loss: 149.83441138466014, Test Accuracy: 8.977146602474624, Best: 8.242775213910448\n"
     ]
    },
    {
     "name": "stderr",
     "output_type": "stream",
     "text": [
      "100%|██████████| 6/6 [00:01<00:00,  3.51it/s]\n"
     ]
    },
    {
     "name": "stdout",
     "output_type": "stream",
     "text": [
      "Current Round: 137, Average Loss: 61.59840510005512, Test Loss: 145.36366442277972, Test Accuracy: 8.808525881950445, Best: 8.242775213910448\n"
     ]
    },
    {
     "name": "stderr",
     "output_type": "stream",
     "text": [
      "100%|██████████| 6/6 [00:01<00:00,  3.45it/s]\n"
     ]
    },
    {
     "name": "stdout",
     "output_type": "stream",
     "text": [
      "Current Round: 138, Average Loss: 59.880508451368485, Test Loss: 147.8701954703995, Test Accuracy: 8.910128778979976, Best: 8.242775213910448\n"
     ]
    },
    {
     "name": "stderr",
     "output_type": "stream",
     "text": [
      "100%|██████████| 6/6 [00:01<00:00,  3.40it/s]\n"
     ]
    },
    {
     "name": "stdout",
     "output_type": "stream",
     "text": [
      "Current Round: 139, Average Loss: 60.566605701383445, Test Loss: 144.68982341711998, Test Accuracy: 8.749460884481854, Best: 8.242775213910448\n"
     ]
    },
    {
     "name": "stderr",
     "output_type": "stream",
     "text": [
      "100%|██████████| 6/6 [00:01<00:00,  3.54it/s]\n"
     ]
    },
    {
     "name": "stdout",
     "output_type": "stream",
     "text": [
      "Current Round: 140, Average Loss: 60.51012115818878, Test Loss: 146.64581668431856, Test Accuracy: 8.847721246390833, Best: 8.242775213910448\n"
     ]
    },
    {
     "name": "stderr",
     "output_type": "stream",
     "text": [
      "100%|██████████| 6/6 [00:01<00:00,  3.42it/s]\n"
     ]
    },
    {
     "name": "stdout",
     "output_type": "stream",
     "text": [
      "Current Round: 141, Average Loss: 60.820874922890226, Test Loss: 148.4149963512966, Test Accuracy: 8.898498010458113, Best: 8.242775213910448\n"
     ]
    },
    {
     "name": "stderr",
     "output_type": "stream",
     "text": [
      "100%|██████████| 6/6 [00:01<00:00,  3.40it/s]\n"
     ]
    },
    {
     "name": "stdout",
     "output_type": "stream",
     "text": [
      "Current Round: 142, Average Loss: 61.26693110960778, Test Loss: 141.84798278797146, Test Accuracy: 8.568640608474372, Best: 8.242775213910448\n"
     ]
    },
    {
     "name": "stderr",
     "output_type": "stream",
     "text": [
      "100%|██████████| 6/6 [00:01<00:00,  3.40it/s]\n"
     ]
    },
    {
     "name": "stdout",
     "output_type": "stream",
     "text": [
      "Current Round: 143, Average Loss: 60.39507576110722, Test Loss: 144.56928166625224, Test Accuracy: 8.724426616966502, Best: 8.242775213910448\n"
     ]
    },
    {
     "name": "stderr",
     "output_type": "stream",
     "text": [
      "100%|██████████| 6/6 [00:01<00:00,  3.38it/s]\n"
     ]
    },
    {
     "name": "stdout",
     "output_type": "stream",
     "text": [
      "Current Round: 144, Average Loss: 61.79530535898081, Test Loss: 138.4158597332431, Test Accuracy: 8.470021381401809, Best: 8.242775213910448\n"
     ]
    },
    {
     "name": "stderr",
     "output_type": "stream",
     "text": [
      "100%|██████████| 6/6 [00:01<00:00,  3.32it/s]\n"
     ]
    },
    {
     "name": "stdout",
     "output_type": "stream",
     "text": [
      "Current Round: 145, Average Loss: 59.924387056472405, Test Loss: 143.21913573736742, Test Accuracy: 8.678463724318343, Best: 8.242775213910448\n"
     ]
    },
    {
     "name": "stderr",
     "output_type": "stream",
     "text": [
      "100%|██████████| 6/6 [00:01<00:00,  3.35it/s]\n"
     ]
    },
    {
     "name": "stdout",
     "output_type": "stream",
     "text": [
      "Current Round: 146, Average Loss: 59.89098640576989, Test Loss: 143.50303213931667, Test Accuracy: 8.674400168871495, Best: 8.242775213910448\n"
     ]
    },
    {
     "name": "stderr",
     "output_type": "stream",
     "text": [
      "100%|██████████| 6/6 [00:01<00:00,  3.39it/s]\n"
     ]
    },
    {
     "name": "stdout",
     "output_type": "stream",
     "text": [
      "Current Round: 147, Average Loss: 60.70559546696807, Test Loss: 146.94475095637623, Test Accuracy: 8.835164544012171, Best: 8.242775213910448\n"
     ]
    },
    {
     "name": "stderr",
     "output_type": "stream",
     "text": [
      "100%|██████████| 6/6 [00:01<00:00,  3.29it/s]\n"
     ]
    },
    {
     "name": "stdout",
     "output_type": "stream",
     "text": [
      "Current Round: 148, Average Loss: 59.649922522694276, Test Loss: 147.96399952744537, Test Accuracy: 8.88492679005071, Best: 8.242775213910448\n"
     ]
    },
    {
     "name": "stderr",
     "output_type": "stream",
     "text": [
      "100%|██████████| 6/6 [00:01<00:00,  3.42it/s]\n"
     ]
    },
    {
     "name": "stdout",
     "output_type": "stream",
     "text": [
      "Current Round: 149, Average Loss: 60.380444051872125, Test Loss: 149.55346453260017, Test Accuracy: 8.959427248589611, Best: 8.242775213910448\n"
     ]
    },
    {
     "name": "stderr",
     "output_type": "stream",
     "text": [
      "100%|██████████| 6/6 [00:01<00:00,  3.41it/s]\n"
     ]
    },
    {
     "name": "stdout",
     "output_type": "stream",
     "text": [
      "Current Round: 150, Average Loss: 60.52823983970811, Test Loss: 152.71498697258005, Test Accuracy: 9.09613086506632, Best: 8.242775213910448\n"
     ]
    },
    {
     "name": "stderr",
     "output_type": "stream",
     "text": [
      "100%|██████████| 6/6 [00:01<00:00,  3.44it/s]\n"
     ]
    },
    {
     "name": "stdout",
     "output_type": "stream",
     "text": [
      "Current Round: 151, Average Loss: 60.151622919795166, Test Loss: 153.90819464743026, Test Accuracy: 9.127598888959731, Best: 8.242775213910448\n"
     ]
    },
    {
     "name": "stderr",
     "output_type": "stream",
     "text": [
      "100%|██████████| 6/6 [00:01<00:00,  3.70it/s]\n"
     ]
    },
    {
     "name": "stdout",
     "output_type": "stream",
     "text": [
      "Current Round: 152, Average Loss: 60.95280097952489, Test Loss: 162.5082522131401, Test Accuracy: 9.501772172684415, Best: 8.242775213910448\n"
     ]
    },
    {
     "name": "stderr",
     "output_type": "stream",
     "text": [
      "100%|██████████| 6/6 [00:01<00:00,  3.45it/s]\n"
     ]
    },
    {
     "name": "stdout",
     "output_type": "stream",
     "text": [
      "Current Round: 153, Average Loss: 61.677725672344046, Test Loss: 152.46432721574214, Test Accuracy: 9.064826034111013, Best: 8.242775213910448\n"
     ]
    },
    {
     "name": "stderr",
     "output_type": "stream",
     "text": [
      "100%|██████████| 6/6 [00:01<00:00,  3.39it/s]\n"
     ]
    },
    {
     "name": "stdout",
     "output_type": "stream",
     "text": [
      "Current Round: 154, Average Loss: 60.24925129857456, Test Loss: 150.53503515585206, Test Accuracy: 8.932721559886152, Best: 8.242775213910448\n"
     ]
    },
    {
     "name": "stderr",
     "output_type": "stream",
     "text": [
      "100%|██████████| 6/6 [00:01<00:00,  3.48it/s]\n"
     ]
    },
    {
     "name": "stdout",
     "output_type": "stream",
     "text": [
      "Current Round: 155, Average Loss: 60.517678148805295, Test Loss: 147.0921455643508, Test Accuracy: 8.781265563681224, Best: 8.242775213910448\n"
     ]
    },
    {
     "name": "stderr",
     "output_type": "stream",
     "text": [
      "100%|██████████| 6/6 [00:01<00:00,  3.41it/s]\n"
     ]
    },
    {
     "name": "stdout",
     "output_type": "stream",
     "text": [
      "Current Round: 156, Average Loss: 60.578100171285634, Test Loss: 153.65086442005014, Test Accuracy: 9.065331618582006, Best: 8.242775213910448\n"
     ]
    },
    {
     "name": "stderr",
     "output_type": "stream",
     "text": [
      "100%|██████████| 6/6 [00:01<00:00,  3.47it/s]\n"
     ]
    },
    {
     "name": "stdout",
     "output_type": "stream",
     "text": [
      "Current Round: 157, Average Loss: 61.5727361616261, Test Loss: 161.74690051020448, Test Accuracy: 9.434314309442797, Best: 8.242775213910448\n"
     ]
    },
    {
     "name": "stderr",
     "output_type": "stream",
     "text": [
      "100%|██████████| 6/6 [00:01<00:00,  3.45it/s]\n"
     ]
    },
    {
     "name": "stdout",
     "output_type": "stream",
     "text": [
      "Current Round: 158, Average Loss: 60.18304822095683, Test Loss: 169.67136008958096, Test Accuracy: 9.812458470851515, Best: 8.242775213910448\n"
     ]
    },
    {
     "name": "stderr",
     "output_type": "stream",
     "text": [
      "100%|██████████| 6/6 [00:01<00:00,  3.42it/s]\n"
     ]
    },
    {
     "name": "stdout",
     "output_type": "stream",
     "text": [
      "Current Round: 159, Average Loss: 60.96823283862818, Test Loss: 161.36838880905137, Test Accuracy: 9.37886606568593, Best: 8.242775213910448\n"
     ]
    },
    {
     "name": "stderr",
     "output_type": "stream",
     "text": [
      "100%|██████████| 6/6 [00:01<00:00,  3.41it/s]\n"
     ]
    },
    {
     "name": "stdout",
     "output_type": "stream",
     "text": [
      "Current Round: 160, Average Loss: 60.60737154932904, Test Loss: 163.1430807770351, Test Accuracy: 9.4812736298515, Best: 8.242775213910448\n"
     ]
    },
    {
     "name": "stderr",
     "output_type": "stream",
     "text": [
      "100%|██████████| 6/6 [00:01<00:00,  3.45it/s]\n"
     ]
    },
    {
     "name": "stdout",
     "output_type": "stream",
     "text": [
      "Current Round: 161, Average Loss: 60.56151791021025, Test Loss: 162.01740285788364, Test Accuracy: 9.460473943377073, Best: 8.242775213910448\n"
     ]
    },
    {
     "name": "stderr",
     "output_type": "stream",
     "text": [
      "100%|██████████| 6/6 [00:01<00:00,  3.41it/s]\n"
     ]
    },
    {
     "name": "stdout",
     "output_type": "stream",
     "text": [
      "Current Round: 162, Average Loss: 60.436827653167626, Test Loss: 164.27712972512032, Test Accuracy: 9.550004684939852, Best: 8.242775213910448\n"
     ]
    },
    {
     "name": "stderr",
     "output_type": "stream",
     "text": [
      "100%|██████████| 6/6 [00:01<00:00,  3.41it/s]\n"
     ]
    },
    {
     "name": "stdout",
     "output_type": "stream",
     "text": [
      "Current Round: 163, Average Loss: 61.57287009865911, Test Loss: 166.81072683903807, Test Accuracy: 9.674278358544559, Best: 8.242775213910448\n"
     ]
    },
    {
     "name": "stderr",
     "output_type": "stream",
     "text": [
      "100%|██████████| 6/6 [00:01<00:00,  3.53it/s]\n"
     ]
    },
    {
     "name": "stdout",
     "output_type": "stream",
     "text": [
      "Current Round: 164, Average Loss: 60.14859836160998, Test Loss: 165.77636777748995, Test Accuracy: 9.608418366575181, Best: 8.242775213910448\n"
     ]
    },
    {
     "name": "stderr",
     "output_type": "stream",
     "text": [
      "100%|██████████| 6/6 [00:01<00:00,  3.41it/s]\n"
     ]
    },
    {
     "name": "stdout",
     "output_type": "stream",
     "text": [
      "Current Round: 165, Average Loss: 60.43864660632994, Test Loss: 154.3701014315301, Test Accuracy: 9.083800463576004, Best: 8.242775213910448\n"
     ]
    },
    {
     "name": "stderr",
     "output_type": "stream",
     "text": [
      "100%|██████████| 6/6 [00:01<00:00,  3.45it/s]\n"
     ]
    },
    {
     "name": "stdout",
     "output_type": "stream",
     "text": [
      "Current Round: 166, Average Loss: 60.72411829330909, Test Loss: 152.5230611264244, Test Accuracy: 9.015547250135533, Best: 8.242775213910448\n"
     ]
    },
    {
     "name": "stderr",
     "output_type": "stream",
     "text": [
      "100%|██████████| 6/6 [00:01<00:00,  3.40it/s]\n"
     ]
    },
    {
     "name": "stdout",
     "output_type": "stream",
     "text": [
      "Current Round: 167, Average Loss: 60.753611439135476, Test Loss: 156.48111035869616, Test Accuracy: 9.207357619331672, Best: 8.242775213910448\n"
     ]
    },
    {
     "name": "stderr",
     "output_type": "stream",
     "text": [
      "100%|██████████| 6/6 [00:01<00:00,  3.42it/s]\n"
     ]
    },
    {
     "name": "stdout",
     "output_type": "stream",
     "text": [
      "Current Round: 168, Average Loss: 60.109002496415265, Test Loss: 157.2967418881671, Test Accuracy: 9.254104687526471, Best: 8.242775213910448\n"
     ]
    },
    {
     "name": "stderr",
     "output_type": "stream",
     "text": [
      "100%|██████████| 6/6 [00:01<00:00,  3.46it/s]\n"
     ]
    },
    {
     "name": "stdout",
     "output_type": "stream",
     "text": [
      "Current Round: 169, Average Loss: 60.555680119762975, Test Loss: 161.87726668079176, Test Accuracy: 9.466080931482706, Best: 8.242775213910448\n"
     ]
    },
    {
     "name": "stderr",
     "output_type": "stream",
     "text": [
      "100%|██████████| 6/6 [00:01<00:00,  3.48it/s]\n"
     ]
    },
    {
     "name": "stdout",
     "output_type": "stream",
     "text": [
      "Current Round: 170, Average Loss: 59.274486469732956, Test Loss: 159.53278534489198, Test Accuracy: 9.34406756291159, Best: 8.242775213910448\n"
     ]
    },
    {
     "name": "stderr",
     "output_type": "stream",
     "text": [
      "100%|██████████| 6/6 [00:01<00:00,  3.43it/s]\n"
     ]
    },
    {
     "name": "stdout",
     "output_type": "stream",
     "text": [
      "Current Round: 171, Average Loss: 60.34820561404397, Test Loss: 150.17373006305482, Test Accuracy: 8.897148200865868, Best: 8.242775213910448\n"
     ]
    },
    {
     "name": "stderr",
     "output_type": "stream",
     "text": [
      "100%|██████████| 6/6 [00:01<00:00,  3.53it/s]\n"
     ]
    },
    {
     "name": "stdout",
     "output_type": "stream",
     "text": [
      "Current Round: 172, Average Loss: 59.779526310221975, Test Loss: 162.08827194903864, Test Accuracy: 9.426502691030207, Best: 8.242775213910448\n"
     ]
    },
    {
     "name": "stderr",
     "output_type": "stream",
     "text": [
      "100%|██████████| 6/6 [00:01<00:00,  3.44it/s]\n"
     ]
    },
    {
     "name": "stdout",
     "output_type": "stream",
     "text": [
      "Current Round: 173, Average Loss: 60.49777265282986, Test Loss: 168.50878807455487, Test Accuracy: 9.763600440421216, Best: 8.242775213910448\n"
     ]
    },
    {
     "name": "stderr",
     "output_type": "stream",
     "text": [
      "100%|██████████| 6/6 [00:01<00:00,  3.36it/s]\n"
     ]
    },
    {
     "name": "stdout",
     "output_type": "stream",
     "text": [
      "Current Round: 174, Average Loss: 60.268340077284556, Test Loss: 162.35245461150762, Test Accuracy: 9.471341677905606, Best: 8.242775213910448\n"
     ]
    },
    {
     "name": "stderr",
     "output_type": "stream",
     "text": [
      "100%|██████████| 6/6 [00:01<00:00,  3.51it/s]\n"
     ]
    },
    {
     "name": "stdout",
     "output_type": "stream",
     "text": [
      "Current Round: 175, Average Loss: 59.79275105537355, Test Loss: 161.77485658264058, Test Accuracy: 9.444240104457851, Best: 8.242775213910448\n"
     ]
    },
    {
     "name": "stderr",
     "output_type": "stream",
     "text": [
      "100%|██████████| 6/6 [00:01<00:00,  3.39it/s]\n"
     ]
    },
    {
     "name": "stdout",
     "output_type": "stream",
     "text": [
      "Current Round: 176, Average Loss: 60.22915848986545, Test Loss: 157.31685960525473, Test Accuracy: 9.270177200676635, Best: 8.242775213910448\n"
     ]
    },
    {
     "name": "stderr",
     "output_type": "stream",
     "text": [
      "100%|██████████| 6/6 [00:01<00:00,  3.54it/s]\n"
     ]
    },
    {
     "name": "stdout",
     "output_type": "stream",
     "text": [
      "Current Round: 177, Average Loss: 59.33896385107189, Test Loss: 164.09354459258924, Test Accuracy: 9.59530903415609, Best: 8.242775213910448\n"
     ]
    },
    {
     "name": "stderr",
     "output_type": "stream",
     "text": [
      "100%|██████████| 6/6 [00:01<00:00,  3.43it/s]\n"
     ]
    },
    {
     "name": "stdout",
     "output_type": "stream",
     "text": [
      "Current Round: 178, Average Loss: 60.755948169280366, Test Loss: 164.49134639920172, Test Accuracy: 9.598261962001947, Best: 8.242775213910448\n"
     ]
    },
    {
     "name": "stderr",
     "output_type": "stream",
     "text": [
      "100%|██████████| 6/6 [00:01<00:00,  3.56it/s]\n"
     ]
    },
    {
     "name": "stdout",
     "output_type": "stream",
     "text": [
      "Current Round: 179, Average Loss: 60.782909212747164, Test Loss: 166.80469952869, Test Accuracy: 9.72946869189559, Best: 8.242775213910448\n"
     ]
    },
    {
     "name": "stderr",
     "output_type": "stream",
     "text": [
      "100%|██████████| 6/6 [00:01<00:00,  3.49it/s]\n"
     ]
    },
    {
     "name": "stdout",
     "output_type": "stream",
     "text": [
      "Current Round: 180, Average Loss: 60.4925435907144, Test Loss: 163.64794735735123, Test Accuracy: 9.565911417113805, Best: 8.242775213910448\n"
     ]
    },
    {
     "name": "stderr",
     "output_type": "stream",
     "text": [
      "100%|██████████| 6/6 [00:01<00:00,  3.57it/s]\n"
     ]
    },
    {
     "name": "stdout",
     "output_type": "stream",
     "text": [
      "Current Round: 181, Average Loss: 59.42422417305185, Test Loss: 172.2902521919436, Test Accuracy: 9.962708531111442, Best: 8.242775213910448\n"
     ]
    },
    {
     "name": "stderr",
     "output_type": "stream",
     "text": [
      "100%|██████████| 6/6 [00:01<00:00,  3.48it/s]\n"
     ]
    },
    {
     "name": "stdout",
     "output_type": "stream",
     "text": [
      "Current Round: 182, Average Loss: 60.325077059389855, Test Loss: 163.27067798098187, Test Accuracy: 9.529215714597642, Best: 8.242775213910448\n"
     ]
    },
    {
     "name": "stderr",
     "output_type": "stream",
     "text": [
      "100%|██████████| 6/6 [00:01<00:00,  3.40it/s]\n"
     ]
    },
    {
     "name": "stdout",
     "output_type": "stream",
     "text": [
      "Current Round: 183, Average Loss: 59.82111938824023, Test Loss: 170.37143434176068, Test Accuracy: 9.840954105797902, Best: 8.242775213910448\n"
     ]
    },
    {
     "name": "stderr",
     "output_type": "stream",
     "text": [
      "100%|██████████| 6/6 [00:01<00:00,  3.44it/s]\n"
     ]
    },
    {
     "name": "stdout",
     "output_type": "stream",
     "text": [
      "Current Round: 184, Average Loss: 59.05813239950343, Test Loss: 168.03174777541315, Test Accuracy: 9.738706404391717, Best: 8.242775213910448\n"
     ]
    },
    {
     "name": "stderr",
     "output_type": "stream",
     "text": [
      "100%|██████████| 6/6 [00:01<00:00,  3.44it/s]\n"
     ]
    },
    {
     "name": "stdout",
     "output_type": "stream",
     "text": [
      "Current Round: 185, Average Loss: 59.8999866426065, Test Loss: 159.57085510539963, Test Accuracy: 9.367358733582526, Best: 8.242775213910448\n"
     ]
    },
    {
     "name": "stderr",
     "output_type": "stream",
     "text": [
      "100%|██████████| 6/6 [00:01<00:00,  3.46it/s]\n"
     ]
    },
    {
     "name": "stdout",
     "output_type": "stream",
     "text": [
      "Current Round: 186, Average Loss: 60.48679912026237, Test Loss: 161.11193514523896, Test Accuracy: 9.449568808743502, Best: 8.242775213910448\n"
     ]
    },
    {
     "name": "stderr",
     "output_type": "stream",
     "text": [
      "100%|██████████| 6/6 [00:01<00:00,  3.36it/s]\n"
     ]
    },
    {
     "name": "stdout",
     "output_type": "stream",
     "text": [
      "Current Round: 187, Average Loss: 60.24798734933528, Test Loss: 160.85837264540876, Test Accuracy: 9.454878307186538, Best: 8.242775213910448\n"
     ]
    },
    {
     "name": "stderr",
     "output_type": "stream",
     "text": [
      "100%|██████████| 6/6 [00:01<00:00,  3.36it/s]\n"
     ]
    },
    {
     "name": "stdout",
     "output_type": "stream",
     "text": [
      "Current Round: 188, Average Loss: 59.62323237838734, Test Loss: 168.91965810878864, Test Accuracy: 9.822960556956767, Best: 8.242775213910448\n"
     ]
    },
    {
     "name": "stderr",
     "output_type": "stream",
     "text": [
      "100%|██████████| 6/6 [00:01<00:00,  3.38it/s]\n"
     ]
    },
    {
     "name": "stdout",
     "output_type": "stream",
     "text": [
      "Current Round: 189, Average Loss: 60.05703473784337, Test Loss: 161.4826968902032, Test Accuracy: 9.498246217748934, Best: 8.242775213910448\n"
     ]
    },
    {
     "name": "stderr",
     "output_type": "stream",
     "text": [
      "100%|██████████| 6/6 [00:01<00:00,  3.35it/s]\n"
     ]
    },
    {
     "name": "stdout",
     "output_type": "stream",
     "text": [
      "Current Round: 190, Average Loss: 60.80494642283973, Test Loss: 166.01647260726014, Test Accuracy: 9.67871514690262, Best: 8.242775213910448\n"
     ]
    },
    {
     "name": "stderr",
     "output_type": "stream",
     "text": [
      "100%|██████████| 6/6 [00:01<00:00,  3.37it/s]\n"
     ]
    },
    {
     "name": "stdout",
     "output_type": "stream",
     "text": [
      "Current Round: 191, Average Loss: 60.10449088590605, Test Loss: 168.87283228202972, Test Accuracy: 9.781578234137212, Best: 8.242775213910448\n"
     ]
    },
    {
     "name": "stderr",
     "output_type": "stream",
     "text": [
      "100%|██████████| 6/6 [00:01<00:00,  3.35it/s]\n"
     ]
    },
    {
     "name": "stdout",
     "output_type": "stream",
     "text": [
      "Current Round: 192, Average Loss: 59.72824136649378, Test Loss: 159.68695602705412, Test Accuracy: 9.366279561871194, Best: 8.242775213910448\n"
     ]
    },
    {
     "name": "stderr",
     "output_type": "stream",
     "text": [
      "100%|██████████| 6/6 [00:01<00:00,  3.32it/s]\n"
     ]
    },
    {
     "name": "stdout",
     "output_type": "stream",
     "text": [
      "Current Round: 193, Average Loss: 60.7436095528552, Test Loss: 163.77656639856085, Test Accuracy: 9.563407515061389, Best: 8.242775213910448\n"
     ]
    },
    {
     "name": "stderr",
     "output_type": "stream",
     "text": [
      "100%|██████████| 6/6 [00:01<00:00,  3.36it/s]\n"
     ]
    },
    {
     "name": "stdout",
     "output_type": "stream",
     "text": [
      "Current Round: 194, Average Loss: 59.46768311539579, Test Loss: 163.85713560242192, Test Accuracy: 9.577763322265323, Best: 8.242775213910448\n"
     ]
    },
    {
     "name": "stderr",
     "output_type": "stream",
     "text": [
      "100%|██████████| 6/6 [00:01<00:00,  3.38it/s]\n"
     ]
    },
    {
     "name": "stdout",
     "output_type": "stream",
     "text": [
      "Current Round: 195, Average Loss: 60.3422355812181, Test Loss: 153.69684090410837, Test Accuracy: 9.088833086848112, Best: 8.242775213910448\n"
     ]
    },
    {
     "name": "stderr",
     "output_type": "stream",
     "text": [
      "100%|██████████| 6/6 [00:01<00:00,  3.41it/s]\n"
     ]
    },
    {
     "name": "stdout",
     "output_type": "stream",
     "text": [
      "Current Round: 196, Average Loss: 59.752938314724084, Test Loss: 162.86725601871512, Test Accuracy: 9.497268877655747, Best: 8.242775213910448\n"
     ]
    },
    {
     "name": "stderr",
     "output_type": "stream",
     "text": [
      "100%|██████████| 6/6 [00:01<00:00,  3.63it/s]\n"
     ]
    },
    {
     "name": "stdout",
     "output_type": "stream",
     "text": [
      "Current Round: 197, Average Loss: 60.40690205539736, Test Loss: 160.73461790361628, Test Accuracy: 9.406339924279347, Best: 8.242775213910448\n"
     ]
    },
    {
     "name": "stderr",
     "output_type": "stream",
     "text": [
      "100%|██████████| 6/6 [00:01<00:00,  3.60it/s]\n"
     ]
    },
    {
     "name": "stdout",
     "output_type": "stream",
     "text": [
      "Current Round: 198, Average Loss: 59.88528340194973, Test Loss: 168.73091216202792, Test Accuracy: 9.74769638846207, Best: 8.242775213910448\n"
     ]
    },
    {
     "name": "stderr",
     "output_type": "stream",
     "text": [
      "100%|██████████| 6/6 [00:01<00:00,  3.42it/s]\n"
     ]
    },
    {
     "name": "stdout",
     "output_type": "stream",
     "text": [
      "Current Round: 199, Average Loss: 60.40449769552441, Test Loss: 173.02205564993835, Test Accuracy: 9.918369754096389, Best: 8.242775213910448\n"
     ]
    },
    {
     "name": "stderr",
     "output_type": "stream",
     "text": [
      "100%|██████████| 6/6 [00:01<00:00,  3.54it/s]\n"
     ]
    },
    {
     "name": "stdout",
     "output_type": "stream",
     "text": [
      "Current Round: 200, Average Loss: 59.34260317305814, Test Loss: 171.23897038605134, Test Accuracy: 9.838713053877026, Best: 8.242775213910448\n",
      "Training Done!\n",
      "Best Accuracy: 8.242775213910448\n",
      "Total time taken to Train: 426.7291123867035\n",
      "Name is taken...trying again...\n",
      "Name is taken...trying again...\n"
     ]
    },
    {
     "name": "stderr",
     "output_type": "stream",
     "text": [
      "100%|██████████| 6/6 [00:01<00:00,  3.50it/s]\n"
     ]
    },
    {
     "name": "stdout",
     "output_type": "stream",
     "text": [
      "Current Round: 1, Average Loss: 1642.7900420429787, Test Loss: 5768.712277096886, Test Accuracy: 74.64929635049094, Best: 74.64929635049094\n"
     ]
    },
    {
     "name": "stderr",
     "output_type": "stream",
     "text": [
      "100%|██████████| 6/6 [00:01<00:00,  3.36it/s]\n"
     ]
    },
    {
     "name": "stdout",
     "output_type": "stream",
     "text": [
      "Current Round: 2, Average Loss: 1354.247338536457, Test Loss: 5760.618662024667, Test Accuracy: 74.59506639672034, Best: 74.59506639672034\n"
     ]
    },
    {
     "name": "stderr",
     "output_type": "stream",
     "text": [
      "100%|██████████| 6/6 [00:01<00:00,  3.38it/s]\n"
     ]
    },
    {
     "name": "stdout",
     "output_type": "stream",
     "text": [
      "Current Round: 3, Average Loss: 1170.029925331393, Test Loss: 5753.667483191508, Test Accuracy: 74.5484586382444, Best: 74.5484586382444\n"
     ]
    },
    {
     "name": "stderr",
     "output_type": "stream",
     "text": [
      "100%|██████████| 6/6 [00:01<00:00,  3.36it/s]\n"
     ]
    },
    {
     "name": "stdout",
     "output_type": "stream",
     "text": [
      "Current Round: 4, Average Loss: 1017.8041720748424, Test Loss: 5747.455906448459, Test Accuracy: 74.50678642679472, Best: 74.50678642679472\n"
     ]
    },
    {
     "name": "stderr",
     "output_type": "stream",
     "text": [
      "100%|██████████| 6/6 [00:01<00:00,  3.55it/s]\n"
     ]
    },
    {
     "name": "stdout",
     "output_type": "stream",
     "text": [
      "Current Round: 5, Average Loss: 898.4614955191936, Test Loss: 5741.828763335463, Test Accuracy: 74.46901354027503, Best: 74.46901354027503\n"
     ]
    },
    {
     "name": "stderr",
     "output_type": "stream",
     "text": [
      "100%|██████████| 6/6 [00:01<00:00,  3.45it/s]\n"
     ]
    },
    {
     "name": "stdout",
     "output_type": "stream",
     "text": [
      "Current Round: 6, Average Loss: 814.9113944538439, Test Loss: 5736.5347632652765, Test Accuracy: 74.4334605617594, Best: 74.4334605617594\n"
     ]
    },
    {
     "name": "stderr",
     "output_type": "stream",
     "text": [
      "100%|██████████| 6/6 [00:01<00:00,  3.52it/s]\n"
     ]
    },
    {
     "name": "stdout",
     "output_type": "stream",
     "text": [
      "Current Round: 7, Average Loss: 753.1814728140652, Test Loss: 5731.58737995663, Test Accuracy: 74.40021928978675, Best: 74.40021928978675\n"
     ]
    },
    {
     "name": "stderr",
     "output_type": "stream",
     "text": [
      "100%|██████████| 6/6 [00:01<00:00,  3.45it/s]\n"
     ]
    },
    {
     "name": "stdout",
     "output_type": "stream",
     "text": [
      "Current Round: 8, Average Loss: 670.3882840863433, Test Loss: 5726.759035320825, Test Accuracy: 74.36776384545081, Best: 74.36776384545081\n"
     ]
    },
    {
     "name": "stderr",
     "output_type": "stream",
     "text": [
      "100%|██████████| 6/6 [00:01<00:00,  3.51it/s]\n"
     ]
    },
    {
     "name": "stdout",
     "output_type": "stream",
     "text": [
      "Current Round: 9, Average Loss: 637.5500316259798, Test Loss: 5722.1629854979865, Test Accuracy: 74.33685692240019, Best: 74.33685692240019\n"
     ]
    },
    {
     "name": "stderr",
     "output_type": "stream",
     "text": [
      "100%|██████████| 6/6 [00:01<00:00,  3.46it/s]\n"
     ]
    },
    {
     "name": "stdout",
     "output_type": "stream",
     "text": [
      "Current Round: 10, Average Loss: 603.021225673922, Test Loss: 5717.934127713077, Test Accuracy: 74.30840715599768, Best: 74.30840715599768\n"
     ]
    },
    {
     "name": "stderr",
     "output_type": "stream",
     "text": [
      "100%|██████████| 6/6 [00:01<00:00,  3.49it/s]\n"
     ]
    },
    {
     "name": "stdout",
     "output_type": "stream",
     "text": [
      "Current Round: 11, Average Loss: 563.2817902661592, Test Loss: 5713.896082919474, Test Accuracy: 74.28123125267737, Best: 74.28123125267737\n"
     ]
    },
    {
     "name": "stderr",
     "output_type": "stream",
     "text": [
      "100%|██████████| 6/6 [00:01<00:00,  3.42it/s]\n"
     ]
    },
    {
     "name": "stdout",
     "output_type": "stream",
     "text": [
      "Current Round: 12, Average Loss: 558.2260843856252, Test Loss: 5710.024933806731, Test Accuracy: 74.25516924095862, Best: 74.25516924095862\n"
     ]
    },
    {
     "name": "stderr",
     "output_type": "stream",
     "text": [
      "100%|██████████| 6/6 [00:01<00:00,  3.39it/s]\n"
     ]
    },
    {
     "name": "stdout",
     "output_type": "stream",
     "text": [
      "Current Round: 13, Average Loss: 532.8977889084891, Test Loss: 5706.328429343827, Test Accuracy: 74.23027452660315, Best: 74.23027452660315\n"
     ]
    },
    {
     "name": "stderr",
     "output_type": "stream",
     "text": [
      "100%|██████████| 6/6 [00:01<00:00,  3.42it/s]\n"
     ]
    },
    {
     "name": "stdout",
     "output_type": "stream",
     "text": [
      "Current Round: 14, Average Loss: 533.021519311913, Test Loss: 5702.768902897982, Test Accuracy: 74.20629511269495, Best: 74.20629511269495\n"
     ]
    },
    {
     "name": "stderr",
     "output_type": "stream",
     "text": [
      "100%|██████████| 6/6 [00:01<00:00,  3.56it/s]\n"
     ]
    },
    {
     "name": "stdout",
     "output_type": "stream",
     "text": [
      "Current Round: 15, Average Loss: 505.2866969958175, Test Loss: 5699.352420471267, Test Accuracy: 74.18327006797365, Best: 74.18327006797365\n"
     ]
    },
    {
     "name": "stderr",
     "output_type": "stream",
     "text": [
      "100%|██████████| 6/6 [00:01<00:00,  3.46it/s]\n"
     ]
    },
    {
     "name": "stdout",
     "output_type": "stream",
     "text": [
      "Current Round: 16, Average Loss: 502.8831314729793, Test Loss: 5696.007906283883, Test Accuracy: 74.16072496605628, Best: 74.16072496605628\n"
     ]
    },
    {
     "name": "stderr",
     "output_type": "stream",
     "text": [
      "100%|██████████| 6/6 [00:01<00:00,  3.44it/s]\n"
     ]
    },
    {
     "name": "stdout",
     "output_type": "stream",
     "text": [
      "Current Round: 17, Average Loss: 493.6999888178959, Test Loss: 5692.792341608098, Test Accuracy: 74.13904222679847, Best: 74.13904222679847\n"
     ]
    },
    {
     "name": "stderr",
     "output_type": "stream",
     "text": [
      "100%|██████████| 6/6 [00:01<00:00,  3.43it/s]\n"
     ]
    },
    {
     "name": "stdout",
     "output_type": "stream",
     "text": [
      "Current Round: 18, Average Loss: 486.2485693702524, Test Loss: 5689.6795029575205, Test Accuracy: 74.11804613304847, Best: 74.11804613304847\n"
     ]
    },
    {
     "name": "stderr",
     "output_type": "stream",
     "text": [
      "100%|██████████| 6/6 [00:01<00:00,  3.45it/s]\n"
     ]
    },
    {
     "name": "stdout",
     "output_type": "stream",
     "text": [
      "Current Round: 19, Average Loss: 475.96572011480066, Test Loss: 5686.611764068793, Test Accuracy: 74.09734779367365, Best: 74.09734779367365\n"
     ]
    },
    {
     "name": "stderr",
     "output_type": "stream",
     "text": [
      "100%|██████████| 6/6 [00:01<00:00,  3.38it/s]\n"
     ]
    },
    {
     "name": "stdout",
     "output_type": "stream",
     "text": [
      "Current Round: 20, Average Loss: 465.75555572677973, Test Loss: 5683.651959538607, Test Accuracy: 74.07737360390588, Best: 74.07737360390588\n"
     ]
    },
    {
     "name": "stderr",
     "output_type": "stream",
     "text": [
      "100%|██████████| 6/6 [00:01<00:00,  3.36it/s]\n"
     ]
    },
    {
     "name": "stdout",
     "output_type": "stream",
     "text": [
      "Current Round: 21, Average Loss: 450.4200954229621, Test Loss: 5680.805154301715, Test Accuracy: 74.05815538597815, Best: 74.05815538597815\n"
     ]
    },
    {
     "name": "stderr",
     "output_type": "stream",
     "text": [
      "100%|██████████| 6/6 [00:01<00:00,  3.54it/s]\n"
     ]
    },
    {
     "name": "stdout",
     "output_type": "stream",
     "text": [
      "Current Round: 22, Average Loss: 440.87144834311584, Test Loss: 5677.990682419939, Test Accuracy: 74.03915084309442, Best: 74.03915084309442\n"
     ]
    },
    {
     "name": "stderr",
     "output_type": "stream",
     "text": [
      "100%|██████████| 6/6 [00:01<00:00,  3.51it/s]\n"
     ]
    },
    {
     "name": "stdout",
     "output_type": "stream",
     "text": [
      "Current Round: 23, Average Loss: 441.143733794817, Test Loss: 5675.277216082907, Test Accuracy: 74.02082475853675, Best: 74.02082475853675\n"
     ]
    },
    {
     "name": "stderr",
     "output_type": "stream",
     "text": [
      "100%|██████████| 6/6 [00:01<00:00,  3.53it/s]\n"
     ]
    },
    {
     "name": "stdout",
     "output_type": "stream",
     "text": [
      "Current Round: 24, Average Loss: 431.9473543880037, Test Loss: 5672.587190573691, Test Accuracy: 74.00265154076331, Best: 74.00265154076331\n"
     ]
    },
    {
     "name": "stderr",
     "output_type": "stream",
     "text": [
      "100%|██████████| 6/6 [00:01<00:00,  3.59it/s]\n"
     ]
    },
    {
     "name": "stdout",
     "output_type": "stream",
     "text": [
      "Current Round: 25, Average Loss: 431.6516539366166, Test Loss: 5670.005126045539, Test Accuracy: 73.9852033707289, Best: 73.9852033707289\n"
     ]
    },
    {
     "name": "stderr",
     "output_type": "stream",
     "text": [
      "100%|██████████| 6/6 [00:01<00:00,  3.38it/s]\n"
     ]
    },
    {
     "name": "stdout",
     "output_type": "stream",
     "text": [
      "Current Round: 26, Average Loss: 425.5876317039344, Test Loss: 5667.444814537833, Test Accuracy: 73.96789937450689, Best: 73.96789937450689\n"
     ]
    },
    {
     "name": "stderr",
     "output_type": "stream",
     "text": [
      "100%|██████████| 6/6 [00:01<00:00,  3.37it/s]\n"
     ]
    },
    {
     "name": "stdout",
     "output_type": "stream",
     "text": [
      "Current Round: 27, Average Loss: 422.46636542798205, Test Loss: 5664.947450470008, Test Accuracy: 73.95101579857581, Best: 73.95101579857581\n"
     ]
    },
    {
     "name": "stderr",
     "output_type": "stream",
     "text": [
      "100%|██████████| 6/6 [00:01<00:00,  3.39it/s]\n"
     ]
    },
    {
     "name": "stdout",
     "output_type": "stream",
     "text": [
      "Current Round: 28, Average Loss: 413.4841778405494, Test Loss: 5662.488931686609, Test Accuracy: 73.93439134789222, Best: 73.93439134789222\n"
     ]
    },
    {
     "name": "stderr",
     "output_type": "stream",
     "text": [
      "100%|██████████| 6/6 [00:01<00:00,  3.35it/s]\n"
     ]
    },
    {
     "name": "stdout",
     "output_type": "stream",
     "text": [
      "Current Round: 29, Average Loss: 407.935910310991, Test Loss: 5660.049151225604, Test Accuracy: 73.9178891849636, Best: 73.9178891849636\n"
     ]
    },
    {
     "name": "stderr",
     "output_type": "stream",
     "text": [
      "100%|██████████| 6/6 [00:01<00:00,  3.36it/s]\n"
     ]
    },
    {
     "name": "stdout",
     "output_type": "stream",
     "text": [
      "Current Round: 30, Average Loss: 406.6168913455546, Test Loss: 5657.65485715807, Test Accuracy: 73.90169176293128, Best: 73.90169176293128\n"
     ]
    },
    {
     "name": "stderr",
     "output_type": "stream",
     "text": [
      "100%|██████████| 6/6 [00:01<00:00,  3.36it/s]\n"
     ]
    },
    {
     "name": "stdout",
     "output_type": "stream",
     "text": [
      "Current Round: 31, Average Loss: 394.30219891282565, Test Loss: 5655.316418048617, Test Accuracy: 73.88586864447801, Best: 73.88586864447801\n"
     ]
    },
    {
     "name": "stderr",
     "output_type": "stream",
     "text": [
      "100%|██████████| 6/6 [00:01<00:00,  3.35it/s]\n"
     ]
    },
    {
     "name": "stdout",
     "output_type": "stream",
     "text": [
      "Current Round: 32, Average Loss: 394.430155189221, Test Loss: 5653.039076718846, Test Accuracy: 73.87045679482385, Best: 73.87045679482385\n"
     ]
    },
    {
     "name": "stderr",
     "output_type": "stream",
     "text": [
      "100%|██████████| 6/6 [00:01<00:00,  3.38it/s]\n"
     ]
    },
    {
     "name": "stdout",
     "output_type": "stream",
     "text": [
      "Current Round: 33, Average Loss: 397.22156900713657, Test Loss: 5650.774908394323, Test Accuracy: 73.85512956810706, Best: 73.85512956810706\n"
     ]
    },
    {
     "name": "stderr",
     "output_type": "stream",
     "text": [
      "100%|██████████| 6/6 [00:01<00:00,  3.49it/s]\n"
     ]
    },
    {
     "name": "stdout",
     "output_type": "stream",
     "text": [
      "Current Round: 34, Average Loss: 394.43702505258085, Test Loss: 5648.538154006447, Test Accuracy: 73.83998521996253, Best: 73.83998521996253\n"
     ]
    },
    {
     "name": "stderr",
     "output_type": "stream",
     "text": [
      "100%|██████████| 6/6 [00:01<00:00,  3.35it/s]\n"
     ]
    },
    {
     "name": "stdout",
     "output_type": "stream",
     "text": [
      "Current Round: 35, Average Loss: 388.28632224406095, Test Loss: 5646.325497236098, Test Accuracy: 73.82500108910315, Best: 73.82500108910315\n"
     ]
    },
    {
     "name": "stderr",
     "output_type": "stream",
     "text": [
      "100%|██████████| 6/6 [00:01<00:00,  3.39it/s]\n"
     ]
    },
    {
     "name": "stdout",
     "output_type": "stream",
     "text": [
      "Current Round: 36, Average Loss: 385.74623107410775, Test Loss: 5644.135786961741, Test Accuracy: 73.81016933341895, Best: 73.81016933341895\n"
     ]
    },
    {
     "name": "stderr",
     "output_type": "stream",
     "text": [
      "100%|██████████| 6/6 [00:01<00:00,  3.40it/s]\n"
     ]
    },
    {
     "name": "stdout",
     "output_type": "stream",
     "text": [
      "Current Round: 37, Average Loss: 381.7950187973268, Test Loss: 5641.973789522343, Test Accuracy: 73.7955213308039, Best: 73.7955213308039\n"
     ]
    },
    {
     "name": "stderr",
     "output_type": "stream",
     "text": [
      "100%|██████████| 6/6 [00:01<00:00,  3.50it/s]\n"
     ]
    },
    {
     "name": "stdout",
     "output_type": "stream",
     "text": [
      "Current Round: 38, Average Loss: 383.7077243440126, Test Loss: 5639.840252466213, Test Accuracy: 73.78106365652923, Best: 73.78106365652923\n"
     ]
    },
    {
     "name": "stderr",
     "output_type": "stream",
     "text": [
      "100%|██████████| 6/6 [00:01<00:00,  3.50it/s]\n"
     ]
    },
    {
     "name": "stdout",
     "output_type": "stream",
     "text": [
      "Current Round: 39, Average Loss: 378.511387628022, Test Loss: 5637.72938418477, Test Accuracy: 73.76675829125159, Best: 73.76675829125159\n"
     ]
    },
    {
     "name": "stderr",
     "output_type": "stream",
     "text": [
      "100%|██████████| 6/6 [00:01<00:00,  3.61it/s]\n"
     ]
    },
    {
     "name": "stdout",
     "output_type": "stream",
     "text": [
      "Current Round: 40, Average Loss: 377.1571189950809, Test Loss: 5635.624757372018, Test Accuracy: 73.75249132347815, Best: 73.75249132347815\n"
     ]
    },
    {
     "name": "stderr",
     "output_type": "stream",
     "text": [
      "100%|██████████| 6/6 [00:01<00:00,  3.43it/s]\n"
     ]
    },
    {
     "name": "stdout",
     "output_type": "stream",
     "text": [
      "Current Round: 41, Average Loss: 379.06863512525683, Test Loss: 5633.5349922794685, Test Accuracy: 73.73832334402621, Best: 73.73832334402621\n"
     ]
    },
    {
     "name": "stderr",
     "output_type": "stream",
     "text": [
      "100%|██████████| 6/6 [00:01<00:00,  3.52it/s]\n"
     ]
    },
    {
     "name": "stdout",
     "output_type": "stream",
     "text": [
      "Current Round: 42, Average Loss: 379.27652773226987, Test Loss: 5631.467265189359, Test Accuracy: 73.72430071068518, Best: 73.72430071068518\n"
     ]
    },
    {
     "name": "stderr",
     "output_type": "stream",
     "text": [
      "100%|██████████| 6/6 [00:01<00:00,  3.54it/s]\n"
     ]
    },
    {
     "name": "stdout",
     "output_type": "stream",
     "text": [
      "Current Round: 43, Average Loss: 377.04462112525584, Test Loss: 5629.426950523253, Test Accuracy: 73.71046120644797, Best: 73.71046120644797\n"
     ]
    },
    {
     "name": "stderr",
     "output_type": "stream",
     "text": [
      "100%|██████████| 6/6 [00:01<00:00,  3.73it/s]\n"
     ]
    },
    {
     "name": "stdout",
     "output_type": "stream",
     "text": [
      "Current Round: 44, Average Loss: 363.66727149251636, Test Loss: 5627.381249939494, Test Accuracy: 73.69658334252264, Best: 73.69658334252264\n"
     ]
    },
    {
     "name": "stderr",
     "output_type": "stream",
     "text": [
      "100%|██████████| 6/6 [00:01<00:00,  3.75it/s]\n"
     ]
    },
    {
     "name": "stdout",
     "output_type": "stream",
     "text": [
      "Current Round: 45, Average Loss: 374.9367083386151, Test Loss: 5625.379838038259, Test Accuracy: 73.6830054546673, Best: 73.6830054546673\n"
     ]
    },
    {
     "name": "stderr",
     "output_type": "stream",
     "text": [
      "100%|██████████| 6/6 [00:01<00:00,  3.45it/s]\n"
     ]
    },
    {
     "name": "stdout",
     "output_type": "stream",
     "text": [
      "Current Round: 46, Average Loss: 368.8200511666916, Test Loss: 5623.370028244075, Test Accuracy: 73.6693875337622, Best: 73.6693875337622\n"
     ]
    },
    {
     "name": "stderr",
     "output_type": "stream",
     "text": [
      "100%|██████████| 6/6 [00:01<00:00,  3.41it/s]\n"
     ]
    },
    {
     "name": "stdout",
     "output_type": "stream",
     "text": [
      "Current Round: 47, Average Loss: 370.62443166359304, Test Loss: 5621.418143611563, Test Accuracy: 73.65619166869361, Best: 73.65619166869361\n"
     ]
    },
    {
     "name": "stderr",
     "output_type": "stream",
     "text": [
      "100%|██████████| 6/6 [00:01<00:00,  3.44it/s]\n"
     ]
    },
    {
     "name": "stdout",
     "output_type": "stream",
     "text": [
      "Current Round: 48, Average Loss: 367.01289494779786, Test Loss: 5619.45591975972, Test Accuracy: 73.64289285406895, Best: 73.64289285406895\n"
     ]
    },
    {
     "name": "stderr",
     "output_type": "stream",
     "text": [
      "100%|██████████| 6/6 [00:01<00:00,  3.43it/s]\n"
     ]
    },
    {
     "name": "stdout",
     "output_type": "stream",
     "text": [
      "Current Round: 49, Average Loss: 367.322567465648, Test Loss: 5617.530947168816, Test Accuracy: 73.6298421082148, Best: 73.6298421082148\n"
     ]
    },
    {
     "name": "stderr",
     "output_type": "stream",
     "text": [
      "100%|██████████| 6/6 [00:01<00:00,  3.42it/s]\n"
     ]
    },
    {
     "name": "stdout",
     "output_type": "stream",
     "text": [
      "Current Round: 50, Average Loss: 360.0680525171144, Test Loss: 5615.616953342821, Test Accuracy: 73.6168651320825, Best: 73.6168651320825\n"
     ]
    },
    {
     "name": "stderr",
     "output_type": "stream",
     "text": [
      "100%|██████████| 6/6 [00:01<00:00,  3.41it/s]\n"
     ]
    },
    {
     "name": "stdout",
     "output_type": "stream",
     "text": [
      "Current Round: 51, Average Loss: 360.9770941215884, Test Loss: 5613.688137730406, Test Accuracy: 73.60376340542288, Best: 73.60376340542288\n"
     ]
    },
    {
     "name": "stderr",
     "output_type": "stream",
     "text": [
      "100%|██████████| 6/6 [00:01<00:00,  3.45it/s]\n"
     ]
    },
    {
     "name": "stdout",
     "output_type": "stream",
     "text": [
      "Current Round: 52, Average Loss: 360.08383805557634, Test Loss: 5611.7946765242605, Test Accuracy: 73.59093868629049, Best: 73.59093868629049\n"
     ]
    },
    {
     "name": "stderr",
     "output_type": "stream",
     "text": [
      "100%|██████████| 6/6 [00:01<00:00,  3.51it/s]\n"
     ]
    },
    {
     "name": "stdout",
     "output_type": "stream",
     "text": [
      "Current Round: 53, Average Loss: 356.5177926387737, Test Loss: 5609.881985689184, Test Accuracy: 73.577917323532, Best: 73.577917323532\n"
     ]
    },
    {
     "name": "stderr",
     "output_type": "stream",
     "text": [
      "100%|██████████| 6/6 [00:01<00:00,  3.41it/s]\n"
     ]
    },
    {
     "name": "stdout",
     "output_type": "stream",
     "text": [
      "Current Round: 54, Average Loss: 363.2451699702261, Test Loss: 5607.978817246069, Test Accuracy: 73.56497808312247, Best: 73.56497808312247\n"
     ]
    },
    {
     "name": "stderr",
     "output_type": "stream",
     "text": [
      "100%|██████████| 6/6 [00:01<00:00,  3.54it/s]\n"
     ]
    },
    {
     "name": "stdout",
     "output_type": "stream",
     "text": [
      "Current Round: 55, Average Loss: 358.23412362934886, Test Loss: 5606.105374361059, Test Accuracy: 73.55224399023044, Best: 73.55224399023044\n"
     ]
    },
    {
     "name": "stderr",
     "output_type": "stream",
     "text": [
      "100%|██████████| 6/6 [00:01<00:00,  3.42it/s]\n"
     ]
    },
    {
     "name": "stdout",
     "output_type": "stream",
     "text": [
      "Current Round: 56, Average Loss: 357.47359152340897, Test Loss: 5604.186774536284, Test Accuracy: 73.53915784379659, Best: 73.53915784379659\n"
     ]
    },
    {
     "name": "stderr",
     "output_type": "stream",
     "text": [
      "100%|██████████| 6/6 [00:01<00:00,  3.44it/s]\n"
     ]
    },
    {
     "name": "stdout",
     "output_type": "stream",
     "text": [
      "Current Round: 57, Average Loss: 356.5006292825956, Test Loss: 5602.356010276293, Test Accuracy: 73.52669586597618, Best: 73.52669586597618\n"
     ]
    },
    {
     "name": "stderr",
     "output_type": "stream",
     "text": [
      "100%|██████████| 6/6 [00:01<00:00,  3.29it/s]\n"
     ]
    },
    {
     "name": "stdout",
     "output_type": "stream",
     "text": [
      "Current Round: 58, Average Loss: 354.073270253411, Test Loss: 5600.568287675708, Test Accuracy: 73.51454143689615, Best: 73.51454143689615\n"
     ]
    },
    {
     "name": "stderr",
     "output_type": "stream",
     "text": [
      "100%|██████████| 6/6 [00:01<00:00,  3.35it/s]\n"
     ]
    },
    {
     "name": "stdout",
     "output_type": "stream",
     "text": [
      "Current Round: 59, Average Loss: 350.95644875172, Test Loss: 5598.726185851824, Test Accuracy: 73.50200146813376, Best: 73.50200146813376\n"
     ]
    },
    {
     "name": "stderr",
     "output_type": "stream",
     "text": [
      "100%|██████████| 6/6 [00:01<00:00,  3.38it/s]\n"
     ]
    },
    {
     "name": "stdout",
     "output_type": "stream",
     "text": [
      "Current Round: 60, Average Loss: 348.9880650980144, Test Loss: 5596.883167063585, Test Accuracy: 73.48945447030711, Best: 73.48945447030711\n"
     ]
    },
    {
     "name": "stderr",
     "output_type": "stream",
     "text": [
      "100%|██████████| 6/6 [00:01<00:00,  3.47it/s]\n"
     ]
    },
    {
     "name": "stdout",
     "output_type": "stream",
     "text": [
      "Current Round: 61, Average Loss: 350.7068940620704, Test Loss: 5595.069162891109, Test Accuracy: 73.47711329596045, Best: 73.47711329596045\n"
     ]
    },
    {
     "name": "stderr",
     "output_type": "stream",
     "text": [
      "100%|██████████| 6/6 [00:01<00:00,  3.56it/s]\n"
     ]
    },
    {
     "name": "stdout",
     "output_type": "stream",
     "text": [
      "Current Round: 62, Average Loss: 346.4742410346236, Test Loss: 5593.245222164944, Test Accuracy: 73.46468620347564, Best: 73.46468620347564\n"
     ]
    },
    {
     "name": "stderr",
     "output_type": "stream",
     "text": [
      "100%|██████████| 6/6 [00:01<00:00,  3.46it/s]\n"
     ]
    },
    {
     "name": "stdout",
     "output_type": "stream",
     "text": [
      "Current Round: 63, Average Loss: 347.742767858065, Test Loss: 5591.462795025945, Test Accuracy: 73.45254854582795, Best: 73.45254854582795\n"
     ]
    },
    {
     "name": "stderr",
     "output_type": "stream",
     "text": [
      "100%|██████████| 6/6 [00:01<00:00,  3.37it/s]\n"
     ]
    },
    {
     "name": "stdout",
     "output_type": "stream",
     "text": [
      "Current Round: 64, Average Loss: 337.93805320837515, Test Loss: 5589.6816418351145, Test Accuracy: 73.44041179103922, Best: 73.44041179103922\n"
     ]
    },
    {
     "name": "stderr",
     "output_type": "stream",
     "text": [
      "100%|██████████| 6/6 [00:01<00:00,  3.31it/s]\n"
     ]
    },
    {
     "name": "stdout",
     "output_type": "stream",
     "text": [
      "Current Round: 65, Average Loss: 345.1678323224012, Test Loss: 5587.940695912717, Test Accuracy: 73.42857923826763, Best: 73.42857923826763\n"
     ]
    },
    {
     "name": "stderr",
     "output_type": "stream",
     "text": [
      "100%|██████████| 6/6 [00:01<00:00,  3.39it/s]\n"
     ]
    },
    {
     "name": "stdout",
     "output_type": "stream",
     "text": [
      "Current Round: 66, Average Loss: 339.21624091053627, Test Loss: 5586.155077398931, Test Accuracy: 73.41640349037142, Best: 73.41640349037142\n"
     ]
    },
    {
     "name": "stderr",
     "output_type": "stream",
     "text": [
      "100%|██████████| 6/6 [00:01<00:00,  3.36it/s]\n"
     ]
    },
    {
     "name": "stdout",
     "output_type": "stream",
     "text": [
      "Current Round: 67, Average Loss: 347.72354404943053, Test Loss: 5584.384438894052, Test Accuracy: 73.40434726492919, Best: 73.40434726492919\n"
     ]
    },
    {
     "name": "stderr",
     "output_type": "stream",
     "text": [
      "100%|██████████| 6/6 [00:01<00:00,  3.39it/s]\n"
     ]
    },
    {
     "name": "stdout",
     "output_type": "stream",
     "text": [
      "Current Round: 68, Average Loss: 343.14251851148475, Test Loss: 5582.628496323672, Test Accuracy: 73.39239884840954, Best: 73.39239884840954\n"
     ]
    },
    {
     "name": "stderr",
     "output_type": "stream",
     "text": [
      "100%|██████████| 6/6 [00:01<00:00,  3.32it/s]\n"
     ]
    },
    {
     "name": "stdout",
     "output_type": "stream",
     "text": [
      "Current Round: 69, Average Loss: 347.8260180920268, Test Loss: 5580.876698698401, Test Accuracy: 73.3804610440279, Best: 73.3804610440279\n"
     ]
    },
    {
     "name": "stderr",
     "output_type": "stream",
     "text": [
      "100%|██████████| 6/6 [00:01<00:00,  3.52it/s]\n"
     ]
    },
    {
     "name": "stdout",
     "output_type": "stream",
     "text": [
      "Current Round: 70, Average Loss: 337.8592766859618, Test Loss: 5579.151872410354, Test Accuracy: 73.36870672327584, Best: 73.36870672327584\n"
     ]
    },
    {
     "name": "stderr",
     "output_type": "stream",
     "text": [
      "100%|██████████| 6/6 [00:01<00:00,  3.48it/s]\n"
     ]
    },
    {
     "name": "stdout",
     "output_type": "stream",
     "text": [
      "Current Round: 71, Average Loss: 345.086719411159, Test Loss: 5577.407988027126, Test Accuracy: 73.35683008167972, Best: 73.35683008167972\n"
     ]
    },
    {
     "name": "stderr",
     "output_type": "stream",
     "text": [
      "100%|██████████| 6/6 [00:01<00:00,  3.29it/s]\n"
     ]
    },
    {
     "name": "stdout",
     "output_type": "stream",
     "text": [
      "Current Round: 72, Average Loss: 337.91587317415355, Test Loss: 5575.695773553671, Test Accuracy: 73.34516299317465, Best: 73.34516299317465\n"
     ]
    },
    {
     "name": "stderr",
     "output_type": "stream",
     "text": [
      "100%|██████████| 6/6 [00:01<00:00,  3.31it/s]\n"
     ]
    },
    {
     "name": "stdout",
     "output_type": "stream",
     "text": [
      "Current Round: 73, Average Loss: 334.8377163978883, Test Loss: 5573.995925241539, Test Accuracy: 73.33356784031146, Best: 73.33356784031146\n"
     ]
    },
    {
     "name": "stderr",
     "output_type": "stream",
     "text": [
      "100%|██████████| 6/6 [00:01<00:00,  3.33it/s]\n"
     ]
    },
    {
     "name": "stdout",
     "output_type": "stream",
     "text": [
      "Current Round: 74, Average Loss: 331.3575272884056, Test Loss: 5572.296688037291, Test Accuracy: 73.32198931234329, Best: 73.32198931234329\n"
     ]
    },
    {
     "name": "stderr",
     "output_type": "stream",
     "text": [
      "100%|██████████| 6/6 [00:01<00:00,  3.46it/s]\n"
     ]
    },
    {
     "name": "stdout",
     "output_type": "stream",
     "text": [
      "Current Round: 75, Average Loss: 344.09219268834573, Test Loss: 5570.540498906056, Test Accuracy: 73.31000025298958, Best: 73.31000025298958\n"
     ]
    },
    {
     "name": "stderr",
     "output_type": "stream",
     "text": [
      "100%|██████████| 6/6 [00:01<00:00,  3.39it/s]\n"
     ]
    },
    {
     "name": "stdout",
     "output_type": "stream",
     "text": [
      "Current Round: 76, Average Loss: 336.0089844157911, Test Loss: 5568.807647137837, Test Accuracy: 73.29816796965758, Best: 73.29816796965758\n"
     ]
    },
    {
     "name": "stderr",
     "output_type": "stream",
     "text": [
      "100%|██████████| 6/6 [00:01<00:00,  3.37it/s]\n"
     ]
    },
    {
     "name": "stdout",
     "output_type": "stream",
     "text": [
      "Current Round: 77, Average Loss: 339.506396623556, Test Loss: 4344.614224534348, Test Accuracy: 64.4839603750236, Best: 64.4839603750236\n"
     ]
    },
    {
     "name": "stderr",
     "output_type": "stream",
     "text": [
      "100%|██████████| 6/6 [00:01<00:00,  3.42it/s]\n"
     ]
    },
    {
     "name": "stdout",
     "output_type": "stream",
     "text": [
      "Current Round: 78, Average Loss: 283.25970148688685, Test Loss: 3386.8850028074658, Test Accuracy: 56.626765023081425, Best: 56.626765023081425\n"
     ]
    },
    {
     "name": "stderr",
     "output_type": "stream",
     "text": [
      "100%|██████████| 6/6 [00:01<00:00,  3.27it/s]\n"
     ]
    },
    {
     "name": "stdout",
     "output_type": "stream",
     "text": [
      "Current Round: 79, Average Loss: 243.8133655015604, Test Loss: 2635.040297951397, Test Accuracy: 49.580605356814395, Best: 49.580605356814395\n"
     ]
    },
    {
     "name": "stderr",
     "output_type": "stream",
     "text": [
      "100%|██████████| 6/6 [00:01<00:00,  3.25it/s]\n"
     ]
    },
    {
     "name": "stdout",
     "output_type": "stream",
     "text": [
      "Current Round: 80, Average Loss: 219.4525496430415, Test Loss: 2087.2152479282836, Test Accuracy: 43.72626347642258, Best: 43.72626347642258\n"
     ]
    },
    {
     "name": "stderr",
     "output_type": "stream",
     "text": [
      "100%|██████████| 6/6 [00:01<00:00,  3.41it/s]\n"
     ]
    },
    {
     "name": "stdout",
     "output_type": "stream",
     "text": [
      "Current Round: 81, Average Loss: 198.42863077734296, Test Loss: 1661.922420988591, Test Accuracy: 38.563752213375274, Best: 38.563752213375274\n"
     ]
    },
    {
     "name": "stderr",
     "output_type": "stream",
     "text": [
      "100%|██████████| 6/6 [00:01<00:00,  3.33it/s]\n"
     ]
    },
    {
     "name": "stdout",
     "output_type": "stream",
     "text": [
      "Current Round: 82, Average Loss: 190.15500018907775, Test Loss: 1338.7001363194122, Test Accuracy: 34.11361665264825, Best: 34.11361665264825\n"
     ]
    },
    {
     "name": "stderr",
     "output_type": "stream",
     "text": [
      "100%|██████████| 6/6 [00:01<00:00,  3.36it/s]\n"
     ]
    },
    {
     "name": "stdout",
     "output_type": "stream",
     "text": [
      "Current Round: 83, Average Loss: 177.57631466726107, Test Loss: 1112.7810661051205, Test Accuracy: 30.616615687752006, Best: 30.616615687752006\n"
     ]
    },
    {
     "name": "stderr",
     "output_type": "stream",
     "text": [
      "100%|██████████| 6/6 [00:01<00:00,  3.31it/s]\n"
     ]
    },
    {
     "name": "stdout",
     "output_type": "stream",
     "text": [
      "Current Round: 84, Average Loss: 171.6524723470252, Test Loss: 928.7631740759149, Test Accuracy: 27.446427882973293, Best: 27.446427882973293\n"
     ]
    },
    {
     "name": "stderr",
     "output_type": "stream",
     "text": [
      "100%|██████████| 6/6 [00:01<00:00,  3.30it/s]\n"
     ]
    },
    {
     "name": "stdout",
     "output_type": "stream",
     "text": [
      "Current Round: 85, Average Loss: 165.80274213212934, Test Loss: 796.729930842233, Test Accuracy: 24.947057334020677, Best: 24.947057334020677\n"
     ]
    },
    {
     "name": "stderr",
     "output_type": "stream",
     "text": [
      "100%|██████████| 6/6 [00:01<00:00,  3.33it/s]\n"
     ]
    },
    {
     "name": "stdout",
     "output_type": "stream",
     "text": [
      "Current Round: 86, Average Loss: 158.91149537327107, Test Loss: 696.3306143050448, Test Accuracy: 22.90506175016382, Best: 22.90506175016382\n"
     ]
    },
    {
     "name": "stderr",
     "output_type": "stream",
     "text": [
      "100%|██████████| 6/6 [00:01<00:00,  3.33it/s]\n"
     ]
    },
    {
     "name": "stdout",
     "output_type": "stream",
     "text": [
      "Current Round: 87, Average Loss: 156.4298346136923, Test Loss: 623.3184817206609, Test Accuracy: 21.32613911209201, Best: 21.32613911209201\n"
     ]
    },
    {
     "name": "stderr",
     "output_type": "stream",
     "text": [
      "100%|██████████| 6/6 [00:01<00:00,  3.44it/s]\n"
     ]
    },
    {
     "name": "stdout",
     "output_type": "stream",
     "text": [
      "Current Round: 88, Average Loss: 154.27977311487976, Test Loss: 550.197930541328, Test Accuracy: 19.680085424449217, Best: 19.680085424449217\n"
     ]
    },
    {
     "name": "stderr",
     "output_type": "stream",
     "text": [
      "100%|██████████| 6/6 [00:01<00:00,  3.51it/s]\n"
     ]
    },
    {
     "name": "stdout",
     "output_type": "stream",
     "text": [
      "Current Round: 89, Average Loss: 146.93123845067157, Test Loss: 482.63623205229845, Test Accuracy: 18.152308141431845, Best: 18.152308141431845\n"
     ]
    },
    {
     "name": "stderr",
     "output_type": "stream",
     "text": [
      "100%|██████████| 6/6 [00:01<00:00,  3.52it/s]\n"
     ]
    },
    {
     "name": "stdout",
     "output_type": "stream",
     "text": [
      "Current Round: 90, Average Loss: 139.48270340643919, Test Loss: 431.0102984352774, Test Accuracy: 17.000620079749577, Best: 17.000620079749577\n"
     ]
    },
    {
     "name": "stderr",
     "output_type": "stream",
     "text": [
      "100%|██████████| 6/6 [00:01<00:00,  3.49it/s]\n"
     ]
    },
    {
     "name": "stdout",
     "output_type": "stream",
     "text": [
      "Current Round: 91, Average Loss: 132.5139187786128, Test Loss: 393.49717601105255, Test Accuracy: 16.145775635446313, Best: 16.145775635446313\n"
     ]
    },
    {
     "name": "stderr",
     "output_type": "stream",
     "text": [
      "100%|██████████| 6/6 [00:01<00:00,  3.50it/s]\n"
     ]
    },
    {
     "name": "stdout",
     "output_type": "stream",
     "text": [
      "Current Round: 92, Average Loss: 131.96434390677948, Test Loss: 371.1588657695934, Test Accuracy: 15.655664072899423, Best: 15.655664072899423\n"
     ]
    },
    {
     "name": "stderr",
     "output_type": "stream",
     "text": [
      "100%|██████████| 6/6 [00:01<00:00,  3.59it/s]\n"
     ]
    },
    {
     "name": "stdout",
     "output_type": "stream",
     "text": [
      "Current Round: 93, Average Loss: 128.56331258255767, Test Loss: 360.97642787541304, Test Accuracy: 15.513254749435179, Best: 15.513254749435179\n"
     ]
    },
    {
     "name": "stderr",
     "output_type": "stream",
     "text": [
      "100%|██████████| 6/6 [00:01<00:00,  3.49it/s]\n"
     ]
    },
    {
     "name": "stdout",
     "output_type": "stream",
     "text": [
      "Current Round: 94, Average Loss: 129.09814559731652, Test Loss: 342.8230965259073, Test Accuracy: 15.064699267513838, Best: 15.064699267513838\n"
     ]
    },
    {
     "name": "stderr",
     "output_type": "stream",
     "text": [
      "100%|██████████| 6/6 [00:01<00:00,  3.53it/s]\n"
     ]
    },
    {
     "name": "stdout",
     "output_type": "stream",
     "text": [
      "Current Round: 95, Average Loss: 129.05791896332786, Test Loss: 327.5355776055004, Test Accuracy: 14.706646088478438, Best: 14.706646088478438\n"
     ]
    },
    {
     "name": "stderr",
     "output_type": "stream",
     "text": [
      "100%|██████████| 6/6 [00:01<00:00,  3.47it/s]\n"
     ]
    },
    {
     "name": "stdout",
     "output_type": "stream",
     "text": [
      "Current Round: 96, Average Loss: 128.01350061049456, Test Loss: 308.60435772333597, Test Accuracy: 14.211477565647206, Best: 14.211477565647206\n"
     ]
    },
    {
     "name": "stderr",
     "output_type": "stream",
     "text": [
      "100%|██████████| 6/6 [00:01<00:00,  3.53it/s]\n"
     ]
    },
    {
     "name": "stdout",
     "output_type": "stream",
     "text": [
      "Current Round: 97, Average Loss: 125.7079104545344, Test Loss: 304.5886842671971, Test Accuracy: 14.155990562769855, Best: 14.155990562769855\n"
     ]
    },
    {
     "name": "stderr",
     "output_type": "stream",
     "text": [
      "100%|██████████| 6/6 [00:01<00:00,  3.60it/s]\n"
     ]
    },
    {
     "name": "stdout",
     "output_type": "stream",
     "text": [
      "Current Round: 98, Average Loss: 126.03655197713367, Test Loss: 295.0616215035375, Test Accuracy: 13.895133497103439, Best: 13.895133497103439\n"
     ]
    },
    {
     "name": "stderr",
     "output_type": "stream",
     "text": [
      "100%|██████████| 6/6 [00:01<00:00,  3.59it/s]\n"
     ]
    },
    {
     "name": "stdout",
     "output_type": "stream",
     "text": [
      "Current Round: 99, Average Loss: 128.08385634267893, Test Loss: 280.6828412172815, Test Accuracy: 13.48379143876805, Best: 13.48379143876805\n"
     ]
    },
    {
     "name": "stderr",
     "output_type": "stream",
     "text": [
      "100%|██████████| 6/6 [00:01<00:00,  3.45it/s]\n"
     ]
    },
    {
     "name": "stdout",
     "output_type": "stream",
     "text": [
      "Current Round: 100, Average Loss: 123.92123016792668, Test Loss: 272.68205925989366, Test Accuracy: 13.24748334920096, Best: 13.24748334920096\n"
     ]
    },
    {
     "name": "stderr",
     "output_type": "stream",
     "text": [
      "100%|██████████| 6/6 [00:01<00:00,  3.35it/s]\n"
     ]
    },
    {
     "name": "stdout",
     "output_type": "stream",
     "text": [
      "Current Round: 101, Average Loss: 123.88902298678408, Test Loss: 267.4913737800854, Test Accuracy: 13.113111711050646, Best: 13.113111711050646\n"
     ]
    },
    {
     "name": "stderr",
     "output_type": "stream",
     "text": [
      "100%|██████████| 6/6 [00:01<00:00,  3.38it/s]\n"
     ]
    },
    {
     "name": "stdout",
     "output_type": "stream",
     "text": [
      "Current Round: 102, Average Loss: 124.90145505077504, Test Loss: 258.5150542539144, Test Accuracy: 12.847341190040334, Best: 12.847341190040334\n"
     ]
    },
    {
     "name": "stderr",
     "output_type": "stream",
     "text": [
      "100%|██████████| 6/6 [00:01<00:00,  3.69it/s]\n"
     ]
    },
    {
     "name": "stdout",
     "output_type": "stream",
     "text": [
      "Current Round: 103, Average Loss: 122.24835190753954, Test Loss: 259.59921806578006, Test Accuracy: 12.91041344190028, Best: 12.847341190040334\n"
     ]
    },
    {
     "name": "stderr",
     "output_type": "stream",
     "text": [
      "100%|██████████| 6/6 [00:01<00:00,  3.72it/s]\n"
     ]
    },
    {
     "name": "stdout",
     "output_type": "stream",
     "text": [
      "Current Round: 104, Average Loss: 122.08986041755146, Test Loss: 257.5844349378842, Test Accuracy: 12.884988352268602, Best: 12.847341190040334\n"
     ]
    },
    {
     "name": "stderr",
     "output_type": "stream",
     "text": [
      "100%|██████████| 6/6 [00:01<00:00,  3.67it/s]\n"
     ]
    },
    {
     "name": "stdout",
     "output_type": "stream",
     "text": [
      "Current Round: 105, Average Loss: 122.40387072766207, Test Loss: 239.12406781016674, Test Accuracy: 12.291149226853987, Best: 12.291149226853987\n"
     ]
    },
    {
     "name": "stderr",
     "output_type": "stream",
     "text": [
      "100%|██████████| 6/6 [00:01<00:00,  3.50it/s]\n"
     ]
    },
    {
     "name": "stdout",
     "output_type": "stream",
     "text": [
      "Current Round: 106, Average Loss: 123.84895606899748, Test Loss: 229.28539830970647, Test Accuracy: 11.962107747017672, Best: 11.962107747017672\n"
     ]
    },
    {
     "name": "stderr",
     "output_type": "stream",
     "text": [
      "100%|██████████| 6/6 [00:01<00:00,  3.64it/s]\n"
     ]
    },
    {
     "name": "stdout",
     "output_type": "stream",
     "text": [
      "Current Round: 107, Average Loss: 120.53861057178464, Test Loss: 226.61145592819727, Test Accuracy: 11.860880538581178, Best: 11.860880538581178\n"
     ]
    },
    {
     "name": "stderr",
     "output_type": "stream",
     "text": [
      "100%|██████████| 6/6 [00:01<00:00,  3.57it/s]\n"
     ]
    },
    {
     "name": "stdout",
     "output_type": "stream",
     "text": [
      "Current Round: 108, Average Loss: 122.3903173554678, Test Loss: 223.61301006428445, Test Accuracy: 11.808757526723868, Best: 11.808757526723868\n"
     ]
    },
    {
     "name": "stderr",
     "output_type": "stream",
     "text": [
      "100%|██████████| 6/6 [00:01<00:00,  3.69it/s]\n"
     ]
    },
    {
     "name": "stdout",
     "output_type": "stream",
     "text": [
      "Current Round: 109, Average Loss: 120.92800033895769, Test Loss: 217.1551400493955, Test Accuracy: 11.587610242387472, Best: 11.587610242387472\n"
     ]
    },
    {
     "name": "stderr",
     "output_type": "stream",
     "text": [
      "100%|██████████| 6/6 [00:01<00:00,  3.61it/s]\n"
     ]
    },
    {
     "name": "stdout",
     "output_type": "stream",
     "text": [
      "Current Round: 110, Average Loss: 118.70204906666002, Test Loss: 211.47938990563412, Test Accuracy: 11.40863397543906, Best: 11.40863397543906\n"
     ]
    },
    {
     "name": "stderr",
     "output_type": "stream",
     "text": [
      "100%|██████████| 6/6 [00:01<00:00,  3.70it/s]\n"
     ]
    },
    {
     "name": "stdout",
     "output_type": "stream",
     "text": [
      "Current Round: 111, Average Loss: 120.74383894904709, Test Loss: 209.86058605463236, Test Accuracy: 11.335371180537908, Best: 11.335371180537908\n"
     ]
    },
    {
     "name": "stderr",
     "output_type": "stream",
     "text": [
      "100%|██████████| 6/6 [00:01<00:00,  3.21it/s]\n"
     ]
    },
    {
     "name": "stdout",
     "output_type": "stream",
     "text": [
      "Current Round: 112, Average Loss: 119.4309873618057, Test Loss: 202.40414315067886, Test Accuracy: 11.077391880890989, Best: 11.077391880890989\n"
     ]
    },
    {
     "name": "stderr",
     "output_type": "stream",
     "text": [
      "100%|██████████| 6/6 [00:01<00:00,  3.28it/s]\n"
     ]
    },
    {
     "name": "stdout",
     "output_type": "stream",
     "text": [
      "Current Round: 113, Average Loss: 119.49573306372399, Test Loss: 198.25595820391646, Test Accuracy: 10.944975818695484, Best: 10.944975818695484\n"
     ]
    },
    {
     "name": "stderr",
     "output_type": "stream",
     "text": [
      "100%|██████████| 6/6 [00:01<00:00,  3.38it/s]\n"
     ]
    },
    {
     "name": "stdout",
     "output_type": "stream",
     "text": [
      "Current Round: 114, Average Loss: 119.70453707705651, Test Loss: 195.34392003737196, Test Accuracy: 10.867683417735046, Best: 10.867683417735046\n"
     ]
    },
    {
     "name": "stderr",
     "output_type": "stream",
     "text": [
      "100%|██████████| 6/6 [00:01<00:00,  3.34it/s]\n"
     ]
    },
    {
     "name": "stdout",
     "output_type": "stream",
     "text": [
      "Current Round: 115, Average Loss: 117.69802733441435, Test Loss: 192.5376854745909, Test Accuracy: 10.776421439396552, Best: 10.776421439396552\n"
     ]
    },
    {
     "name": "stderr",
     "output_type": "stream",
     "text": [
      "100%|██████████| 6/6 [00:01<00:00,  3.50it/s]\n"
     ]
    },
    {
     "name": "stdout",
     "output_type": "stream",
     "text": [
      "Current Round: 116, Average Loss: 117.77878424785216, Test Loss: 191.56151470824466, Test Accuracy: 10.752592011159829, Best: 10.752592011159829\n"
     ]
    },
    {
     "name": "stderr",
     "output_type": "stream",
     "text": [
      "100%|██████████| 6/6 [00:01<00:00,  3.38it/s]\n"
     ]
    },
    {
     "name": "stdout",
     "output_type": "stream",
     "text": [
      "Current Round: 117, Average Loss: 116.02644791326463, Test Loss: 186.38841041900412, Test Accuracy: 10.567146339085614, Best: 10.567146339085614\n"
     ]
    },
    {
     "name": "stderr",
     "output_type": "stream",
     "text": [
      "100%|██████████| 6/6 [00:01<00:00,  3.44it/s]\n"
     ]
    },
    {
     "name": "stdout",
     "output_type": "stream",
     "text": [
      "Current Round: 118, Average Loss: 117.38650089186119, Test Loss: 186.23414873863572, Test Accuracy: 10.568228526629479, Best: 10.567146339085614\n"
     ]
    },
    {
     "name": "stderr",
     "output_type": "stream",
     "text": [
      "100%|██████████| 6/6 [00:01<00:00,  3.40it/s]\n"
     ]
    },
    {
     "name": "stdout",
     "output_type": "stream",
     "text": [
      "Current Round: 119, Average Loss: 115.74630627705075, Test Loss: 181.9278808600988, Test Accuracy: 10.41333643831728, Best: 10.41333643831728\n"
     ]
    },
    {
     "name": "stderr",
     "output_type": "stream",
     "text": [
      "100%|██████████| 6/6 [00:01<00:00,  3.52it/s]\n"
     ]
    },
    {
     "name": "stdout",
     "output_type": "stream",
     "text": [
      "Current Round: 120, Average Loss: 115.19454843550818, Test Loss: 182.721868601061, Test Accuracy: 10.435941497632562, Best: 10.41333643831728\n"
     ]
    },
    {
     "name": "stderr",
     "output_type": "stream",
     "text": [
      "100%|██████████| 6/6 [00:01<00:00,  3.41it/s]\n"
     ]
    },
    {
     "name": "stdout",
     "output_type": "stream",
     "text": [
      "Current Round: 121, Average Loss: 114.67967535264403, Test Loss: 178.70191213529202, Test Accuracy: 10.32061379963285, Best: 10.32061379963285\n"
     ]
    },
    {
     "name": "stderr",
     "output_type": "stream",
     "text": [
      "100%|██████████| 6/6 [00:01<00:00,  3.37it/s]\n"
     ]
    },
    {
     "name": "stdout",
     "output_type": "stream",
     "text": [
      "Current Round: 122, Average Loss: 114.04011572440565, Test Loss: 177.0206559126899, Test Accuracy: 10.274585189724796, Best: 10.274585189724796\n"
     ]
    },
    {
     "name": "stderr",
     "output_type": "stream",
     "text": [
      "100%|██████████| 6/6 [00:01<00:00,  3.49it/s]\n"
     ]
    },
    {
     "name": "stdout",
     "output_type": "stream",
     "text": [
      "Current Round: 123, Average Loss: 114.53519642075446, Test Loss: 172.83090860303375, Test Accuracy: 10.109442891684607, Best: 10.109442891684607\n"
     ]
    },
    {
     "name": "stderr",
     "output_type": "stream",
     "text": [
      "100%|██████████| 6/6 [00:01<00:00,  3.41it/s]\n"
     ]
    },
    {
     "name": "stdout",
     "output_type": "stream",
     "text": [
      "Current Round: 124, Average Loss: 113.74722987507862, Test Loss: 170.5025332586233, Test Accuracy: 10.037147280895134, Best: 10.037147280895134\n"
     ]
    },
    {
     "name": "stderr",
     "output_type": "stream",
     "text": [
      "100%|██████████| 6/6 [00:01<00:00,  3.44it/s]\n"
     ]
    },
    {
     "name": "stdout",
     "output_type": "stream",
     "text": [
      "Current Round: 125, Average Loss: 111.98293608089477, Test Loss: 168.29505189953665, Test Accuracy: 9.952239616800567, Best: 9.952239616800567\n"
     ]
    },
    {
     "name": "stderr",
     "output_type": "stream",
     "text": [
      "100%|██████████| 6/6 [00:01<00:00,  3.42it/s]\n"
     ]
    },
    {
     "name": "stdout",
     "output_type": "stream",
     "text": [
      "Current Round: 126, Average Loss: 112.73301428140023, Test Loss: 166.68370138875022, Test Accuracy: 9.88729440530732, Best: 9.88729440530732\n"
     ]
    },
    {
     "name": "stderr",
     "output_type": "stream",
     "text": [
      "100%|██████████| 6/6 [00:01<00:00,  3.42it/s]\n"
     ]
    },
    {
     "name": "stdout",
     "output_type": "stream",
     "text": [
      "Current Round: 127, Average Loss: 111.71986579237948, Test Loss: 165.1587981175195, Test Accuracy: 9.83173161663826, Best: 9.83173161663826\n"
     ]
    },
    {
     "name": "stderr",
     "output_type": "stream",
     "text": [
      "100%|██████████| 6/6 [00:01<00:00,  3.42it/s]\n"
     ]
    },
    {
     "name": "stdout",
     "output_type": "stream",
     "text": [
      "Current Round: 128, Average Loss: 112.65042220598345, Test Loss: 164.98795852558098, Test Accuracy: 9.817366468862087, Best: 9.817366468862087\n"
     ]
    },
    {
     "name": "stderr",
     "output_type": "stream",
     "text": [
      "100%|██████████| 6/6 [00:01<00:00,  3.42it/s]\n"
     ]
    },
    {
     "name": "stdout",
     "output_type": "stream",
     "text": [
      "Current Round: 129, Average Loss: 110.99238496222937, Test Loss: 164.51921334465715, Test Accuracy: 9.805964575085646, Best: 9.805964575085646\n"
     ]
    },
    {
     "name": "stderr",
     "output_type": "stream",
     "text": [
      "100%|██████████| 6/6 [00:01<00:00,  3.37it/s]\n"
     ]
    },
    {
     "name": "stdout",
     "output_type": "stream",
     "text": [
      "Current Round: 130, Average Loss: 110.43676287848315, Test Loss: 161.34311060844246, Test Accuracy: 9.670704866430574, Best: 9.670704866430574\n"
     ]
    },
    {
     "name": "stderr",
     "output_type": "stream",
     "text": [
      "100%|██████████| 6/6 [00:01<00:00,  3.63it/s]\n"
     ]
    },
    {
     "name": "stdout",
     "output_type": "stream",
     "text": [
      "Current Round: 131, Average Loss: 109.22891262317798, Test Loss: 160.24719335587494, Test Accuracy: 9.626620846905524, Best: 9.626620846905524\n"
     ]
    },
    {
     "name": "stderr",
     "output_type": "stream",
     "text": [
      "100%|██████████| 6/6 [00:01<00:00,  3.62it/s]\n"
     ]
    },
    {
     "name": "stdout",
     "output_type": "stream",
     "text": [
      "Current Round: 132, Average Loss: 111.25706497404354, Test Loss: 162.2519858923211, Test Accuracy: 9.738110226769429, Best: 9.626620846905524\n"
     ]
    },
    {
     "name": "stderr",
     "output_type": "stream",
     "text": [
      "100%|██████████| 6/6 [00:01<00:00,  3.68it/s]\n"
     ]
    },
    {
     "name": "stdout",
     "output_type": "stream",
     "text": [
      "Current Round: 133, Average Loss: 110.32898165710837, Test Loss: 158.59839664772613, Test Accuracy: 9.557136682181849, Best: 9.557136682181849\n"
     ]
    },
    {
     "name": "stderr",
     "output_type": "stream",
     "text": [
      "100%|██████████| 6/6 [00:01<00:00,  3.61it/s]\n"
     ]
    },
    {
     "name": "stdout",
     "output_type": "stream",
     "text": [
      "Current Round: 134, Average Loss: 110.29426764140892, Test Loss: 157.33509070274815, Test Accuracy: 9.492379584424706, Best: 9.492379584424706\n"
     ]
    },
    {
     "name": "stderr",
     "output_type": "stream",
     "text": [
      "100%|██████████| 6/6 [00:01<00:00,  3.38it/s]\n"
     ]
    },
    {
     "name": "stdout",
     "output_type": "stream",
     "text": [
      "Current Round: 135, Average Loss: 107.98347928731981, Test Loss: 157.705959723563, Test Accuracy: 9.522922891666456, Best: 9.492379584424706\n"
     ]
    },
    {
     "name": "stderr",
     "output_type": "stream",
     "text": [
      "100%|██████████| 6/6 [00:01<00:00,  3.59it/s]\n"
     ]
    },
    {
     "name": "stdout",
     "output_type": "stream",
     "text": [
      "Current Round: 136, Average Loss: 108.23874997704979, Test Loss: 157.6654162460562, Test Accuracy: 9.523298379361556, Best: 9.492379584424706\n"
     ]
    },
    {
     "name": "stderr",
     "output_type": "stream",
     "text": [
      "100%|██████████| 6/6 [00:01<00:00,  3.69it/s]\n"
     ]
    },
    {
     "name": "stdout",
     "output_type": "stream",
     "text": [
      "Current Round: 137, Average Loss: 107.15124745866363, Test Loss: 157.5810321337893, Test Accuracy: 9.528766818796983, Best: 9.492379584424706\n"
     ]
    },
    {
     "name": "stderr",
     "output_type": "stream",
     "text": [
      "100%|██████████| 6/6 [00:01<00:00,  3.47it/s]\n"
     ]
    },
    {
     "name": "stdout",
     "output_type": "stream",
     "text": [
      "Current Round: 138, Average Loss: 107.03674806378278, Test Loss: 156.10384689637746, Test Accuracy: 9.431668344188061, Best: 9.431668344188061\n"
     ]
    },
    {
     "name": "stderr",
     "output_type": "stream",
     "text": [
      "100%|██████████| 6/6 [00:01<00:00,  3.52it/s]\n"
     ]
    },
    {
     "name": "stdout",
     "output_type": "stream",
     "text": [
      "Current Round: 139, Average Loss: 108.20667543170767, Test Loss: 155.16529691871602, Test Accuracy: 9.380684759241646, Best: 9.380684759241646\n"
     ]
    },
    {
     "name": "stderr",
     "output_type": "stream",
     "text": [
      "100%|██████████| 6/6 [00:01<00:00,  3.47it/s]\n"
     ]
    },
    {
     "name": "stdout",
     "output_type": "stream",
     "text": [
      "Current Round: 140, Average Loss: 107.34520235401023, Test Loss: 155.5233174160289, Test Accuracy: 9.405207108092279, Best: 9.380684759241646\n"
     ]
    },
    {
     "name": "stderr",
     "output_type": "stream",
     "text": [
      "100%|██████████| 6/6 [00:01<00:00,  3.44it/s]\n"
     ]
    },
    {
     "name": "stdout",
     "output_type": "stream",
     "text": [
      "Current Round: 141, Average Loss: 107.080902280567, Test Loss: 155.63863841817243, Test Accuracy: 9.424011674807712, Best: 9.380684759241646\n"
     ]
    },
    {
     "name": "stderr",
     "output_type": "stream",
     "text": [
      "100%|██████████| 6/6 [00:01<00:00,  3.45it/s]\n"
     ]
    },
    {
     "name": "stdout",
     "output_type": "stream",
     "text": [
      "Current Round: 142, Average Loss: 106.38489839086786, Test Loss: 154.87588778478377, Test Accuracy: 9.364556862075975, Best: 9.364556862075975\n"
     ]
    },
    {
     "name": "stderr",
     "output_type": "stream",
     "text": [
      "100%|██████████| 6/6 [00:01<00:00,  3.43it/s]\n"
     ]
    },
    {
     "name": "stdout",
     "output_type": "stream",
     "text": [
      "Current Round: 143, Average Loss: 106.15851098728587, Test Loss: 154.6328462373553, Test Accuracy: 9.348794816595028, Best: 9.348794816595028\n"
     ]
    },
    {
     "name": "stderr",
     "output_type": "stream",
     "text": [
      "100%|██████████| 6/6 [00:01<00:00,  3.38it/s]\n"
     ]
    },
    {
     "name": "stdout",
     "output_type": "stream",
     "text": [
      "Current Round: 144, Average Loss: 106.12755394257903, Test Loss: 154.48741093032234, Test Accuracy: 9.34068936249876, Best: 9.34068936249876\n"
     ]
    },
    {
     "name": "stderr",
     "output_type": "stream",
     "text": [
      "100%|██████████| 6/6 [00:01<00:00,  3.40it/s]\n"
     ]
    },
    {
     "name": "stdout",
     "output_type": "stream",
     "text": [
      "Current Round: 145, Average Loss: 106.16308175444817, Test Loss: 154.28679468241765, Test Accuracy: 9.28497831824396, Best: 9.28497831824396\n"
     ]
    },
    {
     "name": "stderr",
     "output_type": "stream",
     "text": [
      "100%|██████████| 6/6 [00:01<00:00,  3.40it/s]\n"
     ]
    },
    {
     "name": "stdout",
     "output_type": "stream",
     "text": [
      "Current Round: 146, Average Loss: 104.85437087137477, Test Loss: 153.9905554127165, Test Accuracy: 9.270433286456518, Best: 9.270433286456518\n"
     ]
    },
    {
     "name": "stderr",
     "output_type": "stream",
     "text": [
      "100%|██████████| 6/6 [00:01<00:00,  3.40it/s]\n"
     ]
    },
    {
     "name": "stdout",
     "output_type": "stream",
     "text": [
      "Current Round: 147, Average Loss: 104.87266526071761, Test Loss: 153.40485069536993, Test Accuracy: 9.262339515166063, Best: 9.262339515166063\n"
     ]
    },
    {
     "name": "stderr",
     "output_type": "stream",
     "text": [
      "100%|██████████| 6/6 [00:01<00:00,  3.44it/s]\n"
     ]
    },
    {
     "name": "stdout",
     "output_type": "stream",
     "text": [
      "Current Round: 148, Average Loss: 104.97648131034255, Test Loss: 156.06101437747625, Test Accuracy: 9.261497504649109, Best: 9.261497504649109\n"
     ]
    },
    {
     "name": "stderr",
     "output_type": "stream",
     "text": [
      "100%|██████████| 6/6 [00:01<00:00,  3.41it/s]\n"
     ]
    },
    {
     "name": "stdout",
     "output_type": "stream",
     "text": [
      "Current Round: 149, Average Loss: 103.47312171718413, Test Loss: 157.47645544657735, Test Accuracy: 9.290924443335928, Best: 9.261497504649109\n"
     ]
    },
    {
     "name": "stderr",
     "output_type": "stream",
     "text": [
      "100%|██████████| 6/6 [00:01<00:00,  3.44it/s]\n"
     ]
    },
    {
     "name": "stdout",
     "output_type": "stream",
     "text": [
      "Current Round: 150, Average Loss: 103.04402842580147, Test Loss: 156.66976091070183, Test Accuracy: 9.279821308424333, Best: 9.261497504649109\n"
     ]
    },
    {
     "name": "stderr",
     "output_type": "stream",
     "text": [
      "100%|██████████| 6/6 [00:01<00:00,  3.42it/s]\n"
     ]
    },
    {
     "name": "stdout",
     "output_type": "stream",
     "text": [
      "Current Round: 151, Average Loss: 102.46961091414649, Test Loss: 155.59658234434426, Test Accuracy: 9.265143915623094, Best: 9.261497504649109\n"
     ]
    },
    {
     "name": "stderr",
     "output_type": "stream",
     "text": [
      "100%|██████████| 6/6 [00:01<00:00,  3.48it/s]\n"
     ]
    },
    {
     "name": "stdout",
     "output_type": "stream",
     "text": [
      "Current Round: 152, Average Loss: 101.66679610577894, Test Loss: 154.3048334613147, Test Accuracy: 9.254852432005173, Best: 9.254852432005173\n"
     ]
    },
    {
     "name": "stderr",
     "output_type": "stream",
     "text": [
      "100%|██████████| 6/6 [00:01<00:00,  3.56it/s]\n"
     ]
    },
    {
     "name": "stdout",
     "output_type": "stream",
     "text": [
      "Current Round: 153, Average Loss: 102.54745414103623, Test Loss: 155.61628978314454, Test Accuracy: 9.27943794080316, Best: 9.254852432005173\n"
     ]
    },
    {
     "name": "stderr",
     "output_type": "stream",
     "text": [
      "100%|██████████| 6/6 [00:01<00:00,  3.48it/s]\n"
     ]
    },
    {
     "name": "stdout",
     "output_type": "stream",
     "text": [
      "Current Round: 154, Average Loss: 102.2857381590835, Test Loss: 161.23039509127057, Test Accuracy: 9.376674136855494, Best: 9.254852432005173\n"
     ]
    },
    {
     "name": "stderr",
     "output_type": "stream",
     "text": [
      "100%|██████████| 6/6 [00:01<00:00,  3.42it/s]\n"
     ]
    },
    {
     "name": "stdout",
     "output_type": "stream",
     "text": [
      "Current Round: 155, Average Loss: 101.75718556715958, Test Loss: 161.72833959106472, Test Accuracy: 9.407079710836305, Best: 9.254852432005173\n"
     ]
    },
    {
     "name": "stderr",
     "output_type": "stream",
     "text": [
      "100%|██████████| 6/6 [00:01<00:00,  3.50it/s]\n"
     ]
    },
    {
     "name": "stdout",
     "output_type": "stream",
     "text": [
      "Current Round: 156, Average Loss: 102.04326383696618, Test Loss: 159.33523165282264, Test Accuracy: 9.35726530696675, Best: 9.254852432005173\n"
     ]
    },
    {
     "name": "stderr",
     "output_type": "stream",
     "text": [
      "100%|██████████| 6/6 [00:01<00:00,  3.46it/s]\n"
     ]
    },
    {
     "name": "stdout",
     "output_type": "stream",
     "text": [
      "Current Round: 157, Average Loss: 99.88719679722202, Test Loss: 163.85896614797025, Test Accuracy: 9.469303053107847, Best: 9.254852432005173\n"
     ]
    },
    {
     "name": "stderr",
     "output_type": "stream",
     "text": [
      "100%|██████████| 6/6 [00:01<00:00,  3.45it/s]\n"
     ]
    },
    {
     "name": "stdout",
     "output_type": "stream",
     "text": [
      "Current Round: 158, Average Loss: 100.42575163108283, Test Loss: 162.79926198823873, Test Accuracy: 9.446067020647883, Best: 9.254852432005173\n"
     ]
    },
    {
     "name": "stderr",
     "output_type": "stream",
     "text": [
      "100%|██████████| 6/6 [00:01<00:00,  3.38it/s]\n"
     ]
    },
    {
     "name": "stdout",
     "output_type": "stream",
     "text": [
      "Current Round: 159, Average Loss: 100.0603047135498, Test Loss: 164.01163807522408, Test Accuracy: 9.467402400285042, Best: 9.254852432005173\n"
     ]
    },
    {
     "name": "stderr",
     "output_type": "stream",
     "text": [
      "100%|██████████| 6/6 [00:01<00:00,  3.23it/s]\n"
     ]
    },
    {
     "name": "stdout",
     "output_type": "stream",
     "text": [
      "Current Round: 160, Average Loss: 99.89729909015061, Test Loss: 161.92951831660582, Test Accuracy: 9.426786413275472, Best: 9.254852432005173\n"
     ]
    },
    {
     "name": "stderr",
     "output_type": "stream",
     "text": [
      "100%|██████████| 6/6 [00:01<00:00,  3.32it/s]\n"
     ]
    },
    {
     "name": "stdout",
     "output_type": "stream",
     "text": [
      "Current Round: 161, Average Loss: 99.68057015153418, Test Loss: 160.25557912935997, Test Accuracy: 9.383649464433521, Best: 9.254852432005173\n"
     ]
    },
    {
     "name": "stderr",
     "output_type": "stream",
     "text": [
      "100%|██████████| 6/6 [00:01<00:00,  3.58it/s]\n"
     ]
    },
    {
     "name": "stdout",
     "output_type": "stream",
     "text": [
      "Current Round: 162, Average Loss: 99.49325045465652, Test Loss: 163.66610519391574, Test Accuracy: 9.482501541667121, Best: 9.254852432005173\n"
     ]
    },
    {
     "name": "stderr",
     "output_type": "stream",
     "text": [
      "100%|██████████| 6/6 [00:01<00:00,  3.41it/s]\n"
     ]
    },
    {
     "name": "stdout",
     "output_type": "stream",
     "text": [
      "Current Round: 163, Average Loss: 99.46577143593565, Test Loss: 163.71142725386142, Test Accuracy: 9.487917856360605, Best: 9.254852432005173\n"
     ]
    },
    {
     "name": "stderr",
     "output_type": "stream",
     "text": [
      "100%|██████████| 6/6 [00:01<00:00,  3.35it/s]\n"
     ]
    },
    {
     "name": "stdout",
     "output_type": "stream",
     "text": [
      "Current Round: 164, Average Loss: 99.38644561620394, Test Loss: 161.3593130765259, Test Accuracy: 9.431584011961831, Best: 9.254852432005173\n"
     ]
    },
    {
     "name": "stderr",
     "output_type": "stream",
     "text": [
      "100%|██████████| 6/6 [00:01<00:00,  3.30it/s]\n"
     ]
    },
    {
     "name": "stdout",
     "output_type": "stream",
     "text": [
      "Current Round: 165, Average Loss: 97.63015269589225, Test Loss: 159.70477775064248, Test Accuracy: 9.395420551890926, Best: 9.254852432005173\n"
     ]
    },
    {
     "name": "stderr",
     "output_type": "stream",
     "text": [
      "100%|██████████| 6/6 [00:01<00:00,  3.32it/s]\n"
     ]
    },
    {
     "name": "stdout",
     "output_type": "stream",
     "text": [
      "Current Round: 166, Average Loss: 98.73600368491871, Test Loss: 162.09102375618883, Test Accuracy: 9.455931681239472, Best: 9.254852432005173\n"
     ]
    },
    {
     "name": "stderr",
     "output_type": "stream",
     "text": [
      "100%|██████████| 6/6 [00:01<00:00,  3.55it/s]\n"
     ]
    },
    {
     "name": "stdout",
     "output_type": "stream",
     "text": [
      "Current Round: 167, Average Loss: 97.26794463740214, Test Loss: 165.28208731048392, Test Accuracy: 9.548523662997297, Best: 9.254852432005173\n"
     ]
    },
    {
     "name": "stderr",
     "output_type": "stream",
     "text": [
      "100%|██████████| 6/6 [00:01<00:00,  3.45it/s]\n"
     ]
    },
    {
     "name": "stdout",
     "output_type": "stream",
     "text": [
      "Current Round: 168, Average Loss: 96.35665772101497, Test Loss: 170.32803062709624, Test Accuracy: 9.701070291549891, Best: 9.254852432005173\n"
     ]
    },
    {
     "name": "stderr",
     "output_type": "stream",
     "text": [
      "100%|██████████| 6/6 [00:01<00:00,  3.38it/s]\n"
     ]
    },
    {
     "name": "stdout",
     "output_type": "stream",
     "text": [
      "Current Round: 169, Average Loss: 98.1255530871454, Test Loss: 160.9053130955372, Test Accuracy: 9.438847883335573, Best: 9.254852432005173\n"
     ]
    },
    {
     "name": "stderr",
     "output_type": "stream",
     "text": [
      "100%|██████████| 6/6 [00:01<00:00,  3.45it/s]\n"
     ]
    },
    {
     "name": "stdout",
     "output_type": "stream",
     "text": [
      "Current Round: 170, Average Loss: 96.38706735193325, Test Loss: 161.6386898157941, Test Accuracy: 9.458973864492727, Best: 9.254852432005173\n"
     ]
    },
    {
     "name": "stderr",
     "output_type": "stream",
     "text": [
      "100%|██████████| 6/6 [00:01<00:00,  3.40it/s]\n"
     ]
    },
    {
     "name": "stdout",
     "output_type": "stream",
     "text": [
      "Current Round: 171, Average Loss: 96.44625892582654, Test Loss: 163.2419515679183, Test Accuracy: 9.496781858517483, Best: 9.254852432005173\n"
     ]
    },
    {
     "name": "stderr",
     "output_type": "stream",
     "text": [
      "100%|██████████| 6/6 [00:01<00:00,  3.54it/s]\n"
     ]
    },
    {
     "name": "stdout",
     "output_type": "stream",
     "text": [
      "Current Round: 172, Average Loss: 96.68874488206086, Test Loss: 162.04126768048664, Test Accuracy: 9.469525132776045, Best: 9.254852432005173\n"
     ]
    },
    {
     "name": "stderr",
     "output_type": "stream",
     "text": [
      "100%|██████████| 6/6 [00:01<00:00,  3.40it/s]\n"
     ]
    },
    {
     "name": "stdout",
     "output_type": "stream",
     "text": [
      "Current Round: 173, Average Loss: 96.51990468281599, Test Loss: 161.74835498030893, Test Accuracy: 9.467411563594398, Best: 9.254852432005173\n"
     ]
    },
    {
     "name": "stderr",
     "output_type": "stream",
     "text": [
      "100%|██████████| 6/6 [00:01<00:00,  3.46it/s]\n"
     ]
    },
    {
     "name": "stdout",
     "output_type": "stream",
     "text": [
      "Current Round: 174, Average Loss: 96.31949854889274, Test Loss: 168.01898739066857, Test Accuracy: 9.641772966254894, Best: 9.254852432005173\n"
     ]
    },
    {
     "name": "stderr",
     "output_type": "stream",
     "text": [
      "100%|██████████| 6/6 [00:01<00:00,  3.56it/s]\n"
     ]
    },
    {
     "name": "stdout",
     "output_type": "stream",
     "text": [
      "Current Round: 175, Average Loss: 95.10465333283365, Test Loss: 173.02569398221638, Test Accuracy: 9.79203179039181, Best: 9.254852432005173\n"
     ]
    },
    {
     "name": "stderr",
     "output_type": "stream",
     "text": [
      "100%|██████████| 6/6 [00:01<00:00,  3.60it/s]\n"
     ]
    },
    {
     "name": "stdout",
     "output_type": "stream",
     "text": [
      "Current Round: 176, Average Loss: 95.39343758051234, Test Loss: 166.32986155767202, Test Accuracy: 9.582205577410729, Best: 9.254852432005173\n"
     ]
    },
    {
     "name": "stderr",
     "output_type": "stream",
     "text": [
      "100%|██████████| 6/6 [00:01<00:00,  3.50it/s]\n"
     ]
    },
    {
     "name": "stdout",
     "output_type": "stream",
     "text": [
      "Current Round: 177, Average Loss: 95.73410788918882, Test Loss: 163.68412033637438, Test Accuracy: 9.511925332165118, Best: 9.254852432005173\n"
     ]
    },
    {
     "name": "stderr",
     "output_type": "stream",
     "text": [
      "100%|██████████| 6/6 [00:01<00:00,  3.61it/s]\n"
     ]
    },
    {
     "name": "stdout",
     "output_type": "stream",
     "text": [
      "Current Round: 178, Average Loss: 95.71103741542127, Test Loss: 164.8685510180235, Test Accuracy: 9.543484622808785, Best: 9.254852432005173\n"
     ]
    },
    {
     "name": "stderr",
     "output_type": "stream",
     "text": [
      "100%|██████████| 6/6 [00:01<00:00,  3.60it/s]\n"
     ]
    },
    {
     "name": "stdout",
     "output_type": "stream",
     "text": [
      "Current Round: 179, Average Loss: 94.5340424493372, Test Loss: 162.47536521461763, Test Accuracy: 9.478946248542568, Best: 9.254852432005173\n"
     ]
    },
    {
     "name": "stderr",
     "output_type": "stream",
     "text": [
      "100%|██████████| 6/6 [00:01<00:00,  3.48it/s]\n"
     ]
    },
    {
     "name": "stdout",
     "output_type": "stream",
     "text": [
      "Current Round: 180, Average Loss: 93.82516562799061, Test Loss: 160.05250128912087, Test Accuracy: 9.428934482541374, Best: 9.254852432005173\n"
     ]
    },
    {
     "name": "stderr",
     "output_type": "stream",
     "text": [
      "100%|██████████| 6/6 [00:01<00:00,  3.56it/s]\n"
     ]
    },
    {
     "name": "stdout",
     "output_type": "stream",
     "text": [
      "Current Round: 181, Average Loss: 95.0747763895374, Test Loss: 160.8326926681558, Test Accuracy: 9.443451908589001, Best: 9.254852432005173\n"
     ]
    },
    {
     "name": "stderr",
     "output_type": "stream",
     "text": [
      "100%|██████████| 6/6 [00:01<00:00,  3.51it/s]\n"
     ]
    },
    {
     "name": "stdout",
     "output_type": "stream",
     "text": [
      "Current Round: 182, Average Loss: 95.11858173952264, Test Loss: 160.73794304621043, Test Accuracy: 9.447714946231581, Best: 9.254852432005173\n"
     ]
    },
    {
     "name": "stderr",
     "output_type": "stream",
     "text": [
      "100%|██████████| 6/6 [00:01<00:00,  3.49it/s]\n"
     ]
    },
    {
     "name": "stdout",
     "output_type": "stream",
     "text": [
      "Current Round: 183, Average Loss: 95.43560870311076, Test Loss: 161.43569894159927, Test Accuracy: 9.4721938136785, Best: 9.254852432005173\n"
     ]
    },
    {
     "name": "stderr",
     "output_type": "stream",
     "text": [
      "100%|██████████| 6/6 [00:01<00:00,  3.56it/s]\n"
     ]
    },
    {
     "name": "stdout",
     "output_type": "stream",
     "text": [
      "Current Round: 184, Average Loss: 94.36080773566339, Test Loss: 158.6845361862096, Test Accuracy: 9.407339694036132, Best: 9.254852432005173\n"
     ]
    },
    {
     "name": "stderr",
     "output_type": "stream",
     "text": [
      "100%|██████████| 6/6 [00:01<00:00,  3.37it/s]\n"
     ]
    },
    {
     "name": "stdout",
     "output_type": "stream",
     "text": [
      "Current Round: 185, Average Loss: 94.45863727605325, Test Loss: 158.92240852966924, Test Accuracy: 9.417164487023335, Best: 9.254852432005173\n"
     ]
    },
    {
     "name": "stderr",
     "output_type": "stream",
     "text": [
      "100%|██████████| 6/6 [00:01<00:00,  3.56it/s]\n"
     ]
    },
    {
     "name": "stdout",
     "output_type": "stream",
     "text": [
      "Current Round: 186, Average Loss: 94.86394997662842, Test Loss: 160.7724606203841, Test Accuracy: 9.466765435654878, Best: 9.254852432005173\n"
     ]
    },
    {
     "name": "stderr",
     "output_type": "stream",
     "text": [
      "100%|██████████| 6/6 [00:01<00:00,  3.42it/s]\n"
     ]
    },
    {
     "name": "stdout",
     "output_type": "stream",
     "text": [
      "Current Round: 187, Average Loss: 95.29975312130993, Test Loss: 159.7133624721157, Test Accuracy: 9.44342907712953, Best: 9.254852432005173\n"
     ]
    },
    {
     "name": "stderr",
     "output_type": "stream",
     "text": [
      "100%|██████████| 6/6 [00:01<00:00,  3.29it/s]\n"
     ]
    },
    {
     "name": "stdout",
     "output_type": "stream",
     "text": [
      "Current Round: 188, Average Loss: 93.28001102343956, Test Loss: 158.82389809695317, Test Accuracy: 9.419997677336248, Best: 9.254852432005173\n"
     ]
    },
    {
     "name": "stderr",
     "output_type": "stream",
     "text": [
      "100%|██████████| 6/6 [00:01<00:00,  3.33it/s]\n"
     ]
    },
    {
     "name": "stdout",
     "output_type": "stream",
     "text": [
      "Current Round: 189, Average Loss: 94.94184306266799, Test Loss: 162.00270874506091, Test Accuracy: 9.497734821418847, Best: 9.254852432005173\n"
     ]
    },
    {
     "name": "stderr",
     "output_type": "stream",
     "text": [
      "100%|██████████| 6/6 [00:01<00:00,  3.34it/s]\n"
     ]
    },
    {
     "name": "stdout",
     "output_type": "stream",
     "text": [
      "Current Round: 190, Average Loss: 93.6441811650552, Test Loss: 159.22168635963803, Test Accuracy: 9.431187210177548, Best: 9.254852432005173\n"
     ]
    },
    {
     "name": "stderr",
     "output_type": "stream",
     "text": [
      "100%|██████████| 6/6 [00:01<00:00,  3.38it/s]\n"
     ]
    },
    {
     "name": "stdout",
     "output_type": "stream",
     "text": [
      "Current Round: 191, Average Loss: 92.9160702697367, Test Loss: 160.93874710809342, Test Accuracy: 9.466778491657168, Best: 9.254852432005173\n"
     ]
    },
    {
     "name": "stderr",
     "output_type": "stream",
     "text": [
      "100%|██████████| 6/6 [00:01<00:00,  3.48it/s]\n"
     ]
    },
    {
     "name": "stdout",
     "output_type": "stream",
     "text": [
      "Current Round: 192, Average Loss: 93.23362485242478, Test Loss: 161.88875861825073, Test Accuracy: 9.485345585195548, Best: 9.254852432005173\n"
     ]
    },
    {
     "name": "stderr",
     "output_type": "stream",
     "text": [
      "100%|██████████| 6/6 [00:01<00:00,  3.48it/s]\n"
     ]
    },
    {
     "name": "stdout",
     "output_type": "stream",
     "text": [
      "Current Round: 193, Average Loss: 92.72792455830391, Test Loss: 159.69673250666375, Test Accuracy: 9.43626778187805, Best: 9.254852432005173\n"
     ]
    },
    {
     "name": "stderr",
     "output_type": "stream",
     "text": [
      "100%|██████████| 6/6 [00:01<00:00,  3.37it/s]\n"
     ]
    },
    {
     "name": "stdout",
     "output_type": "stream",
     "text": [
      "Current Round: 194, Average Loss: 93.54492495167398, Test Loss: 160.44897837310472, Test Accuracy: 9.467785876627453, Best: 9.254852432005173\n"
     ]
    },
    {
     "name": "stderr",
     "output_type": "stream",
     "text": [
      "100%|██████████| 6/6 [00:01<00:00,  3.44it/s]\n"
     ]
    },
    {
     "name": "stdout",
     "output_type": "stream",
     "text": [
      "Current Round: 195, Average Loss: 92.47283873420717, Test Loss: 158.73817933833658, Test Accuracy: 9.424132194660853, Best: 9.254852432005173\n"
     ]
    },
    {
     "name": "stderr",
     "output_type": "stream",
     "text": [
      "100%|██████████| 6/6 [00:01<00:00,  3.26it/s]\n"
     ]
    },
    {
     "name": "stdout",
     "output_type": "stream",
     "text": [
      "Current Round: 196, Average Loss: 93.10035971982823, Test Loss: 160.41211373671945, Test Accuracy: 9.467629102969259, Best: 9.254852432005173\n"
     ]
    },
    {
     "name": "stderr",
     "output_type": "stream",
     "text": [
      "100%|██████████| 6/6 [00:01<00:00,  3.37it/s]\n"
     ]
    },
    {
     "name": "stdout",
     "output_type": "stream",
     "text": [
      "Current Round: 197, Average Loss: 92.88705320228176, Test Loss: 158.89096036365964, Test Accuracy: 9.43395177375576, Best: 9.254852432005173\n"
     ]
    },
    {
     "name": "stderr",
     "output_type": "stream",
     "text": [
      "100%|██████████| 6/6 [00:01<00:00,  3.51it/s]\n"
     ]
    },
    {
     "name": "stdout",
     "output_type": "stream",
     "text": [
      "Current Round: 198, Average Loss: 92.21896468934334, Test Loss: 159.32160168269456, Test Accuracy: 9.437526393261688, Best: 9.254852432005173\n"
     ]
    },
    {
     "name": "stderr",
     "output_type": "stream",
     "text": [
      "100%|██████████| 6/6 [00:01<00:00,  3.41it/s]\n"
     ]
    },
    {
     "name": "stdout",
     "output_type": "stream",
     "text": [
      "Current Round: 199, Average Loss: 92.33846078767287, Test Loss: 157.90357323622393, Test Accuracy: 9.409216076024846, Best: 9.254852432005173\n"
     ]
    },
    {
     "name": "stderr",
     "output_type": "stream",
     "text": [
      "100%|██████████| 6/6 [00:01<00:00,  3.25it/s]\n"
     ]
    },
    {
     "name": "stdout",
     "output_type": "stream",
     "text": [
      "Current Round: 200, Average Loss: 91.38771781511373, Test Loss: 159.38394544355785, Test Accuracy: 9.433477475002057, Best: 9.254852432005173\n",
      "Training Done!\n",
      "Best Accuracy: 9.254852432005173\n",
      "Total time taken to Train: 426.1430776119232\n",
      "Name is taken...trying again...\n",
      "Name is taken...trying again...\n",
      "Name is taken...trying again...\n"
     ]
    },
    {
     "name": "stderr",
     "output_type": "stream",
     "text": [
      "100%|██████████| 6/6 [00:01<00:00,  3.41it/s]\n"
     ]
    },
    {
     "name": "stdout",
     "output_type": "stream",
     "text": [
      "Current Round: 1, Average Loss: 1521.1105248369643, Test Loss: 5731.828093537019, Test Accuracy: 74.39119883540837, Best: 74.39119883540837\n"
     ]
    },
    {
     "name": "stderr",
     "output_type": "stream",
     "text": [
      "100%|██████████| 6/6 [00:01<00:00,  3.55it/s]\n"
     ]
    },
    {
     "name": "stdout",
     "output_type": "stream",
     "text": [
      "Current Round: 2, Average Loss: 1156.757613711011, Test Loss: 5676.210007526913, Test Accuracy: 73.97501280168913, Best: 73.97501280168913\n"
     ]
    },
    {
     "name": "stderr",
     "output_type": "stream",
     "text": [
      "100%|██████████| 6/6 [00:01<00:00,  3.45it/s]\n"
     ]
    },
    {
     "name": "stdout",
     "output_type": "stream",
     "text": [
      "Current Round: 3, Average Loss: 994.1627186621059, Test Loss: 5568.805523991732, Test Accuracy: 73.17992933857101, Best: 73.17992933857101\n"
     ]
    },
    {
     "name": "stderr",
     "output_type": "stream",
     "text": [
      "100%|██████████| 6/6 [00:01<00:00,  3.64it/s]\n"
     ]
    },
    {
     "name": "stdout",
     "output_type": "stream",
     "text": [
      "Current Round: 4, Average Loss: 841.0399214387253, Test Loss: 5403.398115609511, Test Accuracy: 72.00383155851117, Best: 72.00383155851117\n"
     ]
    },
    {
     "name": "stderr",
     "output_type": "stream",
     "text": [
      "100%|██████████| 6/6 [00:01<00:00,  3.52it/s]\n"
     ]
    },
    {
     "name": "stdout",
     "output_type": "stream",
     "text": [
      "Current Round: 5, Average Loss: 731.9148446559184, Test Loss: 5200.646105609123, Test Accuracy: 70.54744609374244, Best: 70.54744609374244\n"
     ]
    },
    {
     "name": "stderr",
     "output_type": "stream",
     "text": [
      "100%|██████████| 6/6 [00:01<00:00,  3.48it/s]\n"
     ]
    },
    {
     "name": "stdout",
     "output_type": "stream",
     "text": [
      "Current Round: 6, Average Loss: 648.6580612028337, Test Loss: 4949.448239464742, Test Accuracy: 68.71856555206034, Best: 68.71856555206034\n"
     ]
    },
    {
     "name": "stderr",
     "output_type": "stream",
     "text": [
      "100%|██████████| 6/6 [00:01<00:00,  3.48it/s]\n"
     ]
    },
    {
     "name": "stdout",
     "output_type": "stream",
     "text": [
      "Current Round: 7, Average Loss: 573.6795492186696, Test Loss: 4261.319353786691, Test Accuracy: 63.70575397874343, Best: 63.70575397874343\n"
     ]
    },
    {
     "name": "stderr",
     "output_type": "stream",
     "text": [
      "100%|██████████| 6/6 [00:01<00:00,  3.46it/s]\n"
     ]
    },
    {
     "name": "stdout",
     "output_type": "stream",
     "text": [
      "Current Round: 8, Average Loss: 472.7759373383498, Test Loss: 4065.7201463210095, Test Accuracy: 62.14620205431327, Best: 62.14620205431327\n"
     ]
    },
    {
     "name": "stderr",
     "output_type": "stream",
     "text": [
      "100%|██████████| 6/6 [00:01<00:00,  3.36it/s]\n"
     ]
    },
    {
     "name": "stdout",
     "output_type": "stream",
     "text": [
      "Current Round: 9, Average Loss: 435.12113387147406, Test Loss: 3876.0467458202643, Test Accuracy: 60.59600503914418, Best: 60.59600503914418\n"
     ]
    },
    {
     "name": "stderr",
     "output_type": "stream",
     "text": [
      "100%|██████████| 6/6 [00:01<00:00,  3.39it/s]\n"
     ]
    },
    {
     "name": "stdout",
     "output_type": "stream",
     "text": [
      "Current Round: 10, Average Loss: 400.8235017814074, Test Loss: 3693.0019550914362, Test Accuracy: 59.06218448624735, Best: 59.06218448624735\n"
     ]
    },
    {
     "name": "stderr",
     "output_type": "stream",
     "text": [
      "100%|██████████| 6/6 [00:01<00:00,  3.36it/s]\n"
     ]
    },
    {
     "name": "stdout",
     "output_type": "stream",
     "text": [
      "Current Round: 11, Average Loss: 373.13641665036704, Test Loss: 3515.5904486560466, Test Accuracy: 57.53725829945769, Best: 57.53725829945769\n"
     ]
    },
    {
     "name": "stderr",
     "output_type": "stream",
     "text": [
      "100%|██████████| 6/6 [00:01<00:00,  3.34it/s]\n"
     ]
    },
    {
     "name": "stdout",
     "output_type": "stream",
     "text": [
      "Current Round: 12, Average Loss: 352.43170614346536, Test Loss: 3347.903650219999, Test Accuracy: 56.05803787250353, Best: 56.05803787250353\n"
     ]
    },
    {
     "name": "stderr",
     "output_type": "stream",
     "text": [
      "100%|██████████| 6/6 [00:01<00:00,  3.34it/s]\n"
     ]
    },
    {
     "name": "stdout",
     "output_type": "stream",
     "text": [
      "Current Round: 13, Average Loss: 335.16147220648895, Test Loss: 3189.074831975585, Test Accuracy: 54.62062839002267, Best: 54.62062839002267\n"
     ]
    },
    {
     "name": "stderr",
     "output_type": "stream",
     "text": [
      "100%|██████████| 6/6 [00:01<00:00,  3.42it/s]\n"
     ]
    },
    {
     "name": "stdout",
     "output_type": "stream",
     "text": [
      "Current Round: 14, Average Loss: 316.32251214665683, Test Loss: 3037.420745660529, Test Accuracy: 53.213066356332774, Best: 53.213066356332774\n"
     ]
    },
    {
     "name": "stderr",
     "output_type": "stream",
     "text": [
      "100%|██████████| 6/6 [00:01<00:00,  3.37it/s]\n"
     ]
    },
    {
     "name": "stdout",
     "output_type": "stream",
     "text": [
      "Current Round: 15, Average Loss: 307.0870180260105, Test Loss: 2890.9167044827486, Test Accuracy: 51.81723350042747, Best: 51.81723350042747\n"
     ]
    },
    {
     "name": "stderr",
     "output_type": "stream",
     "text": [
      "100%|██████████| 6/6 [00:01<00:00,  3.40it/s]\n"
     ]
    },
    {
     "name": "stdout",
     "output_type": "stream",
     "text": [
      "Current Round: 16, Average Loss: 290.60650016119183, Test Loss: 2753.070282398399, Test Accuracy: 50.46950571658147, Best: 50.46950571658147\n"
     ]
    },
    {
     "name": "stderr",
     "output_type": "stream",
     "text": [
      "100%|██████████| 6/6 [00:01<00:00,  3.44it/s]\n"
     ]
    },
    {
     "name": "stdout",
     "output_type": "stream",
     "text": [
      "Current Round: 17, Average Loss: 280.4309246803884, Test Loss: 2620.0089530330315, Test Accuracy: 49.1342053915636, Best: 49.1342053915636\n"
     ]
    },
    {
     "name": "stderr",
     "output_type": "stream",
     "text": [
      "100%|██████████| 6/6 [00:01<00:00,  3.54it/s]\n"
     ]
    },
    {
     "name": "stdout",
     "output_type": "stream",
     "text": [
      "Current Round: 18, Average Loss: 279.3939194612896, Test Loss: 2497.99052518067, Test Accuracy: 47.8775418315826, Best: 47.8775418315826\n"
     ]
    },
    {
     "name": "stderr",
     "output_type": "stream",
     "text": [
      "100%|██████████| 6/6 [00:01<00:00,  3.33it/s]\n"
     ]
    },
    {
     "name": "stdout",
     "output_type": "stream",
     "text": [
      "Current Round: 19, Average Loss: 263.99134067222894, Test Loss: 2382.8896233276214, Test Accuracy: 46.662759849425434, Best: 46.662759849425434\n"
     ]
    },
    {
     "name": "stderr",
     "output_type": "stream",
     "text": [
      "100%|██████████| 6/6 [00:01<00:00,  3.40it/s]\n"
     ]
    },
    {
     "name": "stdout",
     "output_type": "stream",
     "text": [
      "Current Round: 20, Average Loss: 256.37726882129266, Test Loss: 2270.713006039682, Test Accuracy: 45.44743714220314, Best: 45.44743714220314\n"
     ]
    },
    {
     "name": "stderr",
     "output_type": "stream",
     "text": [
      "100%|██████████| 6/6 [00:01<00:00,  3.62it/s]\n"
     ]
    },
    {
     "name": "stdout",
     "output_type": "stream",
     "text": [
      "Current Round: 21, Average Loss: 249.12518216559295, Test Loss: 2171.432451553061, Test Accuracy: 44.34531159146863, Best: 44.34531159146863\n"
     ]
    },
    {
     "name": "stderr",
     "output_type": "stream",
     "text": [
      "100%|██████████| 6/6 [00:01<00:00,  3.66it/s]\n"
     ]
    },
    {
     "name": "stdout",
     "output_type": "stream",
     "text": [
      "Current Round: 22, Average Loss: 243.2826328889979, Test Loss: 2072.249852366016, Test Accuracy: 43.2160593290459, Best: 43.2160593290459\n"
     ]
    },
    {
     "name": "stderr",
     "output_type": "stream",
     "text": [
      "100%|██████████| 6/6 [00:01<00:00,  3.53it/s]\n"
     ]
    },
    {
     "name": "stdout",
     "output_type": "stream",
     "text": [
      "Current Round: 23, Average Loss: 234.1300524889938, Test Loss: 1980.996406640262, Test Accuracy: 42.15159568644811, Best: 42.15159568644811\n"
     ]
    },
    {
     "name": "stderr",
     "output_type": "stream",
     "text": [
      "100%|██████████| 6/6 [00:01<00:00,  3.49it/s]\n"
     ]
    },
    {
     "name": "stdout",
     "output_type": "stream",
     "text": [
      "Current Round: 24, Average Loss: 231.8829704969074, Test Loss: 1896.9683688138941, Test Accuracy: 41.147739568755235, Best: 41.147739568755235\n"
     ]
    },
    {
     "name": "stderr",
     "output_type": "stream",
     "text": [
      "100%|██████████| 6/6 [00:01<00:00,  3.42it/s]\n"
     ]
    },
    {
     "name": "stdout",
     "output_type": "stream",
     "text": [
      "Current Round: 25, Average Loss: 229.03473881530547, Test Loss: 1814.8593854372386, Test Accuracy: 40.14364474177213, Best: 40.14364474177213\n"
     ]
    },
    {
     "name": "stderr",
     "output_type": "stream",
     "text": [
      "100%|██████████| 6/6 [00:01<00:00,  3.47it/s]\n"
     ]
    },
    {
     "name": "stdout",
     "output_type": "stream",
     "text": [
      "Current Round: 26, Average Loss: 227.62333742908922, Test Loss: 1736.1410844653956, Test Accuracy: 39.15689042480166, Best: 39.15689042480166\n"
     ]
    },
    {
     "name": "stderr",
     "output_type": "stream",
     "text": [
      "100%|██████████| 6/6 [00:01<00:00,  3.41it/s]\n"
     ]
    },
    {
     "name": "stdout",
     "output_type": "stream",
     "text": [
      "Current Round: 27, Average Loss: 219.3125663952869, Test Loss: 1663.1217883936092, Test Accuracy: 38.21961202467832, Best: 38.21961202467832\n"
     ]
    },
    {
     "name": "stderr",
     "output_type": "stream",
     "text": [
      "100%|██████████| 6/6 [00:01<00:00,  3.35it/s]\n"
     ]
    },
    {
     "name": "stdout",
     "output_type": "stream",
     "text": [
      "Current Round: 28, Average Loss: 212.3727804696213, Test Loss: 1598.1153600756563, Test Accuracy: 37.36642575411696, Best: 37.36642575411696\n"
     ]
    },
    {
     "name": "stderr",
     "output_type": "stream",
     "text": [
      "100%|██████████| 6/6 [00:01<00:00,  3.32it/s]\n"
     ]
    },
    {
     "name": "stdout",
     "output_type": "stream",
     "text": [
      "Current Round: 29, Average Loss: 210.62415235213737, Test Loss: 1537.5866349798152, Test Accuracy: 36.5549096245748, Best: 36.5549096245748\n"
     ]
    },
    {
     "name": "stderr",
     "output_type": "stream",
     "text": [
      "100%|██████████| 6/6 [00:01<00:00,  3.36it/s]\n"
     ]
    },
    {
     "name": "stdout",
     "output_type": "stream",
     "text": [
      "Current Round: 30, Average Loss: 211.36988354609727, Test Loss: 1479.952626168063, Test Accuracy: 35.765539266215235, Best: 35.765539266215235\n"
     ]
    },
    {
     "name": "stderr",
     "output_type": "stream",
     "text": [
      "100%|██████████| 6/6 [00:01<00:00,  3.35it/s]\n"
     ]
    },
    {
     "name": "stdout",
     "output_type": "stream",
     "text": [
      "Current Round: 31, Average Loss: 202.07636696966753, Test Loss: 1419.2480891155635, Test Accuracy: 34.93909002443524, Best: 34.93909002443524\n"
     ]
    },
    {
     "name": "stderr",
     "output_type": "stream",
     "text": [
      "100%|██████████| 6/6 [00:01<00:00,  3.32it/s]\n"
     ]
    },
    {
     "name": "stdout",
     "output_type": "stream",
     "text": [
      "Current Round: 32, Average Loss: 200.08470418319504, Test Loss: 1372.8747208984073, Test Accuracy: 34.26820884524963, Best: 34.26820884524963\n"
     ]
    },
    {
     "name": "stderr",
     "output_type": "stream",
     "text": [
      "100%|██████████| 6/6 [00:01<00:00,  3.44it/s]\n"
     ]
    },
    {
     "name": "stdout",
     "output_type": "stream",
     "text": [
      "Current Round: 33, Average Loss: 198.48594848508756, Test Loss: 1330.7434359790373, Test Accuracy: 33.64707969939694, Best: 33.64707969939694\n"
     ]
    },
    {
     "name": "stderr",
     "output_type": "stream",
     "text": [
      "100%|██████████| 6/6 [00:01<00:00,  3.42it/s]\n"
     ]
    },
    {
     "name": "stdout",
     "output_type": "stream",
     "text": [
      "Current Round: 34, Average Loss: 197.2566882780437, Test Loss: 1290.689208965467, Test Accuracy: 33.04572689902531, Best: 33.04572689902531\n"
     ]
    },
    {
     "name": "stderr",
     "output_type": "stream",
     "text": [
      "100%|██████████| 6/6 [00:01<00:00,  3.39it/s]\n"
     ]
    },
    {
     "name": "stdout",
     "output_type": "stream",
     "text": [
      "Current Round: 35, Average Loss: 192.2806172181017, Test Loss: 1252.5610019348221, Test Accuracy: 32.46292217542986, Best: 32.46292217542986\n"
     ]
    },
    {
     "name": "stderr",
     "output_type": "stream",
     "text": [
      "100%|██████████| 6/6 [00:01<00:00,  3.45it/s]\n"
     ]
    },
    {
     "name": "stdout",
     "output_type": "stream",
     "text": [
      "Current Round: 36, Average Loss: 186.8179715845035, Test Loss: 1219.2039461951274, Test Accuracy: 31.944309300797283, Best: 31.944309300797283\n"
     ]
    },
    {
     "name": "stderr",
     "output_type": "stream",
     "text": [
      "100%|██████████| 6/6 [00:01<00:00,  3.43it/s]\n"
     ]
    },
    {
     "name": "stdout",
     "output_type": "stream",
     "text": [
      "Current Round: 37, Average Loss: 189.01080310963985, Test Loss: 1187.6194209745236, Test Accuracy: 31.44535390151921, Best: 31.44535390151921\n"
     ]
    },
    {
     "name": "stderr",
     "output_type": "stream",
     "text": [
      "100%|██████████| 6/6 [00:01<00:00,  3.63it/s]\n"
     ]
    },
    {
     "name": "stdout",
     "output_type": "stream",
     "text": [
      "Current Round: 38, Average Loss: 186.7728688499069, Test Loss: 1159.8846412762687, Test Accuracy: 31.000578817677173, Best: 31.000578817677173\n"
     ]
    },
    {
     "name": "stderr",
     "output_type": "stream",
     "text": [
      "100%|██████████| 6/6 [00:01<00:00,  3.54it/s]\n"
     ]
    },
    {
     "name": "stdout",
     "output_type": "stream",
     "text": [
      "Current Round: 39, Average Loss: 184.0306466128752, Test Loss: 1132.9567561001877, Test Accuracy: 30.562538759120482, Best: 30.562538759120482\n"
     ]
    },
    {
     "name": "stderr",
     "output_type": "stream",
     "text": [
      "100%|██████████| 6/6 [00:01<00:00,  3.49it/s]\n"
     ]
    },
    {
     "name": "stdout",
     "output_type": "stream",
     "text": [
      "Current Round: 40, Average Loss: 182.18878389466013, Test Loss: 1105.343892131744, Test Accuracy: 30.106725120780784, Best: 30.106725120780784\n"
     ]
    },
    {
     "name": "stderr",
     "output_type": "stream",
     "text": [
      "100%|██████████| 6/6 [00:01<00:00,  3.36it/s]\n"
     ]
    },
    {
     "name": "stdout",
     "output_type": "stream",
     "text": [
      "Current Round: 41, Average Loss: 179.06137340312262, Test Loss: 1083.6600812607096, Test Accuracy: 29.743876115687865, Best: 29.743876115687865\n"
     ]
    },
    {
     "name": "stderr",
     "output_type": "stream",
     "text": [
      "100%|██████████| 6/6 [00:01<00:00,  3.37it/s]\n"
     ]
    },
    {
     "name": "stdout",
     "output_type": "stream",
     "text": [
      "Current Round: 42, Average Loss: 177.14548081150556, Test Loss: 1062.463460135194, Test Accuracy: 29.384837262840225, Best: 29.384837262840225\n"
     ]
    },
    {
     "name": "stderr",
     "output_type": "stream",
     "text": [
      "100%|██████████| 6/6 [00:01<00:00,  3.55it/s]\n"
     ]
    },
    {
     "name": "stdout",
     "output_type": "stream",
     "text": [
      "Current Round: 43, Average Loss: 180.43327762187968, Test Loss: 1038.702895229486, Test Accuracy: 28.977072445137942, Best: 28.977072445137942\n"
     ]
    },
    {
     "name": "stderr",
     "output_type": "stream",
     "text": [
      "100%|██████████| 6/6 [00:01<00:00,  3.63it/s]\n"
     ]
    },
    {
     "name": "stdout",
     "output_type": "stream",
     "text": [
      "Current Round: 44, Average Loss: 178.4779282677382, Test Loss: 1016.5088338556491, Test Accuracy: 28.59092485978553, Best: 28.59092485978553\n"
     ]
    },
    {
     "name": "stderr",
     "output_type": "stream",
     "text": [
      "100%|██████████| 6/6 [00:01<00:00,  3.59it/s]\n"
     ]
    },
    {
     "name": "stdout",
     "output_type": "stream",
     "text": [
      "Current Round: 45, Average Loss: 173.33338643421362, Test Loss: 997.5605782245319, Test Accuracy: 28.257063162518847, Best: 28.257063162518847\n"
     ]
    },
    {
     "name": "stderr",
     "output_type": "stream",
     "text": [
      "100%|██████████| 6/6 [00:01<00:00,  3.64it/s]\n"
     ]
    },
    {
     "name": "stdout",
     "output_type": "stream",
     "text": [
      "Current Round: 46, Average Loss: 172.3082041266997, Test Loss: 977.0296893964766, Test Accuracy: 27.89079744369715, Best: 27.89079744369715\n"
     ]
    },
    {
     "name": "stderr",
     "output_type": "stream",
     "text": [
      "100%|██████████| 6/6 [00:01<00:00,  3.46it/s]\n"
     ]
    },
    {
     "name": "stdout",
     "output_type": "stream",
     "text": [
      "Current Round: 47, Average Loss: 168.95470571708498, Test Loss: 962.6517822284533, Test Accuracy: 27.63139751675404, Best: 27.63139751675404\n"
     ]
    },
    {
     "name": "stderr",
     "output_type": "stream",
     "text": [
      "100%|██████████| 6/6 [00:01<00:00,  3.43it/s]\n"
     ]
    },
    {
     "name": "stdout",
     "output_type": "stream",
     "text": [
      "Current Round: 48, Average Loss: 174.25258786155612, Test Loss: 942.8481725435126, Test Accuracy: 27.270063537351852, Best: 27.270063537351852\n"
     ]
    },
    {
     "name": "stderr",
     "output_type": "stream",
     "text": [
      "100%|██████████| 6/6 [00:01<00:00,  3.28it/s]\n"
     ]
    },
    {
     "name": "stdout",
     "output_type": "stream",
     "text": [
      "Current Round: 49, Average Loss: 172.43037806849054, Test Loss: 923.0818767051271, Test Accuracy: 26.904559588048244, Best: 26.904559588048244\n"
     ]
    },
    {
     "name": "stderr",
     "output_type": "stream",
     "text": [
      "100%|██████████| 6/6 [00:01<00:00,  3.37it/s]\n"
     ]
    },
    {
     "name": "stdout",
     "output_type": "stream",
     "text": [
      "Current Round: 50, Average Loss: 171.9388850449826, Test Loss: 898.669968020074, Test Accuracy: 26.446166306771016, Best: 26.446166306771016\n"
     ]
    },
    {
     "name": "stderr",
     "output_type": "stream",
     "text": [
      "100%|██████████| 6/6 [00:01<00:00,  3.35it/s]\n"
     ]
    },
    {
     "name": "stdout",
     "output_type": "stream",
     "text": [
      "Current Round: 51, Average Loss: 166.67892831873596, Test Loss: 882.6863164417215, Test Accuracy: 26.141669740168727, Best: 26.141669740168727\n"
     ]
    },
    {
     "name": "stderr",
     "output_type": "stream",
     "text": [
      "100%|██████████| 6/6 [00:01<00:00,  3.37it/s]\n"
     ]
    },
    {
     "name": "stdout",
     "output_type": "stream",
     "text": [
      "Current Round: 52, Average Loss: 165.54399335162609, Test Loss: 865.2394190413653, Test Accuracy: 25.805183859710503, Best: 25.805183859710503\n"
     ]
    },
    {
     "name": "stderr",
     "output_type": "stream",
     "text": [
      "100%|██████████| 6/6 [00:01<00:00,  3.32it/s]\n"
     ]
    },
    {
     "name": "stdout",
     "output_type": "stream",
     "text": [
      "Current Round: 53, Average Loss: 163.7913860387015, Test Loss: 849.5992583897624, Test Accuracy: 25.499759340818045, Best: 25.499759340818045\n"
     ]
    },
    {
     "name": "stderr",
     "output_type": "stream",
     "text": [
      "100%|██████████| 6/6 [00:01<00:00,  3.48it/s]\n"
     ]
    },
    {
     "name": "stdout",
     "output_type": "stream",
     "text": [
      "Current Round: 54, Average Loss: 158.75280774781342, Test Loss: 832.9762245660378, Test Accuracy: 25.171065662577842, Best: 25.171065662577842\n"
     ]
    },
    {
     "name": "stderr",
     "output_type": "stream",
     "text": [
      "100%|██████████| 6/6 [00:01<00:00,  3.39it/s]\n"
     ]
    },
    {
     "name": "stdout",
     "output_type": "stream",
     "text": [
      "Current Round: 55, Average Loss: 163.73610644887856, Test Loss: 814.3042980794422, Test Accuracy: 24.796652847063143, Best: 24.796652847063143\n"
     ]
    },
    {
     "name": "stderr",
     "output_type": "stream",
     "text": [
      "100%|██████████| 6/6 [00:01<00:00,  3.43it/s]\n"
     ]
    },
    {
     "name": "stdout",
     "output_type": "stream",
     "text": [
      "Current Round: 56, Average Loss: 161.11969828654932, Test Loss: 792.4504813273452, Test Accuracy: 24.351105050674306, Best: 24.351105050674306\n"
     ]
    },
    {
     "name": "stderr",
     "output_type": "stream",
     "text": [
      "100%|██████████| 6/6 [00:01<00:00,  3.42it/s]\n"
     ]
    },
    {
     "name": "stdout",
     "output_type": "stream",
     "text": [
      "Current Round: 57, Average Loss: 163.94694379323175, Test Loss: 770.6700635742226, Test Accuracy: 23.898766405372665, Best: 23.898766405372665\n"
     ]
    },
    {
     "name": "stderr",
     "output_type": "stream",
     "text": [
      "100%|██████████| 6/6 [00:01<00:00,  3.60it/s]\n"
     ]
    },
    {
     "name": "stdout",
     "output_type": "stream",
     "text": [
      "Current Round: 58, Average Loss: 158.82148474537834, Test Loss: 746.1218866326996, Test Accuracy: 23.37890320816891, Best: 23.37890320816891\n"
     ]
    },
    {
     "name": "stderr",
     "output_type": "stream",
     "text": [
      "100%|██████████| 6/6 [00:01<00:00,  3.73it/s]\n"
     ]
    },
    {
     "name": "stdout",
     "output_type": "stream",
     "text": [
      "Current Round: 59, Average Loss: 155.64174839654243, Test Loss: 725.3634830874286, Test Accuracy: 22.930270687798142, Best: 22.930270687798142\n"
     ]
    },
    {
     "name": "stderr",
     "output_type": "stream",
     "text": [
      "100%|██████████| 6/6 [00:01<00:00,  3.69it/s]\n"
     ]
    },
    {
     "name": "stdout",
     "output_type": "stream",
     "text": [
      "Current Round: 60, Average Loss: 148.3098969088288, Test Loss: 707.86361144821, Test Accuracy: 22.54509307785696, Best: 22.54509307785696\n"
     ]
    },
    {
     "name": "stderr",
     "output_type": "stream",
     "text": [
      "100%|██████████| 6/6 [00:01<00:00,  3.50it/s]\n"
     ]
    },
    {
     "name": "stdout",
     "output_type": "stream",
     "text": [
      "Current Round: 61, Average Loss: 151.08453996355283, Test Loss: 686.0566120484505, Test Accuracy: 22.055960528764878, Best: 22.055960528764878\n"
     ]
    },
    {
     "name": "stderr",
     "output_type": "stream",
     "text": [
      "100%|██████████| 6/6 [00:01<00:00,  3.44it/s]\n"
     ]
    },
    {
     "name": "stdout",
     "output_type": "stream",
     "text": [
      "Current Round: 62, Average Loss: 150.8296996689999, Test Loss: 673.2758515569504, Test Accuracy: 21.765899391127046, Best: 21.765899391127046\n"
     ]
    },
    {
     "name": "stderr",
     "output_type": "stream",
     "text": [
      "100%|██████████| 6/6 [00:01<00:00,  3.37it/s]\n"
     ]
    },
    {
     "name": "stdout",
     "output_type": "stream",
     "text": [
      "Current Round: 63, Average Loss: 149.03817682948275, Test Loss: 653.974543612538, Test Accuracy: 21.321700463655418, Best: 21.321700463655418\n"
     ]
    },
    {
     "name": "stderr",
     "output_type": "stream",
     "text": [
      "100%|██████████| 6/6 [00:01<00:00,  3.41it/s]\n"
     ]
    },
    {
     "name": "stdout",
     "output_type": "stream",
     "text": [
      "Current Round: 64, Average Loss: 150.15863105996803, Test Loss: 636.1127849387414, Test Accuracy: 20.904017867947452, Best: 20.904017867947452\n"
     ]
    },
    {
     "name": "stderr",
     "output_type": "stream",
     "text": [
      "100%|██████████| 6/6 [00:01<00:00,  3.46it/s]\n"
     ]
    },
    {
     "name": "stdout",
     "output_type": "stream",
     "text": [
      "Current Round: 65, Average Loss: 150.221217708974, Test Loss: 617.5902734706837, Test Accuracy: 20.46458388970244, Best: 20.46458388970244\n"
     ]
    },
    {
     "name": "stderr",
     "output_type": "stream",
     "text": [
      "100%|██████████| 6/6 [00:01<00:00,  3.43it/s]\n"
     ]
    },
    {
     "name": "stdout",
     "output_type": "stream",
     "text": [
      "Current Round: 66, Average Loss: 148.21022296033976, Test Loss: 600.8278541972646, Test Accuracy: 20.061927462155936, Best: 20.061927462155936\n"
     ]
    },
    {
     "name": "stderr",
     "output_type": "stream",
     "text": [
      "100%|██████████| 6/6 [00:01<00:00,  3.47it/s]\n"
     ]
    },
    {
     "name": "stdout",
     "output_type": "stream",
     "text": [
      "Current Round: 67, Average Loss: 147.87600694583833, Test Loss: 582.5904634461232, Test Accuracy: 19.61714605121069, Best: 19.61714605121069\n"
     ]
    },
    {
     "name": "stderr",
     "output_type": "stream",
     "text": [
      "100%|██████████| 6/6 [00:01<00:00,  3.47it/s]\n"
     ]
    },
    {
     "name": "stdout",
     "output_type": "stream",
     "text": [
      "Current Round: 68, Average Loss: 147.19322419688936, Test Loss: 569.0992961148495, Test Accuracy: 19.28489568301441, Best: 19.28489568301441\n"
     ]
    },
    {
     "name": "stderr",
     "output_type": "stream",
     "text": [
      "100%|██████████| 6/6 [00:01<00:00,  3.41it/s]\n"
     ]
    },
    {
     "name": "stdout",
     "output_type": "stream",
     "text": [
      "Current Round: 69, Average Loss: 143.16179657744627, Test Loss: 552.9930774831713, Test Accuracy: 18.881739293775595, Best: 18.881739293775595\n"
     ]
    },
    {
     "name": "stderr",
     "output_type": "stream",
     "text": [
      "100%|██████████| 6/6 [00:01<00:00,  3.41it/s]\n"
     ]
    },
    {
     "name": "stdout",
     "output_type": "stream",
     "text": [
      "Current Round: 70, Average Loss: 142.88617300701415, Test Loss: 538.5591352842702, Test Accuracy: 18.51672118185769, Best: 18.51672118185769\n"
     ]
    },
    {
     "name": "stderr",
     "output_type": "stream",
     "text": [
      "100%|██████████| 6/6 [00:01<00:00,  3.44it/s]\n"
     ]
    },
    {
     "name": "stdout",
     "output_type": "stream",
     "text": [
      "Current Round: 71, Average Loss: 143.9794285506014, Test Loss: 526.4500250572978, Test Accuracy: 18.207811528126694, Best: 18.207811528126694\n"
     ]
    },
    {
     "name": "stderr",
     "output_type": "stream",
     "text": [
      "100%|██████████| 6/6 [00:01<00:00,  3.39it/s]\n"
     ]
    },
    {
     "name": "stdout",
     "output_type": "stream",
     "text": [
      "Current Round: 72, Average Loss: 140.37585150540096, Test Loss: 516.3200838816949, Test Accuracy: 17.947302086793506, Best: 17.947302086793506\n"
     ]
    },
    {
     "name": "stderr",
     "output_type": "stream",
     "text": [
      "100%|██████████| 6/6 [00:01<00:00,  3.58it/s]\n"
     ]
    },
    {
     "name": "stdout",
     "output_type": "stream",
     "text": [
      "Current Round: 73, Average Loss: 137.34149118630833, Test Loss: 505.28012015134135, Test Accuracy: 17.661240113269, Best: 17.661240113269\n"
     ]
    },
    {
     "name": "stderr",
     "output_type": "stream",
     "text": [
      "100%|██████████| 6/6 [00:01<00:00,  3.61it/s]\n"
     ]
    },
    {
     "name": "stdout",
     "output_type": "stream",
     "text": [
      "Current Round: 74, Average Loss: 140.73189532337923, Test Loss: 494.7504393794335, Test Accuracy: 17.386214392188165, Best: 17.386214392188165\n"
     ]
    },
    {
     "name": "stderr",
     "output_type": "stream",
     "text": [
      "100%|██████████| 6/6 [00:01<00:00,  3.39it/s]\n"
     ]
    },
    {
     "name": "stdout",
     "output_type": "stream",
     "text": [
      "Current Round: 75, Average Loss: 137.20423801375335, Test Loss: 484.554195665774, Test Accuracy: 17.117704738914746, Best: 17.117704738914746\n"
     ]
    },
    {
     "name": "stderr",
     "output_type": "stream",
     "text": [
      "100%|██████████| 6/6 [00:01<00:00,  3.58it/s]\n"
     ]
    },
    {
     "name": "stdout",
     "output_type": "stream",
     "text": [
      "Current Round: 76, Average Loss: 133.01426014171514, Test Loss: 474.01604610288695, Test Accuracy: 16.839958065652198, Best: 16.839958065652198\n"
     ]
    },
    {
     "name": "stderr",
     "output_type": "stream",
     "text": [
      "100%|██████████| 6/6 [00:01<00:00,  3.40it/s]\n"
     ]
    },
    {
     "name": "stdout",
     "output_type": "stream",
     "text": [
      "Current Round: 77, Average Loss: 134.79539951352322, Test Loss: 464.48327753595925, Test Accuracy: 16.588756835445892, Best: 16.588756835445892\n"
     ]
    },
    {
     "name": "stderr",
     "output_type": "stream",
     "text": [
      "100%|██████████| 6/6 [00:01<00:00,  3.46it/s]\n"
     ]
    },
    {
     "name": "stdout",
     "output_type": "stream",
     "text": [
      "Current Round: 78, Average Loss: 135.10100810942083, Test Loss: 457.2277964486953, Test Accuracy: 16.397888526301994, Best: 16.397888526301994\n"
     ]
    },
    {
     "name": "stderr",
     "output_type": "stream",
     "text": [
      "100%|██████████| 6/6 [00:01<00:00,  3.45it/s]\n"
     ]
    },
    {
     "name": "stdout",
     "output_type": "stream",
     "text": [
      "Current Round: 79, Average Loss: 134.09309148453346, Test Loss: 445.23675076994016, Test Accuracy: 16.08201706187876, Best: 16.08201706187876\n"
     ]
    },
    {
     "name": "stderr",
     "output_type": "stream",
     "text": [
      "100%|██████████| 6/6 [00:01<00:00,  3.48it/s]\n"
     ]
    },
    {
     "name": "stdout",
     "output_type": "stream",
     "text": [
      "Current Round: 80, Average Loss: 131.86757271004328, Test Loss: 434.6920789183017, Test Accuracy: 15.803129418336473, Best: 15.803129418336473\n"
     ]
    },
    {
     "name": "stderr",
     "output_type": "stream",
     "text": [
      "100%|██████████| 6/6 [00:01<00:00,  3.45it/s]\n"
     ]
    },
    {
     "name": "stdout",
     "output_type": "stream",
     "text": [
      "Current Round: 81, Average Loss: 128.460615892819, Test Loss: 423.6317242903928, Test Accuracy: 15.509235254450802, Best: 15.509235254450802\n"
     ]
    },
    {
     "name": "stderr",
     "output_type": "stream",
     "text": [
      "100%|██████████| 6/6 [00:01<00:00,  3.51it/s]\n"
     ]
    },
    {
     "name": "stdout",
     "output_type": "stream",
     "text": [
      "Current Round: 82, Average Loss: 125.79403423090127, Test Loss: 412.86405109357935, Test Accuracy: 15.225084056641533, Best: 15.225084056641533\n"
     ]
    },
    {
     "name": "stderr",
     "output_type": "stream",
     "text": [
      "100%|██████████| 6/6 [00:01<00:00,  3.52it/s]\n"
     ]
    },
    {
     "name": "stdout",
     "output_type": "stream",
     "text": [
      "Current Round: 83, Average Loss: 125.79889743978924, Test Loss: 402.1878927796156, Test Accuracy: 14.943610402878923, Best: 14.943610402878923\n"
     ]
    },
    {
     "name": "stderr",
     "output_type": "stream",
     "text": [
      "100%|██████████| 6/6 [00:01<00:00,  3.57it/s]\n"
     ]
    },
    {
     "name": "stdout",
     "output_type": "stream",
     "text": [
      "Current Round: 84, Average Loss: 121.8207818681221, Test Loss: 391.99340739007926, Test Accuracy: 14.675356383955908, Best: 14.675356383955908\n"
     ]
    },
    {
     "name": "stderr",
     "output_type": "stream",
     "text": [
      "100%|██████████| 6/6 [00:01<00:00,  3.43it/s]\n"
     ]
    },
    {
     "name": "stdout",
     "output_type": "stream",
     "text": [
      "Current Round: 85, Average Loss: 120.5358916857329, Test Loss: 379.4846445421193, Test Accuracy: 14.347468022815653, Best: 14.347468022815653\n"
     ]
    },
    {
     "name": "stderr",
     "output_type": "stream",
     "text": [
      "100%|██████████| 6/6 [00:01<00:00,  3.41it/s]\n"
     ]
    },
    {
     "name": "stdout",
     "output_type": "stream",
     "text": [
      "Current Round: 86, Average Loss: 121.94351973204438, Test Loss: 368.41114360784655, Test Accuracy: 14.052984684373367, Best: 14.052984684373367\n"
     ]
    },
    {
     "name": "stderr",
     "output_type": "stream",
     "text": [
      "100%|██████████| 6/6 [00:01<00:00,  3.52it/s]\n"
     ]
    },
    {
     "name": "stdout",
     "output_type": "stream",
     "text": [
      "Current Round: 87, Average Loss: 118.43916731023978, Test Loss: 363.5006739944035, Test Accuracy: 13.923043290035432, Best: 13.923043290035432\n"
     ]
    },
    {
     "name": "stderr",
     "output_type": "stream",
     "text": [
      "100%|██████████| 6/6 [00:01<00:00,  3.39it/s]\n"
     ]
    },
    {
     "name": "stdout",
     "output_type": "stream",
     "text": [
      "Current Round: 88, Average Loss: 119.79088521309262, Test Loss: 356.1929008839225, Test Accuracy: 13.732476921034273, Best: 13.732476921034273\n"
     ]
    },
    {
     "name": "stderr",
     "output_type": "stream",
     "text": [
      "100%|██████████| 6/6 [00:01<00:00,  3.52it/s]\n"
     ]
    },
    {
     "name": "stdout",
     "output_type": "stream",
     "text": [
      "Current Round: 89, Average Loss: 116.3778824601864, Test Loss: 348.78357817295387, Test Accuracy: 13.539226012011294, Best: 13.539226012011294\n"
     ]
    },
    {
     "name": "stderr",
     "output_type": "stream",
     "text": [
      "100%|██████████| 6/6 [00:01<00:00,  3.41it/s]\n"
     ]
    },
    {
     "name": "stdout",
     "output_type": "stream",
     "text": [
      "Current Round: 90, Average Loss: 115.8521002999051, Test Loss: 343.0278881944767, Test Accuracy: 13.38884149903554, Best: 13.38884149903554\n"
     ]
    },
    {
     "name": "stderr",
     "output_type": "stream",
     "text": [
      "100%|██████████| 6/6 [00:01<00:00,  3.39it/s]\n"
     ]
    },
    {
     "name": "stdout",
     "output_type": "stream",
     "text": [
      "Current Round: 91, Average Loss: 110.98430579487608, Test Loss: 335.73291728929, Test Accuracy: 13.198282650707675, Best: 13.198282650707675\n"
     ]
    },
    {
     "name": "stderr",
     "output_type": "stream",
     "text": [
      "100%|██████████| 6/6 [00:01<00:00,  3.47it/s]\n"
     ]
    },
    {
     "name": "stdout",
     "output_type": "stream",
     "text": [
      "Current Round: 92, Average Loss: 112.85384915317566, Test Loss: 330.9326725062052, Test Accuracy: 13.073176805857832, Best: 13.073176805857832\n"
     ]
    },
    {
     "name": "stderr",
     "output_type": "stream",
     "text": [
      "100%|██████████| 6/6 [00:01<00:00,  3.50it/s]\n"
     ]
    },
    {
     "name": "stdout",
     "output_type": "stream",
     "text": [
      "Current Round: 93, Average Loss: 110.25250911752069, Test Loss: 325.97250935221103, Test Accuracy: 12.943940156749928, Best: 12.943940156749928\n"
     ]
    },
    {
     "name": "stderr",
     "output_type": "stream",
     "text": [
      "100%|██████████| 6/6 [00:01<00:00,  3.48it/s]\n"
     ]
    },
    {
     "name": "stdout",
     "output_type": "stream",
     "text": [
      "Current Round: 94, Average Loss: 109.52181680573399, Test Loss: 323.5887220162423, Test Accuracy: 12.88185709796135, Best: 12.88185709796135\n"
     ]
    },
    {
     "name": "stderr",
     "output_type": "stream",
     "text": [
      "100%|██████████| 6/6 [00:01<00:00,  3.42it/s]\n"
     ]
    },
    {
     "name": "stdout",
     "output_type": "stream",
     "text": [
      "Current Round: 95, Average Loss: 111.26185523325275, Test Loss: 319.7289627453282, Test Accuracy: 12.782032584907693, Best: 12.782032584907693\n"
     ]
    },
    {
     "name": "stderr",
     "output_type": "stream",
     "text": [
      "100%|██████████| 6/6 [00:01<00:00,  3.51it/s]\n"
     ]
    },
    {
     "name": "stdout",
     "output_type": "stream",
     "text": [
      "Current Round: 96, Average Loss: 112.14816164697713, Test Loss: 312.98061131544716, Test Accuracy: 12.607752834258617, Best: 12.607752834258617\n"
     ]
    },
    {
     "name": "stderr",
     "output_type": "stream",
     "text": [
      "100%|██████████| 6/6 [00:01<00:00,  3.44it/s]\n"
     ]
    },
    {
     "name": "stdout",
     "output_type": "stream",
     "text": [
      "Current Round: 97, Average Loss: 108.62678666119406, Test Loss: 309.54771192362614, Test Accuracy: 12.520247030435442, Best: 12.520247030435442\n"
     ]
    },
    {
     "name": "stderr",
     "output_type": "stream",
     "text": [
      "100%|██████████| 6/6 [00:01<00:00,  3.38it/s]\n"
     ]
    },
    {
     "name": "stdout",
     "output_type": "stream",
     "text": [
      "Current Round: 98, Average Loss: 105.45838875946008, Test Loss: 306.14551726517254, Test Accuracy: 12.43436643891175, Best: 12.43436643891175\n"
     ]
    },
    {
     "name": "stderr",
     "output_type": "stream",
     "text": [
      "100%|██████████| 6/6 [00:01<00:00,  3.43it/s]\n"
     ]
    },
    {
     "name": "stdout",
     "output_type": "stream",
     "text": [
      "Current Round: 99, Average Loss: 108.36277584755602, Test Loss: 303.75541574338996, Test Accuracy: 12.375028666953614, Best: 12.375028666953614\n"
     ]
    },
    {
     "name": "stderr",
     "output_type": "stream",
     "text": [
      "100%|██████████| 6/6 [00:01<00:00,  3.32it/s]\n"
     ]
    },
    {
     "name": "stdout",
     "output_type": "stream",
     "text": [
      "Current Round: 100, Average Loss: 105.52128200996214, Test Loss: 301.13508117381747, Test Accuracy: 12.309631477649031, Best: 12.309631477649031\n"
     ]
    },
    {
     "name": "stderr",
     "output_type": "stream",
     "text": [
      "100%|██████████| 6/6 [00:01<00:00,  3.44it/s]\n"
     ]
    },
    {
     "name": "stdout",
     "output_type": "stream",
     "text": [
      "Current Round: 101, Average Loss: 104.15983492391439, Test Loss: 300.73932552985764, Test Accuracy: 12.299703910005137, Best: 12.299703910005137\n"
     ]
    },
    {
     "name": "stderr",
     "output_type": "stream",
     "text": [
      "100%|██████████| 6/6 [00:01<00:00,  3.44it/s]\n"
     ]
    },
    {
     "name": "stdout",
     "output_type": "stream",
     "text": [
      "Current Round: 102, Average Loss: 101.1347863928122, Test Loss: 300.2052202294898, Test Accuracy: 12.286276088180447, Best: 12.286276088180447\n"
     ]
    },
    {
     "name": "stderr",
     "output_type": "stream",
     "text": [
      "100%|██████████| 6/6 [00:01<00:00,  3.52it/s]\n"
     ]
    },
    {
     "name": "stdout",
     "output_type": "stream",
     "text": [
      "Current Round: 103, Average Loss: 101.2174748019507, Test Loss: 298.17024705755665, Test Accuracy: 12.234930931857084, Best: 12.234930931857084\n"
     ]
    },
    {
     "name": "stderr",
     "output_type": "stream",
     "text": [
      "100%|██████████| 6/6 [00:01<00:00,  3.49it/s]\n"
     ]
    },
    {
     "name": "stdout",
     "output_type": "stream",
     "text": [
      "Current Round: 104, Average Loss: 100.7742140750115, Test Loss: 296.4014979846859, Test Accuracy: 12.19017921504478, Best: 12.19017921504478\n"
     ]
    },
    {
     "name": "stderr",
     "output_type": "stream",
     "text": [
      "100%|██████████| 6/6 [00:01<00:00,  3.40it/s]\n"
     ]
    },
    {
     "name": "stdout",
     "output_type": "stream",
     "text": [
      "Current Round: 105, Average Loss: 98.18511597019788, Test Loss: 297.1335944035535, Test Accuracy: 12.208736474038352, Best: 12.19017921504478\n"
     ]
    },
    {
     "name": "stderr",
     "output_type": "stream",
     "text": [
      "100%|██████████| 6/6 [00:01<00:00,  3.47it/s]\n"
     ]
    },
    {
     "name": "stdout",
     "output_type": "stream",
     "text": [
      "Current Round: 106, Average Loss: 98.26909098323587, Test Loss: 296.98318967596157, Test Accuracy: 12.20492026412945, Best: 12.19017921504478\n"
     ]
    },
    {
     "name": "stderr",
     "output_type": "stream",
     "text": [
      "100%|██████████| 6/6 [00:01<00:00,  3.67it/s]\n"
     ]
    },
    {
     "name": "stdout",
     "output_type": "stream",
     "text": [
      "Current Round: 107, Average Loss: 96.9609239490725, Test Loss: 295.9493266287937, Test Accuracy: 12.178709765201459, Best: 12.178709765201459\n"
     ]
    },
    {
     "name": "stderr",
     "output_type": "stream",
     "text": [
      "100%|██████████| 6/6 [00:01<00:00,  3.52it/s]\n"
     ]
    },
    {
     "name": "stdout",
     "output_type": "stream",
     "text": [
      "Current Round: 108, Average Loss: 97.91783974540947, Test Loss: 293.9439759474557, Test Accuracy: 12.127783091094857, Best: 12.127783091094857\n"
     ]
    },
    {
     "name": "stderr",
     "output_type": "stream",
     "text": [
      "100%|██████████| 6/6 [00:01<00:00,  3.54it/s]\n"
     ]
    },
    {
     "name": "stdout",
     "output_type": "stream",
     "text": [
      "Current Round: 109, Average Loss: 95.81631295162242, Test Loss: 292.1916414462226, Test Accuracy: 12.083909943496723, Best: 12.083909943496723\n"
     ]
    },
    {
     "name": "stderr",
     "output_type": "stream",
     "text": [
      "100%|██████████| 6/6 [00:01<00:00,  3.41it/s]\n"
     ]
    },
    {
     "name": "stdout",
     "output_type": "stream",
     "text": [
      "Current Round: 110, Average Loss: 96.01583710419207, Test Loss: 287.91217612810294, Test Accuracy: 11.978532103357706, Best: 11.978532103357706\n"
     ]
    },
    {
     "name": "stderr",
     "output_type": "stream",
     "text": [
      "100%|██████████| 6/6 [00:01<00:00,  3.52it/s]\n"
     ]
    },
    {
     "name": "stdout",
     "output_type": "stream",
     "text": [
      "Current Round: 111, Average Loss: 94.4757232022085, Test Loss: 288.0880522372517, Test Accuracy: 11.982823701596171, Best: 11.978532103357706\n"
     ]
    },
    {
     "name": "stderr",
     "output_type": "stream",
     "text": [
      "100%|██████████| 6/6 [00:01<00:00,  3.41it/s]\n"
     ]
    },
    {
     "name": "stdout",
     "output_type": "stream",
     "text": [
      "Current Round: 112, Average Loss: 93.62987098296976, Test Loss: 285.25365323472255, Test Accuracy: 11.91424757190501, Best: 11.91424757190501\n"
     ]
    },
    {
     "name": "stderr",
     "output_type": "stream",
     "text": [
      "100%|██████████| 6/6 [00:01<00:00,  3.41it/s]\n"
     ]
    },
    {
     "name": "stdout",
     "output_type": "stream",
     "text": [
      "Current Round: 113, Average Loss: 93.56257144251983, Test Loss: 283.83975780713735, Test Accuracy: 11.88001492061875, Best: 11.88001492061875\n"
     ]
    },
    {
     "name": "stderr",
     "output_type": "stream",
     "text": [
      "100%|██████████| 6/6 [00:01<00:00,  3.53it/s]\n"
     ]
    },
    {
     "name": "stdout",
     "output_type": "stream",
     "text": [
      "Current Round: 114, Average Loss: 94.1165218733059, Test Loss: 282.76459536161343, Test Accuracy: 11.853860507667287, Best: 11.853860507667287\n"
     ]
    },
    {
     "name": "stderr",
     "output_type": "stream",
     "text": [
      "100%|██████████| 6/6 [00:01<00:00,  3.35it/s]\n"
     ]
    },
    {
     "name": "stdout",
     "output_type": "stream",
     "text": [
      "Current Round: 115, Average Loss: 93.81949789044087, Test Loss: 282.7615587126459, Test Accuracy: 11.853779373263485, Best: 11.853779373263485\n"
     ]
    },
    {
     "name": "stderr",
     "output_type": "stream",
     "text": [
      "100%|██████████| 6/6 [00:01<00:00,  3.36it/s]\n"
     ]
    },
    {
     "name": "stdout",
     "output_type": "stream",
     "text": [
      "Current Round: 116, Average Loss: 92.17056352999874, Test Loss: 281.0164161413502, Test Accuracy: 11.8115284221323, Best: 11.8115284221323\n"
     ]
    },
    {
     "name": "stderr",
     "output_type": "stream",
     "text": [
      "100%|██████████| 6/6 [00:01<00:00,  3.28it/s]\n"
     ]
    },
    {
     "name": "stdout",
     "output_type": "stream",
     "text": [
      "Current Round: 117, Average Loss: 90.90627867909063, Test Loss: 280.1343339713385, Test Accuracy: 11.790267764709549, Best: 11.790267764709549\n"
     ]
    },
    {
     "name": "stderr",
     "output_type": "stream",
     "text": [
      "100%|██████████| 6/6 [00:01<00:00,  3.38it/s]\n"
     ]
    },
    {
     "name": "stdout",
     "output_type": "stream",
     "text": [
      "Current Round: 118, Average Loss: 90.30525906519307, Test Loss: 278.93560134102455, Test Accuracy: 11.761507970249786, Best: 11.761507970249786\n"
     ]
    },
    {
     "name": "stderr",
     "output_type": "stream",
     "text": [
      "100%|██████████| 6/6 [00:01<00:00,  3.27it/s]\n"
     ]
    },
    {
     "name": "stdout",
     "output_type": "stream",
     "text": [
      "Current Round: 119, Average Loss: 91.43756489032916, Test Loss: 276.73763542340737, Test Accuracy: 11.709159527274018, Best: 11.709159527274018\n"
     ]
    },
    {
     "name": "stderr",
     "output_type": "stream",
     "text": [
      "100%|██████████| 6/6 [00:01<00:00,  3.32it/s]\n"
     ]
    },
    {
     "name": "stdout",
     "output_type": "stream",
     "text": [
      "Current Round: 120, Average Loss: 91.09968547616039, Test Loss: 274.0640744633853, Test Accuracy: 11.64633266633328, Best: 11.64633266633328\n"
     ]
    },
    {
     "name": "stderr",
     "output_type": "stream",
     "text": [
      "100%|██████████| 6/6 [00:01<00:00,  3.71it/s]\n"
     ]
    },
    {
     "name": "stdout",
     "output_type": "stream",
     "text": [
      "Current Round: 121, Average Loss: 89.53256355659913, Test Loss: 273.14259626576967, Test Accuracy: 11.625040085046855, Best: 11.625040085046855\n"
     ]
    },
    {
     "name": "stderr",
     "output_type": "stream",
     "text": [
      "100%|██████████| 6/6 [00:01<00:00,  3.72it/s]\n"
     ]
    },
    {
     "name": "stdout",
     "output_type": "stream",
     "text": [
      "Current Round: 122, Average Loss: 87.1378142019269, Test Loss: 272.4641710685651, Test Accuracy: 11.60943358892845, Best: 11.60943358892845\n"
     ]
    },
    {
     "name": "stderr",
     "output_type": "stream",
     "text": [
      "100%|██████████| 6/6 [00:01<00:00,  3.54it/s]\n"
     ]
    },
    {
     "name": "stdout",
     "output_type": "stream",
     "text": [
      "Current Round: 123, Average Loss: 87.50372389017656, Test Loss: 272.093967592009, Test Accuracy: 11.600922996965336, Best: 11.600922996965336\n"
     ]
    },
    {
     "name": "stderr",
     "output_type": "stream",
     "text": [
      "100%|██████████| 6/6 [00:01<00:00,  3.27it/s]\n"
     ]
    },
    {
     "name": "stdout",
     "output_type": "stream",
     "text": [
      "Current Round: 124, Average Loss: 87.69581579206009, Test Loss: 270.5434891510261, Test Accuracy: 11.565365530153485, Best: 11.565365530153485\n"
     ]
    },
    {
     "name": "stderr",
     "output_type": "stream",
     "text": [
      "100%|██████████| 6/6 [00:01<00:00,  3.33it/s]\n"
     ]
    },
    {
     "name": "stdout",
     "output_type": "stream",
     "text": [
      "Current Round: 125, Average Loss: 87.96080563905171, Test Loss: 269.49377804890804, Test Accuracy: 11.5414407250311, Best: 11.5414407250311\n"
     ]
    },
    {
     "name": "stderr",
     "output_type": "stream",
     "text": [
      "100%|██████████| 6/6 [00:01<00:00,  3.50it/s]\n"
     ]
    },
    {
     "name": "stdout",
     "output_type": "stream",
     "text": [
      "Current Round: 126, Average Loss: 87.49032972955303, Test Loss: 270.0240868486203, Test Accuracy: 11.553435246445137, Best: 11.5414407250311\n"
     ]
    },
    {
     "name": "stderr",
     "output_type": "stream",
     "text": [
      "100%|██████████| 6/6 [00:01<00:00,  3.31it/s]\n"
     ]
    },
    {
     "name": "stdout",
     "output_type": "stream",
     "text": [
      "Current Round: 127, Average Loss: 86.95300901627695, Test Loss: 269.52343764838383, Test Accuracy: 11.542096498435019, Best: 11.5414407250311\n"
     ]
    },
    {
     "name": "stderr",
     "output_type": "stream",
     "text": [
      "100%|██████████| 6/6 [00:01<00:00,  3.61it/s]\n"
     ]
    },
    {
     "name": "stdout",
     "output_type": "stream",
     "text": [
      "Current Round: 128, Average Loss: 87.10683774455316, Test Loss: 267.7000459679662, Test Accuracy: 11.500934310118948, Best: 11.500934310118948\n"
     ]
    },
    {
     "name": "stderr",
     "output_type": "stream",
     "text": [
      "100%|██████████| 6/6 [00:01<00:00,  3.53it/s]\n"
     ]
    },
    {
     "name": "stdout",
     "output_type": "stream",
     "text": [
      "Current Round: 129, Average Loss: 87.08374168781829, Test Loss: 266.2863991244187, Test Accuracy: 11.469478902615874, Best: 11.469478902615874\n"
     ]
    },
    {
     "name": "stderr",
     "output_type": "stream",
     "text": [
      "100%|██████████| 6/6 [00:01<00:00,  3.44it/s]\n"
     ]
    },
    {
     "name": "stdout",
     "output_type": "stream",
     "text": [
      "Current Round: 130, Average Loss: 86.10874828742656, Test Loss: 265.0937913794375, Test Accuracy: 11.442947872213862, Best: 11.442947872213862\n"
     ]
    },
    {
     "name": "stderr",
     "output_type": "stream",
     "text": [
      "100%|██████████| 6/6 [00:01<00:00,  3.46it/s]\n"
     ]
    },
    {
     "name": "stdout",
     "output_type": "stream",
     "text": [
      "Current Round: 131, Average Loss: 86.55798574549873, Test Loss: 265.33593252978415, Test Accuracy: 11.448336283365885, Best: 11.442947872213862\n"
     ]
    },
    {
     "name": "stderr",
     "output_type": "stream",
     "text": [
      "100%|██████████| 6/6 [00:01<00:00,  3.45it/s]\n"
     ]
    },
    {
     "name": "stdout",
     "output_type": "stream",
     "text": [
      "Current Round: 132, Average Loss: 85.49017054071699, Test Loss: 265.83430873939614, Test Accuracy: 11.45941268703456, Best: 11.442947872213862\n"
     ]
    },
    {
     "name": "stderr",
     "output_type": "stream",
     "text": [
      "100%|██████████| 6/6 [00:01<00:00,  3.51it/s]\n"
     ]
    },
    {
     "name": "stdout",
     "output_type": "stream",
     "text": [
      "Current Round: 133, Average Loss: 87.36677151638334, Test Loss: 265.61417475560637, Test Accuracy: 11.454509543663507, Best: 11.442947872213862\n"
     ]
    },
    {
     "name": "stderr",
     "output_type": "stream",
     "text": [
      "100%|██████████| 6/6 [00:01<00:00,  3.40it/s]\n"
     ]
    },
    {
     "name": "stdout",
     "output_type": "stream",
     "text": [
      "Current Round: 134, Average Loss: 84.5333894364545, Test Loss: 265.43275873285523, Test Accuracy: 11.440333745736615, Best: 11.440333745736615\n"
     ]
    },
    {
     "name": "stderr",
     "output_type": "stream",
     "text": [
      "100%|██████████| 6/6 [00:01<00:00,  3.44it/s]\n"
     ]
    },
    {
     "name": "stdout",
     "output_type": "stream",
     "text": [
      "Current Round: 135, Average Loss: 84.08626361699477, Test Loss: 262.69047219142817, Test Accuracy: 11.369578750307824, Best: 11.369578750307824\n"
     ]
    },
    {
     "name": "stderr",
     "output_type": "stream",
     "text": [
      "100%|██████████| 6/6 [00:01<00:00,  3.40it/s]\n"
     ]
    },
    {
     "name": "stdout",
     "output_type": "stream",
     "text": [
      "Current Round: 136, Average Loss: 84.70688204419044, Test Loss: 256.9351278592543, Test Accuracy: 11.231697801025089, Best: 11.231697801025089\n"
     ]
    },
    {
     "name": "stderr",
     "output_type": "stream",
     "text": [
      "100%|██████████| 6/6 [00:01<00:00,  3.41it/s]\n"
     ]
    },
    {
     "name": "stdout",
     "output_type": "stream",
     "text": [
      "Current Round: 137, Average Loss: 83.9350274265905, Test Loss: 254.0166523974502, Test Accuracy: 11.159121616179172, Best: 11.159121616179172\n"
     ]
    },
    {
     "name": "stderr",
     "output_type": "stream",
     "text": [
      "100%|██████████| 6/6 [00:01<00:00,  3.43it/s]\n"
     ]
    },
    {
     "name": "stdout",
     "output_type": "stream",
     "text": [
      "Current Round: 138, Average Loss: 82.78241957240941, Test Loss: 249.519268355682, Test Accuracy: 11.04837074657946, Best: 11.04837074657946\n"
     ]
    },
    {
     "name": "stderr",
     "output_type": "stream",
     "text": [
      "100%|██████████| 6/6 [00:01<00:00,  3.38it/s]\n"
     ]
    },
    {
     "name": "stdout",
     "output_type": "stream",
     "text": [
      "Current Round: 139, Average Loss: 81.94901587862243, Test Loss: 243.727014166438, Test Accuracy: 10.910795029802097, Best: 10.910795029802097\n"
     ]
    },
    {
     "name": "stderr",
     "output_type": "stream",
     "text": [
      "100%|██████████| 6/6 [00:01<00:00,  3.36it/s]\n"
     ]
    },
    {
     "name": "stdout",
     "output_type": "stream",
     "text": [
      "Current Round: 140, Average Loss: 81.80896821455043, Test Loss: 237.87915306057334, Test Accuracy: 10.77345914970691, Best: 10.77345914970691\n"
     ]
    },
    {
     "name": "stderr",
     "output_type": "stream",
     "text": [
      "100%|██████████| 6/6 [00:01<00:00,  3.32it/s]\n"
     ]
    },
    {
     "name": "stdout",
     "output_type": "stream",
     "text": [
      "Current Round: 141, Average Loss: 80.21460457394828, Test Loss: 233.14036608243632, Test Accuracy: 10.660576899550957, Best: 10.660576899550957\n"
     ]
    },
    {
     "name": "stderr",
     "output_type": "stream",
     "text": [
      "100%|██████████| 6/6 [00:01<00:00,  3.40it/s]\n"
     ]
    },
    {
     "name": "stdout",
     "output_type": "stream",
     "text": [
      "Current Round: 142, Average Loss: 80.37284321119358, Test Loss: 227.9289373713863, Test Accuracy: 10.53955566425158, Best: 10.53955566425158\n"
     ]
    },
    {
     "name": "stderr",
     "output_type": "stream",
     "text": [
      "100%|██████████| 6/6 [00:01<00:00,  3.43it/s]\n"
     ]
    },
    {
     "name": "stdout",
     "output_type": "stream",
     "text": [
      "Current Round: 143, Average Loss: 81.52318610089762, Test Loss: 220.59976060498306, Test Accuracy: 10.374689357431405, Best: 10.374689357431405\n"
     ]
    },
    {
     "name": "stderr",
     "output_type": "stream",
     "text": [
      "100%|██████████| 6/6 [00:01<00:00,  3.42it/s]\n"
     ]
    },
    {
     "name": "stdout",
     "output_type": "stream",
     "text": [
      "Current Round: 144, Average Loss: 78.72028064898622, Test Loss: 216.32648970834828, Test Accuracy: 10.276750325861178, Best: 10.276750325861178\n"
     ]
    },
    {
     "name": "stderr",
     "output_type": "stream",
     "text": [
      "100%|██████████| 6/6 [00:01<00:00,  3.35it/s]\n"
     ]
    },
    {
     "name": "stdout",
     "output_type": "stream",
     "text": [
      "Current Round: 145, Average Loss: 79.46318648882243, Test Loss: 212.6134727706364, Test Accuracy: 10.193009744050926, Best: 10.193009744050926\n"
     ]
    },
    {
     "name": "stderr",
     "output_type": "stream",
     "text": [
      "100%|██████████| 6/6 [00:01<00:00,  3.40it/s]\n"
     ]
    },
    {
     "name": "stdout",
     "output_type": "stream",
     "text": [
      "Current Round: 146, Average Loss: 78.62680258822536, Test Loss: 207.14290567711828, Test Accuracy: 10.074062096880567, Best: 10.074062096880567\n"
     ]
    },
    {
     "name": "stderr",
     "output_type": "stream",
     "text": [
      "100%|██████████| 6/6 [00:01<00:00,  3.51it/s]\n"
     ]
    },
    {
     "name": "stdout",
     "output_type": "stream",
     "text": [
      "Current Round: 147, Average Loss: 75.6766760686516, Test Loss: 202.66442424474374, Test Accuracy: 9.97897856474809, Best: 9.97897856474809\n"
     ]
    },
    {
     "name": "stderr",
     "output_type": "stream",
     "text": [
      "100%|██████████| 6/6 [00:01<00:00,  3.49it/s]\n"
     ]
    },
    {
     "name": "stdout",
     "output_type": "stream",
     "text": [
      "Current Round: 148, Average Loss: 77.62364470040451, Test Loss: 198.3741278782801, Test Accuracy: 9.890768367857147, Best: 9.890768367857147\n"
     ]
    },
    {
     "name": "stderr",
     "output_type": "stream",
     "text": [
      "100%|██████████| 6/6 [00:01<00:00,  3.48it/s]\n"
     ]
    },
    {
     "name": "stdout",
     "output_type": "stream",
     "text": [
      "Current Round: 149, Average Loss: 77.91263017111349, Test Loss: 195.45973439009623, Test Accuracy: 9.830498524019413, Best: 9.830498524019413\n"
     ]
    },
    {
     "name": "stderr",
     "output_type": "stream",
     "text": [
      "100%|██████████| 6/6 [00:01<00:00,  3.48it/s]\n"
     ]
    },
    {
     "name": "stdout",
     "output_type": "stream",
     "text": [
      "Current Round: 150, Average Loss: 77.55178790442687, Test Loss: 192.2800398889232, Test Accuracy: 9.769271370794398, Best: 9.769271370794398\n"
     ]
    },
    {
     "name": "stderr",
     "output_type": "stream",
     "text": [
      "100%|██████████| 6/6 [00:01<00:00,  3.37it/s]\n"
     ]
    },
    {
     "name": "stdout",
     "output_type": "stream",
     "text": [
      "Current Round: 151, Average Loss: 77.4172891151877, Test Loss: 189.3450184712138, Test Accuracy: 9.713332132483652, Best: 9.713332132483652\n"
     ]
    },
    {
     "name": "stderr",
     "output_type": "stream",
     "text": [
      "100%|██████████| 6/6 [00:01<00:00,  3.40it/s]\n"
     ]
    },
    {
     "name": "stdout",
     "output_type": "stream",
     "text": [
      "Current Round: 152, Average Loss: 75.53449080794316, Test Loss: 186.5103661134987, Test Accuracy: 9.663231335608046, Best: 9.663231335608046\n"
     ]
    },
    {
     "name": "stderr",
     "output_type": "stream",
     "text": [
      "100%|██████████| 6/6 [00:01<00:00,  3.82it/s]\n"
     ]
    },
    {
     "name": "stdout",
     "output_type": "stream",
     "text": [
      "Current Round: 153, Average Loss: 76.83928517140812, Test Loss: 183.68891149468934, Test Accuracy: 9.613278394885814, Best: 9.613278394885814\n"
     ]
    },
    {
     "name": "stderr",
     "output_type": "stream",
     "text": [
      "100%|██████████| 6/6 [00:01<00:00,  3.42it/s]\n"
     ]
    },
    {
     "name": "stdout",
     "output_type": "stream",
     "text": [
      "Current Round: 154, Average Loss: 75.72949053246703, Test Loss: 181.1159158875194, Test Accuracy: 9.566850900945463, Best: 9.566850900945463\n"
     ]
    },
    {
     "name": "stderr",
     "output_type": "stream",
     "text": [
      "100%|██████████| 6/6 [00:01<00:00,  3.41it/s]\n"
     ]
    },
    {
     "name": "stdout",
     "output_type": "stream",
     "text": [
      "Current Round: 155, Average Loss: 74.77922821587005, Test Loss: 178.698192420666, Test Accuracy: 9.5318032161897, Best: 9.5318032161897\n"
     ]
    },
    {
     "name": "stderr",
     "output_type": "stream",
     "text": [
      "100%|██████████| 6/6 [00:01<00:00,  3.54it/s]\n"
     ]
    },
    {
     "name": "stdout",
     "output_type": "stream",
     "text": [
      "Current Round: 156, Average Loss: 75.92674712364676, Test Loss: 175.34167420557588, Test Accuracy: 9.47410354236097, Best: 9.47410354236097\n"
     ]
    },
    {
     "name": "stderr",
     "output_type": "stream",
     "text": [
      "100%|██████████| 6/6 [00:01<00:00,  3.38it/s]\n"
     ]
    },
    {
     "name": "stdout",
     "output_type": "stream",
     "text": [
      "Current Round: 157, Average Loss: 73.42254683668166, Test Loss: 172.9776205749169, Test Accuracy: 9.453363023873747, Best: 9.453363023873747\n"
     ]
    },
    {
     "name": "stderr",
     "output_type": "stream",
     "text": [
      "100%|██████████| 6/6 [00:01<00:00,  3.31it/s]\n"
     ]
    },
    {
     "name": "stdout",
     "output_type": "stream",
     "text": [
      "Current Round: 158, Average Loss: 72.36875954688836, Test Loss: 171.744398701996, Test Accuracy: 9.42458569456949, Best: 9.42458569456949\n"
     ]
    },
    {
     "name": "stderr",
     "output_type": "stream",
     "text": [
      "100%|██████████| 6/6 [00:01<00:00,  3.37it/s]\n"
     ]
    },
    {
     "name": "stdout",
     "output_type": "stream",
     "text": [
      "Current Round: 159, Average Loss: 72.9824501495971, Test Loss: 169.7513837086353, Test Accuracy: 9.393875774397726, Best: 9.393875774397726\n"
     ]
    },
    {
     "name": "stderr",
     "output_type": "stream",
     "text": [
      "100%|██████████| 6/6 [00:01<00:00,  3.39it/s]\n"
     ]
    },
    {
     "name": "stdout",
     "output_type": "stream",
     "text": [
      "Current Round: 160, Average Loss: 72.78624534536299, Test Loss: 166.9888349337575, Test Accuracy: 9.358906647825181, Best: 9.358906647825181\n"
     ]
    },
    {
     "name": "stderr",
     "output_type": "stream",
     "text": [
      "100%|██████████| 6/6 [00:01<00:00,  3.39it/s]\n"
     ]
    },
    {
     "name": "stdout",
     "output_type": "stream",
     "text": [
      "Current Round: 161, Average Loss: 74.39767028760758, Test Loss: 165.88838064628092, Test Accuracy: 9.353746227467665, Best: 9.353746227467665\n"
     ]
    },
    {
     "name": "stderr",
     "output_type": "stream",
     "text": [
      "100%|██████████| 6/6 [00:01<00:00,  3.43it/s]\n"
     ]
    },
    {
     "name": "stdout",
     "output_type": "stream",
     "text": [
      "Current Round: 162, Average Loss: 72.7199003266388, Test Loss: 163.9530923569845, Test Accuracy: 9.31248090287862, Best: 9.31248090287862\n"
     ]
    },
    {
     "name": "stderr",
     "output_type": "stream",
     "text": [
      "100%|██████████| 6/6 [00:01<00:00,  3.42it/s]\n"
     ]
    },
    {
     "name": "stdout",
     "output_type": "stream",
     "text": [
      "Current Round: 163, Average Loss: 71.31935617728915, Test Loss: 162.75953338028404, Test Accuracy: 9.305466019678883, Best: 9.305466019678883\n"
     ]
    },
    {
     "name": "stderr",
     "output_type": "stream",
     "text": [
      "100%|██████████| 6/6 [00:01<00:00,  3.44it/s]\n"
     ]
    },
    {
     "name": "stdout",
     "output_type": "stream",
     "text": [
      "Current Round: 164, Average Loss: 72.5204917084535, Test Loss: 160.75504694474674, Test Accuracy: 9.28750934624465, Best: 9.28750934624465\n"
     ]
    },
    {
     "name": "stderr",
     "output_type": "stream",
     "text": [
      "100%|██████████| 6/6 [00:01<00:00,  3.41it/s]\n"
     ]
    },
    {
     "name": "stdout",
     "output_type": "stream",
     "text": [
      "Current Round: 165, Average Loss: 72.56185617219553, Test Loss: 159.16063785936586, Test Accuracy: 9.273463975984368, Best: 9.273463975984368\n"
     ]
    },
    {
     "name": "stderr",
     "output_type": "stream",
     "text": [
      "100%|██████████| 6/6 [00:01<00:00,  3.40it/s]\n"
     ]
    },
    {
     "name": "stdout",
     "output_type": "stream",
     "text": [
      "Current Round: 166, Average Loss: 71.11622775407538, Test Loss: 157.95664192574523, Test Accuracy: 9.269690725144548, Best: 9.269690725144548\n"
     ]
    },
    {
     "name": "stderr",
     "output_type": "stream",
     "text": [
      "100%|██████████| 6/6 [00:01<00:00,  3.41it/s]\n"
     ]
    },
    {
     "name": "stdout",
     "output_type": "stream",
     "text": [
      "Current Round: 167, Average Loss: 71.3153315100342, Test Loss: 157.01654324315885, Test Accuracy: 9.262068331315467, Best: 9.262068331315467\n"
     ]
    },
    {
     "name": "stderr",
     "output_type": "stream",
     "text": [
      "100%|██████████| 6/6 [00:01<00:00,  3.49it/s]\n"
     ]
    },
    {
     "name": "stdout",
     "output_type": "stream",
     "text": [
      "Current Round: 168, Average Loss: 70.59310976854776, Test Loss: 155.32004709240474, Test Accuracy: 9.252511068199942, Best: 9.252511068199942\n"
     ]
    },
    {
     "name": "stderr",
     "output_type": "stream",
     "text": [
      "100%|██████████| 6/6 [00:01<00:00,  3.30it/s]\n"
     ]
    },
    {
     "name": "stdout",
     "output_type": "stream",
     "text": [
      "Current Round: 169, Average Loss: 70.97058827669738, Test Loss: 154.60899448708216, Test Accuracy: 9.212308082438756, Best: 9.212308082438756\n"
     ]
    },
    {
     "name": "stderr",
     "output_type": "stream",
     "text": [
      "100%|██████████| 6/6 [00:01<00:00,  3.33it/s]\n"
     ]
    },
    {
     "name": "stdout",
     "output_type": "stream",
     "text": [
      "Current Round: 170, Average Loss: 70.15093143643041, Test Loss: 153.9569839612665, Test Accuracy: 9.194674715233559, Best: 9.194674715233559\n"
     ]
    },
    {
     "name": "stderr",
     "output_type": "stream",
     "text": [
      "100%|██████████| 6/6 [00:01<00:00,  3.34it/s]\n"
     ]
    },
    {
     "name": "stdout",
     "output_type": "stream",
     "text": [
      "Current Round: 171, Average Loss: 69.43731668863775, Test Loss: 153.4649021565231, Test Accuracy: 9.20164689698627, Best: 9.194674715233559\n"
     ]
    },
    {
     "name": "stderr",
     "output_type": "stream",
     "text": [
      "100%|██████████| 6/6 [00:01<00:00,  3.30it/s]\n"
     ]
    },
    {
     "name": "stdout",
     "output_type": "stream",
     "text": [
      "Current Round: 172, Average Loss: 69.84025412997512, Test Loss: 153.00326014456226, Test Accuracy: 9.223640508072675, Best: 9.194674715233559\n"
     ]
    },
    {
     "name": "stderr",
     "output_type": "stream",
     "text": [
      "100%|██████████| 6/6 [00:01<00:00,  3.37it/s]\n"
     ]
    },
    {
     "name": "stdout",
     "output_type": "stream",
     "text": [
      "Current Round: 173, Average Loss: 69.83181023995245, Test Loss: 151.86492964134192, Test Accuracy: 9.244115132233762, Best: 9.194674715233559\n"
     ]
    },
    {
     "name": "stderr",
     "output_type": "stream",
     "text": [
      "100%|██████████| 6/6 [00:01<00:00,  3.29it/s]\n"
     ]
    },
    {
     "name": "stdout",
     "output_type": "stream",
     "text": [
      "Current Round: 174, Average Loss: 69.46440079384014, Test Loss: 151.39012823797893, Test Accuracy: 9.238494830503782, Best: 9.194674715233559\n"
     ]
    },
    {
     "name": "stderr",
     "output_type": "stream",
     "text": [
      "100%|██████████| 6/6 [00:01<00:00,  3.56it/s]\n"
     ]
    },
    {
     "name": "stdout",
     "output_type": "stream",
     "text": [
      "Current Round: 175, Average Loss: 70.51015360788716, Test Loss: 150.18814785065777, Test Accuracy: 9.196568201908836, Best: 9.194674715233559\n"
     ]
    },
    {
     "name": "stderr",
     "output_type": "stream",
     "text": [
      "100%|██████████| 6/6 [00:01<00:00,  3.35it/s]\n"
     ]
    },
    {
     "name": "stdout",
     "output_type": "stream",
     "text": [
      "Current Round: 176, Average Loss: 68.97716492188607, Test Loss: 148.80807080352506, Test Accuracy: 9.148656273124534, Best: 9.148656273124534\n"
     ]
    },
    {
     "name": "stderr",
     "output_type": "stream",
     "text": [
      "100%|██████████| 6/6 [00:01<00:00,  3.54it/s]\n"
     ]
    },
    {
     "name": "stdout",
     "output_type": "stream",
     "text": [
      "Current Round: 177, Average Loss: 70.15733470472568, Test Loss: 148.6518461669725, Test Accuracy: 9.153810434920489, Best: 9.148656273124534\n"
     ]
    },
    {
     "name": "stderr",
     "output_type": "stream",
     "text": [
      "100%|██████████| 6/6 [00:01<00:00,  3.52it/s]\n"
     ]
    },
    {
     "name": "stdout",
     "output_type": "stream",
     "text": [
      "Current Round: 178, Average Loss: 68.36283911156625, Test Loss: 147.72394062806256, Test Accuracy: 9.132016244578686, Best: 9.132016244578686\n"
     ]
    },
    {
     "name": "stderr",
     "output_type": "stream",
     "text": [
      "100%|██████████| 6/6 [00:01<00:00,  3.47it/s]\n"
     ]
    },
    {
     "name": "stdout",
     "output_type": "stream",
     "text": [
      "Current Round: 179, Average Loss: 67.62334874373782, Test Loss: 147.19177096212903, Test Accuracy: 9.173569070657685, Best: 9.132016244578686\n"
     ]
    },
    {
     "name": "stderr",
     "output_type": "stream",
     "text": [
      "100%|██████████| 6/6 [00:01<00:00,  3.35it/s]\n"
     ]
    },
    {
     "name": "stdout",
     "output_type": "stream",
     "text": [
      "Current Round: 180, Average Loss: 66.97120482070363, Test Loss: 146.3845586380754, Test Accuracy: 9.170016566469176, Best: 9.132016244578686\n"
     ]
    },
    {
     "name": "stderr",
     "output_type": "stream",
     "text": [
      "100%|██████████| 6/6 [00:01<00:00,  3.47it/s]\n"
     ]
    },
    {
     "name": "stdout",
     "output_type": "stream",
     "text": [
      "Current Round: 181, Average Loss: 67.3969671941418, Test Loss: 145.34237277266354, Test Accuracy: 9.130472944276189, Best: 9.130472944276189\n"
     ]
    },
    {
     "name": "stderr",
     "output_type": "stream",
     "text": [
      "100%|██████████| 6/6 [00:01<00:00,  3.52it/s]\n"
     ]
    },
    {
     "name": "stdout",
     "output_type": "stream",
     "text": [
      "Current Round: 182, Average Loss: 68.7315616104349, Test Loss: 144.60919026691406, Test Accuracy: 9.097992061534631, Best: 9.097992061534631\n"
     ]
    },
    {
     "name": "stderr",
     "output_type": "stream",
     "text": [
      "100%|██████████| 6/6 [00:01<00:00,  3.51it/s]\n"
     ]
    },
    {
     "name": "stdout",
     "output_type": "stream",
     "text": [
      "Current Round: 183, Average Loss: 68.78216345625277, Test Loss: 144.47662280177724, Test Accuracy: 9.094588651976178, Best: 9.094588651976178\n"
     ]
    },
    {
     "name": "stderr",
     "output_type": "stream",
     "text": [
      "100%|██████████| 6/6 [00:01<00:00,  3.51it/s]\n"
     ]
    },
    {
     "name": "stdout",
     "output_type": "stream",
     "text": [
      "Current Round: 184, Average Loss: 67.50961953505875, Test Loss: 143.91137156544121, Test Accuracy: 9.07731858859718, Best: 9.07731858859718\n"
     ]
    },
    {
     "name": "stderr",
     "output_type": "stream",
     "text": [
      "100%|██████████| 6/6 [00:01<00:00,  3.52it/s]\n"
     ]
    },
    {
     "name": "stdout",
     "output_type": "stream",
     "text": [
      "Current Round: 185, Average Loss: 67.02699561514638, Test Loss: 143.31968215823662, Test Accuracy: 9.051723376230385, Best: 9.051723376230385\n"
     ]
    },
    {
     "name": "stderr",
     "output_type": "stream",
     "text": [
      "100%|██████████| 6/6 [00:01<00:00,  3.43it/s]\n"
     ]
    },
    {
     "name": "stdout",
     "output_type": "stream",
     "text": [
      "Current Round: 186, Average Loss: 67.89481595575407, Test Loss: 143.32482695152066, Test Accuracy: 9.075297437192782, Best: 9.051723376230385\n"
     ]
    },
    {
     "name": "stderr",
     "output_type": "stream",
     "text": [
      "100%|██████████| 6/6 [00:01<00:00,  3.40it/s]\n"
     ]
    },
    {
     "name": "stdout",
     "output_type": "stream",
     "text": [
      "Current Round: 187, Average Loss: 66.59535173665431, Test Loss: 143.24402994094729, Test Accuracy: 9.089303762348463, Best: 9.051723376230385\n"
     ]
    },
    {
     "name": "stderr",
     "output_type": "stream",
     "text": [
      "100%|██████████| 6/6 [00:01<00:00,  3.71it/s]\n"
     ]
    },
    {
     "name": "stdout",
     "output_type": "stream",
     "text": [
      "Current Round: 188, Average Loss: 65.13139191445231, Test Loss: 142.85642838489167, Test Accuracy: 9.075434624484037, Best: 9.051723376230385\n"
     ]
    },
    {
     "name": "stderr",
     "output_type": "stream",
     "text": [
      "100%|██████████| 6/6 [00:01<00:00,  3.39it/s]\n"
     ]
    },
    {
     "name": "stdout",
     "output_type": "stream",
     "text": [
      "Current Round: 189, Average Loss: 66.81749968366451, Test Loss: 142.61896009512404, Test Accuracy: 9.062251992680622, Best: 9.051723376230385\n"
     ]
    },
    {
     "name": "stderr",
     "output_type": "stream",
     "text": [
      "100%|██████████| 6/6 [00:01<00:00,  3.31it/s]\n"
     ]
    },
    {
     "name": "stdout",
     "output_type": "stream",
     "text": [
      "Current Round: 190, Average Loss: 67.99808540534133, Test Loss: 142.4986100907748, Test Accuracy: 9.058623856328234, Best: 9.051723376230385\n"
     ]
    },
    {
     "name": "stderr",
     "output_type": "stream",
     "text": [
      "100%|██████████| 6/6 [00:01<00:00,  3.46it/s]\n"
     ]
    },
    {
     "name": "stdout",
     "output_type": "stream",
     "text": [
      "Current Round: 191, Average Loss: 66.61624469194626, Test Loss: 142.535098831062, Test Accuracy: 9.0545951507644, Best: 9.051723376230385\n"
     ]
    },
    {
     "name": "stderr",
     "output_type": "stream",
     "text": [
      "100%|██████████| 6/6 [00:01<00:00,  3.43it/s]\n"
     ]
    },
    {
     "name": "stdout",
     "output_type": "stream",
     "text": [
      "Current Round: 192, Average Loss: 65.87298335019791, Test Loss: 141.8963827677671, Test Accuracy: 9.031386107169414, Best: 9.031386107169414\n"
     ]
    },
    {
     "name": "stderr",
     "output_type": "stream",
     "text": [
      "100%|██████████| 6/6 [00:01<00:00,  3.41it/s]\n"
     ]
    },
    {
     "name": "stdout",
     "output_type": "stream",
     "text": [
      "Current Round: 193, Average Loss: 67.1413795619164, Test Loss: 141.85539358094925, Test Accuracy: 9.031195986817465, Best: 9.031195986817465\n"
     ]
    },
    {
     "name": "stderr",
     "output_type": "stream",
     "text": [
      "100%|██████████| 6/6 [00:01<00:00,  3.58it/s]\n"
     ]
    },
    {
     "name": "stdout",
     "output_type": "stream",
     "text": [
      "Current Round: 194, Average Loss: 65.73665468689823, Test Loss: 141.06462819337304, Test Accuracy: 9.017746049675356, Best: 9.017746049675356\n"
     ]
    },
    {
     "name": "stderr",
     "output_type": "stream",
     "text": [
      "100%|██████████| 6/6 [00:01<00:00,  3.50it/s]\n"
     ]
    },
    {
     "name": "stdout",
     "output_type": "stream",
     "text": [
      "Current Round: 195, Average Loss: 66.17617488265515, Test Loss: 140.86614697769772, Test Accuracy: 9.028312907638455, Best: 9.017746049675356\n"
     ]
    },
    {
     "name": "stderr",
     "output_type": "stream",
     "text": [
      "100%|██████████| 6/6 [00:01<00:00,  3.45it/s]\n"
     ]
    },
    {
     "name": "stdout",
     "output_type": "stream",
     "text": [
      "Current Round: 196, Average Loss: 67.0797580419632, Test Loss: 140.57868379994747, Test Accuracy: 9.02250259427776, Best: 9.017746049675356\n"
     ]
    },
    {
     "name": "stderr",
     "output_type": "stream",
     "text": [
      "100%|██████████| 6/6 [00:01<00:00,  3.55it/s]\n"
     ]
    },
    {
     "name": "stdout",
     "output_type": "stream",
     "text": [
      "Current Round: 197, Average Loss: 65.19201984158458, Test Loss: 140.55446725311924, Test Accuracy: 9.01732950316929, Best: 9.01732950316929\n"
     ]
    },
    {
     "name": "stderr",
     "output_type": "stream",
     "text": [
      "100%|██████████| 6/6 [00:01<00:00,  3.54it/s]\n"
     ]
    },
    {
     "name": "stdout",
     "output_type": "stream",
     "text": [
      "Current Round: 198, Average Loss: 65.54639231187836, Test Loss: 140.38372105199386, Test Accuracy: 9.013267401278092, Best: 9.013267401278092\n"
     ]
    },
    {
     "name": "stderr",
     "output_type": "stream",
     "text": [
      "100%|██████████| 6/6 [00:01<00:00,  3.47it/s]\n"
     ]
    },
    {
     "name": "stdout",
     "output_type": "stream",
     "text": [
      "Current Round: 199, Average Loss: 66.00860911965026, Test Loss: 140.00199731013737, Test Accuracy: 9.010349940190086, Best: 9.010349940190086\n"
     ]
    },
    {
     "name": "stderr",
     "output_type": "stream",
     "text": [
      "100%|██████████| 6/6 [00:01<00:00,  3.47it/s]\n"
     ]
    },
    {
     "name": "stdout",
     "output_type": "stream",
     "text": [
      "Current Round: 200, Average Loss: 64.61338197086015, Test Loss: 139.8133334794683, Test Accuracy: 8.998268758497273, Best: 8.998268758497273\n",
      "Training Done!\n",
      "Best Accuracy: 8.998268758497273\n",
      "Total time taken to Train: 426.04445338249207\n",
      "Name is taken...trying again...\n",
      "Name is taken...trying again...\n",
      "Name is taken...trying again...\n",
      "Name is taken...trying again...\n"
     ]
    },
    {
     "name": "stderr",
     "output_type": "stream",
     "text": [
      "100%|██████████| 6/6 [00:01<00:00,  3.42it/s]\n"
     ]
    },
    {
     "name": "stdout",
     "output_type": "stream",
     "text": [
      "Current Round: 1, Average Loss: 1278.6659256839318, Test Loss: 5104.2962557238425, Test Accuracy: 70.11494235448825, Best: 70.11494235448825\n"
     ]
    },
    {
     "name": "stderr",
     "output_type": "stream",
     "text": [
      "100%|██████████| 6/6 [00:01<00:00,  3.47it/s]\n"
     ]
    },
    {
     "name": "stdout",
     "output_type": "stream",
     "text": [
      "Current Round: 2, Average Loss: 901.8237247767323, Test Loss: 4680.239250854341, Test Accuracy: 66.96474414716718, Best: 66.96474414716718\n"
     ]
    },
    {
     "name": "stderr",
     "output_type": "stream",
     "text": [
      "100%|██████████| 6/6 [00:01<00:00,  3.49it/s]\n"
     ]
    },
    {
     "name": "stdout",
     "output_type": "stream",
     "text": [
      "Current Round: 3, Average Loss: 697.0040319510296, Test Loss: 4135.895857838154, Test Accuracy: 62.72896340995325, Best: 62.72896340995325\n"
     ]
    },
    {
     "name": "stderr",
     "output_type": "stream",
     "text": [
      "100%|██████████| 6/6 [00:01<00:00,  3.42it/s]\n"
     ]
    },
    {
     "name": "stdout",
     "output_type": "stream",
     "text": [
      "Current Round: 4, Average Loss: 531.3533839365988, Test Loss: 3544.315217766177, Test Accuracy: 57.84809355044454, Best: 57.84809355044454\n"
     ]
    },
    {
     "name": "stderr",
     "output_type": "stream",
     "text": [
      "100%|██████████| 6/6 [00:01<00:00,  3.42it/s]\n"
     ]
    },
    {
     "name": "stdout",
     "output_type": "stream",
     "text": [
      "Current Round: 5, Average Loss: 432.934171998601, Test Loss: 2972.1252222072976, Test Accuracy: 52.72252862072345, Best: 52.72252862072345\n"
     ]
    },
    {
     "name": "stderr",
     "output_type": "stream",
     "text": [
      "100%|██████████| 6/6 [00:01<00:00,  3.44it/s]\n"
     ]
    },
    {
     "name": "stdout",
     "output_type": "stream",
     "text": [
      "Current Round: 6, Average Loss: 356.69543138903265, Test Loss: 2458.176021306488, Test Accuracy: 47.65145868823726, Best: 47.65145868823726\n"
     ]
    },
    {
     "name": "stderr",
     "output_type": "stream",
     "text": [
      "100%|██████████| 6/6 [00:01<00:00,  3.51it/s]\n"
     ]
    },
    {
     "name": "stdout",
     "output_type": "stream",
     "text": [
      "Current Round: 7, Average Loss: 303.79126966796304, Test Loss: 2009.3354784883975, Test Accuracy: 42.73345489927384, Best: 42.73345489927384\n"
     ]
    },
    {
     "name": "stderr",
     "output_type": "stream",
     "text": [
      "100%|██████████| 6/6 [00:01<00:00,  3.50it/s]\n"
     ]
    },
    {
     "name": "stdout",
     "output_type": "stream",
     "text": [
      "Current Round: 8, Average Loss: 266.54807634052696, Test Loss: 1638.3985181238868, Test Accuracy: 38.19713975653477, Best: 38.19713975653477\n"
     ]
    },
    {
     "name": "stderr",
     "output_type": "stream",
     "text": [
      "100%|██████████| 6/6 [00:01<00:00,  3.37it/s]\n"
     ]
    },
    {
     "name": "stdout",
     "output_type": "stream",
     "text": [
      "Current Round: 9, Average Loss: 239.09957187248358, Test Loss: 1309.5269429373475, Test Accuracy: 33.70798940552211, Best: 33.70798940552211\n"
     ]
    },
    {
     "name": "stderr",
     "output_type": "stream",
     "text": [
      "100%|██████████| 6/6 [00:01<00:00,  3.41it/s]\n"
     ]
    },
    {
     "name": "stdout",
     "output_type": "stream",
     "text": [
      "Current Round: 10, Average Loss: 219.69043647748504, Test Loss: 1038.0506605883365, Test Accuracy: 29.525562588905608, Best: 29.525562588905608\n"
     ]
    },
    {
     "name": "stderr",
     "output_type": "stream",
     "text": [
      "100%|██████████| 6/6 [00:01<00:00,  3.43it/s]\n"
     ]
    },
    {
     "name": "stdout",
     "output_type": "stream",
     "text": [
      "Current Round: 11, Average Loss: 207.29871720309688, Test Loss: 818.9549849922624, Test Accuracy: 25.677089721887675, Best: 25.677089721887675\n"
     ]
    },
    {
     "name": "stderr",
     "output_type": "stream",
     "text": [
      "100%|██████████| 6/6 [00:01<00:00,  3.49it/s]\n"
     ]
    },
    {
     "name": "stdout",
     "output_type": "stream",
     "text": [
      "Current Round: 12, Average Loss: 196.87959632016714, Test Loss: 661.6010194397918, Test Accuracy: 22.54190816489294, Best: 22.54190816489294\n"
     ]
    },
    {
     "name": "stderr",
     "output_type": "stream",
     "text": [
      "100%|██████████| 6/6 [00:01<00:00,  3.42it/s]\n"
     ]
    },
    {
     "name": "stdout",
     "output_type": "stream",
     "text": [
      "Current Round: 13, Average Loss: 186.42617662300893, Test Loss: 531.0559524597584, Test Accuracy: 19.633207505520392, Best: 19.633207505520392\n"
     ]
    },
    {
     "name": "stderr",
     "output_type": "stream",
     "text": [
      "100%|██████████| 6/6 [00:01<00:00,  3.50it/s]\n"
     ]
    },
    {
     "name": "stdout",
     "output_type": "stream",
     "text": [
      "Current Round: 14, Average Loss: 179.3591937837447, Test Loss: 443.76929663370976, Test Accuracy: 17.480162638270723, Best: 17.480162638270723\n"
     ]
    },
    {
     "name": "stderr",
     "output_type": "stream",
     "text": [
      "100%|██████████| 6/6 [00:01<00:00,  3.46it/s]\n"
     ]
    },
    {
     "name": "stdout",
     "output_type": "stream",
     "text": [
      "Current Round: 15, Average Loss: 175.98040585611844, Test Loss: 375.5625055704861, Test Accuracy: 15.69430882809626, Best: 15.69430882809626\n"
     ]
    },
    {
     "name": "stderr",
     "output_type": "stream",
     "text": [
      "100%|██████████| 6/6 [00:01<00:00,  3.46it/s]\n"
     ]
    },
    {
     "name": "stdout",
     "output_type": "stream",
     "text": [
      "Current Round: 16, Average Loss: 171.66742758391499, Test Loss: 204.2298607490172, Test Accuracy: 11.505899197697786, Best: 11.505899197697786\n"
     ]
    },
    {
     "name": "stderr",
     "output_type": "stream",
     "text": [
      "100%|██████████| 6/6 [00:01<00:00,  3.37it/s]\n"
     ]
    },
    {
     "name": "stdout",
     "output_type": "stream",
     "text": [
      "Current Round: 17, Average Loss: 163.19833055001834, Test Loss: 200.52590983677678, Test Accuracy: 11.315901128776012, Best: 11.315901128776012\n"
     ]
    },
    {
     "name": "stderr",
     "output_type": "stream",
     "text": [
      "100%|██████████| 6/6 [00:01<00:00,  3.43it/s]\n"
     ]
    },
    {
     "name": "stdout",
     "output_type": "stream",
     "text": [
      "Current Round: 18, Average Loss: 160.02972341986649, Test Loss: 194.7922341662564, Test Accuracy: 11.068666933194413, Best: 11.068666933194413\n"
     ]
    },
    {
     "name": "stderr",
     "output_type": "stream",
     "text": [
      "100%|██████████| 6/6 [00:01<00:00,  3.41it/s]\n"
     ]
    },
    {
     "name": "stdout",
     "output_type": "stream",
     "text": [
      "Current Round: 19, Average Loss: 157.2219275135105, Test Loss: 191.72849443215125, Test Accuracy: 10.918075218815195, Best: 10.918075218815195\n"
     ]
    },
    {
     "name": "stderr",
     "output_type": "stream",
     "text": [
      "100%|██████████| 6/6 [00:01<00:00,  3.55it/s]\n"
     ]
    },
    {
     "name": "stdout",
     "output_type": "stream",
     "text": [
      "Current Round: 20, Average Loss: 159.8505440634178, Test Loss: 188.37602715227925, Test Accuracy: 10.7592069632945, Best: 10.7592069632945\n"
     ]
    },
    {
     "name": "stderr",
     "output_type": "stream",
     "text": [
      "100%|██████████| 6/6 [00:01<00:00,  3.59it/s]\n"
     ]
    },
    {
     "name": "stdout",
     "output_type": "stream",
     "text": [
      "Current Round: 21, Average Loss: 153.64718292514138, Test Loss: 187.56147057307328, Test Accuracy: 10.695612674604414, Best: 10.695612674604414\n"
     ]
    },
    {
     "name": "stderr",
     "output_type": "stream",
     "text": [
      "100%|██████████| 6/6 [00:01<00:00,  3.48it/s]\n"
     ]
    },
    {
     "name": "stdout",
     "output_type": "stream",
     "text": [
      "Current Round: 22, Average Loss: 153.32788018758458, Test Loss: 185.08387016618562, Test Accuracy: 10.591033817371619, Best: 10.591033817371619\n"
     ]
    },
    {
     "name": "stderr",
     "output_type": "stream",
     "text": [
      "100%|██████████| 6/6 [00:01<00:00,  3.43it/s]\n"
     ]
    },
    {
     "name": "stdout",
     "output_type": "stream",
     "text": [
      "Current Round: 23, Average Loss: 152.16254504607107, Test Loss: 182.5367804716954, Test Accuracy: 10.485043697049923, Best: 10.485043697049923\n"
     ]
    },
    {
     "name": "stderr",
     "output_type": "stream",
     "text": [
      "100%|██████████| 6/6 [00:01<00:00,  3.41it/s]\n"
     ]
    },
    {
     "name": "stdout",
     "output_type": "stream",
     "text": [
      "Current Round: 24, Average Loss: 148.12329264174681, Test Loss: 182.73440316866055, Test Accuracy: 10.460678263667791, Best: 10.460678263667791\n"
     ]
    },
    {
     "name": "stderr",
     "output_type": "stream",
     "text": [
      "100%|██████████| 6/6 [00:01<00:00,  3.44it/s]\n"
     ]
    },
    {
     "name": "stdout",
     "output_type": "stream",
     "text": [
      "Current Round: 25, Average Loss: 146.56287438806729, Test Loss: 181.59531408969355, Test Accuracy: 10.403679286384818, Best: 10.403679286384818\n"
     ]
    },
    {
     "name": "stderr",
     "output_type": "stream",
     "text": [
      "100%|██████████| 6/6 [00:01<00:00,  3.40it/s]\n"
     ]
    },
    {
     "name": "stdout",
     "output_type": "stream",
     "text": [
      "Current Round: 26, Average Loss: 145.4364334254681, Test Loss: 180.69747348928357, Test Accuracy: 10.357064950274122, Best: 10.357064950274122\n"
     ]
    },
    {
     "name": "stderr",
     "output_type": "stream",
     "text": [
      "100%|██████████| 6/6 [00:01<00:00,  3.44it/s]\n"
     ]
    },
    {
     "name": "stdout",
     "output_type": "stream",
     "text": [
      "Current Round: 27, Average Loss: 143.07945233572775, Test Loss: 180.35119871926278, Test Accuracy: 10.325010138964268, Best: 10.325010138964268\n"
     ]
    },
    {
     "name": "stderr",
     "output_type": "stream",
     "text": [
      "100%|██████████| 6/6 [00:01<00:00,  3.44it/s]\n"
     ]
    },
    {
     "name": "stdout",
     "output_type": "stream",
     "text": [
      "Current Round: 28, Average Loss: 138.47505532451711, Test Loss: 178.72227822704866, Test Accuracy: 10.266091643360616, Best: 10.266091643360616\n"
     ]
    },
    {
     "name": "stderr",
     "output_type": "stream",
     "text": [
      "100%|██████████| 6/6 [00:01<00:00,  3.55it/s]\n"
     ]
    },
    {
     "name": "stdout",
     "output_type": "stream",
     "text": [
      "Current Round: 29, Average Loss: 141.6760986862193, Test Loss: 178.1572644521091, Test Accuracy: 10.238471436530093, Best: 10.238471436530093\n"
     ]
    },
    {
     "name": "stderr",
     "output_type": "stream",
     "text": [
      "100%|██████████| 6/6 [00:01<00:00,  3.42it/s]\n"
     ]
    },
    {
     "name": "stdout",
     "output_type": "stream",
     "text": [
      "Current Round: 30, Average Loss: 136.73227751023418, Test Loss: 180.12724301957581, Test Accuracy: 10.29103748269536, Best: 10.238471436530093\n"
     ]
    },
    {
     "name": "stderr",
     "output_type": "stream",
     "text": [
      "100%|██████████| 6/6 [00:01<00:00,  3.38it/s]\n"
     ]
    },
    {
     "name": "stdout",
     "output_type": "stream",
     "text": [
      "Current Round: 31, Average Loss: 135.183064445268, Test Loss: 180.06813265266914, Test Accuracy: 10.277072537787342, Best: 10.238471436530093\n"
     ]
    },
    {
     "name": "stderr",
     "output_type": "stream",
     "text": [
      "100%|██████████| 6/6 [00:01<00:00,  3.32it/s]\n"
     ]
    },
    {
     "name": "stdout",
     "output_type": "stream",
     "text": [
      "Current Round: 32, Average Loss: 134.87946068000346, Test Loss: 181.36028691317628, Test Accuracy: 10.308034230342141, Best: 10.238471436530093\n"
     ]
    },
    {
     "name": "stderr",
     "output_type": "stream",
     "text": [
      "100%|██████████| 6/6 [00:01<00:00,  3.29it/s]\n"
     ]
    },
    {
     "name": "stdout",
     "output_type": "stream",
     "text": [
      "Current Round: 33, Average Loss: 133.06434625328876, Test Loss: 183.3028225580131, Test Accuracy: 10.361182778889066, Best: 10.238471436530093\n"
     ]
    },
    {
     "name": "stderr",
     "output_type": "stream",
     "text": [
      "100%|██████████| 6/6 [00:01<00:00,  3.35it/s]\n"
     ]
    },
    {
     "name": "stdout",
     "output_type": "stream",
     "text": [
      "Current Round: 34, Average Loss: 133.331320102704, Test Loss: 182.64223241070204, Test Accuracy: 10.33475939905481, Best: 10.238471436530093\n"
     ]
    },
    {
     "name": "stderr",
     "output_type": "stream",
     "text": [
      "100%|██████████| 6/6 [00:01<00:00,  3.49it/s]\n"
     ]
    },
    {
     "name": "stdout",
     "output_type": "stream",
     "text": [
      "Current Round: 35, Average Loss: 129.48513122023473, Test Loss: 183.24169080007402, Test Accuracy: 10.343797920066333, Best: 10.238471436530093\n"
     ]
    },
    {
     "name": "stderr",
     "output_type": "stream",
     "text": [
      "100%|██████████| 6/6 [00:01<00:00,  3.33it/s]\n"
     ]
    },
    {
     "name": "stdout",
     "output_type": "stream",
     "text": [
      "Current Round: 36, Average Loss: 130.1580868145479, Test Loss: 185.4390103257454, Test Accuracy: 10.39859878558947, Best: 10.238471436530093\n"
     ]
    },
    {
     "name": "stderr",
     "output_type": "stream",
     "text": [
      "100%|██████████| 6/6 [00:01<00:00,  3.38it/s]\n"
     ]
    },
    {
     "name": "stdout",
     "output_type": "stream",
     "text": [
      "Current Round: 37, Average Loss: 128.3778949089413, Test Loss: 181.5400445664387, Test Accuracy: 10.230567591784169, Best: 10.230567591784169\n"
     ]
    },
    {
     "name": "stderr",
     "output_type": "stream",
     "text": [
      "100%|██████████| 6/6 [00:01<00:00,  3.37it/s]\n"
     ]
    },
    {
     "name": "stdout",
     "output_type": "stream",
     "text": [
      "Current Round: 38, Average Loss: 125.9893556970431, Test Loss: 176.20211459643207, Test Accuracy: 9.985320513133223, Best: 9.985320513133223\n"
     ]
    },
    {
     "name": "stderr",
     "output_type": "stream",
     "text": [
      "100%|██████████| 6/6 [00:01<00:00,  3.39it/s]\n"
     ]
    },
    {
     "name": "stdout",
     "output_type": "stream",
     "text": [
      "Current Round: 39, Average Loss: 120.00824740847331, Test Loss: 174.18150876853915, Test Accuracy: 9.78883921021718, Best: 9.78883921021718\n"
     ]
    },
    {
     "name": "stderr",
     "output_type": "stream",
     "text": [
      "100%|██████████| 6/6 [00:01<00:00,  3.53it/s]\n"
     ]
    },
    {
     "name": "stdout",
     "output_type": "stream",
     "text": [
      "Current Round: 40, Average Loss: 118.53538084115571, Test Loss: 175.90879236251033, Test Accuracy: 9.671776392202839, Best: 9.671776392202839\n"
     ]
    },
    {
     "name": "stderr",
     "output_type": "stream",
     "text": [
      "100%|██████████| 6/6 [00:01<00:00,  3.47it/s]\n"
     ]
    },
    {
     "name": "stdout",
     "output_type": "stream",
     "text": [
      "Current Round: 41, Average Loss: 115.15884360436552, Test Loss: 180.3742465754184, Test Accuracy: 9.59788052772796, Best: 9.59788052772796\n"
     ]
    },
    {
     "name": "stderr",
     "output_type": "stream",
     "text": [
      "100%|██████████| 6/6 [00:01<00:00,  3.50it/s]\n"
     ]
    },
    {
     "name": "stdout",
     "output_type": "stream",
     "text": [
      "Current Round: 42, Average Loss: 109.5676980815644, Test Loss: 187.05584755472034, Test Accuracy: 9.564874251978992, Best: 9.564874251978992\n"
     ]
    },
    {
     "name": "stderr",
     "output_type": "stream",
     "text": [
      "100%|██████████| 6/6 [00:01<00:00,  3.44it/s]\n"
     ]
    },
    {
     "name": "stdout",
     "output_type": "stream",
     "text": [
      "Current Round: 43, Average Loss: 111.0487935708971, Test Loss: 194.44403559970064, Test Accuracy: 9.557880408701843, Best: 9.557880408701843\n"
     ]
    },
    {
     "name": "stderr",
     "output_type": "stream",
     "text": [
      "100%|██████████| 6/6 [00:01<00:00,  3.59it/s]\n"
     ]
    },
    {
     "name": "stdout",
     "output_type": "stream",
     "text": [
      "Current Round: 44, Average Loss: 107.84749766567019, Test Loss: 203.31129083234026, Test Accuracy: 9.58213432482184, Best: 9.557880408701843\n"
     ]
    },
    {
     "name": "stderr",
     "output_type": "stream",
     "text": [
      "100%|██████████| 6/6 [00:01<00:00,  3.64it/s]\n"
     ]
    },
    {
     "name": "stdout",
     "output_type": "stream",
     "text": [
      "Current Round: 45, Average Loss: 106.59158681788294, Test Loss: 212.44701168393482, Test Accuracy: 9.60684105070698, Best: 9.557880408701843\n"
     ]
    },
    {
     "name": "stderr",
     "output_type": "stream",
     "text": [
      "100%|██████████| 6/6 [00:01<00:00,  3.62it/s]\n"
     ]
    },
    {
     "name": "stdout",
     "output_type": "stream",
     "text": [
      "Current Round: 46, Average Loss: 108.60413137940282, Test Loss: 220.60688627253677, Test Accuracy: 9.635526761098717, Best: 9.557880408701843\n"
     ]
    },
    {
     "name": "stderr",
     "output_type": "stream",
     "text": [
      "100%|██████████| 6/6 [00:01<00:00,  3.51it/s]\n"
     ]
    },
    {
     "name": "stdout",
     "output_type": "stream",
     "text": [
      "Current Round: 47, Average Loss: 108.44393258688125, Test Loss: 229.69228267518267, Test Accuracy: 9.684633748977452, Best: 9.557880408701843\n"
     ]
    },
    {
     "name": "stderr",
     "output_type": "stream",
     "text": [
      "100%|██████████| 6/6 [00:01<00:00,  3.41it/s]\n"
     ]
    },
    {
     "name": "stdout",
     "output_type": "stream",
     "text": [
      "Current Round: 48, Average Loss: 107.09413319020392, Test Loss: 238.6396243817391, Test Accuracy: 9.709033446093326, Best: 9.557880408701843\n"
     ]
    },
    {
     "name": "stderr",
     "output_type": "stream",
     "text": [
      "100%|██████████| 6/6 [00:01<00:00,  3.52it/s]\n"
     ]
    },
    {
     "name": "stdout",
     "output_type": "stream",
     "text": [
      "Current Round: 49, Average Loss: 113.42152126101205, Test Loss: 245.26848534037632, Test Accuracy: 9.721619094319207, Best: 9.557880408701843\n"
     ]
    },
    {
     "name": "stderr",
     "output_type": "stream",
     "text": [
      "100%|██████████| 6/6 [00:01<00:00,  3.37it/s]\n"
     ]
    },
    {
     "name": "stdout",
     "output_type": "stream",
     "text": [
      "Current Round: 50, Average Loss: 110.07189253419001, Test Loss: 250.71390179663902, Test Accuracy: 9.729511639147148, Best: 9.557880408701843\n"
     ]
    },
    {
     "name": "stderr",
     "output_type": "stream",
     "text": [
      "100%|██████████| 6/6 [00:01<00:00,  3.40it/s]\n"
     ]
    },
    {
     "name": "stdout",
     "output_type": "stream",
     "text": [
      "Current Round: 51, Average Loss: 105.6034157001169, Test Loss: 255.55950193058197, Test Accuracy: 9.727553564967424, Best: 9.557880408701843\n"
     ]
    },
    {
     "name": "stderr",
     "output_type": "stream",
     "text": [
      "100%|██████████| 6/6 [00:01<00:00,  3.39it/s]\n"
     ]
    },
    {
     "name": "stdout",
     "output_type": "stream",
     "text": [
      "Current Round: 52, Average Loss: 114.37898107906896, Test Loss: 260.6723950400976, Test Accuracy: 9.760602338901979, Best: 9.557880408701843\n"
     ]
    },
    {
     "name": "stderr",
     "output_type": "stream",
     "text": [
      "100%|██████████| 6/6 [00:01<00:00,  3.42it/s]\n"
     ]
    },
    {
     "name": "stdout",
     "output_type": "stream",
     "text": [
      "Current Round: 53, Average Loss: 112.49256754434025, Test Loss: 265.4811932536343, Test Accuracy: 9.790037918563522, Best: 9.557880408701843\n"
     ]
    },
    {
     "name": "stderr",
     "output_type": "stream",
     "text": [
      "100%|██████████| 6/6 [00:01<00:00,  3.30it/s]\n"
     ]
    },
    {
     "name": "stdout",
     "output_type": "stream",
     "text": [
      "Current Round: 54, Average Loss: 111.95953654503712, Test Loss: 266.95346101823975, Test Accuracy: 9.81396757596192, Best: 9.557880408701843\n"
     ]
    },
    {
     "name": "stderr",
     "output_type": "stream",
     "text": [
      "100%|██████████| 6/6 [00:01<00:00,  3.39it/s]\n"
     ]
    },
    {
     "name": "stdout",
     "output_type": "stream",
     "text": [
      "Current Round: 55, Average Loss: 111.5410698145172, Test Loss: 271.3429296419251, Test Accuracy: 9.843533103498531, Best: 9.557880408701843\n"
     ]
    },
    {
     "name": "stderr",
     "output_type": "stream",
     "text": [
      "100%|██████████| 6/6 [00:01<00:00,  3.47it/s]\n"
     ]
    },
    {
     "name": "stdout",
     "output_type": "stream",
     "text": [
      "Current Round: 56, Average Loss: 107.41754696246626, Test Loss: 274.7115752203194, Test Accuracy: 9.840179306276077, Best: 9.557880408701843\n"
     ]
    },
    {
     "name": "stderr",
     "output_type": "stream",
     "text": [
      "100%|██████████| 6/6 [00:01<00:00,  3.52it/s]\n"
     ]
    },
    {
     "name": "stdout",
     "output_type": "stream",
     "text": [
      "Current Round: 57, Average Loss: 114.78869592346764, Test Loss: 277.59126932022554, Test Accuracy: 9.848680068421393, Best: 9.557880408701843\n"
     ]
    },
    {
     "name": "stderr",
     "output_type": "stream",
     "text": [
      "100%|██████████| 6/6 [00:01<00:00,  3.37it/s]\n"
     ]
    },
    {
     "name": "stdout",
     "output_type": "stream",
     "text": [
      "Current Round: 58, Average Loss: 113.47777864725053, Test Loss: 279.9977343451079, Test Accuracy: 9.892655130360353, Best: 9.557880408701843\n"
     ]
    },
    {
     "name": "stderr",
     "output_type": "stream",
     "text": [
      "100%|██████████| 6/6 [00:01<00:00,  3.45it/s]\n"
     ]
    },
    {
     "name": "stdout",
     "output_type": "stream",
     "text": [
      "Current Round: 59, Average Loss: 114.67055349854608, Test Loss: 283.21779477004486, Test Accuracy: 9.900865505175963, Best: 9.557880408701843\n"
     ]
    },
    {
     "name": "stderr",
     "output_type": "stream",
     "text": [
      "100%|██████████| 6/6 [00:01<00:00,  3.38it/s]\n"
     ]
    },
    {
     "name": "stdout",
     "output_type": "stream",
     "text": [
      "Current Round: 60, Average Loss: 110.7194399676639, Test Loss: 285.8157962914302, Test Accuracy: 9.938497952221347, Best: 9.557880408701843\n"
     ]
    },
    {
     "name": "stderr",
     "output_type": "stream",
     "text": [
      "100%|██████████| 6/6 [00:01<00:00,  3.44it/s]\n"
     ]
    },
    {
     "name": "stdout",
     "output_type": "stream",
     "text": [
      "Current Round: 61, Average Loss: 106.135293096653, Test Loss: 286.15414603143387, Test Accuracy: 9.911147173157117, Best: 9.557880408701843\n"
     ]
    },
    {
     "name": "stderr",
     "output_type": "stream",
     "text": [
      "100%|██████████| 6/6 [00:01<00:00,  3.58it/s]\n"
     ]
    },
    {
     "name": "stdout",
     "output_type": "stream",
     "text": [
      "Current Round: 62, Average Loss: 114.97442054511988, Test Loss: 288.9081427889416, Test Accuracy: 9.866621249079557, Best: 9.557880408701843\n"
     ]
    },
    {
     "name": "stderr",
     "output_type": "stream",
     "text": [
      "100%|██████████| 6/6 [00:01<00:00,  3.68it/s]\n"
     ]
    },
    {
     "name": "stdout",
     "output_type": "stream",
     "text": [
      "Current Round: 63, Average Loss: 109.53678783637211, Test Loss: 292.8106435389077, Test Accuracy: 9.821159466787194, Best: 9.557880408701843\n"
     ]
    },
    {
     "name": "stderr",
     "output_type": "stream",
     "text": [
      "100%|██████████| 6/6 [00:01<00:00,  3.57it/s]\n"
     ]
    },
    {
     "name": "stdout",
     "output_type": "stream",
     "text": [
      "Current Round: 64, Average Loss: 109.26249066696231, Test Loss: 295.42519431939763, Test Accuracy: 9.739848343708553, Best: 9.557880408701843\n"
     ]
    },
    {
     "name": "stderr",
     "output_type": "stream",
     "text": [
      "100%|██████████| 6/6 [00:01<00:00,  3.56it/s]\n"
     ]
    },
    {
     "name": "stdout",
     "output_type": "stream",
     "text": [
      "Current Round: 65, Average Loss: 114.9621115441787, Test Loss: 298.77239850656935, Test Accuracy: 9.740639311968911, Best: 9.557880408701843\n"
     ]
    },
    {
     "name": "stderr",
     "output_type": "stream",
     "text": [
      "100%|██████████| 6/6 [00:01<00:00,  3.56it/s]\n"
     ]
    },
    {
     "name": "stdout",
     "output_type": "stream",
     "text": [
      "Current Round: 66, Average Loss: 107.44046566245542, Test Loss: 301.7792680792723, Test Accuracy: 9.719343688851396, Best: 9.557880408701843\n"
     ]
    },
    {
     "name": "stderr",
     "output_type": "stream",
     "text": [
      "100%|██████████| 6/6 [00:01<00:00,  3.43it/s]\n"
     ]
    },
    {
     "name": "stdout",
     "output_type": "stream",
     "text": [
      "Current Round: 67, Average Loss: 109.18810752050204, Test Loss: 306.05958834108395, Test Accuracy: 9.701090109540331, Best: 9.557880408701843\n"
     ]
    },
    {
     "name": "stderr",
     "output_type": "stream",
     "text": [
      "100%|██████████| 6/6 [00:01<00:00,  3.37it/s]\n"
     ]
    },
    {
     "name": "stdout",
     "output_type": "stream",
     "text": [
      "Current Round: 68, Average Loss: 106.11879921583692, Test Loss: 312.08014178371155, Test Accuracy: 9.693240920850336, Best: 9.557880408701843\n"
     ]
    },
    {
     "name": "stderr",
     "output_type": "stream",
     "text": [
      "100%|██████████| 6/6 [00:01<00:00,  3.43it/s]\n"
     ]
    },
    {
     "name": "stdout",
     "output_type": "stream",
     "text": [
      "Current Round: 69, Average Loss: 107.7336260471131, Test Loss: 319.7972537918568, Test Accuracy: 9.72204237681487, Best: 9.557880408701843\n"
     ]
    },
    {
     "name": "stderr",
     "output_type": "stream",
     "text": [
      "100%|██████████| 6/6 [00:01<00:00,  3.44it/s]\n"
     ]
    },
    {
     "name": "stdout",
     "output_type": "stream",
     "text": [
      "Current Round: 70, Average Loss: 115.5213366115949, Test Loss: 325.10017611808115, Test Accuracy: 9.771034857597494, Best: 9.557880408701843\n"
     ]
    },
    {
     "name": "stderr",
     "output_type": "stream",
     "text": [
      "100%|██████████| 6/6 [00:01<00:00,  3.44it/s]\n"
     ]
    },
    {
     "name": "stdout",
     "output_type": "stream",
     "text": [
      "Current Round: 71, Average Loss: 111.37271608030959, Test Loss: 329.9459478756161, Test Accuracy: 9.83502398872612, Best: 9.557880408701843\n"
     ]
    },
    {
     "name": "stderr",
     "output_type": "stream",
     "text": [
      "100%|██████████| 6/6 [00:01<00:00,  3.41it/s]\n"
     ]
    },
    {
     "name": "stdout",
     "output_type": "stream",
     "text": [
      "Current Round: 72, Average Loss: 111.34954524450893, Test Loss: 334.33032841094143, Test Accuracy: 9.873898868962588, Best: 9.557880408701843\n"
     ]
    },
    {
     "name": "stderr",
     "output_type": "stream",
     "text": [
      "100%|██████████| 6/6 [00:01<00:00,  3.43it/s]\n"
     ]
    },
    {
     "name": "stdout",
     "output_type": "stream",
     "text": [
      "Current Round: 73, Average Loss: 112.18718758216816, Test Loss: 337.4789952123549, Test Accuracy: 9.895835914280926, Best: 9.557880408701843\n"
     ]
    },
    {
     "name": "stderr",
     "output_type": "stream",
     "text": [
      "100%|██████████| 6/6 [00:01<00:00,  3.47it/s]\n"
     ]
    },
    {
     "name": "stdout",
     "output_type": "stream",
     "text": [
      "Current Round: 74, Average Loss: 106.92609498703531, Test Loss: 345.69543946332203, Test Accuracy: 10.035438433603431, Best: 9.557880408701843\n"
     ]
    },
    {
     "name": "stderr",
     "output_type": "stream",
     "text": [
      "100%|██████████| 6/6 [00:01<00:00,  3.46it/s]\n"
     ]
    },
    {
     "name": "stdout",
     "output_type": "stream",
     "text": [
      "Current Round: 75, Average Loss: 106.08821044507658, Test Loss: 349.71463640301937, Test Accuracy: 10.106275513565082, Best: 9.557880408701843\n"
     ]
    },
    {
     "name": "stderr",
     "output_type": "stream",
     "text": [
      "100%|██████████| 6/6 [00:01<00:00,  3.44it/s]\n"
     ]
    },
    {
     "name": "stdout",
     "output_type": "stream",
     "text": [
      "Current Round: 76, Average Loss: 112.8050942652906, Test Loss: 353.75659158914505, Test Accuracy: 10.141854405550855, Best: 9.557880408701843\n"
     ]
    },
    {
     "name": "stderr",
     "output_type": "stream",
     "text": [
      "100%|██████████| 6/6 [00:01<00:00,  3.49it/s]\n"
     ]
    },
    {
     "name": "stdout",
     "output_type": "stream",
     "text": [
      "Current Round: 77, Average Loss: 117.4189554639669, Test Loss: 359.85506765970956, Test Accuracy: 10.208225552772797, Best: 9.557880408701843\n"
     ]
    },
    {
     "name": "stderr",
     "output_type": "stream",
     "text": [
      "100%|██████████| 6/6 [00:01<00:00,  3.41it/s]\n"
     ]
    },
    {
     "name": "stdout",
     "output_type": "stream",
     "text": [
      "Current Round: 78, Average Loss: 114.07173401247918, Test Loss: 365.25225608062885, Test Accuracy: 10.315955893553175, Best: 9.557880408701843\n"
     ]
    },
    {
     "name": "stderr",
     "output_type": "stream",
     "text": [
      "100%|██████████| 6/6 [00:01<00:00,  3.38it/s]\n"
     ]
    },
    {
     "name": "stdout",
     "output_type": "stream",
     "text": [
      "Current Round: 79, Average Loss: 112.00982348544714, Test Loss: 370.524572891916, Test Accuracy: 10.368675884261007, Best: 9.557880408701843\n"
     ]
    },
    {
     "name": "stderr",
     "output_type": "stream",
     "text": [
      "100%|██████████| 6/6 [00:01<00:00,  3.40it/s]\n"
     ]
    },
    {
     "name": "stdout",
     "output_type": "stream",
     "text": [
      "Current Round: 80, Average Loss: 116.17193182481951, Test Loss: 372.87260124622816, Test Accuracy: 10.3992773620908, Best: 9.557880408701843\n"
     ]
    },
    {
     "name": "stderr",
     "output_type": "stream",
     "text": [
      "100%|██████████| 6/6 [00:01<00:00,  3.48it/s]\n"
     ]
    },
    {
     "name": "stdout",
     "output_type": "stream",
     "text": [
      "Current Round: 81, Average Loss: 111.35570920760495, Test Loss: 373.7641010427342, Test Accuracy: 10.409524319635743, Best: 9.557880408701843\n"
     ]
    },
    {
     "name": "stderr",
     "output_type": "stream",
     "text": [
      "100%|██████████| 6/6 [00:01<00:00,  3.37it/s]\n"
     ]
    },
    {
     "name": "stdout",
     "output_type": "stream",
     "text": [
      "Current Round: 82, Average Loss: 109.5677233103699, Test Loss: 374.9101243646079, Test Accuracy: 10.410911623873233, Best: 9.557880408701843\n"
     ]
    },
    {
     "name": "stderr",
     "output_type": "stream",
     "text": [
      "100%|██████████| 6/6 [00:01<00:00,  3.40it/s]\n"
     ]
    },
    {
     "name": "stdout",
     "output_type": "stream",
     "text": [
      "Current Round: 83, Average Loss: 108.25895356882269, Test Loss: 378.3931672121069, Test Accuracy: 10.512210399244797, Best: 9.557880408701843\n"
     ]
    },
    {
     "name": "stderr",
     "output_type": "stream",
     "text": [
      "100%|██████████| 6/6 [00:01<00:00,  3.41it/s]\n"
     ]
    },
    {
     "name": "stdout",
     "output_type": "stream",
     "text": [
      "Current Round: 84, Average Loss: 106.79236515274351, Test Loss: 378.69989551387755, Test Accuracy: 10.53496406630808, Best: 9.557880408701843\n"
     ]
    },
    {
     "name": "stderr",
     "output_type": "stream",
     "text": [
      "100%|██████████| 6/6 [00:01<00:00,  3.42it/s]\n"
     ]
    },
    {
     "name": "stdout",
     "output_type": "stream",
     "text": [
      "Current Round: 85, Average Loss: 108.05317643228535, Test Loss: 388.7487553925319, Test Accuracy: 10.712888573477555, Best: 9.557880408701843\n"
     ]
    },
    {
     "name": "stderr",
     "output_type": "stream",
     "text": [
      "100%|██████████| 6/6 [00:01<00:00,  3.37it/s]\n"
     ]
    },
    {
     "name": "stdout",
     "output_type": "stream",
     "text": [
      "Current Round: 86, Average Loss: 118.96787416443806, Test Loss: 393.50838183519306, Test Accuracy: 10.806537136564764, Best: 9.557880408701843\n"
     ]
    },
    {
     "name": "stderr",
     "output_type": "stream",
     "text": [
      "100%|██████████| 6/6 [00:01<00:00,  3.58it/s]\n"
     ]
    },
    {
     "name": "stdout",
     "output_type": "stream",
     "text": [
      "Current Round: 87, Average Loss: 110.29829924589875, Test Loss: 395.68449382585516, Test Accuracy: 10.823232643666321, Best: 9.557880408701843\n"
     ]
    },
    {
     "name": "stderr",
     "output_type": "stream",
     "text": [
      "100%|██████████| 6/6 [00:01<00:00,  3.67it/s]\n"
     ]
    },
    {
     "name": "stdout",
     "output_type": "stream",
     "text": [
      "Current Round: 88, Average Loss: 116.28054943363317, Test Loss: 401.4019215558061, Test Accuracy: 10.951100917849251, Best: 9.557880408701843\n"
     ]
    },
    {
     "name": "stderr",
     "output_type": "stream",
     "text": [
      "100%|██████████| 6/6 [00:01<00:00,  3.48it/s]\n"
     ]
    },
    {
     "name": "stdout",
     "output_type": "stream",
     "text": [
      "Current Round: 89, Average Loss: 112.65345356916781, Test Loss: 394.19070191436725, Test Accuracy: 10.829860524174006, Best: 9.557880408701843\n"
     ]
    },
    {
     "name": "stderr",
     "output_type": "stream",
     "text": [
      "100%|██████████| 6/6 [00:01<00:00,  3.39it/s]\n"
     ]
    },
    {
     "name": "stdout",
     "output_type": "stream",
     "text": [
      "Current Round: 90, Average Loss: 107.28362032682816, Test Loss: 399.1031488989292, Test Accuracy: 10.930743301372694, Best: 9.557880408701843\n"
     ]
    },
    {
     "name": "stderr",
     "output_type": "stream",
     "text": [
      "100%|██████████| 6/6 [00:01<00:00,  3.36it/s]\n"
     ]
    },
    {
     "name": "stdout",
     "output_type": "stream",
     "text": [
      "Current Round: 91, Average Loss: 108.8893733790086, Test Loss: 409.5924199334308, Test Accuracy: 11.138935424729056, Best: 9.557880408701843\n"
     ]
    },
    {
     "name": "stderr",
     "output_type": "stream",
     "text": [
      "100%|██████████| 6/6 [00:01<00:00,  3.50it/s]\n"
     ]
    },
    {
     "name": "stdout",
     "output_type": "stream",
     "text": [
      "Current Round: 92, Average Loss: 109.6327047273116, Test Loss: 412.48893661846904, Test Accuracy: 11.196253583924626, Best: 9.557880408701843\n"
     ]
    },
    {
     "name": "stderr",
     "output_type": "stream",
     "text": [
      "100%|██████████| 6/6 [00:01<00:00,  3.61it/s]\n"
     ]
    },
    {
     "name": "stdout",
     "output_type": "stream",
     "text": [
      "Current Round: 93, Average Loss: 112.73616221076911, Test Loss: 416.09613476512675, Test Accuracy: 11.272030429769183, Best: 9.557880408701843\n"
     ]
    },
    {
     "name": "stderr",
     "output_type": "stream",
     "text": [
      "100%|██████████| 6/6 [00:01<00:00,  3.61it/s]\n"
     ]
    },
    {
     "name": "stdout",
     "output_type": "stream",
     "text": [
      "Current Round: 94, Average Loss: 107.54640861094384, Test Loss: 413.21476019126777, Test Accuracy: 11.25449377483004, Best: 9.557880408701843\n"
     ]
    },
    {
     "name": "stderr",
     "output_type": "stream",
     "text": [
      "100%|██████████| 6/6 [00:01<00:00,  3.60it/s]\n"
     ]
    },
    {
     "name": "stdout",
     "output_type": "stream",
     "text": [
      "Current Round: 95, Average Loss: 112.6783877492723, Test Loss: 410.79459411659207, Test Accuracy: 11.198762087721512, Best: 9.557880408701843\n"
     ]
    },
    {
     "name": "stderr",
     "output_type": "stream",
     "text": [
      "100%|██████████| 6/6 [00:01<00:00,  3.72it/s]\n"
     ]
    },
    {
     "name": "stdout",
     "output_type": "stream",
     "text": [
      "Current Round: 96, Average Loss: 107.0201802624312, Test Loss: 410.60010407952757, Test Accuracy: 11.231860795428762, Best: 9.557880408701843\n"
     ]
    },
    {
     "name": "stderr",
     "output_type": "stream",
     "text": [
      "100%|██████████| 6/6 [00:01<00:00,  3.72it/s]\n"
     ]
    },
    {
     "name": "stdout",
     "output_type": "stream",
     "text": [
      "Current Round: 97, Average Loss: 115.71566700380139, Test Loss: 413.1798838942117, Test Accuracy: 11.292682713883222, Best: 9.557880408701843\n"
     ]
    },
    {
     "name": "stderr",
     "output_type": "stream",
     "text": [
      "100%|██████████| 6/6 [00:01<00:00,  3.70it/s]\n"
     ]
    },
    {
     "name": "stdout",
     "output_type": "stream",
     "text": [
      "Current Round: 98, Average Loss: 113.38656082077098, Test Loss: 406.3783924125107, Test Accuracy: 11.130710330003552, Best: 9.557880408701843\n"
     ]
    },
    {
     "name": "stderr",
     "output_type": "stream",
     "text": [
      "100%|██████████| 6/6 [00:01<00:00,  3.40it/s]\n"
     ]
    },
    {
     "name": "stdout",
     "output_type": "stream",
     "text": [
      "Current Round: 99, Average Loss: 108.25750474560535, Test Loss: 410.500298413193, Test Accuracy: 11.188743227328805, Best: 9.557880408701843\n"
     ]
    },
    {
     "name": "stderr",
     "output_type": "stream",
     "text": [
      "100%|██████████| 6/6 [00:01<00:00,  3.38it/s]\n"
     ]
    },
    {
     "name": "stdout",
     "output_type": "stream",
     "text": [
      "Current Round: 100, Average Loss: 109.87337480071689, Test Loss: 413.16514011012345, Test Accuracy: 11.253812832460085, Best: 9.557880408701843\n"
     ]
    },
    {
     "name": "stderr",
     "output_type": "stream",
     "text": [
      "100%|██████████| 6/6 [00:01<00:00,  3.39it/s]\n"
     ]
    },
    {
     "name": "stdout",
     "output_type": "stream",
     "text": [
      "Current Round: 101, Average Loss: 114.6582881629311, Test Loss: 421.93675292216824, Test Accuracy: 11.408450624165777, Best: 9.557880408701843\n"
     ]
    },
    {
     "name": "stderr",
     "output_type": "stream",
     "text": [
      "100%|██████████| 6/6 [00:01<00:00,  3.39it/s]\n"
     ]
    },
    {
     "name": "stdout",
     "output_type": "stream",
     "text": [
      "Current Round: 102, Average Loss: 109.59204297363387, Test Loss: 424.07986580012215, Test Accuracy: 11.452284398132097, Best: 9.557880408701843\n"
     ]
    },
    {
     "name": "stderr",
     "output_type": "stream",
     "text": [
      "100%|██████████| 6/6 [00:01<00:00,  3.41it/s]\n"
     ]
    },
    {
     "name": "stdout",
     "output_type": "stream",
     "text": [
      "Current Round: 103, Average Loss: 104.53086796400878, Test Loss: 427.5801749719351, Test Accuracy: 11.514076388901493, Best: 9.557880408701843\n"
     ]
    },
    {
     "name": "stderr",
     "output_type": "stream",
     "text": [
      "100%|██████████| 6/6 [00:01<00:00,  3.64it/s]\n"
     ]
    },
    {
     "name": "stdout",
     "output_type": "stream",
     "text": [
      "Current Round: 104, Average Loss: 115.33015844594256, Test Loss: 418.3586728304366, Test Accuracy: 11.365041725697571, Best: 9.557880408701843\n"
     ]
    },
    {
     "name": "stderr",
     "output_type": "stream",
     "text": [
      "100%|██████████| 6/6 [00:01<00:00,  3.62it/s]\n"
     ]
    },
    {
     "name": "stdout",
     "output_type": "stream",
     "text": [
      "Current Round: 105, Average Loss: 109.50960627449139, Test Loss: 429.1200076298929, Test Accuracy: 11.569984074418873, Best: 9.557880408701843\n"
     ]
    },
    {
     "name": "stderr",
     "output_type": "stream",
     "text": [
      "100%|██████████| 6/6 [00:01<00:00,  3.70it/s]\n"
     ]
    },
    {
     "name": "stdout",
     "output_type": "stream",
     "text": [
      "Current Round: 106, Average Loss: 110.36403458673992, Test Loss: 426.1405959906428, Test Accuracy: 11.496465430088351, Best: 9.557880408701843\n"
     ]
    },
    {
     "name": "stderr",
     "output_type": "stream",
     "text": [
      "100%|██████████| 6/6 [00:01<00:00,  3.55it/s]\n"
     ]
    },
    {
     "name": "stdout",
     "output_type": "stream",
     "text": [
      "Current Round: 107, Average Loss: 108.85348988367832, Test Loss: 418.5262212503466, Test Accuracy: 11.36453834874036, Best: 9.557880408701843\n"
     ]
    },
    {
     "name": "stderr",
     "output_type": "stream",
     "text": [
      "100%|██████████| 6/6 [00:01<00:00,  3.37it/s]\n"
     ]
    },
    {
     "name": "stdout",
     "output_type": "stream",
     "text": [
      "Current Round: 108, Average Loss: 107.21248145462873, Test Loss: 416.4133139773372, Test Accuracy: 11.286942050654945, Best: 9.557880408701843\n"
     ]
    },
    {
     "name": "stderr",
     "output_type": "stream",
     "text": [
      "100%|██████████| 6/6 [00:01<00:00,  3.43it/s]\n"
     ]
    },
    {
     "name": "stdout",
     "output_type": "stream",
     "text": [
      "Current Round: 109, Average Loss: 110.2242096639688, Test Loss: 420.36249381355486, Test Accuracy: 11.355133486798557, Best: 9.557880408701843\n"
     ]
    },
    {
     "name": "stderr",
     "output_type": "stream",
     "text": [
      "100%|██████████| 6/6 [00:01<00:00,  3.50it/s]\n"
     ]
    },
    {
     "name": "stdout",
     "output_type": "stream",
     "text": [
      "Current Round: 110, Average Loss: 106.09492831462109, Test Loss: 417.0061859766661, Test Accuracy: 11.314312751703842, Best: 9.557880408701843\n"
     ]
    },
    {
     "name": "stderr",
     "output_type": "stream",
     "text": [
      "100%|██████████| 6/6 [00:01<00:00,  3.52it/s]\n"
     ]
    },
    {
     "name": "stdout",
     "output_type": "stream",
     "text": [
      "Current Round: 111, Average Loss: 109.49800992166435, Test Loss: 405.840445150784, Test Accuracy: 11.07210709998451, Best: 9.557880408701843\n"
     ]
    },
    {
     "name": "stderr",
     "output_type": "stream",
     "text": [
      "100%|██████████| 6/6 [00:01<00:00,  3.60it/s]\n"
     ]
    },
    {
     "name": "stdout",
     "output_type": "stream",
     "text": [
      "Current Round: 112, Average Loss: 114.37951821795964, Test Loss: 413.7703311237953, Test Accuracy: 11.213406188189614, Best: 9.557880408701843\n"
     ]
    },
    {
     "name": "stderr",
     "output_type": "stream",
     "text": [
      "100%|██████████| 6/6 [00:01<00:00,  3.45it/s]\n"
     ]
    },
    {
     "name": "stdout",
     "output_type": "stream",
     "text": [
      "Current Round: 113, Average Loss: 112.37131477558732, Test Loss: 420.17017406125495, Test Accuracy: 11.360078090776446, Best: 9.557880408701843\n"
     ]
    },
    {
     "name": "stderr",
     "output_type": "stream",
     "text": [
      "100%|██████████| 6/6 [00:01<00:00,  3.48it/s]\n"
     ]
    },
    {
     "name": "stdout",
     "output_type": "stream",
     "text": [
      "Current Round: 114, Average Loss: 115.43793356462963, Test Loss: 416.5574903341733, Test Accuracy: 11.301303343554263, Best: 9.557880408701843\n"
     ]
    },
    {
     "name": "stderr",
     "output_type": "stream",
     "text": [
      "100%|██████████| 6/6 [00:01<00:00,  3.54it/s]\n"
     ]
    },
    {
     "name": "stdout",
     "output_type": "stream",
     "text": [
      "Current Round: 115, Average Loss: 113.18373416940979, Test Loss: 423.8411283674829, Test Accuracy: 11.45834411328019, Best: 9.557880408701843\n"
     ]
    },
    {
     "name": "stderr",
     "output_type": "stream",
     "text": [
      "100%|██████████| 6/6 [00:01<00:00,  3.37it/s]\n"
     ]
    },
    {
     "name": "stdout",
     "output_type": "stream",
     "text": [
      "Current Round: 116, Average Loss: 114.34999433903552, Test Loss: 423.7654499771648, Test Accuracy: 11.486859663120729, Best: 9.557880408701843\n"
     ]
    },
    {
     "name": "stderr",
     "output_type": "stream",
     "text": [
      "100%|██████████| 6/6 [00:01<00:00,  3.33it/s]\n"
     ]
    },
    {
     "name": "stdout",
     "output_type": "stream",
     "text": [
      "Current Round: 117, Average Loss: 98.30767182880761, Test Loss: 439.8018062215165, Test Accuracy: 11.847983387470837, Best: 9.557880408701843\n"
     ]
    },
    {
     "name": "stderr",
     "output_type": "stream",
     "text": [
      "100%|██████████| 6/6 [00:01<00:00,  3.50it/s]\n"
     ]
    },
    {
     "name": "stdout",
     "output_type": "stream",
     "text": [
      "Current Round: 118, Average Loss: 106.97000971335886, Test Loss: 443.8386676073665, Test Accuracy: 11.981456305162318, Best: 9.557880408701843\n"
     ]
    },
    {
     "name": "stderr",
     "output_type": "stream",
     "text": [
      "100%|██████████| 6/6 [00:01<00:00,  3.32it/s]\n"
     ]
    },
    {
     "name": "stdout",
     "output_type": "stream",
     "text": [
      "Current Round: 119, Average Loss: 109.26654177538633, Test Loss: 442.0624163409296, Test Accuracy: 11.97172163498889, Best: 9.557880408701843\n"
     ]
    },
    {
     "name": "stderr",
     "output_type": "stream",
     "text": [
      "100%|██████████| 6/6 [00:01<00:00,  3.36it/s]\n"
     ]
    },
    {
     "name": "stdout",
     "output_type": "stream",
     "text": [
      "Current Round: 120, Average Loss: 107.00590897684043, Test Loss: 433.00553627779345, Test Accuracy: 11.749378469058277, Best: 9.557880408701843\n"
     ]
    },
    {
     "name": "stderr",
     "output_type": "stream",
     "text": [
      "100%|██████████| 6/6 [00:01<00:00,  3.37it/s]\n"
     ]
    },
    {
     "name": "stdout",
     "output_type": "stream",
     "text": [
      "Current Round: 121, Average Loss: 107.42750782194226, Test Loss: 439.803379901806, Test Accuracy: 11.931761745183442, Best: 9.557880408701843\n"
     ]
    },
    {
     "name": "stderr",
     "output_type": "stream",
     "text": [
      "100%|██████████| 6/6 [00:01<00:00,  3.44it/s]\n"
     ]
    },
    {
     "name": "stdout",
     "output_type": "stream",
     "text": [
      "Current Round: 122, Average Loss: 105.37000136094856, Test Loss: 440.5623434278491, Test Accuracy: 11.973899236251283, Best: 9.557880408701843\n"
     ]
    },
    {
     "name": "stderr",
     "output_type": "stream",
     "text": [
      "100%|██████████| 6/6 [00:01<00:00,  3.31it/s]\n"
     ]
    },
    {
     "name": "stdout",
     "output_type": "stream",
     "text": [
      "Current Round: 123, Average Loss: 102.51816146650049, Test Loss: 446.352891786114, Test Accuracy: 12.108580623565258, Best: 9.557880408701843\n"
     ]
    },
    {
     "name": "stderr",
     "output_type": "stream",
     "text": [
      "100%|██████████| 6/6 [00:01<00:00,  3.21it/s]\n"
     ]
    },
    {
     "name": "stdout",
     "output_type": "stream",
     "text": [
      "Current Round: 124, Average Loss: 106.64898322182809, Test Loss: 448.90916990923614, Test Accuracy: 12.206585214040537, Best: 9.557880408701843\n"
     ]
    },
    {
     "name": "stderr",
     "output_type": "stream",
     "text": [
      "100%|██████████| 6/6 [00:01<00:00,  3.35it/s]\n"
     ]
    },
    {
     "name": "stdout",
     "output_type": "stream",
     "text": [
      "Current Round: 125, Average Loss: 119.7426465311638, Test Loss: 446.8924976632719, Test Accuracy: 12.139799311849412, Best: 9.557880408701843\n"
     ]
    },
    {
     "name": "stderr",
     "output_type": "stream",
     "text": [
      "100%|██████████| 6/6 [00:01<00:00,  3.56it/s]\n"
     ]
    },
    {
     "name": "stdout",
     "output_type": "stream",
     "text": [
      "Current Round: 126, Average Loss: 101.62972541875183, Test Loss: 440.1132780981182, Test Accuracy: 11.978070874787322, Best: 9.557880408701843\n"
     ]
    },
    {
     "name": "stderr",
     "output_type": "stream",
     "text": [
      "100%|██████████| 6/6 [00:01<00:00,  3.51it/s]\n"
     ]
    },
    {
     "name": "stdout",
     "output_type": "stream",
     "text": [
      "Current Round: 127, Average Loss: 107.5324322353698, Test Loss: 442.1924337803593, Test Accuracy: 12.059638312905841, Best: 9.557880408701843\n"
     ]
    },
    {
     "name": "stderr",
     "output_type": "stream",
     "text": [
      "100%|██████████| 6/6 [00:01<00:00,  3.56it/s]\n"
     ]
    },
    {
     "name": "stdout",
     "output_type": "stream",
     "text": [
      "Current Round: 128, Average Loss: 108.72124702976117, Test Loss: 435.65235142535363, Test Accuracy: 11.914845583607272, Best: 9.557880408701843\n"
     ]
    },
    {
     "name": "stderr",
     "output_type": "stream",
     "text": [
      "100%|██████████| 6/6 [00:01<00:00,  3.50it/s]\n"
     ]
    },
    {
     "name": "stdout",
     "output_type": "stream",
     "text": [
      "Current Round: 129, Average Loss: 106.6791371811647, Test Loss: 436.10157269576007, Test Accuracy: 11.955391147618252, Best: 9.557880408701843\n"
     ]
    },
    {
     "name": "stderr",
     "output_type": "stream",
     "text": [
      "100%|██████████| 6/6 [00:01<00:00,  3.41it/s]\n"
     ]
    },
    {
     "name": "stdout",
     "output_type": "stream",
     "text": [
      "Current Round: 130, Average Loss: 110.53070941148125, Test Loss: 438.08009782605234, Test Accuracy: 12.031149378496474, Best: 9.557880408701843\n"
     ]
    },
    {
     "name": "stderr",
     "output_type": "stream",
     "text": [
      "100%|██████████| 6/6 [00:01<00:00,  3.46it/s]\n"
     ]
    },
    {
     "name": "stdout",
     "output_type": "stream",
     "text": [
      "Current Round: 131, Average Loss: 106.04266058782646, Test Loss: 436.6365183576701, Test Accuracy: 11.984848332080109, Best: 9.557880408701843\n"
     ]
    },
    {
     "name": "stderr",
     "output_type": "stream",
     "text": [
      "100%|██████████| 6/6 [00:01<00:00,  3.72it/s]\n"
     ]
    },
    {
     "name": "stdout",
     "output_type": "stream",
     "text": [
      "Current Round: 132, Average Loss: 100.23839176409136, Test Loss: 431.65541645042515, Test Accuracy: 11.874747348393058, Best: 9.557880408701843\n"
     ]
    },
    {
     "name": "stderr",
     "output_type": "stream",
     "text": [
      "100%|██████████| 6/6 [00:01<00:00,  3.66it/s]\n"
     ]
    },
    {
     "name": "stdout",
     "output_type": "stream",
     "text": [
      "Current Round: 133, Average Loss: 109.11612713013335, Test Loss: 433.63596510004527, Test Accuracy: 11.958063156335918, Best: 9.557880408701843\n"
     ]
    },
    {
     "name": "stderr",
     "output_type": "stream",
     "text": [
      "100%|██████████| 6/6 [00:01<00:00,  3.71it/s]\n"
     ]
    },
    {
     "name": "stdout",
     "output_type": "stream",
     "text": [
      "Current Round: 134, Average Loss: 108.1336516163082, Test Loss: 432.7426957237861, Test Accuracy: 11.94131849778186, Best: 9.557880408701843\n"
     ]
    },
    {
     "name": "stderr",
     "output_type": "stream",
     "text": [
      "100%|██████████| 6/6 [00:01<00:00,  3.71it/s]\n"
     ]
    },
    {
     "name": "stdout",
     "output_type": "stream",
     "text": [
      "Current Round: 135, Average Loss: 101.53960154663355, Test Loss: 425.12899427752956, Test Accuracy: 11.758626306810344, Best: 9.557880408701843\n"
     ]
    },
    {
     "name": "stderr",
     "output_type": "stream",
     "text": [
      "100%|██████████| 6/6 [00:01<00:00,  3.61it/s]\n"
     ]
    },
    {
     "name": "stdout",
     "output_type": "stream",
     "text": [
      "Current Round: 136, Average Loss: 105.5910972544226, Test Loss: 427.7169902218688, Test Accuracy: 11.829477799426224, Best: 9.557880408701843\n"
     ]
    },
    {
     "name": "stderr",
     "output_type": "stream",
     "text": [
      "100%|██████████| 6/6 [00:01<00:00,  3.68it/s]\n"
     ]
    },
    {
     "name": "stdout",
     "output_type": "stream",
     "text": [
      "Current Round: 137, Average Loss: 103.32117319116912, Test Loss: 425.9250574811665, Test Accuracy: 11.818491005690715, Best: 9.557880408701843\n"
     ]
    },
    {
     "name": "stderr",
     "output_type": "stream",
     "text": [
      "100%|██████████| 6/6 [00:01<00:00,  3.85it/s]\n"
     ]
    },
    {
     "name": "stdout",
     "output_type": "stream",
     "text": [
      "Current Round: 138, Average Loss: 99.05474127240791, Test Loss: 426.5041325953518, Test Accuracy: 11.829756435408468, Best: 9.557880408701843\n"
     ]
    },
    {
     "name": "stderr",
     "output_type": "stream",
     "text": [
      "100%|██████████| 6/6 [00:01<00:00,  3.59it/s]\n"
     ]
    },
    {
     "name": "stdout",
     "output_type": "stream",
     "text": [
      "Current Round: 139, Average Loss: 100.21474537646391, Test Loss: 417.2300814750617, Test Accuracy: 11.624678142599604, Best: 9.557880408701843\n"
     ]
    },
    {
     "name": "stderr",
     "output_type": "stream",
     "text": [
      "100%|██████████| 6/6 [00:01<00:00,  3.61it/s]\n"
     ]
    },
    {
     "name": "stdout",
     "output_type": "stream",
     "text": [
      "Current Round: 140, Average Loss: 106.04934731202627, Test Loss: 421.02023896108733, Test Accuracy: 11.741501542272177, Best: 9.557880408701843\n"
     ]
    },
    {
     "name": "stderr",
     "output_type": "stream",
     "text": [
      "100%|██████████| 6/6 [00:01<00:00,  3.68it/s]\n"
     ]
    },
    {
     "name": "stdout",
     "output_type": "stream",
     "text": [
      "Current Round: 141, Average Loss: 98.80520935927241, Test Loss: 425.1651764992634, Test Accuracy: 11.847913264637395, Best: 9.557880408701843\n"
     ]
    },
    {
     "name": "stderr",
     "output_type": "stream",
     "text": [
      "100%|██████████| 6/6 [00:01<00:00,  3.60it/s]\n"
     ]
    },
    {
     "name": "stdout",
     "output_type": "stream",
     "text": [
      "Current Round: 142, Average Loss: 109.84303569452025, Test Loss: 421.54140257251896, Test Accuracy: 11.785382179818042, Best: 9.557880408701843\n"
     ]
    },
    {
     "name": "stderr",
     "output_type": "stream",
     "text": [
      "100%|██████████| 6/6 [00:01<00:00,  3.60it/s]\n"
     ]
    },
    {
     "name": "stdout",
     "output_type": "stream",
     "text": [
      "Current Round: 143, Average Loss: 101.72256329428546, Test Loss: 425.98595948083977, Test Accuracy: 11.908933840424302, Best: 9.557880408701843\n"
     ]
    },
    {
     "name": "stderr",
     "output_type": "stream",
     "text": [
      "100%|██████████| 6/6 [00:01<00:00,  3.55it/s]\n"
     ]
    },
    {
     "name": "stdout",
     "output_type": "stream",
     "text": [
      "Current Round: 144, Average Loss: 105.51786441837147, Test Loss: 422.0758384145621, Test Accuracy: 11.81169748365362, Best: 9.557880408701843\n"
     ]
    },
    {
     "name": "stderr",
     "output_type": "stream",
     "text": [
      "100%|██████████| 6/6 [00:01<00:00,  3.60it/s]\n"
     ]
    },
    {
     "name": "stdout",
     "output_type": "stream",
     "text": [
      "Current Round: 145, Average Loss: 102.95387418871003, Test Loss: 418.7530503490365, Test Accuracy: 11.752222368412893, Best: 9.557880408701843\n"
     ]
    },
    {
     "name": "stderr",
     "output_type": "stream",
     "text": [
      "100%|██████████| 6/6 [00:01<00:00,  3.55it/s]\n"
     ]
    },
    {
     "name": "stdout",
     "output_type": "stream",
     "text": [
      "Current Round: 146, Average Loss: 104.637473799201, Test Loss: 419.1442051176097, Test Accuracy: 11.776392181566656, Best: 9.557880408701843\n"
     ]
    },
    {
     "name": "stderr",
     "output_type": "stream",
     "text": [
      "100%|██████████| 6/6 [00:01<00:00,  3.62it/s]\n"
     ]
    },
    {
     "name": "stdout",
     "output_type": "stream",
     "text": [
      "Current Round: 147, Average Loss: 101.72896781321873, Test Loss: 423.7831168666279, Test Accuracy: 11.920716920306692, Best: 9.557880408701843\n"
     ]
    },
    {
     "name": "stderr",
     "output_type": "stream",
     "text": [
      "100%|██████████| 6/6 [00:01<00:00,  3.67it/s]\n"
     ]
    },
    {
     "name": "stdout",
     "output_type": "stream",
     "text": [
      "Current Round: 148, Average Loss: 101.9746051839319, Test Loss: 423.1401270841799, Test Accuracy: 11.904677994927805, Best: 9.557880408701843\n"
     ]
    },
    {
     "name": "stderr",
     "output_type": "stream",
     "text": [
      "100%|██████████| 6/6 [00:01<00:00,  3.63it/s]\n"
     ]
    },
    {
     "name": "stdout",
     "output_type": "stream",
     "text": [
      "Current Round: 149, Average Loss: 99.8822720382633, Test Loss: 428.69204622674204, Test Accuracy: 12.035538088433361, Best: 9.557880408701843\n"
     ]
    },
    {
     "name": "stderr",
     "output_type": "stream",
     "text": [
      "100%|██████████| 6/6 [00:01<00:00,  3.60it/s]\n"
     ]
    },
    {
     "name": "stdout",
     "output_type": "stream",
     "text": [
      "Current Round: 150, Average Loss: 99.36048977684185, Test Loss: 425.72750841552, Test Accuracy: 12.003864382870283, Best: 9.557880408701843\n"
     ]
    },
    {
     "name": "stderr",
     "output_type": "stream",
     "text": [
      "100%|██████████| 6/6 [00:01<00:00,  3.60it/s]\n"
     ]
    },
    {
     "name": "stdout",
     "output_type": "stream",
     "text": [
      "Current Round: 151, Average Loss: 111.01667582586283, Test Loss: 430.7429616714942, Test Accuracy: 12.170826946197094, Best: 9.557880408701843\n"
     ]
    },
    {
     "name": "stderr",
     "output_type": "stream",
     "text": [
      "100%|██████████| 6/6 [00:01<00:00,  3.55it/s]\n"
     ]
    },
    {
     "name": "stdout",
     "output_type": "stream",
     "text": [
      "Current Round: 152, Average Loss: 102.45451891607895, Test Loss: 423.88302735698596, Test Accuracy: 12.02798744116574, Best: 9.557880408701843\n"
     ]
    },
    {
     "name": "stderr",
     "output_type": "stream",
     "text": [
      "100%|██████████| 6/6 [00:01<00:00,  3.59it/s]\n"
     ]
    },
    {
     "name": "stdout",
     "output_type": "stream",
     "text": [
      "Current Round: 153, Average Loss: 105.211427049169, Test Loss: 425.61391747143705, Test Accuracy: 12.096802192697442, Best: 9.557880408701843\n"
     ]
    },
    {
     "name": "stderr",
     "output_type": "stream",
     "text": [
      "100%|██████████| 6/6 [00:01<00:00,  3.63it/s]\n"
     ]
    },
    {
     "name": "stdout",
     "output_type": "stream",
     "text": [
      "Current Round: 154, Average Loss: 105.56216122431583, Test Loss: 417.1876733006893, Test Accuracy: 11.900330131086422, Best: 9.557880408701843\n"
     ]
    },
    {
     "name": "stderr",
     "output_type": "stream",
     "text": [
      "100%|██████████| 6/6 [00:01<00:00,  3.47it/s]\n"
     ]
    },
    {
     "name": "stdout",
     "output_type": "stream",
     "text": [
      "Current Round: 155, Average Loss: 100.72228261881399, Test Loss: 414.93991554684504, Test Accuracy: 11.824010340845422, Best: 9.557880408701843\n"
     ]
    },
    {
     "name": "stderr",
     "output_type": "stream",
     "text": [
      "100%|██████████| 6/6 [00:01<00:00,  3.55it/s]\n"
     ]
    },
    {
     "name": "stdout",
     "output_type": "stream",
     "text": [
      "Current Round: 156, Average Loss: 105.06147334568095, Test Loss: 416.81200503209857, Test Accuracy: 11.862401855922544, Best: 9.557880408701843\n"
     ]
    },
    {
     "name": "stderr",
     "output_type": "stream",
     "text": [
      "100%|██████████| 6/6 [00:01<00:00,  3.60it/s]\n"
     ]
    },
    {
     "name": "stdout",
     "output_type": "stream",
     "text": [
      "Current Round: 157, Average Loss: 99.18472798087141, Test Loss: 416.6309358463559, Test Accuracy: 11.867518140185426, Best: 9.557880408701843\n"
     ]
    },
    {
     "name": "stderr",
     "output_type": "stream",
     "text": [
      "100%|██████████| 6/6 [00:01<00:00,  3.52it/s]\n"
     ]
    },
    {
     "name": "stdout",
     "output_type": "stream",
     "text": [
      "Current Round: 158, Average Loss: 100.42054970494081, Test Loss: 408.0827917752065, Test Accuracy: 11.666767649786475, Best: 9.557880408701843\n"
     ]
    },
    {
     "name": "stderr",
     "output_type": "stream",
     "text": [
      "100%|██████████| 6/6 [00:01<00:00,  3.64it/s]\n"
     ]
    },
    {
     "name": "stdout",
     "output_type": "stream",
     "text": [
      "Current Round: 159, Average Loss: 98.30439641880763, Test Loss: 405.86465531878423, Test Accuracy: 11.617814013210518, Best: 9.557880408701843\n"
     ]
    },
    {
     "name": "stderr",
     "output_type": "stream",
     "text": [
      "100%|██████████| 6/6 [00:01<00:00,  3.60it/s]\n"
     ]
    },
    {
     "name": "stdout",
     "output_type": "stream",
     "text": [
      "Current Round: 160, Average Loss: 102.88434687323752, Test Loss: 401.0315795828954, Test Accuracy: 11.567906723589703, Best: 9.557880408701843\n"
     ]
    },
    {
     "name": "stderr",
     "output_type": "stream",
     "text": [
      "100%|██████████| 6/6 [00:01<00:00,  3.59it/s]\n"
     ]
    },
    {
     "name": "stdout",
     "output_type": "stream",
     "text": [
      "Current Round: 161, Average Loss: 95.40117353891658, Test Loss: 405.6893662656328, Test Accuracy: 11.654616886502895, Best: 9.557880408701843\n"
     ]
    },
    {
     "name": "stderr",
     "output_type": "stream",
     "text": [
      "100%|██████████| 6/6 [00:01<00:00,  3.52it/s]\n"
     ]
    },
    {
     "name": "stdout",
     "output_type": "stream",
     "text": [
      "Current Round: 162, Average Loss: 103.67976950206128, Test Loss: 399.0418466234203, Test Accuracy: 11.540635880632175, Best: 9.557880408701843\n"
     ]
    },
    {
     "name": "stderr",
     "output_type": "stream",
     "text": [
      "100%|██████████| 6/6 [00:01<00:00,  3.52it/s]\n"
     ]
    },
    {
     "name": "stdout",
     "output_type": "stream",
     "text": [
      "Current Round: 163, Average Loss: 97.22843566229311, Test Loss: 406.563254248217, Test Accuracy: 11.72664741364849, Best: 9.557880408701843\n"
     ]
    },
    {
     "name": "stderr",
     "output_type": "stream",
     "text": [
      "100%|██████████| 6/6 [00:01<00:00,  3.52it/s]\n"
     ]
    },
    {
     "name": "stdout",
     "output_type": "stream",
     "text": [
      "Current Round: 164, Average Loss: 99.18642710975762, Test Loss: 404.76996467939244, Test Accuracy: 11.741613794584405, Best: 9.557880408701843\n"
     ]
    },
    {
     "name": "stderr",
     "output_type": "stream",
     "text": [
      "100%|██████████| 6/6 [00:01<00:00,  3.56it/s]\n"
     ]
    },
    {
     "name": "stdout",
     "output_type": "stream",
     "text": [
      "Current Round: 165, Average Loss: 100.12807460920004, Test Loss: 406.08334469863547, Test Accuracy: 11.76259217859053, Best: 9.557880408701843\n"
     ]
    },
    {
     "name": "stderr",
     "output_type": "stream",
     "text": [
      "100%|██████████| 6/6 [00:01<00:00,  3.56it/s]\n"
     ]
    },
    {
     "name": "stdout",
     "output_type": "stream",
     "text": [
      "Current Round: 166, Average Loss: 97.47953850102355, Test Loss: 411.72496634574037, Test Accuracy: 11.906480243214887, Best: 9.557880408701843\n"
     ]
    },
    {
     "name": "stderr",
     "output_type": "stream",
     "text": [
      "100%|██████████| 6/6 [00:01<00:00,  3.54it/s]\n"
     ]
    },
    {
     "name": "stdout",
     "output_type": "stream",
     "text": [
      "Current Round: 167, Average Loss: 106.88432605072406, Test Loss: 403.065130054803, Test Accuracy: 11.749260832681385, Best: 9.557880408701843\n"
     ]
    },
    {
     "name": "stderr",
     "output_type": "stream",
     "text": [
      "100%|██████████| 6/6 [00:01<00:00,  3.45it/s]\n"
     ]
    },
    {
     "name": "stdout",
     "output_type": "stream",
     "text": [
      "Current Round: 168, Average Loss: 95.22031601923827, Test Loss: 407.0571373654749, Test Accuracy: 11.840981073391335, Best: 9.557880408701843\n"
     ]
    },
    {
     "name": "stderr",
     "output_type": "stream",
     "text": [
      "100%|██████████| 6/6 [00:01<00:00,  3.49it/s]\n"
     ]
    },
    {
     "name": "stdout",
     "output_type": "stream",
     "text": [
      "Current Round: 169, Average Loss: 99.12680738314266, Test Loss: 401.13407371456293, Test Accuracy: 11.752588558078847, Best: 9.557880408701843\n"
     ]
    },
    {
     "name": "stderr",
     "output_type": "stream",
     "text": [
      "100%|██████████| 6/6 [00:01<00:00,  3.55it/s]\n"
     ]
    },
    {
     "name": "stdout",
     "output_type": "stream",
     "text": [
      "Current Round: 170, Average Loss: 93.42971961413171, Test Loss: 398.19629577058913, Test Accuracy: 11.688836065809966, Best: 9.557880408701843\n"
     ]
    },
    {
     "name": "stderr",
     "output_type": "stream",
     "text": [
      "100%|██████████| 6/6 [00:01<00:00,  3.60it/s]\n"
     ]
    },
    {
     "name": "stdout",
     "output_type": "stream",
     "text": [
      "Current Round: 171, Average Loss: 98.96456992548985, Test Loss: 396.3503406778107, Test Accuracy: 11.69067050976381, Best: 9.557880408701843\n"
     ]
    },
    {
     "name": "stderr",
     "output_type": "stream",
     "text": [
      "100%|██████████| 6/6 [00:01<00:00,  3.44it/s]\n"
     ]
    },
    {
     "name": "stdout",
     "output_type": "stream",
     "text": [
      "Current Round: 172, Average Loss: 97.69603829412104, Test Loss: 387.68099130292177, Test Accuracy: 11.484212036321892, Best: 9.557880408701843\n"
     ]
    },
    {
     "name": "stderr",
     "output_type": "stream",
     "text": [
      "100%|██████████| 6/6 [00:01<00:00,  3.49it/s]\n"
     ]
    },
    {
     "name": "stdout",
     "output_type": "stream",
     "text": [
      "Current Round: 173, Average Loss: 90.7017809316214, Test Loss: 399.4451854860842, Test Accuracy: 11.725261390430777, Best: 9.557880408701843\n"
     ]
    },
    {
     "name": "stderr",
     "output_type": "stream",
     "text": [
      "100%|██████████| 6/6 [00:01<00:00,  3.68it/s]\n"
     ]
    },
    {
     "name": "stdout",
     "output_type": "stream",
     "text": [
      "Current Round: 174, Average Loss: 94.498710540137, Test Loss: 386.32973333563575, Test Accuracy: 11.420827596161002, Best: 9.557880408701843\n"
     ]
    },
    {
     "name": "stderr",
     "output_type": "stream",
     "text": [
      "100%|██████████| 6/6 [00:01<00:00,  3.52it/s]\n"
     ]
    },
    {
     "name": "stdout",
     "output_type": "stream",
     "text": [
      "Current Round: 175, Average Loss: 93.43804856212046, Test Loss: 386.06421931444345, Test Accuracy: 11.408200378607049, Best: 9.557880408701843\n"
     ]
    },
    {
     "name": "stderr",
     "output_type": "stream",
     "text": [
      "100%|██████████| 6/6 [00:01<00:00,  3.73it/s]\n"
     ]
    },
    {
     "name": "stdout",
     "output_type": "stream",
     "text": [
      "Current Round: 176, Average Loss: 107.46864501040584, Test Loss: 378.36929328150615, Test Accuracy: 11.213476637186762, Best: 9.557880408701843\n"
     ]
    },
    {
     "name": "stderr",
     "output_type": "stream",
     "text": [
      "100%|██████████| 6/6 [00:01<00:00,  3.63it/s]\n"
     ]
    },
    {
     "name": "stdout",
     "output_type": "stream",
     "text": [
      "Current Round: 177, Average Loss: 94.79976022892357, Test Loss: 383.4970440683746, Test Accuracy: 11.358677364193374, Best: 9.557880408701843\n"
     ]
    },
    {
     "name": "stderr",
     "output_type": "stream",
     "text": [
      "100%|██████████| 6/6 [00:01<00:00,  3.90it/s]\n"
     ]
    },
    {
     "name": "stdout",
     "output_type": "stream",
     "text": [
      "Current Round: 178, Average Loss: 96.30610785590102, Test Loss: 381.50919797059146, Test Accuracy: 11.282480024789198, Best: 9.557880408701843\n"
     ]
    },
    {
     "name": "stderr",
     "output_type": "stream",
     "text": [
      "100%|██████████| 6/6 [00:01<00:00,  3.66it/s]\n"
     ]
    },
    {
     "name": "stdout",
     "output_type": "stream",
     "text": [
      "Current Round: 179, Average Loss: 93.35223173388802, Test Loss: 369.0765922961819, Test Accuracy: 10.9616240935107, Best: 9.557880408701843\n"
     ]
    },
    {
     "name": "stderr",
     "output_type": "stream",
     "text": [
      "100%|██████████| 6/6 [00:01<00:00,  3.61it/s]\n"
     ]
    },
    {
     "name": "stdout",
     "output_type": "stream",
     "text": [
      "Current Round: 180, Average Loss: 91.32423768339856, Test Loss: 369.961770431801, Test Accuracy: 10.988899866739908, Best: 9.557880408701843\n"
     ]
    },
    {
     "name": "stderr",
     "output_type": "stream",
     "text": [
      "100%|██████████| 6/6 [00:01<00:00,  3.56it/s]\n"
     ]
    },
    {
     "name": "stdout",
     "output_type": "stream",
     "text": [
      "Current Round: 181, Average Loss: 96.7692832678692, Test Loss: 371.9311019797455, Test Accuracy: 11.058684480234593, Best: 9.557880408701843\n"
     ]
    },
    {
     "name": "stderr",
     "output_type": "stream",
     "text": [
      "100%|██████████| 6/6 [00:01<00:00,  3.45it/s]\n"
     ]
    },
    {
     "name": "stdout",
     "output_type": "stream",
     "text": [
      "Current Round: 182, Average Loss: 92.7704315688207, Test Loss: 370.11562452347295, Test Accuracy: 11.02699082668829, Best: 9.557880408701843\n"
     ]
    },
    {
     "name": "stderr",
     "output_type": "stream",
     "text": [
      "100%|██████████| 6/6 [00:01<00:00,  3.47it/s]\n"
     ]
    },
    {
     "name": "stdout",
     "output_type": "stream",
     "text": [
      "Current Round: 183, Average Loss: 101.89080631944846, Test Loss: 367.54309966513955, Test Accuracy: 10.992400092558642, Best: 9.557880408701843\n"
     ]
    },
    {
     "name": "stderr",
     "output_type": "stream",
     "text": [
      "100%|██████████| 6/6 [00:01<00:00,  3.45it/s]\n"
     ]
    },
    {
     "name": "stdout",
     "output_type": "stream",
     "text": [
      "Current Round: 184, Average Loss: 97.06808456974416, Test Loss: 363.42521499461105, Test Accuracy: 10.864987454892978, Best: 9.557880408701843\n"
     ]
    },
    {
     "name": "stderr",
     "output_type": "stream",
     "text": [
      "100%|██████████| 6/6 [00:01<00:00,  3.46it/s]\n"
     ]
    },
    {
     "name": "stdout",
     "output_type": "stream",
     "text": [
      "Current Round: 185, Average Loss: 83.81764814179182, Test Loss: 363.0023831300244, Test Accuracy: 10.857799764016304, Best: 9.557880408701843\n"
     ]
    },
    {
     "name": "stderr",
     "output_type": "stream",
     "text": [
      "100%|██████████| 6/6 [00:01<00:00,  3.57it/s]\n"
     ]
    },
    {
     "name": "stdout",
     "output_type": "stream",
     "text": [
      "Current Round: 186, Average Loss: 94.6186894307341, Test Loss: 351.37385798842547, Test Accuracy: 10.610990720462917, Best: 9.557880408701843\n"
     ]
    },
    {
     "name": "stderr",
     "output_type": "stream",
     "text": [
      "100%|██████████| 6/6 [00:01<00:00,  3.76it/s]\n"
     ]
    },
    {
     "name": "stdout",
     "output_type": "stream",
     "text": [
      "Current Round: 187, Average Loss: 97.167208173115, Test Loss: 349.72657152855265, Test Accuracy: 10.585350662949951, Best: 9.557880408701843\n"
     ]
    },
    {
     "name": "stderr",
     "output_type": "stream",
     "text": [
      "100%|██████████| 6/6 [00:01<00:00,  3.69it/s]\n"
     ]
    },
    {
     "name": "stdout",
     "output_type": "stream",
     "text": [
      "Current Round: 188, Average Loss: 93.5696305064306, Test Loss: 351.530070153237, Test Accuracy: 10.606987786558925, Best: 9.557880408701843\n"
     ]
    },
    {
     "name": "stderr",
     "output_type": "stream",
     "text": [
      "100%|██████████| 6/6 [00:01<00:00,  3.58it/s]\n"
     ]
    },
    {
     "name": "stdout",
     "output_type": "stream",
     "text": [
      "Current Round: 189, Average Loss: 97.63490765387483, Test Loss: 356.9183441361382, Test Accuracy: 10.738377754277604, Best: 9.557880408701843\n"
     ]
    },
    {
     "name": "stderr",
     "output_type": "stream",
     "text": [
      "100%|██████████| 6/6 [00:01<00:00,  3.48it/s]\n"
     ]
    },
    {
     "name": "stdout",
     "output_type": "stream",
     "text": [
      "Current Round: 190, Average Loss: 94.61989489642487, Test Loss: 357.54482593174095, Test Accuracy: 10.774069416183226, Best: 9.557880408701843\n"
     ]
    },
    {
     "name": "stderr",
     "output_type": "stream",
     "text": [
      "100%|██████████| 6/6 [00:01<00:00,  3.57it/s]\n"
     ]
    },
    {
     "name": "stdout",
     "output_type": "stream",
     "text": [
      "Current Round: 191, Average Loss: 91.30095258336661, Test Loss: 359.70825933569944, Test Accuracy: 10.827034535461198, Best: 9.557880408701843\n"
     ]
    },
    {
     "name": "stderr",
     "output_type": "stream",
     "text": [
      "100%|██████████| 6/6 [00:01<00:00,  3.56it/s]\n"
     ]
    },
    {
     "name": "stdout",
     "output_type": "stream",
     "text": [
      "Current Round: 192, Average Loss: 89.27200435097264, Test Loss: 355.6364743590835, Test Accuracy: 10.750478888680648, Best: 9.557880408701843\n"
     ]
    },
    {
     "name": "stderr",
     "output_type": "stream",
     "text": [
      "100%|██████████| 6/6 [00:01<00:00,  3.52it/s]\n"
     ]
    },
    {
     "name": "stdout",
     "output_type": "stream",
     "text": [
      "Current Round: 193, Average Loss: 92.6218627833032, Test Loss: 352.720182280115, Test Accuracy: 10.691067758250561, Best: 9.557880408701843\n"
     ]
    },
    {
     "name": "stderr",
     "output_type": "stream",
     "text": [
      "100%|██████████| 6/6 [00:01<00:00,  3.51it/s]\n"
     ]
    },
    {
     "name": "stdout",
     "output_type": "stream",
     "text": [
      "Current Round: 194, Average Loss: 89.84179508178478, Test Loss: 349.9629931166593, Test Accuracy: 10.597057524519192, Best: 9.557880408701843\n"
     ]
    },
    {
     "name": "stderr",
     "output_type": "stream",
     "text": [
      "100%|██████████| 6/6 [00:01<00:00,  3.59it/s]\n"
     ]
    },
    {
     "name": "stdout",
     "output_type": "stream",
     "text": [
      "Current Round: 195, Average Loss: 90.63420173263393, Test Loss: 352.64885133085716, Test Accuracy: 10.677333165278664, Best: 9.557880408701843\n"
     ]
    },
    {
     "name": "stderr",
     "output_type": "stream",
     "text": [
      "100%|██████████| 6/6 [00:01<00:00,  3.67it/s]\n"
     ]
    },
    {
     "name": "stdout",
     "output_type": "stream",
     "text": [
      "Current Round: 196, Average Loss: 90.0240039884576, Test Loss: 343.30723959503666, Test Accuracy: 10.451814772028019, Best: 9.557880408701843\n"
     ]
    },
    {
     "name": "stderr",
     "output_type": "stream",
     "text": [
      "100%|██████████| 6/6 [00:01<00:00,  3.70it/s]\n"
     ]
    },
    {
     "name": "stdout",
     "output_type": "stream",
     "text": [
      "Current Round: 197, Average Loss: 87.67589383587227, Test Loss: 347.85374360545416, Test Accuracy: 10.596972279979985, Best: 9.557880408701843\n"
     ]
    },
    {
     "name": "stderr",
     "output_type": "stream",
     "text": [
      "100%|██████████| 6/6 [00:01<00:00,  3.78it/s]\n"
     ]
    },
    {
     "name": "stdout",
     "output_type": "stream",
     "text": [
      "Current Round: 198, Average Loss: 86.08817902277599, Test Loss: 346.60022177752177, Test Accuracy: 10.605109837566314, Best: 9.557880408701843\n"
     ]
    },
    {
     "name": "stderr",
     "output_type": "stream",
     "text": [
      "100%|██████████| 6/6 [00:01<00:00,  3.71it/s]\n"
     ]
    },
    {
     "name": "stdout",
     "output_type": "stream",
     "text": [
      "Current Round: 199, Average Loss: 89.54465092504847, Test Loss: 341.37585736308915, Test Accuracy: 10.483303455319694, Best: 9.557880408701843\n"
     ]
    },
    {
     "name": "stderr",
     "output_type": "stream",
     "text": [
      "100%|██████████| 6/6 [00:01<00:00,  3.74it/s]\n"
     ]
    },
    {
     "name": "stdout",
     "output_type": "stream",
     "text": [
      "Current Round: 200, Average Loss: 91.51853850348783, Test Loss: 341.5566074869225, Test Accuracy: 10.479179538315556, Best: 9.557880408701843\n",
      "Training Done!\n",
      "Best Accuracy: 9.557880408701843\n",
      "Total time taken to Train: 417.09344029426575\n"
     ]
    }
   ],
   "source": [
    "for i in range(5):\n",
    "    model = RegressionModel(11)\n",
    "    model.cuda()\n",
    "    criterion = nn.MSELoss()\n",
    "    cr = 0.1\n",
    "    num = 1\n",
    "    filename = f\"BuildingFL_CR{cr}_{num}\"\n",
    "    while os.path.isfile(filename):\n",
    "        print('Name is taken...trying again...')\n",
    "        num += 1\n",
    "        filename = f\"BuildingFL_CR{cr}_{num}\"\n",
    "\n",
    "\n",
    "    training(model, 200, 16, 0.001, './data/dataloader.csv', data_dict, 1.0, 6, 1, 'plot_str', \"green\", './data/dataloader.csv', 2, criterion, 10, 10, False, filename, cr)"
   ]
  },
  {
   "cell_type": "code",
   "execution_count": 13,
   "metadata": {},
   "outputs": [
    {
     "name": "stderr",
     "output_type": "stream",
     "text": [
      "100%|██████████| 1/1 [00:01<00:00,  1.66s/it]\n"
     ]
    },
    {
     "name": "stdout",
     "output_type": "stream",
     "text": [
      "Current Round: 1, Average Loss: 194.44743538205066, Test Loss: 62.22600950842974, Test Accuracy: 6.395590212798902, Best: 6.395590212798902\n"
     ]
    },
    {
     "name": "stderr",
     "output_type": "stream",
     "text": [
      "100%|██████████| 1/1 [00:01<00:00,  1.69s/it]\n"
     ]
    },
    {
     "name": "stdout",
     "output_type": "stream",
     "text": [
      "Current Round: 2, Average Loss: 90.09667549205574, Test Loss: 49.83233490274031, Test Accuracy: 5.552458146456525, Best: 5.552458146456525\n"
     ]
    },
    {
     "name": "stderr",
     "output_type": "stream",
     "text": [
      "100%|██████████| 1/1 [00:01<00:00,  1.68s/it]\n"
     ]
    },
    {
     "name": "stdout",
     "output_type": "stream",
     "text": [
      "Current Round: 3, Average Loss: 74.8682418548605, Test Loss: 45.94217034592366, Test Accuracy: 5.2987509985851045, Best: 5.2987509985851045\n"
     ]
    },
    {
     "name": "stderr",
     "output_type": "stream",
     "text": [
      "100%|██████████| 1/1 [00:01<00:00,  1.66s/it]\n"
     ]
    },
    {
     "name": "stdout",
     "output_type": "stream",
     "text": [
      "Current Round: 4, Average Loss: 66.74301322492862, Test Loss: 56.296631237770264, Test Accuracy: 5.738061917914564, Best: 5.2987509985851045\n"
     ]
    },
    {
     "name": "stderr",
     "output_type": "stream",
     "text": [
      "100%|██████████| 1/1 [00:01<00:00,  1.68s/it]\n"
     ]
    },
    {
     "name": "stdout",
     "output_type": "stream",
     "text": [
      "Current Round: 5, Average Loss: 62.37912611007033, Test Loss: 49.86250308959734, Test Accuracy: 5.420789705620592, Best: 5.2987509985851045\n"
     ]
    },
    {
     "name": "stderr",
     "output_type": "stream",
     "text": [
      "100%|██████████| 1/1 [00:01<00:00,  1.65s/it]\n"
     ]
    },
    {
     "name": "stdout",
     "output_type": "stream",
     "text": [
      "Current Round: 6, Average Loss: 60.02461736897867, Test Loss: 44.55190937635844, Test Accuracy: 5.246020471391955, Best: 5.246020471391955\n"
     ]
    },
    {
     "name": "stderr",
     "output_type": "stream",
     "text": [
      "100%|██████████| 1/1 [00:01<00:00,  1.66s/it]\n"
     ]
    },
    {
     "name": "stdout",
     "output_type": "stream",
     "text": [
      "Current Round: 7, Average Loss: 58.923896270236845, Test Loss: 42.75253678314152, Test Accuracy: 5.290926106140175, Best: 5.246020471391955\n"
     ]
    },
    {
     "name": "stderr",
     "output_type": "stream",
     "text": [
      "100%|██████████| 1/1 [00:01<00:00,  1.68s/it]\n"
     ]
    },
    {
     "name": "stdout",
     "output_type": "stream",
     "text": [
      "Current Round: 8, Average Loss: 57.34084827897469, Test Loss: 40.38226638576368, Test Accuracy: 5.037113918108151, Best: 5.037113918108151\n"
     ]
    },
    {
     "name": "stderr",
     "output_type": "stream",
     "text": [
      "100%|██████████| 1/1 [00:01<00:00,  1.64s/it]\n"
     ]
    },
    {
     "name": "stdout",
     "output_type": "stream",
     "text": [
      "Current Round: 9, Average Loss: 56.99525967741522, Test Loss: 40.18682706895557, Test Accuracy: 4.909692883713232, Best: 4.909692883713232\n"
     ]
    },
    {
     "name": "stderr",
     "output_type": "stream",
     "text": [
      "100%|██████████| 1/1 [00:01<00:00,  1.66s/it]\n"
     ]
    },
    {
     "name": "stdout",
     "output_type": "stream",
     "text": [
      "Current Round: 10, Average Loss: 55.59309357824795, Test Loss: 44.119919356543015, Test Accuracy: 5.319698314820471, Best: 4.909692883713232\n"
     ]
    },
    {
     "name": "stderr",
     "output_type": "stream",
     "text": [
      "100%|██████████| 1/1 [00:01<00:00,  1.61s/it]\n"
     ]
    },
    {
     "name": "stdout",
     "output_type": "stream",
     "text": [
      "Current Round: 11, Average Loss: 55.15690536630429, Test Loss: 43.47115412722148, Test Accuracy: 5.293744320760066, Best: 4.909692883713232\n"
     ]
    },
    {
     "name": "stderr",
     "output_type": "stream",
     "text": [
      "100%|██████████| 1/1 [00:01<00:00,  1.55s/it]\n"
     ]
    },
    {
     "name": "stdout",
     "output_type": "stream",
     "text": [
      "Current Round: 12, Average Loss: 55.17406381711523, Test Loss: 45.55996347050155, Test Accuracy: 5.223730372259207, Best: 4.909692883713232\n"
     ]
    },
    {
     "name": "stderr",
     "output_type": "stream",
     "text": [
      "100%|██████████| 1/1 [00:01<00:00,  1.68s/it]\n"
     ]
    },
    {
     "name": "stdout",
     "output_type": "stream",
     "text": [
      "Current Round: 13, Average Loss: 54.55835011843932, Test Loss: 41.19087138711039, Test Accuracy: 4.991879169348228, Best: 4.909692883713232\n"
     ]
    },
    {
     "name": "stderr",
     "output_type": "stream",
     "text": [
      "100%|██████████| 1/1 [00:01<00:00,  1.69s/it]\n"
     ]
    },
    {
     "name": "stdout",
     "output_type": "stream",
     "text": [
      "Current Round: 14, Average Loss: 53.69091096326806, Test Loss: 38.426269750009766, Test Accuracy: 4.850803571536685, Best: 4.850803571536685\n"
     ]
    },
    {
     "name": "stderr",
     "output_type": "stream",
     "text": [
      "100%|██████████| 1/1 [00:01<00:00,  1.56s/it]\n"
     ]
    },
    {
     "name": "stdout",
     "output_type": "stream",
     "text": [
      "Current Round: 15, Average Loss: 53.57842059212638, Test Loss: 39.31715792864654, Test Accuracy: 4.888555000527483, Best: 4.850803571536685\n"
     ]
    },
    {
     "name": "stderr",
     "output_type": "stream",
     "text": [
      "100%|██████████| 1/1 [00:01<00:00,  1.64s/it]\n"
     ]
    },
    {
     "name": "stdout",
     "output_type": "stream",
     "text": [
      "Current Round: 16, Average Loss: 53.2168134884468, Test Loss: 39.178914343874716, Test Accuracy: 4.919501662328239, Best: 4.850803571536685\n"
     ]
    },
    {
     "name": "stderr",
     "output_type": "stream",
     "text": [
      "100%|██████████| 1/1 [00:01<00:00,  1.64s/it]\n"
     ]
    },
    {
     "name": "stdout",
     "output_type": "stream",
     "text": [
      "Current Round: 17, Average Loss: 53.99199434727831, Test Loss: 39.645760793384376, Test Accuracy: 4.830812672983395, Best: 4.830812672983395\n"
     ]
    },
    {
     "name": "stderr",
     "output_type": "stream",
     "text": [
      "100%|██████████| 1/1 [00:01<00:00,  1.66s/it]\n"
     ]
    },
    {
     "name": "stdout",
     "output_type": "stream",
     "text": [
      "Current Round: 18, Average Loss: 52.683541245810375, Test Loss: 40.088202983196375, Test Accuracy: 4.818239821016013, Best: 4.818239821016013\n"
     ]
    },
    {
     "name": "stderr",
     "output_type": "stream",
     "text": [
      "100%|██████████| 1/1 [00:01<00:00,  1.71s/it]\n"
     ]
    },
    {
     "name": "stdout",
     "output_type": "stream",
     "text": [
      "Current Round: 19, Average Loss: 52.10475941473067, Test Loss: 40.9946953240789, Test Accuracy: 4.860510192890014, Best: 4.818239821016013\n"
     ]
    },
    {
     "name": "stderr",
     "output_type": "stream",
     "text": [
      "100%|██████████| 1/1 [00:01<00:00,  1.60s/it]\n"
     ]
    },
    {
     "name": "stdout",
     "output_type": "stream",
     "text": [
      "Current Round: 20, Average Loss: 52.996696512443705, Test Loss: 38.41963793960921, Test Accuracy: 4.81865564903264, Best: 4.818239821016013\n"
     ]
    },
    {
     "name": "stderr",
     "output_type": "stream",
     "text": [
      "100%|██████████| 1/1 [00:01<00:00,  1.70s/it]\n"
     ]
    },
    {
     "name": "stdout",
     "output_type": "stream",
     "text": [
      "Current Round: 21, Average Loss: 52.187338179306785, Test Loss: 37.00997581292736, Test Accuracy: 4.711471548157306, Best: 4.711471548157306\n"
     ]
    },
    {
     "name": "stderr",
     "output_type": "stream",
     "text": [
      "100%|██████████| 1/1 [00:01<00:00,  1.69s/it]\n"
     ]
    },
    {
     "name": "stdout",
     "output_type": "stream",
     "text": [
      "Current Round: 22, Average Loss: 51.477219637122765, Test Loss: 44.13481370484836, Test Accuracy: 5.181595314531982, Best: 4.711471548157306\n"
     ]
    },
    {
     "name": "stderr",
     "output_type": "stream",
     "text": [
      "100%|██████████| 1/1 [00:01<00:00,  1.65s/it]\n"
     ]
    },
    {
     "name": "stdout",
     "output_type": "stream",
     "text": [
      "Current Round: 23, Average Loss: 51.65817000244225, Test Loss: 37.66965633494028, Test Accuracy: 4.674628291452293, Best: 4.674628291452293\n"
     ]
    },
    {
     "name": "stderr",
     "output_type": "stream",
     "text": [
      "100%|██████████| 1/1 [00:01<00:00,  1.65s/it]\n"
     ]
    },
    {
     "name": "stdout",
     "output_type": "stream",
     "text": [
      "Current Round: 24, Average Loss: 51.44125075542307, Test Loss: 39.73750247707, Test Accuracy: 5.033293178343137, Best: 4.674628291452293\n"
     ]
    },
    {
     "name": "stderr",
     "output_type": "stream",
     "text": [
      "100%|██████████| 1/1 [00:01<00:00,  1.69s/it]\n"
     ]
    },
    {
     "name": "stdout",
     "output_type": "stream",
     "text": [
      "Current Round: 25, Average Loss: 50.91357316987251, Test Loss: 40.97398518126571, Test Accuracy: 5.00756515720507, Best: 4.674628291452293\n"
     ]
    },
    {
     "name": "stderr",
     "output_type": "stream",
     "text": [
      "100%|██████████| 1/1 [00:01<00:00,  1.66s/it]\n"
     ]
    },
    {
     "name": "stdout",
     "output_type": "stream",
     "text": [
      "Current Round: 26, Average Loss: 51.599110031160784, Test Loss: 41.91362302464428, Test Accuracy: 5.2281998659761815, Best: 4.674628291452293\n"
     ]
    },
    {
     "name": "stderr",
     "output_type": "stream",
     "text": [
      "100%|██████████| 1/1 [00:01<00:00,  1.68s/it]\n"
     ]
    },
    {
     "name": "stdout",
     "output_type": "stream",
     "text": [
      "Current Round: 27, Average Loss: 50.439457784108036, Test Loss: 38.25445171386946, Test Accuracy: 4.73917635109435, Best: 4.674628291452293\n"
     ]
    },
    {
     "name": "stderr",
     "output_type": "stream",
     "text": [
      "100%|██████████| 1/1 [00:01<00:00,  1.61s/it]\n"
     ]
    },
    {
     "name": "stdout",
     "output_type": "stream",
     "text": [
      "Current Round: 28, Average Loss: 50.77191249099716, Test Loss: 40.21534712449113, Test Accuracy: 4.883783954163922, Best: 4.674628291452293\n"
     ]
    },
    {
     "name": "stderr",
     "output_type": "stream",
     "text": [
      "100%|██████████| 1/1 [00:01<00:00,  1.65s/it]\n"
     ]
    },
    {
     "name": "stdout",
     "output_type": "stream",
     "text": [
      "Current Round: 29, Average Loss: 50.16542991719655, Test Loss: 35.44475010294243, Test Accuracy: 4.611878867483405, Best: 4.611878867483405\n"
     ]
    },
    {
     "name": "stderr",
     "output_type": "stream",
     "text": [
      "100%|██████████| 1/1 [00:01<00:00,  1.67s/it]\n"
     ]
    },
    {
     "name": "stdout",
     "output_type": "stream",
     "text": [
      "Current Round: 30, Average Loss: 50.576393734271306, Test Loss: 37.41734429611897, Test Accuracy: 4.661812613783456, Best: 4.611878867483405\n"
     ]
    },
    {
     "name": "stderr",
     "output_type": "stream",
     "text": [
      "100%|██████████| 1/1 [00:01<00:00,  1.68s/it]\n"
     ]
    },
    {
     "name": "stdout",
     "output_type": "stream",
     "text": [
      "Current Round: 31, Average Loss: 50.821711910193926, Test Loss: 39.423730406787776, Test Accuracy: 4.96190289274477, Best: 4.611878867483405\n"
     ]
    },
    {
     "name": "stderr",
     "output_type": "stream",
     "text": [
      "100%|██████████| 1/1 [00:01<00:00,  1.70s/it]\n"
     ]
    },
    {
     "name": "stdout",
     "output_type": "stream",
     "text": [
      "Current Round: 32, Average Loss: 50.158006861782304, Test Loss: 46.38680168241724, Test Accuracy: 5.254901457926684, Best: 4.611878867483405\n"
     ]
    },
    {
     "name": "stderr",
     "output_type": "stream",
     "text": [
      "100%|██████████| 1/1 [00:01<00:00,  1.67s/it]\n"
     ]
    },
    {
     "name": "stdout",
     "output_type": "stream",
     "text": [
      "Current Round: 33, Average Loss: 50.03178925088796, Test Loss: 39.07182270624737, Test Accuracy: 4.97378467197974, Best: 4.611878867483405\n"
     ]
    },
    {
     "name": "stderr",
     "output_type": "stream",
     "text": [
      "100%|██████████| 1/1 [00:01<00:00,  1.63s/it]\n"
     ]
    },
    {
     "name": "stdout",
     "output_type": "stream",
     "text": [
      "Current Round: 34, Average Loss: 50.03478735707934, Test Loss: 38.510177907925986, Test Accuracy: 4.890275592177238, Best: 4.611878867483405\n"
     ]
    },
    {
     "name": "stderr",
     "output_type": "stream",
     "text": [
      "100%|██████████| 1/1 [00:01<00:00,  1.65s/it]\n"
     ]
    },
    {
     "name": "stdout",
     "output_type": "stream",
     "text": [
      "Current Round: 35, Average Loss: 50.00451452115302, Test Loss: 37.359938352505615, Test Accuracy: 4.83986085819592, Best: 4.611878867483405\n"
     ]
    },
    {
     "name": "stderr",
     "output_type": "stream",
     "text": [
      "100%|██████████| 1/1 [00:01<00:00,  1.65s/it]\n"
     ]
    },
    {
     "name": "stdout",
     "output_type": "stream",
     "text": [
      "Current Round: 36, Average Loss: 49.39037892508827, Test Loss: 44.41459289427803, Test Accuracy: 5.344030778746537, Best: 4.611878867483405\n"
     ]
    },
    {
     "name": "stderr",
     "output_type": "stream",
     "text": [
      "100%|██████████| 1/1 [00:01<00:00,  1.63s/it]\n"
     ]
    },
    {
     "name": "stdout",
     "output_type": "stream",
     "text": [
      "Current Round: 37, Average Loss: 49.45095209909479, Test Loss: 42.351993511126636, Test Accuracy: 5.127278980082484, Best: 4.611878867483405\n"
     ]
    },
    {
     "name": "stderr",
     "output_type": "stream",
     "text": [
      "100%|██████████| 1/1 [00:01<00:00,  1.67s/it]\n"
     ]
    },
    {
     "name": "stdout",
     "output_type": "stream",
     "text": [
      "Current Round: 38, Average Loss: 49.45219686102793, Test Loss: 36.19756503971334, Test Accuracy: 4.615442877885945, Best: 4.611878867483405\n"
     ]
    },
    {
     "name": "stderr",
     "output_type": "stream",
     "text": [
      "100%|██████████| 1/1 [00:01<00:00,  1.67s/it]\n"
     ]
    },
    {
     "name": "stdout",
     "output_type": "stream",
     "text": [
      "Current Round: 39, Average Loss: 49.07077993405428, Test Loss: 39.26900561167746, Test Accuracy: 4.82063181120937, Best: 4.611878867483405\n"
     ]
    },
    {
     "name": "stderr",
     "output_type": "stream",
     "text": [
      "100%|██████████| 1/1 [00:01<00:00,  1.67s/it]\n"
     ]
    },
    {
     "name": "stdout",
     "output_type": "stream",
     "text": [
      "Current Round: 40, Average Loss: 48.762958642773654, Test Loss: 36.273547090363664, Test Accuracy: 4.678657888848813, Best: 4.611878867483405\n"
     ]
    },
    {
     "name": "stderr",
     "output_type": "stream",
     "text": [
      "100%|██████████| 1/1 [00:01<00:00,  1.67s/it]\n"
     ]
    },
    {
     "name": "stdout",
     "output_type": "stream",
     "text": [
      "Current Round: 41, Average Loss: 49.3208667682854, Test Loss: 38.036349443789234, Test Accuracy: 4.774164106412771, Best: 4.611878867483405\n"
     ]
    },
    {
     "name": "stderr",
     "output_type": "stream",
     "text": [
      "100%|██████████| 1/1 [00:01<00:00,  1.69s/it]\n"
     ]
    },
    {
     "name": "stdout",
     "output_type": "stream",
     "text": [
      "Current Round: 42, Average Loss: 48.96810122801031, Test Loss: 38.099631854043714, Test Accuracy: 4.84060316801219, Best: 4.611878867483405\n"
     ]
    },
    {
     "name": "stderr",
     "output_type": "stream",
     "text": [
      "100%|██████████| 1/1 [00:01<00:00,  1.66s/it]\n"
     ]
    },
    {
     "name": "stdout",
     "output_type": "stream",
     "text": [
      "Current Round: 43, Average Loss: 49.14098591740444, Test Loss: 36.212841234958034, Test Accuracy: 4.700788101792262, Best: 4.611878867483405\n"
     ]
    },
    {
     "name": "stderr",
     "output_type": "stream",
     "text": [
      "100%|██████████| 1/1 [00:01<00:00,  1.66s/it]\n"
     ]
    },
    {
     "name": "stdout",
     "output_type": "stream",
     "text": [
      "Current Round: 44, Average Loss: 48.60960524582345, Test Loss: 36.56039525674724, Test Accuracy: 4.623514183692436, Best: 4.611878867483405\n"
     ]
    },
    {
     "name": "stderr",
     "output_type": "stream",
     "text": [
      "100%|██████████| 1/1 [00:01<00:00,  1.69s/it]\n"
     ]
    },
    {
     "name": "stdout",
     "output_type": "stream",
     "text": [
      "Current Round: 45, Average Loss: 48.83874506777909, Test Loss: 36.44053916907502, Test Accuracy: 4.715094919317048, Best: 4.611878867483405\n"
     ]
    },
    {
     "name": "stderr",
     "output_type": "stream",
     "text": [
      "100%|██████████| 1/1 [00:01<00:00,  1.70s/it]\n"
     ]
    },
    {
     "name": "stdout",
     "output_type": "stream",
     "text": [
      "Current Round: 46, Average Loss: 48.72211971936701, Test Loss: 37.50466290336178, Test Accuracy: 4.68877795905854, Best: 4.611878867483405\n"
     ]
    },
    {
     "name": "stderr",
     "output_type": "stream",
     "text": [
      "100%|██████████| 1/1 [00:01<00:00,  1.61s/it]\n"
     ]
    },
    {
     "name": "stdout",
     "output_type": "stream",
     "text": [
      "Current Round: 47, Average Loss: 48.36792373795202, Test Loss: 39.899638569140684, Test Accuracy: 5.049116334483554, Best: 4.611878867483405\n"
     ]
    },
    {
     "name": "stderr",
     "output_type": "stream",
     "text": [
      "100%|██████████| 1/1 [00:01<00:00,  1.62s/it]\n"
     ]
    },
    {
     "name": "stdout",
     "output_type": "stream",
     "text": [
      "Current Round: 48, Average Loss: 49.45495298729245, Test Loss: 39.8041689666398, Test Accuracy: 4.784391673987353, Best: 4.611878867483405\n"
     ]
    },
    {
     "name": "stderr",
     "output_type": "stream",
     "text": [
      "100%|██████████| 1/1 [00:01<00:00,  1.69s/it]\n"
     ]
    },
    {
     "name": "stdout",
     "output_type": "stream",
     "text": [
      "Current Round: 49, Average Loss: 48.12822563258114, Test Loss: 43.238456102904514, Test Accuracy: 5.101688032629175, Best: 4.611878867483405\n"
     ]
    },
    {
     "name": "stderr",
     "output_type": "stream",
     "text": [
      "100%|██████████| 1/1 [00:01<00:00,  1.68s/it]\n"
     ]
    },
    {
     "name": "stdout",
     "output_type": "stream",
     "text": [
      "Current Round: 50, Average Loss: 48.93914590192342, Test Loss: 48.98332522511113, Test Accuracy: 5.743408302453757, Best: 4.611878867483405\n"
     ]
    },
    {
     "name": "stderr",
     "output_type": "stream",
     "text": [
      "100%|██████████| 1/1 [00:01<00:00,  1.63s/it]\n"
     ]
    },
    {
     "name": "stdout",
     "output_type": "stream",
     "text": [
      "Current Round: 51, Average Loss: 48.56632807459291, Test Loss: 42.052262605973375, Test Accuracy: 4.97471817546355, Best: 4.611878867483405\n"
     ]
    },
    {
     "name": "stderr",
     "output_type": "stream",
     "text": [
      "100%|██████████| 1/1 [00:01<00:00,  1.59s/it]\n"
     ]
    },
    {
     "name": "stdout",
     "output_type": "stream",
     "text": [
      "Current Round: 52, Average Loss: 48.30284825862788, Test Loss: 39.860877879569045, Test Accuracy: 4.872691644620097, Best: 4.611878867483405\n"
     ]
    },
    {
     "name": "stderr",
     "output_type": "stream",
     "text": [
      "100%|██████████| 1/1 [00:01<00:00,  1.54s/it]\n"
     ]
    },
    {
     "name": "stdout",
     "output_type": "stream",
     "text": [
      "Current Round: 53, Average Loss: 48.394119802508484, Test Loss: 38.49380048076632, Test Accuracy: 4.746686075758062, Best: 4.611878867483405\n"
     ]
    },
    {
     "name": "stderr",
     "output_type": "stream",
     "text": [
      "100%|██████████| 1/1 [00:01<00:00,  1.63s/it]\n"
     ]
    },
    {
     "name": "stdout",
     "output_type": "stream",
     "text": [
      "Current Round: 54, Average Loss: 48.246700044816585, Test Loss: 40.41919340735552, Test Accuracy: 4.863757174279626, Best: 4.611878867483405\n"
     ]
    },
    {
     "name": "stderr",
     "output_type": "stream",
     "text": [
      "100%|██████████| 1/1 [00:01<00:00,  1.71s/it]\n"
     ]
    },
    {
     "name": "stdout",
     "output_type": "stream",
     "text": [
      "Current Round: 55, Average Loss: 48.127811105211066, Test Loss: 35.22883561495588, Test Accuracy: 4.613697610134969, Best: 4.611878867483405\n"
     ]
    },
    {
     "name": "stderr",
     "output_type": "stream",
     "text": [
      "100%|██████████| 1/1 [00:01<00:00,  1.69s/it]\n"
     ]
    },
    {
     "name": "stdout",
     "output_type": "stream",
     "text": [
      "Current Round: 56, Average Loss: 48.08874527618797, Test Loss: 41.00522748328704, Test Accuracy: 4.936938451966808, Best: 4.611878867483405\n"
     ]
    },
    {
     "name": "stderr",
     "output_type": "stream",
     "text": [
      "100%|██████████| 1/1 [00:01<00:00,  1.69s/it]\n"
     ]
    },
    {
     "name": "stdout",
     "output_type": "stream",
     "text": [
      "Current Round: 57, Average Loss: 47.78908207834568, Test Loss: 46.90941669064431, Test Accuracy: 5.2465187564667755, Best: 4.611878867483405\n"
     ]
    },
    {
     "name": "stderr",
     "output_type": "stream",
     "text": [
      "100%|██████████| 1/1 [00:01<00:00,  1.69s/it]\n"
     ]
    },
    {
     "name": "stdout",
     "output_type": "stream",
     "text": [
      "Current Round: 58, Average Loss: 47.55969247532187, Test Loss: 48.915399545479175, Test Accuracy: 5.751643155423736, Best: 4.611878867483405\n"
     ]
    },
    {
     "name": "stderr",
     "output_type": "stream",
     "text": [
      "100%|██████████| 1/1 [00:01<00:00,  1.64s/it]\n"
     ]
    },
    {
     "name": "stdout",
     "output_type": "stream",
     "text": [
      "Current Round: 59, Average Loss: 47.53480639955401, Test Loss: 40.967344975811464, Test Accuracy: 4.882988940982145, Best: 4.611878867483405\n"
     ]
    },
    {
     "name": "stderr",
     "output_type": "stream",
     "text": [
      "100%|██████████| 1/1 [00:01<00:00,  1.70s/it]\n"
     ]
    },
    {
     "name": "stdout",
     "output_type": "stream",
     "text": [
      "Current Round: 60, Average Loss: 47.733512118106624, Test Loss: 37.18198343337284, Test Accuracy: 4.691841622132067, Best: 4.611878867483405\n"
     ]
    },
    {
     "name": "stderr",
     "output_type": "stream",
     "text": [
      "100%|██████████| 1/1 [00:01<00:00,  1.70s/it]\n"
     ]
    },
    {
     "name": "stdout",
     "output_type": "stream",
     "text": [
      "Current Round: 61, Average Loss: 47.0151480916201, Test Loss: 35.690379157542296, Test Accuracy: 4.549386416468942, Best: 4.549386416468942\n"
     ]
    },
    {
     "name": "stderr",
     "output_type": "stream",
     "text": [
      "100%|██████████| 1/1 [00:01<00:00,  1.68s/it]\n"
     ]
    },
    {
     "name": "stdout",
     "output_type": "stream",
     "text": [
      "Current Round: 62, Average Loss: 47.27662555459364, Test Loss: 35.73984056604034, Test Accuracy: 4.573127453325701, Best: 4.549386416468942\n"
     ]
    },
    {
     "name": "stderr",
     "output_type": "stream",
     "text": [
      "100%|██████████| 1/1 [00:01<00:00,  1.70s/it]\n"
     ]
    },
    {
     "name": "stdout",
     "output_type": "stream",
     "text": [
      "Current Round: 63, Average Loss: 47.63912002913015, Test Loss: 38.26651844561506, Test Accuracy: 4.774173429126113, Best: 4.549386416468942\n"
     ]
    },
    {
     "name": "stderr",
     "output_type": "stream",
     "text": [
      "100%|██████████| 1/1 [00:01<00:00,  1.67s/it]\n"
     ]
    },
    {
     "name": "stdout",
     "output_type": "stream",
     "text": [
      "Current Round: 64, Average Loss: 47.36033987911907, Test Loss: 41.78558097621778, Test Accuracy: 5.070858819988745, Best: 4.549386416468942\n"
     ]
    },
    {
     "name": "stderr",
     "output_type": "stream",
     "text": [
      "100%|██████████| 1/1 [00:01<00:00,  1.69s/it]\n"
     ]
    },
    {
     "name": "stdout",
     "output_type": "stream",
     "text": [
      "Current Round: 65, Average Loss: 47.47815840048006, Test Loss: 39.63652463559401, Test Accuracy: 4.784924218023481, Best: 4.549386416468942\n"
     ]
    },
    {
     "name": "stderr",
     "output_type": "stream",
     "text": [
      "100%|██████████| 1/1 [00:01<00:00,  1.68s/it]\n"
     ]
    },
    {
     "name": "stdout",
     "output_type": "stream",
     "text": [
      "Current Round: 66, Average Loss: 47.31483249854844, Test Loss: 36.57296453287937, Test Accuracy: 4.780412746081793, Best: 4.549386416468942\n"
     ]
    },
    {
     "name": "stderr",
     "output_type": "stream",
     "text": [
      "100%|██████████| 1/1 [00:01<00:00,  1.60s/it]\n"
     ]
    },
    {
     "name": "stdout",
     "output_type": "stream",
     "text": [
      "Current Round: 67, Average Loss: 47.05557020307614, Test Loss: 39.130510667208476, Test Accuracy: 4.9650201626024995, Best: 4.549386416468942\n"
     ]
    },
    {
     "name": "stderr",
     "output_type": "stream",
     "text": [
      "100%|██████████| 1/1 [00:01<00:00,  1.63s/it]\n"
     ]
    },
    {
     "name": "stdout",
     "output_type": "stream",
     "text": [
      "Current Round: 68, Average Loss: 47.34494398007342, Test Loss: 35.84993203737243, Test Accuracy: 4.633906045761155, Best: 4.549386416468942\n"
     ]
    },
    {
     "name": "stderr",
     "output_type": "stream",
     "text": [
      "100%|██████████| 1/1 [00:01<00:00,  1.61s/it]\n"
     ]
    },
    {
     "name": "stdout",
     "output_type": "stream",
     "text": [
      "Current Round: 69, Average Loss: 47.18120509590152, Test Loss: 37.73373740397842, Test Accuracy: 4.729491726330771, Best: 4.549386416468942\n"
     ]
    },
    {
     "name": "stderr",
     "output_type": "stream",
     "text": [
      "100%|██████████| 1/1 [00:01<00:00,  1.64s/it]\n"
     ]
    },
    {
     "name": "stdout",
     "output_type": "stream",
     "text": [
      "Current Round: 70, Average Loss: 47.00960663977139, Test Loss: 37.092995881886495, Test Accuracy: 4.727108668630639, Best: 4.549386416468942\n"
     ]
    },
    {
     "name": "stderr",
     "output_type": "stream",
     "text": [
      "100%|██████████| 1/1 [00:01<00:00,  1.66s/it]\n"
     ]
    },
    {
     "name": "stdout",
     "output_type": "stream",
     "text": [
      "Current Round: 71, Average Loss: 46.72255759086438, Test Loss: 37.508556822406085, Test Accuracy: 4.704238752068308, Best: 4.549386416468942\n"
     ]
    },
    {
     "name": "stderr",
     "output_type": "stream",
     "text": [
      "100%|██████████| 1/1 [00:01<00:00,  1.61s/it]\n"
     ]
    },
    {
     "name": "stdout",
     "output_type": "stream",
     "text": [
      "Current Round: 72, Average Loss: 46.81728934872122, Test Loss: 33.49761142955385, Test Accuracy: 4.467524555109335, Best: 4.467524555109335\n"
     ]
    },
    {
     "name": "stderr",
     "output_type": "stream",
     "text": [
      "100%|██████████| 1/1 [00:01<00:00,  1.56s/it]\n"
     ]
    },
    {
     "name": "stdout",
     "output_type": "stream",
     "text": [
      "Current Round: 73, Average Loss: 46.952140475847045, Test Loss: 37.489035739413865, Test Accuracy: 4.846699893807153, Best: 4.467524555109335\n"
     ]
    },
    {
     "name": "stderr",
     "output_type": "stream",
     "text": [
      "100%|██████████| 1/1 [00:01<00:00,  1.66s/it]\n"
     ]
    },
    {
     "name": "stdout",
     "output_type": "stream",
     "text": [
      "Current Round: 74, Average Loss: 47.36131354245571, Test Loss: 35.87130380430653, Test Accuracy: 4.733908140651942, Best: 4.467524555109335\n"
     ]
    },
    {
     "name": "stderr",
     "output_type": "stream",
     "text": [
      "100%|██████████| 1/1 [00:01<00:00,  1.68s/it]\n"
     ]
    },
    {
     "name": "stdout",
     "output_type": "stream",
     "text": [
      "Current Round: 75, Average Loss: 46.621552015640304, Test Loss: 41.83769377668822, Test Accuracy: 4.910647198936618, Best: 4.467524555109335\n"
     ]
    },
    {
     "name": "stderr",
     "output_type": "stream",
     "text": [
      "100%|██████████| 1/1 [00:01<00:00,  1.71s/it]\n"
     ]
    },
    {
     "name": "stdout",
     "output_type": "stream",
     "text": [
      "Current Round: 76, Average Loss: 46.7265385674067, Test Loss: 37.91984664529137, Test Accuracy: 4.702842646183172, Best: 4.467524555109335\n"
     ]
    },
    {
     "name": "stderr",
     "output_type": "stream",
     "text": [
      "100%|██████████| 1/1 [00:01<00:00,  1.66s/it]\n"
     ]
    },
    {
     "name": "stdout",
     "output_type": "stream",
     "text": [
      "Current Round: 77, Average Loss: 46.72160417883305, Test Loss: 36.7303580516477, Test Accuracy: 4.702328068827223, Best: 4.467524555109335\n"
     ]
    },
    {
     "name": "stderr",
     "output_type": "stream",
     "text": [
      "100%|██████████| 1/1 [00:01<00:00,  1.70s/it]\n"
     ]
    },
    {
     "name": "stdout",
     "output_type": "stream",
     "text": [
      "Current Round: 78, Average Loss: 46.71684584635683, Test Loss: 37.73996989799448, Test Accuracy: 4.730340731786928, Best: 4.467524555109335\n"
     ]
    },
    {
     "name": "stderr",
     "output_type": "stream",
     "text": [
      "100%|██████████| 1/1 [00:01<00:00,  1.58s/it]\n"
     ]
    },
    {
     "name": "stdout",
     "output_type": "stream",
     "text": [
      "Current Round: 79, Average Loss: 46.67011964977342, Test Loss: 37.94633481521748, Test Accuracy: 4.792340091201583, Best: 4.467524555109335\n"
     ]
    },
    {
     "name": "stderr",
     "output_type": "stream",
     "text": [
      "100%|██████████| 1/1 [00:01<00:00,  1.64s/it]\n"
     ]
    },
    {
     "name": "stdout",
     "output_type": "stream",
     "text": [
      "Current Round: 80, Average Loss: 46.18493697205536, Test Loss: 39.44247870022513, Test Accuracy: 4.812890262686533, Best: 4.467524555109335\n"
     ]
    },
    {
     "name": "stderr",
     "output_type": "stream",
     "text": [
      "100%|██████████| 1/1 [00:01<00:00,  1.62s/it]\n"
     ]
    },
    {
     "name": "stdout",
     "output_type": "stream",
     "text": [
      "Current Round: 81, Average Loss: 46.337356783413206, Test Loss: 36.86437661205843, Test Accuracy: 4.766428016241633, Best: 4.467524555109335\n"
     ]
    },
    {
     "name": "stderr",
     "output_type": "stream",
     "text": [
      "100%|██████████| 1/1 [00:01<00:00,  1.60s/it]\n"
     ]
    },
    {
     "name": "stdout",
     "output_type": "stream",
     "text": [
      "Current Round: 82, Average Loss: 46.53104204735672, Test Loss: 35.90758618226498, Test Accuracy: 4.757034441291067, Best: 4.467524555109335\n"
     ]
    },
    {
     "name": "stderr",
     "output_type": "stream",
     "text": [
      "100%|██████████| 1/1 [00:01<00:00,  1.58s/it]\n"
     ]
    },
    {
     "name": "stdout",
     "output_type": "stream",
     "text": [
      "Current Round: 83, Average Loss: 46.32291028649898, Test Loss: 34.22480457847487, Test Accuracy: 4.541429885041248, Best: 4.467524555109335\n"
     ]
    },
    {
     "name": "stderr",
     "output_type": "stream",
     "text": [
      "100%|██████████| 1/1 [00:01<00:00,  1.64s/it]\n"
     ]
    },
    {
     "name": "stdout",
     "output_type": "stream",
     "text": [
      "Current Round: 84, Average Loss: 46.07034482052521, Test Loss: 41.20373196728985, Test Accuracy: 4.914456823340721, Best: 4.467524555109335\n"
     ]
    },
    {
     "name": "stderr",
     "output_type": "stream",
     "text": [
      "100%|██████████| 1/1 [00:01<00:00,  1.66s/it]\n"
     ]
    },
    {
     "name": "stdout",
     "output_type": "stream",
     "text": [
      "Current Round: 85, Average Loss: 46.348425087450785, Test Loss: 35.2294808876714, Test Accuracy: 4.626460229692737, Best: 4.467524555109335\n"
     ]
    },
    {
     "name": "stderr",
     "output_type": "stream",
     "text": [
      "100%|██████████| 1/1 [00:01<00:00,  1.67s/it]\n"
     ]
    },
    {
     "name": "stdout",
     "output_type": "stream",
     "text": [
      "Current Round: 86, Average Loss: 45.94735493241119, Test Loss: 41.60954027832182, Test Accuracy: 5.2355639533972935, Best: 4.467524555109335\n"
     ]
    },
    {
     "name": "stderr",
     "output_type": "stream",
     "text": [
      "100%|██████████| 1/1 [00:01<00:00,  1.67s/it]\n"
     ]
    },
    {
     "name": "stdout",
     "output_type": "stream",
     "text": [
      "Current Round: 87, Average Loss: 46.03689758617468, Test Loss: 35.07594661393375, Test Accuracy: 4.67080592458764, Best: 4.467524555109335\n"
     ]
    },
    {
     "name": "stderr",
     "output_type": "stream",
     "text": [
      "100%|██████████| 1/1 [00:01<00:00,  1.65s/it]\n"
     ]
    },
    {
     "name": "stdout",
     "output_type": "stream",
     "text": [
      "Current Round: 88, Average Loss: 45.898685778973636, Test Loss: 37.307290630021306, Test Accuracy: 4.738694547498293, Best: 4.467524555109335\n"
     ]
    },
    {
     "name": "stderr",
     "output_type": "stream",
     "text": [
      "100%|██████████| 1/1 [00:01<00:00,  1.65s/it]\n"
     ]
    },
    {
     "name": "stdout",
     "output_type": "stream",
     "text": [
      "Current Round: 89, Average Loss: 47.01723571209673, Test Loss: 35.87061887694972, Test Accuracy: 4.7036823336559275, Best: 4.467524555109335\n"
     ]
    },
    {
     "name": "stderr",
     "output_type": "stream",
     "text": [
      "100%|██████████| 1/1 [00:01<00:00,  1.59s/it]\n"
     ]
    },
    {
     "name": "stdout",
     "output_type": "stream",
     "text": [
      "Current Round: 90, Average Loss: 46.22525165280596, Test Loss: 34.97287220313397, Test Accuracy: 4.620184757069483, Best: 4.467524555109335\n"
     ]
    },
    {
     "name": "stderr",
     "output_type": "stream",
     "text": [
      "100%|██████████| 1/1 [00:01<00:00,  1.63s/it]\n"
     ]
    },
    {
     "name": "stdout",
     "output_type": "stream",
     "text": [
      "Current Round: 91, Average Loss: 45.55530692694148, Test Loss: 41.04522014033772, Test Accuracy: 4.879040984729027, Best: 4.467524555109335\n"
     ]
    },
    {
     "name": "stderr",
     "output_type": "stream",
     "text": [
      "100%|██████████| 1/1 [00:01<00:00,  1.61s/it]\n"
     ]
    },
    {
     "name": "stdout",
     "output_type": "stream",
     "text": [
      "Current Round: 92, Average Loss: 45.46724714120831, Test Loss: 36.06347176042759, Test Accuracy: 4.628353844942399, Best: 4.467524555109335\n"
     ]
    },
    {
     "name": "stderr",
     "output_type": "stream",
     "text": [
      "100%|██████████| 1/1 [00:01<00:00,  1.65s/it]\n"
     ]
    },
    {
     "name": "stdout",
     "output_type": "stream",
     "text": [
      "Current Round: 93, Average Loss: 45.612932951188355, Test Loss: 39.618345741891595, Test Accuracy: 4.9590183832744446, Best: 4.467524555109335\n"
     ]
    },
    {
     "name": "stderr",
     "output_type": "stream",
     "text": [
      "100%|██████████| 1/1 [00:01<00:00,  1.65s/it]\n"
     ]
    },
    {
     "name": "stdout",
     "output_type": "stream",
     "text": [
      "Current Round: 94, Average Loss: 45.88285693813512, Test Loss: 37.88465631133787, Test Accuracy: 4.831996965024017, Best: 4.467524555109335\n"
     ]
    },
    {
     "name": "stderr",
     "output_type": "stream",
     "text": [
      "100%|██████████| 1/1 [00:01<00:00,  1.62s/it]\n"
     ]
    },
    {
     "name": "stdout",
     "output_type": "stream",
     "text": [
      "Current Round: 95, Average Loss: 45.51838978745385, Test Loss: 40.52697495651481, Test Accuracy: 4.855857702492928, Best: 4.467524555109335\n"
     ]
    },
    {
     "name": "stderr",
     "output_type": "stream",
     "text": [
      "100%|██████████| 1/1 [00:01<00:00,  1.69s/it]\n"
     ]
    },
    {
     "name": "stdout",
     "output_type": "stream",
     "text": [
      "Current Round: 96, Average Loss: 45.4365679145311, Test Loss: 34.00138084236613, Test Accuracy: 4.57509575907074, Best: 4.467524555109335\n"
     ]
    },
    {
     "name": "stderr",
     "output_type": "stream",
     "text": [
      "100%|██████████| 1/1 [00:01<00:00,  1.72s/it]\n"
     ]
    },
    {
     "name": "stdout",
     "output_type": "stream",
     "text": [
      "Current Round: 97, Average Loss: 45.14224536487081, Test Loss: 38.39899780405876, Test Accuracy: 4.732464676234416, Best: 4.467524555109335\n"
     ]
    },
    {
     "name": "stderr",
     "output_type": "stream",
     "text": [
      "100%|██████████| 1/1 [00:01<00:00,  1.68s/it]\n"
     ]
    },
    {
     "name": "stdout",
     "output_type": "stream",
     "text": [
      "Current Round: 98, Average Loss: 45.49613792059383, Test Loss: 34.21000238360637, Test Accuracy: 4.505742219096005, Best: 4.467524555109335\n"
     ]
    },
    {
     "name": "stderr",
     "output_type": "stream",
     "text": [
      "100%|██████████| 1/1 [00:01<00:00,  1.61s/it]\n"
     ]
    },
    {
     "name": "stdout",
     "output_type": "stream",
     "text": [
      "Current Round: 99, Average Loss: 45.570083821710945, Test Loss: 37.574955097725876, Test Accuracy: 4.871093035778937, Best: 4.467524555109335\n"
     ]
    },
    {
     "name": "stderr",
     "output_type": "stream",
     "text": [
      "100%|██████████| 1/1 [00:01<00:00,  1.62s/it]\n"
     ]
    },
    {
     "name": "stdout",
     "output_type": "stream",
     "text": [
      "Current Round: 100, Average Loss: 45.184112410064074, Test Loss: 35.97188223539046, Test Accuracy: 4.713318299153394, Best: 4.467524555109335\n",
      "Training Done!\n",
      "Best Accuracy: 4.467524555109335\n",
      "Total time taken to Train: 180.62044143676758\n",
      "Name is taken...trying again...\n"
     ]
    },
    {
     "name": "stderr",
     "output_type": "stream",
     "text": [
      "100%|██████████| 1/1 [00:01<00:00,  1.65s/it]\n"
     ]
    },
    {
     "name": "stdout",
     "output_type": "stream",
     "text": [
      "Current Round: 1, Average Loss: 239.5218389549873, Test Loss: 63.90326280824457, Test Accuracy: 6.3312360570804715, Best: 6.3312360570804715\n"
     ]
    },
    {
     "name": "stderr",
     "output_type": "stream",
     "text": [
      "100%|██████████| 1/1 [00:01<00:00,  1.60s/it]\n"
     ]
    },
    {
     "name": "stdout",
     "output_type": "stream",
     "text": [
      "Current Round: 2, Average Loss: 79.60688227864738, Test Loss: 55.44347940434304, Test Accuracy: 5.719907435436686, Best: 5.719907435436686\n"
     ]
    },
    {
     "name": "stderr",
     "output_type": "stream",
     "text": [
      "100%|██████████| 1/1 [00:01<00:00,  1.58s/it]\n"
     ]
    },
    {
     "name": "stdout",
     "output_type": "stream",
     "text": [
      "Current Round: 3, Average Loss: 70.63894959967834, Test Loss: 79.59553414786446, Test Accuracy: 7.159904496535262, Best: 5.719907435436686\n"
     ]
    },
    {
     "name": "stderr",
     "output_type": "stream",
     "text": [
      "100%|██████████| 1/1 [00:01<00:00,  1.65s/it]\n"
     ]
    },
    {
     "name": "stdout",
     "output_type": "stream",
     "text": [
      "Current Round: 4, Average Loss: 64.5607211027234, Test Loss: 45.547010947958846, Test Accuracy: 5.359317422430484, Best: 5.359317422430484\n"
     ]
    },
    {
     "name": "stderr",
     "output_type": "stream",
     "text": [
      "100%|██████████| 1/1 [00:01<00:00,  1.58s/it]\n"
     ]
    },
    {
     "name": "stdout",
     "output_type": "stream",
     "text": [
      "Current Round: 5, Average Loss: 62.458580684103396, Test Loss: 81.73557958348671, Test Accuracy: 7.091097163030692, Best: 5.359317422430484\n"
     ]
    },
    {
     "name": "stderr",
     "output_type": "stream",
     "text": [
      "100%|██████████| 1/1 [00:01<00:00,  1.69s/it]\n"
     ]
    },
    {
     "name": "stdout",
     "output_type": "stream",
     "text": [
      "Current Round: 6, Average Loss: 60.239656834827386, Test Loss: 44.1992365712345, Test Accuracy: 5.247495354441331, Best: 5.247495354441331\n"
     ]
    },
    {
     "name": "stderr",
     "output_type": "stream",
     "text": [
      "100%|██████████| 1/1 [00:01<00:00,  1.60s/it]\n"
     ]
    },
    {
     "name": "stdout",
     "output_type": "stream",
     "text": [
      "Current Round: 7, Average Loss: 57.851428008202724, Test Loss: 40.4664300964696, Test Accuracy: 4.9151414420688955, Best: 4.9151414420688955\n"
     ]
    },
    {
     "name": "stderr",
     "output_type": "stream",
     "text": [
      "100%|██████████| 1/1 [00:01<00:00,  1.70s/it]\n"
     ]
    },
    {
     "name": "stdout",
     "output_type": "stream",
     "text": [
      "Current Round: 8, Average Loss: 57.34406563525277, Test Loss: 40.3607114282219, Test Accuracy: 4.914696560390825, Best: 4.914696560390825\n"
     ]
    },
    {
     "name": "stderr",
     "output_type": "stream",
     "text": [
      "100%|██████████| 1/1 [00:01<00:00,  1.66s/it]\n"
     ]
    },
    {
     "name": "stdout",
     "output_type": "stream",
     "text": [
      "Current Round: 9, Average Loss: 57.09764674972182, Test Loss: 39.66777090840065, Test Accuracy: 4.976340592461791, Best: 4.914696560390825\n"
     ]
    },
    {
     "name": "stderr",
     "output_type": "stream",
     "text": [
      "100%|██████████| 1/1 [00:01<00:00,  1.62s/it]\n"
     ]
    },
    {
     "name": "stdout",
     "output_type": "stream",
     "text": [
      "Current Round: 10, Average Loss: 55.52944603215979, Test Loss: 40.616836912057, Test Accuracy: 5.024811852887337, Best: 4.914696560390825\n"
     ]
    },
    {
     "name": "stderr",
     "output_type": "stream",
     "text": [
      "100%|██████████| 1/1 [00:01<00:00,  1.61s/it]\n"
     ]
    },
    {
     "name": "stdout",
     "output_type": "stream",
     "text": [
      "Current Round: 11, Average Loss: 54.328395090553215, Test Loss: 52.14089124836836, Test Accuracy: 5.651437713282491, Best: 4.914696560390825\n"
     ]
    },
    {
     "name": "stderr",
     "output_type": "stream",
     "text": [
      "100%|██████████| 1/1 [00:01<00:00,  1.70s/it]\n"
     ]
    },
    {
     "name": "stdout",
     "output_type": "stream",
     "text": [
      "Current Round: 12, Average Loss: 54.66825674190383, Test Loss: 38.437609602188516, Test Accuracy: 4.849225336915576, Best: 4.849225336915576\n"
     ]
    },
    {
     "name": "stderr",
     "output_type": "stream",
     "text": [
      "100%|██████████| 1/1 [00:01<00:00,  1.64s/it]\n"
     ]
    },
    {
     "name": "stdout",
     "output_type": "stream",
     "text": [
      "Current Round: 13, Average Loss: 53.436335443752284, Test Loss: 40.06873114243547, Test Accuracy: 4.989528341464795, Best: 4.849225336915576\n"
     ]
    },
    {
     "name": "stderr",
     "output_type": "stream",
     "text": [
      "100%|██████████| 1/1 [00:01<00:00,  1.70s/it]\n"
     ]
    },
    {
     "name": "stdout",
     "output_type": "stream",
     "text": [
      "Current Round: 14, Average Loss: 53.97574454033904, Test Loss: 37.66590123138144, Test Accuracy: 4.697485342575613, Best: 4.697485342575613\n"
     ]
    },
    {
     "name": "stderr",
     "output_type": "stream",
     "text": [
      "100%|██████████| 1/1 [00:01<00:00,  1.69s/it]\n"
     ]
    },
    {
     "name": "stdout",
     "output_type": "stream",
     "text": [
      "Current Round: 15, Average Loss: 52.68161574155759, Test Loss: 37.404370487068874, Test Accuracy: 4.689398446884202, Best: 4.689398446884202\n"
     ]
    },
    {
     "name": "stderr",
     "output_type": "stream",
     "text": [
      "100%|██████████| 1/1 [00:01<00:00,  1.63s/it]\n"
     ]
    },
    {
     "name": "stdout",
     "output_type": "stream",
     "text": [
      "Current Round: 16, Average Loss: 52.345146314415324, Test Loss: 45.647975644929325, Test Accuracy: 5.3171323905136, Best: 4.689398446884202\n"
     ]
    },
    {
     "name": "stderr",
     "output_type": "stream",
     "text": [
      "100%|██████████| 1/1 [00:01<00:00,  1.70s/it]\n"
     ]
    },
    {
     "name": "stdout",
     "output_type": "stream",
     "text": [
      "Current Round: 17, Average Loss: 52.12059181468305, Test Loss: 38.70164144933408, Test Accuracy: 4.865536485779603, Best: 4.689398446884202\n"
     ]
    },
    {
     "name": "stderr",
     "output_type": "stream",
     "text": [
      "100%|██████████| 1/1 [00:01<00:00,  1.71s/it]\n"
     ]
    },
    {
     "name": "stdout",
     "output_type": "stream",
     "text": [
      "Current Round: 18, Average Loss: 52.1114043866853, Test Loss: 40.95156452630665, Test Accuracy: 4.995671697381263, Best: 4.689398446884202\n"
     ]
    },
    {
     "name": "stderr",
     "output_type": "stream",
     "text": [
      "100%|██████████| 1/1 [00:01<00:00,  1.70s/it]\n"
     ]
    },
    {
     "name": "stdout",
     "output_type": "stream",
     "text": [
      "Current Round: 19, Average Loss: 51.546011194852646, Test Loss: 40.22894359240972, Test Accuracy: 4.992277945928225, Best: 4.689398446884202\n"
     ]
    },
    {
     "name": "stderr",
     "output_type": "stream",
     "text": [
      "100%|██████████| 1/1 [00:01<00:00,  1.54s/it]\n"
     ]
    },
    {
     "name": "stdout",
     "output_type": "stream",
     "text": [
      "Current Round: 20, Average Loss: 51.46251554525272, Test Loss: 35.534729961719265, Test Accuracy: 4.632824738721854, Best: 4.632824738721854\n"
     ]
    },
    {
     "name": "stderr",
     "output_type": "stream",
     "text": [
      "100%|██████████| 1/1 [00:01<00:00,  1.61s/it]\n"
     ]
    },
    {
     "name": "stdout",
     "output_type": "stream",
     "text": [
      "Current Round: 21, Average Loss: 51.50514687640972, Test Loss: 39.21598938305187, Test Accuracy: 4.892900938730541, Best: 4.632824738721854\n"
     ]
    },
    {
     "name": "stderr",
     "output_type": "stream",
     "text": [
      "100%|██████████| 1/1 [00:01<00:00,  1.57s/it]\n"
     ]
    },
    {
     "name": "stdout",
     "output_type": "stream",
     "text": [
      "Current Round: 22, Average Loss: 50.21346450106588, Test Loss: 40.26628139753631, Test Accuracy: 4.928193444135539, Best: 4.632824738721854\n"
     ]
    },
    {
     "name": "stderr",
     "output_type": "stream",
     "text": [
      "100%|██████████| 1/1 [00:01<00:00,  1.66s/it]\n"
     ]
    },
    {
     "name": "stdout",
     "output_type": "stream",
     "text": [
      "Current Round: 23, Average Loss: 50.18185360074413, Test Loss: 36.76630977245125, Test Accuracy: 4.8399140487453325, Best: 4.632824738721854\n"
     ]
    },
    {
     "name": "stderr",
     "output_type": "stream",
     "text": [
      "100%|██████████| 1/1 [00:01<00:00,  1.69s/it]\n"
     ]
    },
    {
     "name": "stdout",
     "output_type": "stream",
     "text": [
      "Current Round: 24, Average Loss: 49.78819453823866, Test Loss: 38.786535356477856, Test Accuracy: 4.806578490132511, Best: 4.632824738721854\n"
     ]
    },
    {
     "name": "stderr",
     "output_type": "stream",
     "text": [
      "100%|██████████| 1/1 [00:01<00:00,  1.72s/it]\n"
     ]
    },
    {
     "name": "stdout",
     "output_type": "stream",
     "text": [
      "Current Round: 25, Average Loss: 49.76543131902881, Test Loss: 35.991404288020554, Test Accuracy: 4.619739227389521, Best: 4.619739227389521\n"
     ]
    },
    {
     "name": "stderr",
     "output_type": "stream",
     "text": [
      "100%|██████████| 1/1 [00:01<00:00,  1.71s/it]\n"
     ]
    },
    {
     "name": "stdout",
     "output_type": "stream",
     "text": [
      "Current Round: 26, Average Loss: 49.31218881242406, Test Loss: 36.57925317838779, Test Accuracy: 4.7543527729675334, Best: 4.619739227389521\n"
     ]
    },
    {
     "name": "stderr",
     "output_type": "stream",
     "text": [
      "100%|██████████| 1/1 [00:01<00:00,  1.69s/it]\n"
     ]
    },
    {
     "name": "stdout",
     "output_type": "stream",
     "text": [
      "Current Round: 27, Average Loss: 50.06535621982092, Test Loss: 34.220073191482534, Test Accuracy: 4.5929815714505615, Best: 4.5929815714505615\n"
     ]
    },
    {
     "name": "stderr",
     "output_type": "stream",
     "text": [
      "100%|██████████| 1/1 [00:01<00:00,  1.72s/it]\n"
     ]
    },
    {
     "name": "stdout",
     "output_type": "stream",
     "text": [
      "Current Round: 28, Average Loss: 49.1960708959818, Test Loss: 39.00460320796127, Test Accuracy: 4.791693342744528, Best: 4.5929815714505615\n"
     ]
    },
    {
     "name": "stderr",
     "output_type": "stream",
     "text": [
      "100%|██████████| 1/1 [00:01<00:00,  1.71s/it]\n"
     ]
    },
    {
     "name": "stdout",
     "output_type": "stream",
     "text": [
      "Current Round: 29, Average Loss: 49.07575670794869, Test Loss: 43.2165246042345, Test Accuracy: 5.115703473975033, Best: 4.5929815714505615\n"
     ]
    },
    {
     "name": "stderr",
     "output_type": "stream",
     "text": [
      "100%|██████████| 1/1 [00:01<00:00,  1.69s/it]\n"
     ]
    },
    {
     "name": "stdout",
     "output_type": "stream",
     "text": [
      "Current Round: 30, Average Loss: 48.59023954080706, Test Loss: 36.04185213868247, Test Accuracy: 4.705199701033685, Best: 4.5929815714505615\n"
     ]
    },
    {
     "name": "stderr",
     "output_type": "stream",
     "text": [
      "100%|██████████| 1/1 [00:01<00:00,  1.70s/it]\n"
     ]
    },
    {
     "name": "stdout",
     "output_type": "stream",
     "text": [
      "Current Round: 31, Average Loss: 48.956380612087216, Test Loss: 44.78073013457022, Test Accuracy: 5.353358962265364, Best: 4.5929815714505615\n"
     ]
    },
    {
     "name": "stderr",
     "output_type": "stream",
     "text": [
      "100%|██████████| 1/1 [00:01<00:00,  1.64s/it]\n"
     ]
    },
    {
     "name": "stdout",
     "output_type": "stream",
     "text": [
      "Current Round: 32, Average Loss: 48.01856594210528, Test Loss: 37.34796508439047, Test Accuracy: 4.811736185507825, Best: 4.5929815714505615\n"
     ]
    },
    {
     "name": "stderr",
     "output_type": "stream",
     "text": [
      "100%|██████████| 1/1 [00:01<00:00,  1.72s/it]\n"
     ]
    },
    {
     "name": "stdout",
     "output_type": "stream",
     "text": [
      "Current Round: 33, Average Loss: 48.48282621871838, Test Loss: 38.871753238552635, Test Accuracy: 4.840174320833475, Best: 4.5929815714505615\n"
     ]
    },
    {
     "name": "stderr",
     "output_type": "stream",
     "text": [
      "100%|██████████| 1/1 [00:01<00:00,  1.64s/it]\n"
     ]
    },
    {
     "name": "stdout",
     "output_type": "stream",
     "text": [
      "Current Round: 34, Average Loss: 47.90952097478506, Test Loss: 47.533445455240155, Test Accuracy: 5.369122310669172, Best: 4.5929815714505615\n"
     ]
    },
    {
     "name": "stderr",
     "output_type": "stream",
     "text": [
      "100%|██████████| 1/1 [00:01<00:00,  1.62s/it]\n"
     ]
    },
    {
     "name": "stdout",
     "output_type": "stream",
     "text": [
      "Current Round: 35, Average Loss: 48.133850082019016, Test Loss: 34.243782734619636, Test Accuracy: 4.567632636148887, Best: 4.567632636148887\n"
     ]
    },
    {
     "name": "stderr",
     "output_type": "stream",
     "text": [
      "100%|██████████| 1/1 [00:01<00:00,  1.67s/it]\n"
     ]
    },
    {
     "name": "stdout",
     "output_type": "stream",
     "text": [
      "Current Round: 36, Average Loss: 47.84573834025363, Test Loss: 37.82065994134987, Test Accuracy: 4.789173450221649, Best: 4.567632636148887\n"
     ]
    },
    {
     "name": "stderr",
     "output_type": "stream",
     "text": [
      "100%|██████████| 1/1 [00:01<00:00,  1.67s/it]\n"
     ]
    },
    {
     "name": "stdout",
     "output_type": "stream",
     "text": [
      "Current Round: 37, Average Loss: 48.34005430184107, Test Loss: 33.88908024626494, Test Accuracy: 4.496328889547633, Best: 4.496328889547633\n"
     ]
    },
    {
     "name": "stderr",
     "output_type": "stream",
     "text": [
      "100%|██████████| 1/1 [00:01<00:00,  1.70s/it]\n"
     ]
    },
    {
     "name": "stdout",
     "output_type": "stream",
     "text": [
      "Current Round: 38, Average Loss: 48.51115664785335, Test Loss: 36.78119108622221, Test Accuracy: 4.780768889340273, Best: 4.496328889547633\n"
     ]
    },
    {
     "name": "stderr",
     "output_type": "stream",
     "text": [
      "100%|██████████| 1/1 [00:01<00:00,  1.66s/it]\n"
     ]
    },
    {
     "name": "stdout",
     "output_type": "stream",
     "text": [
      "Current Round: 39, Average Loss: 47.76165794775973, Test Loss: 39.71910216774322, Test Accuracy: 5.12077786563275, Best: 4.496328889547633\n"
     ]
    },
    {
     "name": "stderr",
     "output_type": "stream",
     "text": [
      "100%|██████████| 1/1 [00:01<00:00,  1.58s/it]\n"
     ]
    },
    {
     "name": "stdout",
     "output_type": "stream",
     "text": [
      "Current Round: 40, Average Loss: 47.059341292425636, Test Loss: 42.286142002775, Test Accuracy: 5.05713123338088, Best: 4.496328889547633\n"
     ]
    },
    {
     "name": "stderr",
     "output_type": "stream",
     "text": [
      "100%|██████████| 1/1 [00:01<00:00,  1.61s/it]\n"
     ]
    },
    {
     "name": "stdout",
     "output_type": "stream",
     "text": [
      "Current Round: 41, Average Loss: 47.44132058632772, Test Loss: 35.59427918341318, Test Accuracy: 4.671649247019911, Best: 4.496328889547633\n"
     ]
    },
    {
     "name": "stderr",
     "output_type": "stream",
     "text": [
      "100%|██████████| 1/1 [00:01<00:00,  1.71s/it]\n"
     ]
    },
    {
     "name": "stdout",
     "output_type": "stream",
     "text": [
      "Current Round: 42, Average Loss: 47.671018035289464, Test Loss: 37.05109631372252, Test Accuracy: 4.758405426460545, Best: 4.496328889547633\n"
     ]
    },
    {
     "name": "stderr",
     "output_type": "stream",
     "text": [
      "100%|██████████| 1/1 [00:01<00:00,  1.72s/it]\n"
     ]
    },
    {
     "name": "stdout",
     "output_type": "stream",
     "text": [
      "Current Round: 43, Average Loss: 47.926789049391004, Test Loss: 34.00980852792814, Test Accuracy: 4.594451826252851, Best: 4.496328889547633\n"
     ]
    },
    {
     "name": "stderr",
     "output_type": "stream",
     "text": [
      "100%|██████████| 1/1 [00:01<00:00,  1.71s/it]\n"
     ]
    },
    {
     "name": "stdout",
     "output_type": "stream",
     "text": [
      "Current Round: 44, Average Loss: 47.11277526529584, Test Loss: 40.019305073690205, Test Accuracy: 4.878435829006509, Best: 4.496328889547633\n"
     ]
    },
    {
     "name": "stderr",
     "output_type": "stream",
     "text": [
      "100%|██████████| 1/1 [00:01<00:00,  1.70s/it]\n"
     ]
    },
    {
     "name": "stdout",
     "output_type": "stream",
     "text": [
      "Current Round: 45, Average Loss: 47.30338507181523, Test Loss: 33.73972001995127, Test Accuracy: 4.5335969351421435, Best: 4.496328889547633\n"
     ]
    },
    {
     "name": "stderr",
     "output_type": "stream",
     "text": [
      "100%|██████████| 1/1 [00:01<00:00,  1.71s/it]\n"
     ]
    },
    {
     "name": "stdout",
     "output_type": "stream",
     "text": [
      "Current Round: 46, Average Loss: 46.866712326597764, Test Loss: 34.431516092753306, Test Accuracy: 4.559890236236705, Best: 4.496328889547633\n"
     ]
    },
    {
     "name": "stderr",
     "output_type": "stream",
     "text": [
      "100%|██████████| 1/1 [00:01<00:00,  1.70s/it]\n"
     ]
    },
    {
     "name": "stdout",
     "output_type": "stream",
     "text": [
      "Current Round: 47, Average Loss: 46.83514300328963, Test Loss: 41.81272011725561, Test Accuracy: 5.116852539781451, Best: 4.496328889547633\n"
     ]
    },
    {
     "name": "stderr",
     "output_type": "stream",
     "text": [
      "100%|██████████| 1/1 [00:01<00:00,  1.72s/it]\n"
     ]
    },
    {
     "name": "stdout",
     "output_type": "stream",
     "text": [
      "Current Round: 48, Average Loss: 46.95105957493797, Test Loss: 36.47688880383562, Test Accuracy: 4.706533106823405, Best: 4.496328889547633\n"
     ]
    },
    {
     "name": "stderr",
     "output_type": "stream",
     "text": [
      "100%|██████████| 1/1 [00:01<00:00,  1.60s/it]\n"
     ]
    },
    {
     "name": "stdout",
     "output_type": "stream",
     "text": [
      "Current Round: 49, Average Loss: 47.19729258872048, Test Loss: 36.259483240438556, Test Accuracy: 4.733283048228898, Best: 4.496328889547633\n"
     ]
    },
    {
     "name": "stderr",
     "output_type": "stream",
     "text": [
      "100%|██████████| 1/1 [00:01<00:00,  1.65s/it]\n"
     ]
    },
    {
     "name": "stdout",
     "output_type": "stream",
     "text": [
      "Current Round: 50, Average Loss: 46.67914947775204, Test Loss: 38.492193646558086, Test Accuracy: 4.698659548017451, Best: 4.496328889547633\n"
     ]
    },
    {
     "name": "stderr",
     "output_type": "stream",
     "text": [
      "100%|██████████| 1/1 [00:01<00:00,  1.72s/it]\n"
     ]
    },
    {
     "name": "stdout",
     "output_type": "stream",
     "text": [
      "Current Round: 51, Average Loss: 47.128529402062355, Test Loss: 34.4601103551478, Test Accuracy: 4.59839507148492, Best: 4.496328889547633\n"
     ]
    },
    {
     "name": "stderr",
     "output_type": "stream",
     "text": [
      "100%|██████████| 1/1 [00:01<00:00,  1.65s/it]\n"
     ]
    },
    {
     "name": "stdout",
     "output_type": "stream",
     "text": [
      "Current Round: 52, Average Loss: 47.31866498284204, Test Loss: 38.115966723560916, Test Accuracy: 4.801348842897551, Best: 4.496328889547633\n"
     ]
    },
    {
     "name": "stderr",
     "output_type": "stream",
     "text": [
      "100%|██████████| 1/1 [00:01<00:00,  1.64s/it]\n"
     ]
    },
    {
     "name": "stdout",
     "output_type": "stream",
     "text": [
      "Current Round: 53, Average Loss: 46.66706154344002, Test Loss: 37.18452111165566, Test Accuracy: 4.699332677719391, Best: 4.496328889547633\n"
     ]
    },
    {
     "name": "stderr",
     "output_type": "stream",
     "text": [
      "100%|██████████| 1/1 [00:01<00:00,  1.70s/it]\n"
     ]
    },
    {
     "name": "stdout",
     "output_type": "stream",
     "text": [
      "Current Round: 54, Average Loss: 46.73295599884548, Test Loss: 38.0097649296987, Test Accuracy: 4.982913852698745, Best: 4.496328889547633\n"
     ]
    },
    {
     "name": "stderr",
     "output_type": "stream",
     "text": [
      "100%|██████████| 1/1 [00:01<00:00,  1.69s/it]\n"
     ]
    },
    {
     "name": "stdout",
     "output_type": "stream",
     "text": [
      "Current Round: 55, Average Loss: 46.16258322084685, Test Loss: 34.59052046144962, Test Accuracy: 4.635084694982388, Best: 4.496328889547633\n"
     ]
    },
    {
     "name": "stderr",
     "output_type": "stream",
     "text": [
      "100%|██████████| 1/1 [00:01<00:00,  1.65s/it]\n"
     ]
    },
    {
     "name": "stdout",
     "output_type": "stream",
     "text": [
      "Current Round: 56, Average Loss: 46.10918163610991, Test Loss: 35.731795620194, Test Accuracy: 4.779292882929954, Best: 4.496328889547633\n"
     ]
    },
    {
     "name": "stderr",
     "output_type": "stream",
     "text": [
      "100%|██████████| 1/1 [00:01<00:00,  1.69s/it]\n"
     ]
    },
    {
     "name": "stdout",
     "output_type": "stream",
     "text": [
      "Current Round: 57, Average Loss: 45.813137247872035, Test Loss: 37.61556785947702, Test Accuracy: 4.9011747545879665, Best: 4.496328889547633\n"
     ]
    },
    {
     "name": "stderr",
     "output_type": "stream",
     "text": [
      "100%|██████████| 1/1 [00:01<00:00,  1.59s/it]\n"
     ]
    },
    {
     "name": "stdout",
     "output_type": "stream",
     "text": [
      "Current Round: 58, Average Loss: 45.86679535493578, Test Loss: 36.08249374597766, Test Accuracy: 4.615939131451185, Best: 4.496328889547633\n"
     ]
    },
    {
     "name": "stderr",
     "output_type": "stream",
     "text": [
      "100%|██████████| 1/1 [00:01<00:00,  1.67s/it]\n"
     ]
    },
    {
     "name": "stdout",
     "output_type": "stream",
     "text": [
      "Current Round: 59, Average Loss: 46.33340666833681, Test Loss: 43.47676464348052, Test Accuracy: 5.091549669373353, Best: 4.496328889547633\n"
     ]
    },
    {
     "name": "stderr",
     "output_type": "stream",
     "text": [
      "100%|██████████| 1/1 [00:01<00:00,  1.66s/it]\n"
     ]
    },
    {
     "name": "stdout",
     "output_type": "stream",
     "text": [
      "Current Round: 60, Average Loss: 45.981218256409974, Test Loss: 34.54246807157513, Test Accuracy: 4.597118602357735, Best: 4.496328889547633\n"
     ]
    },
    {
     "name": "stderr",
     "output_type": "stream",
     "text": [
      "100%|██████████| 1/1 [00:01<00:00,  1.55s/it]\n"
     ]
    },
    {
     "name": "stdout",
     "output_type": "stream",
     "text": [
      "Current Round: 61, Average Loss: 45.91521615052363, Test Loss: 36.09249297684198, Test Accuracy: 4.736335848993347, Best: 4.496328889547633\n"
     ]
    },
    {
     "name": "stderr",
     "output_type": "stream",
     "text": [
      "100%|██████████| 1/1 [00:01<00:00,  1.66s/it]\n"
     ]
    },
    {
     "name": "stdout",
     "output_type": "stream",
     "text": [
      "Current Round: 62, Average Loss: 46.2730417794291, Test Loss: 39.876096355346, Test Accuracy: 4.88728901767908, Best: 4.496328889547633\n"
     ]
    },
    {
     "name": "stderr",
     "output_type": "stream",
     "text": [
      "100%|██████████| 1/1 [00:01<00:00,  1.67s/it]\n"
     ]
    },
    {
     "name": "stdout",
     "output_type": "stream",
     "text": [
      "Current Round: 63, Average Loss: 46.11896937866684, Test Loss: 40.53663520316344, Test Accuracy: 5.1982300031724655, Best: 4.496328889547633\n"
     ]
    },
    {
     "name": "stderr",
     "output_type": "stream",
     "text": [
      "100%|██████████| 1/1 [00:01<00:00,  1.71s/it]\n"
     ]
    },
    {
     "name": "stdout",
     "output_type": "stream",
     "text": [
      "Current Round: 64, Average Loss: 45.710543745450224, Test Loss: 36.34690020798307, Test Accuracy: 4.711758698134118, Best: 4.496328889547633\n"
     ]
    },
    {
     "name": "stderr",
     "output_type": "stream",
     "text": [
      "100%|██████████| 1/1 [00:01<00:00,  1.67s/it]\n"
     ]
    },
    {
     "name": "stdout",
     "output_type": "stream",
     "text": [
      "Current Round: 65, Average Loss: 45.874680795252345, Test Loss: 47.96212879235303, Test Accuracy: 5.356340856487087, Best: 4.496328889547633\n"
     ]
    },
    {
     "name": "stderr",
     "output_type": "stream",
     "text": [
      "100%|██████████| 1/1 [00:01<00:00,  1.69s/it]\n"
     ]
    },
    {
     "name": "stdout",
     "output_type": "stream",
     "text": [
      "Current Round: 66, Average Loss: 45.37078026467014, Test Loss: 40.14324442703238, Test Accuracy: 4.8611972735523805, Best: 4.496328889547633\n"
     ]
    },
    {
     "name": "stderr",
     "output_type": "stream",
     "text": [
      "100%|██████████| 1/1 [00:01<00:00,  1.70s/it]\n"
     ]
    },
    {
     "name": "stdout",
     "output_type": "stream",
     "text": [
      "Current Round: 67, Average Loss: 45.34307053815978, Test Loss: 35.97392657020413, Test Accuracy: 4.686249618861369, Best: 4.496328889547633\n"
     ]
    },
    {
     "name": "stderr",
     "output_type": "stream",
     "text": [
      "100%|██████████| 1/1 [00:01<00:00,  1.65s/it]\n"
     ]
    },
    {
     "name": "stdout",
     "output_type": "stream",
     "text": [
      "Current Round: 68, Average Loss: 45.008523791894966, Test Loss: 35.88782198977485, Test Accuracy: 4.766007025494608, Best: 4.496328889547633\n"
     ]
    },
    {
     "name": "stderr",
     "output_type": "stream",
     "text": [
      "100%|██████████| 1/1 [00:01<00:00,  1.65s/it]\n"
     ]
    },
    {
     "name": "stdout",
     "output_type": "stream",
     "text": [
      "Current Round: 69, Average Loss: 45.76631377427446, Test Loss: 37.67895098909117, Test Accuracy: 4.791566585060682, Best: 4.496328889547633\n"
     ]
    },
    {
     "name": "stderr",
     "output_type": "stream",
     "text": [
      "100%|██████████| 1/1 [00:01<00:00,  1.66s/it]\n"
     ]
    },
    {
     "name": "stdout",
     "output_type": "stream",
     "text": [
      "Current Round: 70, Average Loss: 45.83935952391905, Test Loss: 36.38585749281465, Test Accuracy: 4.732424620730642, Best: 4.496328889547633\n"
     ]
    },
    {
     "name": "stderr",
     "output_type": "stream",
     "text": [
      "100%|██████████| 1/1 [00:01<00:00,  1.67s/it]\n"
     ]
    },
    {
     "name": "stdout",
     "output_type": "stream",
     "text": [
      "Current Round: 71, Average Loss: 45.54152279576884, Test Loss: 37.31479153807534, Test Accuracy: 4.881316147749275, Best: 4.496328889547633\n"
     ]
    },
    {
     "name": "stderr",
     "output_type": "stream",
     "text": [
      "100%|██████████| 1/1 [00:01<00:00,  1.57s/it]\n"
     ]
    },
    {
     "name": "stdout",
     "output_type": "stream",
     "text": [
      "Current Round: 72, Average Loss: 45.32398457752193, Test Loss: 36.7760820666678, Test Accuracy: 4.7699387154812705, Best: 4.496328889547633\n"
     ]
    },
    {
     "name": "stderr",
     "output_type": "stream",
     "text": [
      "100%|██████████| 1/1 [00:01<00:00,  1.54s/it]\n"
     ]
    },
    {
     "name": "stdout",
     "output_type": "stream",
     "text": [
      "Current Round: 73, Average Loss: 45.37083502811191, Test Loss: 36.830793862600025, Test Accuracy: 4.769908822255332, Best: 4.496328889547633\n"
     ]
    },
    {
     "name": "stderr",
     "output_type": "stream",
     "text": [
      "100%|██████████| 1/1 [00:01<00:00,  1.57s/it]\n"
     ]
    },
    {
     "name": "stdout",
     "output_type": "stream",
     "text": [
      "Current Round: 74, Average Loss: 45.01573358391878, Test Loss: 34.37300670243019, Test Accuracy: 4.581680820510022, Best: 4.496328889547633\n"
     ]
    },
    {
     "name": "stderr",
     "output_type": "stream",
     "text": [
      "100%|██████████| 1/1 [00:01<00:00,  1.58s/it]\n"
     ]
    },
    {
     "name": "stdout",
     "output_type": "stream",
     "text": [
      "Current Round: 75, Average Loss: 45.31654940955687, Test Loss: 37.41829253632462, Test Accuracy: 4.7514349174144765, Best: 4.496328889547633\n"
     ]
    },
    {
     "name": "stderr",
     "output_type": "stream",
     "text": [
      "100%|██████████| 1/1 [00:01<00:00,  1.61s/it]\n"
     ]
    },
    {
     "name": "stdout",
     "output_type": "stream",
     "text": [
      "Current Round: 76, Average Loss: 45.18986108762167, Test Loss: 37.986276760207744, Test Accuracy: 4.767102633509958, Best: 4.496328889547633\n"
     ]
    },
    {
     "name": "stderr",
     "output_type": "stream",
     "text": [
      "100%|██████████| 1/1 [00:01<00:00,  1.68s/it]\n"
     ]
    },
    {
     "name": "stdout",
     "output_type": "stream",
     "text": [
      "Current Round: 77, Average Loss: 45.211350081782484, Test Loss: 40.42924364826654, Test Accuracy: 4.900891286870078, Best: 4.496328889547633\n"
     ]
    },
    {
     "name": "stderr",
     "output_type": "stream",
     "text": [
      "100%|██████████| 1/1 [00:01<00:00,  1.64s/it]\n"
     ]
    },
    {
     "name": "stdout",
     "output_type": "stream",
     "text": [
      "Current Round: 78, Average Loss: 44.97664417210341, Test Loss: 36.05923682092807, Test Accuracy: 4.687983705032264, Best: 4.496328889547633\n"
     ]
    },
    {
     "name": "stderr",
     "output_type": "stream",
     "text": [
      "100%|██████████| 1/1 [00:01<00:00,  1.56s/it]\n"
     ]
    },
    {
     "name": "stdout",
     "output_type": "stream",
     "text": [
      "Current Round: 79, Average Loss: 44.87743242416881, Test Loss: 45.46571495898082, Test Accuracy: 5.1730795905816205, Best: 4.496328889547633\n"
     ]
    },
    {
     "name": "stderr",
     "output_type": "stream",
     "text": [
      "100%|██████████| 1/1 [00:01<00:00,  1.65s/it]\n"
     ]
    },
    {
     "name": "stdout",
     "output_type": "stream",
     "text": [
      "Current Round: 80, Average Loss: 44.87676372666052, Test Loss: 38.613252709537136, Test Accuracy: 4.757038681683006, Best: 4.496328889547633\n"
     ]
    },
    {
     "name": "stderr",
     "output_type": "stream",
     "text": [
      "100%|██████████| 1/1 [00:01<00:00,  1.64s/it]\n"
     ]
    },
    {
     "name": "stdout",
     "output_type": "stream",
     "text": [
      "Current Round: 81, Average Loss: 44.85256035923342, Test Loss: 35.40167369475959, Test Accuracy: 4.673557799422659, Best: 4.496328889547633\n"
     ]
    },
    {
     "name": "stderr",
     "output_type": "stream",
     "text": [
      "100%|██████████| 1/1 [00:01<00:00,  1.66s/it]\n"
     ]
    },
    {
     "name": "stdout",
     "output_type": "stream",
     "text": [
      "Current Round: 82, Average Loss: 44.711140075010796, Test Loss: 38.507544314720874, Test Accuracy: 4.73814254212069, Best: 4.496328889547633\n"
     ]
    },
    {
     "name": "stderr",
     "output_type": "stream",
     "text": [
      "100%|██████████| 1/1 [00:01<00:00,  1.63s/it]\n"
     ]
    },
    {
     "name": "stdout",
     "output_type": "stream",
     "text": [
      "Current Round: 83, Average Loss: 44.16287618670594, Test Loss: 35.46524040283657, Test Accuracy: 4.678997687796813, Best: 4.496328889547633\n"
     ]
    },
    {
     "name": "stderr",
     "output_type": "stream",
     "text": [
      "100%|██████████| 1/1 [00:01<00:00,  1.68s/it]\n"
     ]
    },
    {
     "name": "stdout",
     "output_type": "stream",
     "text": [
      "Current Round: 84, Average Loss: 44.217310512226035, Test Loss: 34.381829518970314, Test Accuracy: 4.586902611313292, Best: 4.496328889547633\n"
     ]
    },
    {
     "name": "stderr",
     "output_type": "stream",
     "text": [
      "100%|██████████| 1/1 [00:01<00:00,  1.65s/it]\n"
     ]
    },
    {
     "name": "stdout",
     "output_type": "stream",
     "text": [
      "Current Round: 85, Average Loss: 44.079594611267446, Test Loss: 35.811037975294724, Test Accuracy: 4.684583575254039, Best: 4.496328889547633\n"
     ]
    },
    {
     "name": "stderr",
     "output_type": "stream",
     "text": [
      "100%|██████████| 1/1 [00:01<00:00,  1.67s/it]\n"
     ]
    },
    {
     "name": "stdout",
     "output_type": "stream",
     "text": [
      "Current Round: 86, Average Loss: 44.053729874669706, Test Loss: 36.565699930303374, Test Accuracy: 4.7409111656761285, Best: 4.496328889547633\n"
     ]
    },
    {
     "name": "stderr",
     "output_type": "stream",
     "text": [
      "100%|██████████| 1/1 [00:01<00:00,  1.58s/it]\n"
     ]
    },
    {
     "name": "stdout",
     "output_type": "stream",
     "text": [
      "Current Round: 87, Average Loss: 43.84535166694097, Test Loss: 37.707044555323506, Test Accuracy: 4.896001055457913, Best: 4.496328889547633\n"
     ]
    },
    {
     "name": "stderr",
     "output_type": "stream",
     "text": [
      "100%|██████████| 1/1 [00:01<00:00,  1.68s/it]\n"
     ]
    },
    {
     "name": "stdout",
     "output_type": "stream",
     "text": [
      "Current Round: 88, Average Loss: 44.71528822333493, Test Loss: 43.49050403365568, Test Accuracy: 5.059992752973884, Best: 4.496328889547633\n"
     ]
    },
    {
     "name": "stderr",
     "output_type": "stream",
     "text": [
      "100%|██████████| 1/1 [00:01<00:00,  1.65s/it]\n"
     ]
    },
    {
     "name": "stdout",
     "output_type": "stream",
     "text": [
      "Current Round: 89, Average Loss: 44.109974696231305, Test Loss: 35.755578576151215, Test Accuracy: 4.685959995125512, Best: 4.496328889547633\n"
     ]
    },
    {
     "name": "stderr",
     "output_type": "stream",
     "text": [
      "100%|██████████| 1/1 [00:01<00:00,  1.66s/it]\n"
     ]
    },
    {
     "name": "stdout",
     "output_type": "stream",
     "text": [
      "Current Round: 90, Average Loss: 44.513714743629635, Test Loss: 38.92840775065886, Test Accuracy: 5.064945384130223, Best: 4.496328889547633\n"
     ]
    },
    {
     "name": "stderr",
     "output_type": "stream",
     "text": [
      "100%|██████████| 1/1 [00:01<00:00,  1.61s/it]\n"
     ]
    },
    {
     "name": "stdout",
     "output_type": "stream",
     "text": [
      "Current Round: 91, Average Loss: 44.15849172035004, Test Loss: 47.243307356056924, Test Accuracy: 5.604041901864551, Best: 4.496328889547633\n"
     ]
    },
    {
     "name": "stderr",
     "output_type": "stream",
     "text": [
      "100%|██████████| 1/1 [00:01<00:00,  1.69s/it]\n"
     ]
    },
    {
     "name": "stdout",
     "output_type": "stream",
     "text": [
      "Current Round: 92, Average Loss: 44.38239047174983, Test Loss: 34.81550016834805, Test Accuracy: 4.604472771092963, Best: 4.496328889547633\n"
     ]
    },
    {
     "name": "stderr",
     "output_type": "stream",
     "text": [
      "100%|██████████| 1/1 [00:01<00:00,  1.57s/it]\n"
     ]
    },
    {
     "name": "stdout",
     "output_type": "stream",
     "text": [
      "Current Round: 93, Average Loss: 44.04153468295947, Test Loss: 37.472641725534245, Test Accuracy: 4.922521916369955, Best: 4.496328889547633\n"
     ]
    },
    {
     "name": "stderr",
     "output_type": "stream",
     "text": [
      "100%|██████████| 1/1 [00:01<00:00,  1.59s/it]\n"
     ]
    },
    {
     "name": "stdout",
     "output_type": "stream",
     "text": [
      "Current Round: 94, Average Loss: 43.84419559731058, Test Loss: 37.79858965320906, Test Accuracy: 4.760835263275316, Best: 4.496328889547633\n"
     ]
    },
    {
     "name": "stderr",
     "output_type": "stream",
     "text": [
      "100%|██████████| 1/1 [00:01<00:00,  1.67s/it]\n"
     ]
    },
    {
     "name": "stdout",
     "output_type": "stream",
     "text": [
      "Current Round: 95, Average Loss: 43.873124174459036, Test Loss: 35.251814071835014, Test Accuracy: 4.62912223328734, Best: 4.496328889547633\n"
     ]
    },
    {
     "name": "stderr",
     "output_type": "stream",
     "text": [
      "100%|██████████| 1/1 [00:01<00:00,  1.67s/it]\n"
     ]
    },
    {
     "name": "stdout",
     "output_type": "stream",
     "text": [
      "Current Round: 96, Average Loss: 44.185863247962395, Test Loss: 34.77983787262284, Test Accuracy: 4.582255179587906, Best: 4.496328889547633\n"
     ]
    },
    {
     "name": "stderr",
     "output_type": "stream",
     "text": [
      "100%|██████████| 1/1 [00:01<00:00,  1.66s/it]\n"
     ]
    },
    {
     "name": "stdout",
     "output_type": "stream",
     "text": [
      "Current Round: 97, Average Loss: 44.01844311962857, Test Loss: 35.31006612618074, Test Accuracy: 4.766845140262043, Best: 4.496328889547633\n"
     ]
    },
    {
     "name": "stderr",
     "output_type": "stream",
     "text": [
      "100%|██████████| 1/1 [00:01<00:00,  1.69s/it]\n"
     ]
    },
    {
     "name": "stdout",
     "output_type": "stream",
     "text": [
      "Current Round: 98, Average Loss: 43.91618574919719, Test Loss: 37.309559454920866, Test Accuracy: 4.683340610662603, Best: 4.496328889547633\n"
     ]
    },
    {
     "name": "stderr",
     "output_type": "stream",
     "text": [
      "100%|██████████| 1/1 [00:01<00:00,  1.67s/it]\n"
     ]
    },
    {
     "name": "stdout",
     "output_type": "stream",
     "text": [
      "Current Round: 99, Average Loss: 43.73432235119879, Test Loss: 38.0951551069625, Test Accuracy: 4.867598470367413, Best: 4.496328889547633\n"
     ]
    },
    {
     "name": "stderr",
     "output_type": "stream",
     "text": [
      "100%|██████████| 1/1 [00:01<00:00,  1.63s/it]\n"
     ]
    },
    {
     "name": "stdout",
     "output_type": "stream",
     "text": [
      "Current Round: 100, Average Loss: 43.72964133441017, Test Loss: 36.80903938255617, Test Accuracy: 4.779540575740504, Best: 4.496328889547633\n",
      "Training Done!\n",
      "Best Accuracy: 4.496328889547633\n",
      "Total time taken to Train: 180.92295002937317\n",
      "Name is taken...trying again...\n"
     ]
    },
    {
     "name": "stderr",
     "output_type": "stream",
     "text": [
      "100%|██████████| 1/1 [00:01<00:00,  1.72s/it]\n"
     ]
    },
    {
     "name": "stdout",
     "output_type": "stream",
     "text": [
      "Current Round: 1, Average Loss: 292.1748448370902, Test Loss: 67.4596424516653, Test Accuracy: 6.490534182298427, Best: 6.490534182298427\n"
     ]
    },
    {
     "name": "stderr",
     "output_type": "stream",
     "text": [
      "100%|██████████| 1/1 [00:01<00:00,  1.64s/it]\n"
     ]
    },
    {
     "name": "stdout",
     "output_type": "stream",
     "text": [
      "Current Round: 2, Average Loss: 88.72260653462608, Test Loss: 72.14798717652502, Test Accuracy: 6.372506190735733, Best: 6.372506190735733\n"
     ]
    },
    {
     "name": "stderr",
     "output_type": "stream",
     "text": [
      "100%|██████████| 1/1 [00:01<00:00,  1.55s/it]\n"
     ]
    },
    {
     "name": "stdout",
     "output_type": "stream",
     "text": [
      "Current Round: 3, Average Loss: 76.03463491780816, Test Loss: 54.0435680973552, Test Accuracy: 5.701196451772464, Best: 5.701196451772464\n"
     ]
    },
    {
     "name": "stderr",
     "output_type": "stream",
     "text": [
      "100%|██████████| 1/1 [00:01<00:00,  1.69s/it]\n"
     ]
    },
    {
     "name": "stdout",
     "output_type": "stream",
     "text": [
      "Current Round: 4, Average Loss: 69.48457269487896, Test Loss: 61.762888147457005, Test Accuracy: 6.264565266220745, Best: 5.701196451772464\n"
     ]
    },
    {
     "name": "stderr",
     "output_type": "stream",
     "text": [
      "100%|██████████| 1/1 [00:01<00:00,  1.70s/it]\n"
     ]
    },
    {
     "name": "stdout",
     "output_type": "stream",
     "text": [
      "Current Round: 5, Average Loss: 66.99158388335583, Test Loss: 56.674523118853344, Test Accuracy: 6.052712998032496, Best: 5.701196451772464\n"
     ]
    },
    {
     "name": "stderr",
     "output_type": "stream",
     "text": [
      "100%|██████████| 1/1 [00:01<00:00,  1.70s/it]\n"
     ]
    },
    {
     "name": "stdout",
     "output_type": "stream",
     "text": [
      "Current Round: 6, Average Loss: 62.34602078323811, Test Loss: 40.89198697226726, Test Accuracy: 4.911343573932683, Best: 4.911343573932683\n"
     ]
    },
    {
     "name": "stderr",
     "output_type": "stream",
     "text": [
      "100%|██████████| 1/1 [00:01<00:00,  1.61s/it]\n"
     ]
    },
    {
     "name": "stdout",
     "output_type": "stream",
     "text": [
      "Current Round: 7, Average Loss: 61.13771821697786, Test Loss: 50.07754337100309, Test Accuracy: 5.374160669637776, Best: 4.911343573932683\n"
     ]
    },
    {
     "name": "stderr",
     "output_type": "stream",
     "text": [
      "100%|██████████| 1/1 [00:01<00:00,  1.63s/it]\n"
     ]
    },
    {
     "name": "stdout",
     "output_type": "stream",
     "text": [
      "Current Round: 8, Average Loss: 59.29795911646366, Test Loss: 66.03724494929352, Test Accuracy: 6.208905893457062, Best: 4.911343573932683\n"
     ]
    },
    {
     "name": "stderr",
     "output_type": "stream",
     "text": [
      "100%|██████████| 1/1 [00:01<00:00,  1.61s/it]\n"
     ]
    },
    {
     "name": "stdout",
     "output_type": "stream",
     "text": [
      "Current Round: 9, Average Loss: 58.255296180349276, Test Loss: 45.64156647816402, Test Accuracy: 5.300045942861104, Best: 4.911343573932683\n"
     ]
    },
    {
     "name": "stderr",
     "output_type": "stream",
     "text": [
      "100%|██████████| 1/1 [00:01<00:00,  1.63s/it]\n"
     ]
    },
    {
     "name": "stdout",
     "output_type": "stream",
     "text": [
      "Current Round: 10, Average Loss: 57.390773217874354, Test Loss: 44.46298816583944, Test Accuracy: 5.093853819835873, Best: 4.911343573932683\n"
     ]
    },
    {
     "name": "stderr",
     "output_type": "stream",
     "text": [
      "100%|██████████| 1/1 [00:01<00:00,  1.65s/it]\n"
     ]
    },
    {
     "name": "stdout",
     "output_type": "stream",
     "text": [
      "Current Round: 11, Average Loss: 57.354642641893385, Test Loss: 39.65733064248262, Test Accuracy: 4.835967248962743, Best: 4.835967248962743\n"
     ]
    },
    {
     "name": "stderr",
     "output_type": "stream",
     "text": [
      "100%|██████████| 1/1 [00:01<00:00,  1.65s/it]\n"
     ]
    },
    {
     "name": "stdout",
     "output_type": "stream",
     "text": [
      "Current Round: 12, Average Loss: 56.67148968167359, Test Loss: 42.371651594489535, Test Accuracy: 5.027486982067697, Best: 4.835967248962743\n"
     ]
    },
    {
     "name": "stderr",
     "output_type": "stream",
     "text": [
      "100%|██████████| 1/1 [00:01<00:00,  1.64s/it]\n"
     ]
    },
    {
     "name": "stdout",
     "output_type": "stream",
     "text": [
      "Current Round: 13, Average Loss: 56.01606139821346, Test Loss: 46.6159216212103, Test Accuracy: 5.257467129181721, Best: 4.835967248962743\n"
     ]
    },
    {
     "name": "stderr",
     "output_type": "stream",
     "text": [
      "100%|██████████| 1/1 [00:01<00:00,  1.60s/it]\n"
     ]
    },
    {
     "name": "stdout",
     "output_type": "stream",
     "text": [
      "Current Round: 14, Average Loss: 56.18092118229408, Test Loss: 40.29167515375713, Test Accuracy: 4.9311861983013685, Best: 4.835967248962743\n"
     ]
    },
    {
     "name": "stderr",
     "output_type": "stream",
     "text": [
      "100%|██████████| 1/1 [00:01<00:00,  1.71s/it]\n"
     ]
    },
    {
     "name": "stdout",
     "output_type": "stream",
     "text": [
      "Current Round: 15, Average Loss: 55.53087920879767, Test Loss: 40.97011632144784, Test Accuracy: 4.856488208333232, Best: 4.835967248962743\n"
     ]
    },
    {
     "name": "stderr",
     "output_type": "stream",
     "text": [
      "100%|██████████| 1/1 [00:01<00:00,  1.67s/it]\n"
     ]
    },
    {
     "name": "stdout",
     "output_type": "stream",
     "text": [
      "Current Round: 16, Average Loss: 54.53789428779268, Test Loss: 42.55405427444373, Test Accuracy: 5.167803478773085, Best: 4.835967248962743\n"
     ]
    },
    {
     "name": "stderr",
     "output_type": "stream",
     "text": [
      "100%|██████████| 1/1 [00:01<00:00,  1.66s/it]\n"
     ]
    },
    {
     "name": "stdout",
     "output_type": "stream",
     "text": [
      "Current Round: 17, Average Loss: 54.46585892839264, Test Loss: 39.39273317955476, Test Accuracy: 4.974027412542259, Best: 4.835967248962743\n"
     ]
    },
    {
     "name": "stderr",
     "output_type": "stream",
     "text": [
      "100%|██████████| 1/1 [00:01<00:00,  1.65s/it]\n"
     ]
    },
    {
     "name": "stdout",
     "output_type": "stream",
     "text": [
      "Current Round: 18, Average Loss: 53.87941761627881, Test Loss: 43.26444927388219, Test Accuracy: 5.231231902300461, Best: 4.835967248962743\n"
     ]
    },
    {
     "name": "stderr",
     "output_type": "stream",
     "text": [
      "100%|██████████| 1/1 [00:01<00:00,  1.69s/it]\n"
     ]
    },
    {
     "name": "stdout",
     "output_type": "stream",
     "text": [
      "Current Round: 19, Average Loss: 53.525317446412686, Test Loss: 40.576718521354664, Test Accuracy: 5.0848806680394345, Best: 4.835967248962743\n"
     ]
    },
    {
     "name": "stderr",
     "output_type": "stream",
     "text": [
      "100%|██████████| 1/1 [00:01<00:00,  1.68s/it]\n"
     ]
    },
    {
     "name": "stdout",
     "output_type": "stream",
     "text": [
      "Current Round: 20, Average Loss: 53.52285678507417, Test Loss: 39.47376117008633, Test Accuracy: 5.021837427242159, Best: 4.835967248962743\n"
     ]
    },
    {
     "name": "stderr",
     "output_type": "stream",
     "text": [
      "100%|██████████| 1/1 [00:01<00:00,  1.62s/it]\n"
     ]
    },
    {
     "name": "stdout",
     "output_type": "stream",
     "text": [
      "Current Round: 21, Average Loss: 52.85670879099889, Test Loss: 39.32242830185438, Test Accuracy: 4.89034973163451, Best: 4.835967248962743\n"
     ]
    },
    {
     "name": "stderr",
     "output_type": "stream",
     "text": [
      "100%|██████████| 1/1 [00:01<00:00,  1.63s/it]\n"
     ]
    },
    {
     "name": "stdout",
     "output_type": "stream",
     "text": [
      "Current Round: 22, Average Loss: 52.85558546462471, Test Loss: 39.131718400835766, Test Accuracy: 4.959979594751537, Best: 4.835967248962743\n"
     ]
    },
    {
     "name": "stderr",
     "output_type": "stream",
     "text": [
      "100%|██████████| 1/1 [00:01<00:00,  1.67s/it]\n"
     ]
    },
    {
     "name": "stdout",
     "output_type": "stream",
     "text": [
      "Current Round: 23, Average Loss: 52.80178932560504, Test Loss: 36.91669952477717, Test Accuracy: 4.717743972333706, Best: 4.717743972333706\n"
     ]
    },
    {
     "name": "stderr",
     "output_type": "stream",
     "text": [
      "100%|██████████| 1/1 [00:01<00:00,  1.70s/it]\n"
     ]
    },
    {
     "name": "stdout",
     "output_type": "stream",
     "text": [
      "Current Round: 24, Average Loss: 52.282007875616614, Test Loss: 41.77384020716081, Test Accuracy: 5.19601926194609, Best: 4.717743972333706\n"
     ]
    },
    {
     "name": "stderr",
     "output_type": "stream",
     "text": [
      "100%|██████████| 1/1 [00:01<00:00,  1.69s/it]\n"
     ]
    },
    {
     "name": "stdout",
     "output_type": "stream",
     "text": [
      "Current Round: 25, Average Loss: 52.210793972770965, Test Loss: 42.51786435855078, Test Accuracy: 5.166253808264546, Best: 4.717743972333706\n"
     ]
    },
    {
     "name": "stderr",
     "output_type": "stream",
     "text": [
      "100%|██████████| 1/1 [00:01<00:00,  1.68s/it]\n"
     ]
    },
    {
     "name": "stdout",
     "output_type": "stream",
     "text": [
      "Current Round: 26, Average Loss: 52.0029752749063, Test Loss: 44.86847393984242, Test Accuracy: 5.39567805962465, Best: 4.717743972333706\n"
     ]
    },
    {
     "name": "stderr",
     "output_type": "stream",
     "text": [
      "100%|██████████| 1/1 [00:01<00:00,  1.61s/it]\n"
     ]
    },
    {
     "name": "stdout",
     "output_type": "stream",
     "text": [
      "Current Round: 27, Average Loss: 51.54113236064957, Test Loss: 42.16483844915533, Test Accuracy: 5.065243360941556, Best: 4.717743972333706\n"
     ]
    },
    {
     "name": "stderr",
     "output_type": "stream",
     "text": [
      "100%|██████████| 1/1 [00:01<00:00,  1.68s/it]\n"
     ]
    },
    {
     "name": "stdout",
     "output_type": "stream",
     "text": [
      "Current Round: 28, Average Loss: 51.66341769001298, Test Loss: 44.82549234805311, Test Accuracy: 5.358381114091773, Best: 4.717743972333706\n"
     ]
    },
    {
     "name": "stderr",
     "output_type": "stream",
     "text": [
      "100%|██████████| 1/1 [00:01<00:00,  1.66s/it]\n"
     ]
    },
    {
     "name": "stdout",
     "output_type": "stream",
     "text": [
      "Current Round: 29, Average Loss: 51.68328071788718, Test Loss: 39.45672808680857, Test Accuracy: 4.923212610707103, Best: 4.717743972333706\n"
     ]
    },
    {
     "name": "stderr",
     "output_type": "stream",
     "text": [
      "100%|██████████| 1/1 [00:01<00:00,  1.71s/it]\n"
     ]
    },
    {
     "name": "stdout",
     "output_type": "stream",
     "text": [
      "Current Round: 30, Average Loss: 51.06703619988179, Test Loss: 36.739223354881176, Test Accuracy: 4.678637110218822, Best: 4.678637110218822\n"
     ]
    },
    {
     "name": "stderr",
     "output_type": "stream",
     "text": [
      "100%|██████████| 1/1 [00:01<00:00,  1.69s/it]\n"
     ]
    },
    {
     "name": "stdout",
     "output_type": "stream",
     "text": [
      "Current Round: 31, Average Loss: 51.33624654461752, Test Loss: 40.0409787917684, Test Accuracy: 4.920367700301263, Best: 4.678637110218822\n"
     ]
    },
    {
     "name": "stderr",
     "output_type": "stream",
     "text": [
      "100%|██████████| 1/1 [00:01<00:00,  1.70s/it]\n"
     ]
    },
    {
     "name": "stdout",
     "output_type": "stream",
     "text": [
      "Current Round: 32, Average Loss: 51.07678742627214, Test Loss: 39.18607076324444, Test Accuracy: 4.792944265461382, Best: 4.678637110218822\n"
     ]
    },
    {
     "name": "stderr",
     "output_type": "stream",
     "text": [
      "100%|██████████| 1/1 [00:01<00:00,  1.66s/it]\n"
     ]
    },
    {
     "name": "stdout",
     "output_type": "stream",
     "text": [
      "Current Round: 33, Average Loss: 50.62637947573975, Test Loss: 39.630393050135254, Test Accuracy: 4.970321891770478, Best: 4.678637110218822\n"
     ]
    },
    {
     "name": "stderr",
     "output_type": "stream",
     "text": [
      "100%|██████████| 1/1 [00:01<00:00,  1.67s/it]\n"
     ]
    },
    {
     "name": "stdout",
     "output_type": "stream",
     "text": [
      "Current Round: 34, Average Loss: 50.742364943737904, Test Loss: 41.03878693837818, Test Accuracy: 5.095708155292055, Best: 4.678637110218822\n"
     ]
    },
    {
     "name": "stderr",
     "output_type": "stream",
     "text": [
      "100%|██████████| 1/1 [00:01<00:00,  1.67s/it]\n"
     ]
    },
    {
     "name": "stdout",
     "output_type": "stream",
     "text": [
      "Current Round: 35, Average Loss: 50.15051355798861, Test Loss: 39.147925667192204, Test Accuracy: 4.980516120357241, Best: 4.678637110218822\n"
     ]
    },
    {
     "name": "stderr",
     "output_type": "stream",
     "text": [
      "100%|██████████| 1/1 [00:01<00:00,  1.63s/it]\n"
     ]
    },
    {
     "name": "stdout",
     "output_type": "stream",
     "text": [
      "Current Round: 36, Average Loss: 49.79786569724771, Test Loss: 41.93536730279704, Test Accuracy: 4.939992598399418, Best: 4.678637110218822\n"
     ]
    },
    {
     "name": "stderr",
     "output_type": "stream",
     "text": [
      "100%|██████████| 1/1 [00:01<00:00,  1.67s/it]\n"
     ]
    },
    {
     "name": "stdout",
     "output_type": "stream",
     "text": [
      "Current Round: 37, Average Loss: 50.23643477502626, Test Loss: 38.47295322406388, Test Accuracy: 4.826447001467265, Best: 4.678637110218822\n"
     ]
    },
    {
     "name": "stderr",
     "output_type": "stream",
     "text": [
      "100%|██████████| 1/1 [00:01<00:00,  1.67s/it]\n"
     ]
    },
    {
     "name": "stdout",
     "output_type": "stream",
     "text": [
      "Current Round: 38, Average Loss: 50.816502850802244, Test Loss: 39.16629191030277, Test Accuracy: 4.768013359963783, Best: 4.678637110218822\n"
     ]
    },
    {
     "name": "stderr",
     "output_type": "stream",
     "text": [
      "100%|██████████| 1/1 [00:01<00:00,  1.57s/it]\n"
     ]
    },
    {
     "name": "stdout",
     "output_type": "stream",
     "text": [
      "Current Round: 39, Average Loss: 50.694329389834294, Test Loss: 36.682985652254295, Test Accuracy: 4.71599055725968, Best: 4.678637110218822\n"
     ]
    },
    {
     "name": "stderr",
     "output_type": "stream",
     "text": [
      "100%|██████████| 1/1 [00:01<00:00,  1.67s/it]\n"
     ]
    },
    {
     "name": "stdout",
     "output_type": "stream",
     "text": [
      "Current Round: 40, Average Loss: 50.59854129761037, Test Loss: 36.692738463844634, Test Accuracy: 4.643188027218123, Best: 4.643188027218123\n"
     ]
    },
    {
     "name": "stderr",
     "output_type": "stream",
     "text": [
      "100%|██████████| 1/1 [00:01<00:00,  1.69s/it]\n"
     ]
    },
    {
     "name": "stdout",
     "output_type": "stream",
     "text": [
      "Current Round: 41, Average Loss: 50.242251470488924, Test Loss: 37.23162346808569, Test Accuracy: 4.693118963933331, Best: 4.643188027218123\n"
     ]
    },
    {
     "name": "stderr",
     "output_type": "stream",
     "text": [
      "100%|██████████| 1/1 [00:01<00:00,  1.71s/it]\n"
     ]
    },
    {
     "name": "stdout",
     "output_type": "stream",
     "text": [
      "Current Round: 42, Average Loss: 50.50103567177946, Test Loss: 37.4261746959367, Test Accuracy: 4.737378607015025, Best: 4.643188027218123\n"
     ]
    },
    {
     "name": "stderr",
     "output_type": "stream",
     "text": [
      "100%|██████████| 1/1 [00:01<00:00,  1.70s/it]\n"
     ]
    },
    {
     "name": "stdout",
     "output_type": "stream",
     "text": [
      "Current Round: 43, Average Loss: 49.82716831387301, Test Loss: 36.63143830556568, Test Accuracy: 4.7146851479896315, Best: 4.643188027218123\n"
     ]
    },
    {
     "name": "stderr",
     "output_type": "stream",
     "text": [
      "100%|██████████| 1/1 [00:01<00:00,  1.68s/it]\n"
     ]
    },
    {
     "name": "stdout",
     "output_type": "stream",
     "text": [
      "Current Round: 44, Average Loss: 50.04016620085398, Test Loss: 42.84746941970286, Test Accuracy: 5.231641907759949, Best: 4.643188027218123\n"
     ]
    },
    {
     "name": "stderr",
     "output_type": "stream",
     "text": [
      "100%|██████████| 1/1 [00:01<00:00,  1.69s/it]\n"
     ]
    },
    {
     "name": "stdout",
     "output_type": "stream",
     "text": [
      "Current Round: 45, Average Loss: 50.805967979549415, Test Loss: 40.43994902854962, Test Accuracy: 5.053105034446834, Best: 4.643188027218123\n"
     ]
    },
    {
     "name": "stderr",
     "output_type": "stream",
     "text": [
      "100%|██████████| 1/1 [00:01<00:00,  1.66s/it]\n"
     ]
    },
    {
     "name": "stdout",
     "output_type": "stream",
     "text": [
      "Current Round: 46, Average Loss: 49.5709462779824, Test Loss: 37.752020460437414, Test Accuracy: 4.7492053108191685, Best: 4.643188027218123\n"
     ]
    },
    {
     "name": "stderr",
     "output_type": "stream",
     "text": [
      "100%|██████████| 1/1 [00:01<00:00,  1.68s/it]\n"
     ]
    },
    {
     "name": "stdout",
     "output_type": "stream",
     "text": [
      "Current Round: 47, Average Loss: 49.865774857287484, Test Loss: 41.63038627686001, Test Accuracy: 5.209867637052494, Best: 4.643188027218123\n"
     ]
    },
    {
     "name": "stderr",
     "output_type": "stream",
     "text": [
      "100%|██████████| 1/1 [00:01<00:00,  1.66s/it]\n"
     ]
    },
    {
     "name": "stdout",
     "output_type": "stream",
     "text": [
      "Current Round: 48, Average Loss: 49.808247411756156, Test Loss: 47.72099145746201, Test Accuracy: 5.395112486411826, Best: 4.643188027218123\n"
     ]
    },
    {
     "name": "stderr",
     "output_type": "stream",
     "text": [
      "100%|██████████| 1/1 [00:01<00:00,  1.67s/it]\n"
     ]
    },
    {
     "name": "stdout",
     "output_type": "stream",
     "text": [
      "Current Round: 49, Average Loss: 49.25695788797082, Test Loss: 39.00274673338936, Test Accuracy: 4.897780333848304, Best: 4.643188027218123\n"
     ]
    },
    {
     "name": "stderr",
     "output_type": "stream",
     "text": [
      "100%|██████████| 1/1 [00:01<00:00,  1.69s/it]\n"
     ]
    },
    {
     "name": "stdout",
     "output_type": "stream",
     "text": [
      "Current Round: 50, Average Loss: 49.84736172462224, Test Loss: 45.94295929768628, Test Accuracy: 5.2588894602236955, Best: 4.643188027218123\n"
     ]
    },
    {
     "name": "stderr",
     "output_type": "stream",
     "text": [
      "100%|██████████| 1/1 [00:01<00:00,  1.68s/it]\n"
     ]
    },
    {
     "name": "stdout",
     "output_type": "stream",
     "text": [
      "Current Round: 51, Average Loss: 49.09845216326002, Test Loss: 38.758692341714045, Test Accuracy: 4.9229028728979385, Best: 4.643188027218123\n"
     ]
    },
    {
     "name": "stderr",
     "output_type": "stream",
     "text": [
      "100%|██████████| 1/1 [00:01<00:00,  1.64s/it]\n"
     ]
    },
    {
     "name": "stdout",
     "output_type": "stream",
     "text": [
      "Current Round: 52, Average Loss: 49.42365381212593, Test Loss: 38.893761366993765, Test Accuracy: 4.812697948023021, Best: 4.643188027218123\n"
     ]
    },
    {
     "name": "stderr",
     "output_type": "stream",
     "text": [
      "100%|██████████| 1/1 [00:01<00:00,  1.68s/it]\n"
     ]
    },
    {
     "name": "stdout",
     "output_type": "stream",
     "text": [
      "Current Round: 53, Average Loss: 49.07413655122395, Test Loss: 39.08165501395295, Test Accuracy: 4.889751874210668, Best: 4.643188027218123\n"
     ]
    },
    {
     "name": "stderr",
     "output_type": "stream",
     "text": [
      "100%|██████████| 1/1 [00:01<00:00,  1.62s/it]\n"
     ]
    },
    {
     "name": "stdout",
     "output_type": "stream",
     "text": [
      "Current Round: 54, Average Loss: 48.88304324917164, Test Loss: 39.03692275873268, Test Accuracy: 4.867054238647537, Best: 4.643188027218123\n"
     ]
    },
    {
     "name": "stderr",
     "output_type": "stream",
     "text": [
      "100%|██████████| 1/1 [00:01<00:00,  1.63s/it]\n"
     ]
    },
    {
     "name": "stdout",
     "output_type": "stream",
     "text": [
      "Current Round: 55, Average Loss: 48.902439749228556, Test Loss: 37.8820523393871, Test Accuracy: 4.872523060069643, Best: 4.643188027218123\n"
     ]
    },
    {
     "name": "stderr",
     "output_type": "stream",
     "text": [
      "100%|██████████| 1/1 [00:01<00:00,  1.62s/it]\n"
     ]
    },
    {
     "name": "stdout",
     "output_type": "stream",
     "text": [
      "Current Round: 56, Average Loss: 49.65359316466802, Test Loss: 42.425323737014985, Test Accuracy: 5.13343966413712, Best: 4.643188027218123\n"
     ]
    },
    {
     "name": "stderr",
     "output_type": "stream",
     "text": [
      "100%|██████████| 1/1 [00:01<00:00,  1.60s/it]\n"
     ]
    },
    {
     "name": "stdout",
     "output_type": "stream",
     "text": [
      "Current Round: 57, Average Loss: 48.82711452177956, Test Loss: 36.5951313484698, Test Accuracy: 4.670210299695861, Best: 4.643188027218123\n"
     ]
    },
    {
     "name": "stderr",
     "output_type": "stream",
     "text": [
      "100%|██████████| 1/1 [00:01<00:00,  1.66s/it]\n"
     ]
    },
    {
     "name": "stdout",
     "output_type": "stream",
     "text": [
      "Current Round: 58, Average Loss: 48.8843925865034, Test Loss: 38.98675302267814, Test Accuracy: 4.834474888782064, Best: 4.643188027218123\n"
     ]
    },
    {
     "name": "stderr",
     "output_type": "stream",
     "text": [
      "100%|██████████| 1/1 [00:01<00:00,  1.61s/it]\n"
     ]
    },
    {
     "name": "stdout",
     "output_type": "stream",
     "text": [
      "Current Round: 59, Average Loss: 48.93686463713769, Test Loss: 36.85223949879352, Test Accuracy: 4.700671766532997, Best: 4.643188027218123\n"
     ]
    },
    {
     "name": "stderr",
     "output_type": "stream",
     "text": [
      "100%|██████████| 1/1 [00:01<00:00,  1.65s/it]\n"
     ]
    },
    {
     "name": "stdout",
     "output_type": "stream",
     "text": [
      "Current Round: 60, Average Loss: 48.62249920510276, Test Loss: 41.566583724474214, Test Accuracy: 5.002756280774887, Best: 4.643188027218123\n"
     ]
    },
    {
     "name": "stderr",
     "output_type": "stream",
     "text": [
      "100%|██████████| 1/1 [00:01<00:00,  1.65s/it]\n"
     ]
    },
    {
     "name": "stdout",
     "output_type": "stream",
     "text": [
      "Current Round: 61, Average Loss: 48.76092275723974, Test Loss: 39.92307213028247, Test Accuracy: 4.977030208372434, Best: 4.643188027218123\n"
     ]
    },
    {
     "name": "stderr",
     "output_type": "stream",
     "text": [
      "100%|██████████| 1/1 [00:01<00:00,  1.57s/it]\n"
     ]
    },
    {
     "name": "stdout",
     "output_type": "stream",
     "text": [
      "Current Round: 62, Average Loss: 48.66833416094174, Test Loss: 41.93800072335931, Test Accuracy: 5.058640049025647, Best: 4.643188027218123\n"
     ]
    },
    {
     "name": "stderr",
     "output_type": "stream",
     "text": [
      "100%|██████████| 1/1 [00:01<00:00,  1.54s/it]\n"
     ]
    },
    {
     "name": "stdout",
     "output_type": "stream",
     "text": [
      "Current Round: 63, Average Loss: 48.17224507714566, Test Loss: 38.033924438609, Test Accuracy: 4.8710477134860675, Best: 4.643188027218123\n"
     ]
    },
    {
     "name": "stderr",
     "output_type": "stream",
     "text": [
      "100%|██████████| 1/1 [00:01<00:00,  1.65s/it]\n"
     ]
    },
    {
     "name": "stdout",
     "output_type": "stream",
     "text": [
      "Current Round: 64, Average Loss: 48.67168309352663, Test Loss: 48.789562342407834, Test Accuracy: 5.3631327676980005, Best: 4.643188027218123\n"
     ]
    },
    {
     "name": "stderr",
     "output_type": "stream",
     "text": [
      "100%|██████████| 1/1 [00:01<00:00,  1.61s/it]\n"
     ]
    },
    {
     "name": "stdout",
     "output_type": "stream",
     "text": [
      "Current Round: 65, Average Loss: 48.096978285523726, Test Loss: 41.44107731099611, Test Accuracy: 4.95877654140068, Best: 4.643188027218123\n"
     ]
    },
    {
     "name": "stderr",
     "output_type": "stream",
     "text": [
      "100%|██████████| 1/1 [00:01<00:00,  1.70s/it]\n"
     ]
    },
    {
     "name": "stdout",
     "output_type": "stream",
     "text": [
      "Current Round: 66, Average Loss: 47.97057210020144, Test Loss: 38.101686152477704, Test Accuracy: 4.794249480803857, Best: 4.643188027218123\n"
     ]
    },
    {
     "name": "stderr",
     "output_type": "stream",
     "text": [
      "100%|██████████| 1/1 [00:01<00:00,  1.71s/it]\n"
     ]
    },
    {
     "name": "stdout",
     "output_type": "stream",
     "text": [
      "Current Round: 67, Average Loss: 48.039449721075854, Test Loss: 38.987019554842945, Test Accuracy: 4.807239553755437, Best: 4.643188027218123\n"
     ]
    },
    {
     "name": "stderr",
     "output_type": "stream",
     "text": [
      "100%|██████████| 1/1 [00:01<00:00,  1.68s/it]\n"
     ]
    },
    {
     "name": "stdout",
     "output_type": "stream",
     "text": [
      "Current Round: 68, Average Loss: 48.45788175534923, Test Loss: 41.62180769672619, Test Accuracy: 5.00922567624153, Best: 4.643188027218123\n"
     ]
    },
    {
     "name": "stderr",
     "output_type": "stream",
     "text": [
      "100%|██████████| 1/1 [00:01<00:00,  1.63s/it]\n"
     ]
    },
    {
     "name": "stdout",
     "output_type": "stream",
     "text": [
      "Current Round: 69, Average Loss: 48.026208050366805, Test Loss: 40.247139930133855, Test Accuracy: 4.860245748994074, Best: 4.643188027218123\n"
     ]
    },
    {
     "name": "stderr",
     "output_type": "stream",
     "text": [
      "100%|██████████| 1/1 [00:01<00:00,  1.63s/it]\n"
     ]
    },
    {
     "name": "stdout",
     "output_type": "stream",
     "text": [
      "Current Round: 70, Average Loss: 48.369851887065956, Test Loss: 37.42066823364561, Test Accuracy: 4.738190487165741, Best: 4.643188027218123\n"
     ]
    },
    {
     "name": "stderr",
     "output_type": "stream",
     "text": [
      "100%|██████████| 1/1 [00:01<00:00,  1.69s/it]\n"
     ]
    },
    {
     "name": "stdout",
     "output_type": "stream",
     "text": [
      "Current Round: 71, Average Loss: 47.976786440994836, Test Loss: 37.19543235433523, Test Accuracy: 4.729644451389679, Best: 4.643188027218123\n"
     ]
    },
    {
     "name": "stderr",
     "output_type": "stream",
     "text": [
      "100%|██████████| 1/1 [00:01<00:00,  1.69s/it]\n"
     ]
    },
    {
     "name": "stdout",
     "output_type": "stream",
     "text": [
      "Current Round: 72, Average Loss: 48.04661598718047, Test Loss: 37.01685336917657, Test Accuracy: 4.753751223824886, Best: 4.643188027218123\n"
     ]
    },
    {
     "name": "stderr",
     "output_type": "stream",
     "text": [
      "100%|██████████| 1/1 [00:01<00:00,  1.69s/it]\n"
     ]
    },
    {
     "name": "stdout",
     "output_type": "stream",
     "text": [
      "Current Round: 73, Average Loss: 48.409582905747996, Test Loss: 39.835224955701264, Test Accuracy: 4.891043788959577, Best: 4.643188027218123\n"
     ]
    },
    {
     "name": "stderr",
     "output_type": "stream",
     "text": [
      "100%|██████████| 1/1 [00:01<00:00,  1.63s/it]\n"
     ]
    },
    {
     "name": "stdout",
     "output_type": "stream",
     "text": [
      "Current Round: 74, Average Loss: 47.38815620782414, Test Loss: 35.50318847083927, Test Accuracy: 4.625320682892205, Best: 4.625320682892205\n"
     ]
    },
    {
     "name": "stderr",
     "output_type": "stream",
     "text": [
      "100%|██████████| 1/1 [00:01<00:00,  1.66s/it]\n"
     ]
    },
    {
     "name": "stdout",
     "output_type": "stream",
     "text": [
      "Current Round: 75, Average Loss: 47.45508223325682, Test Loss: 44.51060704599606, Test Accuracy: 5.192499895089913, Best: 4.625320682892205\n"
     ]
    },
    {
     "name": "stderr",
     "output_type": "stream",
     "text": [
      "100%|██████████| 1/1 [00:01<00:00,  1.60s/it]\n"
     ]
    },
    {
     "name": "stdout",
     "output_type": "stream",
     "text": [
      "Current Round: 76, Average Loss: 47.36227432064381, Test Loss: 39.30631876435253, Test Accuracy: 4.974597368045246, Best: 4.625320682892205\n"
     ]
    },
    {
     "name": "stderr",
     "output_type": "stream",
     "text": [
      "100%|██████████| 1/1 [00:01<00:00,  1.65s/it]\n"
     ]
    },
    {
     "name": "stdout",
     "output_type": "stream",
     "text": [
      "Current Round: 77, Average Loss: 47.678530018090626, Test Loss: 35.43944642740381, Test Accuracy: 4.538450509513008, Best: 4.538450509513008\n"
     ]
    },
    {
     "name": "stderr",
     "output_type": "stream",
     "text": [
      "100%|██████████| 1/1 [00:01<00:00,  1.61s/it]\n"
     ]
    },
    {
     "name": "stdout",
     "output_type": "stream",
     "text": [
      "Current Round: 78, Average Loss: 47.56912700431001, Test Loss: 41.085975006065674, Test Accuracy: 4.936259031443587, Best: 4.538450509513008\n"
     ]
    },
    {
     "name": "stderr",
     "output_type": "stream",
     "text": [
      "100%|██████████| 1/1 [00:01<00:00,  1.62s/it]\n"
     ]
    },
    {
     "name": "stdout",
     "output_type": "stream",
     "text": [
      "Current Round: 79, Average Loss: 47.06547976325308, Test Loss: 38.17076121955205, Test Accuracy: 4.9288015229614786, Best: 4.538450509513008\n"
     ]
    },
    {
     "name": "stderr",
     "output_type": "stream",
     "text": [
      "100%|██████████| 1/1 [00:01<00:00,  1.58s/it]\n"
     ]
    },
    {
     "name": "stdout",
     "output_type": "stream",
     "text": [
      "Current Round: 80, Average Loss: 46.811883370941196, Test Loss: 37.92762428562758, Test Accuracy: 4.825340514588046, Best: 4.538450509513008\n"
     ]
    },
    {
     "name": "stderr",
     "output_type": "stream",
     "text": [
      "100%|██████████| 1/1 [00:01<00:00,  1.61s/it]\n"
     ]
    },
    {
     "name": "stdout",
     "output_type": "stream",
     "text": [
      "Current Round: 81, Average Loss: 46.65002899590419, Test Loss: 35.60369896223585, Test Accuracy: 4.61098041286102, Best: 4.538450509513008\n"
     ]
    },
    {
     "name": "stderr",
     "output_type": "stream",
     "text": [
      "100%|██████████| 1/1 [00:01<00:00,  1.64s/it]\n"
     ]
    },
    {
     "name": "stdout",
     "output_type": "stream",
     "text": [
      "Current Round: 82, Average Loss: 46.96607128677802, Test Loss: 44.271659721000844, Test Accuracy: 5.2104235115216815, Best: 4.538450509513008\n"
     ]
    },
    {
     "name": "stderr",
     "output_type": "stream",
     "text": [
      "100%|██████████| 1/1 [00:01<00:00,  1.64s/it]\n"
     ]
    },
    {
     "name": "stdout",
     "output_type": "stream",
     "text": [
      "Current Round: 83, Average Loss: 46.73829808565324, Test Loss: 38.058865504019465, Test Accuracy: 4.650731965908705, Best: 4.538450509513008\n"
     ]
    },
    {
     "name": "stderr",
     "output_type": "stream",
     "text": [
      "100%|██████████| 1/1 [00:01<00:00,  1.71s/it]\n"
     ]
    },
    {
     "name": "stdout",
     "output_type": "stream",
     "text": [
      "Current Round: 84, Average Loss: 46.866800463417256, Test Loss: 37.894660242580876, Test Accuracy: 4.832543417451105, Best: 4.538450509513008\n"
     ]
    },
    {
     "name": "stderr",
     "output_type": "stream",
     "text": [
      "100%|██████████| 1/1 [00:01<00:00,  1.69s/it]\n"
     ]
    },
    {
     "name": "stdout",
     "output_type": "stream",
     "text": [
      "Current Round: 85, Average Loss: 46.61518025084524, Test Loss: 39.64144355882714, Test Accuracy: 4.818014096415568, Best: 4.538450509513008\n"
     ]
    },
    {
     "name": "stderr",
     "output_type": "stream",
     "text": [
      "100%|██████████| 1/1 [00:01<00:00,  1.72s/it]\n"
     ]
    },
    {
     "name": "stdout",
     "output_type": "stream",
     "text": [
      "Current Round: 86, Average Loss: 46.231842442064746, Test Loss: 36.33712207820204, Test Accuracy: 4.735189978261949, Best: 4.538450509513008\n"
     ]
    },
    {
     "name": "stderr",
     "output_type": "stream",
     "text": [
      "100%|██████████| 1/1 [00:01<00:00,  1.63s/it]\n"
     ]
    },
    {
     "name": "stdout",
     "output_type": "stream",
     "text": [
      "Current Round: 87, Average Loss: 46.54459665937749, Test Loss: 37.148494940401235, Test Accuracy: 4.717402491891746, Best: 4.538450509513008\n"
     ]
    },
    {
     "name": "stderr",
     "output_type": "stream",
     "text": [
      "100%|██████████| 1/1 [00:01<00:00,  1.59s/it]\n"
     ]
    },
    {
     "name": "stdout",
     "output_type": "stream",
     "text": [
      "Current Round: 88, Average Loss: 46.38681724198802, Test Loss: 35.607334051823955, Test Accuracy: 4.59845203179716, Best: 4.538450509513008\n"
     ]
    },
    {
     "name": "stderr",
     "output_type": "stream",
     "text": [
      "100%|██████████| 1/1 [00:01<00:00,  1.65s/it]\n"
     ]
    },
    {
     "name": "stdout",
     "output_type": "stream",
     "text": [
      "Current Round: 89, Average Loss: 46.04336953473592, Test Loss: 37.54803876409749, Test Accuracy: 4.661077290089768, Best: 4.538450509513008\n"
     ]
    },
    {
     "name": "stderr",
     "output_type": "stream",
     "text": [
      "100%|██████████| 1/1 [00:01<00:00,  1.71s/it]\n"
     ]
    },
    {
     "name": "stdout",
     "output_type": "stream",
     "text": [
      "Current Round: 90, Average Loss: 46.3569293703821, Test Loss: 38.37791719099637, Test Accuracy: 4.786654931746575, Best: 4.538450509513008\n"
     ]
    },
    {
     "name": "stderr",
     "output_type": "stream",
     "text": [
      "100%|██████████| 1/1 [00:01<00:00,  1.64s/it]\n"
     ]
    },
    {
     "name": "stdout",
     "output_type": "stream",
     "text": [
      "Current Round: 91, Average Loss: 46.016239250622, Test Loss: 50.505796504626716, Test Accuracy: 5.795355019329944, Best: 4.538450509513008\n"
     ]
    },
    {
     "name": "stderr",
     "output_type": "stream",
     "text": [
      "100%|██████████| 1/1 [00:01<00:00,  1.61s/it]\n"
     ]
    },
    {
     "name": "stdout",
     "output_type": "stream",
     "text": [
      "Current Round: 92, Average Loss: 46.54411772577836, Test Loss: 34.92466663826495, Test Accuracy: 4.5410006523723565, Best: 4.538450509513008\n"
     ]
    },
    {
     "name": "stderr",
     "output_type": "stream",
     "text": [
      "100%|██████████| 1/1 [00:01<00:00,  1.53s/it]\n"
     ]
    },
    {
     "name": "stdout",
     "output_type": "stream",
     "text": [
      "Current Round: 93, Average Loss: 46.22928929869323, Test Loss: 36.782299711034675, Test Accuracy: 4.710948182571326, Best: 4.538450509513008\n"
     ]
    },
    {
     "name": "stderr",
     "output_type": "stream",
     "text": [
      "100%|██████████| 1/1 [00:01<00:00,  1.57s/it]\n"
     ]
    },
    {
     "name": "stdout",
     "output_type": "stream",
     "text": [
      "Current Round: 94, Average Loss: 46.01597886409096, Test Loss: 36.845759993078396, Test Accuracy: 4.821018956864908, Best: 4.538450509513008\n"
     ]
    },
    {
     "name": "stderr",
     "output_type": "stream",
     "text": [
      "100%|██████████| 1/1 [00:01<00:00,  1.60s/it]\n"
     ]
    },
    {
     "name": "stdout",
     "output_type": "stream",
     "text": [
      "Current Round: 95, Average Loss: 45.538703733569704, Test Loss: 40.080650143939664, Test Accuracy: 5.006076287720711, Best: 4.538450509513008\n"
     ]
    },
    {
     "name": "stderr",
     "output_type": "stream",
     "text": [
      "100%|██████████| 1/1 [00:01<00:00,  1.68s/it]\n"
     ]
    },
    {
     "name": "stdout",
     "output_type": "stream",
     "text": [
      "Current Round: 96, Average Loss: 45.97911881996441, Test Loss: 38.16888686462138, Test Accuracy: 4.896610137031304, Best: 4.538450509513008\n"
     ]
    },
    {
     "name": "stderr",
     "output_type": "stream",
     "text": [
      "100%|██████████| 1/1 [00:01<00:00,  1.66s/it]\n"
     ]
    },
    {
     "name": "stdout",
     "output_type": "stream",
     "text": [
      "Current Round: 97, Average Loss: 45.87501428586386, Test Loss: 35.78003350829605, Test Accuracy: 4.517106843157282, Best: 4.517106843157282\n"
     ]
    },
    {
     "name": "stderr",
     "output_type": "stream",
     "text": [
      "100%|██████████| 1/1 [00:01<00:00,  1.70s/it]\n"
     ]
    },
    {
     "name": "stdout",
     "output_type": "stream",
     "text": [
      "Current Round: 98, Average Loss: 45.78937710148689, Test Loss: 36.03544321077918, Test Accuracy: 4.731401473043576, Best: 4.517106843157282\n"
     ]
    },
    {
     "name": "stderr",
     "output_type": "stream",
     "text": [
      "100%|██████████| 1/1 [00:01<00:00,  1.66s/it]\n"
     ]
    },
    {
     "name": "stdout",
     "output_type": "stream",
     "text": [
      "Current Round: 99, Average Loss: 45.824878746503146, Test Loss: 37.78090233516043, Test Accuracy: 4.7982656546283495, Best: 4.517106843157282\n"
     ]
    },
    {
     "name": "stderr",
     "output_type": "stream",
     "text": [
      "100%|██████████| 1/1 [00:01<00:00,  1.66s/it]\n"
     ]
    },
    {
     "name": "stdout",
     "output_type": "stream",
     "text": [
      "Current Round: 100, Average Loss: 45.3257113859812, Test Loss: 38.18364162409594, Test Accuracy: 4.876416473010277, Best: 4.517106843157282\n",
      "Training Done!\n",
      "Best Accuracy: 4.517106843157282\n",
      "Total time taken to Train: 180.64070987701416\n",
      "Name is taken...trying again...\n"
     ]
    },
    {
     "name": "stderr",
     "output_type": "stream",
     "text": [
      "100%|██████████| 1/1 [00:01<00:00,  1.67s/it]\n"
     ]
    },
    {
     "name": "stdout",
     "output_type": "stream",
     "text": [
      "Current Round: 1, Average Loss: 294.1874313612047, Test Loss: 64.51699826263598, Test Accuracy: 6.302756638831406, Best: 6.302756638831406\n"
     ]
    },
    {
     "name": "stderr",
     "output_type": "stream",
     "text": [
      "100%|██████████| 1/1 [00:01<00:00,  1.72s/it]\n"
     ]
    },
    {
     "name": "stdout",
     "output_type": "stream",
     "text": [
      "Current Round: 2, Average Loss: 91.195979303563, Test Loss: 53.51007071091237, Test Accuracy: 5.685014803957954, Best: 5.685014803957954\n"
     ]
    },
    {
     "name": "stderr",
     "output_type": "stream",
     "text": [
      "100%|██████████| 1/1 [00:01<00:00,  1.71s/it]\n"
     ]
    },
    {
     "name": "stdout",
     "output_type": "stream",
     "text": [
      "Current Round: 3, Average Loss: 77.28203913326966, Test Loss: 85.45435738134887, Test Accuracy: 6.61824429648601, Best: 5.685014803957954\n"
     ]
    },
    {
     "name": "stderr",
     "output_type": "stream",
     "text": [
      "100%|██████████| 1/1 [00:01<00:00,  1.71s/it]\n"
     ]
    },
    {
     "name": "stdout",
     "output_type": "stream",
     "text": [
      "Current Round: 4, Average Loss: 72.42682506891107, Test Loss: 56.63067288762357, Test Accuracy: 5.597280721079098, Best: 5.597280721079098\n"
     ]
    },
    {
     "name": "stderr",
     "output_type": "stream",
     "text": [
      "100%|██████████| 1/1 [00:01<00:00,  1.70s/it]\n"
     ]
    },
    {
     "name": "stdout",
     "output_type": "stream",
     "text": [
      "Current Round: 5, Average Loss: 68.19109220889122, Test Loss: 46.23372269386249, Test Accuracy: 5.337953128802872, Best: 5.337953128802872\n"
     ]
    },
    {
     "name": "stderr",
     "output_type": "stream",
     "text": [
      "100%|██████████| 1/1 [00:01<00:00,  1.60s/it]\n"
     ]
    },
    {
     "name": "stdout",
     "output_type": "stream",
     "text": [
      "Current Round: 6, Average Loss: 65.31201815005626, Test Loss: 43.88939040503883, Test Accuracy: 5.191544721382269, Best: 5.191544721382269\n"
     ]
    },
    {
     "name": "stderr",
     "output_type": "stream",
     "text": [
      "100%|██████████| 1/1 [00:01<00:00,  1.52s/it]\n"
     ]
    },
    {
     "name": "stdout",
     "output_type": "stream",
     "text": [
      "Current Round: 7, Average Loss: 64.1841971015996, Test Loss: 48.61652257674537, Test Accuracy: 5.402268945986044, Best: 5.191544721382269\n"
     ]
    },
    {
     "name": "stderr",
     "output_type": "stream",
     "text": [
      "100%|██████████| 1/1 [00:01<00:00,  1.61s/it]\n"
     ]
    },
    {
     "name": "stdout",
     "output_type": "stream",
     "text": [
      "Current Round: 8, Average Loss: 61.92213439718017, Test Loss: 91.4331605536407, Test Accuracy: 7.324729295081406, Best: 5.191544721382269\n"
     ]
    },
    {
     "name": "stderr",
     "output_type": "stream",
     "text": [
      "100%|██████████| 1/1 [00:01<00:00,  1.66s/it]\n"
     ]
    },
    {
     "name": "stdout",
     "output_type": "stream",
     "text": [
      "Current Round: 9, Average Loss: 60.89380182521819, Test Loss: 48.60492109380298, Test Accuracy: 5.557511539542002, Best: 5.191544721382269\n"
     ]
    },
    {
     "name": "stderr",
     "output_type": "stream",
     "text": [
      "100%|██████████| 1/1 [00:01<00:00,  1.68s/it]\n"
     ]
    },
    {
     "name": "stdout",
     "output_type": "stream",
     "text": [
      "Current Round: 10, Average Loss: 59.35099659734786, Test Loss: 45.37781242162488, Test Accuracy: 5.227742095209395, Best: 5.191544721382269\n"
     ]
    },
    {
     "name": "stderr",
     "output_type": "stream",
     "text": [
      "100%|██████████| 1/1 [00:01<00:00,  1.69s/it]\n"
     ]
    },
    {
     "name": "stdout",
     "output_type": "stream",
     "text": [
      "Current Round: 11, Average Loss: 58.411254839711546, Test Loss: 48.246223855299455, Test Accuracy: 5.3582634142445835, Best: 5.191544721382269\n"
     ]
    },
    {
     "name": "stderr",
     "output_type": "stream",
     "text": [
      "100%|██████████| 1/1 [00:01<00:00,  1.68s/it]\n"
     ]
    },
    {
     "name": "stdout",
     "output_type": "stream",
     "text": [
      "Current Round: 12, Average Loss: 57.474628264847354, Test Loss: 38.89139418533997, Test Accuracy: 4.791747226230269, Best: 4.791747226230269\n"
     ]
    },
    {
     "name": "stderr",
     "output_type": "stream",
     "text": [
      "100%|██████████| 1/1 [00:01<00:00,  1.69s/it]\n"
     ]
    },
    {
     "name": "stdout",
     "output_type": "stream",
     "text": [
      "Current Round: 13, Average Loss: 56.15762889308844, Test Loss: 37.02973298973277, Test Accuracy: 4.711779129113459, Best: 4.711779129113459\n"
     ]
    },
    {
     "name": "stderr",
     "output_type": "stream",
     "text": [
      "100%|██████████| 1/1 [00:01<00:00,  1.67s/it]\n"
     ]
    },
    {
     "name": "stdout",
     "output_type": "stream",
     "text": [
      "Current Round: 14, Average Loss: 56.4239097771298, Test Loss: 43.95382334974635, Test Accuracy: 5.363691491956527, Best: 4.711779129113459\n"
     ]
    },
    {
     "name": "stderr",
     "output_type": "stream",
     "text": [
      "100%|██████████| 1/1 [00:01<00:00,  1.65s/it]\n"
     ]
    },
    {
     "name": "stdout",
     "output_type": "stream",
     "text": [
      "Current Round: 15, Average Loss: 55.372201742158445, Test Loss: 36.89544010339726, Test Accuracy: 4.724423984969837, Best: 4.711779129113459\n"
     ]
    },
    {
     "name": "stderr",
     "output_type": "stream",
     "text": [
      "100%|██████████| 1/1 [00:01<00:00,  1.71s/it]\n"
     ]
    },
    {
     "name": "stdout",
     "output_type": "stream",
     "text": [
      "Current Round: 16, Average Loss: 54.37201354985725, Test Loss: 47.25178115854187, Test Accuracy: 5.291155044735402, Best: 4.711779129113459\n"
     ]
    },
    {
     "name": "stderr",
     "output_type": "stream",
     "text": [
      "100%|██████████| 1/1 [00:01<00:00,  1.66s/it]\n"
     ]
    },
    {
     "name": "stdout",
     "output_type": "stream",
     "text": [
      "Current Round: 17, Average Loss: 54.54316563831294, Test Loss: 37.25288060845164, Test Accuracy: 4.759492582071663, Best: 4.711779129113459\n"
     ]
    },
    {
     "name": "stderr",
     "output_type": "stream",
     "text": [
      "100%|██████████| 1/1 [00:01<00:00,  1.69s/it]\n"
     ]
    },
    {
     "name": "stdout",
     "output_type": "stream",
     "text": [
      "Current Round: 18, Average Loss: 54.2033478198444, Test Loss: 40.79972864660652, Test Accuracy: 5.115226064493991, Best: 4.711779129113459\n"
     ]
    },
    {
     "name": "stderr",
     "output_type": "stream",
     "text": [
      "100%|██████████| 1/1 [00:01<00:00,  1.64s/it]\n"
     ]
    },
    {
     "name": "stdout",
     "output_type": "stream",
     "text": [
      "Current Round: 19, Average Loss: 53.504330688224265, Test Loss: 40.21661148969978, Test Accuracy: 4.951278691253378, Best: 4.711779129113459\n"
     ]
    },
    {
     "name": "stderr",
     "output_type": "stream",
     "text": [
      "100%|██████████| 1/1 [00:01<00:00,  1.68s/it]\n"
     ]
    },
    {
     "name": "stdout",
     "output_type": "stream",
     "text": [
      "Current Round: 20, Average Loss: 53.27250412045123, Test Loss: 46.55223582268353, Test Accuracy: 5.273984725772411, Best: 4.711779129113459\n"
     ]
    },
    {
     "name": "stderr",
     "output_type": "stream",
     "text": [
      "100%|██████████| 1/1 [00:01<00:00,  1.72s/it]\n"
     ]
    },
    {
     "name": "stdout",
     "output_type": "stream",
     "text": [
      "Current Round: 21, Average Loss: 52.74504323940297, Test Loss: 36.214570982590715, Test Accuracy: 4.71292553669314, Best: 4.711779129113459\n"
     ]
    },
    {
     "name": "stderr",
     "output_type": "stream",
     "text": [
      "100%|██████████| 1/1 [00:01<00:00,  1.71s/it]\n"
     ]
    },
    {
     "name": "stdout",
     "output_type": "stream",
     "text": [
      "Current Round: 22, Average Loss: 52.75748064577929, Test Loss: 39.92170972167818, Test Accuracy: 5.102288143869815, Best: 4.711779129113459\n"
     ]
    },
    {
     "name": "stderr",
     "output_type": "stream",
     "text": [
      "100%|██████████| 1/1 [00:01<00:00,  1.70s/it]\n"
     ]
    },
    {
     "name": "stdout",
     "output_type": "stream",
     "text": [
      "Current Round: 23, Average Loss: 52.4422920282241, Test Loss: 37.18032997850299, Test Accuracy: 4.8568720950595505, Best: 4.711779129113459\n"
     ]
    },
    {
     "name": "stderr",
     "output_type": "stream",
     "text": [
      "100%|██████████| 1/1 [00:01<00:00,  1.67s/it]\n"
     ]
    },
    {
     "name": "stdout",
     "output_type": "stream",
     "text": [
      "Current Round: 24, Average Loss: 53.03151244276193, Test Loss: 39.90306270336853, Test Accuracy: 4.953204630918556, Best: 4.711779129113459\n"
     ]
    },
    {
     "name": "stderr",
     "output_type": "stream",
     "text": [
      "100%|██████████| 1/1 [00:01<00:00,  1.63s/it]\n"
     ]
    },
    {
     "name": "stdout",
     "output_type": "stream",
     "text": [
      "Current Round: 25, Average Loss: 52.93609949020612, Test Loss: 41.71362626500848, Test Accuracy: 5.066897513477683, Best: 4.711779129113459\n"
     ]
    },
    {
     "name": "stderr",
     "output_type": "stream",
     "text": [
      "100%|██████████| 1/1 [00:01<00:00,  1.67s/it]\n"
     ]
    },
    {
     "name": "stdout",
     "output_type": "stream",
     "text": [
      "Current Round: 26, Average Loss: 51.43089288231261, Test Loss: 39.059803846232725, Test Accuracy: 5.029357342563353, Best: 4.711779129113459\n"
     ]
    },
    {
     "name": "stderr",
     "output_type": "stream",
     "text": [
      "100%|██████████| 1/1 [00:01<00:00,  1.65s/it]\n"
     ]
    },
    {
     "name": "stdout",
     "output_type": "stream",
     "text": [
      "Current Round: 27, Average Loss: 51.29333128684396, Test Loss: 57.811530627010036, Test Accuracy: 5.700584546424407, Best: 4.711779129113459\n"
     ]
    },
    {
     "name": "stderr",
     "output_type": "stream",
     "text": [
      "100%|██████████| 1/1 [00:01<00:00,  1.70s/it]\n"
     ]
    },
    {
     "name": "stdout",
     "output_type": "stream",
     "text": [
      "Current Round: 28, Average Loss: 52.298535946784575, Test Loss: 36.321910020954775, Test Accuracy: 4.628730206332884, Best: 4.628730206332884\n"
     ]
    },
    {
     "name": "stderr",
     "output_type": "stream",
     "text": [
      "100%|██████████| 1/1 [00:01<00:00,  1.72s/it]\n"
     ]
    },
    {
     "name": "stdout",
     "output_type": "stream",
     "text": [
      "Current Round: 29, Average Loss: 51.89402185769234, Test Loss: 43.80258369918795, Test Accuracy: 5.087996970624268, Best: 4.628730206332884\n"
     ]
    },
    {
     "name": "stderr",
     "output_type": "stream",
     "text": [
      "100%|██████████| 1/1 [00:01<00:00,  1.69s/it]\n"
     ]
    },
    {
     "name": "stdout",
     "output_type": "stream",
     "text": [
      "Current Round: 30, Average Loss: 50.949325239054716, Test Loss: 36.07300212408398, Test Accuracy: 4.807060135275551, Best: 4.628730206332884\n"
     ]
    },
    {
     "name": "stderr",
     "output_type": "stream",
     "text": [
      "100%|██████████| 1/1 [00:01<00:00,  1.72s/it]\n"
     ]
    },
    {
     "name": "stdout",
     "output_type": "stream",
     "text": [
      "Current Round: 31, Average Loss: 50.26885780494787, Test Loss: 36.51700079788426, Test Accuracy: 4.802031910205138, Best: 4.628730206332884\n"
     ]
    },
    {
     "name": "stderr",
     "output_type": "stream",
     "text": [
      "100%|██████████| 1/1 [00:01<00:00,  1.74s/it]\n"
     ]
    },
    {
     "name": "stdout",
     "output_type": "stream",
     "text": [
      "Current Round: 32, Average Loss: 50.7921686827541, Test Loss: 71.34555232029706, Test Accuracy: 6.512241131758291, Best: 4.628730206332884\n"
     ]
    },
    {
     "name": "stderr",
     "output_type": "stream",
     "text": [
      "100%|██████████| 1/1 [00:01<00:00,  1.67s/it]\n"
     ]
    },
    {
     "name": "stdout",
     "output_type": "stream",
     "text": [
      "Current Round: 33, Average Loss: 51.07093880070599, Test Loss: 40.440212967524374, Test Accuracy: 4.922321525332504, Best: 4.628730206332884\n"
     ]
    },
    {
     "name": "stderr",
     "output_type": "stream",
     "text": [
      "100%|██████████| 1/1 [00:01<00:00,  1.69s/it]\n"
     ]
    },
    {
     "name": "stdout",
     "output_type": "stream",
     "text": [
      "Current Round: 34, Average Loss: 50.67324267685352, Test Loss: 37.84841582291775, Test Accuracy: 4.837716397630156, Best: 4.628730206332884\n"
     ]
    },
    {
     "name": "stderr",
     "output_type": "stream",
     "text": [
      "100%|██████████| 1/1 [00:01<00:00,  1.63s/it]\n"
     ]
    },
    {
     "name": "stdout",
     "output_type": "stream",
     "text": [
      "Current Round: 35, Average Loss: 50.55560251494502, Test Loss: 41.130582608425755, Test Accuracy: 4.9768257637757065, Best: 4.628730206332884\n"
     ]
    },
    {
     "name": "stderr",
     "output_type": "stream",
     "text": [
      "100%|██████████| 1/1 [00:01<00:00,  1.69s/it]\n"
     ]
    },
    {
     "name": "stdout",
     "output_type": "stream",
     "text": [
      "Current Round: 36, Average Loss: 51.23995699112143, Test Loss: 35.86726710726885, Test Accuracy: 4.743278633491341, Best: 4.628730206332884\n"
     ]
    },
    {
     "name": "stderr",
     "output_type": "stream",
     "text": [
      "100%|██████████| 1/1 [00:01<00:00,  1.60s/it]\n"
     ]
    },
    {
     "name": "stdout",
     "output_type": "stream",
     "text": [
      "Current Round: 37, Average Loss: 50.36502806163844, Test Loss: 40.11584956056201, Test Accuracy: 4.8929609569495165, Best: 4.628730206332884\n"
     ]
    },
    {
     "name": "stderr",
     "output_type": "stream",
     "text": [
      "100%|██████████| 1/1 [00:01<00:00,  1.70s/it]\n"
     ]
    },
    {
     "name": "stdout",
     "output_type": "stream",
     "text": [
      "Current Round: 38, Average Loss: 49.530286354382945, Test Loss: 38.80895031422321, Test Accuracy: 4.836981823632086, Best: 4.628730206332884\n"
     ]
    },
    {
     "name": "stderr",
     "output_type": "stream",
     "text": [
      "100%|██████████| 1/1 [00:01<00:00,  1.63s/it]\n"
     ]
    },
    {
     "name": "stdout",
     "output_type": "stream",
     "text": [
      "Current Round: 39, Average Loss: 49.96649366425433, Test Loss: 37.90792620115523, Test Accuracy: 4.709167627096916, Best: 4.628730206332884\n"
     ]
    },
    {
     "name": "stderr",
     "output_type": "stream",
     "text": [
      "100%|██████████| 1/1 [00:01<00:00,  1.72s/it]\n"
     ]
    },
    {
     "name": "stdout",
     "output_type": "stream",
     "text": [
      "Current Round: 40, Average Loss: 50.327306334692324, Test Loss: 40.2895654937309, Test Accuracy: 4.880121322130462, Best: 4.628730206332884\n"
     ]
    },
    {
     "name": "stderr",
     "output_type": "stream",
     "text": [
      "100%|██████████| 1/1 [00:01<00:00,  1.70s/it]\n"
     ]
    },
    {
     "name": "stdout",
     "output_type": "stream",
     "text": [
      "Current Round: 41, Average Loss: 49.228185670637814, Test Loss: 36.019244061001174, Test Accuracy: 4.657751602485027, Best: 4.628730206332884\n"
     ]
    },
    {
     "name": "stderr",
     "output_type": "stream",
     "text": [
      "100%|██████████| 1/1 [00:01<00:00,  1.60s/it]\n"
     ]
    },
    {
     "name": "stdout",
     "output_type": "stream",
     "text": [
      "Current Round: 42, Average Loss: 49.57703836607268, Test Loss: 54.31976027941009, Test Accuracy: 5.711963786002796, Best: 4.628730206332884\n"
     ]
    },
    {
     "name": "stderr",
     "output_type": "stream",
     "text": [
      "100%|██████████| 1/1 [00:01<00:00,  1.68s/it]\n"
     ]
    },
    {
     "name": "stdout",
     "output_type": "stream",
     "text": [
      "Current Round: 43, Average Loss: 49.87804072344258, Test Loss: 45.39852051282624, Test Accuracy: 5.189100257225533, Best: 4.628730206332884\n"
     ]
    },
    {
     "name": "stderr",
     "output_type": "stream",
     "text": [
      "100%|██████████| 1/1 [00:01<00:00,  1.65s/it]\n"
     ]
    },
    {
     "name": "stdout",
     "output_type": "stream",
     "text": [
      "Current Round: 44, Average Loss: 48.72172014589273, Test Loss: 37.91488632206878, Test Accuracy: 4.8147750968010765, Best: 4.628730206332884\n"
     ]
    },
    {
     "name": "stderr",
     "output_type": "stream",
     "text": [
      "100%|██████████| 1/1 [00:01<00:00,  1.62s/it]\n"
     ]
    },
    {
     "name": "stdout",
     "output_type": "stream",
     "text": [
      "Current Round: 45, Average Loss: 49.53409869449943, Test Loss: 36.82739966830628, Test Accuracy: 4.686307889367214, Best: 4.628730206332884\n"
     ]
    },
    {
     "name": "stderr",
     "output_type": "stream",
     "text": [
      "100%|██████████| 1/1 [00:01<00:00,  1.63s/it]\n"
     ]
    },
    {
     "name": "stdout",
     "output_type": "stream",
     "text": [
      "Current Round: 46, Average Loss: 49.3026164371229, Test Loss: 42.20803783816428, Test Accuracy: 5.01467211558371, Best: 4.628730206332884\n"
     ]
    },
    {
     "name": "stderr",
     "output_type": "stream",
     "text": [
      "100%|██████████| 1/1 [00:01<00:00,  1.69s/it]\n"
     ]
    },
    {
     "name": "stdout",
     "output_type": "stream",
     "text": [
      "Current Round: 47, Average Loss: 48.706855081682406, Test Loss: 35.57973049090504, Test Accuracy: 4.723307350002603, Best: 4.628730206332884\n"
     ]
    },
    {
     "name": "stderr",
     "output_type": "stream",
     "text": [
      "100%|██████████| 1/1 [00:01<00:00,  1.65s/it]\n"
     ]
    },
    {
     "name": "stdout",
     "output_type": "stream",
     "text": [
      "Current Round: 48, Average Loss: 48.804974196115694, Test Loss: 38.072437402260505, Test Accuracy: 4.876733700680718, Best: 4.628730206332884\n"
     ]
    },
    {
     "name": "stderr",
     "output_type": "stream",
     "text": [
      "100%|██████████| 1/1 [00:01<00:00,  1.67s/it]\n"
     ]
    },
    {
     "name": "stdout",
     "output_type": "stream",
     "text": [
      "Current Round: 49, Average Loss: 48.81604240488439, Test Loss: 39.20611543412986, Test Accuracy: 4.959972277533099, Best: 4.628730206332884\n"
     ]
    },
    {
     "name": "stderr",
     "output_type": "stream",
     "text": [
      "100%|██████████| 1/1 [00:01<00:00,  1.64s/it]\n"
     ]
    },
    {
     "name": "stdout",
     "output_type": "stream",
     "text": [
      "Current Round: 50, Average Loss: 48.84146272289396, Test Loss: 40.724733855217345, Test Accuracy: 4.902600441522947, Best: 4.628730206332884\n"
     ]
    },
    {
     "name": "stderr",
     "output_type": "stream",
     "text": [
      "100%|██████████| 1/1 [00:01<00:00,  1.64s/it]\n"
     ]
    },
    {
     "name": "stdout",
     "output_type": "stream",
     "text": [
      "Current Round: 51, Average Loss: 48.784666239521314, Test Loss: 36.0347949061716, Test Accuracy: 4.745145318822985, Best: 4.628730206332884\n"
     ]
    },
    {
     "name": "stderr",
     "output_type": "stream",
     "text": [
      "100%|██████████| 1/1 [00:01<00:00,  1.65s/it]\n"
     ]
    },
    {
     "name": "stdout",
     "output_type": "stream",
     "text": [
      "Current Round: 52, Average Loss: 49.39957157598871, Test Loss: 40.75621353877825, Test Accuracy: 4.999224774525613, Best: 4.628730206332884\n"
     ]
    },
    {
     "name": "stderr",
     "output_type": "stream",
     "text": [
      "100%|██████████| 1/1 [00:01<00:00,  1.67s/it]\n"
     ]
    },
    {
     "name": "stdout",
     "output_type": "stream",
     "text": [
      "Current Round: 53, Average Loss: 48.70722050523906, Test Loss: 39.302426945401955, Test Accuracy: 4.885102016025645, Best: 4.628730206332884\n"
     ]
    },
    {
     "name": "stderr",
     "output_type": "stream",
     "text": [
      "100%|██████████| 1/1 [00:01<00:00,  1.67s/it]\n"
     ]
    },
    {
     "name": "stdout",
     "output_type": "stream",
     "text": [
      "Current Round: 54, Average Loss: 48.174047951430566, Test Loss: 33.86024193193184, Test Accuracy: 4.526832294404987, Best: 4.526832294404987\n"
     ]
    },
    {
     "name": "stderr",
     "output_type": "stream",
     "text": [
      "100%|██████████| 1/1 [00:01<00:00,  1.69s/it]\n"
     ]
    },
    {
     "name": "stdout",
     "output_type": "stream",
     "text": [
      "Current Round: 55, Average Loss: 47.574199454438634, Test Loss: 35.86017130445562, Test Accuracy: 4.7341252165556105, Best: 4.526832294404987\n"
     ]
    },
    {
     "name": "stderr",
     "output_type": "stream",
     "text": [
      "100%|██████████| 1/1 [00:01<00:00,  1.60s/it]\n"
     ]
    },
    {
     "name": "stdout",
     "output_type": "stream",
     "text": [
      "Current Round: 56, Average Loss: 48.06852893678229, Test Loss: 41.932970050544526, Test Accuracy: 4.9820829085215825, Best: 4.526832294404987\n"
     ]
    },
    {
     "name": "stderr",
     "output_type": "stream",
     "text": [
      "100%|██████████| 1/1 [00:01<00:00,  1.62s/it]\n"
     ]
    },
    {
     "name": "stdout",
     "output_type": "stream",
     "text": [
      "Current Round: 57, Average Loss: 47.904162918942326, Test Loss: 36.99505063841525, Test Accuracy: 4.7758337660598515, Best: 4.526832294404987\n"
     ]
    },
    {
     "name": "stderr",
     "output_type": "stream",
     "text": [
      "100%|██████████| 1/1 [00:01<00:00,  1.66s/it]\n"
     ]
    },
    {
     "name": "stdout",
     "output_type": "stream",
     "text": [
      "Current Round: 58, Average Loss: 48.18272630650136, Test Loss: 36.66729991744929, Test Accuracy: 4.6744832880217615, Best: 4.526832294404987\n"
     ]
    },
    {
     "name": "stderr",
     "output_type": "stream",
     "text": [
      "100%|██████████| 1/1 [00:01<00:00,  1.69s/it]\n"
     ]
    },
    {
     "name": "stdout",
     "output_type": "stream",
     "text": [
      "Current Round: 59, Average Loss: 48.46629273325585, Test Loss: 34.166910068632575, Test Accuracy: 4.529080946106979, Best: 4.526832294404987\n"
     ]
    },
    {
     "name": "stderr",
     "output_type": "stream",
     "text": [
      "100%|██████████| 1/1 [00:01<00:00,  1.66s/it]\n"
     ]
    },
    {
     "name": "stdout",
     "output_type": "stream",
     "text": [
      "Current Round: 60, Average Loss: 47.984436247113074, Test Loss: 37.53459999240561, Test Accuracy: 4.842040847712101, Best: 4.526832294404987\n"
     ]
    },
    {
     "name": "stderr",
     "output_type": "stream",
     "text": [
      "100%|██████████| 1/1 [00:01<00:00,  1.62s/it]\n"
     ]
    },
    {
     "name": "stdout",
     "output_type": "stream",
     "text": [
      "Current Round: 61, Average Loss: 47.88969960424598, Test Loss: 38.22507263722807, Test Accuracy: 4.728464352441588, Best: 4.526832294404987\n"
     ]
    },
    {
     "name": "stderr",
     "output_type": "stream",
     "text": [
      "100%|██████████| 1/1 [00:01<00:00,  1.71s/it]\n"
     ]
    },
    {
     "name": "stdout",
     "output_type": "stream",
     "text": [
      "Current Round: 62, Average Loss: 46.9233350220607, Test Loss: 38.32468853954639, Test Accuracy: 4.801259650403642, Best: 4.526832294404987\n"
     ]
    },
    {
     "name": "stderr",
     "output_type": "stream",
     "text": [
      "100%|██████████| 1/1 [00:01<00:00,  1.62s/it]\n"
     ]
    },
    {
     "name": "stdout",
     "output_type": "stream",
     "text": [
      "Current Round: 63, Average Loss: 47.429028125306964, Test Loss: 39.88552487509929, Test Accuracy: 5.046905418249368, Best: 4.526832294404987\n"
     ]
    },
    {
     "name": "stderr",
     "output_type": "stream",
     "text": [
      "100%|██████████| 1/1 [00:01<00:00,  1.67s/it]\n"
     ]
    },
    {
     "name": "stdout",
     "output_type": "stream",
     "text": [
      "Current Round: 64, Average Loss: 46.70255590025573, Test Loss: 45.196703949258406, Test Accuracy: 5.46968420115008, Best: 4.526832294404987\n"
     ]
    },
    {
     "name": "stderr",
     "output_type": "stream",
     "text": [
      "100%|██████████| 1/1 [00:01<00:00,  1.68s/it]\n"
     ]
    },
    {
     "name": "stdout",
     "output_type": "stream",
     "text": [
      "Current Round: 65, Average Loss: 48.09068617503724, Test Loss: 34.47311251782809, Test Accuracy: 4.5251551543565105, Best: 4.5251551543565105\n"
     ]
    },
    {
     "name": "stderr",
     "output_type": "stream",
     "text": [
      "100%|██████████| 1/1 [00:01<00:00,  1.67s/it]\n"
     ]
    },
    {
     "name": "stdout",
     "output_type": "stream",
     "text": [
      "Current Round: 66, Average Loss: 47.27450261419903, Test Loss: 34.577753549470565, Test Accuracy: 4.537840666419146, Best: 4.5251551543565105\n"
     ]
    },
    {
     "name": "stderr",
     "output_type": "stream",
     "text": [
      "100%|██████████| 1/1 [00:01<00:00,  1.66s/it]\n"
     ]
    },
    {
     "name": "stdout",
     "output_type": "stream",
     "text": [
      "Current Round: 67, Average Loss: 47.22251312776225, Test Loss: 34.82853024004412, Test Accuracy: 4.6330009408419865, Best: 4.5251551543565105\n"
     ]
    },
    {
     "name": "stderr",
     "output_type": "stream",
     "text": [
      "100%|██████████| 1/1 [00:01<00:00,  1.68s/it]\n"
     ]
    },
    {
     "name": "stdout",
     "output_type": "stream",
     "text": [
      "Current Round: 68, Average Loss: 46.833605125235394, Test Loss: 34.15123660684149, Test Accuracy: 4.644460657998337, Best: 4.5251551543565105\n"
     ]
    },
    {
     "name": "stderr",
     "output_type": "stream",
     "text": [
      "100%|██████████| 1/1 [00:01<00:00,  1.70s/it]\n"
     ]
    },
    {
     "name": "stdout",
     "output_type": "stream",
     "text": [
      "Current Round: 69, Average Loss: 46.526358637742405, Test Loss: 37.854638293006744, Test Accuracy: 4.9799821360541365, Best: 4.5251551543565105\n"
     ]
    },
    {
     "name": "stderr",
     "output_type": "stream",
     "text": [
      "100%|██████████| 1/1 [00:01<00:00,  1.71s/it]\n"
     ]
    },
    {
     "name": "stdout",
     "output_type": "stream",
     "text": [
      "Current Round: 70, Average Loss: 46.855347806094144, Test Loss: 35.573144053052985, Test Accuracy: 4.687193111980176, Best: 4.5251551543565105\n"
     ]
    },
    {
     "name": "stderr",
     "output_type": "stream",
     "text": [
      "100%|██████████| 1/1 [00:01<00:00,  1.69s/it]\n"
     ]
    },
    {
     "name": "stdout",
     "output_type": "stream",
     "text": [
      "Current Round: 71, Average Loss: 47.19699731209834, Test Loss: 38.385171995499974, Test Accuracy: 4.987045578977297, Best: 4.5251551543565105\n"
     ]
    },
    {
     "name": "stderr",
     "output_type": "stream",
     "text": [
      "100%|██████████| 1/1 [00:01<00:00,  1.70s/it]\n"
     ]
    },
    {
     "name": "stdout",
     "output_type": "stream",
     "text": [
      "Current Round: 72, Average Loss: 46.92300544355066, Test Loss: 32.98635924328061, Test Accuracy: 4.507994408793724, Best: 4.507994408793724\n"
     ]
    },
    {
     "name": "stderr",
     "output_type": "stream",
     "text": [
      "100%|██████████| 1/1 [00:01<00:00,  1.58s/it]\n"
     ]
    },
    {
     "name": "stdout",
     "output_type": "stream",
     "text": [
      "Current Round: 73, Average Loss: 46.974465750531, Test Loss: 34.08066736683665, Test Accuracy: 4.625298156549084, Best: 4.507994408793724\n"
     ]
    },
    {
     "name": "stderr",
     "output_type": "stream",
     "text": [
      "100%|██████████| 1/1 [00:01<00:00,  1.66s/it]\n"
     ]
    },
    {
     "name": "stdout",
     "output_type": "stream",
     "text": [
      "Current Round: 74, Average Loss: 46.7981837825532, Test Loss: 49.50191217317244, Test Accuracy: 5.4466403859487915, Best: 4.507994408793724\n"
     ]
    },
    {
     "name": "stderr",
     "output_type": "stream",
     "text": [
      "100%|██████████| 1/1 [00:01<00:00,  1.68s/it]\n"
     ]
    },
    {
     "name": "stdout",
     "output_type": "stream",
     "text": [
      "Current Round: 75, Average Loss: 46.842535890072654, Test Loss: 33.23564674864625, Test Accuracy: 4.532135612833079, Best: 4.507994408793724\n"
     ]
    },
    {
     "name": "stderr",
     "output_type": "stream",
     "text": [
      "100%|██████████| 1/1 [00:01<00:00,  1.66s/it]\n"
     ]
    },
    {
     "name": "stdout",
     "output_type": "stream",
     "text": [
      "Current Round: 76, Average Loss: 46.86827156468995, Test Loss: 33.84071925731453, Test Accuracy: 4.5466112537703305, Best: 4.507994408793724\n"
     ]
    },
    {
     "name": "stderr",
     "output_type": "stream",
     "text": [
      "100%|██████████| 1/1 [00:01<00:00,  1.68s/it]\n"
     ]
    },
    {
     "name": "stdout",
     "output_type": "stream",
     "text": [
      "Current Round: 77, Average Loss: 46.66366276203909, Test Loss: 37.72735995619621, Test Accuracy: 4.997779042101468, Best: 4.507994408793724\n"
     ]
    },
    {
     "name": "stderr",
     "output_type": "stream",
     "text": [
      "100%|██████████| 1/1 [00:01<00:00,  1.65s/it]\n"
     ]
    },
    {
     "name": "stdout",
     "output_type": "stream",
     "text": [
      "Current Round: 78, Average Loss: 46.321079516829684, Test Loss: 36.82793534238074, Test Accuracy: 4.877454292973745, Best: 4.507994408793724\n"
     ]
    },
    {
     "name": "stderr",
     "output_type": "stream",
     "text": [
      "100%|██████████| 1/1 [00:01<00:00,  1.67s/it]\n"
     ]
    },
    {
     "name": "stdout",
     "output_type": "stream",
     "text": [
      "Current Round: 79, Average Loss: 47.071034565031056, Test Loss: 39.28474903520559, Test Accuracy: 4.952269597298893, Best: 4.507994408793724\n"
     ]
    },
    {
     "name": "stderr",
     "output_type": "stream",
     "text": [
      "100%|██████████| 1/1 [00:01<00:00,  1.68s/it]\n"
     ]
    },
    {
     "name": "stdout",
     "output_type": "stream",
     "text": [
      "Current Round: 80, Average Loss: 46.08219493822603, Test Loss: 36.20846895689707, Test Accuracy: 4.76570116623691, Best: 4.507994408793724\n"
     ]
    },
    {
     "name": "stderr",
     "output_type": "stream",
     "text": [
      "100%|██████████| 1/1 [00:01<00:00,  1.71s/it]\n"
     ]
    },
    {
     "name": "stdout",
     "output_type": "stream",
     "text": [
      "Current Round: 81, Average Loss: 47.48118658956067, Test Loss: 39.757762569562296, Test Accuracy: 4.961858353257106, Best: 4.507994408793724\n"
     ]
    },
    {
     "name": "stderr",
     "output_type": "stream",
     "text": [
      "100%|██████████| 1/1 [00:01<00:00,  1.69s/it]\n"
     ]
    },
    {
     "name": "stdout",
     "output_type": "stream",
     "text": [
      "Current Round: 82, Average Loss: 46.365449215911646, Test Loss: 42.66825413097895, Test Accuracy: 5.191523890722928, Best: 4.507994408793724\n"
     ]
    },
    {
     "name": "stderr",
     "output_type": "stream",
     "text": [
      "100%|██████████| 1/1 [00:01<00:00,  1.72s/it]\n"
     ]
    },
    {
     "name": "stdout",
     "output_type": "stream",
     "text": [
      "Current Round: 83, Average Loss: 45.91563752398095, Test Loss: 33.19346237182617, Test Accuracy: 4.493613364307761, Best: 4.493613364307761\n"
     ]
    },
    {
     "name": "stderr",
     "output_type": "stream",
     "text": [
      "100%|██████████| 1/1 [00:01<00:00,  1.71s/it]\n"
     ]
    },
    {
     "name": "stdout",
     "output_type": "stream",
     "text": [
      "Current Round: 84, Average Loss: 46.015894685890444, Test Loss: 34.41184381483803, Test Accuracy: 4.62105866093408, Best: 4.493613364307761\n"
     ]
    },
    {
     "name": "stderr",
     "output_type": "stream",
     "text": [
      "100%|██████████| 1/1 [00:01<00:00,  1.63s/it]\n"
     ]
    },
    {
     "name": "stdout",
     "output_type": "stream",
     "text": [
      "Current Round: 85, Average Loss: 46.39056495721694, Test Loss: 35.91411010212434, Test Accuracy: 4.697472368347962, Best: 4.493613364307761\n"
     ]
    },
    {
     "name": "stderr",
     "output_type": "stream",
     "text": [
      "100%|██████████| 1/1 [00:01<00:00,  1.66s/it]\n"
     ]
    },
    {
     "name": "stdout",
     "output_type": "stream",
     "text": [
      "Current Round: 86, Average Loss: 45.64806341131186, Test Loss: 41.88262816711161, Test Accuracy: 5.104492111820947, Best: 4.493613364307761\n"
     ]
    },
    {
     "name": "stderr",
     "output_type": "stream",
     "text": [
      "100%|██████████| 1/1 [00:01<00:00,  1.65s/it]\n"
     ]
    },
    {
     "name": "stdout",
     "output_type": "stream",
     "text": [
      "Current Round: 87, Average Loss: 46.03614971293608, Test Loss: 33.87531133889413, Test Accuracy: 4.57050200507867, Best: 4.493613364307761\n"
     ]
    },
    {
     "name": "stderr",
     "output_type": "stream",
     "text": [
      "100%|██████████| 1/1 [00:01<00:00,  1.68s/it]\n"
     ]
    },
    {
     "name": "stdout",
     "output_type": "stream",
     "text": [
      "Current Round: 88, Average Loss: 45.47756625131784, Test Loss: 37.77227309854298, Test Accuracy: 4.731731296546402, Best: 4.493613364307761\n"
     ]
    },
    {
     "name": "stderr",
     "output_type": "stream",
     "text": [
      "100%|██████████| 1/1 [00:01<00:00,  1.61s/it]\n"
     ]
    },
    {
     "name": "stdout",
     "output_type": "stream",
     "text": [
      "Current Round: 89, Average Loss: 46.43653353258449, Test Loss: 34.18772462961915, Test Accuracy: 4.579737950021705, Best: 4.493613364307761\n"
     ]
    },
    {
     "name": "stderr",
     "output_type": "stream",
     "text": [
      "100%|██████████| 1/1 [00:01<00:00,  1.66s/it]\n"
     ]
    },
    {
     "name": "stdout",
     "output_type": "stream",
     "text": [
      "Current Round: 90, Average Loss: 46.021063481106495, Test Loss: 39.178279517233484, Test Accuracy: 4.864389108562055, Best: 4.493613364307761\n"
     ]
    },
    {
     "name": "stderr",
     "output_type": "stream",
     "text": [
      "100%|██████████| 1/1 [00:01<00:00,  1.65s/it]\n"
     ]
    },
    {
     "name": "stdout",
     "output_type": "stream",
     "text": [
      "Current Round: 91, Average Loss: 45.94373928836161, Test Loss: 33.85098868959525, Test Accuracy: 4.5847271625402914, Best: 4.493613364307761\n"
     ]
    },
    {
     "name": "stderr",
     "output_type": "stream",
     "text": [
      "100%|██████████| 1/1 [00:01<00:00,  1.68s/it]\n"
     ]
    },
    {
     "name": "stdout",
     "output_type": "stream",
     "text": [
      "Current Round: 92, Average Loss: 46.29745077723846, Test Loss: 35.63046013606829, Test Accuracy: 4.7730166511512, Best: 4.493613364307761\n"
     ]
    },
    {
     "name": "stderr",
     "output_type": "stream",
     "text": [
      "100%|██████████| 1/1 [00:01<00:00,  1.61s/it]\n"
     ]
    },
    {
     "name": "stdout",
     "output_type": "stream",
     "text": [
      "Current Round: 93, Average Loss: 45.982616696306806, Test Loss: 42.18995546126913, Test Accuracy: 4.9924307159215715, Best: 4.493613364307761\n"
     ]
    },
    {
     "name": "stderr",
     "output_type": "stream",
     "text": [
      "100%|██████████| 1/1 [00:01<00:00,  1.66s/it]\n"
     ]
    },
    {
     "name": "stdout",
     "output_type": "stream",
     "text": [
      "Current Round: 94, Average Loss: 46.333903724835984, Test Loss: 35.82012782655587, Test Accuracy: 4.632465097672142, Best: 4.493613364307761\n"
     ]
    },
    {
     "name": "stderr",
     "output_type": "stream",
     "text": [
      "100%|██████████| 1/1 [00:01<00:00,  1.66s/it]\n"
     ]
    },
    {
     "name": "stdout",
     "output_type": "stream",
     "text": [
      "Current Round: 95, Average Loss: 45.61331807450923, Test Loss: 33.54444599092487, Test Accuracy: 4.522380514316358, Best: 4.493613364307761\n"
     ]
    },
    {
     "name": "stderr",
     "output_type": "stream",
     "text": [
      "100%|██████████| 1/1 [00:01<00:00,  1.62s/it]\n"
     ]
    },
    {
     "name": "stdout",
     "output_type": "stream",
     "text": [
      "Current Round: 96, Average Loss: 45.88810176737671, Test Loss: 33.29247623545297, Test Accuracy: 4.492055380928243, Best: 4.492055380928243\n"
     ]
    },
    {
     "name": "stderr",
     "output_type": "stream",
     "text": [
      "100%|██████████| 1/1 [00:01<00:00,  1.70s/it]\n"
     ]
    },
    {
     "name": "stdout",
     "output_type": "stream",
     "text": [
      "Current Round: 97, Average Loss: 45.31349480313923, Test Loss: 35.09072848542906, Test Accuracy: 4.653904178758918, Best: 4.492055380928243\n"
     ]
    },
    {
     "name": "stderr",
     "output_type": "stream",
     "text": [
      "100%|██████████| 1/1 [00:01<00:00,  1.66s/it]\n"
     ]
    },
    {
     "name": "stdout",
     "output_type": "stream",
     "text": [
      "Current Round: 98, Average Loss: 45.365660815316154, Test Loss: 35.63328605457928, Test Accuracy: 4.829298233439001, Best: 4.492055380928243\n"
     ]
    },
    {
     "name": "stderr",
     "output_type": "stream",
     "text": [
      "100%|██████████| 1/1 [00:01<00:00,  1.55s/it]\n"
     ]
    },
    {
     "name": "stdout",
     "output_type": "stream",
     "text": [
      "Current Round: 99, Average Loss: 45.213722521200125, Test Loss: 36.54904365421302, Test Accuracy: 4.837247315209916, Best: 4.492055380928243\n"
     ]
    },
    {
     "name": "stderr",
     "output_type": "stream",
     "text": [
      "100%|██████████| 1/1 [00:01<00:00,  1.58s/it]"
     ]
    },
    {
     "name": "stdout",
     "output_type": "stream",
     "text": [
      "Current Round: 100, Average Loss: 45.093515198878734, Test Loss: 33.820873524192244, Test Accuracy: 4.5270242803376135, Best: 4.492055380928243\n",
      "Training Done!\n",
      "Best Accuracy: 4.492055380928243\n",
      "Total time taken to Train: 181.89389157295227\n"
     ]
    },
    {
     "name": "stderr",
     "output_type": "stream",
     "text": [
      "\n"
     ]
    }
   ],
   "source": [
    "one_dict = {}\n",
    "one_dict[0] = np.arange(14515)\n",
    "num=2\n",
    "for i in range(4):\n",
    "    criterion = nn.MSELoss()\n",
    "    model = RegressionModel(11)\n",
    "    model.cuda()\n",
    "    filename = f\"BuildingFL_NOFL{num}\"\n",
    "    while os.path.isfile(filename):\n",
    "        print('Name is taken...trying again...')\n",
    "        num += 1\n",
    "        filename = f\"BuildingFL_NOFL{num}\"\n",
    "    training(model, 100, 16, 0.001, './data/dataloader.csv', one_dict, 1.0, 1, 1, 'plot_str', \"green\", './data/dataloader.csv', 16, criterion, 10, 10, False, filename, 1.0)"
   ]
  },
  {
   "cell_type": "code",
   "execution_count": 54,
   "metadata": {},
   "outputs": [
    {
     "data": {
      "text/plain": [
       "1612.8000000000002"
      ]
     },
     "execution_count": 54,
     "metadata": {},
     "output_type": "execute_result"
    }
   ],
   "source": [
    "16128 * .1"
   ]
  },
  {
   "cell_type": "code",
   "execution_count": null,
   "metadata": {},
   "outputs": [],
   "source": []
  }
 ],
 "metadata": {
  "kernelspec": {
   "display_name": "Python 3",
   "language": "python",
   "name": "python3"
  },
  "language_info": {
   "codemirror_mode": {
    "name": "ipython",
    "version": 3
   },
   "file_extension": ".py",
   "mimetype": "text/x-python",
   "name": "python",
   "nbconvert_exporter": "python",
   "pygments_lexer": "ipython3",
   "version": "3.8.10"
  },
  "orig_nbformat": 4
 },
 "nbformat": 4,
 "nbformat_minor": 2
}
